{
 "cells": [
  {
   "cell_type": "markdown",
   "id": "f01edff1",
   "metadata": {},
   "source": [
    "## Домашнее задание"
   ]
  },
  {
   "cell_type": "markdown",
   "id": "b567a069",
   "metadata": {},
   "source": [
    "**Задача 1**\n",
    "\n",
    "Необходимо дописать функцию ``fun_zad_1``. На входе: список чисел ``num_list`` (количество работников в разных отделах) и число ``n``. На выходе: сумма всех чисел списка меньше либо равных $n$ (число работников в отделах, где сотруднков меньше либо равно ``n``).\n",
    "\n",
    "Со звездочкой &#9734;:  попробуй записать решение в одну строчку."
   ]
  },
  {
   "cell_type": "code",
   "execution_count": 246,
   "id": "b4d0578f",
   "metadata": {
    "ExecuteTime": {
     "end_time": "2022-04-24T12:26:31.673815Z",
     "start_time": "2022-04-24T12:26:31.670886Z"
    }
   },
   "outputs": [],
   "source": [
    "fun_zad_1 = lambda num_list, n: sum(num_list[i] for i in range(len(num_list)) if num_list[i] <= n)"
   ]
  },
  {
   "cell_type": "code",
   "execution_count": 247,
   "id": "f8104f88",
   "metadata": {
    "ExecuteTime": {
     "end_time": "2022-04-24T12:26:53.308341Z",
     "start_time": "2022-04-24T12:26:53.305068Z"
    }
   },
   "outputs": [
    {
     "data": {
      "text/plain": [
       "True"
      ]
     },
     "execution_count": 247,
     "metadata": {},
     "output_type": "execute_result"
    }
   ],
   "source": [
    "fun_zad_1([1, 2, 3, 4, 5, 6, 3, 7], 7) == 31"
   ]
  },
  {
   "cell_type": "code",
   "execution_count": 249,
   "id": "9292eaee",
   "metadata": {
    "ExecuteTime": {
     "end_time": "2022-04-24T12:27:52.222665Z",
     "start_time": "2022-04-24T12:27:52.219569Z"
    }
   },
   "outputs": [
    {
     "data": {
      "text/plain": [
       "True"
      ]
     },
     "execution_count": 249,
     "metadata": {},
     "output_type": "execute_result"
    }
   ],
   "source": [
    "fun_zad_1([2, 2, 9, 4, 1, 6, 3, 7], 3) == 8"
   ]
  },
  {
   "cell_type": "code",
   "execution_count": 252,
   "id": "4f090e44",
   "metadata": {
    "ExecuteTime": {
     "end_time": "2022-04-24T12:29:16.135326Z",
     "start_time": "2022-04-24T12:29:16.131193Z"
    }
   },
   "outputs": [
    {
     "data": {
      "text/plain": [
       "True"
      ]
     },
     "execution_count": 252,
     "metadata": {},
     "output_type": "execute_result"
    }
   ],
   "source": [
    "random.seed(666)\n",
    "fun_zad_1([random.randint(0, 200) for _ in range(1000)], 100) == 26473"
   ]
  },
  {
   "cell_type": "markdown",
   "id": "f28f5d3d",
   "metadata": {},
   "source": [
    "**Задача 2**\n",
    "\n",
    "Написать функцию, принимающую число ``n`` и считающую ``n!`` (не используя модуль ``math``)\n",
    "\n",
    "$n! = 1 \\cdot 2 \\cdot 3 \\cdot \\dots \\cdot (n - 1) \\cdot n$\n",
    "\n",
    "***Hint***: можно вызывать функцию реккурентно."
   ]
  },
  {
   "cell_type": "code",
   "execution_count": 254,
   "id": "a5d7e13d",
   "metadata": {
    "ExecuteTime": {
     "end_time": "2022-04-24T12:33:23.540926Z",
     "start_time": "2022-04-24T12:33:23.538776Z"
    }
   },
   "outputs": [],
   "source": [
    "def fact_2(n):\n",
    "    if n == 0: \n",
    "        return 1 \n",
    "    else: \n",
    "        return n * function_2_1(n-1) "
   ]
  },
  {
   "cell_type": "markdown",
   "id": "eb44db81",
   "metadata": {},
   "source": [
    "Проверка:"
   ]
  },
  {
   "cell_type": "code",
   "execution_count": 256,
   "id": "45aa1fc8",
   "metadata": {
    "ExecuteTime": {
     "end_time": "2022-04-24T12:33:24.295289Z",
     "start_time": "2022-04-24T12:33:24.292236Z"
    }
   },
   "outputs": [
    {
     "data": {
      "text/plain": [
       "True"
      ]
     },
     "execution_count": 256,
     "metadata": {},
     "output_type": "execute_result"
    }
   ],
   "source": [
    "fact_2(5) == 120"
   ]
  },
  {
   "cell_type": "code",
   "execution_count": 257,
   "id": "4d4a61e0",
   "metadata": {
    "ExecuteTime": {
     "end_time": "2022-04-24T12:33:24.765972Z",
     "start_time": "2022-04-24T12:33:24.762290Z"
    }
   },
   "outputs": [
    {
     "data": {
      "text/plain": [
       "True"
      ]
     },
     "execution_count": 257,
     "metadata": {},
     "output_type": "execute_result"
    }
   ],
   "source": [
    "fact_2(9) == 362880"
   ]
  },
  {
   "cell_type": "code",
   "execution_count": 258,
   "id": "8f724158",
   "metadata": {
    "ExecuteTime": {
     "end_time": "2022-04-24T12:33:25.476584Z",
     "start_time": "2022-04-24T12:33:25.473639Z"
    }
   },
   "outputs": [
    {
     "data": {
      "text/plain": [
       "True"
      ]
     },
     "execution_count": 258,
     "metadata": {},
     "output_type": "execute_result"
    }
   ],
   "source": [
    "fact_2(13) == 6227020800"
   ]
  },
  {
   "cell_type": "markdown",
   "id": "507712e9",
   "metadata": {},
   "source": [
    "**Задание 3**\n",
    "\n",
    "Написать функцию ``fun_zad_3``, генерирующее все простые числа не больше заданного числа"
   ]
  },
  {
   "cell_type": "code",
   "execution_count": 272,
   "id": "0caadcf3",
   "metadata": {
    "ExecuteTime": {
     "end_time": "2022-04-24T13:21:04.608961Z",
     "start_time": "2022-04-24T13:21:04.606587Z"
    }
   },
   "outputs": [],
   "source": [
    "fun_zad_3 = lambda n: [ i  for i in np.arange(2,n+1)  if 0 not in np.array([i] * (i-2) ) % np.arange(2,i)]"
   ]
  },
  {
   "cell_type": "code",
   "execution_count": 273,
   "id": "b138e78b",
   "metadata": {
    "ExecuteTime": {
     "end_time": "2022-04-24T13:21:10.586336Z",
     "start_time": "2022-04-24T13:21:10.583382Z"
    }
   },
   "outputs": [
    {
     "data": {
      "text/plain": [
       "True"
      ]
     },
     "execution_count": 273,
     "metadata": {},
     "output_type": "execute_result"
    }
   ],
   "source": [
    "fun_zad_3(3) == [2, 3]"
   ]
  },
  {
   "cell_type": "code",
   "execution_count": 274,
   "id": "9c973a7d",
   "metadata": {
    "ExecuteTime": {
     "end_time": "2022-04-24T13:21:14.225438Z",
     "start_time": "2022-04-24T13:21:14.222442Z"
    }
   },
   "outputs": [
    {
     "data": {
      "text/plain": [
       "True"
      ]
     },
     "execution_count": 274,
     "metadata": {},
     "output_type": "execute_result"
    }
   ],
   "source": [
    "fun_zad_3(10) == [2, 3, 5, 7]"
   ]
  },
  {
   "cell_type": "code",
   "execution_count": 270,
   "id": "7a8848b6",
   "metadata": {
    "ExecuteTime": {
     "end_time": "2022-04-24T13:19:36.400828Z",
     "start_time": "2022-04-24T13:19:36.397360Z"
    }
   },
   "outputs": [
    {
     "data": {
      "text/plain": [
       "True"
      ]
     },
     "execution_count": 270,
     "metadata": {},
     "output_type": "execute_result"
    }
   ],
   "source": [
    "fun_zad_3(20) == [2, 3, 5, 7, 11, 13, 17, 19]"
   ]
  },
  {
   "cell_type": "markdown",
   "id": "2175de99",
   "metadata": {},
   "source": [
    "**Задача 2.**\n",
    "Попробуйте сделать то, что вам может потребоваться при обработке отзывов:\n",
    "1. Разбить на строки\n",
    "1. Соединить строки через другие разделители (например, запятые)\n",
    "1. Получить значение поля \"время\"\n",
    "1. Получить пары \"название поля - значение\""
   ]
  },
  {
   "cell_type": "code",
   "execution_count": 39,
   "id": "a9ff96a1",
   "metadata": {},
   "outputs": [
    {
     "data": {
      "text/plain": [
       "'Время: 10:34\\nДата: 20.05.2017\\nОценка: 1\\nДлительность разговора (мин.): 0:32\\nКомментарий: Общение с сотрудником вашей техподдержки мне не понравилось. Раньше всегда отвечала девушка с приятным голосом, а сегодня какой-то мужчина. Совсем никуда не годится, примите меры!!!\\n'"
      ]
     },
     "execution_count": 39,
     "metadata": {},
     "output_type": "execute_result"
    }
   ],
   "source": [
    "s1 = \"\"\"Время: 10:34\n",
    "Дата: 20.05.2017\n",
    "Оценка: 1\n",
    "Длительность разговора (мин.): 0:32\n",
    "Комментарий: Общение с сотрудником вашей техподдержки мне не понравилось. Раньше всегда отвечала девушка с приятным голосом, а сегодня какой-то мужчина. Совсем никуда не годится, примите меры!!!\n",
    "\"\"\"\n",
    "\n",
    "s2 = \"\"\"Время: 9:20\n",
    "Дата: 21.05.2017\n",
    "Оценка: 5\n",
    "Длительность разговора (мин.): 25:07\n",
    "Комментарий: С моей проблемой мне помогли, большое спасибо!\n",
    "\"\"\"\n",
    "\n",
    "s1"
   ]
  },
  {
   "cell_type": "code",
   "execution_count": 42,
   "id": "c6128f82",
   "metadata": {},
   "outputs": [
    {
     "data": {
      "text/plain": [
       "['Время: 10:34',\n",
       " 'Дата: 20.05.2017',\n",
       " 'Оценка: 1',\n",
       " 'Длительность разговора (мин.): 0:32',\n",
       " 'Комментарий: Общение с сотрудником вашей техподдержки мне не понравилось. Раньше всегда отвечала девушка с приятным голосом, а сегодня какой-то мужчина. Совсем никуда не годится, примите меры!!!',\n",
       " '']"
      ]
     },
     "execution_count": 42,
     "metadata": {},
     "output_type": "execute_result"
    }
   ],
   "source": [
    "splitted = s1.split('\\n')\n",
    "splitted"
   ]
  },
  {
   "cell_type": "code",
   "execution_count": 45,
   "id": "3a10a63b",
   "metadata": {},
   "outputs": [
    {
     "data": {
      "text/plain": [
       "'Время: 10:34, Дата: 20.05.2017, Оценка: 1, Длительность разговора (мин.): 0:32, Комментарий: Общение с сотрудником вашей техподдержки мне не понравилось. Раньше всегда отвечала девушка с приятным голосом, а сегодня какой-то мужчина. Совсем никуда не годится, примите меры!!!, '"
      ]
     },
     "execution_count": 45,
     "metadata": {},
     "output_type": "execute_result"
    }
   ],
   "source": [
    "s3 = \", \".join(splitted)\n",
    "s3"
   ]
  },
  {
   "cell_type": "code",
   "execution_count": 48,
   "id": "99ad5abc",
   "metadata": {},
   "outputs": [
    {
     "name": "stdout",
     "output_type": "stream",
     "text": [
      "['abc', 'nabc']\n"
     ]
    }
   ],
   "source": [
    "b = 'abc\\\\nabc'\n",
    "print(b.split('\\\\'))"
   ]
  },
  {
   "cell_type": "code",
   "execution_count": 49,
   "id": "82d49ce4",
   "metadata": {},
   "outputs": [
    {
     "name": "stdout",
     "output_type": "stream",
     "text": [
      "сейчас будет текст 'в кавычках'\n"
     ]
    }
   ],
   "source": [
    "s4 = \"сейчас будет текст 'в кавычках'\"\n",
    "print(s4)"
   ]
  },
  {
   "cell_type": "code",
   "execution_count": 56,
   "id": "2df575ec",
   "metadata": {},
   "outputs": [
    {
     "name": "stdout",
     "output_type": "stream",
     "text": [
      "Время: \n",
      " 9:20\n"
     ]
    }
   ],
   "source": [
    "time = s2.split('\\n')[0]\n",
    "h = time[:7]\n",
    "m = time[-5:]\n",
    "print(h)\n",
    "print(m)"
   ]
  },
  {
   "cell_type": "code",
   "execution_count": 57,
   "id": "a2bfd613",
   "metadata": {},
   "outputs": [
    {
     "name": "stdout",
     "output_type": "stream",
     "text": [
      "Время\n",
      "9:20\n"
     ]
    }
   ],
   "source": [
    "splitted_line = s2.split('\\n')[0].split(': ')\n",
    "field_name = splitted_line[0]\n",
    "field_value = splitted_line[1]\n",
    "print(field_name)\n",
    "print(field_value)"
   ]
  },
  {
   "cell_type": "code",
   "execution_count": 78,
   "id": "2647adb3",
   "metadata": {},
   "outputs": [
    {
     "data": {
      "text/plain": [
       "[['Время', '10:34'],\n",
       " ['Дата', '20.05.2017'],\n",
       " ['Оценка', '1'],\n",
       " ['Длительность разговора (мин.)', '0:32'],\n",
       " ['Комментарий',\n",
       "  'Общение с сотрудником вашей техподдержки мне не понравилось. Раньше всегда отвечала девушка с приятным голосом, а сегодня какой-то мужчина. Совсем никуда не годится, примите меры!!!']]"
      ]
     },
     "execution_count": 78,
     "metadata": {},
     "output_type": "execute_result"
    }
   ],
   "source": [
    "list = []\n",
    "for line in s1.split('\\n'):\n",
    "    if line:\n",
    "        splitted_line = line.split(': ')\n",
    "        field = [splitted_line[0], splitted_line[1]]\n",
    "        list.append(field)\n",
    "list"
   ]
  },
  {
   "cell_type": "code",
   "execution_count": 86,
   "id": "709df400",
   "metadata": {},
   "outputs": [
    {
     "name": "stdout",
     "output_type": "stream",
     "text": [
      "Время -> 10:34;\n",
      "Дата -> 20.05.2017;\n",
      "Оценка -> 1;\n",
      "Длительность разговора (мин.) -> 0:32;\n",
      "Комментарий -> Общение с сотрудником вашей техподдержки мне не понравилось. Раньше всегда отвечала девушка с приятным голосом, а сегодня какой-то мужчина. Совсем никуда не годится, примите меры!!!;\n",
      "\n"
     ]
    }
   ],
   "source": [
    "print(';\\n'.join([' -> '.join(line.split(': ')) for line in s1.split('\\n')]))"
   ]
  },
  {
   "cell_type": "code",
   "execution_count": null,
   "id": "035fc234",
   "metadata": {},
   "outputs": [],
   "source": []
  }
 ],
 "metadata": {
  "hide_input": false,
  "kernelspec": {
   "display_name": "Python 3 (ipykernel)",
   "language": "python",
   "name": "python3"
  },
  "language_info": {
   "codemirror_mode": {
    "name": "ipython",
    "version": 3
   },
   "file_extension": ".py",
   "mimetype": "text/x-python",
   "name": "python",
   "nbconvert_exporter": "python",
   "pygments_lexer": "ipython3",
   "version": "3.11.6"
  },
  "latex_envs": {
   "LaTeX_envs_menu_present": true,
   "autoclose": true,
   "autocomplete": true,
   "bibliofile": "biblio.bib",
   "cite_by": "apalike",
   "current_citInitial": 1,
   "eqLabelWithNumbers": true,
   "eqNumInitial": 1,
   "hotkeys": {
    "equation": "Ctrl-E",
    "itemize": "Ctrl-I"
   },
   "labels_anchors": false,
   "latex_user_defs": false,
   "report_style_numbering": false,
   "user_envs_cfg": false
  },
  "toc": {
   "base_numbering": 1,
   "nav_menu": {},
   "number_sections": true,
   "sideBar": true,
   "skip_h1_title": false,
   "title_cell": "Table of Contents",
   "title_sidebar": "Contents",
   "toc_cell": false,
   "toc_position": {},
   "toc_section_display": true,
   "toc_window_display": false
  },
  "varInspector": {
   "cols": {
    "lenName": 16,
    "lenType": 16,
    "lenVar": 40
   },
   "kernels_config": {
    "python": {
     "delete_cmd_postfix": "",
     "delete_cmd_prefix": "del ",
     "library": "var_list.py",
     "varRefreshCmd": "print(var_dic_list())"
    },
    "r": {
     "delete_cmd_postfix": ") ",
     "delete_cmd_prefix": "rm(",
     "library": "var_list.r",
     "varRefreshCmd": "cat(var_dic_list()) "
    }
   },
   "types_to_exclude": [
    "module",
    "function",
    "builtin_function_or_method",
    "instance",
    "_Feature"
   ],
   "window_display": false
  }
 },
 "nbformat": 4,
 "nbformat_minor": 5
}
