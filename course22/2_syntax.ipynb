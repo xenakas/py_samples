{
 "cells": [
  {
   "cell_type": "markdown",
   "id": "f6104eb7",
   "metadata": {},
   "source": [
    "# Синтаксис Python"
   ]
  },
  {
   "cell_type": "markdown",
   "id": "6b657441",
   "metadata": {},
   "source": [
    "$\\LaTeX $ в Markdown  $$ \\int_0^\\infty \\sin(x)\\cos(x)dx $$"
   ]
  },
  {
   "cell_type": "code",
   "execution_count": 3,
   "id": "8c11ab91",
   "metadata": {
    "ExecuteTime": {
     "end_time": "2022-04-24T09:18:12.108361Z",
     "start_time": "2022-04-24T09:18:12.103734Z"
    }
   },
   "outputs": [],
   "source": [
    "a = 1.23"
   ]
  },
  {
   "cell_type": "markdown",
   "id": "57fa9c93",
   "metadata": {
    "variables": {
     "a": {}
    }
   },
   "source": [
    "a is {{a}}"
   ]
  },
  {
   "cell_type": "code",
   "execution_count": 6,
   "id": "7d0f1825",
   "metadata": {
    "ExecuteTime": {
     "end_time": "2022-04-24T09:19:56.722555Z",
     "start_time": "2022-04-24T09:19:56.584963Z"
    }
   },
   "outputs": [
    {
     "name": "stdout",
     "output_type": "stream",
     "text": [
      "dir2022  Untitled1.ipynb  Untitled.ipynb\r\n"
     ]
    }
   ],
   "source": [
    "!ls"
   ]
  },
  {
   "cell_type": "code",
   "execution_count": 5,
   "id": "41167d7f",
   "metadata": {
    "ExecuteTime": {
     "end_time": "2022-04-24T09:19:54.459737Z",
     "start_time": "2022-04-24T09:19:54.330378Z"
    }
   },
   "outputs": [],
   "source": [
    "!mkdir dir2022"
   ]
  },
  {
   "cell_type": "code",
   "execution_count": 9,
   "id": "9e14ed2a",
   "metadata": {
    "ExecuteTime": {
     "end_time": "2022-04-24T09:21:13.147145Z",
     "start_time": "2022-04-24T09:21:13.005071Z"
    }
   },
   "outputs": [
    {
     "name": "stdout",
     "output_type": "stream",
     "text": [
      "mv: cannot stat 'dir2022': No such file or directory\r\n"
     ]
    }
   ],
   "source": [
    "!mv dir2022 dir2021"
   ]
  },
  {
   "cell_type": "code",
   "execution_count": 10,
   "id": "6d568a73",
   "metadata": {
    "ExecuteTime": {
     "end_time": "2022-04-24T09:21:20.880662Z",
     "start_time": "2022-04-24T09:21:20.745723Z"
    }
   },
   "outputs": [
    {
     "name": "stdout",
     "output_type": "stream",
     "text": [
      "dir2021  Untitled1.ipynb  Untitled.ipynb\r\n"
     ]
    }
   ],
   "source": [
    "!ls"
   ]
  },
  {
   "cell_type": "code",
   "execution_count": 12,
   "id": "f2a3a720",
   "metadata": {
    "ExecuteTime": {
     "end_time": "2022-04-24T09:23:38.519481Z",
     "start_time": "2022-04-24T09:23:38.512301Z"
    }
   },
   "outputs": [],
   "source": [
    "a = 'dir2021'\n",
    "b = 'dir2023'"
   ]
  },
  {
   "cell_type": "code",
   "execution_count": 14,
   "id": "d539a77d",
   "metadata": {
    "ExecuteTime": {
     "end_time": "2022-04-24T09:26:49.175514Z",
     "start_time": "2022-04-24T09:26:49.038253Z"
    }
   },
   "outputs": [],
   "source": [
    "!mv {a} {b}"
   ]
  },
  {
   "cell_type": "code",
   "execution_count": 16,
   "id": "3f37bc83",
   "metadata": {
    "ExecuteTime": {
     "end_time": "2022-04-24T09:27:01.615264Z",
     "start_time": "2022-04-24T09:27:01.476278Z"
    }
   },
   "outputs": [
    {
     "name": "stdout",
     "output_type": "stream",
     "text": [
      "dir2023  Untitled1.ipynb  Untitled.ipynb\r\n"
     ]
    }
   ],
   "source": [
    "!ls"
   ]
  },
  {
   "cell_type": "markdown",
   "id": "2f777b49",
   "metadata": {},
   "source": [
    "## int floats bools"
   ]
  },
  {
   "cell_type": "code",
   "execution_count": 24,
   "id": "af8aaa60",
   "metadata": {
    "ExecuteTime": {
     "end_time": "2022-04-24T09:32:24.781834Z",
     "start_time": "2022-04-24T09:32:24.774448Z"
    }
   },
   "outputs": [
    {
     "data": {
      "text/plain": [
       "-5"
      ]
     },
     "execution_count": 24,
     "metadata": {},
     "output_type": "execute_result"
    }
   ],
   "source": [
    "11 // 2\n",
    "-11 // 2\n",
    "-(11 // 2)"
   ]
  },
  {
   "cell_type": "code",
   "execution_count": 25,
   "id": "08a37d3c",
   "metadata": {
    "ExecuteTime": {
     "end_time": "2022-04-24T09:32:26.777521Z",
     "start_time": "2022-04-24T09:32:26.770545Z"
    },
    "scrolled": true
   },
   "outputs": [
    {
     "data": {
      "text/plain": [
       "21.419999999999998"
      ]
     },
     "execution_count": 25,
     "metadata": {},
     "output_type": "execute_result"
    }
   ],
   "source": [
    "b = 4.2 * 5.1\n",
    "b"
   ]
  },
  {
   "cell_type": "code",
   "execution_count": 29,
   "id": "59f62a60",
   "metadata": {
    "ExecuteTime": {
     "end_time": "2022-04-24T09:33:00.753287Z",
     "start_time": "2022-04-24T09:33:00.747627Z"
    }
   },
   "outputs": [],
   "source": [
    "a=1/3"
   ]
  },
  {
   "cell_type": "code",
   "execution_count": 30,
   "id": "369df55e",
   "metadata": {
    "ExecuteTime": {
     "end_time": "2022-04-24T09:33:02.205004Z",
     "start_time": "2022-04-24T09:33:02.196410Z"
    }
   },
   "outputs": [
    {
     "data": {
      "text/plain": [
       "0.3333333333333333"
      ]
     },
     "execution_count": 30,
     "metadata": {},
     "output_type": "execute_result"
    }
   ],
   "source": [
    "a"
   ]
  },
  {
   "cell_type": "code",
   "execution_count": 34,
   "id": "7026aa8a",
   "metadata": {
    "ExecuteTime": {
     "end_time": "2022-04-24T09:33:43.319726Z",
     "start_time": "2022-04-24T09:33:43.311028Z"
    }
   },
   "outputs": [
    {
     "data": {
      "text/plain": [
       "False"
      ]
     },
     "execution_count": 34,
     "metadata": {},
     "output_type": "execute_result"
    }
   ],
   "source": [
    "a==1-2/3"
   ]
  },
  {
   "cell_type": "code",
   "execution_count": 41,
   "id": "702434f9",
   "metadata": {
    "ExecuteTime": {
     "end_time": "2022-04-24T09:36:55.382979Z",
     "start_time": "2022-04-24T09:36:55.374218Z"
    }
   },
   "outputs": [
    {
     "data": {
      "text/plain": [
       "'0.33333333333333331483'"
      ]
     },
     "execution_count": 41,
     "metadata": {},
     "output_type": "execute_result"
    }
   ],
   "source": [
    "format(a, '.20f')"
   ]
  },
  {
   "cell_type": "code",
   "execution_count": 42,
   "id": "4ad5c0e8",
   "metadata": {
    "ExecuteTime": {
     "end_time": "2022-04-24T09:37:05.010186Z",
     "start_time": "2022-04-24T09:37:05.000341Z"
    }
   },
   "outputs": [
    {
     "data": {
      "text/plain": [
       "'0.33333333333333337034'"
      ]
     },
     "execution_count": 42,
     "metadata": {},
     "output_type": "execute_result"
    }
   ],
   "source": [
    "format((1-2/3), '.20f')"
   ]
  },
  {
   "cell_type": "code",
   "execution_count": 49,
   "id": "db7e3995",
   "metadata": {
    "ExecuteTime": {
     "end_time": "2022-04-24T09:40:05.661542Z",
     "start_time": "2022-04-24T09:40:05.651479Z"
    }
   },
   "outputs": [
    {
     "data": {
      "text/plain": [
       "True"
      ]
     },
     "execution_count": 49,
     "metadata": {},
     "output_type": "execute_result"
    }
   ],
   "source": [
    "# a-(1-2/3)<10**(-10)\n",
    "a-(1-2/3)<1e-10"
   ]
  },
  {
   "cell_type": "code",
   "execution_count": 43,
   "id": "4f01a607",
   "metadata": {
    "ExecuteTime": {
     "end_time": "2022-04-24T09:37:59.748487Z",
     "start_time": "2022-04-24T09:37:59.740537Z"
    }
   },
   "outputs": [
    {
     "data": {
      "text/plain": [
       "True"
      ]
     },
     "execution_count": 43,
     "metadata": {},
     "output_type": "execute_result"
    }
   ],
   "source": [
    "round(a, 5) == round(1-2/3, 5)"
   ]
  },
  {
   "cell_type": "code",
   "execution_count": 8,
   "id": "67d521df",
   "metadata": {},
   "outputs": [
    {
     "name": "stdout",
     "output_type": "stream",
     "text": [
      "5.551115123125783e-17\n"
     ]
    }
   ],
   "source": [
    "a = 0.1 + 0.2\n",
    "print(a - 0.3)"
   ]
  },
  {
   "cell_type": "code",
   "execution_count": 46,
   "id": "42933cdd",
   "metadata": {
    "ExecuteTime": {
     "end_time": "2022-04-24T09:39:11.779539Z",
     "start_time": "2022-04-24T09:39:11.773806Z"
    }
   },
   "outputs": [],
   "source": [
    "from math import isclose"
   ]
  },
  {
   "cell_type": "code",
   "execution_count": 48,
   "id": "79980fb7",
   "metadata": {
    "ExecuteTime": {
     "end_time": "2022-04-24T09:39:31.392551Z",
     "start_time": "2022-04-24T09:39:31.382996Z"
    }
   },
   "outputs": [
    {
     "data": {
      "text/plain": [
       "True"
      ]
     },
     "execution_count": 48,
     "metadata": {},
     "output_type": "execute_result"
    }
   ],
   "source": [
    "isclose(a,1-2/3)"
   ]
  },
  {
   "cell_type": "code",
   "execution_count": 50,
   "id": "20f58d75",
   "metadata": {
    "ExecuteTime": {
     "end_time": "2022-04-24T09:46:08.621743Z",
     "start_time": "2022-04-24T09:46:08.619137Z"
    }
   },
   "outputs": [
    {
     "name": "stdout",
     "output_type": "stream",
     "text": [
      "0\n",
      "2\n",
      "False\n"
     ]
    }
   ],
   "source": [
    "print(True * False)\n",
    "print(True + True)\n",
    "print(False and False)"
   ]
  },
  {
   "cell_type": "code",
   "execution_count": 56,
   "id": "a870a090",
   "metadata": {
    "ExecuteTime": {
     "end_time": "2022-04-24T09:48:11.634394Z",
     "start_time": "2022-04-24T09:48:11.631222Z"
    }
   },
   "outputs": [],
   "source": [
    "import random as rd"
   ]
  },
  {
   "cell_type": "code",
   "execution_count": 58,
   "id": "71e68545",
   "metadata": {
    "ExecuteTime": {
     "end_time": "2022-04-24T09:48:15.658372Z",
     "start_time": "2022-04-24T09:48:15.654615Z"
    }
   },
   "outputs": [
    {
     "data": {
      "text/plain": [
       "5"
      ]
     },
     "execution_count": 58,
     "metadata": {},
     "output_type": "execute_result"
    }
   ],
   "source": [
    "rd.randint(1,10)"
   ]
  },
  {
   "cell_type": "code",
   "execution_count": 59,
   "id": "3085a193",
   "metadata": {
    "ExecuteTime": {
     "end_time": "2022-04-24T09:48:35.794758Z",
     "start_time": "2022-04-24T09:48:35.790037Z"
    }
   },
   "outputs": [
    {
     "data": {
      "text/plain": [
       "[2, 10, 5, 5, 3, 4, 4, 8, 5, 1]"
      ]
     },
     "execution_count": 59,
     "metadata": {},
     "output_type": "execute_result"
    }
   ],
   "source": [
    "[rd.randint(1,10) for i in range(10)]"
   ]
  },
  {
   "cell_type": "code",
   "execution_count": 60,
   "id": "6a06c68b",
   "metadata": {
    "ExecuteTime": {
     "end_time": "2022-04-24T09:49:12.986289Z",
     "start_time": "2022-04-24T09:49:12.982185Z"
    }
   },
   "outputs": [],
   "source": [
    "import numpy.random as npr"
   ]
  },
  {
   "cell_type": "code",
   "execution_count": 64,
   "id": "71c055bd",
   "metadata": {
    "ExecuteTime": {
     "end_time": "2022-04-24T09:50:09.771837Z",
     "start_time": "2022-04-24T09:50:09.766326Z"
    }
   },
   "outputs": [
    {
     "data": {
      "text/plain": [
       "array([8, 4, 5, 8, 4, 3, 2, 1, 1, 7])"
      ]
     },
     "execution_count": 64,
     "metadata": {},
     "output_type": "execute_result"
    }
   ],
   "source": [
    "a = npr.randint(1,10,10)\n",
    "a"
   ]
  },
  {
   "cell_type": "code",
   "execution_count": 66,
   "id": "c1dbd2ca",
   "metadata": {
    "ExecuteTime": {
     "end_time": "2022-04-24T09:50:17.866575Z",
     "start_time": "2022-04-24T09:50:17.861207Z"
    }
   },
   "outputs": [
    {
     "data": {
      "text/plain": [
       "2"
      ]
     },
     "execution_count": 66,
     "metadata": {},
     "output_type": "execute_result"
    }
   ],
   "source": [
    "sum(a==1)"
   ]
  },
  {
   "cell_type": "code",
   "execution_count": 70,
   "id": "210c1965",
   "metadata": {
    "ExecuteTime": {
     "end_time": "2022-04-24T09:51:31.161694Z",
     "start_time": "2022-04-24T09:51:31.156230Z"
    }
   },
   "outputs": [
    {
     "data": {
      "text/plain": [
       "1"
      ]
     },
     "execution_count": 70,
     "metadata": {},
     "output_type": "execute_result"
    }
   ],
   "source": [
    "math.prod(a<10)"
   ]
  },
  {
   "cell_type": "code",
   "execution_count": 68,
   "id": "9c3e6a95",
   "metadata": {
    "ExecuteTime": {
     "end_time": "2022-04-24T09:50:57.374144Z",
     "start_time": "2022-04-24T09:50:57.369552Z"
    }
   },
   "outputs": [
    {
     "data": {
      "text/plain": [
       "0"
      ]
     },
     "execution_count": 68,
     "metadata": {},
     "output_type": "execute_result"
    }
   ],
   "source": [
    "np.prod(a==1)"
   ]
  },
  {
   "cell_type": "markdown",
   "id": "7e821bf2",
   "metadata": {},
   "source": [
    "**Условия**"
   ]
  },
  {
   "cell_type": "code",
   "execution_count": 71,
   "id": "b57eb861",
   "metadata": {
    "ExecuteTime": {
     "end_time": "2022-04-24T09:52:03.753845Z",
     "start_time": "2022-04-24T09:52:03.749187Z"
    }
   },
   "outputs": [
    {
     "name": "stdout",
     "output_type": "stream",
     "text": [
      "No or not sure\n"
     ]
    }
   ],
   "source": [
    "p = 2\n",
    "x = (\"Yes\" if p == 1 else \"No or not sure\")\n",
    "print(x)"
   ]
  },
  {
   "cell_type": "code",
   "execution_count": 72,
   "id": "5dc01584",
   "metadata": {
    "ExecuteTime": {
     "end_time": "2022-04-24T09:52:11.286221Z",
     "start_time": "2022-04-24T09:52:11.281788Z"
    }
   },
   "outputs": [
    {
     "name": "stdout",
     "output_type": "stream",
     "text": [
      "Not sure\n"
     ]
    }
   ],
   "source": [
    "p = 0.352 + 0.314\n",
    "\n",
    "if p == 0.666:\n",
    "    print(\"Yes\")\n",
    "else:\n",
    "    print(\"Not sure\")"
   ]
  },
  {
   "cell_type": "code",
   "execution_count": 73,
   "id": "ffda0029",
   "metadata": {
    "ExecuteTime": {
     "end_time": "2022-04-24T09:52:14.601773Z",
     "start_time": "2022-04-24T09:52:14.598743Z"
    }
   },
   "outputs": [
    {
     "data": {
      "text/plain": [
       "True"
      ]
     },
     "execution_count": 73,
     "metadata": {},
     "output_type": "execute_result"
    }
   ],
   "source": [
    "g = 0.352 + 0.314\n",
    "b = 0.666\n",
    "epsilon = 1.0 * 10**(-6)\n",
    "abs(g - b) < epsilon\n"
   ]
  },
  {
   "cell_type": "markdown",
   "id": "9c4fed3e",
   "metadata": {},
   "source": [
    "## None"
   ]
  },
  {
   "cell_type": "code",
   "execution_count": 74,
   "id": "090da7c9",
   "metadata": {
    "ExecuteTime": {
     "end_time": "2022-04-24T09:52:48.778202Z",
     "start_time": "2022-04-24T09:52:48.773976Z"
    }
   },
   "outputs": [
    {
     "name": "stdout",
     "output_type": "stream",
     "text": [
      "None\n",
      "<class 'NoneType'>\n"
     ]
    }
   ],
   "source": [
    "z = None\n",
    "print(z)\n",
    "print(type(z))"
   ]
  },
  {
   "cell_type": "code",
   "execution_count": 75,
   "id": "09e357de",
   "metadata": {
    "ExecuteTime": {
     "end_time": "2022-04-24T09:52:49.705924Z",
     "start_time": "2022-04-24T09:52:49.701710Z"
    }
   },
   "outputs": [
    {
     "ename": "TypeError",
     "evalue": "int() argument must be a string, a bytes-like object or a number, not 'NoneType'",
     "output_type": "error",
     "traceback": [
      "\u001b[0;31m---------------------------------------------------------------------------\u001b[0m",
      "\u001b[0;31mTypeError\u001b[0m                                 Traceback (most recent call last)",
      "\u001b[0;32m<ipython-input-75-caf6459d7a1e>\u001b[0m in \u001b[0;36m<module>\u001b[0;34m\u001b[0m\n\u001b[0;32m----> 1\u001b[0;31m \u001b[0mprint\u001b[0m\u001b[0;34m(\u001b[0m\u001b[0mint\u001b[0m\u001b[0;34m(\u001b[0m\u001b[0mz\u001b[0m\u001b[0;34m)\u001b[0m\u001b[0;34m)\u001b[0m\u001b[0;34m\u001b[0m\u001b[0;34m\u001b[0m\u001b[0m\n\u001b[0m",
      "\u001b[0;31mTypeError\u001b[0m: int() argument must be a string, a bytes-like object or a number, not 'NoneType'"
     ]
    }
   ],
   "source": [
    "print(int(z))"
   ]
  },
  {
   "cell_type": "code",
   "execution_count": 76,
   "id": "f028dcd9",
   "metadata": {
    "ExecuteTime": {
     "end_time": "2022-04-24T09:53:04.506091Z",
     "start_time": "2022-04-24T09:53:04.503288Z"
    }
   },
   "outputs": [
    {
     "name": "stdout",
     "output_type": "stream",
     "text": [
      "None\n"
     ]
    }
   ],
   "source": [
    "print(str(None))"
   ]
  },
  {
   "cell_type": "markdown",
   "id": "fc8feef8",
   "metadata": {},
   "source": [
    "## Строки"
   ]
  },
  {
   "cell_type": "markdown",
   "id": "5f02fdaf",
   "metadata": {},
   "source": [
    "### str"
   ]
  },
  {
   "cell_type": "code",
   "execution_count": 77,
   "id": "79ec43c7",
   "metadata": {
    "ExecuteTime": {
     "end_time": "2022-04-24T09:53:52.445766Z",
     "start_time": "2022-04-24T09:53:52.441480Z"
    }
   },
   "outputs": [
    {
     "name": "stdout",
     "output_type": "stream",
     "text": [
      "True\n",
      "False\n",
      "False\n",
      "False\n",
      "True\n"
     ]
    }
   ],
   "source": [
    "print(bool(4))\n",
    "print(bool(\"\"))\n",
    "print(bool(None))\n",
    "print(bool(0))\n",
    "print(bool(\"0\"))"
   ]
  },
  {
   "cell_type": "code",
   "execution_count": 81,
   "id": "df02bcd5",
   "metadata": {
    "ExecuteTime": {
     "end_time": "2022-04-24T09:54:31.929695Z",
     "start_time": "2022-04-24T09:54:31.924635Z"
    }
   },
   "outputs": [
    {
     "name": "stdout",
     "output_type": "stream",
     "text": [
      "0\n",
      "\n",
      "None\n"
     ]
    }
   ],
   "source": [
    "print(0 and \"\")\n",
    "print(1 and \"\")\n",
    "print(None and \"\")"
   ]
  },
  {
   "cell_type": "code",
   "execution_count": 25,
   "id": "3bb3fa0d",
   "metadata": {},
   "outputs": [
    {
     "name": "stdout",
     "output_type": "stream",
     "text": [
      "\n",
      "1\n",
      "\n"
     ]
    }
   ],
   "source": [
    "print(0 or \"\")\n",
    "print(1 or \"\")\n",
    "print(None or \"\")"
   ]
  },
  {
   "cell_type": "code",
   "execution_count": 29,
   "id": "31d5dc3a",
   "metadata": {},
   "outputs": [
    {
     "name": "stdout",
     "output_type": "stream",
     "text": [
      "Ivan went home\n",
      "I\n",
      "v\n",
      "Iva\n"
     ]
    }
   ],
   "source": [
    "a=\"Ivan went home\"\n",
    "print(a)\n",
    "print(a[0])\n",
    "print(a[1])\n",
    "print(a[0:3])"
   ]
  },
  {
   "cell_type": "code",
   "execution_count": 32,
   "id": "bdf869be",
   "metadata": {},
   "outputs": [
    {
     "name": "stdout",
     "output_type": "stream",
     "text": [
      "Ia et\n"
     ]
    }
   ],
   "source": [
    "print(a[0:10:2])"
   ]
  },
  {
   "cell_type": "code",
   "execution_count": 33,
   "id": "d371ba62",
   "metadata": {},
   "outputs": [
    {
     "name": "stdout",
     "output_type": "stream",
     "text": [
      "m\n"
     ]
    }
   ],
   "source": [
    "print(a[-2])"
   ]
  },
  {
   "cell_type": "code",
   "execution_count": 34,
   "id": "363de582",
   "metadata": {},
   "outputs": [
    {
     "name": "stdout",
     "output_type": "stream",
     "text": [
      "emoh tnew navI\n"
     ]
    }
   ],
   "source": [
    "print(a[::-1])"
   ]
  },
  {
   "cell_type": "markdown",
   "id": "2175de99",
   "metadata": {},
   "source": [
    "**Задача 2.**\n",
    "Попробуйте сделать то, что вам может потребоваться при обработке отзывов:\n",
    "1. Разбить на строки\n",
    "1. Соединить строки через другие разделители (например, запятые)\n",
    "1. Получить значение поля \"время\"\n",
    "1. Получить пары \"название поля - значение\""
   ]
  },
  {
   "cell_type": "code",
   "execution_count": 39,
   "id": "a9ff96a1",
   "metadata": {},
   "outputs": [
    {
     "data": {
      "text/plain": [
       "'Время: 10:34\\nДата: 20.05.2017\\nОценка: 1\\nДлительность разговора (мин.): 0:32\\nКомментарий: Общение с сотрудником вашей техподдержки мне не понравилось. Раньше всегда отвечала девушка с приятным голосом, а сегодня какой-то мужчина. Совсем никуда не годится, примите меры!!!\\n'"
      ]
     },
     "execution_count": 39,
     "metadata": {},
     "output_type": "execute_result"
    }
   ],
   "source": [
    "s1 = \"\"\"Время: 10:34\n",
    "Дата: 20.05.2017\n",
    "Оценка: 1\n",
    "Длительность разговора (мин.): 0:32\n",
    "Комментарий: Общение с сотрудником вашей техподдержки мне не понравилось. Раньше всегда отвечала девушка с приятным голосом, а сегодня какой-то мужчина. Совсем никуда не годится, примите меры!!!\n",
    "\"\"\"\n",
    "\n",
    "s2 = \"\"\"Время: 9:20\n",
    "Дата: 21.05.2017\n",
    "Оценка: 5\n",
    "Длительность разговора (мин.): 25:07\n",
    "Комментарий: С моей проблемой мне помогли, большое спасибо!\n",
    "\"\"\"\n",
    "\n",
    "s1"
   ]
  },
  {
   "cell_type": "code",
   "execution_count": 42,
   "id": "c6128f82",
   "metadata": {},
   "outputs": [
    {
     "data": {
      "text/plain": [
       "['Время: 10:34',\n",
       " 'Дата: 20.05.2017',\n",
       " 'Оценка: 1',\n",
       " 'Длительность разговора (мин.): 0:32',\n",
       " 'Комментарий: Общение с сотрудником вашей техподдержки мне не понравилось. Раньше всегда отвечала девушка с приятным голосом, а сегодня какой-то мужчина. Совсем никуда не годится, примите меры!!!',\n",
       " '']"
      ]
     },
     "execution_count": 42,
     "metadata": {},
     "output_type": "execute_result"
    }
   ],
   "source": [
    "splitted = s1.split('\\n')\n",
    "splitted"
   ]
  },
  {
   "cell_type": "code",
   "execution_count": 45,
   "id": "3a10a63b",
   "metadata": {},
   "outputs": [
    {
     "data": {
      "text/plain": [
       "'Время: 10:34, Дата: 20.05.2017, Оценка: 1, Длительность разговора (мин.): 0:32, Комментарий: Общение с сотрудником вашей техподдержки мне не понравилось. Раньше всегда отвечала девушка с приятным голосом, а сегодня какой-то мужчина. Совсем никуда не годится, примите меры!!!, '"
      ]
     },
     "execution_count": 45,
     "metadata": {},
     "output_type": "execute_result"
    }
   ],
   "source": [
    "s3 = \", \".join(splitted)\n",
    "s3"
   ]
  },
  {
   "cell_type": "code",
   "execution_count": 48,
   "id": "99ad5abc",
   "metadata": {},
   "outputs": [
    {
     "name": "stdout",
     "output_type": "stream",
     "text": [
      "['abc', 'nabc']\n"
     ]
    }
   ],
   "source": [
    "b = 'abc\\\\nabc'\n",
    "print(b.split('\\\\'))"
   ]
  },
  {
   "cell_type": "code",
   "execution_count": 49,
   "id": "82d49ce4",
   "metadata": {},
   "outputs": [
    {
     "name": "stdout",
     "output_type": "stream",
     "text": [
      "сейчас будет текст 'в кавычках'\n"
     ]
    }
   ],
   "source": [
    "s4 = \"сейчас будет текст 'в кавычках'\"\n",
    "print(s4)"
   ]
  },
  {
   "cell_type": "code",
   "execution_count": 56,
   "id": "2df575ec",
   "metadata": {},
   "outputs": [
    {
     "name": "stdout",
     "output_type": "stream",
     "text": [
      "Время: \n",
      " 9:20\n"
     ]
    }
   ],
   "source": [
    "time = s2.split('\\n')[0]\n",
    "h = time[:7]\n",
    "m = time[-5:]\n",
    "print(h)\n",
    "print(m)"
   ]
  },
  {
   "cell_type": "code",
   "execution_count": 57,
   "id": "a2bfd613",
   "metadata": {},
   "outputs": [
    {
     "name": "stdout",
     "output_type": "stream",
     "text": [
      "Время\n",
      "9:20\n"
     ]
    }
   ],
   "source": [
    "splitted_line = s2.split('\\n')[0].split(': ')\n",
    "field_name = splitted_line[0]\n",
    "field_value = splitted_line[1]\n",
    "print(field_name)\n",
    "print(field_value)"
   ]
  },
  {
   "cell_type": "code",
   "execution_count": 78,
   "id": "2647adb3",
   "metadata": {},
   "outputs": [
    {
     "data": {
      "text/plain": [
       "[['Время', '10:34'],\n",
       " ['Дата', '20.05.2017'],\n",
       " ['Оценка', '1'],\n",
       " ['Длительность разговора (мин.)', '0:32'],\n",
       " ['Комментарий',\n",
       "  'Общение с сотрудником вашей техподдержки мне не понравилось. Раньше всегда отвечала девушка с приятным голосом, а сегодня какой-то мужчина. Совсем никуда не годится, примите меры!!!']]"
      ]
     },
     "execution_count": 78,
     "metadata": {},
     "output_type": "execute_result"
    }
   ],
   "source": [
    "list = []\n",
    "for line in s1.split('\\n'):\n",
    "    if line:\n",
    "        splitted_line = line.split(': ')\n",
    "        field = [splitted_line[0], splitted_line[1]]\n",
    "        list.append(field)\n",
    "list"
   ]
  },
  {
   "cell_type": "code",
   "execution_count": 86,
   "id": "709df400",
   "metadata": {},
   "outputs": [
    {
     "name": "stdout",
     "output_type": "stream",
     "text": [
      "Время -> 10:34;\n",
      "Дата -> 20.05.2017;\n",
      "Оценка -> 1;\n",
      "Длительность разговора (мин.) -> 0:32;\n",
      "Комментарий -> Общение с сотрудником вашей техподдержки мне не понравилось. Раньше всегда отвечала девушка с приятным голосом, а сегодня какой-то мужчина. Совсем никуда не годится, примите меры!!!;\n",
      "\n"
     ]
    }
   ],
   "source": [
    "print(';\\n'.join([' -> '.join(line.split(': ')) for line in s1.split('\\n')]))"
   ]
  },
  {
   "cell_type": "markdown",
   "id": "8569480c",
   "metadata": {},
   "source": [
    "## 4. Массивы и циклы"
   ]
  },
  {
   "cell_type": "markdown",
   "id": "1e2891f2",
   "metadata": {},
   "source": [
    "### list"
   ]
  },
  {
   "cell_type": "code",
   "execution_count": 71,
   "id": "d6259b54",
   "metadata": {},
   "outputs": [],
   "source": [
    "saled_goods_count = [33450, 34010, 33990, 33200]\n",
    "saled_goods_count.append(34000)\n",
    "income = [u'Высокий', u'Средний', u'Высокий']\n",
    "names = [u'Элеонора Михайловна', u'Иван Иванович', u'Михаил Абрамович']"
   ]
  },
  {
   "cell_type": "code",
   "execution_count": 72,
   "id": "b5e1af7f",
   "metadata": {},
   "outputs": [
    {
     "data": {
      "text/plain": [
       "<html><body><p>Hello</p></body></html>"
      ]
     },
     "execution_count": 72,
     "metadata": {},
     "output_type": "execute_result"
    }
   ],
   "source": [
    "from bs4 import BeautifulSoup\n",
    "soup = BeautifulSoup(\"Hello\", \"lxml\")\n",
    "soup.contents[0]\n",
    "# u'Hello'\n",
    "soup.originalEncoding\n",
    "# 'ascii'\n",
    "soup"
   ]
  },
  {
   "cell_type": "code",
   "execution_count": 73,
   "id": "18cae0f2",
   "metadata": {},
   "outputs": [
    {
     "name": "stdout",
     "output_type": "stream",
     "text": [
      "Высокий---Средний---Высокий\n"
     ]
    }
   ],
   "source": [
    "print(\"---\".join(income))"
   ]
  },
  {
   "cell_type": "code",
   "execution_count": 77,
   "id": "25f555bf",
   "metadata": {},
   "outputs": [
    {
     "data": {
      "text/plain": [
       "['Ivan Ivanovich', 'Medium', 500000, True]"
      ]
     },
     "execution_count": 77,
     "metadata": {},
     "output_type": "execute_result"
    }
   ],
   "source": [
    "features = ['Ivan Ivanovich', 'Medium', 500000, 12, True]\n",
    "del features[-2]\n",
    "features"
   ]
  },
  {
   "cell_type": "code",
   "execution_count": 70,
   "id": "da784a63",
   "metadata": {},
   "outputs": [
    {
     "name": "stdout",
     "output_type": "stream",
     "text": [
      "[]\n",
      "[]\n",
      "[]\n",
      "[2]\n"
     ]
    }
   ],
   "source": [
    "print([] and [2])\n",
    "print([1] and [])\n",
    "print([] and [])\n",
    "print([1] and [2])"
   ]
  },
  {
   "cell_type": "code",
   "execution_count": 71,
   "id": "a4111f09",
   "metadata": {},
   "outputs": [
    {
     "name": "stdout",
     "output_type": "stream",
     "text": [
      "[2]\n",
      "[1]\n",
      "[]\n",
      "[1]\n"
     ]
    }
   ],
   "source": [
    "print([] or [2])\n",
    "print([1] or [])\n",
    "print([] or [])\n",
    "print([1] or [2])"
   ]
  },
  {
   "cell_type": "markdown",
   "id": "c15f54ca",
   "metadata": {},
   "source": [
    "**list comprehensions и генераторы**"
   ]
  },
  {
   "cell_type": "code",
   "execution_count": 6,
   "id": "d69a23d1",
   "metadata": {
    "ExecuteTime": {
     "end_time": "2022-04-24T08:36:22.800901Z",
     "start_time": "2022-04-24T08:36:22.795191Z"
    }
   },
   "outputs": [
    {
     "name": "stdout",
     "output_type": "stream",
     "text": [
      "<class 'list'>\n",
      "[4, 25, 121]\n"
     ]
    }
   ],
   "source": [
    "x = [k ** 2 for k in range(2, 12, 3) if k != 8]\n",
    "print(type(x))\n",
    "print(x)"
   ]
  },
  {
   "cell_type": "code",
   "execution_count": 92,
   "id": "d72c6813",
   "metadata": {},
   "outputs": [
    {
     "name": "stdout",
     "output_type": "stream",
     "text": [
      "<class 'generator'>\n"
     ]
    }
   ],
   "source": [
    "x = (k ** 2 for k in range(2, 12, 3))\n",
    "print(type(x))"
   ]
  },
  {
   "cell_type": "code",
   "execution_count": 93,
   "id": "1c0c91a2",
   "metadata": {},
   "outputs": [
    {
     "name": "stdout",
     "output_type": "stream",
     "text": [
      "4\n",
      "25\n",
      "64\n",
      "121\n"
     ]
    }
   ],
   "source": [
    "for k in x:\n",
    "    print(k)"
   ]
  },
  {
   "cell_type": "code",
   "execution_count": 94,
   "id": "811634d7",
   "metadata": {},
   "outputs": [],
   "source": [
    "for k in x:\n",
    "    print(k)"
   ]
  },
  {
   "cell_type": "markdown",
   "id": "93625812",
   "metadata": {},
   "source": [
    "## 4. Множества и словари"
   ]
  },
  {
   "cell_type": "markdown",
   "id": "dde4a2ba",
   "metadata": {},
   "source": [
    "### set"
   ]
  },
  {
   "cell_type": "code",
   "execution_count": 101,
   "id": "9077fe08",
   "metadata": {},
   "outputs": [],
   "source": [
    "names = {'Ivan', 'Petr', 'Konstantin'}"
   ]
  },
  {
   "cell_type": "code",
   "execution_count": 102,
   "id": "19d70ce8",
   "metadata": {},
   "outputs": [
    {
     "name": "stdout",
     "output_type": "stream",
     "text": [
      "True\n"
     ]
    }
   ],
   "source": [
    "print('Ivan' in names)"
   ]
  },
  {
   "cell_type": "code",
   "execution_count": 103,
   "id": "1ac34172",
   "metadata": {},
   "outputs": [
    {
     "name": "stdout",
     "output_type": "stream",
     "text": [
      "{'Mikhail', 'Konstantin', 'Ivan', 'Petr'}\n"
     ]
    }
   ],
   "source": [
    "names.add('Mikhail')\n",
    "print(names)"
   ]
  },
  {
   "cell_type": "code",
   "execution_count": 104,
   "id": "3c73c632",
   "metadata": {},
   "outputs": [
    {
     "name": "stdout",
     "output_type": "stream",
     "text": [
      "{'Mikhail', 'Konstantin', 'Ivan', 'Petr'}\n"
     ]
    }
   ],
   "source": [
    "names.add('Mikhail')\n",
    "print(names)"
   ]
  },
  {
   "cell_type": "code",
   "execution_count": 105,
   "id": "e6c670c5",
   "metadata": {},
   "outputs": [
    {
     "name": "stdout",
     "output_type": "stream",
     "text": [
      "{'Konstantin', 'Ivan', 'Petr'}\n"
     ]
    }
   ],
   "source": [
    "names.remove('Mikhail')\n",
    "print(names)"
   ]
  },
  {
   "cell_type": "code",
   "execution_count": 97,
   "id": "4f11d9e2",
   "metadata": {},
   "outputs": [
    {
     "name": "stdout",
     "output_type": "stream",
     "text": [
      "{'Petr', 'Ivan', ('Vladimir', 'Vladimirovich'), 'Konstantin'}\n"
     ]
    }
   ],
   "source": [
    "names.add(('Vladimir', 'Vladimirovich'))\n",
    "print(names)"
   ]
  },
  {
   "cell_type": "code",
   "execution_count": 122,
   "id": "aadba516",
   "metadata": {},
   "outputs": [],
   "source": [
    "m = range(10000)"
   ]
  },
  {
   "cell_type": "code",
   "execution_count": 123,
   "id": "bafdf440",
   "metadata": {},
   "outputs": [
    {
     "name": "stdout",
     "output_type": "stream",
     "text": [
      "False\n",
      "CPU times: user 150 µs, sys: 48 µs, total: 198 µs\n",
      "Wall time: 151 µs\n"
     ]
    }
   ],
   "source": [
    "%%time\n",
    "print(9999999 in m)"
   ]
  },
  {
   "cell_type": "markdown",
   "id": "79f5ea37",
   "metadata": {},
   "source": [
    "### dict"
   ]
  },
  {
   "cell_type": "code",
   "execution_count": 127,
   "id": "412d5111",
   "metadata": {},
   "outputs": [
    {
     "name": "stdout",
     "output_type": "stream",
     "text": [
      "{'I': 2, 'am': 1}\n"
     ]
    }
   ],
   "source": [
    "words_frequencies = {'I': 2, 'am': 1}\n",
    "print(words_frequencies)"
   ]
  },
  {
   "cell_type": "markdown",
   "id": "480a4a31",
   "metadata": {},
   "source": [
    "## 5. Функции, lambda-функции, работа с библиотечными модулями и функциями."
   ]
  },
  {
   "cell_type": "markdown",
   "id": "20966a47",
   "metadata": {},
   "source": [
    "#### Распаковка списков"
   ]
  },
  {
   "cell_type": "code",
   "execution_count": 7,
   "id": "813ac56d",
   "metadata": {},
   "outputs": [],
   "source": [
    "x, y = 1, 'a'\n",
    "x, y = (1, 'a')\n",
    "x, y, z = ['1', 2, None]"
   ]
  },
  {
   "cell_type": "code",
   "execution_count": 10,
   "id": "6475f355",
   "metadata": {},
   "outputs": [
    {
     "name": "stdout",
     "output_type": "stream",
     "text": [
      "42 fourty two\n"
     ]
    }
   ],
   "source": [
    "x = 42\n",
    "y = 'fourty two'\n",
    "print(x, y)"
   ]
  },
  {
   "cell_type": "code",
   "execution_count": 11,
   "id": "4f6fcf56",
   "metadata": {},
   "outputs": [
    {
     "name": "stdout",
     "output_type": "stream",
     "text": [
      "fourty two 42\n"
     ]
    }
   ],
   "source": [
    "x, y = y, x\n",
    "print(x, y)"
   ]
  },
  {
   "cell_type": "markdown",
   "id": "87209432",
   "metadata": {},
   "source": [
    "#### zip"
   ]
  },
  {
   "cell_type": "code",
   "execution_count": 12,
   "id": "d9e69a5f",
   "metadata": {},
   "outputs": [
    {
     "name": "stdout",
     "output_type": "stream",
     "text": [
      "<zip object at 0x7f217c74cf08>\n",
      "[('a', 1), ('b', None), (7, 'q')]\n"
     ]
    }
   ],
   "source": [
    "a = ['a', 'b', 7]\n",
    "b = [1, None, 'q']\n",
    "print(zip(a, b))\n",
    "print(list(zip(a, b)))"
   ]
  },
  {
   "cell_type": "code",
   "execution_count": 14,
   "id": "58d185f9",
   "metadata": {},
   "outputs": [
    {
     "name": "stdout",
     "output_type": "stream",
     "text": [
      "first is \"a\", second is \"1\"\n",
      "first is \"b\", second is \"None\"\n",
      "first is \"7\", second is \"q\"\n"
     ]
    }
   ],
   "source": [
    "for x in zip(a, b):\n",
    "    print('first is \"{}\", second is \"{}\"'.format(x[0], x[1]))"
   ]
  },
  {
   "cell_type": "code",
   "execution_count": 15,
   "id": "901c3d82",
   "metadata": {},
   "outputs": [
    {
     "name": "stdout",
     "output_type": "stream",
     "text": [
      "first is \"a\", second is \"1\"\n",
      "first is \"b\", second is \"None\"\n",
      "first is \"7\", second is \"q\"\n"
     ]
    }
   ],
   "source": [
    "for fst, snd in zip(a, b):\n",
    "    print('first is \"{}\", second is \"{}\"'.format(fst, snd))"
   ]
  },
  {
   "cell_type": "markdown",
   "id": "b2b4b7bf",
   "metadata": {},
   "source": [
    "#### enumerate and reversed"
   ]
  },
  {
   "cell_type": "code",
   "execution_count": 21,
   "id": "bea71c72",
   "metadata": {},
   "outputs": [
    {
     "name": "stdout",
     "output_type": "stream",
     "text": [
      "<enumerate object at 0x7f217c75d4c8>\n"
     ]
    },
    {
     "data": {
      "text/plain": [
       "[(0, 'a'), (1, 'b'), (2, 'c')]"
      ]
     },
     "execution_count": 21,
     "metadata": {},
     "output_type": "execute_result"
    }
   ],
   "source": [
    "my_list = ['a', 'b', 'c']\n",
    "print(enumerate(my_list))\n",
    "list(enumerate(my_list))"
   ]
  },
  {
   "cell_type": "code",
   "execution_count": 22,
   "id": "a6ec3eb5",
   "metadata": {},
   "outputs": [
    {
     "name": "stdout",
     "output_type": "stream",
     "text": [
      "0 a\n",
      "1 b\n",
      "2 c\n"
     ]
    }
   ],
   "source": [
    "for index, value in enumerate(my_list):\n",
    "    print(index, value)"
   ]
  },
  {
   "cell_type": "code",
   "execution_count": 25,
   "id": "bed36076",
   "metadata": {},
   "outputs": [
    {
     "name": "stdout",
     "output_type": "stream",
     "text": [
      "<list_reverseiterator object at 0x7f217c757518>\n"
     ]
    },
    {
     "data": {
      "text/plain": [
       "['c', 'b', 'a']"
      ]
     },
     "execution_count": 25,
     "metadata": {},
     "output_type": "execute_result"
    }
   ],
   "source": [
    "print(reversed(my_list))\n",
    "list(reversed(my_list))"
   ]
  },
  {
   "cell_type": "code",
   "execution_count": 30,
   "id": "87b07c70",
   "metadata": {},
   "outputs": [
    {
     "name": "stdout",
     "output_type": "stream",
     "text": [
      "c\n",
      "b\n",
      "a\n"
     ]
    }
   ],
   "source": [
    "for value in reversed(my_list):\n",
    "    print(value)"
   ]
  },
  {
   "cell_type": "markdown",
   "id": "e505629d",
   "metadata": {},
   "source": [
    "#### sorted"
   ]
  },
  {
   "cell_type": "code",
   "execution_count": 31,
   "id": "5ba72c59",
   "metadata": {},
   "outputs": [
    {
     "name": "stdout",
     "output_type": "stream",
     "text": [
      "[1, 1, 2, 2, 3]\n",
      "[3, 2, 2, 1, 1]\n"
     ]
    }
   ],
   "source": [
    "my_list = [1, 2, 3, 1, 2]\n",
    "print(sorted(my_list))\n",
    "print(sorted(my_list, reverse=True))"
   ]
  },
  {
   "cell_type": "code",
   "execution_count": 32,
   "id": "4e6de207",
   "metadata": {},
   "outputs": [],
   "source": [
    "my_list = [(1, 1), (2, 0), (3, 4), (1, -1), (2, 2)]\n",
    "print(sorted(my_list))"
   ]
  },
  {
   "cell_type": "code",
   "execution_count": 37,
   "id": "8ec5dc80",
   "metadata": {},
   "outputs": [
    {
     "data": {
      "text/plain": [
       "[1, 0, 4, -1, 2]"
      ]
     },
     "execution_count": 37,
     "metadata": {},
     "output_type": "execute_result"
    }
   ],
   "source": [
    "get_second = lambda x: x[1]\n",
    "[get_second(i) for i in my_list]"
   ]
  },
  {
   "cell_type": "code",
   "execution_count": 39,
   "id": "9cf766e5",
   "metadata": {},
   "outputs": [
    {
     "name": "stdout",
     "output_type": "stream",
     "text": [
      "[(1, -1), (2, 0), (1, 1), (2, 2), (3, 4)]\n"
     ]
    }
   ],
   "source": [
    "print(sorted(my_list, key=get_second))"
   ]
  },
  {
   "cell_type": "markdown",
   "id": "67b2ec65",
   "metadata": {},
   "source": [
    "## Немного о функциях"
   ]
  },
  {
   "cell_type": "code",
   "execution_count": 46,
   "id": "e8017533",
   "metadata": {},
   "outputs": [
    {
     "name": "stdout",
     "output_type": "stream",
     "text": [
      "97189.47919567098\n"
     ]
    }
   ],
   "source": [
    "def get_income(p, f, S, L): # процентная ставка, сколько раз в год происходит капитализация, сумма вклада, количество лет\n",
    "    return S * (1 + p / f) ** (f * L) - S\n",
    "print(get_income(0.08, 4, 200000, 5))"
   ]
  },
  {
   "cell_type": "code",
   "execution_count": 52,
   "id": "dc22e07f",
   "metadata": {},
   "outputs": [],
   "source": [
    "def f1(x):\n",
    "    print('we was in f1')"
   ]
  },
  {
   "cell_type": "code",
   "execution_count": 58,
   "id": "c17f8ec0",
   "metadata": {},
   "outputs": [
    {
     "name": "stdout",
     "output_type": "stream",
     "text": [
      "we was in f1\n"
     ]
    }
   ],
   "source": [
    "x = f1(1)\n",
    "x"
   ]
  },
  {
   "cell_type": "code",
   "execution_count": 59,
   "id": "f570f196",
   "metadata": {},
   "outputs": [
    {
     "name": "stdout",
     "output_type": "stream",
     "text": [
      "None\n"
     ]
    }
   ],
   "source": [
    "print(x)"
   ]
  },
  {
   "cell_type": "markdown",
   "id": "d4542653",
   "metadata": {},
   "source": [
    "#### Переменное число аргументов"
   ]
  },
  {
   "cell_type": "code",
   "execution_count": 60,
   "id": "830b8d87",
   "metadata": {},
   "outputs": [],
   "source": [
    "def my_sum(*values):\n",
    "    res = 0\n",
    "    for value in values:\n",
    "        res += value\n",
    "    return res"
   ]
  },
  {
   "cell_type": "code",
   "execution_count": 61,
   "id": "fdb8520d",
   "metadata": {},
   "outputs": [
    {
     "data": {
      "text/plain": [
       "0"
      ]
     },
     "execution_count": 61,
     "metadata": {},
     "output_type": "execute_result"
    }
   ],
   "source": [
    "my_sum()"
   ]
  },
  {
   "cell_type": "code",
   "execution_count": 67,
   "id": "4469f891",
   "metadata": {},
   "outputs": [
    {
     "data": {
      "text/plain": [
       "3"
      ]
     },
     "execution_count": 67,
     "metadata": {},
     "output_type": "execute_result"
    }
   ],
   "source": [
    "my_sum(1, 3, -1)"
   ]
  },
  {
   "cell_type": "markdown",
   "id": "57fc14b3",
   "metadata": {},
   "source": [
    "#### Аргументы по умолчанию"
   ]
  },
  {
   "cell_type": "code",
   "execution_count": 63,
   "id": "1058f88b",
   "metadata": {},
   "outputs": [],
   "source": [
    "def f(x, y=5):\n",
    "    return x + y"
   ]
  },
  {
   "cell_type": "code",
   "execution_count": 69,
   "id": "25e3a75c",
   "metadata": {},
   "outputs": [
    {
     "data": {
      "text/plain": [
       "3"
      ]
     },
     "execution_count": 69,
     "metadata": {},
     "output_type": "execute_result"
    }
   ],
   "source": [
    "f(0, 3)"
   ]
  },
  {
   "cell_type": "code",
   "execution_count": 70,
   "id": "2837bc84",
   "metadata": {},
   "outputs": [
    {
     "data": {
      "text/plain": [
       "3"
      ]
     },
     "execution_count": 70,
     "metadata": {},
     "output_type": "execute_result"
    }
   ],
   "source": [
    "f(x=0, y=3)"
   ]
  },
  {
   "cell_type": "code",
   "execution_count": 71,
   "id": "c368e8cb",
   "metadata": {},
   "outputs": [
    {
     "data": {
      "text/plain": [
       "5"
      ]
     },
     "execution_count": 71,
     "metadata": {},
     "output_type": "execute_result"
    }
   ],
   "source": [
    "f(0)"
   ]
  },
  {
   "cell_type": "code",
   "execution_count": 72,
   "id": "e47219b4",
   "metadata": {},
   "outputs": [
    {
     "data": {
      "text/plain": [
       "5"
      ]
     },
     "execution_count": 72,
     "metadata": {},
     "output_type": "execute_result"
    }
   ],
   "source": [
    "f(x=0)"
   ]
  },
  {
   "cell_type": "markdown",
   "id": "18f6885f",
   "metadata": {},
   "source": [
    "#### Осторожнее с аргументами по умолчанию"
   ]
  },
  {
   "cell_type": "code",
   "execution_count": 7,
   "id": "529d3de2",
   "metadata": {
    "ExecuteTime": {
     "end_time": "2022-04-24T08:37:49.116142Z",
     "start_time": "2022-04-24T08:37:49.110497Z"
    }
   },
   "outputs": [],
   "source": [
    "def f(x, my_list=[]):\n",
    "    my_list.append(x)\n",
    "    print(my_list)\n",
    "    return sum(my_list)"
   ]
  },
  {
   "cell_type": "code",
   "execution_count": 9,
   "id": "638b7406",
   "metadata": {
    "ExecuteTime": {
     "end_time": "2022-04-24T08:38:01.443727Z",
     "start_time": "2022-04-24T08:38:01.434997Z"
    }
   },
   "outputs": [
    {
     "name": "stdout",
     "output_type": "stream",
     "text": [
      "[1, 2, 1]\n",
      "4\n",
      "[4, 2]\n",
      "6\n",
      "[4]\n",
      "4\n",
      "[3, 5, 3]\n",
      "11\n",
      "[3, 5, 3, 5]\n",
      "16\n",
      "[3, 5, 3, 5, 8]\n",
      "24\n"
     ]
    }
   ],
   "source": [
    "print(f(1, [1, 2]))\n",
    "print(f(2, [4]))\n",
    "print(f(4, []))\n",
    "print(f(3))\n",
    "print(f(5)) # вот тут будет сюрприз\n",
    "print(f(8))"
   ]
  },
  {
   "cell_type": "markdown",
   "id": "f2bc07c6",
   "metadata": {},
   "source": [
    "Правильно делать так:"
   ]
  },
  {
   "cell_type": "code",
   "execution_count": 85,
   "id": "47c52ed9",
   "metadata": {},
   "outputs": [],
   "source": [
    "def f(x, my_list=None):\n",
    "    if my_list is None:\n",
    "        my_list = []\n",
    "    my_list.append(x)\n",
    "    return sum(my_list)"
   ]
  },
  {
   "cell_type": "markdown",
   "id": "713da7b0",
   "metadata": {},
   "source": [
    "Аргументом функции может быть другая функция"
   ]
  },
  {
   "cell_type": "code",
   "execution_count": 88,
   "id": "06e2ca41",
   "metadata": {},
   "outputs": [
    {
     "name": "stdout",
     "output_type": "stream",
     "text": [
      "30\n"
     ]
    }
   ],
   "source": [
    "def applicator(function, argument):\n",
    "    return function(argument)\n",
    "\n",
    "def f(x):\n",
    "    return x + 5\n",
    "\n",
    "def g(x):\n",
    "    return x * 5\n",
    "\n",
    "print(applicator(g, applicator(f, 1)))"
   ]
  },
  {
   "cell_type": "markdown",
   "id": "8db3d84b",
   "metadata": {},
   "source": [
    "Результатом работы функции может быть другая функция"
   ]
  },
  {
   "cell_type": "code",
   "execution_count": 86,
   "id": "a3929cef",
   "metadata": {},
   "outputs": [
    {
     "name": "stdout",
     "output_type": "stream",
     "text": [
      "30\n"
     ]
    }
   ],
   "source": [
    "def combinator(function1, function2):\n",
    "    def function3(x):\n",
    "        return function1(function2(x))\n",
    "    return function3\n",
    "\n",
    "fun = combinator(g, f)\n",
    "print(fun(1))"
   ]
  },
  {
   "cell_type": "markdown",
   "id": "ea11338a",
   "metadata": {},
   "source": [
    "## Лямбда функции"
   ]
  },
  {
   "cell_type": "code",
   "execution_count": 89,
   "id": "e530d152",
   "metadata": {},
   "outputs": [
    {
     "name": "stdout",
     "output_type": "stream",
     "text": [
      "5\n"
     ]
    }
   ],
   "source": [
    "g = lambda x, y: x + y\n",
    "print(g(2, 3))"
   ]
  },
  {
   "cell_type": "markdown",
   "id": "cb5f86c8",
   "metadata": {},
   "source": [
    "удобно передавать в качестве параметров"
   ]
  },
  {
   "cell_type": "code",
   "execution_count": 90,
   "id": "7c90737c",
   "metadata": {},
   "outputs": [
    {
     "name": "stdout",
     "output_type": "stream",
     "text": [
      "[(1, -1), (2, 0), (1, 1), (2, 2), (3, 4)]\n"
     ]
    }
   ],
   "source": [
    "print(sorted(my_list, key=lambda x: x[1]))"
   ]
  },
  {
   "cell_type": "markdown",
   "id": "cd677d2c",
   "metadata": {},
   "source": [
    "#### аргументы по умолчанию"
   ]
  },
  {
   "cell_type": "code",
   "execution_count": 91,
   "id": "a3cb9252",
   "metadata": {},
   "outputs": [],
   "source": [
    "f = lambda x=1, y=5: x+y"
   ]
  },
  {
   "cell_type": "code",
   "execution_count": 95,
   "id": "0d6938cc",
   "metadata": {},
   "outputs": [
    {
     "data": {
      "text/plain": [
       "6"
      ]
     },
     "execution_count": 95,
     "metadata": {},
     "output_type": "execute_result"
    }
   ],
   "source": [
    "f()"
   ]
  },
  {
   "cell_type": "code",
   "execution_count": 96,
   "id": "24ff9d92",
   "metadata": {},
   "outputs": [
    {
     "data": {
      "text/plain": [
       "8"
      ]
     },
     "execution_count": 96,
     "metadata": {},
     "output_type": "execute_result"
    }
   ],
   "source": [
    "f(3)"
   ]
  },
  {
   "cell_type": "code",
   "execution_count": 97,
   "id": "b98465fb",
   "metadata": {},
   "outputs": [
    {
     "data": {
      "text/plain": [
       "4"
      ]
     },
     "execution_count": 97,
     "metadata": {},
     "output_type": "execute_result"
    }
   ],
   "source": [
    "f(y=3)"
   ]
  },
  {
   "cell_type": "markdown",
   "id": "b561b6b7",
   "metadata": {},
   "source": [
    "#### Захват переменной"
   ]
  },
  {
   "cell_type": "code",
   "execution_count": 110,
   "id": "81056c1d",
   "metadata": {},
   "outputs": [
    {
     "name": "stdout",
     "output_type": "stream",
     "text": [
      "7\n",
      "9\n",
      "12\n"
     ]
    }
   ],
   "source": [
    "x = 5\n",
    "\n",
    "def f(y):\n",
    "    global x\n",
    "    x += 1\n",
    "    return x + y\n",
    "\n",
    "print(f(1))\n",
    "print(f(2))\n",
    "print(f(4))"
   ]
  },
  {
   "cell_type": "markdown",
   "id": "c433bd83",
   "metadata": {},
   "source": [
    "### Ещё несколько стандартных функций"
   ]
  },
  {
   "cell_type": "code",
   "execution_count": 112,
   "id": "320cabd0",
   "metadata": {},
   "outputs": [],
   "source": [
    "my_list = [0, 0, -1, -2, -3, 4, 3, 2, 5]"
   ]
  },
  {
   "cell_type": "code",
   "execution_count": 114,
   "id": "fcf6025d",
   "metadata": {},
   "outputs": [
    {
     "data": {
      "text/plain": [
       "[0, 0, 1, 2, 3, 4, 3, 2, 5]"
      ]
     },
     "execution_count": 114,
     "metadata": {},
     "output_type": "execute_result"
    }
   ],
   "source": [
    "list(map(lambda x: abs(x), my_list))"
   ]
  },
  {
   "cell_type": "code",
   "execution_count": 116,
   "id": "6c4d18b0",
   "metadata": {},
   "outputs": [
    {
     "data": {
      "text/plain": [
       "[4, 3, 2, 5]"
      ]
     },
     "execution_count": 116,
     "metadata": {},
     "output_type": "execute_result"
    }
   ],
   "source": [
    "list(filter(lambda x: x > 0, my_list))"
   ]
  },
  {
   "cell_type": "markdown",
   "id": "5c9513ae",
   "metadata": {},
   "source": [
    "# Работа с модулями"
   ]
  },
  {
   "cell_type": "code",
   "execution_count": 99,
   "id": "9e73148b",
   "metadata": {},
   "outputs": [],
   "source": [
    "import math"
   ]
  },
  {
   "cell_type": "code",
   "execution_count": 104,
   "id": "38fb0794",
   "metadata": {},
   "outputs": [
    {
     "data": {
      "text/plain": [
       "39916800"
      ]
     },
     "execution_count": 104,
     "metadata": {},
     "output_type": "execute_result"
    }
   ],
   "source": [
    "from math import factorial\n",
    "factorial(11)"
   ]
  },
  {
   "cell_type": "code",
   "execution_count": 130,
   "id": "a109c9f9",
   "metadata": {},
   "outputs": [],
   "source": [
    "import heapq"
   ]
  },
  {
   "cell_type": "code",
   "execution_count": 133,
   "id": "d172d875",
   "metadata": {},
   "outputs": [
    {
     "data": {
      "text/plain": [
       "[21, 3, 0]"
      ]
     },
     "execution_count": 133,
     "metadata": {},
     "output_type": "execute_result"
    }
   ],
   "source": [
    "heapq.nlargest(3, [-1, -2, -4, -3, -2, 3, 21 , -6, 0, -2])"
   ]
  },
  {
   "cell_type": "code",
   "execution_count": 134,
   "id": "8e74ed87",
   "metadata": {},
   "outputs": [
    {
     "data": {
      "text/plain": [
       "[21, -6, -4]"
      ]
     },
     "execution_count": 134,
     "metadata": {},
     "output_type": "execute_result"
    }
   ],
   "source": [
    "heapq.nlargest(3, [-1, -2, -4, -3, -2, 3, 21 , -6, 0, -2], key=lambda x: abs(x))"
   ]
  },
  {
   "cell_type": "code",
   "execution_count": 106,
   "id": "122550a3",
   "metadata": {},
   "outputs": [],
   "source": [
    "from collections import Counter"
   ]
  },
  {
   "cell_type": "code",
   "execution_count": 107,
   "id": "534e4d7f",
   "metadata": {},
   "outputs": [
    {
     "data": {
      "text/plain": [
       "Counter({1: 2, 2: 3, 3: 2, 4: 2, 5: 2, 7: 1})"
      ]
     },
     "execution_count": 107,
     "metadata": {},
     "output_type": "execute_result"
    }
   ],
   "source": [
    "Counter([1, 2, 3, 4, 5, 3, 2 ,1, 5, 7, 4, 2])"
   ]
  },
  {
   "cell_type": "code",
   "execution_count": 110,
   "id": "01a9136c",
   "metadata": {},
   "outputs": [
    {
     "data": {
      "text/plain": [
       "[(2, 3), (1, 2), (3, 2)]"
      ]
     },
     "execution_count": 110,
     "metadata": {},
     "output_type": "execute_result"
    }
   ],
   "source": [
    "Counter([1, 2, 3, 4, 5, 3, 2 ,1, 5, 7, 4, 2]).most_common(3)"
   ]
  },
  {
   "cell_type": "markdown",
   "id": "23d0cde1",
   "metadata": {},
   "source": [
    "Пример комбинирования разных библиотек"
   ]
  },
  {
   "cell_type": "code",
   "execution_count": 10,
   "id": "f9285f81",
   "metadata": {
    "ExecuteTime": {
     "end_time": "2022-04-24T08:42:29.116006Z",
     "start_time": "2022-04-24T08:42:29.110971Z"
    }
   },
   "outputs": [],
   "source": [
    "import random\n",
    "import time\n",
    "import sys"
   ]
  },
  {
   "cell_type": "code",
   "execution_count": 11,
   "id": "3da675ac",
   "metadata": {
    "ExecuteTime": {
     "end_time": "2022-04-24T08:42:30.543257Z",
     "start_time": "2022-04-24T08:42:30.476091Z"
    }
   },
   "outputs": [
    {
     "name": "stdout",
     "output_type": "stream",
     "text": [
      "dict object size is 232\n",
      "Spent 0.062 seconds\n"
     ]
    }
   ],
   "source": [
    "start = time.time() # узнаём текущее время\n",
    "objects_dict = { # создаём большой словарь, ключом является число, а значением словарь из трёх случайных полей\n",
    "    x: {\n",
    "        'first_property': random.random(),\n",
    "        'second_property': random.random(),\n",
    "        'fourth_property': random.random(),\n",
    "    }\n",
    "    for x in range(100000)\n",
    "}\n",
    "# смотрим сколько байт занимает один объект в памяти\n",
    "print('dict object size is', sys.getsizeof(objects_dict[0]))\n",
    "\n",
    "finish = time.time() # время окончания\n",
    "print('Spent {:.3f} seconds'.format(finish - start))"
   ]
  },
  {
   "cell_type": "code",
   "execution_count": 14,
   "id": "6f45e913",
   "metadata": {
    "ExecuteTime": {
     "end_time": "2022-04-24T08:43:07.038676Z",
     "start_time": "2022-04-24T08:43:07.036804Z"
    }
   },
   "outputs": [],
   "source": [
    "# objects_dict "
   ]
  },
  {
   "cell_type": "markdown",
   "id": "9f7a014a",
   "metadata": {},
   "source": [
    "### Задание вместе\n",
    "\n",
    "Нужно написать функцию, которая принимает число $n$, генерирует список случайных чисел от 1 до $n$ длины $n$. Находит среди них простые и возвращает их tuple из этого списка и суммы всех его элементов."
   ]
  },
  {
   "cell_type": "code",
   "execution_count": 114,
   "id": "a16f32e3",
   "metadata": {},
   "outputs": [],
   "source": [
    "def is_prime(n):\n",
    "    return n > 1 and all(n % i != 0 for i in range(2, n))"
   ]
  },
  {
   "cell_type": "code",
   "execution_count": 115,
   "id": "279c98a5",
   "metadata": {},
   "outputs": [
    {
     "data": {
      "text/plain": [
       "False"
      ]
     },
     "execution_count": 115,
     "metadata": {},
     "output_type": "execute_result"
    }
   ],
   "source": [
    "is_prime(1)"
   ]
  },
  {
   "cell_type": "code",
   "execution_count": 119,
   "id": "6902fdb7",
   "metadata": {},
   "outputs": [],
   "source": [
    "def function(n, seed=42):\n",
    "    random.seed(seed)\n",
    "    my_list = map(lambda x: random.randint(1, n), range(n))\n",
    "    prime_numbers = filter(is_prime, my_list)\n",
    "    return (list(prime_numbers), sum(prime_numbers))"
   ]
  },
  {
   "cell_type": "code",
   "execution_count": 122,
   "id": "e4b5e7d9",
   "metadata": {},
   "outputs": [
    {
     "data": {
      "text/plain": [
       "0.005"
      ]
     },
     "execution_count": 122,
     "metadata": {},
     "output_type": "execute_result"
    }
   ],
   "source": [
    "len(function(400))/400"
   ]
  },
  {
   "cell_type": "code",
   "execution_count": 134,
   "id": "c067e787",
   "metadata": {},
   "outputs": [
    {
     "name": "stdout",
     "output_type": "stream",
     "text": [
      "{'I': 6, 'am': 1, 'yo': 1, (1, 2, 5): [4, 5, 7]}\n"
     ]
    }
   ],
   "source": [
    "words_frequencies['I'] += 1\n",
    "words_frequencies[u'yo'] = 1\n",
    "words_frequencies[(1,2,5)] = [4, 5, 7]\n",
    "print(words_frequencies)"
   ]
  },
  {
   "cell_type": "markdown",
   "id": "a2e76ee7",
   "metadata": {},
   "source": [
    "## Задание 1.1\n",
    "\n",
    "Напишите функцию, которая принимает список чисел my_list (количество товаров разных марок) и число $n$ и возвращает сумму всех чисел списка меньше либо равных $n$ (суммарное количество товаров, которых в наличие меньше либо равно $n$)."
   ]
  },
  {
   "cell_type": "code",
   "execution_count": 1,
   "id": "4836f3e3",
   "metadata": {},
   "outputs": [],
   "source": [
    "def function_1_1(my_list, n):\n",
    "    return sum(my_list[i] for i in range(len(my_list)) if my_list[i] <= n)"
   ]
  },
  {
   "cell_type": "code",
   "execution_count": 2,
   "id": "f8104f88",
   "metadata": {},
   "outputs": [
    {
     "data": {
      "text/plain": [
       "True"
      ]
     },
     "execution_count": 2,
     "metadata": {},
     "output_type": "execute_result"
    }
   ],
   "source": [
    "function_1_1([1, 2, 3, 4, 5, 6, 3, 7], 7) == 31"
   ]
  },
  {
   "cell_type": "code",
   "execution_count": 3,
   "id": "74f50860",
   "metadata": {},
   "outputs": [
    {
     "data": {
      "text/plain": [
       "True"
      ]
     },
     "execution_count": 3,
     "metadata": {},
     "output_type": "execute_result"
    }
   ],
   "source": [
    "function_1_1([1, 2, 3, 4, 4, 3, 2, 1], 7) == 20"
   ]
  },
  {
   "cell_type": "code",
   "execution_count": 4,
   "id": "9034d612",
   "metadata": {
    "scrolled": true
   },
   "outputs": [
    {
     "data": {
      "text/plain": [
       "True"
      ]
     },
     "execution_count": 4,
     "metadata": {},
     "output_type": "execute_result"
    }
   ],
   "source": [
    "function_1_1([1, 2, 3, 4, 4, 3, 2, 1], 3) == 12"
   ]
  },
  {
   "cell_type": "code",
   "execution_count": 5,
   "id": "b2a08613",
   "metadata": {},
   "outputs": [
    {
     "data": {
      "text/plain": [
       "True"
      ]
     },
     "execution_count": 5,
     "metadata": {},
     "output_type": "execute_result"
    }
   ],
   "source": [
    "function_1_1([1, 2, 3, 4, 5, 6, 3, 7], 5) == 18"
   ]
  },
  {
   "cell_type": "code",
   "execution_count": 6,
   "id": "9292eaee",
   "metadata": {},
   "outputs": [
    {
     "data": {
      "text/plain": [
       "True"
      ]
     },
     "execution_count": 6,
     "metadata": {},
     "output_type": "execute_result"
    }
   ],
   "source": [
    "function_1_1([1, 2, 3, 4, 5, 6, 3, 7], 3) == 9"
   ]
  },
  {
   "cell_type": "code",
   "execution_count": 7,
   "id": "b2545df6",
   "metadata": {},
   "outputs": [
    {
     "data": {
      "text/plain": [
       "True"
      ]
     },
     "execution_count": 7,
     "metadata": {},
     "output_type": "execute_result"
    }
   ],
   "source": [
    "function_1_1([1, 2, 3, 4, 5, 6, 3, 7], 0) == 0"
   ]
  },
  {
   "cell_type": "markdown",
   "id": "cdda3249",
   "metadata": {},
   "source": [
    "#### Значение для формы"
   ]
  },
  {
   "cell_type": "code",
   "execution_count": 8,
   "id": "2cfc0bd9",
   "metadata": {},
   "outputs": [
    {
     "name": "stdout",
     "output_type": "stream",
     "text": [
      "2496584\n"
     ]
    }
   ],
   "source": [
    "import random\n",
    "\n",
    "random.seed(42)\n",
    "print(function_1_1([random.randint(0, 1000) for _ in range(10000)], 700))"
   ]
  },
  {
   "cell_type": "markdown",
   "id": "842d1421",
   "metadata": {},
   "source": [
    "## Задание 1.2\n",
    "\n",
    "Имеется список пар (фамилия, долг) $my\\_list$ и число $dept$. Нужно написать функцию, которая для каждой фамилии находит суммарный долг и выводит отсортированный список фамилий, у которых долг строго больше $dept$.\n",
    "\n",
    "Одна и та же фамилия может встречаться несколько раз, и тогда долги по ней суммируются."
   ]
  },
  {
   "cell_type": "code",
   "execution_count": 9,
   "id": "ba9585b8",
   "metadata": {},
   "outputs": [],
   "source": [
    "import numpy as np\n",
    "\n",
    "\n",
    "def function_1_2(my_list, dept):\n",
    "    \n",
    "    \n",
    "    data = [my_list[i][1] for i in range(len(my_list)) ]\n",
    "    groups = [my_list[i][0] for i in range(len(my_list)) ]\n",
    "    x, y = np.meshgrid(groups, np.unique(groups))\n",
    "    data_stack = np.tile(data, (np.unique(groups).size, 1))\n",
    "\n",
    "    data_in_group = np.zeros_like(data_stack)\n",
    "    data_in_group[x==y] = data_stack[x==y]\n",
    "\n",
    "    sums = data_in_group.sum(axis=1)\n",
    "\n",
    "    \n",
    "    return np.unique(groups)[sums > dept].tolist()\n",
    "    \n"
   ]
  },
  {
   "cell_type": "code",
   "execution_count": 10,
   "id": "16590eb9",
   "metadata": {},
   "outputs": [],
   "source": [
    "def function_1_2(my_list, dept):\n",
    "    \n",
    "    \n",
    "    data = np.array([my_list[i][1] for i in range(len(my_list)) ])\n",
    "    groups = np.array([my_list[i][0] for i in range(len(my_list)) ])\n",
    "    \n",
    "    unique_groups = np.unique(groups)\n",
    "    sums = []\n",
    "    for group in unique_groups:\n",
    "        sums.append(data[groups == group].sum())\n",
    "    \n",
    "    sums = np.array(sums)    \n",
    "        \n",
    "    return unique_groups[sums > dept].tolist()\n",
    "\n"
   ]
  },
  {
   "cell_type": "code",
   "execution_count": 11,
   "id": "5a3a7164",
   "metadata": {},
   "outputs": [
    {
     "data": {
      "text/plain": [
       "True"
      ]
     },
     "execution_count": 11,
     "metadata": {},
     "output_type": "execute_result"
    }
   ],
   "source": [
    "function_1_2([('Ivanov', 1), ('Petrov', 2), ('Ivanov', 2), ('Sidorov', 4)], 1) == ['Ivanov', 'Petrov', 'Sidorov']"
   ]
  },
  {
   "cell_type": "code",
   "execution_count": 12,
   "id": "a5a23ba1",
   "metadata": {},
   "outputs": [
    {
     "data": {
      "text/plain": [
       "True"
      ]
     },
     "execution_count": 12,
     "metadata": {},
     "output_type": "execute_result"
    }
   ],
   "source": [
    "function_1_2([('Ivanov', 1), ('Petrov', 2), ('Ivanov', 2), ('Sidorov', 4)], 2) == ['Ivanov', 'Sidorov']"
   ]
  },
  {
   "cell_type": "code",
   "execution_count": 13,
   "id": "cda1d1cb",
   "metadata": {},
   "outputs": [
    {
     "data": {
      "text/plain": [
       "True"
      ]
     },
     "execution_count": 13,
     "metadata": {},
     "output_type": "execute_result"
    }
   ],
   "source": [
    "function_1_2([('Ivanov', 1), ('Petrov', 2), ('Ivanov', 2), ('Sidorov', 4)], 3) == ['Sidorov']"
   ]
  },
  {
   "cell_type": "code",
   "execution_count": 14,
   "id": "d1ad5979",
   "metadata": {},
   "outputs": [
    {
     "data": {
      "text/plain": [
       "True"
      ]
     },
     "execution_count": 14,
     "metadata": {},
     "output_type": "execute_result"
    }
   ],
   "source": [
    "function_1_2([('Ivanov', 1), ('Petrov', 2), ('Ivanov', 2), ('Sidorov', 4)], 4) == []"
   ]
  },
  {
   "cell_type": "code",
   "execution_count": 15,
   "id": "d23f6ffa",
   "metadata": {},
   "outputs": [
    {
     "data": {
      "text/plain": [
       "True"
      ]
     },
     "execution_count": 15,
     "metadata": {},
     "output_type": "execute_result"
    }
   ],
   "source": [
    "function_1_2([('Ivanov', 1), ('Petrov', 2), ('Ivanov', 1), ('Sidorov', 4)], 2) == ['Sidorov']"
   ]
  },
  {
   "cell_type": "code",
   "execution_count": 16,
   "id": "4df0d1f6",
   "metadata": {},
   "outputs": [
    {
     "data": {
      "text/plain": [
       "True"
      ]
     },
     "execution_count": 16,
     "metadata": {},
     "output_type": "execute_result"
    }
   ],
   "source": [
    "function_1_2([('Ivanov', 1), ('Petrov', 2), ('Ivanov', 2), ('Petrov', 4)], 2) == ['Ivanov', 'Petrov']"
   ]
  },
  {
   "cell_type": "code",
   "execution_count": 17,
   "id": "477d949b",
   "metadata": {},
   "outputs": [
    {
     "data": {
      "text/plain": [
       "True"
      ]
     },
     "execution_count": 17,
     "metadata": {},
     "output_type": "execute_result"
    }
   ],
   "source": [
    "function_1_2([('Ivanov', 1), ('Petrov', 2), ('Ivanov', 2), ('Petrov', 4)], 3) == ['Petrov']"
   ]
  },
  {
   "cell_type": "markdown",
   "id": "9c5440c2",
   "metadata": {},
   "source": [
    "#### Значение для формы"
   ]
  },
  {
   "cell_type": "code",
   "execution_count": 18,
   "id": "885545e3",
   "metadata": {
    "scrolled": true
   },
   "outputs": [
    {
     "name": "stdout",
     "output_type": "stream",
     "text": [
      "10,11,14,18,19,3,4,5,8,9\n"
     ]
    }
   ],
   "source": [
    "import random\n",
    "import numpy as np\n",
    "\n",
    "\n",
    "\n",
    "random.seed(42)\n",
    "print(','.join(function_1_2([(str(random.randint(1, 20)), random.randint(1, 1000) ) for _ in range(1000)], 25000)))"
   ]
  },
  {
   "cell_type": "markdown",
   "id": "f28f5d3d",
   "metadata": {},
   "source": [
    "## Задание 2.1\n",
    "\n",
    "Напишите функцию, принимающую число $n$ и считающую $n!$, не используя модуль math\n",
    "\n",
    "$n! = 1 \\cdot 2 \\cdot 3 \\cdot \\dots \\cdot (n - 1) \\cdot n$"
   ]
  },
  {
   "cell_type": "code",
   "execution_count": 19,
   "id": "a5d7e13d",
   "metadata": {},
   "outputs": [],
   "source": [
    "def function_2_1(n):\n",
    "    if n == 0: \n",
    "        return 1 \n",
    "    else: \n",
    "        return n * function_2_1(n-1) "
   ]
  },
  {
   "cell_type": "code",
   "execution_count": 20,
   "id": "8e1c1e6e",
   "metadata": {},
   "outputs": [
    {
     "data": {
      "text/plain": [
       "True"
      ]
     },
     "execution_count": 20,
     "metadata": {},
     "output_type": "execute_result"
    }
   ],
   "source": [
    "function_2_1(3) == 6"
   ]
  },
  {
   "cell_type": "code",
   "execution_count": 21,
   "id": "45aa1fc8",
   "metadata": {},
   "outputs": [
    {
     "data": {
      "text/plain": [
       "True"
      ]
     },
     "execution_count": 21,
     "metadata": {},
     "output_type": "execute_result"
    }
   ],
   "source": [
    "function_2_1(5) == 120"
   ]
  },
  {
   "cell_type": "code",
   "execution_count": 22,
   "id": "4d4a61e0",
   "metadata": {},
   "outputs": [
    {
     "data": {
      "text/plain": [
       "True"
      ]
     },
     "execution_count": 22,
     "metadata": {},
     "output_type": "execute_result"
    }
   ],
   "source": [
    "function_2_1(9) == 362880"
   ]
  },
  {
   "cell_type": "code",
   "execution_count": 23,
   "id": "8f724158",
   "metadata": {},
   "outputs": [
    {
     "data": {
      "text/plain": [
       "True"
      ]
     },
     "execution_count": 23,
     "metadata": {},
     "output_type": "execute_result"
    }
   ],
   "source": [
    "function_2_1(13) == 6227020800"
   ]
  },
  {
   "cell_type": "markdown",
   "id": "d3ba6e1c",
   "metadata": {},
   "source": [
    "#### Значение для формы"
   ]
  },
  {
   "cell_type": "code",
   "execution_count": 24,
   "id": "e30e5dfd",
   "metadata": {},
   "outputs": [
    {
     "name": "stdout",
     "output_type": "stream",
     "text": [
      "93326215443944152681699238856266700490715968264381621468592963895217599993229915608941463976156518286253697920827223758251185210916864000000000000000000000000\n"
     ]
    }
   ],
   "source": [
    "print(function_2_1(100))"
   ]
  },
  {
   "cell_type": "code",
   "execution_count": null,
   "id": "7348059f",
   "metadata": {},
   "outputs": [],
   "source": []
  },
  {
   "cell_type": "markdown",
   "id": "176220b3",
   "metadata": {},
   "source": [
    "## Задание 2.2\n",
    "\n",
    "Есть два списка чисел: цены товаров в одном магазине и цены товаров в другом магазине.\n",
    "\n",
    "Нужно сравнить средние (среднее берётся по всем товарам) цены, минимальные цены и максимальные  в магазинах. Если первое зачение меньше надо вернуть 'First', если второе, то 'Second', а если равны, то 'Equal'\n",
    "\n",
    "Например, function_2_2([1, 2, 3], [2, 2, 2])\n",
    "\n",
    "В первом магазине среднее значение 2, минимальное 1, максимальное 3. А во втором среднее 2, минимальное 2 и максимальное 2.\n",
    "\n",
    "Результаты сравнения $2 = 2,~1 < 2,~3 > 2$, поэтому нужно вернуть  ('Equal', 'First', 'Second')"
   ]
  },
  {
   "cell_type": "code",
   "execution_count": 25,
   "id": "259fcf3d",
   "metadata": {},
   "outputs": [],
   "source": [
    "def function_2_2(list1, list2):\n",
    "    first = [np.mean(list1), np.min(list1), np.max(list1)]\n",
    "    second = [np.mean(list2), np.min(list2), np.max(list2)]\n",
    "    out=[]\n",
    "    for i in np.arange(3):\n",
    "        if first[i] == second[i]:\n",
    "            out.append('Equal')\n",
    "        elif first[i] < second[i]:\n",
    "            out.append('First')\n",
    "        else:\n",
    "            out.append('Second')   \n",
    "    return tuple(out) "
   ]
  },
  {
   "cell_type": "code",
   "execution_count": 26,
   "id": "61407b77",
   "metadata": {},
   "outputs": [
    {
     "data": {
      "text/plain": [
       "True"
      ]
     },
     "execution_count": 26,
     "metadata": {},
     "output_type": "execute_result"
    }
   ],
   "source": [
    "function_2_2([1, 2, 3], [2, 2, 2]) == ('Equal', 'First', 'Second')"
   ]
  },
  {
   "cell_type": "code",
   "execution_count": 27,
   "id": "cf6c181a",
   "metadata": {},
   "outputs": [
    {
     "data": {
      "text/plain": [
       "True"
      ]
     },
     "execution_count": 27,
     "metadata": {},
     "output_type": "execute_result"
    }
   ],
   "source": [
    "function_2_2([2, 2, 1], [4]) ==('First', 'First', 'First')"
   ]
  },
  {
   "cell_type": "code",
   "execution_count": 28,
   "id": "9eb12bc1",
   "metadata": {},
   "outputs": [
    {
     "data": {
      "text/plain": [
       "True"
      ]
     },
     "execution_count": 28,
     "metadata": {},
     "output_type": "execute_result"
    }
   ],
   "source": [
    "function_2_2([3, 5], [2, 4, 6]) == ('Equal', 'Second', 'First')"
   ]
  },
  {
   "cell_type": "code",
   "execution_count": 29,
   "id": "06447da6",
   "metadata": {},
   "outputs": [
    {
     "data": {
      "text/plain": [
       "True"
      ]
     },
     "execution_count": 29,
     "metadata": {},
     "output_type": "execute_result"
    }
   ],
   "source": [
    "function_2_2([1, 7], [2, 4, 7]) == ('First', 'First', 'Equal')"
   ]
  },
  {
   "cell_type": "markdown",
   "id": "a0e2500b",
   "metadata": {},
   "source": [
    "#### Значение для формы"
   ]
  },
  {
   "cell_type": "code",
   "execution_count": 30,
   "id": "da50cd4b",
   "metadata": {},
   "outputs": [
    {
     "name": "stdout",
     "output_type": "stream",
     "text": [
      "Second,First,Second\n"
     ]
    }
   ],
   "source": [
    "import random\n",
    "\n",
    "random.seed(47)\n",
    "print(','.join(function_2_2(\n",
    "    [random.randint(0, 100000) for _ in range(1000)],\n",
    "    [random.randint(0, 100000) for _ in range(1000)]\n",
    ")))"
   ]
  },
  {
   "cell_type": "markdown",
   "id": "64f0de8b",
   "metadata": {},
   "source": [
    "## Задание 3.1\n",
    "\n",
    "Вам известны количество продаж разных товаров. Они представлены в виде списка, первое значение - число продаж первого товара, второе значение - второго, и так далее. Вы хотите посмотреть на список самых популярных товаров среди тех, у которых объём продаж не выше заданного числа.\n",
    "\n",
    "Напишите функцию, которая принимает список чисел my_list, число  $n$ и число $k$  и возвращает сумму $k$ наибольших чисел среди всех чисел списка меньше либо равных  $n$ ."
   ]
  },
  {
   "cell_type": "code",
   "execution_count": 31,
   "id": "b0bbc464",
   "metadata": {},
   "outputs": [],
   "source": [
    "from heapq import nlargest\n",
    "\n",
    "def function_3_1(my_list, n, k):\n",
    "    my_list = np.array(my_list) \n",
    "    return sum(nlargest(k, my_list[my_list<=n]))"
   ]
  },
  {
   "cell_type": "code",
   "execution_count": 32,
   "id": "a3942d0e",
   "metadata": {},
   "outputs": [
    {
     "data": {
      "text/plain": [
       "True"
      ]
     },
     "execution_count": 32,
     "metadata": {},
     "output_type": "execute_result"
    }
   ],
   "source": [
    "function_3_1([1, 2, 3, 4, 5, 6, 3, 7], 7, 1) == 7"
   ]
  },
  {
   "cell_type": "code",
   "execution_count": 33,
   "id": "089ec6d0",
   "metadata": {},
   "outputs": [
    {
     "data": {
      "text/plain": [
       "True"
      ]
     },
     "execution_count": 33,
     "metadata": {},
     "output_type": "execute_result"
    }
   ],
   "source": [
    "function_3_1([1, 2, 3, 4, 5, 6, 3, 7], 7, 3) == 18"
   ]
  },
  {
   "cell_type": "code",
   "execution_count": 34,
   "id": "6f645ac3",
   "metadata": {},
   "outputs": [
    {
     "data": {
      "text/plain": [
       "True"
      ]
     },
     "execution_count": 34,
     "metadata": {},
     "output_type": "execute_result"
    }
   ],
   "source": [
    "function_3_1([1, 2, 3, 4, 5, 6, 3, 7], 7, 5) == 25"
   ]
  },
  {
   "cell_type": "code",
   "execution_count": 35,
   "id": "761e9a5c",
   "metadata": {},
   "outputs": [
    {
     "data": {
      "text/plain": [
       "True"
      ]
     },
     "execution_count": 35,
     "metadata": {},
     "output_type": "execute_result"
    }
   ],
   "source": [
    "function_3_1([1, 2, 3, 4, 5, 6, 3, 7], 7, 8) == 31"
   ]
  },
  {
   "cell_type": "code",
   "execution_count": 36,
   "id": "cc1b106a",
   "metadata": {},
   "outputs": [
    {
     "data": {
      "text/plain": [
       "True"
      ]
     },
     "execution_count": 36,
     "metadata": {},
     "output_type": "execute_result"
    }
   ],
   "source": [
    "function_3_1([1, 2, 3, 4, 5, 6, 3, 7], 7, 10) == 31"
   ]
  },
  {
   "cell_type": "code",
   "execution_count": 37,
   "id": "37ba24ec",
   "metadata": {},
   "outputs": [
    {
     "data": {
      "text/plain": [
       "True"
      ]
     },
     "execution_count": 37,
     "metadata": {},
     "output_type": "execute_result"
    }
   ],
   "source": [
    "function_3_1([1, 5, 3, 6, 5, 6, 3, 6], 6, 3) == 18"
   ]
  },
  {
   "cell_type": "code",
   "execution_count": 38,
   "id": "e4cbdd7d",
   "metadata": {},
   "outputs": [
    {
     "data": {
      "text/plain": [
       "True"
      ]
     },
     "execution_count": 38,
     "metadata": {},
     "output_type": "execute_result"
    }
   ],
   "source": [
    "function_3_1([1, 5, 3, 6, 5, 6, 3, 6], 5, 3) == 13"
   ]
  },
  {
   "cell_type": "code",
   "execution_count": 39,
   "id": "d825818e",
   "metadata": {},
   "outputs": [
    {
     "data": {
      "text/plain": [
       "True"
      ]
     },
     "execution_count": 39,
     "metadata": {},
     "output_type": "execute_result"
    }
   ],
   "source": [
    "function_3_1([1, 5, 3, 6, 5, 6, 3, 6], 4, 3) == 7"
   ]
  },
  {
   "cell_type": "code",
   "execution_count": 40,
   "id": "1eb91003",
   "metadata": {},
   "outputs": [
    {
     "data": {
      "text/plain": [
       "True"
      ]
     },
     "execution_count": 40,
     "metadata": {},
     "output_type": "execute_result"
    }
   ],
   "source": [
    "function_3_1([1, 5, 3, 6, 5, 6, 3, 6], 6, 2) == 12"
   ]
  },
  {
   "cell_type": "code",
   "execution_count": 41,
   "id": "4dc46034",
   "metadata": {},
   "outputs": [
    {
     "data": {
      "text/plain": [
       "True"
      ]
     },
     "execution_count": 41,
     "metadata": {},
     "output_type": "execute_result"
    }
   ],
   "source": [
    "function_3_1([1, 5, 3, 6, 5, 6, 3, 6], 5, 2) == 10"
   ]
  },
  {
   "cell_type": "code",
   "execution_count": 42,
   "id": "2ca52ee5",
   "metadata": {},
   "outputs": [
    {
     "data": {
      "text/plain": [
       "True"
      ]
     },
     "execution_count": 42,
     "metadata": {},
     "output_type": "execute_result"
    }
   ],
   "source": [
    "function_3_1([1, 5, 3, 6, 5, 6, 3, 6], 4, 2) == 6"
   ]
  },
  {
   "cell_type": "markdown",
   "id": "367fd0fa",
   "metadata": {},
   "source": [
    "#### Значение для формы"
   ]
  },
  {
   "cell_type": "code",
   "execution_count": 43,
   "id": "ddab5131",
   "metadata": {},
   "outputs": [
    {
     "name": "stdout",
     "output_type": "stream",
     "text": [
      "205778\n"
     ]
    }
   ],
   "source": [
    "import random\n",
    "\n",
    "random.seed(42)\n",
    "print(function_3_1([random.randint(0, 1000) for _ in range(10000)], 700, 300))"
   ]
  },
  {
   "cell_type": "markdown",
   "id": "507712e9",
   "metadata": {},
   "source": [
    "## Задание 3.2\n",
    "\n",
    "Напишите списковое выражение, генерирующее все простые числа не больше заданного числа"
   ]
  },
  {
   "cell_type": "code",
   "execution_count": 44,
   "id": "0caadcf3",
   "metadata": {},
   "outputs": [],
   "source": [
    "def function_3_2(n):\n",
    "    return [ i  for i in np.arange(2,n+1)  if 0 not in np.array([i] * (i-2) ) % np.arange(2,i)]"
   ]
  },
  {
   "cell_type": "code",
   "execution_count": 45,
   "id": "b138e78b",
   "metadata": {},
   "outputs": [
    {
     "data": {
      "text/plain": [
       "True"
      ]
     },
     "execution_count": 45,
     "metadata": {},
     "output_type": "execute_result"
    }
   ],
   "source": [
    "function_3_2(3) == [2, 3]"
   ]
  },
  {
   "cell_type": "code",
   "execution_count": 46,
   "id": "9c973a7d",
   "metadata": {},
   "outputs": [
    {
     "data": {
      "text/plain": [
       "True"
      ]
     },
     "execution_count": 46,
     "metadata": {},
     "output_type": "execute_result"
    }
   ],
   "source": [
    "function_3_2(10) == [2, 3, 5, 7]"
   ]
  },
  {
   "cell_type": "code",
   "execution_count": 47,
   "id": "7a8848b6",
   "metadata": {},
   "outputs": [
    {
     "data": {
      "text/plain": [
       "True"
      ]
     },
     "execution_count": 47,
     "metadata": {},
     "output_type": "execute_result"
    }
   ],
   "source": [
    "function_3_2(20) == [2, 3, 5, 7, 11, 13, 17, 19]"
   ]
  },
  {
   "cell_type": "markdown",
   "id": "7ac7ad30",
   "metadata": {},
   "source": [
    "#### Значение для формы"
   ]
  },
  {
   "cell_type": "code",
   "execution_count": 48,
   "id": "7216ed63",
   "metadata": {},
   "outputs": [
    {
     "name": "stdout",
     "output_type": "stream",
     "text": [
      "5736396\n"
     ]
    }
   ],
   "source": [
    "print(sum(function_3_2(10000)))"
   ]
  },
  {
   "cell_type": "markdown",
   "id": "2466c8e6",
   "metadata": {},
   "source": [
    "## Задание 4.1\n",
    "\n",
    "Напишите функцию, которая по множеству, возвращает список всех его подмножеств"
   ]
  },
  {
   "cell_type": "code",
   "execution_count": 49,
   "id": "709fe68e",
   "metadata": {},
   "outputs": [],
   "source": [
    "from itertools import chain, combinations\n",
    "\n",
    "def function_4_1(my_set):\n",
    "    s = list(my_set)\n",
    "    return list(chain.from_iterable(combinations(s, r) for r in range(len(s)+1)))"
   ]
  },
  {
   "cell_type": "code",
   "execution_count": 50,
   "id": "7c2b7308",
   "metadata": {},
   "outputs": [
    {
     "data": {
      "text/plain": [
       "[(), (1,), (2,), (3,), (1, 2), (1, 3), (2, 3), (1, 2, 3)]"
      ]
     },
     "execution_count": 50,
     "metadata": {},
     "output_type": "execute_result"
    }
   ],
   "source": [
    "function_4_1([1,2,3])"
   ]
  },
  {
   "cell_type": "code",
   "execution_count": 51,
   "id": "5326f96c",
   "metadata": {},
   "outputs": [],
   "source": [
    "def check_4_1(my_set, function_res):\n",
    "    if len(function_res) != len(set(map(frozenset, function_res))):\n",
    "        return False\n",
    "    if len(function_res) != 2 ** len(my_set):\n",
    "        return False\n",
    "    return all(set(x) <= my_set for x in function_res)"
   ]
  },
  {
   "cell_type": "code",
   "execution_count": 52,
   "id": "0b6f608d",
   "metadata": {},
   "outputs": [
    {
     "data": {
      "text/plain": [
       "True"
      ]
     },
     "execution_count": 52,
     "metadata": {},
     "output_type": "execute_result"
    }
   ],
   "source": [
    "check_4_1(set(range(10)), function_4_1(set(range(10))))"
   ]
  },
  {
   "cell_type": "code",
   "execution_count": 53,
   "id": "42e68ce2",
   "metadata": {},
   "outputs": [
    {
     "data": {
      "text/plain": [
       "True"
      ]
     },
     "execution_count": 53,
     "metadata": {},
     "output_type": "execute_result"
    }
   ],
   "source": [
    "check_4_1(set(range(1)), function_4_1(set(range(1))))"
   ]
  },
  {
   "cell_type": "code",
   "execution_count": 54,
   "id": "5289e9f2",
   "metadata": {},
   "outputs": [
    {
     "data": {
      "text/plain": [
       "True"
      ]
     },
     "execution_count": 54,
     "metadata": {},
     "output_type": "execute_result"
    }
   ],
   "source": [
    "check_4_1(set(range(20)), function_4_1(set(range(20))))"
   ]
  },
  {
   "cell_type": "markdown",
   "id": "a2bc006d",
   "metadata": {},
   "source": [
    "#### Значение для формы"
   ]
  },
  {
   "cell_type": "code",
   "execution_count": 55,
   "id": "020be033",
   "metadata": {},
   "outputs": [
    {
     "name": "stdout",
     "output_type": "stream",
     "text": [
      "220416\n"
     ]
    }
   ],
   "source": [
    "print(sum([ len(subset) - sum(subset) + sum(subset) ** 2 \n",
    "           for subset in function_4_1(set(range(2, 21, 3)))]))"
   ]
  },
  {
   "cell_type": "markdown",
   "id": "540c97b4",
   "metadata": {},
   "source": [
    "## Задание 4.2\n",
    "\n",
    "Напишите функцию раскладывающее число на простые множители\n",
    "\n",
    "по числу $n$ нужно вернуть список пар $(p_i, c_i)$ такой, что $\\prod_i~p_i^{c_i} = n$"
   ]
  },
  {
   "cell_type": "code",
   "execution_count": 68,
   "id": "53dd1a09",
   "metadata": {},
   "outputs": [],
   "source": [
    "def is_prime(n):\n",
    "    return n > 1 and all(n % i != 0 for i in range(2, n))\n",
    "\n",
    "def function_4_2(n):\n",
    "    origin = n \n",
    "    factors = []\n",
    "    for i in range(2,n+1):\n",
    "        while np.prod(factors) != origin: \n",
    "            if is_prime(i)==True:                \n",
    "                while n % i == 0 :\n",
    "                    n = n / i\n",
    "                    factors.append(i)\n",
    "                i += 1\n",
    "            else:\n",
    "                break\n",
    "    \n",
    "    return [[x,factors.count(x)] for x in set(factors)]\n",
    "    "
   ]
  },
  {
   "cell_type": "code",
   "execution_count": 58,
   "id": "85cbd428",
   "metadata": {},
   "outputs": [],
   "source": [
    "def check_4_2(n, my_list):\n",
    "    prod = 1\n",
    "    for p, c in my_list:\n",
    "        if not is_prime(p):\n",
    "            return False\n",
    "        prod *= p ** c\n",
    "    return prod == n"
   ]
  },
  {
   "cell_type": "code",
   "execution_count": 59,
   "id": "636132c3",
   "metadata": {},
   "outputs": [
    {
     "data": {
      "text/plain": [
       "True"
      ]
     },
     "execution_count": 59,
     "metadata": {},
     "output_type": "execute_result"
    }
   ],
   "source": [
    "check_4_2(10, function_4_2(10))"
   ]
  },
  {
   "cell_type": "code",
   "execution_count": 60,
   "id": "d7f8f2d4",
   "metadata": {},
   "outputs": [
    {
     "data": {
      "text/plain": [
       "True"
      ]
     },
     "execution_count": 60,
     "metadata": {},
     "output_type": "execute_result"
    }
   ],
   "source": [
    "check_4_2(11690, function_4_2(11690))"
   ]
  },
  {
   "cell_type": "code",
   "execution_count": 61,
   "id": "4feae4b3",
   "metadata": {},
   "outputs": [
    {
     "data": {
      "text/plain": [
       "True"
      ]
     },
     "execution_count": 61,
     "metadata": {},
     "output_type": "execute_result"
    }
   ],
   "source": [
    "check_4_2(254242, function_4_2(254242))"
   ]
  },
  {
   "cell_type": "markdown",
   "id": "200010f4",
   "metadata": {},
   "source": [
    "#### Значение для формы"
   ]
  },
  {
   "cell_type": "code",
   "execution_count": 79,
   "id": "083f2d46",
   "metadata": {},
   "outputs": [
    {
     "name": "stdout",
     "output_type": "stream",
     "text": [
      "441711766194596082395824375185729628956870974218904739530401550323154733\n"
     ]
    }
   ],
   "source": [
    "print(sum(\n",
    "    (c + 1) ** (p - 1) * c - p\n",
    "    for p, c in function_4_2(7648)\n",
    "))"
   ]
  },
  {
   "cell_type": "code",
   "execution_count": 76,
   "id": "62ba4c4c",
   "metadata": {},
   "outputs": [
    {
     "data": {
      "text/plain": [
       "list"
      ]
     },
     "execution_count": 76,
     "metadata": {},
     "output_type": "execute_result"
    }
   ],
   "source": [
    "a = function_4_2(7648)\n",
    "type(a)"
   ]
  },
  {
   "cell_type": "code",
   "execution_count": 70,
   "id": "eadced78",
   "metadata": {},
   "outputs": [],
   "source": [
    "def is_prime(n):\n",
    "    return n > 1 and all(n % i != 0 for i in range(2, n))\n",
    "\n",
    "def function_4_3(n):\n",
    "    origin = n \n",
    "    factors = []\n",
    "    primes = [i for i in np.arange(2,n+1) if is_prime(i) ]\n",
    "    while np.prod(factors) != origin: \n",
    "        for i in primes:\n",
    "            while (n % i == 0)   :\n",
    "                n = n / i\n",
    "                factors.append(i)\n",
    "            i += 1\n",
    "        \n",
    "    return [[x,factors.count(x)] for x in set(factors)]"
   ]
  },
  {
   "cell_type": "code",
   "execution_count": 90,
   "id": "ff4e2089",
   "metadata": {},
   "outputs": [
    {
     "data": {
      "text/plain": [
       "[[2, 5], [239, 1]]"
      ]
     },
     "execution_count": 90,
     "metadata": {},
     "output_type": "execute_result"
    }
   ],
   "source": [
    "b = function_4_3(7648)\n",
    "b"
   ]
  },
  {
   "cell_type": "code",
   "execution_count": 95,
   "id": "75d4102a",
   "metadata": {},
   "outputs": [
    {
     "data": {
      "text/plain": [
       "True"
      ]
     },
     "execution_count": 95,
     "metadata": {},
     "output_type": "execute_result"
    }
   ],
   "source": [
    "function_4_3(7648) == [[2, 5], [239, 1]]"
   ]
  },
  {
   "cell_type": "code",
   "execution_count": 96,
   "id": "15cee4e5",
   "metadata": {},
   "outputs": [
    {
     "name": "stdout",
     "output_type": "stream",
     "text": [
      "-211\n"
     ]
    }
   ],
   "source": [
    "print(sum(\n",
    "    (c + 1) ** (p - 1) * c - p\n",
    "    for p, c in function_4_3(7648)\n",
    "))"
   ]
  },
  {
   "cell_type": "code",
   "execution_count": 97,
   "id": "aa46c65a",
   "metadata": {
    "scrolled": true
   },
   "outputs": [
    {
     "name": "stdout",
     "output_type": "stream",
     "text": [
      "441711766194596082395824375185729628956870974218904739530401550323154733\n"
     ]
    }
   ],
   "source": [
    "print(sum(\n",
    "    (c + 1) ** (p - 1) * c - p\n",
    "    for p, c in [[2, 5], [239, 1]]\n",
    "))"
   ]
  },
  {
   "cell_type": "code",
   "execution_count": 75,
   "id": "23dbeea2",
   "metadata": {},
   "outputs": [
    {
     "data": {
      "text/plain": [
       "True"
      ]
     },
     "execution_count": 75,
     "metadata": {},
     "output_type": "execute_result"
    }
   ],
   "source": [
    "a == b "
   ]
  },
  {
   "cell_type": "markdown",
   "id": "4d88e40a",
   "metadata": {},
   "source": [
    "## Offtop"
   ]
  },
  {
   "cell_type": "markdown",
   "id": "da728103",
   "metadata": {},
   "source": [
    "###  break, continue, pass"
   ]
  },
  {
   "cell_type": "code",
   "execution_count": 36,
   "id": "916c17aa",
   "metadata": {},
   "outputs": [
    {
     "name": "stdout",
     "output_type": "stream",
     "text": [
      "1\n",
      "2\n",
      "3\n",
      "4\n",
      "6\n",
      "7\n",
      "8\n",
      "9\n",
      "10\n",
      "11\n",
      "12\n",
      "13\n",
      "14\n",
      "Out of loop\n"
     ]
    }
   ],
   "source": [
    "number = 0\n",
    "\n",
    "for number in range(20):\n",
    "    number = number + 1\n",
    "    \n",
    "    if number == 5:\n",
    "        continue    # continue here\n",
    "        \n",
    "    if number == 10:\n",
    "        pass # pass statement allows you to handle the condition without the loop being impacted in any way\n",
    "    \n",
    "    if number == 15:\n",
    "        break    # break here\n",
    "        \n",
    "    print(number)\n",
    "\n",
    "print('Out of loop')"
   ]
  },
  {
   "cell_type": "markdown",
   "id": "0e9a0419",
   "metadata": {},
   "source": [
    "### Области видимости переменных\n"
   ]
  },
  {
   "cell_type": "markdown",
   "id": "25420829",
   "metadata": {},
   "source": [
    "- Объекты и переменные: переменная как временный способ доступа к объекту\n",
    "- Внешние переменные (и первые отсылки к тому, что разные переменные могут ссылаться на один и тот же объект)\n",
    "- Константы\n",
    "- Видимость переменных внутри функции\n",
    "- Одноименные внешние переменные. Затенение внешних переменных при присваивании\n",
    "- Одноименные переменные в разных функциях\n",
    "- Функция main как способ не загрязнять пространство имён\n",
    "- Модификатор видимости global\n",
    "- Использование глобальных переменных для продления времени жизни переменной (жизнь между вызовами функции)\n",
    "- Аргументы функций как локальные переменные\n"
   ]
  },
  {
   "cell_type": "code",
   "execution_count": null,
   "id": "b0f6364c",
   "metadata": {},
   "outputs": [],
   "source": []
  },
  {
   "cell_type": "markdown",
   "id": "9704bb3c",
   "metadata": {},
   "source": [
    "### Функции с переменным числом аргументов\n",
    "\n",
    "- Запаковка и распаковка значений при множественном присваивании. \n",
    "- Использование звёздочкиЗвёздочка в сигнатуре функции для приёма произвольного числа аргументов\n",
    "- Аргументы по умолчанию\n",
    "- Именованные аргументы\n",
    "- Согласование списков аргументов. Инструкция pass\n",
    "- Словарь именованных аргументов"
   ]
  },
  {
   "cell_type": "code",
   "execution_count": 1,
   "id": "4483fa78",
   "metadata": {},
   "outputs": [],
   "source": [
    "def partialSums(*q):\n",
    "    q = list(q)\n",
    "    b = []\n",
    "    for i in range(len(q) + 1):\n",
    "        k = 0\n",
    "        for j in range (i):\n",
    "            k += q[j]\n",
    "        b.append(k)       \n",
    "    return b"
   ]
  },
  {
   "cell_type": "code",
   "execution_count": 3,
   "id": "7b1c30a3",
   "metadata": {},
   "outputs": [
    {
     "data": {
      "text/plain": [
       "[0, 1, 6, 12, 22, 33]"
      ]
     },
     "execution_count": 3,
     "metadata": {},
     "output_type": "execute_result"
    }
   ],
   "source": [
    "partialSums(1,5,6,10,11)"
   ]
  },
  {
   "cell_type": "code",
   "execution_count": null,
   "id": "03dd7481",
   "metadata": {},
   "outputs": [],
   "source": []
  },
  {
   "cell_type": "markdown",
   "id": "a2b05af5",
   "metadata": {},
   "source": [
    "### Функция map"
   ]
  },
  {
   "cell_type": "code",
   "execution_count": null,
   "id": "7491a021",
   "metadata": {},
   "outputs": [],
   "source": []
  },
  {
   "cell_type": "markdown",
   "id": "c4619a31",
   "metadata": {},
   "source": [
    "### Библиотеки Python"
   ]
  },
  {
   "cell_type": "markdown",
   "id": "10cabc84",
   "metadata": {},
   "source": [
    "Репозиторий PyPI"
   ]
  },
  {
   "cell_type": "markdown",
   "id": "898bb81f",
   "metadata": {},
   "source": [
    "Модуль random"
   ]
  },
  {
   "cell_type": "markdown",
   "id": "880935da",
   "metadata": {},
   "source": [
    "Модуль wave"
   ]
  },
  {
   "cell_type": "markdown",
   "id": "b05843c6",
   "metadata": {},
   "source": []
  },
  {
   "cell_type": "markdown",
   "id": "a470aa8e",
   "metadata": {},
   "source": [
    "### try, except:"
   ]
  },
  {
   "cell_type": "code",
   "execution_count": 43,
   "id": "a9e68b95",
   "metadata": {},
   "outputs": [
    {
     "name": "stdout",
     "output_type": "stream",
     "text": [
      "Введите целое число: 10\n",
      "20\n"
     ]
    }
   ],
   "source": [
    "try:\n",
    "    a = int(input(\"Введите целое число: \"))\n",
    "    print(a + 10)\n",
    "except ValueError:\n",
    "    print(\"Неверное число\")"
   ]
  },
  {
   "cell_type": "markdown",
   "id": "6cfa49cd",
   "metadata": {},
   "source": [
    "Если нужен доступ к исключению как к объекту, пригодится такая конструкция. В данном примере в переменную ve попадает объект класса ValueError, а функция dir позволяет увидеть содержимое этого объекта."
   ]
  },
  {
   "cell_type": "code",
   "execution_count": 45,
   "id": "58774048",
   "metadata": {},
   "outputs": [
    {
     "name": "stdout",
     "output_type": "stream",
     "text": [
      "Введите целое число: 2,5\n",
      "Неверное число\n",
      "invalid literal for int() with base 10: '2,5'\n",
      "['__cause__', '__class__', '__context__', '__delattr__', '__dict__', '__dir__', '__doc__', '__eq__', '__format__', '__ge__', '__getattribute__', '__gt__', '__hash__', '__init__', '__init_subclass__', '__le__', '__lt__', '__ne__', '__new__', '__reduce__', '__reduce_ex__', '__repr__', '__setattr__', '__setstate__', '__sizeof__', '__str__', '__subclasshook__', '__suppress_context__', '__traceback__', 'args', 'with_traceback']\n"
     ]
    }
   ],
   "source": [
    "try:\n",
    "    a = int(input(\"Введите целое число: \"))\n",
    "    print(a + 10)\n",
    "except ValueError as ve:\n",
    "    print(\"Неверное число\")\n",
    "    print(ve)\n",
    "    print(dir(ve))"
   ]
  },
  {
   "cell_type": "code",
   "execution_count": 47,
   "id": "047ff4e2",
   "metadata": {},
   "outputs": [
    {
     "name": "stdout",
     "output_type": "stream",
     "text": [
      "Введите номер карты (16 цифр): 42\n"
     ]
    },
    {
     "ename": "ValueError",
     "evalue": "Неверный формат номера",
     "output_type": "error",
     "traceback": [
      "\u001b[0;31m---------------------------------------------------------------------------\u001b[0m",
      "\u001b[0;31mValueError\u001b[0m                                Traceback (most recent call last)",
      "\u001b[0;32m<ipython-input-47-bfa0ee7c897a>\u001b[0m in \u001b[0;36m<module>\u001b[0;34m()\u001b[0m\n\u001b[1;32m      6\u001b[0m     \u001b[0;32mreturn\u001b[0m \u001b[0mcard_number\u001b[0m\u001b[0;34m\u001b[0m\u001b[0m\n\u001b[1;32m      7\u001b[0m \u001b[0;34m\u001b[0m\u001b[0m\n\u001b[0;32m----> 8\u001b[0;31m \u001b[0mget_card_number\u001b[0m\u001b[0;34m(\u001b[0m\u001b[0;34m)\u001b[0m\u001b[0;34m\u001b[0m\u001b[0m\n\u001b[0m",
      "\u001b[0;32m<ipython-input-47-bfa0ee7c897a>\u001b[0m in \u001b[0;36mget_card_number\u001b[0;34m()\u001b[0m\n\u001b[1;32m      3\u001b[0m     \u001b[0mcard_number\u001b[0m \u001b[0;34m=\u001b[0m \u001b[0;34m\"\"\u001b[0m\u001b[0;34m.\u001b[0m\u001b[0mjoin\u001b[0m\u001b[0;34m(\u001b[0m\u001b[0mcard_number\u001b[0m\u001b[0;34m.\u001b[0m\u001b[0mstrip\u001b[0m\u001b[0;34m(\u001b[0m\u001b[0;34m)\u001b[0m\u001b[0;34m.\u001b[0m\u001b[0msplit\u001b[0m\u001b[0;34m(\u001b[0m\u001b[0;34m)\u001b[0m\u001b[0;34m)\u001b[0m\u001b[0;34m\u001b[0m\u001b[0m\n\u001b[1;32m      4\u001b[0m     \u001b[0;32mif\u001b[0m \u001b[0;32mnot\u001b[0m \u001b[0;34m(\u001b[0m\u001b[0mcard_number\u001b[0m\u001b[0;34m.\u001b[0m\u001b[0misdigit\u001b[0m\u001b[0;34m(\u001b[0m\u001b[0;34m)\u001b[0m \u001b[0;32mand\u001b[0m \u001b[0mlen\u001b[0m\u001b[0;34m(\u001b[0m\u001b[0mcard_number\u001b[0m\u001b[0;34m)\u001b[0m \u001b[0;34m==\u001b[0m \u001b[0;36m16\u001b[0m\u001b[0;34m)\u001b[0m\u001b[0;34m:\u001b[0m\u001b[0;34m\u001b[0m\u001b[0m\n\u001b[0;32m----> 5\u001b[0;31m         \u001b[0;32mraise\u001b[0m \u001b[0mValueError\u001b[0m\u001b[0;34m(\u001b[0m\u001b[0;34m\"Неверный формат номера\"\u001b[0m\u001b[0;34m)\u001b[0m\u001b[0;34m\u001b[0m\u001b[0m\n\u001b[0m\u001b[1;32m      6\u001b[0m     \u001b[0;32mreturn\u001b[0m \u001b[0mcard_number\u001b[0m\u001b[0;34m\u001b[0m\u001b[0m\n\u001b[1;32m      7\u001b[0m \u001b[0;34m\u001b[0m\u001b[0m\n",
      "\u001b[0;31mValueError\u001b[0m: Неверный формат номера"
     ]
    }
   ],
   "source": [
    "def get_card_number():\n",
    "    card_number = input(\"Введите номер карты (16 цифр): \")\n",
    "    card_number = \"\".join(card_number.strip().split())\n",
    "    if not (card_number.isdigit() and len(card_number) == 16):\n",
    "        raise ValueError(\"Неверный формат номера\")\n",
    "    return card_number\n",
    "\n",
    "get_card_number()"
   ]
  },
  {
   "cell_type": "markdown",
   "id": "5da15072",
   "metadata": {},
   "source": [
    "К одному try может быть прикреплено несколько except. Блок finally выполняется независимо от того, создано ли исключение и какого оно типа. Порядок перечисления исключений важен. Перебор закончится на первом же подходящем по условию блоке"
   ]
  },
  {
   "cell_type": "code",
   "execution_count": 49,
   "id": "057704ec",
   "metadata": {},
   "outputs": [
    {
     "name": "stdout",
     "output_type": "stream",
     "text": [
      "0.5\n",
      "Идём дальше\n",
      "0.5714285714285714\n",
      "Идём дальше\n",
      "Поделили на 0\n",
      "Идём дальше\n",
      "Непредвиденная ошибка unsupported operand type(s) for /: 'int' and 'NoneType'\n",
      "Идём дальше\n",
      "Мы за границей списка\n",
      "Идём дальше\n",
      "Мы за границей списка\n",
      "Идём дальше\n",
      "Мы за границей списка\n",
      "Идём дальше\n",
      "Мы за границей списка\n",
      "Идём дальше\n",
      "Мы за границей списка\n",
      "Идём дальше\n",
      "Мы за границей списка\n",
      "Идём дальше\n"
     ]
    }
   ],
   "source": [
    "s = [(1, 2), (4, 7), (1, 0), (13, None)]\n",
    " \n",
    "for i in range(10):\n",
    "    try:\n",
    "        x, y = s[i]\n",
    "        print(x / y)\n",
    "    except IndexError:\n",
    "        print('Мы за границей списка')\n",
    "    except ZeroDivisionError as e:\n",
    "        print('Поделили на 0')\n",
    "    except Exception as e:\n",
    "        print('Непредвиденная ошибка %s' % e)\n",
    "    finally:\n",
    "        print('Идём дальше')\n",
    " "
   ]
  },
  {
   "cell_type": "markdown",
   "id": "1e27042e",
   "metadata": {},
   "source": [
    "#### Создание пользовательских типов ошибок"
   ]
  },
  {
   "cell_type": "markdown",
   "id": "7d0cceff",
   "metadata": {},
   "source": [
    "Exception — класс-родитель для большинства встроенных исключений. Все они могут быть приведены к типу Exception и провалились в первый же блок except."
   ]
  },
  {
   "cell_type": "code",
   "execution_count": 50,
   "id": "d1fcb7da",
   "metadata": {},
   "outputs": [
    {
     "name": "stdout",
     "output_type": "stream",
     "text": [
      "Введите номер карты (16 цифр): 15\n"
     ]
    },
    {
     "ename": "CardFormatError",
     "evalue": "Неверный формат номера",
     "output_type": "error",
     "traceback": [
      "\u001b[0;31m---------------------------------------------------------------------------\u001b[0m",
      "\u001b[0;31mCardFormatError\u001b[0m                           Traceback (most recent call last)",
      "\u001b[0;32m<ipython-input-50-d1c8fa47fa22>\u001b[0m in \u001b[0;36m<module>\u001b[0;34m()\u001b[0m\n\u001b[1;32m     12\u001b[0m     \u001b[0;32mreturn\u001b[0m \u001b[0mcard_number\u001b[0m\u001b[0;34m\u001b[0m\u001b[0m\n\u001b[1;32m     13\u001b[0m \u001b[0;34m\u001b[0m\u001b[0m\n\u001b[0;32m---> 14\u001b[0;31m \u001b[0mget_card_number\u001b[0m\u001b[0;34m(\u001b[0m\u001b[0;34m)\u001b[0m\u001b[0;34m\u001b[0m\u001b[0m\n\u001b[0m",
      "\u001b[0;32m<ipython-input-50-d1c8fa47fa22>\u001b[0m in \u001b[0;36mget_card_number\u001b[0;34m()\u001b[0m\n\u001b[1;32m      9\u001b[0m     \u001b[0mcard_number\u001b[0m \u001b[0;34m=\u001b[0m \u001b[0;34m\"\"\u001b[0m\u001b[0;34m.\u001b[0m\u001b[0mjoin\u001b[0m\u001b[0;34m(\u001b[0m\u001b[0mcard_number\u001b[0m\u001b[0;34m.\u001b[0m\u001b[0mstrip\u001b[0m\u001b[0;34m(\u001b[0m\u001b[0;34m)\u001b[0m\u001b[0;34m.\u001b[0m\u001b[0msplit\u001b[0m\u001b[0;34m(\u001b[0m\u001b[0;34m)\u001b[0m\u001b[0;34m)\u001b[0m\u001b[0;34m\u001b[0m\u001b[0m\n\u001b[1;32m     10\u001b[0m     \u001b[0;32mif\u001b[0m \u001b[0;32mnot\u001b[0m \u001b[0;34m(\u001b[0m\u001b[0mcard_number\u001b[0m\u001b[0;34m.\u001b[0m\u001b[0misdigit\u001b[0m\u001b[0;34m(\u001b[0m\u001b[0;34m)\u001b[0m \u001b[0;32mand\u001b[0m \u001b[0mlen\u001b[0m\u001b[0;34m(\u001b[0m\u001b[0mcard_number\u001b[0m\u001b[0;34m)\u001b[0m \u001b[0;34m==\u001b[0m \u001b[0;36m16\u001b[0m\u001b[0;34m)\u001b[0m\u001b[0;34m:\u001b[0m\u001b[0;34m\u001b[0m\u001b[0m\n\u001b[0;32m---> 11\u001b[0;31m         \u001b[0;32mraise\u001b[0m \u001b[0mCardFormatError\u001b[0m\u001b[0;34m(\u001b[0m\u001b[0;34m\"Неверный формат номера\"\u001b[0m\u001b[0;34m)\u001b[0m\u001b[0;34m\u001b[0m\u001b[0m\n\u001b[0m\u001b[1;32m     12\u001b[0m     \u001b[0;32mreturn\u001b[0m \u001b[0mcard_number\u001b[0m\u001b[0;34m\u001b[0m\u001b[0m\n\u001b[1;32m     13\u001b[0m \u001b[0;34m\u001b[0m\u001b[0m\n",
      "\u001b[0;31mCardFormatError\u001b[0m: Неверный формат номера"
     ]
    }
   ],
   "source": [
    "class CardError(Exception):\n",
    "    pass\n",
    "\n",
    "class CardFormatError(CardError):\n",
    "    pass\n",
    "\n",
    "def get_card_number():\n",
    "    card_number = input(\"Введите номер карты (16 цифр): \")\n",
    "    card_number = \"\".join(card_number.strip().split())\n",
    "    if not (card_number.isdigit() and len(card_number) == 16):\n",
    "        raise CardFormatError(\"Неверный формат номера\")\n",
    "    return card_number \n",
    "\n",
    "get_card_number()"
   ]
  },
  {
   "cell_type": "markdown",
   "id": "cf12fd20",
   "metadata": {},
   "source": [
    "#### Перехват системных исключений"
   ]
  },
  {
   "cell_type": "markdown",
   "id": "0fdf0fd6",
   "metadata": {},
   "source": [
    "В иерархии классов-исключений есть исключения SystemExit и KeyboardInterrupt.\n",
    "\n",
    "Их можно использовать. Например, нажатие комбинации Ctrl+C обычно прекращает работу программы и генерирует исключение прерывание от клавиатуры."
   ]
  },
  {
   "cell_type": "code",
   "execution_count": 52,
   "id": "09a00c34",
   "metadata": {},
   "outputs": [
    {
     "name": "stdout",
     "output_type": "stream",
     "text": [
      "1\n",
      "2\n",
      "Действительно остановить? yes\n"
     ]
    }
   ],
   "source": [
    "from time import sleep\n",
    "a = 0\n",
    "\n",
    "while True:\n",
    "    try:\n",
    "        a += 1\n",
    "        print(a)\n",
    "        sleep(15)\n",
    "    except KeyboardInterrupt:\n",
    "        res = input('Действительно остановить? ')\n",
    "        if res == 'yes':\n",
    "            break"
   ]
  },
  {
   "cell_type": "markdown",
   "id": "996ddcb8",
   "metadata": {},
   "source": [
    "### assert"
   ]
  },
  {
   "cell_type": "markdown",
   "id": "5dc73fe9",
   "metadata": {},
   "source": [
    "Конструкция assert — это часть Python, связанная с тестированием. Тестирование мы ещё не проходили, но это не помешает понять, как же assert работает.\n",
    "\n",
    "Можно снабдить программу разными вспомогательными проверками. Они помогут контролировать правильность исполнения. Если какое-то условие не будет выполнено, то программа аварийно остановится. Это помогает тестировать и отлаживать ПО."
   ]
  },
  {
   "cell_type": "code",
   "execution_count": 53,
   "id": "e57be097",
   "metadata": {},
   "outputs": [
    {
     "ename": "AssertionError",
     "evalue": "",
     "output_type": "error",
     "traceback": [
      "\u001b[0;31m---------------------------------------------------------------------------\u001b[0m",
      "\u001b[0;31mAssertionError\u001b[0m                            Traceback (most recent call last)",
      "\u001b[0;32m<ipython-input-53-7a8c905dd9d7>\u001b[0m in \u001b[0;36m<module>\u001b[0;34m()\u001b[0m\n\u001b[1;32m      1\u001b[0m \u001b[0ms\u001b[0m \u001b[0;34m=\u001b[0m \u001b[0;34m[\u001b[0m\u001b[0;36m1\u001b[0m\u001b[0;34m,\u001b[0m \u001b[0;36m2\u001b[0m\u001b[0;34m,\u001b[0m \u001b[0;36m34\u001b[0m\u001b[0;34m,\u001b[0m \u001b[0;36m54\u001b[0m\u001b[0;34m,\u001b[0m \u001b[0;36m3\u001b[0m\u001b[0;34m]\u001b[0m\u001b[0;34m\u001b[0m\u001b[0m\n\u001b[0;32m----> 2\u001b[0;31m \u001b[0;32massert\u001b[0m \u001b[0mlen\u001b[0m\u001b[0;34m(\u001b[0m\u001b[0ms\u001b[0m\u001b[0;34m)\u001b[0m \u001b[0;34m==\u001b[0m \u001b[0;36m4\u001b[0m\u001b[0;34m\u001b[0m\u001b[0m\n\u001b[0m",
      "\u001b[0;31mAssertionError\u001b[0m: "
     ]
    }
   ],
   "source": [
    "s = [1, 2, 34, 54, 3]\n",
    "assert len(s) == 4"
   ]
  },
  {
   "cell_type": "markdown",
   "id": "0b5937f8",
   "metadata": {},
   "source": [
    "### [Guide to Python's Magic Methods](https://rszalski.github.io/magicmethods/)"
   ]
  },
  {
   "cell_type": "markdown",
   "id": "cd5030c4",
   "metadata": {},
   "source": [
    "##  Классы"
   ]
  },
  {
   "cell_type": "markdown",
   "id": "eed69eff",
   "metadata": {},
   "source": [
    "В ООП появляется ещё один пример модульности — объект. Объекты хранят внутри себя и данные, и обрабатывающие их функции. \n"
   ]
  },
  {
   "cell_type": "code",
   "execution_count": null,
   "id": "7c01e491",
   "metadata": {},
   "outputs": [],
   "source": []
  },
  {
   "cell_type": "markdown",
   "id": "120ab20f",
   "metadata": {},
   "source": [
    "### Определение операторов"
   ]
  },
  {
   "cell_type": "code",
   "execution_count": 5,
   "id": "8a63d966",
   "metadata": {},
   "outputs": [],
   "source": [
    "class  FoodInfo:\n",
    "    def __init__ (self, proteins, fats, carbohydrates):\n",
    "        self.proteins = proteins\n",
    "        self.fats = fats\n",
    "        self.carbohydrates = carbohydrates\n",
    "    def __add__ (self, other):\n",
    "        proteins1 = self.proteins + other.proteins\n",
    "        fats1 = self.fats + other.fats\n",
    "        carbohydrates1 = self.carbohydrates + other.carbohydrates\n",
    "        return (FoodInfo (proteins1, fats1, carbohydrates1))\n",
    "    def get_kcalories(self):\n",
    "        return  (4 * self.proteins + 9 * self.fats + 4 * self.carbohydrates)"
   ]
  },
  {
   "cell_type": "code",
   "execution_count": 10,
   "id": "4f901fce",
   "metadata": {},
   "outputs": [
    {
     "data": {
      "text/plain": [
       "510"
      ]
     },
     "execution_count": 10,
     "metadata": {},
     "output_type": "execute_result"
    }
   ],
   "source": [
    "food = FoodInfo(20,30,40)\n",
    "food.get_kcalories()"
   ]
  },
  {
   "cell_type": "code",
   "execution_count": 13,
   "id": "286ed298",
   "metadata": {},
   "outputs": [
    {
     "data": {
      "text/plain": [
       "1020"
      ]
     },
     "execution_count": 13,
     "metadata": {},
     "output_type": "execute_result"
    }
   ],
   "source": [
    "food2 = FoodInfo(20,30,40)\n",
    "food_sum = food + food2\n",
    "food_sum.get_kcalories()"
   ]
  },
  {
   "cell_type": "code",
   "execution_count": 20,
   "id": "7956a2d9",
   "metadata": {},
   "outputs": [],
   "source": [
    "class ReversedList:\n",
    "    def __init__ (self, spisok):\n",
    "        spisok.reverse()\n",
    "        self.spisok = spisok\n",
    "    def __len__ (self):\n",
    "        return len(self.spisok)\n",
    "    def __getitem__ (self, i):\n",
    "        return self.spisok[i]"
   ]
  },
  {
   "cell_type": "code",
   "execution_count": 21,
   "id": "fa3a9817",
   "metadata": {},
   "outputs": [
    {
     "data": {
      "text/plain": [
       "5"
      ]
     },
     "execution_count": 21,
     "metadata": {},
     "output_type": "execute_result"
    }
   ],
   "source": [
    "a = ReversedList([1,2,3,4,5])\n",
    "len(a)"
   ]
  },
  {
   "cell_type": "code",
   "execution_count": 23,
   "id": "230f4497",
   "metadata": {},
   "outputs": [
    {
     "data": {
      "text/plain": [
       "1"
      ]
     },
     "execution_count": 23,
     "metadata": {},
     "output_type": "execute_result"
    }
   ],
   "source": [
    "a[4]"
   ]
  },
  {
   "cell_type": "code",
   "execution_count": 24,
   "id": "24e2d6e4",
   "metadata": {},
   "outputs": [],
   "source": [
    "class SquareFunction:\n",
    "    def __init__ (self, a, b, c):\n",
    "        self.a = a\n",
    "        self.b = b\n",
    "        self.c = c\n",
    "    def __call__(self, x):\n",
    "        return (self.a*x*x + self.b*x + self.c)"
   ]
  },
  {
   "cell_type": "code",
   "execution_count": 27,
   "id": "075ecf30",
   "metadata": {},
   "outputs": [
    {
     "data": {
      "text/plain": [
       "49"
      ]
     },
     "execution_count": 27,
     "metadata": {},
     "output_type": "execute_result"
    }
   ],
   "source": [
    "sqr = SquareFunction(1,2,1)\n",
    "sqr(6)"
   ]
  },
  {
   "cell_type": "code",
   "execution_count": 29,
   "id": "5c11c96d",
   "metadata": {},
   "outputs": [],
   "source": [
    "class Point:\n",
    "    def __init__ (self, x, y):\n",
    "        self.x = x \n",
    "        self.y = y\n",
    "    def __eq__ (self, other):\n",
    "        if (self.x == other.x) and (self.y == other.y) :\n",
    "            return (True)\n",
    "        else:\n",
    "            return (False)\n",
    "    def __ne__ (self, other):\n",
    "        if (self.x == other.x) and (self.y == other.y ):\n",
    "            return (False) \n",
    "        else:\n",
    "            return (True)        "
   ]
  },
  {
   "cell_type": "code",
   "execution_count": 31,
   "id": "4161dde8",
   "metadata": {},
   "outputs": [
    {
     "data": {
      "text/plain": [
       "False"
      ]
     },
     "execution_count": 31,
     "metadata": {},
     "output_type": "execute_result"
    }
   ],
   "source": [
    "poi = Point(3,8)\n",
    "poi2 = Point(8,1)\n",
    "poi == poi2"
   ]
  },
  {
   "cell_type": "code",
   "execution_count": 32,
   "id": "847e2d8d",
   "metadata": {},
   "outputs": [
    {
     "data": {
      "text/plain": [
       "True"
      ]
     },
     "execution_count": 32,
     "metadata": {},
     "output_type": "execute_result"
    }
   ],
   "source": [
    "poi != poi2"
   ]
  },
  {
   "cell_type": "code",
   "execution_count": null,
   "id": "073b37c8",
   "metadata": {},
   "outputs": [],
   "source": []
  },
  {
   "cell_type": "markdown",
   "id": "651f9d41",
   "metadata": {},
   "source": [
    "### ООП. Наследование"
   ]
  },
  {
   "cell_type": "markdown",
   "id": "12d711e6",
   "metadata": {},
   "source": [
    "В этом уроке объясняется понятие наследования, показывается его связь с уже известными понятиями объектно-ориентированного программирования (инкапсуляция и полиморфизм), описывается синтаксис и семантика наследования в Python. Мы рассмотрим приемы применения наследования: расширение и переопределение методов. Также обсуждается множественное наследование.\n",
    "\n",
    "- Объяснение понятия наследования\n",
    "- Синтаксис наследования в Python\n",
    "- Наследование методов\n",
    "- Расширение методов\n",
    "- Использование методов наследников в базовом классе\n",
    "- Переопределение методов\n",
    "- Множественное наследование"
   ]
  },
  {
   "cell_type": "code",
   "execution_count": null,
   "id": "488875a8",
   "metadata": {},
   "outputs": [],
   "source": [
    "class BaseObject():\n",
    "    def __init__ (self,x, y, z):\n",
    "        self.x = x\n",
    "        self.y = y\n",
    "        self.z = z\n",
    "    def get_coordinates(self):\n",
    "        return (self.x, self.y, self.z)\n",
    "class Block(BaseObject):\n",
    "    def shatter(self):\n",
    "        self.x = None\n",
    "        self.y = None\n",
    "        self.z = None\n",
    "class Entity(BaseObject):\n",
    "    def move(self, x, y, z):\n",
    "        self.x = x\n",
    "        self.y = y\n",
    "        self.z = z        \n"
   ]
  },
  {
   "cell_type": "code",
   "execution_count": 33,
   "id": "6ad6d26d",
   "metadata": {},
   "outputs": [],
   "source": [
    "class Summator: \n",
    "    def __init__(self): \n",
    "        pass \n",
    "    def transform(self, n): \n",
    "        return n \n",
    "    def sum(self, N): \n",
    "        answer = 0 \n",
    "        for n in range(1, N+1): \n",
    "            answer += self.transform(n) \n",
    "        return(answer) \n",
    "class PowerSummator(Summator):\n",
    "    def __init__(self,b):\n",
    "        self.b=b\n",
    "    def transform(self,n):\n",
    "        return n**self.b\n",
    "class SquareSummator(PowerSummator): \n",
    "    def __init__(self):\n",
    "        self.b=2\n",
    "class CubeSummator(PowerSummator): \n",
    "    def __init__(self):\n",
    "        self.b=3\n",
    "\n"
   ]
  },
  {
   "cell_type": "markdown",
   "id": "35e60a82",
   "metadata": {},
   "source": []
  },
  {
   "cell_type": "markdown",
   "id": "2269d28c",
   "metadata": {},
   "source": [
    "https://sahandsaba.com/python-classes-metaclasses.html\n",
    "\n",
    "https://jeffknupp.com/blog/2014/06/18/improve-your-python-python-classes-and-object-oriented-programming/\n",
    "\n",
    "\n",
    "- Классы, а именно создание своих классов, атрибуты (в том числе методы) класса, «магические методы».\n",
    "- Наследование, в том числе перегрузка методов и их дополнение с помощью обращения к методам базового класса через super()."
   ]
  },
  {
   "cell_type": "markdown",
   "id": "a07895cc",
   "metadata": {},
   "source": [
    "### Decorators"
   ]
  },
  {
   "cell_type": "markdown",
   "id": "6b624b03",
   "metadata": {},
   "source": [
    "https://hackernoon.com/decorators-in-python-8fd0dce93c08\n",
    "\n",
    "http://book.pythontips.com/en/latest/decorators.html\n",
    "\n",
    "https://realpython.com/primer-on-python-decorators/"
   ]
  },
  {
   "cell_type": "markdown",
   "id": "4f54cd30",
   "metadata": {},
   "source": [
    "So, @my_decorator is just an easier way of saying say_whee = my_decorator(say_whee). It’s how you apply a decorator to a function."
   ]
  },
  {
   "cell_type": "code",
   "execution_count": 2,
   "id": "73e694e6",
   "metadata": {},
   "outputs": [
    {
     "name": "stdout",
     "output_type": "stream",
     "text": [
      "Something is happening before the function is called.\n",
      "Whee!\n",
      "Something is happening after the function is called.\n"
     ]
    }
   ],
   "source": [
    "def my_decorator(func):\n",
    "    def wrapper():\n",
    "        print(\"Something is happening before the function is called.\")\n",
    "        func()\n",
    "        print(\"Something is happening after the function is called.\")\n",
    "    return wrapper\n",
    "\n",
    "@my_decorator\n",
    "def say_whee():\n",
    "    print(\"Whee!\")\n",
    "    \n",
    "    \n",
    "say_whee()"
   ]
  },
  {
   "cell_type": "code",
   "execution_count": null,
   "id": "99c81abe",
   "metadata": {},
   "outputs": [],
   "source": []
  }
 ],
 "metadata": {
  "hide_input": false,
  "kernelspec": {
   "display_name": "Python 3 (ipykernel)",
   "language": "python",
   "name": "python3"
  },
  "language_info": {
   "codemirror_mode": {
    "name": "ipython",
    "version": 3
   },
   "file_extension": ".py",
   "mimetype": "text/x-python",
   "name": "python",
   "nbconvert_exporter": "python",
   "pygments_lexer": "ipython3",
   "version": "3.11.6"
  },
  "latex_envs": {
   "LaTeX_envs_menu_present": true,
   "autoclose": true,
   "autocomplete": true,
   "bibliofile": "biblio.bib",
   "cite_by": "apalike",
   "current_citInitial": 1,
   "eqLabelWithNumbers": true,
   "eqNumInitial": 1,
   "hotkeys": {
    "equation": "Ctrl-E",
    "itemize": "Ctrl-I"
   },
   "labels_anchors": false,
   "latex_user_defs": false,
   "report_style_numbering": false,
   "user_envs_cfg": false
  },
  "toc": {
   "base_numbering": 1,
   "nav_menu": {},
   "number_sections": true,
   "sideBar": true,
   "skip_h1_title": false,
   "title_cell": "Table of Contents",
   "title_sidebar": "Contents",
   "toc_cell": false,
   "toc_position": {},
   "toc_section_display": true,
   "toc_window_display": false
  },
  "varInspector": {
   "cols": {
    "lenName": 16,
    "lenType": 16,
    "lenVar": 40
   },
   "kernels_config": {
    "python": {
     "delete_cmd_postfix": "",
     "delete_cmd_prefix": "del ",
     "library": "var_list.py",
     "varRefreshCmd": "print(var_dic_list())"
    },
    "r": {
     "delete_cmd_postfix": ") ",
     "delete_cmd_prefix": "rm(",
     "library": "var_list.r",
     "varRefreshCmd": "cat(var_dic_list()) "
    }
   },
   "types_to_exclude": [
    "module",
    "function",
    "builtin_function_or_method",
    "instance",
    "_Feature"
   ],
   "window_display": false
  }
 },
 "nbformat": 4,
 "nbformat_minor": 5
}
