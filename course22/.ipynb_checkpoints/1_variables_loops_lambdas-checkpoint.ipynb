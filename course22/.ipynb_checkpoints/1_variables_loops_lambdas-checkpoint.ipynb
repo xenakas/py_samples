{
 "cells": [
  {
   "cell_type": "markdown",
   "id": "46b7a10a",
   "metadata": {},
   "source": [
    "## Markdown"
   ]
  },
  {
   "cell_type": "code",
   "execution_count": 1,
   "id": "d43937e4",
   "metadata": {
    "ExecuteTime": {
     "end_time": "2022-04-24T10:07:33.376927Z",
     "start_time": "2022-04-24T10:07:33.374801Z"
    }
   },
   "outputs": [],
   "source": [
    "a = 1.23"
   ]
  },
  {
   "cell_type": "markdown",
   "id": "7f1d02ff",
   "metadata": {
    "variables": {
     "a": "1.23"
    }
   },
   "source": [
    "Пер. a = {{a}}"
   ]
  },
  {
   "cell_type": "code",
   "execution_count": 2,
   "id": "d57eb965",
   "metadata": {
    "ExecuteTime": {
     "end_time": "2022-04-24T10:11:21.911193Z",
     "start_time": "2022-04-24T10:11:21.790100Z"
    }
   },
   "outputs": [
    {
     "name": "stdout",
     "output_type": "stream",
     "text": [
      "Untitled1.ipynb  Untitled2.ipynb  Untitled.ipynb\r\n"
     ]
    }
   ],
   "source": [
    "!ls"
   ]
  },
  {
   "cell_type": "markdown",
   "id": "eb263db4",
   "metadata": {},
   "source": [
    "## Типы переменных"
   ]
  },
  {
   "cell_type": "code",
   "execution_count": null,
   "id": "90560325",
   "metadata": {},
   "outputs": [],
   "source": [
    "# int "
   ]
  },
  {
   "cell_type": "code",
   "execution_count": 3,
   "id": "de6afaff",
   "metadata": {
    "ExecuteTime": {
     "end_time": "2022-04-24T10:20:45.016426Z",
     "start_time": "2022-04-24T10:20:45.010976Z"
    }
   },
   "outputs": [
    {
     "data": {
      "text/plain": [
       "5.5"
      ]
     },
     "execution_count": 3,
     "metadata": {},
     "output_type": "execute_result"
    }
   ],
   "source": [
    "11 / 2"
   ]
  },
  {
   "cell_type": "code",
   "execution_count": 6,
   "id": "77485c28",
   "metadata": {
    "ExecuteTime": {
     "end_time": "2022-04-24T10:21:14.441734Z",
     "start_time": "2022-04-24T10:21:14.434360Z"
    }
   },
   "outputs": [
    {
     "name": "stdout",
     "output_type": "stream",
     "text": [
      "5\n",
      "1\n"
     ]
    }
   ],
   "source": [
    "print(11 // 2)\n",
    "print(11 % 2)"
   ]
  },
  {
   "cell_type": "code",
   "execution_count": 9,
   "id": "46aa90c3",
   "metadata": {
    "ExecuteTime": {
     "end_time": "2022-04-24T10:21:41.404140Z",
     "start_time": "2022-04-24T10:21:41.400226Z"
    }
   },
   "outputs": [
    {
     "data": {
      "text/plain": [
       "-5"
      ]
     },
     "execution_count": 9,
     "metadata": {},
     "output_type": "execute_result"
    }
   ],
   "source": [
    "11//2\n",
    "-(11//2)"
   ]
  },
  {
   "cell_type": "code",
   "execution_count": null,
   "id": "a1db828e",
   "metadata": {},
   "outputs": [],
   "source": [
    "# float "
   ]
  },
  {
   "cell_type": "code",
   "execution_count": 41,
   "id": "86eb9b18",
   "metadata": {
    "ExecuteTime": {
     "end_time": "2022-04-24T10:37:07.183731Z",
     "start_time": "2022-04-24T10:37:07.180897Z"
    }
   },
   "outputs": [],
   "source": [
    "a = 1/3\n",
    "b = 1-2/3"
   ]
  },
  {
   "cell_type": "code",
   "execution_count": 42,
   "id": "9b726b87",
   "metadata": {
    "ExecuteTime": {
     "end_time": "2022-04-24T10:37:14.437260Z",
     "start_time": "2022-04-24T10:37:14.434141Z"
    }
   },
   "outputs": [
    {
     "data": {
      "text/plain": [
       "float"
      ]
     },
     "execution_count": 42,
     "metadata": {},
     "output_type": "execute_result"
    }
   ],
   "source": [
    "type(a)"
   ]
  },
  {
   "cell_type": "code",
   "execution_count": 27,
   "id": "5568cabd",
   "metadata": {
    "ExecuteTime": {
     "end_time": "2022-04-24T10:28:20.952867Z",
     "start_time": "2022-04-24T10:28:20.950376Z"
    }
   },
   "outputs": [
    {
     "name": "stdout",
     "output_type": "stream",
     "text": [
      "0.33333333333333331483\n",
      "0.33333333333333331483\n"
     ]
    }
   ],
   "source": [
    "a = 1/3\n",
    "print(format(a, '.20f'))\n",
    "a = 1/3\n",
    "print(format(a, '.20f'))"
   ]
  },
  {
   "cell_type": "code",
   "execution_count": 40,
   "id": "69c7d942",
   "metadata": {
    "ExecuteTime": {
     "end_time": "2022-04-24T10:37:03.992464Z",
     "start_time": "2022-04-24T10:37:03.989383Z"
    }
   },
   "outputs": [
    {
     "data": {
      "text/plain": [
       "False"
      ]
     },
     "execution_count": 40,
     "metadata": {},
     "output_type": "execute_result"
    }
   ],
   "source": [
    "b == a "
   ]
  },
  {
   "cell_type": "code",
   "execution_count": 35,
   "id": "b7163823",
   "metadata": {
    "ExecuteTime": {
     "end_time": "2022-04-24T10:30:40.820900Z",
     "start_time": "2022-04-24T10:30:40.817630Z"
    }
   },
   "outputs": [
    {
     "data": {
      "text/plain": [
       "False"
      ]
     },
     "execution_count": 35,
     "metadata": {},
     "output_type": "execute_result"
    }
   ],
   "source": [
    "round(a, 20)==round(b, 20)"
   ]
  },
  {
   "cell_type": "code",
   "execution_count": 23,
   "id": "3d592aa2",
   "metadata": {
    "ExecuteTime": {
     "end_time": "2022-04-24T10:24:52.518324Z",
     "start_time": "2022-04-24T10:24:52.514275Z"
    }
   },
   "outputs": [
    {
     "data": {
      "text/plain": [
       "True"
      ]
     },
     "execution_count": 23,
     "metadata": {},
     "output_type": "execute_result"
    }
   ],
   "source": [
    "round(a, 10) ==  round(b, 10)"
   ]
  },
  {
   "cell_type": "code",
   "execution_count": 26,
   "id": "6fab7ee2",
   "metadata": {
    "ExecuteTime": {
     "end_time": "2022-04-24T10:25:30.653198Z",
     "start_time": "2022-04-24T10:25:30.647713Z"
    }
   },
   "outputs": [
    {
     "data": {
      "text/plain": [
       "True"
      ]
     },
     "execution_count": 26,
     "metadata": {},
     "output_type": "execute_result"
    }
   ],
   "source": [
    "# a-b < 10**(-10)\n",
    "a-b < 1e-10"
   ]
  },
  {
   "cell_type": "code",
   "execution_count": 36,
   "id": "f7b2faf5",
   "metadata": {
    "ExecuteTime": {
     "end_time": "2022-04-24T10:32:24.585935Z",
     "start_time": "2022-04-24T10:32:24.583899Z"
    }
   },
   "outputs": [],
   "source": [
    "from math import isclose "
   ]
  },
  {
   "cell_type": "code",
   "execution_count": 37,
   "id": "fe6f3286",
   "metadata": {
    "ExecuteTime": {
     "end_time": "2022-04-24T10:35:13.926429Z",
     "start_time": "2022-04-24T10:35:13.923188Z"
    }
   },
   "outputs": [
    {
     "data": {
      "text/plain": [
       "True"
      ]
     },
     "execution_count": 37,
     "metadata": {},
     "output_type": "execute_result"
    }
   ],
   "source": [
    "isclose(a,b)"
   ]
  },
  {
   "cell_type": "code",
   "execution_count": null,
   "id": "a1f6a8cf",
   "metadata": {},
   "outputs": [],
   "source": [
    "# boolean"
   ]
  },
  {
   "cell_type": "code",
   "execution_count": 44,
   "id": "9c9afa63",
   "metadata": {
    "ExecuteTime": {
     "end_time": "2022-04-24T10:37:37.797925Z",
     "start_time": "2022-04-24T10:37:37.795795Z"
    }
   },
   "outputs": [],
   "source": [
    "a = True\n",
    "b = False"
   ]
  },
  {
   "cell_type": "code",
   "execution_count": 39,
   "id": "a0c7208e",
   "metadata": {
    "ExecuteTime": {
     "end_time": "2022-04-24T10:36:58.263566Z",
     "start_time": "2022-04-24T10:36:58.258916Z"
    }
   },
   "outputs": [
    {
     "data": {
      "text/plain": [
       "bool"
      ]
     },
     "execution_count": 39,
     "metadata": {},
     "output_type": "execute_result"
    }
   ],
   "source": [
    "type(a)"
   ]
  },
  {
   "cell_type": "code",
   "execution_count": 47,
   "id": "fa5ff814",
   "metadata": {
    "ExecuteTime": {
     "end_time": "2022-04-24T10:38:08.242197Z",
     "start_time": "2022-04-24T10:38:08.239359Z"
    }
   },
   "outputs": [
    {
     "data": {
      "text/plain": [
       "0"
      ]
     },
     "execution_count": 47,
     "metadata": {},
     "output_type": "execute_result"
    }
   ],
   "source": [
    "a and b\n",
    "a * b"
   ]
  },
  {
   "cell_type": "code",
   "execution_count": 49,
   "id": "4ccd0291",
   "metadata": {
    "ExecuteTime": {
     "end_time": "2022-04-24T10:38:24.860133Z",
     "start_time": "2022-04-24T10:38:24.857290Z"
    }
   },
   "outputs": [
    {
     "data": {
      "text/plain": [
       "1"
      ]
     },
     "execution_count": 49,
     "metadata": {},
     "output_type": "execute_result"
    }
   ],
   "source": [
    "a or b\n",
    "a + b"
   ]
  },
  {
   "cell_type": "code",
   "execution_count": 50,
   "id": "e4b0857a",
   "metadata": {
    "ExecuteTime": {
     "end_time": "2022-04-24T10:38:56.375216Z",
     "start_time": "2022-04-24T10:38:56.372054Z"
    }
   },
   "outputs": [],
   "source": [
    "mas = [1,2,2,3]"
   ]
  },
  {
   "cell_type": "code",
   "execution_count": 65,
   "id": "e76167f6",
   "metadata": {
    "ExecuteTime": {
     "end_time": "2022-04-24T10:47:55.024541Z",
     "start_time": "2022-04-24T10:47:55.020346Z"
    }
   },
   "outputs": [
    {
     "data": {
      "text/plain": [
       "0"
      ]
     },
     "execution_count": 65,
     "metadata": {},
     "output_type": "execute_result"
    }
   ],
   "source": [
    "a = 1\n",
    "a -= 1\n",
    "a"
   ]
  },
  {
   "cell_type": "code",
   "execution_count": 68,
   "id": "b2057fd7",
   "metadata": {
    "ExecuteTime": {
     "end_time": "2022-04-24T10:48:19.401303Z",
     "start_time": "2022-04-24T10:48:19.397297Z"
    }
   },
   "outputs": [
    {
     "data": {
      "text/plain": [
       "4"
      ]
     },
     "execution_count": 68,
     "metadata": {},
     "output_type": "execute_result"
    }
   ],
   "source": [
    "bool_mas = []\n",
    "a = 0\n",
    "if i >=2:\n",
    "    for i in range(len(mas)):\n",
    "        bool_mas.append(mas[i] == 2)\n",
    "        a += 1\n",
    "sum(bool_mas)\n",
    "a"
   ]
  },
  {
   "cell_type": "code",
   "execution_count": 57,
   "id": "2df75c9c",
   "metadata": {
    "ExecuteTime": {
     "end_time": "2022-04-24T10:42:27.821420Z",
     "start_time": "2022-04-24T10:42:27.818111Z"
    }
   },
   "outputs": [
    {
     "data": {
      "text/plain": [
       "2"
      ]
     },
     "execution_count": 57,
     "metadata": {},
     "output_type": "execute_result"
    }
   ],
   "source": [
    "bool_mas = []\n",
    "for i in mas:\n",
    "    bool_mas.append(i == 2)\n",
    "sum(bool_mas)"
   ]
  },
  {
   "cell_type": "code",
   "execution_count": 60,
   "id": "451da2c7",
   "metadata": {
    "ExecuteTime": {
     "end_time": "2022-04-24T10:43:59.661408Z",
     "start_time": "2022-04-24T10:43:59.658628Z"
    }
   },
   "outputs": [
    {
     "data": {
      "text/plain": [
       "[True, True, False]"
      ]
     },
     "execution_count": 60,
     "metadata": {},
     "output_type": "execute_result"
    }
   ],
   "source": [
    "bool_mas = [i==2 for i in mas if i>=2]\n",
    "bool_mas"
   ]
  },
  {
   "cell_type": "code",
   "execution_count": 127,
   "id": "eb63b8d0",
   "metadata": {
    "ExecuteTime": {
     "end_time": "2022-04-24T11:07:04.767978Z",
     "start_time": "2022-04-24T11:07:04.765137Z"
    }
   },
   "outputs": [],
   "source": [
    "b = 4"
   ]
  },
  {
   "cell_type": "code",
   "execution_count": 128,
   "id": "1c6d122b",
   "metadata": {
    "ExecuteTime": {
     "end_time": "2022-04-24T11:07:06.138209Z",
     "start_time": "2022-04-24T11:07:06.134388Z"
    }
   },
   "outputs": [
    {
     "data": {
      "text/plain": [
       "'Yes'"
      ]
     },
     "execution_count": 128,
     "metadata": {},
     "output_type": "execute_result"
    }
   ],
   "source": [
    "('Yes' if b//2==2 else 'No')"
   ]
  },
  {
   "cell_type": "code",
   "execution_count": 69,
   "id": "fdf70260",
   "metadata": {
    "ExecuteTime": {
     "end_time": "2022-04-24T10:49:57.213052Z",
     "start_time": "2022-04-24T10:49:57.210720Z"
    }
   },
   "outputs": [],
   "source": [
    "import numpy as np"
   ]
  },
  {
   "cell_type": "code",
   "execution_count": 72,
   "id": "ed407cda",
   "metadata": {
    "ExecuteTime": {
     "end_time": "2022-04-24T10:50:37.176818Z",
     "start_time": "2022-04-24T10:50:37.174370Z"
    }
   },
   "outputs": [],
   "source": [
    "np_mas = np.array(mas)"
   ]
  },
  {
   "cell_type": "code",
   "execution_count": 73,
   "id": "18d235c5",
   "metadata": {
    "ExecuteTime": {
     "end_time": "2022-04-24T10:50:48.535958Z",
     "start_time": "2022-04-24T10:50:48.532850Z"
    }
   },
   "outputs": [
    {
     "data": {
      "text/plain": [
       "array([False,  True,  True, False])"
      ]
     },
     "execution_count": 73,
     "metadata": {},
     "output_type": "execute_result"
    }
   ],
   "source": [
    "np_mas == 2"
   ]
  },
  {
   "cell_type": "code",
   "execution_count": 75,
   "id": "510e19bd",
   "metadata": {
    "ExecuteTime": {
     "end_time": "2022-04-24T10:51:13.031705Z",
     "start_time": "2022-04-24T10:51:13.027236Z"
    }
   },
   "outputs": [
    {
     "data": {
      "text/plain": [
       "[1, 2, 2, 3, 1, 2, 2, 3]"
      ]
     },
     "execution_count": 75,
     "metadata": {},
     "output_type": "execute_result"
    }
   ],
   "source": [
    "mas + mas"
   ]
  },
  {
   "cell_type": "code",
   "execution_count": 78,
   "id": "f91d8839",
   "metadata": {
    "ExecuteTime": {
     "end_time": "2022-04-24T10:52:28.025077Z",
     "start_time": "2022-04-24T10:52:28.021359Z"
    }
   },
   "outputs": [
    {
     "data": {
      "text/plain": [
       "array([2, 4, 4, 6])"
      ]
     },
     "execution_count": 78,
     "metadata": {},
     "output_type": "execute_result"
    }
   ],
   "source": [
    "np_mas + np_mas"
   ]
  },
  {
   "cell_type": "code",
   "execution_count": 79,
   "id": "e1c2025c",
   "metadata": {
    "ExecuteTime": {
     "end_time": "2022-04-24T10:53:03.533953Z",
     "start_time": "2022-04-24T10:53:03.531849Z"
    }
   },
   "outputs": [],
   "source": [
    "# None"
   ]
  },
  {
   "cell_type": "code",
   "execution_count": 123,
   "id": "9b8f30d4",
   "metadata": {
    "ExecuteTime": {
     "end_time": "2022-04-24T11:05:21.740774Z",
     "start_time": "2022-04-24T11:05:21.737368Z"
    }
   },
   "outputs": [
    {
     "data": {
      "text/plain": [
       "NoneType"
      ]
     },
     "execution_count": 123,
     "metadata": {},
     "output_type": "execute_result"
    }
   ],
   "source": [
    "z = None\n",
    "type(z)"
   ]
  },
  {
   "cell_type": "code",
   "execution_count": 124,
   "id": "1936ad1e",
   "metadata": {
    "ExecuteTime": {
     "end_time": "2022-04-24T11:05:26.176561Z",
     "start_time": "2022-04-24T11:05:26.170833Z"
    }
   },
   "outputs": [
    {
     "ename": "TypeError",
     "evalue": "unsupported operand type(s) for +: 'NoneType' and 'int'",
     "output_type": "error",
     "traceback": [
      "\u001b[0;31m---------------------------------------------------------------------------\u001b[0m",
      "\u001b[0;31mTypeError\u001b[0m                                 Traceback (most recent call last)",
      "\u001b[0;32m<ipython-input-124-707d009ea2cd>\u001b[0m in \u001b[0;36m<module>\u001b[0;34m\u001b[0m\n\u001b[0;32m----> 1\u001b[0;31m \u001b[0mz\u001b[0m\u001b[0;34m+\u001b[0m\u001b[0;36m4\u001b[0m\u001b[0;34m\u001b[0m\u001b[0;34m\u001b[0m\u001b[0m\n\u001b[0m",
      "\u001b[0;31mTypeError\u001b[0m: unsupported operand type(s) for +: 'NoneType' and 'int'"
     ]
    }
   ],
   "source": [
    "z+4"
   ]
  },
  {
   "cell_type": "code",
   "execution_count": 82,
   "id": "22368f0a",
   "metadata": {
    "ExecuteTime": {
     "end_time": "2022-04-24T10:53:32.613878Z",
     "start_time": "2022-04-24T10:53:32.563874Z"
    }
   },
   "outputs": [
    {
     "ename": "TypeError",
     "evalue": "int() argument must be a string, a bytes-like object or a number, not 'NoneType'",
     "output_type": "error",
     "traceback": [
      "\u001b[0;31m---------------------------------------------------------------------------\u001b[0m",
      "\u001b[0;31mTypeError\u001b[0m                                 Traceback (most recent call last)",
      "\u001b[0;32m<ipython-input-82-caf6459d7a1e>\u001b[0m in \u001b[0;36m<module>\u001b[0;34m\u001b[0m\n\u001b[0;32m----> 1\u001b[0;31m \u001b[0mprint\u001b[0m\u001b[0;34m(\u001b[0m\u001b[0mint\u001b[0m\u001b[0;34m(\u001b[0m\u001b[0mz\u001b[0m\u001b[0;34m)\u001b[0m\u001b[0;34m)\u001b[0m\u001b[0;34m\u001b[0m\u001b[0;34m\u001b[0m\u001b[0m\n\u001b[0m",
      "\u001b[0;31mTypeError\u001b[0m: int() argument must be a string, a bytes-like object or a number, not 'NoneType'"
     ]
    }
   ],
   "source": [
    "print(int(z))"
   ]
  },
  {
   "cell_type": "code",
   "execution_count": 83,
   "id": "5a80c670",
   "metadata": {
    "ExecuteTime": {
     "end_time": "2022-04-24T10:53:44.783094Z",
     "start_time": "2022-04-24T10:53:44.779618Z"
    }
   },
   "outputs": [
    {
     "name": "stdout",
     "output_type": "stream",
     "text": [
      "None\n"
     ]
    }
   ],
   "source": [
    "z = 'None'\n",
    "print(str(z))"
   ]
  },
  {
   "cell_type": "code",
   "execution_count": 121,
   "id": "636a9b0c",
   "metadata": {
    "ExecuteTime": {
     "end_time": "2022-04-24T11:04:36.460525Z",
     "start_time": "2022-04-24T11:04:36.458195Z"
    }
   },
   "outputs": [],
   "source": [
    "z = np.array([1,2,np.nan])"
   ]
  },
  {
   "cell_type": "code",
   "execution_count": 122,
   "id": "2923d0c9",
   "metadata": {
    "ExecuteTime": {
     "end_time": "2022-04-24T11:04:41.003438Z",
     "start_time": "2022-04-24T11:04:40.998973Z"
    }
   },
   "outputs": [
    {
     "data": {
      "text/plain": [
       "numpy.float64"
      ]
     },
     "execution_count": 122,
     "metadata": {},
     "output_type": "execute_result"
    }
   ],
   "source": [
    "type(z[2])"
   ]
  },
  {
   "cell_type": "code",
   "execution_count": 108,
   "id": "8ecf6051",
   "metadata": {
    "ExecuteTime": {
     "end_time": "2022-04-24T10:59:25.047118Z",
     "start_time": "2022-04-24T10:59:25.044255Z"
    }
   },
   "outputs": [
    {
     "data": {
      "text/plain": [
       "array([False, False,  True])"
      ]
     },
     "execution_count": 108,
     "metadata": {},
     "output_type": "execute_result"
    }
   ],
   "source": [
    "np.isnan(z)"
   ]
  },
  {
   "cell_type": "code",
   "execution_count": 112,
   "id": "41ffcbcc",
   "metadata": {
    "ExecuteTime": {
     "end_time": "2022-04-24T11:00:56.294249Z",
     "start_time": "2022-04-24T11:00:56.290054Z"
    }
   },
   "outputs": [
    {
     "data": {
      "text/plain": [
       "nan"
      ]
     },
     "execution_count": 112,
     "metadata": {},
     "output_type": "execute_result"
    }
   ],
   "source": [
    "sum(z)"
   ]
  },
  {
   "cell_type": "code",
   "execution_count": 118,
   "id": "9dc65f7e",
   "metadata": {
    "ExecuteTime": {
     "end_time": "2022-04-24T11:03:26.701385Z",
     "start_time": "2022-04-24T11:03:26.697690Z"
    }
   },
   "outputs": [
    {
     "data": {
      "text/plain": [
       "nan"
      ]
     },
     "execution_count": 118,
     "metadata": {},
     "output_type": "execute_result"
    }
   ],
   "source": [
    "np.mean(z)"
   ]
  },
  {
   "cell_type": "code",
   "execution_count": 119,
   "id": "e6f2f169",
   "metadata": {
    "ExecuteTime": {
     "end_time": "2022-04-24T11:03:32.645487Z",
     "start_time": "2022-04-24T11:03:32.643002Z"
    }
   },
   "outputs": [],
   "source": [
    "z[np.isnan(z)] = 3"
   ]
  },
  {
   "cell_type": "code",
   "execution_count": 120,
   "id": "cfb17618",
   "metadata": {
    "ExecuteTime": {
     "end_time": "2022-04-24T11:03:41.242098Z",
     "start_time": "2022-04-24T11:03:41.237519Z"
    }
   },
   "outputs": [
    {
     "data": {
      "text/plain": [
       "2.0"
      ]
     },
     "execution_count": 120,
     "metadata": {},
     "output_type": "execute_result"
    }
   ],
   "source": [
    "np.mean(z)"
   ]
  },
  {
   "cell_type": "code",
   "execution_count": 129,
   "id": "a7b57337",
   "metadata": {
    "ExecuteTime": {
     "end_time": "2022-04-24T11:08:21.811000Z",
     "start_time": "2022-04-24T11:08:21.809057Z"
    }
   },
   "outputs": [],
   "source": [
    "# str"
   ]
  },
  {
   "cell_type": "code",
   "execution_count": 130,
   "id": "5bf9db49",
   "metadata": {
    "ExecuteTime": {
     "end_time": "2022-04-24T11:08:34.853808Z",
     "start_time": "2022-04-24T11:08:34.850781Z"
    }
   },
   "outputs": [],
   "source": [
    "a = 'afdffmsklmcxknfuebislnsn'"
   ]
  },
  {
   "cell_type": "code",
   "execution_count": 134,
   "id": "6595f02e",
   "metadata": {
    "ExecuteTime": {
     "end_time": "2022-04-24T11:09:17.625537Z",
     "start_time": "2022-04-24T11:09:17.621257Z"
    }
   },
   "outputs": [
    {
     "data": {
      "text/plain": [
       "'fuebislnsn'"
      ]
     },
     "execution_count": 134,
     "metadata": {},
     "output_type": "execute_result"
    }
   ],
   "source": [
    "a[-10:]"
   ]
  },
  {
   "cell_type": "code",
   "execution_count": 136,
   "id": "6e7b9fb2",
   "metadata": {
    "ExecuteTime": {
     "end_time": "2022-04-24T11:09:47.528165Z",
     "start_time": "2022-04-24T11:09:47.525123Z"
    }
   },
   "outputs": [
    {
     "data": {
      "text/plain": [
       "'afsmkuin'"
      ]
     },
     "execution_count": 136,
     "metadata": {},
     "output_type": "execute_result"
    }
   ],
   "source": [
    "a[::3]"
   ]
  },
  {
   "cell_type": "code",
   "execution_count": 137,
   "id": "94d03085",
   "metadata": {
    "ExecuteTime": {
     "end_time": "2022-04-24T11:10:03.969384Z",
     "start_time": "2022-04-24T11:10:03.965415Z"
    }
   },
   "outputs": [
    {
     "data": {
      "text/plain": [
       "'nsnlsibeufnkxcmlksmffdfa'"
      ]
     },
     "execution_count": 137,
     "metadata": {},
     "output_type": "execute_result"
    }
   ],
   "source": [
    "a[::-1]"
   ]
  },
  {
   "cell_type": "code",
   "execution_count": 167,
   "id": "135a8d94",
   "metadata": {
    "ExecuteTime": {
     "end_time": "2022-04-24T11:24:20.932488Z",
     "start_time": "2022-04-24T11:24:20.929598Z"
    }
   },
   "outputs": [
    {
     "name": "stdout",
     "output_type": "stream",
     "text": [
      "name:sklmcxknfuebislnsn,\n",
      "date:25\n"
     ]
    }
   ],
   "source": [
    "a = 'name:sklmcxknfuebislnsn,\\ndate:25'\n",
    "print(a)"
   ]
  },
  {
   "cell_type": "code",
   "execution_count": 168,
   "id": "c2ba3c9e",
   "metadata": {
    "ExecuteTime": {
     "end_time": "2022-04-24T11:24:21.597834Z",
     "start_time": "2022-04-24T11:24:21.595368Z"
    }
   },
   "outputs": [],
   "source": [
    "abc = [i.split(':') for i in a.split(',\\n')]"
   ]
  },
  {
   "cell_type": "code",
   "execution_count": 171,
   "id": "86b54364",
   "metadata": {
    "ExecuteTime": {
     "end_time": "2022-04-24T11:24:35.269407Z",
     "start_time": "2022-04-24T11:24:35.266461Z"
    }
   },
   "outputs": [
    {
     "data": {
      "text/plain": [
       "'date'"
      ]
     },
     "execution_count": 171,
     "metadata": {},
     "output_type": "execute_result"
    }
   ],
   "source": [
    "abc[1][0]"
   ]
  },
  {
   "cell_type": "code",
   "execution_count": 147,
   "id": "7baa989c",
   "metadata": {
    "ExecuteTime": {
     "end_time": "2022-04-24T11:16:23.076432Z",
     "start_time": "2022-04-24T11:16:23.074447Z"
    }
   },
   "outputs": [],
   "source": [
    "names = {'Ivan', 'Petr'}"
   ]
  },
  {
   "cell_type": "code",
   "execution_count": 148,
   "id": "c69241c8",
   "metadata": {
    "ExecuteTime": {
     "end_time": "2022-04-24T11:16:42.229945Z",
     "start_time": "2022-04-24T11:16:42.226660Z"
    }
   },
   "outputs": [],
   "source": [
    "names.add('Mary')"
   ]
  },
  {
   "cell_type": "code",
   "execution_count": 151,
   "id": "056938f9",
   "metadata": {
    "ExecuteTime": {
     "end_time": "2022-04-24T11:17:12.023198Z",
     "start_time": "2022-04-24T11:17:12.021091Z"
    }
   },
   "outputs": [],
   "source": [
    "names.remove('Ivan')"
   ]
  },
  {
   "cell_type": "code",
   "execution_count": 154,
   "id": "3f6fb557",
   "metadata": {
    "ExecuteTime": {
     "end_time": "2022-04-24T11:17:49.839472Z",
     "start_time": "2022-04-24T11:17:49.835914Z"
    }
   },
   "outputs": [
    {
     "data": {
      "text/plain": [
       "{'Mary', 'Petr'}"
      ]
     },
     "execution_count": 154,
     "metadata": {},
     "output_type": "execute_result"
    }
   ],
   "source": [
    "names"
   ]
  },
  {
   "cell_type": "code",
   "execution_count": 153,
   "id": "59104348",
   "metadata": {
    "ExecuteTime": {
     "end_time": "2022-04-24T11:17:39.507680Z",
     "start_time": "2022-04-24T11:17:39.503012Z"
    }
   },
   "outputs": [
    {
     "ename": "TypeError",
     "evalue": "'set' object is not subscriptable",
     "output_type": "error",
     "traceback": [
      "\u001b[0;31m---------------------------------------------------------------------------\u001b[0m",
      "\u001b[0;31mTypeError\u001b[0m                                 Traceback (most recent call last)",
      "\u001b[0;32m<ipython-input-153-d8a74d47c66b>\u001b[0m in \u001b[0;36m<module>\u001b[0;34m\u001b[0m\n\u001b[0;32m----> 1\u001b[0;31m \u001b[0mnames\u001b[0m\u001b[0;34m[\u001b[0m\u001b[0;36m1\u001b[0m\u001b[0;34m]\u001b[0m\u001b[0;34m\u001b[0m\u001b[0;34m\u001b[0m\u001b[0m\n\u001b[0m",
      "\u001b[0;31mTypeError\u001b[0m: 'set' object is not subscriptable"
     ]
    }
   ],
   "source": [
    "names[1]"
   ]
  },
  {
   "cell_type": "code",
   "execution_count": 156,
   "id": "2aba1c2f",
   "metadata": {
    "ExecuteTime": {
     "end_time": "2022-04-24T11:18:22.581234Z",
     "start_time": "2022-04-24T11:18:22.579285Z"
    }
   },
   "outputs": [],
   "source": [
    "# dictionaries"
   ]
  },
  {
   "cell_type": "code",
   "execution_count": 157,
   "id": "f2bf75ee",
   "metadata": {
    "ExecuteTime": {
     "end_time": "2022-04-24T11:19:29.876770Z",
     "start_time": "2022-04-24T11:19:29.874879Z"
    }
   },
   "outputs": [],
   "source": [
    "names_dict = {1:'Mary', 2:'Petr', 'names':'all' }"
   ]
  },
  {
   "cell_type": "code",
   "execution_count": 161,
   "id": "84fba283",
   "metadata": {
    "ExecuteTime": {
     "end_time": "2022-04-24T11:20:11.175194Z",
     "start_time": "2022-04-24T11:20:11.172405Z"
    }
   },
   "outputs": [
    {
     "data": {
      "text/plain": [
       "'all'"
      ]
     },
     "execution_count": 161,
     "metadata": {},
     "output_type": "execute_result"
    }
   ],
   "source": [
    "names_dict['names']"
   ]
  },
  {
   "cell_type": "code",
   "execution_count": 164,
   "id": "d841020a",
   "metadata": {
    "ExecuteTime": {
     "end_time": "2022-04-24T11:22:42.190629Z",
     "start_time": "2022-04-24T11:22:42.187220Z"
    }
   },
   "outputs": [
    {
     "data": {
      "text/plain": [
       "[0, 1, 2, 3, 4, 5, 6, 7, 8, 9]"
      ]
     },
     "execution_count": 164,
     "metadata": {},
     "output_type": "execute_result"
    }
   ],
   "source": [
    "# zip \n",
    "list(range(10))"
   ]
  },
  {
   "cell_type": "code",
   "execution_count": 179,
   "id": "cfe96b7b",
   "metadata": {
    "ExecuteTime": {
     "end_time": "2022-04-24T11:26:03.865163Z",
     "start_time": "2022-04-24T11:26:03.860014Z"
    }
   },
   "outputs": [
    {
     "data": {
      "text/plain": [
       "<zip at 0x7fa6d62d85c0>"
      ]
     },
     "execution_count": 179,
     "metadata": {},
     "output_type": "execute_result"
    }
   ],
   "source": [
    "a = [1,2,3,4]\n",
    "b = ['a','b','c']\n",
    "zip(a,b)"
   ]
  },
  {
   "cell_type": "code",
   "execution_count": 184,
   "id": "67927db5",
   "metadata": {
    "ExecuteTime": {
     "end_time": "2022-04-24T11:27:13.545504Z",
     "start_time": "2022-04-24T11:27:13.541467Z"
    }
   },
   "outputs": [
    {
     "name": "stdout",
     "output_type": "stream",
     "text": [
      "1\n",
      "a\n"
     ]
    }
   ],
   "source": [
    "for i in [a,b]: \n",
    "    print(i[0])"
   ]
  },
  {
   "cell_type": "code",
   "execution_count": 181,
   "id": "78e5d444",
   "metadata": {
    "ExecuteTime": {
     "end_time": "2022-04-24T11:26:13.761234Z",
     "start_time": "2022-04-24T11:26:13.758134Z"
    }
   },
   "outputs": [
    {
     "data": {
      "text/plain": [
       "[(1, 'a'), (2, 'b'), (3, 'c')]"
      ]
     },
     "execution_count": 181,
     "metadata": {},
     "output_type": "execute_result"
    }
   ],
   "source": [
    "list(zip(a,b))"
   ]
  },
  {
   "cell_type": "code",
   "execution_count": 192,
   "id": "e8d11880",
   "metadata": {
    "ExecuteTime": {
     "end_time": "2022-04-24T11:30:24.089265Z",
     "start_time": "2022-04-24T11:30:24.086371Z"
    }
   },
   "outputs": [],
   "source": [
    "def summing(a,b,c=-1):\n",
    "    return a+b+c"
   ]
  },
  {
   "cell_type": "code",
   "execution_count": 193,
   "id": "320b3eb9",
   "metadata": {
    "ExecuteTime": {
     "end_time": "2022-04-24T11:30:28.338328Z",
     "start_time": "2022-04-24T11:30:28.332342Z"
    }
   },
   "outputs": [
    {
     "ename": "TypeError",
     "evalue": "summing() takes from 2 to 3 positional arguments but 4 were given",
     "output_type": "error",
     "traceback": [
      "\u001b[0;31m---------------------------------------------------------------------------\u001b[0m",
      "\u001b[0;31mTypeError\u001b[0m                                 Traceback (most recent call last)",
      "\u001b[0;32m<ipython-input-193-21354dea2946>\u001b[0m in \u001b[0;36m<module>\u001b[0;34m\u001b[0m\n\u001b[0;32m----> 1\u001b[0;31m \u001b[0msumming\u001b[0m\u001b[0;34m(\u001b[0m\u001b[0;36m1\u001b[0m\u001b[0;34m,\u001b[0m\u001b[0;36m10\u001b[0m\u001b[0;34m,\u001b[0m\u001b[0;36m3\u001b[0m\u001b[0;34m,\u001b[0m\u001b[0;36m4\u001b[0m\u001b[0;34m)\u001b[0m\u001b[0;34m\u001b[0m\u001b[0;34m\u001b[0m\u001b[0m\n\u001b[0m",
      "\u001b[0;31mTypeError\u001b[0m: summing() takes from 2 to 3 positional arguments but 4 were given"
     ]
    }
   ],
   "source": [
    "summing(1,10,3,4)"
   ]
  },
  {
   "cell_type": "code",
   "execution_count": 194,
   "id": "0b121807",
   "metadata": {
    "ExecuteTime": {
     "end_time": "2022-04-24T11:30:40.401892Z",
     "start_time": "2022-04-24T11:30:40.398964Z"
    }
   },
   "outputs": [],
   "source": [
    "def summing(*values):\n",
    "    res = 0 \n",
    "    for i in values:\n",
    "        res += i\n",
    "    return res"
   ]
  },
  {
   "cell_type": "code",
   "execution_count": 196,
   "id": "8bf06224",
   "metadata": {
    "ExecuteTime": {
     "end_time": "2022-04-24T11:30:43.630468Z",
     "start_time": "2022-04-24T11:30:43.626588Z"
    }
   },
   "outputs": [
    {
     "data": {
      "text/plain": [
       "18"
      ]
     },
     "execution_count": 196,
     "metadata": {},
     "output_type": "execute_result"
    }
   ],
   "source": [
    "summing(1,10,3,4)"
   ]
  },
  {
   "cell_type": "code",
   "execution_count": 199,
   "id": "d0661923",
   "metadata": {
    "ExecuteTime": {
     "end_time": "2022-04-24T11:32:17.210522Z",
     "start_time": "2022-04-24T11:32:17.208254Z"
    }
   },
   "outputs": [],
   "source": [
    "def summing(a,list_1=[]):\n",
    "    list_1.append(a)\n",
    "    print(list_1)\n",
    "    return sum(list_1)"
   ]
  },
  {
   "cell_type": "code",
   "execution_count": 205,
   "id": "2309d4a2",
   "metadata": {
    "ExecuteTime": {
     "end_time": "2022-04-24T11:33:25.973554Z",
     "start_time": "2022-04-24T11:33:25.968954Z"
    }
   },
   "outputs": [
    {
     "name": "stdout",
     "output_type": "stream",
     "text": [
      "[1, 5, 1]\n"
     ]
    },
    {
     "data": {
      "text/plain": [
       "7"
      ]
     },
     "execution_count": 205,
     "metadata": {},
     "output_type": "execute_result"
    }
   ],
   "source": [
    "summing(1)"
   ]
  },
  {
   "cell_type": "code",
   "execution_count": 207,
   "id": "471a45c9",
   "metadata": {
    "ExecuteTime": {
     "end_time": "2022-04-24T11:33:47.432746Z",
     "start_time": "2022-04-24T11:33:47.428487Z"
    }
   },
   "outputs": [
    {
     "name": "stdout",
     "output_type": "stream",
     "text": [
      "[1, 5, 1, 5]\n"
     ]
    },
    {
     "data": {
      "text/plain": [
       "12"
      ]
     },
     "execution_count": 207,
     "metadata": {},
     "output_type": "execute_result"
    }
   ],
   "source": [
    "summing(5)"
   ]
  },
  {
   "cell_type": "code",
   "execution_count": 209,
   "id": "a3495e52",
   "metadata": {
    "ExecuteTime": {
     "end_time": "2022-04-24T11:35:18.484477Z",
     "start_time": "2022-04-24T11:35:18.480557Z"
    }
   },
   "outputs": [
    {
     "name": "stdout",
     "output_type": "stream",
     "text": [
      "[0, 0, 0, 1]\n"
     ]
    },
    {
     "data": {
      "text/plain": [
       "1"
      ]
     },
     "execution_count": 209,
     "metadata": {},
     "output_type": "execute_result"
    }
   ],
   "source": [
    "summing(1, [0,0,0])"
   ]
  },
  {
   "cell_type": "code",
   "execution_count": 210,
   "id": "03960934",
   "metadata": {
    "ExecuteTime": {
     "end_time": "2022-04-24T11:35:20.271909Z",
     "start_time": "2022-04-24T11:35:20.267744Z"
    }
   },
   "outputs": [
    {
     "name": "stdout",
     "output_type": "stream",
     "text": [
      "[1]\n"
     ]
    },
    {
     "data": {
      "text/plain": [
       "1"
      ]
     },
     "execution_count": 210,
     "metadata": {},
     "output_type": "execute_result"
    }
   ],
   "source": [
    "summing(1, [])"
   ]
  },
  {
   "cell_type": "code",
   "execution_count": 211,
   "id": "86896da6",
   "metadata": {
    "ExecuteTime": {
     "end_time": "2022-04-24T11:35:21.413899Z",
     "start_time": "2022-04-24T11:35:21.409517Z"
    }
   },
   "outputs": [
    {
     "name": "stdout",
     "output_type": "stream",
     "text": [
      "[2]\n"
     ]
    },
    {
     "data": {
      "text/plain": [
       "2"
      ]
     },
     "execution_count": 211,
     "metadata": {},
     "output_type": "execute_result"
    }
   ],
   "source": [
    "summing(2, [])"
   ]
  },
  {
   "cell_type": "code",
   "execution_count": 208,
   "id": "e4c049b7",
   "metadata": {
    "ExecuteTime": {
     "end_time": "2022-04-24T11:35:10.742316Z",
     "start_time": "2022-04-24T11:35:10.739193Z"
    }
   },
   "outputs": [],
   "source": [
    "def summing(a,list_1=None):\n",
    "    if list_1 is None:\n",
    "        list_1 = []\n",
    "    list_1.append(a)\n",
    "    print(list_1)\n",
    "    return sum(list_1)"
   ]
  },
  {
   "cell_type": "code",
   "execution_count": 213,
   "id": "4432ccd6",
   "metadata": {
    "ExecuteTime": {
     "end_time": "2022-04-24T11:35:39.744352Z",
     "start_time": "2022-04-24T11:35:39.740667Z"
    }
   },
   "outputs": [
    {
     "name": "stdout",
     "output_type": "stream",
     "text": [
      "[10]\n"
     ]
    },
    {
     "data": {
      "text/plain": [
       "10"
      ]
     },
     "execution_count": 213,
     "metadata": {},
     "output_type": "execute_result"
    }
   ],
   "source": [
    "summing(10)"
   ]
  },
  {
   "cell_type": "code",
   "execution_count": 218,
   "id": "b505754c",
   "metadata": {
    "ExecuteTime": {
     "end_time": "2022-04-24T11:37:33.433054Z",
     "start_time": "2022-04-24T11:37:33.429748Z"
    }
   },
   "outputs": [],
   "source": [
    "# lambda functions:\n",
    "sq = lambda x: x**2"
   ]
  },
  {
   "cell_type": "code",
   "execution_count": 219,
   "id": "d5ff5aef",
   "metadata": {
    "ExecuteTime": {
     "end_time": "2022-04-24T11:37:33.582352Z",
     "start_time": "2022-04-24T11:37:33.579410Z"
    }
   },
   "outputs": [
    {
     "data": {
      "text/plain": [
       "16"
      ]
     },
     "execution_count": 219,
     "metadata": {},
     "output_type": "execute_result"
    }
   ],
   "source": [
    "sq(4)"
   ]
  },
  {
   "cell_type": "code",
   "execution_count": 220,
   "id": "0fd5eb93",
   "metadata": {
    "ExecuteTime": {
     "end_time": "2022-04-24T11:37:34.115814Z",
     "start_time": "2022-04-24T11:37:34.113874Z"
    }
   },
   "outputs": [],
   "source": [
    "sq2 = lambda x,y: x**2+y"
   ]
  },
  {
   "cell_type": "code",
   "execution_count": 221,
   "id": "768969a9",
   "metadata": {
    "ExecuteTime": {
     "end_time": "2022-04-24T11:37:41.308290Z",
     "start_time": "2022-04-24T11:37:41.305065Z"
    }
   },
   "outputs": [
    {
     "data": {
      "text/plain": [
       "14"
      ]
     },
     "execution_count": 221,
     "metadata": {},
     "output_type": "execute_result"
    }
   ],
   "source": [
    "sq2(2,10)"
   ]
  },
  {
   "cell_type": "code",
   "execution_count": 222,
   "id": "c5351068",
   "metadata": {
    "ExecuteTime": {
     "end_time": "2022-04-24T11:38:08.923820Z",
     "start_time": "2022-04-24T11:38:08.921682Z"
    }
   },
   "outputs": [],
   "source": [
    "a = [1,3,6]"
   ]
  },
  {
   "cell_type": "code",
   "execution_count": 227,
   "id": "38bb6988",
   "metadata": {
    "ExecuteTime": {
     "end_time": "2022-04-24T11:39:12.521341Z",
     "start_time": "2022-04-24T11:39:12.517979Z"
    }
   },
   "outputs": [
    {
     "data": {
      "text/plain": [
       "[2, 4, 7]"
      ]
     },
     "execution_count": 227,
     "metadata": {},
     "output_type": "execute_result"
    }
   ],
   "source": [
    "list(map(lambda i: i+1, a))"
   ]
  },
  {
   "cell_type": "code",
   "execution_count": 228,
   "id": "46ba7207",
   "metadata": {
    "ExecuteTime": {
     "end_time": "2022-04-24T11:39:38.681144Z",
     "start_time": "2022-04-24T11:39:38.677584Z"
    }
   },
   "outputs": [
    {
     "data": {
      "text/plain": [
       "<map at 0x7fa6d6650d30>"
      ]
     },
     "execution_count": 228,
     "metadata": {},
     "output_type": "execute_result"
    }
   ],
   "source": [
    "map(lambda i: i+1, a)"
   ]
  },
  {
   "cell_type": "markdown",
   "id": "12ef8244",
   "metadata": {},
   "source": [
    "## Домашнее задание"
   ]
  },
  {
   "cell_type": "markdown",
   "id": "c5e6df9b",
   "metadata": {},
   "source": [
    "**Задача 1**\n",
    "\n",
    "Необходимо дописать функцию ``fun_zad_1``. На входе: список чисел ``num_list`` (количество работников в разных отделах) и число ``n``. На выходе: сумма всех чисел списка меньше либо равных $n$ (число работников в отделах, где сотруднков меньше либо равно ``n``).\n",
    "\n",
    "Со звездочкой &#9734;:  попробуй записать решение в одну строчку."
   ]
  },
  {
   "cell_type": "code",
   "execution_count": 246,
   "id": "c4da11bc",
   "metadata": {
    "ExecuteTime": {
     "end_time": "2022-04-24T12:26:31.673815Z",
     "start_time": "2022-04-24T12:26:31.670886Z"
    }
   },
   "outputs": [],
   "source": [
    "# функцию записать здесь"
   ]
  },
  {
   "cell_type": "markdown",
   "id": "3f0e19d2",
   "metadata": {},
   "source": [
    "Проверка:"
   ]
  },
  {
   "cell_type": "code",
   "execution_count": 247,
   "id": "f8104f88",
   "metadata": {
    "ExecuteTime": {
     "end_time": "2022-04-24T12:26:53.308341Z",
     "start_time": "2022-04-24T12:26:53.305068Z"
    }
   },
   "outputs": [
    {
     "data": {
      "text/plain": [
       "True"
      ]
     },
     "execution_count": 247,
     "metadata": {},
     "output_type": "execute_result"
    }
   ],
   "source": [
    "fun_zad_1([1, 2, 3, 4, 5, 6, 3, 7], 7) == 31"
   ]
  },
  {
   "cell_type": "code",
   "execution_count": 249,
   "id": "9292eaee",
   "metadata": {
    "ExecuteTime": {
     "end_time": "2022-04-24T12:27:52.222665Z",
     "start_time": "2022-04-24T12:27:52.219569Z"
    }
   },
   "outputs": [
    {
     "data": {
      "text/plain": [
       "True"
      ]
     },
     "execution_count": 249,
     "metadata": {},
     "output_type": "execute_result"
    }
   ],
   "source": [
    "fun_zad_1([2, 2, 9, 4, 1, 6, 3, 7], 3) == 8"
   ]
  },
  {
   "cell_type": "code",
   "execution_count": 252,
   "id": "d8f3f775",
   "metadata": {
    "ExecuteTime": {
     "end_time": "2022-04-24T12:29:16.135326Z",
     "start_time": "2022-04-24T12:29:16.131193Z"
    }
   },
   "outputs": [
    {
     "data": {
      "text/plain": [
       "True"
      ]
     },
     "execution_count": 252,
     "metadata": {},
     "output_type": "execute_result"
    }
   ],
   "source": [
    "random.seed(666)\n",
    "fun_zad_1([random.randint(0, 200) for _ in range(1000)], 100) == 26473"
   ]
  },
  {
   "cell_type": "markdown",
   "id": "f28f5d3d",
   "metadata": {},
   "source": [
    "**Задача 2**\n",
    "\n",
    "Написать функцию ``fact_2``, принимающую число ``n`` и считающую ``n!`` (не используя модуль ``math``)\n",
    "\n",
    "$n! = 1 \\cdot 2 \\cdot 3 \\cdot \\dots \\cdot (n - 1) \\cdot n$\n",
    "\n",
    "***Hint***: можно вызывать функцию реккурентно."
   ]
  },
  {
   "cell_type": "code",
   "execution_count": 254,
   "id": "a5d7e13d",
   "metadata": {
    "ExecuteTime": {
     "end_time": "2022-04-24T12:33:23.540926Z",
     "start_time": "2022-04-24T12:33:23.538776Z"
    }
   },
   "outputs": [],
   "source": [
    "# функцию записать здесь"
   ]
  },
  {
   "cell_type": "markdown",
   "id": "c2736f06",
   "metadata": {},
   "source": [
    "Проверка:"
   ]
  },
  {
   "cell_type": "code",
   "execution_count": 256,
   "id": "45aa1fc8",
   "metadata": {
    "ExecuteTime": {
     "end_time": "2022-04-24T12:33:24.295289Z",
     "start_time": "2022-04-24T12:33:24.292236Z"
    }
   },
   "outputs": [
    {
     "data": {
      "text/plain": [
       "True"
      ]
     },
     "execution_count": 256,
     "metadata": {},
     "output_type": "execute_result"
    }
   ],
   "source": [
    "fact_2(5) == 120"
   ]
  },
  {
   "cell_type": "code",
   "execution_count": 257,
   "id": "4d4a61e0",
   "metadata": {
    "ExecuteTime": {
     "end_time": "2022-04-24T12:33:24.765972Z",
     "start_time": "2022-04-24T12:33:24.762290Z"
    }
   },
   "outputs": [
    {
     "data": {
      "text/plain": [
       "True"
      ]
     },
     "execution_count": 257,
     "metadata": {},
     "output_type": "execute_result"
    }
   ],
   "source": [
    "fact_2(9) == 362880"
   ]
  },
  {
   "cell_type": "code",
   "execution_count": 258,
   "id": "8f724158",
   "metadata": {
    "ExecuteTime": {
     "end_time": "2022-04-24T12:33:25.476584Z",
     "start_time": "2022-04-24T12:33:25.473639Z"
    }
   },
   "outputs": [
    {
     "data": {
      "text/plain": [
       "True"
      ]
     },
     "execution_count": 258,
     "metadata": {},
     "output_type": "execute_result"
    }
   ],
   "source": [
    "fact_2(13) == 6227020800"
   ]
  },
  {
   "cell_type": "markdown",
   "id": "507712e9",
   "metadata": {},
   "source": [
    "**Задание 3**\n",
    "\n",
    "Написать функцию ``fun_zad_3``, генерирующее все простые числа не больше заданного числа\n",
    "\n",
    "Со звездочкой &#9734;:  попробуй записать решение в одну строчку."
   ]
  },
  {
   "cell_type": "code",
   "execution_count": 275,
   "id": "0caadcf3",
   "metadata": {
    "ExecuteTime": {
     "end_time": "2022-04-24T13:22:31.192556Z",
     "start_time": "2022-04-24T13:22:31.190651Z"
    }
   },
   "outputs": [],
   "source": [
    "# функцию записать здесь"
   ]
  },
  {
   "cell_type": "code",
   "execution_count": 273,
   "id": "b138e78b",
   "metadata": {
    "ExecuteTime": {
     "end_time": "2022-04-24T13:21:10.586336Z",
     "start_time": "2022-04-24T13:21:10.583382Z"
    }
   },
   "outputs": [
    {
     "data": {
      "text/plain": [
       "True"
      ]
     },
     "execution_count": 273,
     "metadata": {},
     "output_type": "execute_result"
    }
   ],
   "source": [
    "fun_zad_3(3) == [2, 3]"
   ]
  },
  {
   "cell_type": "code",
   "execution_count": 274,
   "id": "9c973a7d",
   "metadata": {
    "ExecuteTime": {
     "end_time": "2022-04-24T13:21:14.225438Z",
     "start_time": "2022-04-24T13:21:14.222442Z"
    }
   },
   "outputs": [
    {
     "data": {
      "text/plain": [
       "True"
      ]
     },
     "execution_count": 274,
     "metadata": {},
     "output_type": "execute_result"
    }
   ],
   "source": [
    "fun_zad_3(10) == [2, 3, 5, 7]"
   ]
  },
  {
   "cell_type": "code",
   "execution_count": 270,
   "id": "7a8848b6",
   "metadata": {
    "ExecuteTime": {
     "end_time": "2022-04-24T13:19:36.400828Z",
     "start_time": "2022-04-24T13:19:36.397360Z"
    }
   },
   "outputs": [
    {
     "data": {
      "text/plain": [
       "True"
      ]
     },
     "execution_count": 270,
     "metadata": {},
     "output_type": "execute_result"
    }
   ],
   "source": [
    "fun_zad_3(20) == [2, 3, 5, 7, 11, 13, 17, 19]"
   ]
  },
  {
   "cell_type": "markdown",
   "id": "bfdc3df0",
   "metadata": {},
   "source": [
    "**Задача 4.**\n",
    "Необходимо обработать отзывы:\n",
    "1. Разбить на строки\n",
    "1. Соединить строки через другие разделители (например, запятые)\n",
    "1. Получить значение поля \"время\" для всех отзывов (записать в отдельный массив  ``time``)\n",
    "1. Получить словарь (dictionary) \"название поля - значения (во всех отзывах)\" "
   ]
  },
  {
   "cell_type": "code",
   "execution_count": 277,
   "id": "b5c721ff",
   "metadata": {
    "ExecuteTime": {
     "end_time": "2022-04-24T13:27:02.901382Z",
     "start_time": "2022-04-24T13:27:02.898561Z"
    }
   },
   "outputs": [],
   "source": [
    "s1 = \"\"\"Время: 20:54\n",
    "Дата: 21.02.2022\n",
    "Оценка: 2\n",
    "Длительность разговора (мин.): 6:12\n",
    "Комментарий: Сотрудник поддержки был груб. Примите меры!!!\n",
    "\"\"\"\n",
    "\n",
    "s2 = \"\"\"Время: 19:40\n",
    "Дата: 22.02.2022\n",
    "Оценка: 5\n",
    "Длительность разговора (мин.): 13:01\n",
    "Комментарий: Оперативно решили проблему.\n",
    "\"\"\"\n",
    "\n",
    "s3 = \"\"\"Время: 7:40\n",
    "Дата: 12.01.2022\n",
    "Оценка: 4\n",
    "Длительность разговора (мин.): 7:05\n",
    "Комментарий: Проблему решили, но долго не мог дозвониться\n",
    "\"\"\"\n",
    "\n",
    "otzyvi = [s1,s2,s3]"
   ]
  }
 ],
 "metadata": {
  "hide_input": false,
  "kernelspec": {
   "display_name": "Python 3",
   "language": "python",
   "name": "python3"
  },
  "language_info": {
   "codemirror_mode": {
    "name": "ipython",
    "version": 3
   },
   "file_extension": ".py",
   "mimetype": "text/x-python",
   "name": "python",
   "nbconvert_exporter": "python",
   "pygments_lexer": "ipython3",
   "version": "3.9.7"
  },
  "latex_envs": {
   "LaTeX_envs_menu_present": true,
   "autoclose": true,
   "autocomplete": true,
   "bibliofile": "biblio.bib",
   "cite_by": "apalike",
   "current_citInitial": 1,
   "eqLabelWithNumbers": true,
   "eqNumInitial": 1,
   "hotkeys": {
    "equation": "Ctrl-E",
    "itemize": "Ctrl-I"
   },
   "labels_anchors": false,
   "latex_user_defs": false,
   "report_style_numbering": false,
   "user_envs_cfg": false
  },
  "toc": {
   "base_numbering": 1,
   "nav_menu": {},
   "number_sections": true,
   "sideBar": true,
   "skip_h1_title": false,
   "title_cell": "Table of Contents",
   "title_sidebar": "Contents",
   "toc_cell": false,
   "toc_position": {},
   "toc_section_display": true,
   "toc_window_display": false
  },
  "varInspector": {
   "cols": {
    "lenName": 16,
    "lenType": 16,
    "lenVar": 40
   },
   "kernels_config": {
    "python": {
     "delete_cmd_postfix": "",
     "delete_cmd_prefix": "del ",
     "library": "var_list.py",
     "varRefreshCmd": "print(var_dic_list())"
    },
    "r": {
     "delete_cmd_postfix": ") ",
     "delete_cmd_prefix": "rm(",
     "library": "var_list.r",
     "varRefreshCmd": "cat(var_dic_list()) "
    }
   },
   "types_to_exclude": [
    "module",
    "function",
    "builtin_function_or_method",
    "instance",
    "_Feature"
   ],
   "window_display": false
  }
 },
 "nbformat": 4,
 "nbformat_minor": 5
}
