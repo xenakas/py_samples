{
 "cells": [
  {
   "cell_type": "markdown",
   "metadata": {},
   "source": [
    "#### Yellow Ball"
   ]
  },
  {
   "cell_type": "code",
   "execution_count": 3,
   "metadata": {},
   "outputs": [],
   "source": [
    "import pygame \n",
    "pygame.init()\n",
    "size = (300, 200)\n",
    "screen = pygame.display.set_mode(size) \n",
    "yellow = pygame.Color('yellow')\n",
    "blue = pygame.Color('blue')\n",
    "done = True\n",
    "fps = 20\n",
    "clock = pygame.time.Clock()\n",
    "screen.fill(blue)\n",
    "k=0\n",
    "while done:\n",
    "    for event in pygame.event.get():\n",
    "        if event.type == pygame.QUIT:\n",
    "            done = False\n",
    "        if event.type == pygame.MOUSEBUTTONDOWN:\n",
    "            screen.fill(blue)\n",
    "            q = event.pos\n",
    "            w = 1\n",
    "            k = 1\n",
    "    if k == 1:\n",
    "        pygame.draw.circle(screen, yellow, q, w)\n",
    "        w += 1\n",
    "    pygame.display.flip()\n",
    "    clock.tick(fps)\n",
    "\n",
    "pygame.quit()\n",
    "                "
   ]
  }
 ],
 "metadata": {
  "kernelspec": {
   "display_name": "Python 3",
   "language": "python",
   "name": "python3"
  },
  "language_info": {
   "codemirror_mode": {
    "name": "ipython",
    "version": 3
   },
   "file_extension": ".py",
   "mimetype": "text/x-python",
   "name": "python",
   "nbconvert_exporter": "python",
   "pygments_lexer": "ipython3",
   "version": "3.6.5"
  }
 },
 "nbformat": 4,
 "nbformat_minor": 2
}
