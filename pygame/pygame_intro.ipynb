{
 "cells": [
  {
   "cell_type": "markdown",
   "metadata": {},
   "source": [
    "### PyGame"
   ]
  },
  {
   "cell_type": "code",
   "execution_count": 1,
   "metadata": {},
   "outputs": [
    {
     "name": "stdout",
     "output_type": "stream",
     "text": [
      "pygame 1.9.4\n",
      "Hello from the pygame community. https://www.pygame.org/contribute.html\n"
     ]
    }
   ],
   "source": [
    "import pygame"
   ]
  },
  {
   "cell_type": "code",
   "execution_count": 1,
   "metadata": {},
   "outputs": [],
   "source": [
    "def draw():\n",
    "    screen.fill((145, 78, 27))\n",
    "    font = pygame.font.Font(None, 50)\n",
    "    text = font.render(\"Hi, there...\", 1, (102, 105, 160))\n",
    "    text_x = width // 2 - text.get_width() // 2\n",
    "    text_y = height // 2 - text.get_height() // 2\n",
    "    text_w = text.get_width()\n",
    "    text_h = text.get_height()\n",
    "    screen.blit(text, (text_x, text_y))\n",
    "    pygame.draw.rect(screen, (34, 125, 50), (text_x - 10, text_y - 10,\n",
    "                                           text_w + 20, text_h + 20), 1)\n",
    "    \n",
    "def draw_square():\n",
    "    color = pygame.Color(50, 150, 50)\n",
    "    # рисуем \"тень\"\n",
    "    pygame.draw.rect(screen, color,\n",
    "                     (20, 20, 100, 100), 0)\n",
    "    hsv = color.hsva\n",
    "    # увеличиваем яркость\n",
    "    color.hsva = (hsv[0], hsv[1], hsv[2] + 30, hsv[3])\n",
    "    # рисуем сам объект\n",
    "    pygame.draw.rect(screen, color, (10, 10, 100, 100), 0)"
   ]
  },
  {
   "cell_type": "code",
   "execution_count": 2,
   "metadata": {},
   "outputs": [
    {
     "name": "stdout",
     "output_type": "stream",
     "text": [
      "pygame 1.9.4\n",
      "Hello from the pygame community. https://www.pygame.org/contribute.html\n"
     ]
    }
   ],
   "source": [
    "import random \n",
    "random.seed(38)\n",
    "\n",
    "pygame.init()\n",
    "size = width, height = 800, 600\n",
    "screen = pygame.display.set_mode(size)\n",
    "\n",
    "draw()\n",
    "draw_square()\n",
    "\n",
    "pygame.draw.rect(screen, (255, 0, 0), (250, 10, 100, 100), 0)\n",
    "screen.fill(pygame.Color('violet'), pygame.Rect(10, 150, 60, 60))\n",
    "\n",
    "for i in range(10000):\n",
    "    screen.fill((random.randint(1,255),random.randint(1,255),random.randint(1,255)),\n",
    "                (random.random() * width, \n",
    "                 random.random() * height, 1, 1))\n",
    "\n",
    "pygame.draw.line(screen, (random.randint(1,255),random.randint(1,255),random.randint(1,255)), (20,40), (120,140), 15)\n",
    "pygame.draw.polygon(screen, pygame.Color('#ffcc00'), [[100,300], [0, 450], [200, 400]], 5)\n",
    "\n",
    "pygame.draw.aaline(screen, pygame.Color('green'), [0, 50],[50, 280], True)\n",
    "\n",
    "\n",
    "pygame.display.flip() # смена (отрисовка) кадра\n",
    "\n",
    "# завершение работы:\n",
    "\n",
    "while pygame.event.wait().type != pygame.QUIT:\n",
    "    pass\n",
    "\n",
    "pygame.quit()"
   ]
  },
  {
   "cell_type": "markdown",
   "metadata": {},
   "source": [
    "Rectangles:\n",
    "- `Rect(left, top, width, height)`\n",
    "- `Rect((left, top), (width, height))`\n",
    "- `Rect(rect) ` - копия передаваемого прямоугольника"
   ]
  },
  {
   "cell_type": "markdown",
   "metadata": {},
   "source": [
    "![](https://www.displaydaily.com/images/stories/antialiasing.gif)"
   ]
  },
  {
   "cell_type": "markdown",
   "metadata": {},
   "source": [
    "#### Cross"
   ]
  },
  {
   "cell_type": "code",
   "execution_count": 2,
   "metadata": {},
   "outputs": [
    {
     "name": "stdout",
     "output_type": "stream",
     "text": [
      "200 5000\n"
     ]
    }
   ],
   "source": [
    "pygame.init()\n",
    "sd = input().split()\n",
    "WHITE = (255, 255, 255)\n",
    "a = int(sd[0])\n",
    "b = int(sd[1])\n",
    "size = [a, b]\n",
    "screen = pygame.display.set_mode(size)\n",
    "done = False\n",
    "while not done:\n",
    "    for event in pygame.event.get():\n",
    "        if event.type == pygame.QUIT:\n",
    "            done = True\n",
    "    screen.fill((0, 0, 0))\n",
    "    pygame.draw.aaline(screen, WHITE, [0, 0], [a, b], 10)\n",
    "    pygame.draw.line(screen, WHITE, [a, 0], [0, b], 5)\n",
    "    pygame.display.flip()\n",
    "\n",
    "pygame.quit()"
   ]
  },
  {
   "cell_type": "markdown",
   "metadata": {},
   "source": [
    "#### Rect"
   ]
  },
  {
   "cell_type": "code",
   "execution_count": 5,
   "metadata": {},
   "outputs": [
    {
     "name": "stdout",
     "output_type": "stream",
     "text": [
      "200 300\n"
     ]
    }
   ],
   "source": [
    "pygame.init()\n",
    "sd = input().split()\n",
    "RED = (255, 0, 0)\n",
    "a = int(sd[0])\n",
    "b = int(sd[1])\n",
    "size = [a, b]\n",
    "screen = pygame.display.set_mode(size)\n",
    "done = False\n",
    "while not done:\n",
    "    for event in pygame.event.get():\n",
    "        if event.type == pygame.QUIT:\n",
    "            done = True\n",
    "    screen.fill((0, 0, 0))\n",
    "    pygame.draw.rect(screen, RED, [1, 1, a-2, b-2])\n",
    "    pygame.display.flip()\n",
    "    \n",
    "pygame.quit()"
   ]
  },
  {
   "cell_type": "markdown",
   "metadata": {},
   "source": [
    "#### Chessboard"
   ]
  },
  {
   "cell_type": "code",
   "execution_count": 6,
   "metadata": {},
   "outputs": [
    {
     "name": "stdout",
     "output_type": "stream",
     "text": [
      "300 200\n"
     ]
    }
   ],
   "source": [
    "pygame.init() \n",
    "sd = input().split() \n",
    "a = int(sd[0]) \n",
    "b = int(sd[1]) \n",
    "q = a//b \n",
    "size = a,a \n",
    "screen = pygame.display.set_mode(size) \n",
    "BLACK = ( 0, 0, 0) \n",
    "WHITE = (255, 255, 255) \n",
    "done = False \n",
    "while not done: \n",
    "    for event in pygame.event.get():\n",
    "        if event.type == pygame.QUIT:\n",
    "            done = True\n",
    "            \n",
    "    if b % 2 == 0:\n",
    "        screen.fill((0, 0, 0))\n",
    "        for i in range(0, a, q*2): \n",
    "            for j in range(0, a, q*2): \n",
    "                pygame.draw.rect(screen, WHITE, [i, j, q, q]) \n",
    "        for i in range(q, a, q*2): \n",
    "            for j in range(q, a, q*2): \n",
    "                pygame.draw.rect(screen, WHITE, [i, j, q, q])\n",
    "\n",
    "    else:\n",
    "        screen.fill((255, 255, 255))\n",
    "        for i in range(0, a, q*2): \n",
    "            for j in range(0, a, q*2): \n",
    "                pygame.draw.rect(screen, BLACK, [i, j, q, q]) \n",
    "        for i in range(q, a, q*2): \n",
    "            for j in range(q, a, q*2): \n",
    "                pygame.draw.rect(screen, BLACK, [i, j, q, q])\n",
    "        \n",
    "    pygame.display.flip() \n",
    "\n",
    "pygame.quit()"
   ]
  },
  {
   "cell_type": "markdown",
   "metadata": {},
   "source": [
    "#### Sphere"
   ]
  },
  {
   "cell_type": "code",
   "execution_count": 7,
   "metadata": {},
   "outputs": [
    {
     "name": "stdout",
     "output_type": "stream",
     "text": [
      "20\n"
     ]
    }
   ],
   "source": [
    "pygame.init()\n",
    "n = int(input())\n",
    "size = (300, 300)\n",
    "screen = pygame.display.set_mode(size) \n",
    "BLACK = ( 0, 0, 0) \n",
    "WHITE = (255, 255, 255)\n",
    "screen.fill((0, 0, 0))\n",
    "w = 150 // n\n",
    "done = True\n",
    "while done:\n",
    "    for event in pygame.event.get():\n",
    "        if event.type == pygame.QUIT:\n",
    "            done = False\n",
    "    q = 0\n",
    "    screen.fill((0, 0, 0))\n",
    "    for i in range(n):\n",
    "        q = i*w\n",
    "        pygame.draw.ellipse(screen, WHITE, [q, 0, 300-2*q, 300], 1)\n",
    "    q = 0\n",
    "    for i in range(n):\n",
    "        q = i*w\n",
    "        pygame.draw.ellipse(screen, WHITE, [0, q, 300, 300-2*q], 1) \n",
    "    pygame.display.flip()\n",
    "    \n",
    "pygame.quit()"
   ]
  },
  {
   "cell_type": "markdown",
   "metadata": {},
   "source": [
    "#### Rhombuses"
   ]
  },
  {
   "cell_type": "code",
   "execution_count": 10,
   "metadata": {},
   "outputs": [
    {
     "name": "stdout",
     "output_type": "stream",
     "text": [
      "введите размер экрана, диагональ ромба\n",
      "200 300 10\n"
     ]
    }
   ],
   "source": [
    "pygame.init()\n",
    "print('введите размер экрана, диагональ ромба')\n",
    "sd = input().split() \n",
    "a = int(sd[0]) \n",
    "b = int(sd[1])\n",
    "n = int(sd[2]) \n",
    "size = (a, b)\n",
    "screen = pygame.display.set_mode(size) \n",
    "yellow = pygame.Color('yellow')\n",
    "orange = pygame.Color('orange')\n",
    "done = True\n",
    "while done:\n",
    "    for event in pygame.event.get():\n",
    "        if event.type == pygame.QUIT:\n",
    "            done = False\n",
    "    screen.fill(yellow)\n",
    "    for i in range(a//n):\n",
    "        for j in range(b//n):\n",
    "            pygame.draw.polygon(screen, orange, [[i*n+n//2, j*n], [i*n, j*n+n//2], [i*n+n//2, j*n+n], [i*n+n, j*n+n//2]], 0)\n",
    "    pygame.display.flip()\n",
    "\n",
    "pygame.quit()\n"
   ]
  },
  {
   "cell_type": "markdown",
   "metadata": {},
   "source": [
    "#### Bricks"
   ]
  },
  {
   "cell_type": "code",
   "execution_count": 11,
   "metadata": {},
   "outputs": [],
   "source": [
    "pygame.init()\n",
    "size = (300, 200)\n",
    "screen = pygame.display.set_mode(size) \n",
    "RED = (255, 0, 0) \n",
    "WHITE = (255, 255, 255) \n",
    "done = True\n",
    "while done:\n",
    "    for event in pygame.event.get():\n",
    "        if event.type == pygame.QUIT:\n",
    "            done = False\n",
    "    screen.fill((255, 255, 255))\n",
    "    for i in range(12):\n",
    "        if i % 2 == 0:\n",
    "            for j in range(10):\n",
    "                pygame.draw.rect(screen, RED, (j*30+j*2, i*17, 30, 15))\n",
    "        else:\n",
    "            for j in range(10):\n",
    "                pygame.draw.rect(screen, RED, (j*30+j*2-15, i*17, 30, 15))\n",
    "    pygame.display.flip()\n",
    "pygame.quit()\n",
    "                "
   ]
  }
 ],
 "metadata": {
  "kernelspec": {
   "display_name": "Python 3",
   "language": "python",
   "name": "python3"
  },
  "language_info": {
   "codemirror_mode": {
    "name": "ipython",
    "version": 3
   },
   "file_extension": ".py",
   "mimetype": "text/x-python",
   "name": "python",
   "nbconvert_exporter": "python",
   "pygments_lexer": "ipython3",
   "version": "3.6.5"
  }
 },
 "nbformat": 4,
 "nbformat_minor": 2
}
