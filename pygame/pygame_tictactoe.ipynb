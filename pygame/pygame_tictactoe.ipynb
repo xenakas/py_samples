{
 "cells": [
  {
   "cell_type": "code",
   "execution_count": 1,
   "metadata": {
    "scrolled": true
   },
   "outputs": [
    {
     "name": "stdout",
     "output_type": "stream",
     "text": [
      "pygame 1.9.4\n",
      "Hello from the pygame community. https://www.pygame.org/contribute.html\n"
     ]
    }
   ],
   "source": [
    "import pygame  "
   ]
  },
  {
   "cell_type": "code",
   "execution_count": 2,
   "metadata": {},
   "outputs": [],
   "source": [
    "class Board:\n",
    "    \n",
    "    # создание поля\n",
    "    def __init__(self, width, height):\n",
    "        self.width = width\n",
    "        self.height = height\n",
    "        self.board = [[0] * width for _ in range(height)]\n",
    "        self.left = 10\n",
    "        self.top = 10\n",
    "        self.cell_size = 30\n",
    "        self.count = 0\n",
    "        \n",
    " \n",
    "    # настройка внешнего вида\n",
    "    def set_view(self, left, top, cell_size):\n",
    "        self.left = left\n",
    "        self.top = top\n",
    "        self.cell_size = cell_size\n",
    "        \n",
    "    def render(self):\n",
    "        for i in range(self.width):\n",
    "            for j in range(self.height):\n",
    "                if self.board[j][i] == 1:\n",
    "                    pygame.draw.line(screen, (0,0,255), [ 2 + self.left + i*self.cell_size, 2 + self.top+j*self.cell_size], [self.left+(i+1)*self.cell_size-2, self.top+(j+1)*self.cell_size-2], 2)\n",
    "                    pygame.draw.line(screen, (0,0,255), [ 2 + self.left + i*self.cell_size, -2 + self.top+(j+1)*self.cell_size], [-2+self.left+(i+1)*self.cell_size, -2+self.top+j*self.cell_size], 2)\n",
    "                elif self.board[j][i] == 2: \n",
    "                    pygame.draw.circle(screen, (255,0,0), [self.left+int((i+0.5)*self.cell_size), self.top+int((j+0.5)*self.cell_size)], self.cell_size//2-2, 2)\n",
    "                                   \n",
    "                pygame.draw.rect(screen, (255, 255, 255), [self.left+i*self.cell_size, self.top+j*self.cell_size, self.cell_size, self.cell_size], 1)\n",
    "                \n",
    "                \n",
    "    def get_cell(self, mouse_pos):\n",
    "        if (self.left <= mouse_pos[0] <= self.left+self.cell_size*self.width) and (self.top <= mouse_pos[1] <= self.top+self.cell_size*self.height):\n",
    "            return mouse_pos\n",
    "        else:\n",
    "            return None\n",
    "            \n",
    "            \n",
    "    def on_click(self, cell_coords):\n",
    "        if cell_coords != None:\n",
    "            q = ((cell_coords[0] - self.left)//self.cell_size, (cell_coords[1] - self.top)//self.cell_size)            \n",
    "            if self.board[q[1]][q[0]] == 0:\n",
    "                if self.count % 2 == 0:\n",
    "                    self.board[q[1]][q[0]] = 1\n",
    "                else: \n",
    "                    self.board[q[1]][q[0]] = 2\n",
    "            else:\n",
    "                print('Not empty')\n",
    "            self.count += 1\n",
    "            \n",
    "        else:\n",
    "            print(cell_coords)\n",
    "        \n",
    "            \n",
    "    def get_click(self, mouse_pos):\n",
    "        cell = self.get_cell(mouse_pos)\n",
    "        self.on_click(cell)"
   ]
  },
  {
   "cell_type": "code",
   "execution_count": 5,
   "metadata": {},
   "outputs": [
    {
     "name": "stdout",
     "output_type": "stream",
     "text": [
      "Not empty\n",
      "Not empty\n",
      "Not empty\n",
      "Not empty\n",
      "Not empty\n",
      "Not empty\n",
      "Not empty\n",
      "Not empty\n"
     ]
    }
   ],
   "source": [
    "pygame.init()\n",
    "\n",
    "# поле 5 на 7\n",
    "board = Board(6, 6)\n",
    "board.set_view(100, 100, 50)\n",
    "size = (500, 500)\n",
    "screen = pygame.display.set_mode(size)\n",
    "running = True\n",
    "while running:\n",
    "    for event in pygame.event.get():\n",
    "        if event.type == pygame.QUIT:\n",
    "            running = False\n",
    "        if event.type == pygame.MOUSEBUTTONDOWN:\n",
    "            board.get_click(event.pos)\n",
    "    screen.fill((0, 0, 0))\n",
    "    board.render()\n",
    "    pygame.display.flip()\n",
    "    \n",
    "\n",
    "pygame.quit()"
   ]
  },
  {
   "cell_type": "code",
   "execution_count": null,
   "metadata": {},
   "outputs": [],
   "source": []
  }
 ],
 "metadata": {
  "kernelspec": {
   "display_name": "Python 3",
   "language": "python",
   "name": "python3"
  },
  "language_info": {
   "codemirror_mode": {
    "name": "ipython",
    "version": 3
   },
   "file_extension": ".py",
   "mimetype": "text/x-python",
   "name": "python",
   "nbconvert_exporter": "python",
   "pygments_lexer": "ipython3",
   "version": "3.6.5"
  }
 },
 "nbformat": 4,
 "nbformat_minor": 2
}
