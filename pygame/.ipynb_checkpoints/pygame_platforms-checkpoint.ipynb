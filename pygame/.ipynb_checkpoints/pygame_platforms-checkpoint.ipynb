{
 "cells": [
  {
   "cell_type": "code",
   "execution_count": 1,
   "metadata": {},
   "outputs": [
    {
     "name": "stdout",
     "output_type": "stream",
     "text": [
      "pygame 1.9.4\n",
      "Hello from the pygame community. https://www.pygame.org/contribute.html\n"
     ]
    }
   ],
   "source": [
    "import pygame\n",
    "import os\n",
    "import numpy as np\n",
    "import random"
   ]
  },
  {
   "cell_type": "code",
   "execution_count": 9,
   "metadata": {},
   "outputs": [],
   "source": [
    "pygame.init()\n",
    "\n",
    "width, height = 500, 500\n",
    "size = (width, height)\n",
    "screen = pygame.display.set_mode(size)\n",
    "running = True\n",
    "pos_move = np.array([0,0])\n",
    "\n",
    "class Platform(pygame.sprite.Sprite):\n",
    "    image = pygame.Surface([50, 10])\n",
    "    image.fill(pygame.Color(\"grey\"))\n",
    "\n",
    "    def __init__(self, group, new_x, new_y):\n",
    "        super().__init__(group)  # НЕОБХОДИМО вызвать конструктор родительского класса Sprite.\n",
    "        self.image = Platform.image\n",
    "        self.rect = self.image.get_rect()\n",
    "        self.rect.x = new_x\n",
    "        self.rect.y = new_y\n",
    "\n",
    "class Man(pygame.sprite.Sprite):\n",
    "    \n",
    "    image = pygame.Surface([20, 20])\n",
    "    image.fill(pygame.Color(\"blue\"))\n",
    "\n",
    "    def __init__(self, group, new_x, new_y):\n",
    "        super().__init__(group)  # НЕОБХОДИМО вызвать конструктор родительского класса Sprite.\n",
    "        self.image = Man.image\n",
    "        self.rect = self.image.get_rect()\n",
    "        self.rect.x = new_x\n",
    "        self.rect.y = new_y\n",
    "        \n",
    "    def update(self, d):\n",
    "        \n",
    "        down = 1\n",
    "        \n",
    "        if pygame.sprite.groupcollide(plat_sprites, man_sprites, False, False): \n",
    "            down = 0\n",
    "        \n",
    "        if d=='d':\n",
    "            self.rect = self.rect.move(0, down)\n",
    "        elif d=='l':\n",
    "            self.rect = self.rect.move(-10, 0)\n",
    "        elif d=='r':\n",
    "            self.rect = self.rect.move(10, 0)\n",
    "            \n",
    "plat_sprites = pygame.sprite.Group()\n",
    "man_sprites = pygame.sprite.Group()\n",
    "\n",
    "clock = pygame.time.Clock()\n",
    "fps=50\n",
    "\n",
    "while running:\n",
    "    for event in pygame.event.get():\n",
    "        if event.type == pygame.QUIT:\n",
    "            running = False\n",
    "        if event.type == pygame.MOUSEBUTTONDOWN:\n",
    "            if event.button == 1:\n",
    "                Platform(plat_sprites, event.pos[0], event.pos[1])\n",
    "            elif event.button == 3:\n",
    "                man_sprites = pygame.sprite.Group()\n",
    "                Man(man_sprites, event.pos[0], event.pos[1])\n",
    "        if event.type == pygame.KEYDOWN:\n",
    "            if event.key == pygame.K_LEFT:\n",
    "                man_sprites.update('l')\n",
    "            if event.key == pygame.K_RIGHT:\n",
    "                man_sprites.update('r')\n",
    "\n",
    "\n",
    "    screen.fill((0, 0, 0))\n",
    "    plat_sprites.draw(screen)\n",
    "    man_sprites.draw(screen)\n",
    "    man_sprites.update('d')\n",
    "    pygame.display.flip()\n",
    "    clock.tick(fps)\n",
    "    \n",
    "pygame.quit()"
   ]
  },
  {
   "cell_type": "code",
   "execution_count": null,
   "metadata": {},
   "outputs": [],
   "source": []
  }
 ],
 "metadata": {
  "kernelspec": {
   "display_name": "Python 3",
   "language": "python",
   "name": "python3"
  },
  "language_info": {
   "codemirror_mode": {
    "name": "ipython",
    "version": 3
   },
   "file_extension": ".py",
   "mimetype": "text/x-python",
   "name": "python",
   "nbconvert_exporter": "python",
   "pygments_lexer": "ipython3",
   "version": "3.6.5"
  }
 },
 "nbformat": 4,
 "nbformat_minor": 2
}
