{
 "cells": [
  {
   "cell_type": "code",
   "execution_count": 1,
   "metadata": {},
   "outputs": [
    {
     "name": "stdout",
     "output_type": "stream",
     "text": [
      "pygame 1.9.4\n",
      "Hello from the pygame community. https://www.pygame.org/contribute.html\n"
     ]
    }
   ],
   "source": [
    "import pygame "
   ]
  },
  {
   "cell_type": "code",
   "execution_count": 2,
   "metadata": {},
   "outputs": [],
   "source": [
    "class Board:\n",
    "    \n",
    "    # создание поля\n",
    "    def __init__(self, width, height):\n",
    "        self.width = width\n",
    "        self.height = height\n",
    "        self.board = [[0] * width for _ in range(height)]\n",
    "        self.left = 10\n",
    "        self.top = 10\n",
    "        self.cell_size = 30\n",
    "        \n",
    " \n",
    "    # настройка внешнего вида\n",
    "    def set_view(self, left, top, cell_size):\n",
    "        self.left = left\n",
    "        self.top = top\n",
    "        self.cell_size = cell_size\n",
    "        \n",
    "    def render(self):\n",
    "        for i in range(self.width):\n",
    "            for j in range(self.height):\n",
    "                if self.board[j][i] % 3 == 0:\n",
    "                    pygame.draw.rect(screen, (0, 0, 0), [self.left+i*self.cell_size, self.top+j*self.cell_size, self.cell_size, self.cell_size])\n",
    "                elif self.board[j][i] % 3 == 1:\n",
    "                    pygame.draw.rect(screen, (255, 0, 0), [self.left+i*self.cell_size, self.top+j*self.cell_size, self.cell_size, self.cell_size])\n",
    "                elif self.board[j][i] % 3 == 2:\n",
    "                    pygame.draw.rect(screen, (0, 0, 255), [self.left+i*self.cell_size, self.top+j*self.cell_size, self.cell_size, self.cell_size])\n",
    "                pygame.draw.rect(screen, (255, 255, 255), [self.left+i*self.cell_size, self.top+j*self.cell_size, self.cell_size, self.cell_size], 1)\n",
    "                \n",
    "                \n",
    "    def get_cell(self, mouse_pos):\n",
    "        if (self.left <= mouse_pos[0] <= self.left+self.cell_size*self.width) and (self.top <= mouse_pos[1] <= self.top+self.cell_size*self.height):\n",
    "            return mouse_pos\n",
    "        else:\n",
    "            return None\n",
    "            \n",
    "            \n",
    "    def on_click(self, cell_coords):\n",
    "        if cell_coords != None:\n",
    "            q = ((cell_coords[0] - self.left)//self.cell_size, (cell_coords[1] - self.top)//self.cell_size)\n",
    "            self.board[q[1]][q[0]] += 1\n",
    "        else:\n",
    "            print(cell_coords)\n",
    "        \n",
    "            \n",
    "    def get_click(self, mouse_pos):\n",
    "        cell = self.get_cell(mouse_pos)\n",
    "        self.on_click(cell)"
   ]
  },
  {
   "cell_type": "code",
   "execution_count": 3,
   "metadata": {},
   "outputs": [],
   "source": [
    "pygame.init()\n",
    "\n",
    "board = Board(6, 6)\n",
    "board.set_view(100, 100, 50)\n",
    "size = (500, 500)\n",
    "screen = pygame.display.set_mode(size)\n",
    "running = True\n",
    "while running:\n",
    "    for event in pygame.event.get():\n",
    "        if event.type == pygame.QUIT:\n",
    "            running = False\n",
    "        if event.type == pygame.MOUSEBUTTONDOWN:\n",
    "            board.get_click(event.pos)\n",
    "    screen.fill((0, 0, 0))\n",
    "    board.render()\n",
    "    pygame.display.flip()\n",
    "    \n",
    "\n",
    "pygame.quit()\n",
    "    "
   ]
  },
  {
   "cell_type": "code",
   "execution_count": null,
   "metadata": {},
   "outputs": [],
   "source": []
  }
 ],
 "metadata": {
  "kernelspec": {
   "display_name": "Python 3",
   "language": "python",
   "name": "python3"
  },
  "language_info": {
   "codemirror_mode": {
    "name": "ipython",
    "version": 3
   },
   "file_extension": ".py",
   "mimetype": "text/x-python",
   "name": "python",
   "nbconvert_exporter": "python",
   "pygments_lexer": "ipython3",
   "version": "3.6.5"
  }
 },
 "nbformat": 4,
 "nbformat_minor": 2
}
