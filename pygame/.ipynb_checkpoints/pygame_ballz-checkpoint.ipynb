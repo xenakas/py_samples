{
 "cells": [
  {
   "cell_type": "code",
   "execution_count": 1,
   "metadata": {},
   "outputs": [
    {
     "name": "stdout",
     "output_type": "stream",
     "text": [
      "pygame 1.9.4\n",
      "Hello from the pygame community. https://www.pygame.org/contribute.html\n"
     ]
    }
   ],
   "source": [
    "import pygame\n",
    "import numpy as np\n",
    "\n",
    "pygame.init()\n",
    "size = width, height = 600, 400\n",
    "screen = pygame.display.set_mode(size) \n",
    "white = pygame.Color('white')\n",
    "black = pygame.Color('black')\n",
    "done = True\n",
    "fps = 100\n",
    "clock = pygame.time.Clock()\n",
    "screen.fill(black)\n",
    "k=0\n",
    "centers = []\n",
    "direct = []\n",
    "while done:\n",
    "    for event in pygame.event.get():\n",
    "        if event.type == pygame.QUIT:\n",
    "            done = False\n",
    "        if event.type == pygame.MOUSEBUTTONDOWN:\n",
    "            q = list(event.pos)\n",
    "            w = 10\n",
    "            centers.append(q)\n",
    "            direct.append([1,-1])\n",
    "            k = 1\n",
    "    pygame.display.flip()\n",
    "    while k == 1:\n",
    "        screen.fill(black)\n",
    "        for i in range(len(centers)):\n",
    "            pygame.draw.circle(screen, white, centers[i], w)\n",
    "            if (centers[i][1] == 10) or (centers[i][1] == height-10) :\n",
    "                direct[i][1] *= -1\n",
    "            if (centers[i][0] == width-10) or (centers[i][0] == 10) :\n",
    "                direct[i][0] *= -1\n",
    "            centers[i][0]+=direct[i][0]\n",
    "            centers[i][1]+=direct[i][1]\n",
    "            for event in pygame.event.get():\n",
    "                if event.type == pygame.QUIT:\n",
    "                    k = 0\n",
    "                    done = False\n",
    "                    break\n",
    "                if event.type == pygame.MOUSEBUTTONDOWN:\n",
    "                    q = list(event.pos)\n",
    "                    centers.append(q)\n",
    "                    direct.append([1,-1])\n",
    "                    break                    \n",
    "        pygame.display.flip()\n",
    "        clock.tick(fps)\n",
    "# завершение работы:\n",
    "pygame.quit()\n",
    "                "
   ]
  },
  {
   "cell_type": "code",
   "execution_count": null,
   "metadata": {},
   "outputs": [],
   "source": []
  },
  {
   "cell_type": "code",
   "execution_count": null,
   "metadata": {},
   "outputs": [],
   "source": []
  }
 ],
 "metadata": {
  "kernelspec": {
   "display_name": "Python 3",
   "language": "python",
   "name": "python3"
  },
  "language_info": {
   "codemirror_mode": {
    "name": "ipython",
    "version": 3
   },
   "file_extension": ".py",
   "mimetype": "text/x-python",
   "name": "python",
   "nbconvert_exporter": "python",
   "pygments_lexer": "ipython3",
   "version": "3.6.5"
  }
 },
 "nbformat": 4,
 "nbformat_minor": 2
}
