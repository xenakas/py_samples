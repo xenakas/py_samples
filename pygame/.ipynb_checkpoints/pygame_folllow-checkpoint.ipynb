{
 "cells": [
  {
   "cell_type": "code",
   "execution_count": 1,
   "metadata": {},
   "outputs": [
    {
     "name": "stdout",
     "output_type": "stream",
     "text": [
      "pygame 1.9.4\n",
      "Hello from the pygame community. https://www.pygame.org/contribute.html\n"
     ]
    }
   ],
   "source": [
    "import pygame\n",
    "from numpy import sign\n",
    "pygame.init()\n",
    "size = width, height = 501, 501\n",
    "radius = 20\n",
    "screen = pygame.display.set_mode(size) \n",
    "red = pygame.Color('red')\n",
    "black = pygame.Color('black')\n",
    "done = True\n",
    "fps = 100\n",
    "clock = pygame.time.Clock()\n",
    "screen.fill(black)\n",
    "k = 0\n",
    "center = [251,251]\n",
    "direct = [0,0]\n",
    "\n",
    "while done:\n",
    "    \n",
    "    for event in pygame.event.get():\n",
    "        if event.type == pygame.QUIT:\n",
    "            done = False\n",
    "        if event.type == pygame.MOUSEBUTTONDOWN:\n",
    "            new_center = list(event.pos)\n",
    "            direct = list(sign([new_center[0] - center[0], new_center[1] - center[1]]))\n",
    "    \n",
    "    pygame.draw.circle(screen, red, center, radius)\n",
    "    pygame.display.flip()\n",
    "    \n",
    "    while (direct[0] != 0) or (direct[1] != 0):\n",
    "        \n",
    "        center[0]+=direct[0]\n",
    "        center[1]+=direct[1]\n",
    "        direct = list(sign([new_center[0] - center[0], new_center[1] - center[1]]))\n",
    "        screen.fill(black)\n",
    "        pygame.draw.circle(screen, red, center, radius)\n",
    "        pygame.display.flip()\n",
    "        clock.tick(fps)\n",
    "            \n",
    "        for event in pygame.event.get():\n",
    "            if event.type == pygame.QUIT:\n",
    "                done = False\n",
    "                break\n",
    "            if event.type == pygame.MOUSEBUTTONDOWN:\n",
    "                new_center = list(event.pos)\n",
    "                direct = list(sign([new_center[0] - center[0], new_center[1] - center[1]]))                    \n",
    "                break               \n",
    "        break\n",
    "\n",
    "pygame.quit()"
   ]
  },
  {
   "cell_type": "code",
   "execution_count": null,
   "metadata": {},
   "outputs": [],
   "source": []
  }
 ],
 "metadata": {
  "kernelspec": {
   "display_name": "Python 3",
   "language": "python",
   "name": "python3"
  },
  "language_info": {
   "codemirror_mode": {
    "name": "ipython",
    "version": 3
   },
   "file_extension": ".py",
   "mimetype": "text/x-python",
   "name": "python",
   "nbconvert_exporter": "python",
   "pygments_lexer": "ipython3",
   "version": "3.6.5"
  }
 },
 "nbformat": 4,
 "nbformat_minor": 2
}
