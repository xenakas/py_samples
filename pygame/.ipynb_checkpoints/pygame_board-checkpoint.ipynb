{
 "cells": [
  {
   "cell_type": "code",
   "execution_count": 1,
   "metadata": {},
   "outputs": [
    {
     "name": "stdout",
     "output_type": "stream",
     "text": [
      "pygame 1.9.4\n",
      "Hello from the pygame community. https://www.pygame.org/contribute.html\n"
     ]
    }
   ],
   "source": [
    "import bisect, pygame"
   ]
  },
  {
   "cell_type": "code",
   "execution_count": 2,
   "metadata": {},
   "outputs": [],
   "source": [
    "class Board:\n",
    "    \n",
    "    \n",
    "    # создание поля\n",
    "    def __init__(self, width, height):\n",
    "        self.width = width\n",
    "        self.height = height\n",
    "        self.board = [[0] * width for _ in range(height)]\n",
    "        # значения по умолчанию\n",
    "        self.left = 10\n",
    "        self.top = 10\n",
    "        self.cell_size = 30\n",
    "        self.white = (255, 255, 255)        \n",
    " \n",
    "    # настройка внешнего вида\n",
    "    def set_view(self, left, top, cell_size):\n",
    "        self.left = left\n",
    "        self.top = top\n",
    "        self.cell_size = cell_size\n",
    "    \n",
    "    def render(self):\n",
    "        for i in range(self.height):  \n",
    "            for j in range(self.width):\n",
    "                if self.board[i][j] == 0:\n",
    "                    pygame.draw.rect(screen, self.white , [self.left + j*self.cell_size, self.top+i*self.cell_size, self.cell_size, self.cell_size], 1)\n",
    "                else:\n",
    "                    pygame.draw.rect(screen, self.white , [self.left + j*self.cell_size, self.top+i*self.cell_size, self.cell_size, self.cell_size])\n",
    "                    \n",
    "    \n",
    "    def get_cell(self, mouse_pos):\n",
    "        if (mouse_pos[0] <= self.left) or (mouse_pos[0] >= self.left +  self.width * self.cell_size) or (mouse_pos[1] <= self.top)   or  (mouse_pos[1] >= self.top +  self.height * self.cell_size):\n",
    "            self.cell_coords = None\n",
    "        else:\n",
    "            self.cell_coords = mouse_pos\n",
    "        return self.cell_coords\n",
    "        \n",
    "    \n",
    "    def on_click(self, cell_coords):\n",
    "        if cell_coords == None:\n",
    "            pass\n",
    "        else:\n",
    "            square_ind = [bisect.bisect_left([self.left + i*self.cell_size for i in range(self.width)], cell_coords[0]), \n",
    "                      bisect.bisect_left([self.top + i*self.cell_size for i in range(self.height)], cell_coords[1]) ]\n",
    "            self.board[square_ind[1]-1][square_ind[0]-1] = self.board[square_ind[1]-1][square_ind[0]-1]^1\n",
    "    \n",
    "    def get_click(self, mouse_pos):\n",
    "        cell = self.get_cell(mouse_pos)\n",
    "        self.on_click(cell)"
   ]
  },
  {
   "cell_type": "code",
   "execution_count": 3,
   "metadata": {},
   "outputs": [],
   "source": [
    "pygame.init()\n",
    "screen = pygame.display.set_mode((400,400))\n",
    "\n",
    "board = Board(4, 3)\n",
    "board.set_view(100, 100, 50)\n",
    "\n",
    "running = True\n",
    "while running:\n",
    "    for event in pygame.event.get():\n",
    "        if event.type == pygame.QUIT:\n",
    "            running = False   \n",
    "        if event.type == pygame.MOUSEBUTTONDOWN:\n",
    "            \n",
    "            board.get_click(event.pos)\n",
    "    screen.fill((0, 0, 0))\n",
    "    board.render()\n",
    "    pygame.display.flip()\n",
    "\n",
    "pygame.quit()"
   ]
  },
  {
   "cell_type": "code",
   "execution_count": null,
   "metadata": {},
   "outputs": [],
   "source": []
  }
 ],
 "metadata": {
  "kernelspec": {
   "display_name": "Python 3",
   "language": "python",
   "name": "python3"
  },
  "language_info": {
   "codemirror_mode": {
    "name": "ipython",
    "version": 3
   },
   "file_extension": ".py",
   "mimetype": "text/x-python",
   "name": "python",
   "nbconvert_exporter": "python",
   "pygments_lexer": "ipython3",
   "version": "3.6.5"
  }
 },
 "nbformat": 4,
 "nbformat_minor": 2
}
