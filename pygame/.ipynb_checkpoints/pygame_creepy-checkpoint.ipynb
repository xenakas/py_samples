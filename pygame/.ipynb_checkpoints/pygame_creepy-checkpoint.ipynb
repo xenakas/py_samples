{
 "cells": [
  {
   "cell_type": "code",
   "execution_count": 2,
   "metadata": {},
   "outputs": [
    {
     "ename": "SystemExit",
     "evalue": "",
     "output_type": "error",
     "traceback": [
      "An exception has occurred, use %tb to see the full traceback.\n",
      "\u001b[0;31mSystemExit\u001b[0m\n"
     ]
    },
    {
     "name": "stderr",
     "output_type": "stream",
     "text": [
      "/home/xenakas/anaconda3/lib/python3.6/site-packages/IPython/core/interactiveshell.py:2971: UserWarning: To exit: use 'exit', 'quit', or Ctrl-D.\n",
      "  warn(\"To exit: use 'exit', 'quit', or Ctrl-D.\", stacklevel=1)\n"
     ]
    }
   ],
   "source": [
    "import pygame, sys\n",
    "pygame.init()\n",
    "size = width, height = 200, 200\n",
    "screen = pygame.display.set_mode(size)\n",
    "\n",
    "k=1\n",
    "\n",
    "while True:\n",
    "    for event in pygame.event.get():\n",
    "        if event.type==pygame.QUIT:\n",
    "            pygame.quit()\n",
    "            sys.exit()\n",
    "                \n",
    "        elif event.type == pygame.ACTIVEEVENT:\n",
    "            \n",
    "            if  (event.state == 1) or ((event.state == 2) & (event.gain == 1) ):\n",
    "                screen.fill((0,0,0))\n",
    "                font = pygame.font.Font(None, 100)\n",
    "                text = font.render(\"{}\".format(k), 1, pygame.Color('red'))\n",
    "                text_x = width // 2 - text.get_width() // 2\n",
    "                text_y = height // 2 - text.get_height() // 2\n",
    "                text_w = text.get_width()\n",
    "                text_h = text.get_height()\n",
    "                screen.blit(text, (text_x, text_y))\n",
    "\n",
    "            elif event.state == 2:\n",
    "                if event.gain == 0:\n",
    "                    k+=1\n",
    "    \n",
    "    pygame.display.flip()"
   ]
  },
  {
   "cell_type": "code",
   "execution_count": null,
   "metadata": {},
   "outputs": [],
   "source": []
  }
 ],
 "metadata": {
  "kernelspec": {
   "display_name": "Python 3",
   "language": "python",
   "name": "python3"
  },
  "language_info": {
   "codemirror_mode": {
    "name": "ipython",
    "version": 3
   },
   "file_extension": ".py",
   "mimetype": "text/x-python",
   "name": "python",
   "nbconvert_exporter": "python",
   "pygments_lexer": "ipython3",
   "version": "3.6.5"
  }
 },
 "nbformat": 4,
 "nbformat_minor": 2
}
