{
 "cells": [
  {
   "cell_type": "markdown",
   "metadata": {},
   "source": [
    "### Circle"
   ]
  },
  {
   "cell_type": "code",
   "execution_count": 1,
   "metadata": {},
   "outputs": [],
   "source": [
    "def draw():\n",
    "    global x_pos\n",
    "    screen.fill((0, 0, 0))\n",
    "    pygame.draw.circle(screen, (255, 0, 0), (int(x_pos), 200), 20)\n",
    "    x_pos += 0.1\n"
   ]
  },
  {
   "cell_type": "code",
   "execution_count": null,
   "metadata": {},
   "outputs": [],
   "source": [
    "import pygame\n",
    "\n",
    "pygame.init()\n",
    "screen = pygame.display.set_mode((400,400))\n",
    "\n",
    "x_pos=10\n",
    "\n",
    "done = False\n",
    "while not done:\n",
    "    \n",
    "    for i in range (4000):\n",
    "        draw()\n",
    "        pygame.display.flip()\n",
    "    \n",
    "    while pygame.event.wait().type != pygame.QUIT:\n",
    "        done = True\n",
    "\n",
    "pygame.quit()"
   ]
  },
  {
   "cell_type": "code",
   "execution_count": 9,
   "metadata": {},
   "outputs": [],
   "source": [
    "import pygame\n",
    "\n",
    "pygame.init()\n",
    "screen = pygame.display.set_mode((400,400))\n",
    "running = True\n",
    "\n",
    "x_pos = 0\n",
    "\n",
    "while running:\n",
    "    for event in pygame.event.get():\n",
    "        if event.type == pygame.QUIT:\n",
    "            running = False\n",
    "    screen.fill((0, 0, 0))\n",
    "    pygame.draw.circle(screen, (255, 0, 0), (int(x_pos), 200), 20)\n",
    "    x_pos += 1 / 100 # v * t в секундах\n",
    "    pygame.display.flip()\n",
    "\n",
    "\n",
    "pygame.quit()"
   ]
  },
  {
   "cell_type": "code",
   "execution_count": 7,
   "metadata": {},
   "outputs": [],
   "source": [
    "import pygame\n",
    "\n",
    "pygame.init()\n",
    "screen = pygame.display.set_mode((400,400))\n",
    "running = True\n",
    "\n",
    "x_pos = 0  \n",
    "v = 20   # пикселей в секунду\n",
    "clock = pygame.time.Clock(); # метод возвращает количество миллисекунд, прошедших с момента последнего вызова\n",
    "while running:\n",
    "    for event in pygame.event.get():\n",
    "        if event.type == pygame.QUIT:\n",
    "            running = False\n",
    "    screen.fill((0, 0, 0))\n",
    "    pygame.draw.circle(screen, (255, 0, 0), (int(x_pos), 200), 20)\n",
    "    x_pos += v * clock.tick() / 1000 # v * t в секундах\n",
    "    pygame.display.flip()\n",
    "\n",
    "\n",
    "pygame.quit()"
   ]
  },
  {
   "cell_type": "code",
   "execution_count": 11,
   "metadata": {},
   "outputs": [],
   "source": [
    "import pygame\n",
    "\n",
    "pygame.init()\n",
    "screen = pygame.display.set_mode((400,400))\n",
    "running = True\n",
    "\n",
    "x = 0\n",
    "v = 20  # пикселей в секунду\n",
    "fps = 60\n",
    "clock = pygame.time.Clock()\n",
    "while running:\n",
    "    for event in pygame.event.get():\n",
    "        if event.type == pygame.QUIT:\n",
    "            running = False\n",
    "    screen.fill((0, 0, 0))\n",
    "    pygame.draw.circle(screen, (255, 0, 0), (int(x), 200), 20)\n",
    "    x += v / fps \n",
    "    clock.tick(fps)\n",
    "    pygame.display.flip()\n",
    "\n",
    "pygame.quit()"
   ]
  },
  {
   "cell_type": "markdown",
   "metadata": {},
   "source": [
    "### TV"
   ]
  },
  {
   "cell_type": "code",
   "execution_count": 4,
   "metadata": {},
   "outputs": [],
   "source": [
    "def white_noise():\n",
    "    global width, height, rs\n",
    "    \n",
    "    for i in range(width):\n",
    "        for j in range(height):\n",
    "            screen.fill((random.randint(1,255),random.randint(1,255),random.randint(1,255)),\n",
    "                (i,j, 1, 1))\n",
    "    rs+=1"
   ]
  },
  {
   "cell_type": "code",
   "execution_count": null,
   "metadata": {},
   "outputs": [],
   "source": [
    "import pygame\n",
    "import random\n",
    "\n",
    "pygame.init()\n",
    "size = width, height = 200, 200\n",
    "screen = pygame.display.set_mode(size)\n",
    "\n",
    "rs=38\n",
    "\n",
    "done = False\n",
    "while not done:\n",
    "    \n",
    "    random.seed(rs)\n",
    "    \n",
    "    for i in range (100):\n",
    "        white_noise()\n",
    "        pygame.display.flip()\n",
    "    \n",
    "    while pygame.event.wait().type != pygame.QUIT:\n",
    "        done = True\n",
    "\n",
    "pygame.quit()"
   ]
  },
  {
   "cell_type": "code",
   "execution_count": 2,
   "metadata": {},
   "outputs": [
    {
     "name": "stdout",
     "output_type": "stream",
     "text": [
      "Мое событие сработало\n",
      "Мое событие сработало\n",
      "Мое событие сработало\n",
      "Мое событие сработало\n",
      "Мое событие сработало\n",
      "Мое событие сработало\n",
      "Мое событие сработало\n"
     ]
    }
   ],
   "source": [
    "import pygame\n",
    "import random\n",
    "\n",
    "pygame.init()\n",
    "size = width, height = 200, 200\n",
    "screen = pygame.display.set_mode(size)\n",
    "running = True\n",
    "rs = 1\n",
    "MYEVENTTYPE = 30\n",
    "pygame.time.set_timer(MYEVENTTYPE, 1000) # проверка с периодичностью 1000 миллисекунд\n",
    "while running:\n",
    "    for event in pygame.event.get():\n",
    "        if event.type == pygame.QUIT:\n",
    "            running = False\n",
    "        if event.type == MYEVENTTYPE:\n",
    "            print(\"Мое событие сработало\")\n",
    "        \n",
    "    screen.fill((0, 0, 0))\n",
    "    for i in range(width):\n",
    "        for j in range(height):\n",
    "            screen.fill((random.randint(1,255),random.randint(1,255),random.randint(1,255)),\n",
    "                (i,j, 1, 1))\n",
    "    rs+=1\n",
    "    pygame.display.flip()\n",
    "\n",
    "\n",
    "pygame.quit()"
   ]
  },
  {
   "cell_type": "markdown",
   "metadata": {},
   "source": [
    "### Events"
   ]
  },
  {
   "cell_type": "code",
   "execution_count": 11,
   "metadata": {},
   "outputs": [],
   "source": [
    "import pygame\n",
    "\n",
    "pygame.init()\n",
    "size = width, height = 200, 200\n",
    "screen = pygame.display.set_mode(size)\n",
    "\n",
    "fps = 50 # количество кадров в секунду\n",
    "clock =  pygame.time.Clock()\n",
    "running = True\n",
    "x_pos = 0\n",
    "\n",
    "while running: # главный игровой цикл\n",
    "    for event in pygame.event.get():\n",
    "        if event.type == pygame.QUIT:\n",
    "            running = False\n",
    "    # обработка остальных событий\n",
    "    screen.fill((0, 0, 0))\n",
    "    pygame.draw.circle(screen, (255, 0, 0), (int(x_pos),100), 20)\n",
    "    x_pos += 1 \n",
    "    \n",
    "    # формирование кадра\n",
    "    \n",
    "    pygame.display.flip() # смена кадра\n",
    "    # изменение игрового мира\n",
    "    \n",
    "    # временная задержка\n",
    "    clock.tick(fps)\n",
    "    \n",
    "pygame.quit()"
   ]
  },
  {
   "cell_type": "code",
   "execution_count": 1,
   "metadata": {},
   "outputs": [
    {
     "name": "stdout",
     "output_type": "stream",
     "text": [
      "pygame 1.9.4\n",
      "Hello from the pygame community. https://www.pygame.org/contribute.html\n"
     ]
    }
   ],
   "source": [
    "import pygame\n",
    "\n",
    "pygame.init()\n",
    "size = width, height = 200, 200\n",
    "screen = pygame.display.set_mode(size)\n",
    "\n",
    "fps = 50 # количество кадров в секунду\n",
    "clock =  pygame.time.Clock()\n",
    "running = True\n",
    "\n",
    "while running: # главный игровой цикл\n",
    "    screen.fill((0, 0, 0))\n",
    "    for event in pygame.event.get():\n",
    "        if event.type == pygame.QUIT:\n",
    "            running = False\n",
    "        if event.type == pygame.MOUSEBUTTONDOWN:\n",
    "            pygame.draw.circle(screen, (0, 0, 255), event.pos, 20)\n",
    "        if event.type == pygame.MOUSEMOTION:\n",
    "            pygame.draw.circle(screen, (200, 0, 255), event.pos, 20)\n",
    "\n",
    "    pygame.display.flip()\n",
    "    \n",
    "    clock.tick(fps)\n",
    "    \n",
    "pygame.quit()\n"
   ]
  },
  {
   "cell_type": "code",
   "execution_count": 2,
   "metadata": {},
   "outputs": [],
   "source": [
    "import pygame\n",
    "\n",
    "pygame.init()\n",
    "size = width, height = 200, 200\n",
    "screen = pygame.display.set_mode(size)\n",
    "\n",
    "running = True\n",
    "screen.fill((0, 0, 0))\n",
    "while running:\n",
    "    for event in pygame.event.get():\n",
    "        if event.type == pygame.QUIT:\n",
    "            running = False\n",
    "        if event.type == pygame.MOUSEMOTION:\n",
    "            pygame.draw.circle(screen, (0, 0, 255), event.pos, 20)\n",
    "        if event.type == pygame.MOUSEBUTTONDOWN:\n",
    "            if event.button == 4: # scroll up\n",
    "                screen.fill((100, 170, 0))\n",
    "\n",
    "            elif event.button == 5: # scroll down\n",
    "                screen.fill((0, 140, 200))\n",
    "\n",
    "                    \n",
    "    pygame.display.flip()\n",
    "    \n",
    "pygame.quit()"
   ]
  },
  {
   "cell_type": "markdown",
   "metadata": {},
   "source": [
    "### [examples](https://www.pygame.org/docs/ref/examples.html)"
   ]
  },
  {
   "cell_type": "code",
   "execution_count": null,
   "metadata": {},
   "outputs": [],
   "source": [
    "import pygame.examples.eventlist\n",
    "pygame.examples.eventlist.main()"
   ]
  },
  {
   "cell_type": "code",
   "execution_count": 12,
   "metadata": {},
   "outputs": [
    {
     "data": {
      "text/plain": [
       "'/home/xenakas/anaconda3/lib/python3.6/site-packages/pygame/examples/__init__.py'"
      ]
     },
     "execution_count": 12,
     "metadata": {},
     "output_type": "execute_result"
    }
   ],
   "source": [
    "import pygame.examples\n",
    "pygame.examples.__file__\n"
   ]
  },
  {
   "cell_type": "code",
   "execution_count": 2,
   "metadata": {},
   "outputs": [
    {
     "ename": "SystemExit",
     "evalue": "",
     "output_type": "error",
     "traceback": [
      "An exception has occurred, use %tb to see the full traceback.\n",
      "\u001b[0;31mSystemExit\u001b[0m\n"
     ]
    },
    {
     "name": "stderr",
     "output_type": "stream",
     "text": [
      "/home/xenakas/anaconda3/lib/python3.6/site-packages/IPython/core/interactiveshell.py:2971: UserWarning: To exit: use 'exit', 'quit', or Ctrl-D.\n",
      "  warn(\"To exit: use 'exit', 'quit', or Ctrl-D.\", stacklevel=1)\n"
     ]
    }
   ],
   "source": [
    "import pygame, sys\n",
    "pygame.init()\n",
    "window=pygame.display.set_mode((300, 300))\n",
    "\n",
    "size = width, height = 400, 400\n",
    "screen = pygame.display.set_mode(size)\n",
    "\n",
    "\n",
    "k=1\n",
    "\n",
    "while True:\n",
    "    for event in pygame.event.get():\n",
    "        if event.type==pygame.QUIT:\n",
    "            pygame.quit()\n",
    "            sys.exit()\n",
    "            \n",
    "    if pygame.mouse.get_focused():\n",
    "        window.fill((255, 255, 255))\n",
    "        font = pygame.font.Font(None, 50)\n",
    "        text = font.render(\"{}\".format(k), 1, (102, 105, 160))\n",
    "        text_x = width // 2 - text.get_width() // 2\n",
    "        text_y = height // 2 - text.get_height() // 2\n",
    "        text_w = text.get_width()\n",
    "        text_h = text.get_height()\n",
    "        screen.blit(text, (text_x, text_y))\n",
    "        \n",
    "        \n",
    "    \n",
    "    else:\n",
    "        window.fill((0, 0, 0))\n",
    "        k += 1\n",
    "    pygame.display.flip()"
   ]
  },
  {
   "cell_type": "code",
   "execution_count": null,
   "metadata": {},
   "outputs": [],
   "source": [
    "import pygame, sys\n",
    "pygame.init()\n",
    "window=pygame.display.set_mode((300, 300))\n",
    "\n",
    "size = width, height = 400, 400\n",
    "screen = pygame.display.set_mode(size)\n",
    "\n",
    "\n",
    "k=1\n",
    "\n",
    "while True:\n",
    "    for event in pygame.event.get():\n",
    "        if event.type==pygame.QUIT:\n",
    "            pygame.quit()\n",
    "            sys.exit()\n",
    "            \n",
    "    \n",
    "    if pygame.display.get_active():\n",
    "        window.fill((255, 255, 255))\n",
    "        font = pygame.font.Font(None, 50)\n",
    "        text = font.render(\"{}\".format(k), 1, (102, 105, 160))\n",
    "        text_x = width // 2 - text.get_width() // 2\n",
    "        text_y = height // 2 - text.get_height() // 2\n",
    "        text_w = text.get_width()\n",
    "        text_h = text.get_height()\n",
    "        screen.blit(text, (text_x, text_y))\n",
    "        \n",
    "    else:\n",
    "        print(\"minimized\")\n",
    "        k+=1\n",
    "        \n",
    "        \n",
    "    \n",
    "    pygame.display.flip()"
   ]
  },
  {
   "cell_type": "code",
   "execution_count": 1,
   "metadata": {},
   "outputs": [
    {
     "name": "stdout",
     "output_type": "stream",
     "text": [
      "pygame 1.9.4\n",
      "Hello from the pygame community. https://www.pygame.org/contribute.html\n",
      "window minimized\n",
      "window minimized\n",
      "window minimized\n",
      "window minimized\n"
     ]
    },
    {
     "ename": "SystemExit",
     "evalue": "",
     "output_type": "error",
     "traceback": [
      "An exception has occurred, use %tb to see the full traceback.\n",
      "\u001b[0;31mSystemExit\u001b[0m\n"
     ]
    },
    {
     "name": "stderr",
     "output_type": "stream",
     "text": [
      "/home/xenakas/anaconda3/lib/python3.6/site-packages/IPython/core/interactiveshell.py:2971: UserWarning: To exit: use 'exit', 'quit', or Ctrl-D.\n",
      "  warn(\"To exit: use 'exit', 'quit', or Ctrl-D.\", stacklevel=1)\n"
     ]
    }
   ],
   "source": [
    "import pygame, sys\n",
    "pygame.init()\n",
    "window=pygame.display.set_mode((300, 300))\n",
    "\n",
    "size = width, height = 400, 400\n",
    "screen = pygame.display.set_mode(size)\n",
    "\n",
    "\n",
    "k=1\n",
    "\n",
    "while True:\n",
    "    for event in pygame.event.get():\n",
    "        if event.type==pygame.QUIT:\n",
    "            pygame.quit()\n",
    "            sys.exit()\n",
    "            \n",
    "    \n",
    "        elif event.type == pygame.ACTIVEEVENT:\n",
    "            \n",
    "            if  (event.state == 1) or ((event.state == 2) & (event.gain == 1) ):\n",
    "                window.fill((255, 255, 255))\n",
    "                font = pygame.font.Font(None, 50)\n",
    "                text = font.render(\"{}\".format(k), 1, (102, 105, 160))\n",
    "                text_x = width // 2 - text.get_width() // 2\n",
    "                text_y = height // 2 - text.get_height() // 2\n",
    "                text_w = text.get_width()\n",
    "                text_h = text.get_height()\n",
    "                screen.blit(text, (text_x, text_y))\n",
    "\n",
    "            elif event.state == 2:\n",
    "                if event.gain == 0:\n",
    "                    print (\"window minimized\") \n",
    "                    k+=1\n",
    "\n",
    "        \n",
    "    \n",
    "    pygame.display.flip()"
   ]
  },
  {
   "cell_type": "markdown",
   "metadata": {},
   "source": [
    "https://stackoverflow.com/questions/24966803/is-there-a-way-in-pygame-to-make-a-programme-pause-when-its-minimized"
   ]
  },
  {
   "cell_type": "code",
   "execution_count": 4,
   "metadata": {},
   "outputs": [
    {
     "name": "stdout",
     "output_type": "stream",
     "text": [
      "state: 1 | gain: 0\n",
      "| mouse out\n",
      "state: 1 | gain: 1\n",
      "| mouse in\n",
      "state: 1 | gain: 0\n",
      "| mouse out\n",
      "state: 1 | gain: 1\n",
      "| mouse in\n",
      "state: 1 | gain: 0\n",
      "| mouse out\n",
      "state: 1 | gain: 1\n",
      "| mouse in\n",
      "state: 1 | gain: 0\n",
      "| mouse out\n",
      "state: 1 | gain: 1\n",
      "| mouse in\n",
      "state: 1 | gain: 0\n",
      "| mouse out\n",
      "state: 1 | gain: 1\n",
      "| mouse in\n",
      "state: 1 | gain: 0\n",
      "| mouse out\n",
      "state: 1 | gain: 1\n",
      "| mouse in\n",
      "state: 1 | gain: 0\n",
      "| mouse out\n",
      "state: 1 | gain: 1\n",
      "| mouse in\n",
      "state: 1 | gain: 0\n",
      "| mouse out\n",
      "state: 1 | gain: 1\n",
      "| mouse in\n",
      "state: 1 | gain: 0\n",
      "| mouse out\n",
      "state: 1 | gain: 1\n",
      "| mouse in\n",
      "state: 1 | gain: 0\n",
      "| mouse out\n",
      "state: 2 | gain: 0\n",
      "| titlebar pressed\n",
      "state: 2 | gain: 1\n",
      "| titlebar unpressed\n",
      "state: 1 | gain: 1\n",
      "| mouse in\n",
      "state: 1 | gain: 0\n",
      "| mouse out\n"
     ]
    }
   ],
   "source": [
    "import pygame\n",
    "import pygame.locals\n",
    "\n",
    "pygame.init()\n",
    "\n",
    "screen = pygame.display.set_mode((800,600))\n",
    "\n",
    "count = 0\n",
    "\n",
    "running = True\n",
    "while running:\n",
    "\n",
    "    for event in pygame.event.get():\n",
    "        if event.type == pygame.QUIT:\n",
    "            running = False\n",
    "        elif event.type == pygame.KEYDOWN:\n",
    "            if event.key == pygame.K_ESCAPE:\n",
    "                running = False\n",
    "            elif event.key == pygame.K_SPACE:\n",
    "                pygame.display.iconify()\n",
    "        elif event.type == pygame.ACTIVEEVENT:\n",
    "            print('state:', event.state, '| gain:', event.gain) \n",
    "            if event.state == 1:\n",
    "                if event.gain == 0:\n",
    "                    print(\"| mouse out\")\n",
    "                elif event.gain == 1:\n",
    "                    print(\"| mouse in\")\n",
    "            elif event.state == 2:\n",
    "                if event.gain == 0:\n",
    "                    print(\"| titlebar pressed\")\n",
    "                elif event.gain == 1:\n",
    "                    print(\"| titlebar unpressed\")\n",
    "            elif event.state == 6:\n",
    "                if event.gain == 0:\n",
    "                    print(\"| window minimized\")\n",
    "            elif event.state == 4:\n",
    "                if event.gain == 1:\n",
    "                    print(\"| window normal\")\n",
    "            print\n",
    "\n",
    "pygame.quit()"
   ]
  },
  {
   "cell_type": "code",
   "execution_count": 4,
   "metadata": {},
   "outputs": [],
   "source": [
    "import pygame\n",
    "\n",
    "pygame.init()\n",
    "screen = pygame.display.set_mode((800,600))\n",
    "running = True\n",
    "screen.fill((0, 0, 0))\n",
    "\n",
    "while running:\n",
    "    for event in pygame.event.get():\n",
    "        if event.type == pygame.QUIT:\n",
    "            running = False\n",
    "        if event.type == pygame.MOUSEMOTION:\n",
    "            pygame.draw.circle(screen, (0, 0, 255), event.pos, 20)\n",
    " \n",
    "    pygame.display.flip()\n",
    "    \n",
    "\n",
    "pygame.quit()"
   ]
  },
  {
   "cell_type": "code",
   "execution_count": 6,
   "metadata": {},
   "outputs": [],
   "source": [
    "import pygame\n",
    "\n",
    "pygame.init()\n",
    "screen = pygame.display.set_mode((800,600))\n",
    "running = True\n",
    "screen.fill((0, 0, 0))\n",
    "screen2 = pygame.Surface(screen.get_size())\n",
    "x1, y1 = 0, 0\n",
    "\n",
    "drawing = False # режим рисования выключен\n",
    "\n",
    "while running:\n",
    "    for event in pygame.event.get():\n",
    "        \n",
    "        if event.type == pygame.QUIT:\n",
    "            running = False\n",
    "            \n",
    "        if event.type == pygame.MOUSEBUTTONDOWN:\n",
    "            w, h = 0,0\n",
    "            \n",
    "            drawing = True # включаем режим рисования\n",
    "            # запоминаем координаты одного угла\n",
    "            x1, y1 = event.pos\n",
    "            \n",
    "            \n",
    "        \n",
    "        if event.type == pygame.MOUSEBUTTONUP:\n",
    "            # сохраняем нарисованное (на втором холсте)\n",
    "            screen2.blit (screen, (0,0))\n",
    "            drawing = False\n",
    "            \n",
    "        if event.type == pygame.MOUSEMOTION:\n",
    "            # запоминаем текущие размеры\n",
    "            w, h = event.pos[0] - x1, event.pos[1] - y1\n",
    "        \n",
    "    \n",
    "    # рисуем на экране сохранённое на втором холсте\n",
    "    screen.fill(pygame.Color('black'))\n",
    "    screen.blit(screen2, (0,0))\n",
    "    if drawing: # и, если надо, текущий прямоугольник\n",
    "        pygame.draw.rect(screen, (0, 0, 255), ((x1, y1), (w, h)), 5)\n",
    "        \n",
    "    pygame.display.flip()\n",
    "    \n",
    "\n",
    "pygame.quit()"
   ]
  }
 ],
 "metadata": {
  "kernelspec": {
   "display_name": "Python 3",
   "language": "python",
   "name": "python3"
  },
  "language_info": {
   "codemirror_mode": {
    "name": "ipython",
    "version": 3
   },
   "file_extension": ".py",
   "mimetype": "text/x-python",
   "name": "python",
   "nbconvert_exporter": "python",
   "pygments_lexer": "ipython3",
   "version": "3.6.5"
  }
 },
 "nbformat": 4,
 "nbformat_minor": 2
}
