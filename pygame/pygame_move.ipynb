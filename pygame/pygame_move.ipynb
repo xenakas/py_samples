{
 "cells": [
  {
   "cell_type": "code",
   "execution_count": 1,
   "metadata": {},
   "outputs": [
    {
     "name": "stdout",
     "output_type": "stream",
     "text": [
      "pygame 1.9.4\n",
      "Hello from the pygame community. https://www.pygame.org/contribute.html\n",
      "[53 62]\n",
      "[83 51]\n",
      "[30 55]\n",
      "[69 44]\n",
      "[30 87]\n"
     ]
    }
   ],
   "source": [
    "import pygame\n",
    "import numpy as np\n",
    "pygame.init()\n",
    "size = width, height = 300, 300\n",
    "screen = pygame.display.set_mode(size) \n",
    "green = pygame.Color('green')\n",
    "black = pygame.Color('black')\n",
    "done = True\n",
    "fps = 100\n",
    "clock = pygame.time.Clock()\n",
    "screen.fill(black)\n",
    "k = 0\n",
    "angle = np.array([0,0])\n",
    "delta = np.array([0,0])\n",
    "pos_move = np.array([0,0])\n",
    "drawing = False\n",
    "while done:\n",
    "    for event in pygame.event.get():\n",
    "        if event.type == pygame.QUIT:\n",
    "            done = False\n",
    "        if event.type == pygame.MOUSEBUTTONDOWN:\n",
    "            pos_start = np.array(event.pos)\n",
    "            delta = pos_start - angle \n",
    "            print(delta)\n",
    "            drawing = True            \n",
    "        if event.type == pygame.MOUSEMOTION:\n",
    "            pos_move = np.array(event.pos)\n",
    "        if event.type == pygame.MOUSEBUTTONUP:\n",
    "            drawing = False\n",
    "    \n",
    "    pygame.draw.rect(screen, green, [angle[0], angle[1], 100, 100])\n",
    "    pygame.display.flip()\n",
    "    \n",
    "    if drawing == True: \n",
    "        screen.fill(black)\n",
    "        pygame.draw.rect(screen, green, [pos_move[0]-delta[0], pos_move[1]-delta[1], 100, 100])\n",
    "        angle = pos_move - delta\n",
    "        pygame.display.flip()\n",
    "        clock.tick(fps)\n",
    "    else: \n",
    "        screen.fill(black)\n",
    "        pygame.draw.rect(screen, green, [angle[0], angle[1], 100, 100])\n",
    "        pygame.display.flip()\n",
    "        clock.tick(fps)\n",
    "\n",
    "pygame.quit()"
   ]
  },
  {
   "cell_type": "code",
   "execution_count": 2,
   "metadata": {},
   "outputs": [],
   "source": [
    "import numpy as np\n",
    "angle = np.array([0,0])"
   ]
  },
  {
   "cell_type": "code",
   "execution_count": null,
   "metadata": {},
   "outputs": [],
   "source": []
  }
 ],
 "metadata": {
  "kernelspec": {
   "display_name": "Python 3",
   "language": "python",
   "name": "python3"
  },
  "language_info": {
   "codemirror_mode": {
    "name": "ipython",
    "version": 3
   },
   "file_extension": ".py",
   "mimetype": "text/x-python",
   "name": "python",
   "nbconvert_exporter": "python",
   "pygments_lexer": "ipython3",
   "version": "3.6.5"
  }
 },
 "nbformat": 4,
 "nbformat_minor": 2
}
