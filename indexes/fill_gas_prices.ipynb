{
 "cells": [
  {
   "cell_type": "code",
   "execution_count": 4,
   "metadata": {
    "ExecuteTime": {
     "end_time": "2019-08-28T21:01:34.453373Z",
     "start_time": "2019-08-28T21:01:33.875Z"
    }
   },
   "outputs": [
    {
     "name": "stderr",
     "output_type": "stream",
     "text": [
      "\n",
      "Attaching package: ‘dplyr’\n",
      "\n",
      "The following objects are masked from ‘package:stats’:\n",
      "\n",
      "    filter, lag\n",
      "\n",
      "The following objects are masked from ‘package:base’:\n",
      "\n",
      "    intersect, setdiff, setequal, union\n",
      "\n",
      "\n",
      "Attaching package: ‘data.table’\n",
      "\n",
      "The following objects are masked from ‘package:dplyr’:\n",
      "\n",
      "    between, first, last\n",
      "\n"
     ]
    }
   ],
   "source": [
    "library(ggplot2)\n",
    "library(dplyr)\n",
    "library(imputeTS)\n",
    "library(data.table)\n",
    "library(forecast)"
   ]
  },
  {
   "cell_type": "code",
   "execution_count": 1,
   "metadata": {
    "ExecuteTime": {
     "end_time": "2019-08-28T21:01:15.645950Z",
     "start_time": "2019-08-28T21:01:15.635Z"
    }
   },
   "outputs": [],
   "source": [
    "df_us = read.csv(file=\"prices_opt_gaz.csv\", header=TRUE, sep=\",\")"
   ]
  },
  {
   "cell_type": "code",
   "execution_count": 5,
   "metadata": {
    "ExecuteTime": {
     "end_time": "2019-08-28T21:01:37.115485Z",
     "start_time": "2019-08-28T21:01:37.103Z"
    }
   },
   "outputs": [],
   "source": [
    "df_us = as.data.table(df_us)"
   ]
  },
  {
   "cell_type": "code",
   "execution_count": 18,
   "metadata": {
    "ExecuteTime": {
     "end_time": "2019-08-28T21:09:50.812723Z",
     "start_time": "2019-08-28T21:09:50.796Z"
    }
   },
   "outputs": [],
   "source": [
    "rownames(df_us) = year(as.Date(as.character(df_us$X), format = \"%Y\", origin = \"2012-01-01\"))\n",
    "#rownames(data)\n",
    "df_us$X <- NULL\n",
    "#colnames(data)"
   ]
  },
  {
   "cell_type": "code",
   "execution_count": 19,
   "metadata": {
    "ExecuteTime": {
     "end_time": "2019-08-28T21:09:55.172200Z",
     "start_time": "2019-08-28T21:09:55.153Z"
    }
   },
   "outputs": [
    {
     "data": {
      "text/html": [
       "<table>\n",
       "<thead><tr><th></th><th scope=col>Республика.Башкортостан</th><th scope=col>Республика.Калмыкия</th><th scope=col>Республика.Карелия</th><th scope=col>Республика.Коми</th><th scope=col>Республика.Марий.Эл</th><th scope=col>Республика.Мордовия</th><th scope=col>Республика.Татарстан</th><th scope=col>Удмуртская.Республика</th><th scope=col>Чувашская.Республика</th><th scope=col>Алтайский.край</th><th scope=col>⋯</th><th scope=col>Республика.Адыгея</th><th scope=col>Республика.Дагестан</th><th scope=col>Республика.Ингушетия</th><th scope=col>Кабардино.Балкарская.Республика</th><th scope=col>Карачаево.Черкесская.Республика</th><th scope=col>Республика.Северная.Осетия.Алания</th><th scope=col>Чеченская.Республика</th><th scope=col>Краснодарский.край</th><th scope=col>Ставропольский.край</th><th scope=col>Ростовская.область</th></tr></thead>\n",
       "<tbody>\n",
       "\t<tr><th scope=row>2012</th><td>3073</td><td>3152</td><td>3437</td><td>2786</td><td>3175</td><td>3246</td><td>3122</td><td>2986</td><td>3175</td><td>3279</td><td>⋯   </td><td>3609</td><td>3609</td><td>3609</td><td>3609</td><td>3609</td><td>3609</td><td>3609</td><td>3609</td><td>3609</td><td>3604</td></tr>\n",
       "\t<tr><th scope=row>2013</th><td>3428</td><td>3514</td><td>3840</td><td>3098</td><td>3541</td><td>3624</td><td>3478</td><td>3329</td><td>3541</td><td>3644</td><td>⋯   </td><td>4025</td><td>4025</td><td>4025</td><td>4025</td><td>4025</td><td>4025</td><td>4025</td><td>4025</td><td>4025</td><td>4022</td></tr>\n",
       "\t<tr><th scope=row>2014</th><td>3534</td><td>3623</td><td>3959</td><td>3194</td><td>3651</td><td>3736</td><td>3586</td><td>3432</td><td>3651</td><td>3757</td><td>⋯   </td><td>4149</td><td>4149</td><td>4149</td><td>4149</td><td>4149</td><td>4149</td><td>4149</td><td>4149</td><td>4149</td><td>4146</td></tr>\n",
       "\t<tr><th scope=row>2015</th><td>3799</td><td>3895</td><td>4256</td><td>3433</td><td>3925</td><td>4016</td><td>3855</td><td>3689</td><td>3925</td><td>4039</td><td>⋯   </td><td>4460</td><td>4460</td><td>4460</td><td>4460</td><td>4460</td><td>4460</td><td>4460</td><td>4460</td><td>4460</td><td>4457</td></tr>\n",
       "\t<tr><th scope=row>2016</th><td>  NA</td><td>  NA</td><td>  NA</td><td>  NA</td><td>  NA</td><td>  NA</td><td>  NA</td><td>  NA</td><td>  NA</td><td>  NA</td><td>⋯   </td><td>  NA</td><td>  NA</td><td>  NA</td><td>  NA</td><td>  NA</td><td>  NA</td><td>  NA</td><td>  NA</td><td>  NA</td><td>  NA</td></tr>\n",
       "\t<tr><th scope=row>2017</th><td>3947</td><td>4047</td><td>4422</td><td>3567</td><td>4078</td><td>4173</td><td>4005</td><td>3833</td><td>4078</td><td>4196</td><td>⋯   </td><td>4634</td><td>4634</td><td>4634</td><td>4634</td><td>4634</td><td>4634</td><td>4634</td><td>4634</td><td>4634</td><td>4631</td></tr>\n",
       "\t<tr><th scope=row>2018</th><td>4081</td><td>4185</td><td>4572</td><td>3688</td><td>4217</td><td>4315</td><td>4141</td><td>3963</td><td>4217</td><td>4339</td><td>⋯   </td><td>4792</td><td>4792</td><td>4792</td><td>4792</td><td>4792</td><td>4792</td><td>4792</td><td>4792</td><td>4792</td><td>4788</td></tr>\n",
       "\t<tr><th scope=row>2019</th><td>4138</td><td>4244</td><td>4636</td><td>3740</td><td>4276</td><td>4375</td><td>4199</td><td>4018</td><td>4276</td><td>4400</td><td>⋯   </td><td>4859</td><td>4859</td><td>4859</td><td>4859</td><td>4859</td><td>4859</td><td>4859</td><td>4859</td><td>4859</td><td>4855</td></tr>\n",
       "</tbody>\n",
       "</table>\n"
      ],
      "text/latex": [
       "\\begin{tabular}{r|lllllllllllllllllllllllllllllllllllllllllllllllllllllllllllllllll}\n",
       "  & Республика.Башкортостан & Республика.Калмыкия & Республика.Карелия & Республика.Коми & Республика.Марий.Эл & Республика.Мордовия & Республика.Татарстан & Удмуртская.Республика & Чувашская.Республика & Алтайский.край & ⋯ & Республика.Адыгея & Республика.Дагестан & Республика.Ингушетия & Кабардино.Балкарская.Республика & Карачаево.Черкесская.Республика & Республика.Северная.Осетия.Алания & Чеченская.Республика & Краснодарский.край & Ставропольский.край & Ростовская.область\\\\\n",
       "\\hline\n",
       "\t2012 & 3073 & 3152 & 3437 & 2786 & 3175 & 3246 & 3122 & 2986 & 3175 & 3279 & ⋯    & 3609 & 3609 & 3609 & 3609 & 3609 & 3609 & 3609 & 3609 & 3609 & 3604\\\\\n",
       "\t2013 & 3428 & 3514 & 3840 & 3098 & 3541 & 3624 & 3478 & 3329 & 3541 & 3644 & ⋯    & 4025 & 4025 & 4025 & 4025 & 4025 & 4025 & 4025 & 4025 & 4025 & 4022\\\\\n",
       "\t2014 & 3534 & 3623 & 3959 & 3194 & 3651 & 3736 & 3586 & 3432 & 3651 & 3757 & ⋯    & 4149 & 4149 & 4149 & 4149 & 4149 & 4149 & 4149 & 4149 & 4149 & 4146\\\\\n",
       "\t2015 & 3799 & 3895 & 4256 & 3433 & 3925 & 4016 & 3855 & 3689 & 3925 & 4039 & ⋯    & 4460 & 4460 & 4460 & 4460 & 4460 & 4460 & 4460 & 4460 & 4460 & 4457\\\\\n",
       "\t2016 &   NA &   NA &   NA &   NA &   NA &   NA &   NA &   NA &   NA &   NA & ⋯    &   NA &   NA &   NA &   NA &   NA &   NA &   NA &   NA &   NA &   NA\\\\\n",
       "\t2017 & 3947 & 4047 & 4422 & 3567 & 4078 & 4173 & 4005 & 3833 & 4078 & 4196 & ⋯    & 4634 & 4634 & 4634 & 4634 & 4634 & 4634 & 4634 & 4634 & 4634 & 4631\\\\\n",
       "\t2018 & 4081 & 4185 & 4572 & 3688 & 4217 & 4315 & 4141 & 3963 & 4217 & 4339 & ⋯    & 4792 & 4792 & 4792 & 4792 & 4792 & 4792 & 4792 & 4792 & 4792 & 4788\\\\\n",
       "\t2019 & 4138 & 4244 & 4636 & 3740 & 4276 & 4375 & 4199 & 4018 & 4276 & 4400 & ⋯    & 4859 & 4859 & 4859 & 4859 & 4859 & 4859 & 4859 & 4859 & 4859 & 4855\\\\\n",
       "\\end{tabular}\n"
      ],
      "text/markdown": [
       "\n",
       "| <!--/--> | Республика.Башкортостан | Республика.Калмыкия | Республика.Карелия | Республика.Коми | Республика.Марий.Эл | Республика.Мордовия | Республика.Татарстан | Удмуртская.Республика | Чувашская.Республика | Алтайский.край | ⋯ | Республика.Адыгея | Республика.Дагестан | Республика.Ингушетия | Кабардино.Балкарская.Республика | Карачаево.Черкесская.Республика | Республика.Северная.Осетия.Алания | Чеченская.Республика | Краснодарский.край | Ставропольский.край | Ростовская.область | \n",
       "|---|---|---|---|---|---|---|---|\n",
       "| 2012 | 3073 | 3152 | 3437 | 2786 | 3175 | 3246 | 3122 | 2986 | 3175 | 3279 | ⋯    | 3609 | 3609 | 3609 | 3609 | 3609 | 3609 | 3609 | 3609 | 3609 | 3604 | \n",
       "| 2013 | 3428 | 3514 | 3840 | 3098 | 3541 | 3624 | 3478 | 3329 | 3541 | 3644 | ⋯    | 4025 | 4025 | 4025 | 4025 | 4025 | 4025 | 4025 | 4025 | 4025 | 4022 | \n",
       "| 2014 | 3534 | 3623 | 3959 | 3194 | 3651 | 3736 | 3586 | 3432 | 3651 | 3757 | ⋯    | 4149 | 4149 | 4149 | 4149 | 4149 | 4149 | 4149 | 4149 | 4149 | 4146 | \n",
       "| 2015 | 3799 | 3895 | 4256 | 3433 | 3925 | 4016 | 3855 | 3689 | 3925 | 4039 | ⋯    | 4460 | 4460 | 4460 | 4460 | 4460 | 4460 | 4460 | 4460 | 4460 | 4457 | \n",
       "| 2016 |   NA |   NA |   NA |   NA |   NA |   NA |   NA |   NA |   NA |   NA | ⋯    |   NA |   NA |   NA |   NA |   NA |   NA |   NA |   NA |   NA |   NA | \n",
       "| 2017 | 3947 | 4047 | 4422 | 3567 | 4078 | 4173 | 4005 | 3833 | 4078 | 4196 | ⋯    | 4634 | 4634 | 4634 | 4634 | 4634 | 4634 | 4634 | 4634 | 4634 | 4631 | \n",
       "| 2018 | 4081 | 4185 | 4572 | 3688 | 4217 | 4315 | 4141 | 3963 | 4217 | 4339 | ⋯    | 4792 | 4792 | 4792 | 4792 | 4792 | 4792 | 4792 | 4792 | 4792 | 4788 | \n",
       "| 2019 | 4138 | 4244 | 4636 | 3740 | 4276 | 4375 | 4199 | 4018 | 4276 | 4400 | ⋯    | 4859 | 4859 | 4859 | 4859 | 4859 | 4859 | 4859 | 4859 | 4859 | 4855 | \n",
       "\n",
       "\n"
      ],
      "text/plain": [
       "  Республика.Башкортостан Республика.Калмыкия Республика.Карелия\n",
       "1 3073                    3152                3437              \n",
       "2 3428                    3514                3840              \n",
       "3 3534                    3623                3959              \n",
       "4 3799                    3895                4256              \n",
       "5   NA                      NA                  NA              \n",
       "6 3947                    4047                4422              \n",
       "7 4081                    4185                4572              \n",
       "8 4138                    4244                4636              \n",
       "  Республика.Коми Республика.Марий.Эл Республика.Мордовия Республика.Татарстан\n",
       "1 2786            3175                3246                3122                \n",
       "2 3098            3541                3624                3478                \n",
       "3 3194            3651                3736                3586                \n",
       "4 3433            3925                4016                3855                \n",
       "5   NA              NA                  NA                  NA                \n",
       "6 3567            4078                4173                4005                \n",
       "7 3688            4217                4315                4141                \n",
       "8 3740            4276                4375                4199                \n",
       "  Удмуртская.Республика Чувашская.Республика Алтайский.край ⋯ Республика.Адыгея\n",
       "1 2986                  3175                 3279           ⋯ 3609             \n",
       "2 3329                  3541                 3644           ⋯ 4025             \n",
       "3 3432                  3651                 3757           ⋯ 4149             \n",
       "4 3689                  3925                 4039           ⋯ 4460             \n",
       "5   NA                    NA                   NA           ⋯   NA             \n",
       "6 3833                  4078                 4196           ⋯ 4634             \n",
       "7 3963                  4217                 4339           ⋯ 4792             \n",
       "8 4018                  4276                 4400           ⋯ 4859             \n",
       "  Республика.Дагестан Республика.Ингушетия Кабардино.Балкарская.Республика\n",
       "1 3609                3609                 3609                           \n",
       "2 4025                4025                 4025                           \n",
       "3 4149                4149                 4149                           \n",
       "4 4460                4460                 4460                           \n",
       "5   NA                  NA                   NA                           \n",
       "6 4634                4634                 4634                           \n",
       "7 4792                4792                 4792                           \n",
       "8 4859                4859                 4859                           \n",
       "  Карачаево.Черкесская.Республика Республика.Северная.Осетия.Алания\n",
       "1 3609                            3609                             \n",
       "2 4025                            4025                             \n",
       "3 4149                            4149                             \n",
       "4 4460                            4460                             \n",
       "5   NA                              NA                             \n",
       "6 4634                            4634                             \n",
       "7 4792                            4792                             \n",
       "8 4859                            4859                             \n",
       "  Чеченская.Республика Краснодарский.край Ставропольский.край\n",
       "1 3609                 3609               3609               \n",
       "2 4025                 4025               4025               \n",
       "3 4149                 4149               4149               \n",
       "4 4460                 4460               4460               \n",
       "5   NA                   NA                 NA               \n",
       "6 4634                 4634               4634               \n",
       "7 4792                 4792               4792               \n",
       "8 4859                 4859               4859               \n",
       "  Ростовская.область\n",
       "1 3604              \n",
       "2 4022              \n",
       "3 4146              \n",
       "4 4457              \n",
       "5   NA              \n",
       "6 4631              \n",
       "7 4788              \n",
       "8 4855              "
      ]
     },
     "metadata": {},
     "output_type": "display_data"
    }
   ],
   "source": [
    "df_us"
   ]
  },
  {
   "cell_type": "code",
   "execution_count": 34,
   "metadata": {
    "ExecuteTime": {
     "end_time": "2019-08-28T21:19:21.232870Z",
     "start_time": "2019-08-28T21:19:21.219Z"
    }
   },
   "outputs": [
    {
     "data": {
      "text/html": [
       "<table>\n",
       "<thead><tr><th scope=col>Республика.Коми</th></tr></thead>\n",
       "<tbody>\n",
       "\t<tr><td>2786.000</td></tr>\n",
       "\t<tr><td>3098.000</td></tr>\n",
       "\t<tr><td>3194.000</td></tr>\n",
       "\t<tr><td>3433.000</td></tr>\n",
       "\t<tr><td>3480.333</td></tr>\n",
       "\t<tr><td>3567.000</td></tr>\n",
       "\t<tr><td>3688.000</td></tr>\n",
       "\t<tr><td>3740.000</td></tr>\n",
       "</tbody>\n",
       "</table>\n"
      ],
      "text/latex": [
       "\\begin{tabular}{r|l}\n",
       " Республика.Коми\\\\\n",
       "\\hline\n",
       "\t 2786.000\\\\\n",
       "\t 3098.000\\\\\n",
       "\t 3194.000\\\\\n",
       "\t 3433.000\\\\\n",
       "\t 3480.333\\\\\n",
       "\t 3567.000\\\\\n",
       "\t 3688.000\\\\\n",
       "\t 3740.000\\\\\n",
       "\\end{tabular}\n"
      ],
      "text/markdown": [
       "\n",
       "Республика.Коми | \n",
       "|---|---|---|---|---|---|---|---|\n",
       "| 2786.000 | \n",
       "| 3098.000 | \n",
       "| 3194.000 | \n",
       "| 3433.000 | \n",
       "| 3480.333 | \n",
       "| 3567.000 | \n",
       "| 3688.000 | \n",
       "| 3740.000 | \n",
       "\n",
       "\n"
      ],
      "text/plain": [
       "  Республика.Коми\n",
       "1 2786.000       \n",
       "2 3098.000       \n",
       "3 3194.000       \n",
       "4 3433.000       \n",
       "5 3480.333       \n",
       "6 3567.000       \n",
       "7 3688.000       \n",
       "8 3740.000       "
      ]
     },
     "metadata": {},
     "output_type": "display_data"
    }
   ],
   "source": [
    "na.ma(df_us[,4], weighting = \"exponential\", k = 2)"
   ]
  },
  {
   "cell_type": "code",
   "execution_count": 36,
   "metadata": {
    "ExecuteTime": {
     "end_time": "2019-08-28T21:21:26.763025Z",
     "start_time": "2019-08-28T21:21:26.736Z"
    }
   },
   "outputs": [],
   "source": [
    "df_us = na.ma(df_us, weighting = \"exponential\", k = 2)\n"
   ]
  },
  {
   "cell_type": "code",
   "execution_count": 37,
   "metadata": {
    "ExecuteTime": {
     "end_time": "2019-08-28T21:21:29.473828Z",
     "start_time": "2019-08-28T21:21:29.462Z"
    }
   },
   "outputs": [],
   "source": [
    "write.csv(df_us, 'prices_opt_gaz_filled.csv')"
   ]
  },
  {
   "cell_type": "code",
   "execution_count": 20,
   "metadata": {
    "ExecuteTime": {
     "end_time": "2019-08-28T21:11:15.652057Z",
     "start_time": "2019-08-28T21:11:15.636Z"
    }
   },
   "outputs": [
    {
     "data": {
      "text/html": [
       "<ol class=list-inline>\n",
       "\t<li>3073</li>\n",
       "\t<li>3428</li>\n",
       "\t<li>3534</li>\n",
       "\t<li>3799</li>\n",
       "\t<li>3814.93103448276</li>\n",
       "\t<li>3947</li>\n",
       "\t<li>4081</li>\n",
       "\t<li>4138</li>\n",
       "</ol>\n"
      ],
      "text/latex": [
       "\\begin{enumerate*}\n",
       "\\item 3073\n",
       "\\item 3428\n",
       "\\item 3534\n",
       "\\item 3799\n",
       "\\item 3814.93103448276\n",
       "\\item 3947\n",
       "\\item 4081\n",
       "\\item 4138\n",
       "\\end{enumerate*}\n"
      ],
      "text/markdown": [
       "1. 3073\n",
       "2. 3428\n",
       "3. 3534\n",
       "4. 3799\n",
       "5. 3814.93103448276\n",
       "6. 3947\n",
       "7. 4081\n",
       "8. 4138\n",
       "\n",
       "\n"
      ],
      "text/plain": [
       "[1] 3073.000 3428.000 3534.000 3799.000 3814.931 3947.000 4081.000 4138.000"
      ]
     },
     "metadata": {},
     "output_type": "display_data"
    }
   ],
   "source": [
    "# df_us$Р еспублика.Башкортостан  <-\n",
    "\n",
    "na.ma(df_us$Республика.Башкортостан, weighting = \"exponential\", k = 4)"
   ]
  },
  {
   "cell_type": "code",
   "execution_count": 23,
   "metadata": {
    "ExecuteTime": {
     "end_time": "2019-08-28T21:12:20.700291Z",
     "start_time": "2019-08-28T21:12:20.632Z"
    }
   },
   "outputs": [
    {
     "data": {
      "image/png": "[encoded data removed]",
      "text/plain": [
       "plot without title"
      ]
     },
     "metadata": {},
     "output_type": "display_data"
    },
    {
     "data": {
      "image/png": "[encoded data removed]",
      "text/plain": [
       "plot without title"
      ]
     },
     "metadata": {},
     "output_type": "display_data"
    }
   ],
   "source": [
    "ts.plot(df_us$Республика.Башкортостан)\n",
    "\n",
    "ts.plot(na.ma(df_us$Республика.Башкортостан, weighting = \"exponential\", k = 2))"
   ]
  },
  {
   "cell_type": "code",
   "execution_count": null,
   "metadata": {},
   "outputs": [],
   "source": []
  },
  {
   "cell_type": "code",
   "execution_count": null,
   "metadata": {},
   "outputs": [],
   "source": []
  }
 ],
 "metadata": {
  "hide_input": false,
  "kernelspec": {
   "display_name": "R 3.5.1",
   "language": "R",
   "name": "ir"
  },
  "language_info": {
   "codemirror_mode": "r",
   "file_extension": ".r",
   "mimetype": "text/x-r-source",
   "name": "R",
   "pygments_lexer": "r",
   "version": "3.5.2"
  },
  "latex_envs": {
   "LaTeX_envs_menu_present": true,
   "autoclose": true,
   "autocomplete": true,
   "bibliofile": "biblio.bib",
   "cite_by": "apalike",
   "current_citInitial": 1,
   "eqLabelWithNumbers": true,
   "eqNumInitial": 1,
   "hotkeys": {
    "equation": "Ctrl-E",
    "itemize": "Ctrl-I"
   },
   "labels_anchors": false,
   "latex_user_defs": false,
   "report_style_numbering": false,
   "user_envs_cfg": false
  },
  "toc": {
   "base_numbering": 1,
   "nav_menu": {},
   "number_sections": true,
   "sideBar": true,
   "skip_h1_title": false,
   "title_cell": "Table of Contents",
   "title_sidebar": "Contents",
   "toc_cell": false,
   "toc_position": {},
   "toc_section_display": true,
   "toc_window_display": false
  },
  "varInspector": {
   "cols": {
    "lenName": 16,
    "lenType": 16,
    "lenVar": 40
   },
   "kernels_config": {
    "python": {
     "delete_cmd_postfix": "",
     "delete_cmd_prefix": "del ",
     "library": "var_list.py",
     "varRefreshCmd": "print(var_dic_list())"
    },
    "r": {
     "delete_cmd_postfix": ") ",
     "delete_cmd_prefix": "rm(",
     "library": "var_list.r",
     "varRefreshCmd": "cat(var_dic_list()) "
    }
   },
   "types_to_exclude": [
    "module",
    "function",
    "builtin_function_or_method",
    "instance",
    "_Feature"
   ],
   "window_display": false
  }
 },
 "nbformat": 4,
 "nbformat_minor": 2
}
