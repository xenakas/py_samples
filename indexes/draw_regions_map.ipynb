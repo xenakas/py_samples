{
 "cells": [
  {
   "cell_type": "code",
   "execution_count": null,
   "metadata": {
    "ExecuteTime": {
     "end_time": "2019-09-18T08:52:06.988223Z",
     "start_time": "2019-09-18T08:52:05.293541Z"
    }
   },
   "outputs": [],
   "source": [
    "import pandas as pd\n",
    "import matplotlib.pyplot as plt\n",
    "import descartes\n",
    "\n",
    "import geopandas as gpd\n",
    "\n",
    "from shapely.geometry import Point, Polygon\n",
    "from shapely.geometry.multipolygon import MultiPolygon\n",
    "\n",
    "from matplotlib import cm\n",
    "from matplotlib.colors import ListedColormap, LinearSegmentedColormap\n",
    "import geoplot as gplt\n",
    "import geoplot.crs as gcrs\n",
    "import matplotlib.pyplot as plt"
   ]
  },
  {
   "cell_type": "code",
   "execution_count": null,
   "metadata": {
    "ExecuteTime": {
     "end_time": "2019-09-18T08:52:08.463541Z",
     "start_time": "2019-09-18T08:52:08.458084Z"
    }
   },
   "outputs": [],
   "source": [
    "%matplotlib inline"
   ]
  },
  {
   "cell_type": "markdown",
   "metadata": {
    "ExecuteTime": {
     "end_time": "2019-09-11T07:43:17.709394Z",
     "start_time": "2019-09-11T07:43:17.699464Z"
    }
   },
   "source": [
    "Карта по районам"
   ]
  },
  {
   "cell_type": "code",
   "execution_count": null,
   "metadata": {
    "ExecuteTime": {
     "end_time": "2019-09-18T08:52:09.193416Z",
     "start_time": "2019-09-18T08:52:09.191472Z"
    }
   },
   "outputs": [],
   "source": [
    "# russia_map = gpd.read_file('draw_picture/RUS_adm/RUS_adm3.shp')\n",
    "# fig,ax = plt.subplots(figsize = (15,15))\n",
    "# russia_map.plot(ax = ax)"
   ]
  },
  {
   "cell_type": "markdown",
   "metadata": {},
   "source": [
    "Карта по регионам"
   ]
  },
  {
   "cell_type": "code",
   "execution_count": null,
   "metadata": {
    "ExecuteTime": {
     "end_time": "2019-09-18T08:52:11.690535Z",
     "start_time": "2019-09-18T08:52:09.664279Z"
    }
   },
   "outputs": [],
   "source": [
    "russia_map = gpd.read_file('draw_picture/RUS_adm/RUS_adm1.shp')\n",
    "fig,ax = plt.subplots(figsize = (15,15))\n",
    "russia_map.plot(ax = ax);"
   ]
  },
  {
   "cell_type": "code",
   "execution_count": null,
   "metadata": {
    "ExecuteTime": {
     "end_time": "2019-09-18T08:52:11.885384Z",
     "start_time": "2019-09-18T08:52:11.877530Z"
    }
   },
   "outputs": [],
   "source": [
    "russia_map.geometry.apply(type).unique()\n",
    "mp = MultiPolygon([russia_map.geometry[0], russia_map.geometry[1]])\n",
    "#print(mp, type(mp))"
   ]
  },
  {
   "cell_type": "code",
   "execution_count": null,
   "metadata": {
    "ExecuteTime": {
     "end_time": "2019-09-18T08:52:16.287649Z",
     "start_time": "2019-09-18T08:52:12.020989Z"
    }
   },
   "outputs": [],
   "source": [
    "def rectify_poly(p):\n",
    "    pts = p.exterior.coords[:]\n",
    "    def angle_corr(angle):\n",
    "        return angle + 360 if angle < 0 else angle\n",
    "    pts2 = [(angle_corr(pp[0]), angle_corr(pp[1])) for pp in pts]    \n",
    "    return Polygon(pts2)\n",
    "\n",
    "def rectify_multipoly(mp):\n",
    "    if type(mp) == Polygon:\n",
    "        return rectify_poly(mp)\n",
    "    elif type(mp) == MultiPolygon:\n",
    "        return MultiPolygon([rectify_poly(p) for p in mp])\n",
    "    \n",
    "new_geom = russia_map.geometry.apply(rectify_multipoly)"
   ]
  },
  {
   "cell_type": "code",
   "execution_count": null,
   "metadata": {
    "ExecuteTime": {
     "end_time": "2019-09-18T08:52:16.565678Z",
     "start_time": "2019-09-18T08:52:16.547832Z"
    }
   },
   "outputs": [],
   "source": [
    "russia_map2 = russia_map.copy()\n",
    "russia_map2.geometry = new_geom\n",
    "crimea_map = gpd.read_file('draw_picture/crimea_9sr/crimea_9sr.shp')"
   ]
  },
  {
   "cell_type": "code",
   "execution_count": null,
   "metadata": {
    "ExecuteTime": {
     "end_time": "2019-09-18T08:52:16.581221Z",
     "start_time": "2019-09-18T08:52:16.567758Z"
    }
   },
   "outputs": [],
   "source": [
    "russia_with_crimea = russia_map2.append({'geometry': crimea_map.geometry[0],\n",
    "                    'NAME_0': 'Russia', 'ISO': 'RUS',\n",
    "                    'NAME_1': 'Crimea', 'TYPE_1': 'Respublika',\n",
    "                    'ENGTYPE_1': 'Republic', 'NL_NAME_1':'Республика Крым',\n",
    "                    'VARNAME_1': 'Crimea', 'ID_0':188, 'ID_1':91}, ignore_index=True)"
   ]
  },
  {
   "cell_type": "code",
   "execution_count": null,
   "metadata": {
    "ExecuteTime": {
     "end_time": "2019-09-18T08:52:19.083570Z",
     "start_time": "2019-09-18T08:52:17.580659Z"
    }
   },
   "outputs": [],
   "source": [
    "fig,ax = plt.subplots(figsize = (20,20))\n",
    "russia_with_crimea.plot(ax = ax);"
   ]
  },
  {
   "cell_type": "code",
   "execution_count": null,
   "metadata": {
    "ExecuteTime": {
     "end_time": "2019-09-18T08:52:19.777111Z",
     "start_time": "2019-09-18T08:52:19.588120Z"
    }
   },
   "outputs": [],
   "source": [
    "russia_with_crimea.head()"
   ]
  },
  {
   "cell_type": "code",
   "execution_count": null,
   "metadata": {
    "ExecuteTime": {
     "end_time": "2019-09-18T08:52:20.322752Z",
     "start_time": "2019-09-18T08:52:20.320578Z"
    }
   },
   "outputs": [],
   "source": [
    "# reg_list = pd.read_csv('../indexes/reg_list.csv')\n",
    "# maplist =  russia_with_crimea.iloc[:,-3]\n",
    "# rlist = reg_list.iloc[:,1]\n",
    "\n",
    "# from fuzzywuzzy import fuzz\n",
    "\n",
    "# k = []\n",
    "# for i in maplist:\n",
    "#     lll = [fuzz.ratio(i,j) for j in rlist]\n",
    "#     k.append(np.argmax(lll))\n",
    "\n",
    "# rlist2 = rlist[k]\n",
    "# pdlist=pd.DataFrame([maplist.values, rlist2.values]).transpose()\n",
    "\n",
    "# # pdlist.iloc[42,:] = 'Москва'\n",
    "# # pdlist.iloc[81,:] = 'Еврейская автономная область'\n",
    "\n",
    "# # pdlist.to_csv('map_reg_dict.csv')"
   ]
  },
  {
   "cell_type": "code",
   "execution_count": null,
   "metadata": {
    "ExecuteTime": {
     "end_time": "2019-09-18T08:52:20.821750Z",
     "start_time": "2019-09-18T08:52:20.815057Z"
    }
   },
   "outputs": [],
   "source": [
    "pdlist = pd.read_csv('map_reg_dict.csv', index_col=0)"
   ]
  },
  {
   "cell_type": "code",
   "execution_count": null,
   "metadata": {
    "ExecuteTime": {
     "end_time": "2019-09-18T08:52:21.329193Z",
     "start_time": "2019-09-18T08:52:21.325223Z"
    }
   },
   "outputs": [],
   "source": [
    "russia_with_crimea.iloc[:,-3] =  pdlist.iloc[:,1]\n",
    "\n",
    "# geo_df[geo_df['Тип месторождения'] == \"газовое\"].plot(ax = ax, markersize = 20, color = \"royalblue\", marker = \"^\", label = \"gas field\")\n",
    "# geo_df[geo_df['Тип месторождения'] ==  \"нефтяное\"].plot(ax = ax, markersize = 20, color = \"black\", marker = \"^\", label = \"oil field\")\n",
    "# geo_df[geo_df['Тип месторождения'] ==  \"нефтегазовое\"].plot(ax = ax, markersize = 20, color = \"navy\", marker = \"^\", label = \"oil and gas field\")\n",
    "# geo_df[geo_df['Тип месторождения'] == \"\"].plot(ax = ax, markersize = 20, color = \"maroon\", marker = \"o\", label = \"Nan\")\n",
    "# plt.legend(prop={'size': 15});\n",
    "# plt.savefig('map_oil_and_gas_fields.png', transparent=True, bbox_inches='tight')"
   ]
  },
  {
   "cell_type": "code",
   "execution_count": null,
   "metadata": {
    "ExecuteTime": {
     "end_time": "2019-09-18T08:52:21.852870Z",
     "start_time": "2019-09-18T08:52:21.850988Z"
    }
   },
   "outputs": [],
   "source": [
    "# russia_with_crimea"
   ]
  },
  {
   "cell_type": "code",
   "execution_count": null,
   "metadata": {
    "ExecuteTime": {
     "end_time": "2019-09-18T08:52:22.352209Z",
     "start_time": "2019-09-18T08:52:22.349329Z"
    }
   },
   "outputs": [],
   "source": [
    "type(russia_with_crimea)"
   ]
  },
  {
   "cell_type": "markdown",
   "metadata": {},
   "source": [
    "### Preparing Dataset"
   ]
  },
  {
   "cell_type": "code",
   "execution_count": null,
   "metadata": {
    "ExecuteTime": {
     "end_time": "2019-09-16T00:36:12.500262Z",
     "start_time": "2019-09-16T00:36:12.492533Z"
    }
   },
   "outputs": [],
   "source": [
    "glub_1 = pd.read_csv('data_oil_indexes/1_glubina_regions.csv').iloc[7:,[0,2]]"
   ]
  },
  {
   "cell_type": "code",
   "execution_count": null,
   "metadata": {
    "ExecuteTime": {
     "end_time": "2019-09-16T00:36:15.042050Z",
     "start_time": "2019-09-16T00:36:15.036481Z"
    }
   },
   "outputs": [],
   "source": [
    "glub_1.head()"
   ]
  },
  {
   "cell_type": "code",
   "execution_count": null,
   "metadata": {
    "ExecuteTime": {
     "end_time": "2019-09-16T00:36:17.806235Z",
     "start_time": "2019-09-16T00:36:17.801889Z"
    }
   },
   "outputs": [],
   "source": [
    "glub_1 = pd.read_csv('1_efficiency.csv')"
   ]
  },
  {
   "cell_type": "code",
   "execution_count": null,
   "metadata": {
    "ExecuteTime": {
     "end_time": "2019-09-16T00:36:20.457208Z",
     "start_time": "2019-09-16T00:36:20.455170Z"
    }
   },
   "outputs": [],
   "source": [
    "# glub_1"
   ]
  },
  {
   "cell_type": "code",
   "execution_count": null,
   "metadata": {
    "ExecuteTime": {
     "end_time": "2019-09-16T00:36:23.006265Z",
     "start_time": "2019-09-16T00:36:23.001614Z"
    }
   },
   "outputs": [],
   "source": [
    "all_data = pd.read_csv('map_reg_dict.csv', index_col=0)"
   ]
  },
  {
   "cell_type": "code",
   "execution_count": null,
   "metadata": {
    "ExecuteTime": {
     "end_time": "2019-09-16T00:36:25.472012Z",
     "start_time": "2019-09-16T00:36:25.466471Z"
    }
   },
   "outputs": [],
   "source": [
    "all_data = all_data.merge(glub_1, how='outer', left_on='1', right_on='Регион')\n",
    "\n",
    "all_data = all_data.drop('Регион',axis=1)"
   ]
  },
  {
   "cell_type": "code",
   "execution_count": null,
   "metadata": {
    "ExecuteTime": {
     "end_time": "2019-09-16T00:36:28.106810Z",
     "start_time": "2019-09-16T00:36:28.097217Z"
    }
   },
   "outputs": [],
   "source": [
    "kratnosti_2 = pd.read_csv('data_oil_indexes/2_kratnosti_neft_gas.csv', index_col=0).iloc[:,[1,-2,-1]].replace(np.inf, np.nan)"
   ]
  },
  {
   "cell_type": "code",
   "execution_count": null,
   "metadata": {
    "ExecuteTime": {
     "end_time": "2019-09-16T00:36:30.799375Z",
     "start_time": "2019-09-16T00:36:30.771555Z"
    }
   },
   "outputs": [],
   "source": [
    "maplist =  kratnosti_2.iloc[:,0]\n",
    "rlist = all_data.iloc[:,1]\n",
    "\n",
    "from fuzzywuzzy import fuzz\n",
    "\n",
    "k = []\n",
    "for i in maplist:\n",
    "    lll = [fuzz.ratio(i,j) for j in rlist]\n",
    "    k.append(np.argmax(lll))\n",
    "\n",
    "rlist2 = rlist[k]\n",
    "\n",
    "# pd.DataFrame([maplist.values, rlist2.values]).transpose()\n",
    "\n",
    "kratnosti_2.iloc[:,0] = rlist[k].values\n"
   ]
  },
  {
   "cell_type": "code",
   "execution_count": null,
   "metadata": {
    "ExecuteTime": {
     "end_time": "2019-09-16T00:36:33.514402Z",
     "start_time": "2019-09-16T00:36:33.512096Z"
    }
   },
   "outputs": [],
   "source": [
    "# kratnosti_2"
   ]
  },
  {
   "cell_type": "code",
   "execution_count": null,
   "metadata": {
    "ExecuteTime": {
     "end_time": "2019-09-16T00:36:36.276364Z",
     "start_time": "2019-09-16T00:36:36.270905Z"
    }
   },
   "outputs": [],
   "source": [
    "all_data = all_data.merge(kratnosti_2, how='outer', left_on='1', right_on='Субъект федерации')\n",
    "all_data = all_data.drop('Субъект федерации',axis=1)"
   ]
  },
  {
   "cell_type": "code",
   "execution_count": null,
   "metadata": {
    "ExecuteTime": {
     "end_time": "2019-09-16T01:46:06.157334Z",
     "start_time": "2019-09-16T01:46:06.063710Z"
    }
   },
   "outputs": [],
   "source": [
    "dies_3 = pd.read_csv('data_oil_indexes/3_prices_petrolmap.csv', index_col=0, header=[0,1,2], parse_dates=True)"
   ]
  },
  {
   "cell_type": "code",
   "execution_count": null,
   "metadata": {
    "ExecuteTime": {
     "end_time": "2019-09-16T01:50:22.140594Z",
     "start_time": "2019-09-16T01:50:22.084076Z"
    }
   },
   "outputs": [],
   "source": [
    "dies_3 = dies_3[['Дизельное топливо летнее', 'Дизельное топливо зимнее']].resample('Y').mean().stack(2).mean(axis=1).unstack().transpose().iloc[:,[0,-2]]"
   ]
  },
  {
   "cell_type": "code",
   "execution_count": null,
   "metadata": {
    "ExecuteTime": {
     "end_time": "2019-09-16T01:50:51.896585Z",
     "start_time": "2019-09-16T01:50:51.894452Z"
    }
   },
   "outputs": [],
   "source": [
    "# dies_3"
   ]
  },
  {
   "cell_type": "code",
   "execution_count": null,
   "metadata": {
    "ExecuteTime": {
     "end_time": "2019-09-16T01:50:31.975722Z",
     "start_time": "2019-09-16T01:50:31.973222Z"
    }
   },
   "outputs": [],
   "source": [
    "dies_3.columns = ['Цены на дизель 2013', 'Цены на дизель 2018']"
   ]
  },
  {
   "cell_type": "code",
   "execution_count": null,
   "metadata": {
    "ExecuteTime": {
     "end_time": "2019-09-16T01:51:58.860239Z",
     "start_time": "2019-09-16T01:51:58.832505Z"
    }
   },
   "outputs": [],
   "source": [
    "maplist =  dies_3.index.values\n",
    "rlist = all_data.iloc[:,1]\n",
    "\n",
    "from fuzzywuzzy import fuzz\n",
    "\n",
    "k = []\n",
    "for i in maplist:\n",
    "    lll = [fuzz.ratio(i,j) for j in rlist]\n",
    "    k.append(np.argmax(lll))\n",
    "\n",
    "rlist2 = rlist[k]\n",
    "\n",
    "# pd.DataFrame([maplist, rlist2.values]).transpose().iloc[29:,:]\n",
    "\n",
    "# rlist2.values\n",
    "\n",
    "dies_3.index = rlist[k].values\n",
    "\n",
    "dies_3.index.name = 'Субъект федерации'\n",
    "\n",
    "# all_data"
   ]
  },
  {
   "cell_type": "code",
   "execution_count": null,
   "metadata": {
    "ExecuteTime": {
     "end_time": "2019-09-16T01:52:22.428346Z",
     "start_time": "2019-09-16T01:52:22.423559Z"
    }
   },
   "outputs": [],
   "source": [
    "all_data = all_data.merge(dies_3, how='outer', left_on='1', right_on='Субъект федерации')\n",
    "# all_data = all_data.drop('Субъект федерации',axis=1)"
   ]
  },
  {
   "cell_type": "code",
   "execution_count": null,
   "metadata": {
    "ExecuteTime": {
     "end_time": "2019-09-16T00:36:38.910104Z",
     "start_time": "2019-09-16T00:36:38.878659Z"
    }
   },
   "outputs": [],
   "source": [
    "fuel_3 = pd.read_csv('data_oil_indexes/3_prices_fuel.csv', index_col=0, parse_dates=True).resample('Y').mean().transpose().iloc[:,[0,-2]]\n",
    "fuel_3.columns = ['Цены на бензин 2013', 'Цены на бензин 2018']"
   ]
  },
  {
   "cell_type": "code",
   "execution_count": null,
   "metadata": {
    "ExecuteTime": {
     "end_time": "2019-09-16T00:36:41.614751Z",
     "start_time": "2019-09-16T00:36:41.612532Z"
    }
   },
   "outputs": [],
   "source": [
    "# all_data"
   ]
  },
  {
   "cell_type": "code",
   "execution_count": null,
   "metadata": {
    "ExecuteTime": {
     "end_time": "2019-09-16T00:36:44.243799Z",
     "start_time": "2019-09-16T00:36:44.241956Z"
    }
   },
   "outputs": [],
   "source": [
    "# fuel_3"
   ]
  },
  {
   "cell_type": "code",
   "execution_count": null,
   "metadata": {
    "ExecuteTime": {
     "end_time": "2019-09-16T00:36:46.901017Z",
     "start_time": "2019-09-16T00:36:46.875596Z"
    }
   },
   "outputs": [],
   "source": [
    "maplist =  fuel_3.index.values\n",
    "rlist = all_data.iloc[:,1]\n",
    "\n",
    "from fuzzywuzzy import fuzz\n",
    "\n",
    "k = []\n",
    "for i in maplist:\n",
    "    lll = [fuzz.ratio(i,j) for j in rlist]\n",
    "    k.append(np.argmax(lll))\n",
    "\n",
    "rlist2 = rlist[k]"
   ]
  },
  {
   "cell_type": "code",
   "execution_count": null,
   "metadata": {
    "ExecuteTime": {
     "end_time": "2019-09-16T00:36:49.525306Z",
     "start_time": "2019-09-16T00:36:49.523293Z"
    }
   },
   "outputs": [],
   "source": [
    "# pd.DataFrame([maplist, rlist2.values]).transpose().iloc[29:,:]"
   ]
  },
  {
   "cell_type": "code",
   "execution_count": null,
   "metadata": {
    "ExecuteTime": {
     "end_time": "2019-09-16T00:36:52.078603Z",
     "start_time": "2019-09-16T00:36:52.076430Z"
    }
   },
   "outputs": [],
   "source": [
    "# rlist2.values"
   ]
  },
  {
   "cell_type": "code",
   "execution_count": null,
   "metadata": {
    "ExecuteTime": {
     "end_time": "2019-09-16T00:36:54.737636Z",
     "start_time": "2019-09-16T00:36:54.734478Z"
    }
   },
   "outputs": [],
   "source": [
    "fuel_3.index = rlist[k].values"
   ]
  },
  {
   "cell_type": "code",
   "execution_count": null,
   "metadata": {
    "ExecuteTime": {
     "end_time": "2019-09-16T00:36:57.220018Z",
     "start_time": "2019-09-16T00:36:57.217635Z"
    }
   },
   "outputs": [],
   "source": [
    "fuel_3.index.name = 'Субъект федерации'"
   ]
  },
  {
   "cell_type": "code",
   "execution_count": null,
   "metadata": {
    "ExecuteTime": {
     "end_time": "2019-09-16T00:36:59.753647Z",
     "start_time": "2019-09-16T00:36:59.751552Z"
    }
   },
   "outputs": [],
   "source": [
    "# all_data"
   ]
  },
  {
   "cell_type": "code",
   "execution_count": null,
   "metadata": {
    "ExecuteTime": {
     "end_time": "2019-09-16T00:37:02.327055Z",
     "start_time": "2019-09-16T00:37:02.323147Z"
    }
   },
   "outputs": [],
   "source": [
    "all_data = all_data.merge(fuel_3, how='outer', left_on='1', right_on='Субъект федерации')\n",
    "# all_data = all_data.drop('Субъект федерации',axis=1)"
   ]
  },
  {
   "cell_type": "code",
   "execution_count": null,
   "metadata": {
    "ExecuteTime": {
     "end_time": "2019-09-16T00:37:04.896469Z",
     "start_time": "2019-09-16T00:37:04.894427Z"
    }
   },
   "outputs": [],
   "source": [
    "# all_data"
   ]
  },
  {
   "cell_type": "code",
   "execution_count": null,
   "metadata": {
    "ExecuteTime": {
     "end_time": "2019-09-16T00:37:07.737542Z",
     "start_time": "2019-09-16T00:37:07.647192Z"
    }
   },
   "outputs": [],
   "source": [
    "maz_3 = pd.read_csv('data_oil_indexes/3_prices_mazut.csv', index_col=0, parse_dates=True).resample('Y').mean().transpose().iloc[:,[0,-2]]\n",
    "maz_3.columns = ['Цены на мазут 2012', 'Цены на мазут 2018']\n",
    "\n",
    "crack_4 = pd.read_csv('data_oil_indexes/4_crack_spread_df.csv', index_col=0, parse_dates=True, header=[0,1]).transpose().swaplevel().transpose()['Крэк-спред'].resample('Y').mean().transpose().iloc[:,[0,-2]]\n",
    "crack_4.columns = ['Крэк-спред 2013', 'Крэк-спред 2018']\n",
    "\n",
    "akz_5 = pd.read_csv('data_oil_indexes/5_taxes_ndpi_2013_2017.csv', index_col=[0,1], parse_dates=True, header=0)['Акцизы на нефтепродукты  (суб.бюджет)'].unstack().iloc[:,[1,-1]].replace(0,np.nan) #.count()\n",
    "akz_5.columns = ['Акцизы на нефтепродукты (суб.бюджет) 2014', 'Акцизы на нефтепродукты (суб.бюджет) 2017']\n",
    "\n",
    "ndpin_5 = pd.read_csv('data_oil_indexes/5_taxes_ndpi_2013_2017.csv', index_col=[0,1], parse_dates=True, header=0)['НДПИ (нефть)'].unstack().iloc[:,[1,-1]].replace(0,np.nan)\n",
    "ndpin_5.columns = ['НДПИ (нефть) 2014', 'НДПИ (нефть) 2017']\n",
    "\n",
    "zadndpin_6 = pd.read_csv('data_oil_indexes/5_taxes_ndpi_2013_2017.csv', index_col=[0,1], parse_dates=True, header=0)['Задолженность по НДПИ'].unstack().iloc[:,[1,-1]].replace(0,np.nan)\n",
    "zadndpin_6.columns = ['Задолженность по НДПИ 2014', 'Задолженность по НДПИ 2017']\n",
    "\n",
    "zadakz_6 = pd.read_csv('data_oil_indexes/5_taxes_ndpi_2013_2017.csv', index_col=[0,1], parse_dates=True, header=0)['Задолженность по акцизу на нефтепродукты'].unstack().iloc[:,[1,-1]].replace(0,np.nan)\n",
    "zadakz_6.columns = ['Задолженность по акцизу на нефтепродукты 2014', 'Задолженность по акцизу на нефтепродукты 2017']\n",
    "\n",
    "zaddob_6 = pd.read_csv('data_oil_indexes/5_taxes_ndpi_2013_2017.csv', index_col=[0,1], parse_dates=True, header=0)['Задолженность по налогам и сборам в добыче сырой нефти и природного газа'].unstack().iloc[:,[1,-1]].replace(0,np.nan)\n",
    "zaddob_6.columns = ['Задолженность по налогам и сборам в добыче сырой нефти и природного газа 2014', 'Задолженность по налогам и сборам в добыче сырой нефти и природного газа 2017']\n",
    "\n",
    "ndgas_5 = pd.read_csv('data_oil_indexes/5_taxes_ndpi_2013_2017.csv', index_col=[0,1], parse_dates=True, header=0)['НДПИ (газ горючий природный)'].unstack().iloc[:,[1,-1]].replace(0,np.nan)\n",
    "ndgas_5.columns = ['НДПИ (газ горючий природный) 2014', 'НДПИ (газ горючий природный) 2017']\n",
    "\n",
    "ndcond_5 = pd.read_csv('data_oil_indexes/5_taxes_ndpi_2013_2017.csv', index_col=[0,1], parse_dates=True, header=0)['НДПИ (газовый конденсат )'].unstack().iloc[:,[1,-1]].replace(0,np.nan)\n",
    "ndcond_5.columns = ['НДПИ (газовый конденсат ) 2014', 'НДПИ (газовый конденсат ) 2017']"
   ]
  },
  {
   "cell_type": "code",
   "execution_count": null,
   "metadata": {
    "ExecuteTime": {
     "end_time": "2019-09-16T00:37:10.401108Z",
     "start_time": "2019-09-16T00:37:10.392262Z"
    }
   },
   "outputs": [],
   "source": [
    "nals_56 = akz_5.merge(ndpin_5, how='outer', left_on='Субъект федерации', right_on='Субъект федерации')"
   ]
  },
  {
   "cell_type": "code",
   "execution_count": null,
   "metadata": {
    "ExecuteTime": {
     "end_time": "2019-09-16T00:37:13.086500Z",
     "start_time": "2019-09-16T00:37:13.068241Z"
    }
   },
   "outputs": [],
   "source": [
    "nals_56 = nals_56.merge(zadndpin_6, how='outer', left_on='Субъект федерации', right_on='Субъект федерации')\n",
    "nals_56 = nals_56.merge(zadakz_6, how='outer', left_on='Субъект федерации', right_on='Субъект федерации')\n",
    "nals_56 = nals_56.merge(zaddob_6, how='outer', left_on='Субъект федерации', right_on='Субъект федерации')\n",
    "nals_56 = nals_56.merge(ndgas_5, how='outer', left_on='Субъект федерации', right_on='Субъект федерации')\n",
    "nals_56 = nals_56.merge(ndcond_5, how='outer', left_on='Субъект федерации', right_on='Субъект федерации')\n"
   ]
  },
  {
   "cell_type": "code",
   "execution_count": null,
   "metadata": {
    "ExecuteTime": {
     "end_time": "2019-09-16T00:37:15.883040Z",
     "start_time": "2019-09-16T00:37:15.880435Z"
    }
   },
   "outputs": [],
   "source": [
    "cr_ind = crack_4.index.values\n",
    "\n",
    "cr_ind[-9] = 'Республика Татарстан'\n",
    "\n",
    "crack_4.index = cr_ind\n",
    "\n",
    "crack_4.index.name='Субъект федерации'"
   ]
  },
  {
   "cell_type": "code",
   "execution_count": null,
   "metadata": {
    "ExecuteTime": {
     "end_time": "2019-09-16T00:37:18.641702Z",
     "start_time": "2019-09-16T00:37:18.635529Z"
    }
   },
   "outputs": [],
   "source": [
    "nals_4567 = nals_56.merge(crack_4, how='outer', left_on='Субъект федерации', right_on='Субъект федерации')\n"
   ]
  },
  {
   "cell_type": "code",
   "execution_count": null,
   "metadata": {
    "ExecuteTime": {
     "end_time": "2019-09-16T00:37:21.353924Z",
     "start_time": "2019-09-16T00:37:21.343939Z"
    }
   },
   "outputs": [],
   "source": [
    "spark_7 = pd.read_csv('data_oil_indexes/6_spark_electricity.csv', index_col=[0,1,2]).groupby('Субъект федерации').mean().iloc[:,[0,-2]]\n",
    "spark_7.columns = ['Спарк-спред 2012', 'Спарк-спред 2018']\n",
    "# spark_7"
   ]
  },
  {
   "cell_type": "code",
   "execution_count": null,
   "metadata": {
    "ExecuteTime": {
     "end_time": "2019-09-16T00:37:24.017612Z",
     "start_time": "2019-09-16T00:37:24.014595Z"
    }
   },
   "outputs": [],
   "source": [
    "sp_ind = spark_7.index.values\n",
    "\n",
    "sp_ind[-11] = 'г. Санкт-Петербург'\n",
    "\n",
    "sp_ind[-4] = 'Ханты-Мансийский АО-Югра'\n",
    "\n",
    "sp_ind[-1] = 'Ямало-Ненецкий АО'\n",
    "\n",
    "spark_7.index = sp_ind\n",
    "spark_7.index.name='Субъект федерации'"
   ]
  },
  {
   "cell_type": "code",
   "execution_count": null,
   "metadata": {
    "ExecuteTime": {
     "end_time": "2019-09-16T00:37:26.599735Z",
     "start_time": "2019-09-16T00:37:26.592314Z"
    }
   },
   "outputs": [],
   "source": [
    "nals_4567 = nals_4567.merge(spark_7, how='outer', left_on='Субъект федерации', right_on='Субъект федерации')"
   ]
  },
  {
   "cell_type": "code",
   "execution_count": null,
   "metadata": {
    "ExecuteTime": {
     "end_time": "2019-09-16T00:37:29.424819Z",
     "start_time": "2019-09-16T00:37:29.420679Z"
    }
   },
   "outputs": [],
   "source": [
    "# nals_4567.shape, \n",
    "nals_4567 = nals_4567.iloc[:-1,:]"
   ]
  },
  {
   "cell_type": "code",
   "execution_count": null,
   "metadata": {
    "ExecuteTime": {
     "end_time": "2019-09-16T00:37:32.266048Z",
     "start_time": "2019-09-16T00:37:32.263486Z"
    }
   },
   "outputs": [],
   "source": [
    "maz_3.index.name='Субъект федерации'"
   ]
  },
  {
   "cell_type": "code",
   "execution_count": null,
   "metadata": {
    "ExecuteTime": {
     "end_time": "2019-09-16T00:37:35.205548Z",
     "start_time": "2019-09-16T00:37:35.203404Z"
    }
   },
   "outputs": [],
   "source": [
    "maz_ind = maz_3.index.values"
   ]
  },
  {
   "cell_type": "code",
   "execution_count": null,
   "metadata": {
    "ExecuteTime": {
     "end_time": "2019-09-16T00:37:37.805966Z",
     "start_time": "2019-09-16T00:37:37.803400Z"
    }
   },
   "outputs": [],
   "source": [
    "maz_ind[-9] = 'Республика Татарстан'\n",
    "\n",
    "maz_3.index = maz_ind\n",
    "\n",
    "maz_3.index.name='Субъект федерации'"
   ]
  },
  {
   "cell_type": "code",
   "execution_count": null,
   "metadata": {
    "ExecuteTime": {
     "end_time": "2019-09-16T00:37:40.481518Z",
     "start_time": "2019-09-16T00:37:40.476195Z"
    }
   },
   "outputs": [],
   "source": [
    "nals_34567 = nals_4567.merge(maz_3, how='outer', left_on='Субъект федерации', right_on='Субъект федерации')"
   ]
  },
  {
   "cell_type": "code",
   "execution_count": null,
   "metadata": {
    "ExecuteTime": {
     "end_time": "2019-09-16T00:37:43.499175Z",
     "start_time": "2019-09-16T00:37:43.497009Z"
    }
   },
   "outputs": [],
   "source": [
    "# fuel_3.index.name='Субъект федерации'\n",
    "# fuel_3"
   ]
  },
  {
   "cell_type": "code",
   "execution_count": null,
   "metadata": {
    "ExecuteTime": {
     "end_time": "2019-09-16T00:37:46.340919Z",
     "start_time": "2019-09-16T00:37:46.339017Z"
    }
   },
   "outputs": [],
   "source": [
    "# nals_4567.merge(fuel_3, how='outer', left_on='Субъект федерации', right_on='Субъект федерации')"
   ]
  },
  {
   "cell_type": "code",
   "execution_count": null,
   "metadata": {
    "ExecuteTime": {
     "end_time": "2019-09-16T00:37:49.309814Z",
     "start_time": "2019-09-16T00:37:49.282971Z"
    }
   },
   "outputs": [],
   "source": [
    "maplist =  nals_34567.index.values\n",
    "rlist = all_data.iloc[:,1]\n",
    "\n",
    "from fuzzywuzzy import fuzz\n",
    "\n",
    "k = []\n",
    "for i in maplist:\n",
    "    lll = [fuzz.ratio(i,j) for j in rlist]\n",
    "    k.append(np.argmax(lll))\n",
    "\n",
    "rlist2 = rlist[k]"
   ]
  },
  {
   "cell_type": "code",
   "execution_count": null,
   "metadata": {
    "ExecuteTime": {
     "end_time": "2019-09-16T00:37:52.309540Z",
     "start_time": "2019-09-16T00:37:52.307193Z"
    }
   },
   "outputs": [],
   "source": [
    "# pd.DataFrame([maplist, rlist2.values]).transpose() #.iloc[29:,:]"
   ]
  },
  {
   "cell_type": "code",
   "execution_count": null,
   "metadata": {
    "ExecuteTime": {
     "end_time": "2019-09-16T00:37:55.237561Z",
     "start_time": "2019-09-16T00:37:55.235861Z"
    }
   },
   "outputs": [],
   "source": [
    "# nals_4567"
   ]
  },
  {
   "cell_type": "code",
   "execution_count": null,
   "metadata": {
    "ExecuteTime": {
     "end_time": "2019-09-16T00:37:57.926852Z",
     "start_time": "2019-09-16T00:37:57.923751Z"
    }
   },
   "outputs": [],
   "source": [
    "nals_34567.index = rlist[k].values"
   ]
  },
  {
   "cell_type": "code",
   "execution_count": null,
   "metadata": {
    "ExecuteTime": {
     "end_time": "2019-09-16T00:38:00.805000Z",
     "start_time": "2019-09-16T00:38:00.803027Z"
    }
   },
   "outputs": [],
   "source": [
    "nals_34567.index.name = 'Субъект федерации'"
   ]
  },
  {
   "cell_type": "code",
   "execution_count": null,
   "metadata": {
    "ExecuteTime": {
     "end_time": "2019-09-16T00:38:03.711040Z",
     "start_time": "2019-09-16T00:38:03.706017Z"
    }
   },
   "outputs": [],
   "source": [
    "all_data = all_data.merge(nals_34567, how='outer', left_on='1', right_on='Субъект федерации')\n",
    "# all_data = all_data.drop('Субъект федерации',axis=1)"
   ]
  },
  {
   "cell_type": "code",
   "execution_count": null,
   "metadata": {
    "ExecuteTime": {
     "end_time": "2019-09-16T00:39:24.184181Z",
     "start_time": "2019-09-16T00:39:24.175195Z"
    }
   },
   "outputs": [],
   "source": [
    "dor_5 = pd.read_csv('data_oil_indexes/5_dor_funds.csv', index_col=0).iloc[:,[0,5]]"
   ]
  },
  {
   "cell_type": "code",
   "execution_count": null,
   "metadata": {
    "ExecuteTime": {
     "end_time": "2019-09-16T00:40:16.886803Z",
     "start_time": "2019-09-16T00:40:16.860806Z"
    }
   },
   "outputs": [],
   "source": [
    "maplist =  dor_5.index.values\n",
    "rlist = all_data.iloc[:,1]\n",
    "\n",
    "from fuzzywuzzy import fuzz\n",
    "\n",
    "k = []\n",
    "for i in maplist:\n",
    "    lll = [fuzz.ratio(i,j) for j in rlist]\n",
    "    k.append(np.argmax(lll))\n",
    "\n",
    "rlist2 = rlist[k]"
   ]
  },
  {
   "cell_type": "code",
   "execution_count": null,
   "metadata": {
    "ExecuteTime": {
     "end_time": "2019-09-16T00:40:53.484215Z",
     "start_time": "2019-09-16T00:40:53.482025Z"
    }
   },
   "outputs": [],
   "source": [
    "# pd.DataFrame([maplist, rlist2.values]).transpose().iloc[29:,:]"
   ]
  },
  {
   "cell_type": "code",
   "execution_count": null,
   "metadata": {
    "ExecuteTime": {
     "end_time": "2019-09-16T00:41:18.386573Z",
     "start_time": "2019-09-16T00:41:18.381449Z"
    }
   },
   "outputs": [],
   "source": [
    "# rlist2.values\n",
    "\n",
    "dor_5.index = rlist[k].values\n",
    "\n",
    "dor_5.index.name = 'Субъект федерации'"
   ]
  },
  {
   "cell_type": "code",
   "execution_count": null,
   "metadata": {
    "ExecuteTime": {
     "end_time": "2019-09-16T00:41:43.696749Z",
     "start_time": "2019-09-16T00:41:43.688632Z"
    }
   },
   "outputs": [],
   "source": [
    "all_data = all_data.merge(dor_5, how='outer', left_on='1', right_on='Субъект федерации')\n",
    "# all_data = all_data.drop('Субъект федерации',axis=1)"
   ]
  },
  {
   "cell_type": "code",
   "execution_count": null,
   "metadata": {
    "ExecuteTime": {
     "end_time": "2019-09-18T09:02:48.058549Z",
     "start_time": "2019-09-18T09:02:48.047325Z"
    }
   },
   "outputs": [],
   "source": [
    "all_data.to_csv('all_data_for_map.csv')"
   ]
  },
  {
   "cell_type": "code",
   "execution_count": null,
   "metadata": {
    "ExecuteTime": {
     "end_time": "2019-09-18T09:02:48.977158Z",
     "start_time": "2019-09-18T09:02:48.968712Z"
    }
   },
   "outputs": [],
   "source": [
    "all_data = pd.read_csv('all_data_for_map.csv', index_col=0)"
   ]
  },
  {
   "cell_type": "code",
   "execution_count": null,
   "metadata": {
    "ExecuteTime": {
     "end_time": "2019-09-18T09:02:49.759272Z",
     "start_time": "2019-09-18T09:02:49.754913Z"
    }
   },
   "outputs": [],
   "source": [
    "russia_data = russia_with_crimea.merge(all_data, how='outer', left_on='NL_NAME_1', right_on='1')"
   ]
  },
  {
   "cell_type": "code",
   "execution_count": null,
   "metadata": {
    "ExecuteTime": {
     "end_time": "2019-09-18T09:02:50.552755Z",
     "start_time": "2019-09-18T09:02:50.548952Z"
    }
   },
   "outputs": [],
   "source": [
    "russia_data = russia_data.drop(['0.1', '1'], axis=1)"
   ]
  },
  {
   "cell_type": "code",
   "execution_count": null,
   "metadata": {
    "ExecuteTime": {
     "end_time": "2019-09-18T09:02:51.524258Z",
     "start_time": "2019-09-18T09:02:51.322225Z"
    }
   },
   "outputs": [],
   "source": [
    "russia_data.head()"
   ]
  },
  {
   "cell_type": "markdown",
   "metadata": {},
   "source": [
    "## Аналитические показатели для рынка нефти и нефтепродуктов"
   ]
  },
  {
   "cell_type": "markdown",
   "metadata": {},
   "source": [
    "### [Глубина переработки](https://ru.wikipedia.org/wiki/%D0%93%D0%BB%D1%83%D0%B1%D0%B8%D0%BD%D0%B0_%D0%BF%D0%B5%D1%80%D0%B5%D1%80%D0%B0%D0%B1%D0%BE%D1%82%D0%BA%D0%B8_%D0%BD%D0%B5%D1%84%D1%82%D0%B8)"
   ]
  },
  {
   "cell_type": "markdown",
   "metadata": {},
   "source": [
    "- [ПРОГНОЗ РАЗВИТИЯ ЭНЕРГЕТИКИ МИРА И РОССИИ 2019](https://energy.skolkovo.ru/downloads/documents/SEneC/Research/SKOLKOVO_EneC_Forecast_2019_Rus.pdf)\n",
    "- [Нефтяная отрасль: итоги 2017 года и краткосрочные перспективы](http://ac.gov.ru/files/publication/a/15796.pdf)\n",
    "- [Российская нефтепереработка: пути развития](http://www.oilreview.ru/index.php?032)\n",
    "- [К оценке эффективности работы нефтеперерабатывающих заводов](https://cyberleninka.ru/article/v/k-otsenke-effektivnosti-raboty-neftepererabatyvayuschih-zavodov)\n",
    "- [Нефть-2017: итоги,тенденции, прогнозы](http://www.ngv.ru/upload/iblock/939/93972e1f25fa9b33508ca6c348e8614b.pdf)\n",
    "\n",
    "\n"
   ]
  },
  {
   "cell_type": "markdown",
   "metadata": {},
   "source": [
    "Налоговый маневр:\n",
    "\n",
    "- [НАЛОГОВЫЙ МАНЕВР В НЕФТЯНОЙ ОТРАСЛИ (2017)](https://cyberleninka.ru/article/n/nalogovyy-manevr-v-neftyanoy-otrasli)\n",
    "    - Налоговый маневр, проводимый в нефтяной отрасли с конца 2014 г., должен был решить проблемы,\n",
    "связанные с неэффективностью отечественной нефтепереработки. Однако корректировка его первона-\n",
    "чальных параметров в течение двух последующих лет с целью получения дополнительных средств в\n",
    "бюджет создает демотивирующие условия для НПЗ по повышению глубины переработки и модерниза-\n",
    "ции производства.\n",
    "- [НАЛОГОВЫЙ МАНЕВР В НЕФТЯНОЙ ОТРАСЛИ: БЛАГОПРИЯТНЫЙ МОМЕНТ ДЛЯ ЗАВЕРШЕНИЯ (2018)](https://cyberleninka.ru/article/n/nalogovyy-manevr-v-neftyanoy-otrasli-blagopriyatnyy-moment-dlya-zaversheniya)\n",
    "    - Налоговое реформирование нефтяной отрасли, начатое в конце 2014 г., приносит некоторые позитив-\n",
    "ные результаты. В 2014–2017 гг. увеличена средняя глубина переработки нефти в России. Текущий мо-\n",
    "мент, несмотря на сегодняшние дискуссии, является благоприятным для завершения маневра и создания\n",
    "действенных стимулов к повышению эффективности работы отечественных нефтеперерабатывающих\n",
    "предприятий. Основным риском на этом пути являются конкретные параметры реформы, в частности –\n",
    "величина субсидии НПЗ, механизм ее распределения и сроки предоставления.\n",
    "- [НАЛОГОВЫЙ МАНЕВР В НЕФТЯНОЙ ОТРАСЛИ: РИСКИ «РУЧНОГО РЕГУЛИРОВАНИЯ» (2019)](https://cyberleninka.ru/article/n/nalogovyi-manevr-v-neftyanoi-otrasli-riski-ruchnogo-regulirovaniya)\n",
    "    - Срок действия соглашения между ФАС, Минэнерго России и нефтяными компаниями о заморозке цен\n",
    "на бензин и дизельное топливо истек 1 июля 2019 г. Предполагается, что в дальнейшем рост цен в\n",
    "пределах инфляции должен будет обеспечивать демпфирующий механизм, параметры которого до\n",
    "конца не определены. Затягивание с принятием решения по этому вопросу, тем более на фоне потенци-\n",
    "ального ухудшения макроэкономических условий, может создать риск укоренения практики «ручного\n",
    "регулирования» и заморозки цен 1 .\n",
    "- [ЗАМОРОЗКА ЦЕН НА НЕФТЕПРОДУКТЫ – ОСТАНОВКА НАЛОГОВОГО МАНЕВРА? (2019)](https://cyberleninka.ru/article/n/zamorozka-tsen-na-nefteprodukty-ostanovka-nalogovogo-manevra)\n",
    "    - В ноябре 2018 г. между нефтяными компаниями, ФАС и Минэнерго России было заключено соглашение\n",
    "о заморозке цен на нефтяное топливо до марта 2019 г., что может стать потенциальным препятствием для\n",
    "реализации завершающих мер налогового регулирования в нефтяной отрасли. Текущая конфигурация\n",
    "параметров налогового маневра в совокупности с заморозкой розничных цен на нефтепродукты не\n",
    "является оптимальной с точки зрения выгод и издержек для всех участников рынка: государства, нефтя-\n",
    "ных компаний, потребителей."
   ]
  },
  {
   "cell_type": "code",
   "execution_count": null,
   "metadata": {
    "ExecuteTime": {
     "end_time": "2019-09-18T09:18:28.116844Z",
     "start_time": "2019-09-18T09:18:28.114264Z"
    }
   },
   "outputs": [],
   "source": [
    "russia_data_2 = russia_data.copy()"
   ]
  },
  {
   "cell_type": "code",
   "execution_count": null,
   "metadata": {
    "ExecuteTime": {
     "end_time": "2019-09-18T09:02:55.293341Z",
     "start_time": "2019-09-18T09:02:55.291233Z"
    }
   },
   "outputs": [],
   "source": [
    "# russia_data_2['Глубина переработки, %'] = russia_data_2['Глубина переработки, %'].fillna(0)"
   ]
  },
  {
   "cell_type": "code",
   "execution_count": null,
   "metadata": {
    "ExecuteTime": {
     "end_time": "2019-09-18T08:53:47.475470Z",
     "start_time": "2019-09-18T08:53:47.473398Z"
    }
   },
   "outputs": [],
   "source": [
    "# current_cmap = matplotlib.cm.get_cmap('viridis')\n",
    "# current_cmap.set_bad(color='grey')"
   ]
  },
  {
   "cell_type": "code",
   "execution_count": null,
   "metadata": {
    "ExecuteTime": {
     "end_time": "2019-09-18T08:53:48.264611Z",
     "start_time": "2019-09-18T08:53:48.256941Z"
    }
   },
   "outputs": [],
   "source": [
    "viridis = cm.get_cmap('viridis', 256)\n",
    "newcolors = viridis(np.linspace(1, 0, 256))\n",
    "grey = np.array([192/256, 192/256, 192/256, 1])\n",
    "newcolors[:1, :] = grey\n",
    "newcmp = ListedColormap(newcolors)"
   ]
  },
  {
   "cell_type": "markdown",
   "metadata": {},
   "source": [
    "[working with projections](https://residentmario.github.io/geoplot/user_guide/Working_with_Projections.html)"
   ]
  },
  {
   "cell_type": "code",
   "execution_count": null,
   "metadata": {
    "ExecuteTime": {
     "end_time": "2019-09-18T08:54:01.128789Z",
     "start_time": "2019-09-18T08:54:01.126614Z"
    }
   },
   "outputs": [],
   "source": [
    "# gplt.polyplot(russia_data_2);"
   ]
  },
  {
   "cell_type": "code",
   "execution_count": null,
   "metadata": {
    "ExecuteTime": {
     "end_time": "2019-09-18T08:54:04.676535Z",
     "start_time": "2019-09-18T08:54:04.674307Z"
    }
   },
   "outputs": [],
   "source": [
    "# gplt.polyplot(russia_data_2, projection=gcrs.AlbersEqualArea());"
   ]
  },
  {
   "cell_type": "code",
   "execution_count": null,
   "metadata": {
    "ExecuteTime": {
     "end_time": "2019-09-18T08:54:07.558390Z",
     "start_time": "2019-09-18T08:54:07.556270Z"
    }
   },
   "outputs": [],
   "source": [
    "\n",
    "# f, axarr = plt.subplots(1, 2, figsize=(40, 20), subplot_kw={\n",
    "#     'projection': proj\n",
    "# })\n",
    "\n",
    "# gplt.polyplot(russia_data_2, projection=proj, ax=axarr[0])\n",
    "# gplt.polyplot(russia_data_2, projection=proj, ax=axarr[1]);"
   ]
  },
  {
   "cell_type": "code",
   "execution_count": null,
   "metadata": {
    "ExecuteTime": {
     "end_time": "2019-09-16T00:47:04.260038Z",
     "start_time": "2019-09-16T00:47:04.257951Z"
    }
   },
   "outputs": [],
   "source": [
    "# from mpl_toolkits.axes_grid1 import make_axes_locatable, axes_size"
   ]
  },
  {
   "cell_type": "code",
   "execution_count": null,
   "metadata": {
    "ExecuteTime": {
     "end_time": "2019-09-18T08:54:56.448051Z",
     "start_time": "2019-09-18T08:54:53.513397Z"
    }
   },
   "outputs": [],
   "source": [
    "proj = gcrs.AlbersEqualArea(central_longitude=94, central_latitude=60)\n",
    "\n",
    "gplt.choropleth(\n",
    "    russia_data_2, hue='Глубина переработки, %',\n",
    "    cmap=newcmp, linewidth=0.5, edgecolor='white', k=None, legend=True,  #legend_kwargs={'size':3},\n",
    "    projection=proj\n",
    ");"
   ]
  },
  {
   "cell_type": "code",
   "execution_count": null,
   "metadata": {
    "ExecuteTime": {
     "end_time": "2019-09-16T08:03:43.328799Z",
     "start_time": "2019-09-16T08:03:43.324502Z"
    }
   },
   "outputs": [],
   "source": [
    "russia_data_2['Глубина переработки, %'][russia_data_2['Глубина переработки, %'] > 95]"
   ]
  },
  {
   "cell_type": "code",
   "execution_count": null,
   "metadata": {
    "ExecuteTime": {
     "end_time": "2019-09-16T08:12:15.232000Z",
     "start_time": "2019-09-16T08:12:15.228362Z"
    }
   },
   "outputs": [],
   "source": [
    "russia_data_2['Глубина переработки, %'].mean()"
   ]
  },
  {
   "cell_type": "code",
   "execution_count": null,
   "metadata": {
    "ExecuteTime": {
     "end_time": "2019-09-16T08:06:10.695875Z",
     "start_time": "2019-09-16T08:06:10.690530Z"
    }
   },
   "outputs": [],
   "source": [
    "russia_data_2['Глубина переработки, %'][russia_data_2['Глубина переработки, %'] < 60]"
   ]
  },
  {
   "cell_type": "code",
   "execution_count": null,
   "metadata": {
    "ExecuteTime": {
     "end_time": "2019-09-18T09:19:27.807644Z",
     "start_time": "2019-09-18T09:19:27.802677Z"
    }
   },
   "outputs": [],
   "source": [
    "replce10 =  russia_data_2['Глубина переработки, %'].min() - (russia_data_2['Глубина переработки, %'].max() - russia_data_2['Глубина переработки, %'].min())*0.01 * 0.9\n",
    "russia_data_2['Глубина переработки, %'] = russia_data_2['Глубина переработки, %'].fillna(replce10)\n",
    "replce10"
   ]
  },
  {
   "cell_type": "code",
   "execution_count": null,
   "metadata": {
    "ExecuteTime": {
     "end_time": "2019-09-18T09:19:32.078646Z",
     "start_time": "2019-09-18T09:19:28.802031Z"
    }
   },
   "outputs": [],
   "source": [
    "proj = gcrs.AlbersEqualArea(central_longitude=94, central_latitude=60)\n",
    "\n",
    "f, axarr = plt.subplots(1, 1, figsize=(100, 20), subplot_kw={\n",
    "    'projection': proj\n",
    "})\n",
    "\n",
    "f.subplots_adjust(wspace=0)\n",
    "\n",
    "gplt.choropleth(\n",
    "    russia_data_2, hue='Глубина переработки, %',\n",
    "    cmap=newcmp, linewidth=0.8, edgecolor='white', k=None,  \n",
    "    projection=proj,  ax=axarr\n",
    ")\n",
    "\n",
    "sm = plt.cm.ScalarMappable(cmap=newcmp)\n",
    "sm._A = []\n",
    "\n",
    "cbar = plt.colorbar(sm,  fraction=0.003, pad = -0.04, ticks=[0, 0.5, 1]) #orientation='horizontal',\n",
    "cbar.ax.set_yticklabels([ '50 %', '75 %', '100 %'])  \n",
    "# cbar.set_label(r'$\\zeta\\ [s^{-1}]$', fontsize=16)\n",
    "cbar.ax.tick_params(labelsize=40)\n",
    "\n",
    "# gplt.choropleth(\n",
    "#     russia_data_2, hue='Глубина переработки, %',\n",
    "#     cmap=newcmp, linewidth=0.5, edgecolor='white', k=None,  legend = False,  #legend_kwargs={'size':3},\n",
    "#     projection=proj,  ax=axarr[1] \n",
    "    \n",
    "# )\n",
    "# plt.savefig('foo1.png')"
   ]
  },
  {
   "cell_type": "code",
   "execution_count": null,
   "metadata": {
    "ExecuteTime": {
     "end_time": "2019-09-16T00:54:01.657761Z",
     "start_time": "2019-09-16T00:54:01.651188Z"
    }
   },
   "outputs": [],
   "source": [
    "russia_data_2.columns"
   ]
  },
  {
   "cell_type": "code",
   "execution_count": null,
   "metadata": {
    "ExecuteTime": {
     "end_time": "2019-09-13T15:04:52.844017Z",
     "start_time": "2019-09-13T15:04:52.836466Z"
    }
   },
   "outputs": [],
   "source": [
    "# import seaborn as sns\n",
    "# cmap = sns.diverging_palette(130, 10)"
   ]
  },
  {
   "cell_type": "code",
   "execution_count": null,
   "metadata": {
    "ExecuteTime": {
     "end_time": "2019-09-16T00:54:17.331884Z",
     "start_time": "2019-09-16T00:54:14.605594Z"
    }
   },
   "outputs": [],
   "source": [
    "gplt.choropleth(\n",
    "    russia_data_2, hue=colnameee,\n",
    "    cmap=newcmp, linewidth=0.5, edgecolor='white', k=None, legend=True,  #legend_kwargs={'size':3},\n",
    "    projection=proj\n",
    ")"
   ]
  },
  {
   "cell_type": "code",
   "execution_count": null,
   "metadata": {
    "ExecuteTime": {
     "end_time": "2019-09-16T00:55:08.140762Z",
     "start_time": "2019-09-16T00:55:08.136918Z"
    }
   },
   "outputs": [],
   "source": [
    "# russia_data_2['Выход светлых нефтепродуктов, %'][russia_data_2['Выход светлых нефтепродуктов, %']<60]"
   ]
  },
  {
   "cell_type": "code",
   "execution_count": null,
   "metadata": {
    "ExecuteTime": {
     "end_time": "2019-09-18T09:19:54.648843Z",
     "start_time": "2019-09-18T09:19:54.645570Z"
    }
   },
   "outputs": [],
   "source": [
    "colnameee = 'Выход светлых нефтепродуктов, %'\n",
    "m1 = russia_data_2[colnameee].max()\n",
    "m0 = russia_data_2[colnameee].min()\n",
    "m05 = (m1+m0)/2"
   ]
  },
  {
   "cell_type": "code",
   "execution_count": null,
   "metadata": {
    "ExecuteTime": {
     "end_time": "2019-09-18T09:20:01.911240Z",
     "start_time": "2019-09-18T09:20:01.908649Z"
    }
   },
   "outputs": [],
   "source": [
    "russia_data_2 = russia_data.copy()"
   ]
  },
  {
   "cell_type": "code",
   "execution_count": null,
   "metadata": {
    "ExecuteTime": {
     "end_time": "2019-09-18T09:01:47.161477Z",
     "start_time": "2019-09-18T09:01:47.158480Z"
    },
    "scrolled": true
   },
   "outputs": [],
   "source": [
    "m0, m1, m05"
   ]
  },
  {
   "cell_type": "code",
   "execution_count": null,
   "metadata": {
    "ExecuteTime": {
     "end_time": "2019-09-18T09:01:48.013015Z",
     "start_time": "2019-09-18T09:01:47.987156Z"
    }
   },
   "outputs": [],
   "source": [
    "russia_data_2[russia_data_2[colnameee] > 68]"
   ]
  },
  {
   "cell_type": "code",
   "execution_count": null,
   "metadata": {
    "ExecuteTime": {
     "end_time": "2019-09-18T09:01:48.813632Z",
     "start_time": "2019-09-18T09:01:48.810589Z"
    }
   },
   "outputs": [],
   "source": [
    "russia_data_2[colnameee].mean()"
   ]
  },
  {
   "cell_type": "code",
   "execution_count": null,
   "metadata": {
    "ExecuteTime": {
     "end_time": "2019-09-18T09:11:00.057584Z",
     "start_time": "2019-09-18T09:11:00.049214Z"
    },
    "scrolled": true
   },
   "outputs": [],
   "source": [
    "russia_data_2[russia_data_2[colnameee] < 55].loc[:,['NL_NAME_1', colnameee]]"
   ]
  },
  {
   "cell_type": "code",
   "execution_count": null,
   "metadata": {
    "ExecuteTime": {
     "end_time": "2019-09-18T09:01:50.595085Z",
     "start_time": "2019-09-18T09:01:50.593204Z"
    }
   },
   "outputs": [],
   "source": [
    "# import seaborn as sns\n",
    "# cmap = sns.diverging_palette(130, 10)"
   ]
  },
  {
   "cell_type": "code",
   "execution_count": null,
   "metadata": {
    "ExecuteTime": {
     "end_time": "2019-09-18T09:17:40.268181Z",
     "start_time": "2019-09-18T09:17:40.265512Z"
    }
   },
   "outputs": [],
   "source": [
    "russia_data_2 = russia_data.copy()"
   ]
  },
  {
   "cell_type": "code",
   "execution_count": null,
   "metadata": {
    "ExecuteTime": {
     "end_time": "2019-09-18T09:21:23.433824Z",
     "start_time": "2019-09-18T09:21:23.428521Z"
    }
   },
   "outputs": [],
   "source": [
    "replce10 = russia_data_2[colnameee].min() - (russia_data_2[colnameee].max() - russia_data_2[colnameee].min()) * 0.01\n",
    "russia_data_2[colnameee] = russia_data_2[colnameee].fillna(replce10)\n",
    "replce10"
   ]
  },
  {
   "cell_type": "code",
   "execution_count": null,
   "metadata": {
    "ExecuteTime": {
     "end_time": "2019-09-18T09:21:26.990518Z",
     "start_time": "2019-09-18T09:21:26.988276Z"
    }
   },
   "outputs": [],
   "source": [
    "# russia_data_2.loc[0,colnameee] = replce10"
   ]
  },
  {
   "cell_type": "code",
   "execution_count": null,
   "metadata": {
    "ExecuteTime": {
     "end_time": "2019-09-18T09:21:31.293120Z",
     "start_time": "2019-09-18T09:21:27.939086Z"
    }
   },
   "outputs": [],
   "source": [
    "proj = gcrs.AlbersEqualArea(central_longitude=94, central_latitude=60)\n",
    "\n",
    "f, axarr = plt.subplots(1, 1, figsize=(100, 20), subplot_kw={\n",
    "    'projection': proj\n",
    "})\n",
    "\n",
    "f.subplots_adjust(wspace=0)\n",
    "\n",
    "gplt.choropleth(\n",
    "    russia_data_2, hue=colnameee,\n",
    "    cmap=newcmp, linewidth=0.8, edgecolor='white', k=None,  \n",
    "    projection=proj,  ax=axarr\n",
    ")\n",
    "\n",
    "sm = plt.cm.ScalarMappable(cmap=newcmp)\n",
    "sm._A = []\n",
    "\n",
    "cbar = plt.colorbar(sm,  fraction=0.003, pad = -0.04, ticks=[0, 0.5, 1]) #orientation='horizontal',\n",
    "cbar.ax.set_yticklabels([ '50 %', '60 %', '70 %'])  \n",
    "# cbar.set_label(r'$\\zeta\\ [s^{-1}]$', fontsize=16)\n",
    "cbar.ax.tick_params(labelsize=40)\n",
    "\n",
    "# gplt.choropleth(\n",
    "#     russia_data_2, hue='Глубина переработки, %',\n",
    "#     cmap=newcmp, linewidth=0.5, edgecolor='white', k=None,  legend = False,  #legend_kwargs={'size':3},\n",
    "#     projection=proj,  ax=axarr[1] \n",
    "    \n",
    "# )\n",
    "# plt.savefig('foo1.png')"
   ]
  },
  {
   "cell_type": "code",
   "execution_count": null,
   "metadata": {
    "ExecuteTime": {
     "end_time": "2019-09-18T09:01:55.354081Z",
     "start_time": "2019-09-18T09:01:55.351050Z"
    },
    "scrolled": true
   },
   "outputs": [],
   "source": [
    "russia_data_2.columns"
   ]
  },
  {
   "cell_type": "code",
   "execution_count": null,
   "metadata": {
    "ExecuteTime": {
     "end_time": "2019-09-18T09:21:57.479063Z",
     "start_time": "2019-09-18T09:21:57.477100Z"
    }
   },
   "outputs": [],
   "source": [
    "colnameee = 'Индекс Нельсона'"
   ]
  },
  {
   "cell_type": "code",
   "execution_count": null,
   "metadata": {
    "ExecuteTime": {
     "end_time": "2019-09-18T09:21:58.447643Z",
     "start_time": "2019-09-18T09:21:58.423658Z"
    }
   },
   "outputs": [],
   "source": [
    "russia_data_2[russia_data_2[colnameee] > 8]"
   ]
  },
  {
   "cell_type": "code",
   "execution_count": null,
   "metadata": {
    "ExecuteTime": {
     "end_time": "2019-09-18T09:21:59.203937Z",
     "start_time": "2019-09-18T09:21:59.200754Z"
    }
   },
   "outputs": [],
   "source": [
    "russia_data_2[colnameee].mean()"
   ]
  },
  {
   "cell_type": "code",
   "execution_count": null,
   "metadata": {
    "ExecuteTime": {
     "end_time": "2019-09-18T09:22:00.205202Z",
     "start_time": "2019-09-18T09:21:59.946601Z"
    }
   },
   "outputs": [],
   "source": [
    "russia_data_2[russia_data_2[colnameee] < 1.5]"
   ]
  },
  {
   "cell_type": "code",
   "execution_count": null,
   "metadata": {},
   "outputs": [],
   "source": []
  },
  {
   "cell_type": "code",
   "execution_count": null,
   "metadata": {
    "ExecuteTime": {
     "end_time": "2019-09-16T01:03:03.024547Z",
     "start_time": "2019-09-16T01:03:00.284410Z"
    }
   },
   "outputs": [],
   "source": [
    "gplt.choropleth(\n",
    "    russia_data_2, hue=colnameee,\n",
    "    cmap=newcmp, linewidth=0.5, edgecolor='white', k=None, legend=True,  #legend_kwargs={'size':3},\n",
    "    projection=proj\n",
    ");"
   ]
  },
  {
   "cell_type": "code",
   "execution_count": null,
   "metadata": {
    "ExecuteTime": {
     "end_time": "2019-09-16T01:03:11.281323Z",
     "start_time": "2019-09-16T01:03:11.279149Z"
    }
   },
   "outputs": [],
   "source": [
    "# russia_data_2['Выход светлых нефтепродуктов, %'][russia_data_2['Выход светлых нефтепродуктов, %']<60]"
   ]
  },
  {
   "cell_type": "code",
   "execution_count": null,
   "metadata": {
    "ExecuteTime": {
     "end_time": "2019-09-18T09:22:05.343333Z",
     "start_time": "2019-09-18T09:22:05.340531Z"
    }
   },
   "outputs": [],
   "source": [
    "m1 = russia_data_2[colnameee].max()\n",
    "m0 = russia_data_2[colnameee].min()\n",
    "m05 = (m1+m0)/2"
   ]
  },
  {
   "cell_type": "code",
   "execution_count": null,
   "metadata": {
    "ExecuteTime": {
     "end_time": "2019-09-16T01:04:08.540339Z",
     "start_time": "2019-09-16T01:04:08.535210Z"
    }
   },
   "outputs": [],
   "source": []
  },
  {
   "cell_type": "code",
   "execution_count": null,
   "metadata": {
    "ExecuteTime": {
     "end_time": "2019-09-18T09:22:12.272232Z",
     "start_time": "2019-09-18T09:22:12.267098Z"
    }
   },
   "outputs": [],
   "source": [
    "replce10 = russia_data_2[colnameee].min() - (russia_data_2[colnameee].max() - russia_data_2[colnameee].min()) * 0.01\n",
    "russia_data_2[colnameee] = russia_data_2[colnameee].fillna(replce10)\n",
    "replce10"
   ]
  },
  {
   "cell_type": "code",
   "execution_count": null,
   "metadata": {
    "ExecuteTime": {
     "end_time": "2019-09-18T09:22:16.881169Z",
     "start_time": "2019-09-18T09:22:13.208077Z"
    },
    "scrolled": true
   },
   "outputs": [],
   "source": [
    "proj = gcrs.AlbersEqualArea(central_longitude=94, central_latitude=60)\n",
    "\n",
    "f, axarr = plt.subplots(1, 1, figsize=(100, 20), subplot_kw={\n",
    "    'projection': proj\n",
    "})\n",
    "\n",
    "f.subplots_adjust(wspace=0)\n",
    "\n",
    "gplt.choropleth(\n",
    "    russia_data_2, hue=colnameee,\n",
    "    cmap=newcmp, linewidth=0.8, edgecolor='white', k=None,  \n",
    "    projection=proj,  ax=axarr\n",
    ")\n",
    "\n",
    "sm = plt.cm.ScalarMappable(cmap=newcmp)\n",
    "sm._A = []\n",
    "\n",
    "cbar = plt.colorbar(sm,  fraction=0.003, pad = -0.04, ticks=[0, 0.5, 1]) #orientation='horizontal',\n",
    "cbar.ax.set_yticklabels([m0, m05,  m1])  \n",
    "# cbar.set_label(r'$\\zeta\\ [s^{-1}]$', fontsize=16)\n",
    "cbar.ax.tick_params(labelsize=40)\n",
    "\n",
    "# gplt.choropleth(\n",
    "#     russia_data_2, hue='Глубина переработки, %',\n",
    "#     cmap=newcmp, linewidth=0.5, edgecolor='white', k=None,  legend = False,  #legend_kwargs={'size':3},\n",
    "#     projection=proj,  ax=axarr[1] \n",
    "    \n",
    "# )\n",
    "# plt.savefig('foo1.png')"
   ]
  },
  {
   "cell_type": "code",
   "execution_count": null,
   "metadata": {
    "ExecuteTime": {
     "end_time": "2019-09-16T01:02:52.445641Z",
     "start_time": "2019-09-16T01:02:52.442074Z"
    },
    "scrolled": true
   },
   "outputs": [],
   "source": [
    "russia_data_2.columns"
   ]
  },
  {
   "cell_type": "code",
   "execution_count": null,
   "metadata": {
    "ExecuteTime": {
     "end_time": "2019-09-18T09:23:31.265660Z",
     "start_time": "2019-09-18T09:23:31.263693Z"
    }
   },
   "outputs": [],
   "source": [
    "colnameee = 'ИК'"
   ]
  },
  {
   "cell_type": "code",
   "execution_count": null,
   "metadata": {
    "ExecuteTime": {
     "end_time": "2019-09-18T09:23:32.198355Z",
     "start_time": "2019-09-18T09:23:32.174552Z"
    }
   },
   "outputs": [],
   "source": [
    "russia_data_2[russia_data_2[colnameee] > 160]"
   ]
  },
  {
   "cell_type": "code",
   "execution_count": null,
   "metadata": {
    "ExecuteTime": {
     "end_time": "2019-09-18T09:23:32.937533Z",
     "start_time": "2019-09-18T09:23:32.934019Z"
    }
   },
   "outputs": [],
   "source": [
    "russia_data_2[colnameee].mean()"
   ]
  },
  {
   "cell_type": "code",
   "execution_count": null,
   "metadata": {
    "ExecuteTime": {
     "end_time": "2019-09-18T09:23:33.821477Z",
     "start_time": "2019-09-18T09:23:33.725341Z"
    }
   },
   "outputs": [],
   "source": [
    "russia_data_2[russia_data_2[colnameee] < 20]"
   ]
  },
  {
   "cell_type": "code",
   "execution_count": null,
   "metadata": {
    "ExecuteTime": {
     "end_time": "2019-09-18T09:23:40.132424Z",
     "start_time": "2019-09-18T09:23:37.325121Z"
    }
   },
   "outputs": [],
   "source": [
    "gplt.choropleth(\n",
    "    russia_data_2, hue=colnameee,\n",
    "    cmap=newcmp, linewidth=0.5, edgecolor='white', k=None, legend=True,  #legend_kwargs={'size':3},\n",
    "    projection=proj\n",
    ");"
   ]
  },
  {
   "cell_type": "code",
   "execution_count": null,
   "metadata": {
    "ExecuteTime": {
     "end_time": "2019-09-18T09:23:40.931117Z",
     "start_time": "2019-09-18T09:23:40.929325Z"
    }
   },
   "outputs": [],
   "source": [
    "# russia_data_2['Выход светлых нефтепродуктов, %'][russia_data_2['Выход светлых нефтепродуктов, %']<60]"
   ]
  },
  {
   "cell_type": "code",
   "execution_count": null,
   "metadata": {
    "ExecuteTime": {
     "end_time": "2019-09-18T09:23:41.726573Z",
     "start_time": "2019-09-18T09:23:41.723837Z"
    }
   },
   "outputs": [],
   "source": [
    "m1 = russia_data_2[colnameee].max()\n",
    "m0 = russia_data_2[colnameee].min()\n",
    "m05 = (m1+m0)/2"
   ]
  },
  {
   "cell_type": "code",
   "execution_count": null,
   "metadata": {
    "ExecuteTime": {
     "end_time": "2019-09-18T09:23:42.500419Z",
     "start_time": "2019-09-18T09:23:42.497766Z"
    }
   },
   "outputs": [],
   "source": [
    "m0, m05,  m1"
   ]
  },
  {
   "cell_type": "code",
   "execution_count": null,
   "metadata": {
    "ExecuteTime": {
     "end_time": "2019-09-18T09:23:43.263411Z",
     "start_time": "2019-09-18T09:23:43.259701Z"
    }
   },
   "outputs": [],
   "source": [
    "viridis = cm.get_cmap('viridis', 256)\n",
    "newcolors = viridis(np.linspace(0, 1, 256))\n",
    "grey = np.array([192/256, 192/256, 192/256, 1])\n",
    "newcolors[:1, :] = grey\n",
    "backcmp = ListedColormap(newcolors)"
   ]
  },
  {
   "cell_type": "code",
   "execution_count": null,
   "metadata": {
    "ExecuteTime": {
     "end_time": "2019-09-18T09:23:48.488850Z",
     "start_time": "2019-09-18T09:23:48.484005Z"
    }
   },
   "outputs": [],
   "source": [
    "replce10 = russia_data_2[colnameee].min() - (russia_data_2[colnameee].max() - russia_data_2[colnameee].min()) * 0.01\n",
    "russia_data_2[colnameee] = russia_data_2[colnameee].fillna(replce10)\n",
    "replce10"
   ]
  },
  {
   "cell_type": "code",
   "execution_count": null,
   "metadata": {
    "ExecuteTime": {
     "end_time": "2019-09-18T09:23:52.756968Z",
     "start_time": "2019-09-18T09:23:49.433133Z"
    },
    "scrolled": true
   },
   "outputs": [],
   "source": [
    "proj = gcrs.AlbersEqualArea(central_longitude=94, central_latitude=60)\n",
    "\n",
    "f, axarr = plt.subplots(1, 1, figsize=(100, 20), subplot_kw={\n",
    "    'projection': proj\n",
    "})\n",
    "\n",
    "f.subplots_adjust(wspace=0)\n",
    "\n",
    "gplt.choropleth(\n",
    "    russia_data_2, hue=colnameee,\n",
    "    cmap=backcmp, linewidth=0.8, edgecolor='white', k=None,  \n",
    "    projection=proj,  ax=axarr\n",
    ")\n",
    "\n",
    "sm = plt.cm.ScalarMappable(cmap=newcmp)\n",
    "sm._A = []\n",
    "\n",
    "cbar = plt.colorbar(sm,  fraction=0.003, pad = -0.04, ticks=[0, 0.5, 1]) #orientation='horizontal',\n",
    "cbar.ax.set_yticklabels([180, 90, 5])  \n",
    "# cbar.set_label(r'$\\zeta\\ [s^{-1}]$', fontsize=16)\n",
    "cbar.ax.tick_params(labelsize=40)\n",
    "\n",
    "# gplt.choropleth(\n",
    "#     russia_data_2, hue='Глубина переработки, %',\n",
    "#     cmap=newcmp, linewidth=0.5, edgecolor='white', k=None,  legend = False,  #legend_kwargs={'size':3},\n",
    "#     projection=proj,  ax=axarr[1] \n",
    "    \n",
    "# )\n",
    "# plt.savefig('foo1.png')"
   ]
  },
  {
   "cell_type": "markdown",
   "metadata": {},
   "source": [
    "### Отношение между объемом запасов и объемом добычи."
   ]
  },
  {
   "cell_type": "markdown",
   "metadata": {},
   "source": [
    "- [ЗА 1970-2007: ДОБЫЧА НЕФТИ, ВКЛЮЧАЯ ГАЗОВЫЙ КОНДЕНСАТ, ПО СУБЪЕКТАМ РОССИЙСКОЙ ФЕДЕРАЦИИ](http://www.gks.ru/bgd/regl/b08_13/IssWWW.exe/Stg/d3/13-27.htm), [1970-2005](https://uisrussia.msu.ru/stat/Publications/Ejeg2006/Ejeg2006_13_/Ejeg2006_13_290.htm?lang=ru)\n",
    "- [О СОСТОЯНИИ И ИСПОЛЬЗОВАНИИ МИНЕРАЛЬНО-СЫРЬЕВЫХ РЕСУРСОВ РОССИЙСКОЙ ФЕДЕРАЦИИ В 2015 ГОДУ](http://www.mnr.gov.ru/upload/iblock/5ef/2015_msr.pdf)\n",
    "- [Use of Statistical Indicators to Measure Crude Oil and Natural Gas Reserves and Production ](http://www.upg-bulletin-se.ro/archive/2014-1/5.Lazar_Lazar.pdf)\n",
    "\n",
    "- [Нефть-2017: итоги,тенденции, прогнозы](http://www.ngv.ru/upload/iblock/939/93972e1f25fa9b33508ca6c348e8614b.pdf)\n",
    "\n",
    "- [Нефтегазовый комплекс России –2017. ](http://www.ipgg.sbras.ru/ru/files/orgunits/energyreport/petroleum-industry-russia-2017.pdf)\n",
    "\n",
    "- [Мировые  тенденции  геологоразведочных работ на нефть и газ](https://www.imemo.ru/files/File/ru/conf/2018/21122018/PREZ/01-17-Milovidov.pdf)\n",
    "\n",
    "Описание показателя:\n",
    "\n",
    "\n",
    "Запасы нефти:\n",
    "\n",
    "- [Дагестан](https://cyberleninka.ru/article/v/otsenka-eksportnogo-potentsiala-neftegazodobyvayuschey-otrasli-respubliki-dagestan)\n",
    "- [Калмыкия](https://cyberleninka.ru/article/v/razvitie-neftegazovogo-kompleksa-respubliki-kalmykiya-sostoyanie-i-perspektivy)\n",
    "- [Омская](http://mpr.omskportal.ru/ru/RegionalPublicAuthorities/executivelist/MPR/pravaya-kolonka/ecopasport/PageContent/0/body_files/file21/%D0%A0%D0%B0%D0%B7%D0%B4%D0%B5%D0%BB%207.%20%D0%9C%D0%98%D0%9D%D0%95%D0%A0%D0%90%D0%9B%D0%AC%D0%9D%D0%9E-%D0%A1%D0%AB%D0%A0%D0%AC%D0%95%D0%92%D0%AB%D0%95%20%D0%A0%D0%95%D0%A1%D0%A3%D0%A0%D0%A1%D0%AB.%20%D0%9C%D0%98%D0%9D%D0%95%D0%A0%D0%90%D0%9B%D0%AC%D0%9D%D0%9E-%D0%A1%D0%AB%D0%A0%D0%AC%D0%95%D0%92%D0%AB%D0%95%20%D0%A0%D0%95%D0%A1%D0%A3%D0%A0%D0%A1%D0%AB.%20%D0%9C%D0%98%D0%9D%D0%95%D0%A0%D0%90%D0%9B%D0%AC%D0%9D%D0%9E-%D0%A1%D0%AB%D0%A0%D0%AC%D0%95%D0%92%D0%AB%D0%95%20%D0%A0%D0%95%D0%A1%D0%A3%D0%A0%D0%A1%D0%AB.pdf)\n",
    "- Ингушетия  — экологический паспорт\n",
    "- [Крым](https://tass.ru/ekonomika/1094468)\n",
    "- [Грозненские месторождения Роснефть](https://ru.wikipedia.org/wiki/%D0%A1%D0%BF%D0%B8%D1%81%D0%BE%D0%BA_%D0%BD%D0%B5%D1%84%D1%82%D1%8F%D0%BD%D1%8B%D1%85_%D0%BC%D0%B5%D1%81%D1%82%D0%BE%D1%80%D0%BE%D0%B6%D0%B4%D0%B5%D0%BD%D0%B8%D0%B9_%D0%A0%D0%BE%D1%81%D1%81%D0%B8%D0%B8)\n",
    "- [Краснодар](http://geolike.ru/page/gl_3671.htm)\n",
    "    - Еще в 2014 г Министерство экономики Краснодарского края сообщало, что в регионе запасы сырья извлекли на 98,5%.\n",
    "- [Волгоградская область](http://www.vestnik.vsu.ru/pdf/geograph/2014/02/2014-02-06.pdf)\n",
    "- [Калининградская область](https://gov39.ru/region/natural.php)\n",
    "- [Кировская область](https://nature.kirovreg.ru/ecology/nedropolzovanie/mineralno-syrevaya-baza-kirovskoy-oblasti/)\n",
    "- [Новосибирская](https://ksonline.ru/238048/neftyanaya-promyshlennost-v-novosibirskoj-oblasti-prodolzhaet-razvivatsya/)\n",
    "- [Пензенская](https://catalogmineralov.ru/deposit/penzenskaya_oblast/)\n",
    "- [Cахалинская](https://cyberleninka.ru/article/v/neftegazovye-proekty-sahalinskoy-oblasti)\n",
    "\n",
    "\n"
   ]
  },
  {
   "cell_type": "code",
   "execution_count": null,
   "metadata": {
    "ExecuteTime": {
     "end_time": "2019-09-16T01:02:52.445641Z",
     "start_time": "2019-09-16T01:02:52.442074Z"
    },
    "scrolled": true
   },
   "outputs": [],
   "source": [
    "russia_data_2.columns"
   ]
  },
  {
   "cell_type": "code",
   "execution_count": null,
   "metadata": {
    "ExecuteTime": {
     "end_time": "2019-09-18T09:31:10.086998Z",
     "start_time": "2019-09-18T09:31:10.084572Z"
    }
   },
   "outputs": [],
   "source": [
    "colnameee = 'Кратность запасов нефти добыче'"
   ]
  },
  {
   "cell_type": "code",
   "execution_count": null,
   "metadata": {
    "ExecuteTime": {
     "end_time": "2019-09-18T09:31:11.025451Z",
     "start_time": "2019-09-18T09:31:11.018992Z"
    }
   },
   "outputs": [],
   "source": [
    "russia_data_2[colnameee][russia_data_2[colnameee]>200] = 200"
   ]
  },
  {
   "cell_type": "code",
   "execution_count": null,
   "metadata": {
    "ExecuteTime": {
     "end_time": "2019-09-18T09:31:11.844140Z",
     "start_time": "2019-09-18T09:31:11.842396Z"
    }
   },
   "outputs": [],
   "source": [
    "# russia_data_2[colnameee] = np.exp(russia_data_2[colnameee])"
   ]
  },
  {
   "cell_type": "code",
   "execution_count": null,
   "metadata": {
    "ExecuteTime": {
     "end_time": "2019-09-18T09:31:15.713437Z",
     "start_time": "2019-09-18T09:31:13.059904Z"
    }
   },
   "outputs": [],
   "source": [
    "gplt.choropleth(\n",
    "    russia_data_2, hue=colnameee,\n",
    "    cmap=newcmp, linewidth=0.5, edgecolor='white', k=None, legend=True,  #legend_kwargs={'size':3},\n",
    "    projection=proj\n",
    ");"
   ]
  },
  {
   "cell_type": "code",
   "execution_count": null,
   "metadata": {
    "ExecuteTime": {
     "end_time": "2019-09-18T09:31:16.501067Z",
     "start_time": "2019-09-18T09:31:16.499134Z"
    }
   },
   "outputs": [],
   "source": [
    "# russia_data_2['Выход светлых нефтепродуктов, %'][russia_data_2['Выход светлых нефтепродуктов, %']<60]"
   ]
  },
  {
   "cell_type": "code",
   "execution_count": null,
   "metadata": {
    "ExecuteTime": {
     "end_time": "2019-09-18T09:31:17.334843Z",
     "start_time": "2019-09-18T09:31:17.332170Z"
    }
   },
   "outputs": [],
   "source": [
    "m1 = russia_data_2[colnameee].max()\n",
    "m0 = russia_data_2[colnameee].min()\n",
    "m05 = (m1+m0)/2"
   ]
  },
  {
   "cell_type": "code",
   "execution_count": null,
   "metadata": {
    "ExecuteTime": {
     "end_time": "2019-09-18T09:31:18.182360Z",
     "start_time": "2019-09-18T09:31:18.178112Z"
    }
   },
   "outputs": [],
   "source": [
    "m0, m05,  m1"
   ]
  },
  {
   "cell_type": "code",
   "execution_count": null,
   "metadata": {
    "ExecuteTime": {
     "end_time": "2019-09-18T09:31:19.468475Z",
     "start_time": "2019-09-18T09:31:19.463723Z"
    }
   },
   "outputs": [],
   "source": [
    "replce10 = russia_data_2[colnameee].min() - (russia_data_2[colnameee].max() - russia_data_2[colnameee].min()) * 0.01\n",
    "russia_data_2[colnameee] = russia_data_2[colnameee].fillna(replce10)\n",
    "replce10"
   ]
  },
  {
   "cell_type": "code",
   "execution_count": null,
   "metadata": {
    "ExecuteTime": {
     "end_time": "2019-09-18T09:31:27.032392Z",
     "start_time": "2019-09-18T09:31:23.531801Z"
    },
    "scrolled": false
   },
   "outputs": [],
   "source": [
    "proj = gcrs.AlbersEqualArea(central_longitude=94, central_latitude=60)\n",
    "\n",
    "f, axarr = plt.subplots(1, 1, figsize=(100, 20), subplot_kw={\n",
    "    'projection': proj\n",
    "})\n",
    "\n",
    "f.subplots_adjust(wspace=0)\n",
    "\n",
    "gplt.choropleth(\n",
    "    russia_data_2, hue=colnameee,\n",
    "    cmap=newcmp, linewidth=0.8, edgecolor='white', k=None,  \n",
    "    projection=proj,  ax=axarr\n",
    ")\n",
    "\n",
    "sm = plt.cm.ScalarMappable(cmap=newcmp)\n",
    "sm._A = []\n",
    "\n",
    "cbar = plt.colorbar(sm,  fraction=0.003, pad = -0.04, ticks=[0, 0.5, 1]) #orientation='horizontal',\n",
    "cbar.ax.set_yticklabels([' 15', ' 100', ' > 200'])  \n",
    "# cbar.set_label(r'$\\zeta\\ [s^{-1}]$', fontsize=16)\n",
    "cbar.ax.tick_params(labelsize=40)\n",
    "\n",
    "# gplt.choropleth(\n",
    "#     russia_data_2, hue='Глубина переработки, %',\n",
    "#     cmap=newcmp, linewidth=0.5, edgecolor='white', k=None,  legend = False,  #legend_kwargs={'size':3},\n",
    "#     projection=proj,  ax=axarr[1] \n",
    "    \n",
    "# )\n",
    "# plt.savefig('foo1.png')"
   ]
  },
  {
   "cell_type": "markdown",
   "metadata": {},
   "source": [
    "### Цены на нефть и нефтепродукты"
   ]
  },
  {
   "cell_type": "markdown",
   "metadata": {},
   "source": [
    "- [Паспорт набора данных \"Интерактивная карта цен на нефтепродукты в России\"](http://fas.gov.ru/opendata/7703516539-petrolpricesmap)\n",
    "    - [табло](https://public.tableau.com/profile/fasanalytics#!/vizhome/_1206/sheet0)\n",
    "\n",
    "- [ЦБСД](http://www.gks.ru/dbscripts/cbsd/DBInet.cgi)\n",
    "\n",
    "\n",
    "Here are some important factors that affect crude oil prices.\n",
    "\n",
    "- Oil demand: Broadly affected by the state of the global economy, as more economic activity generally requires more energy. Recently, non-OECD (Organisation for Economic Co-operation and Development) nations have been consuming more and more oil as their economies grow and develop. Meanwhile, oil demand from OECD nations has been flat or falling because their economies are more mature and they’re further using other fuel sources such as renewables, nuclear, and natural gas.\n",
    "-   Oil supply: Affected by worldwide oil production. In recent years, oil production in the United States and Canada has increased greatly, which has added stability to global oil supply because production from other sources such as the North Sea has begun to decline. Additionally, OPEC (Organization of Petroleum Exporting Countries) plays a major role in setting global oil supply, as the member countries produce a significant portion of the world’s global oil. OPEC members also periodically convene to discuss optimal pricing and supply.\n",
    "-   Speculation: Speculation by market participants through instruments such as crude oil futures also plays a role in setting oil prices. For instance, regarding the extreme oil price volatility seen in 2008, when prices hit almost $ \\$ $ 150 per barrel at points, economist Thomas Palley stated, “The actual behavior of oil prices is consistent with speculation. In June, oil prices leapt by $ \\$ $ 11 in one day, and in July they fell back by $ \\$ $ 15 in three days. Such volatility does not fit a fundamentals-driven market.”\n",
    "\n"
   ]
  },
  {
   "cell_type": "code",
   "execution_count": null,
   "metadata": {
    "ExecuteTime": {
     "end_time": "2019-09-18T09:32:48.179637Z",
     "start_time": "2019-09-18T09:32:48.176315Z"
    }
   },
   "outputs": [],
   "source": [
    "russia_data.columns"
   ]
  },
  {
   "cell_type": "code",
   "execution_count": null,
   "metadata": {
    "ExecuteTime": {
     "end_time": "2019-09-18T09:32:49.164439Z",
     "start_time": "2019-09-18T09:32:49.161407Z"
    }
   },
   "outputs": [],
   "source": [
    "russia_data_3 = russia_data.copy()"
   ]
  },
  {
   "cell_type": "code",
   "execution_count": null,
   "metadata": {
    "ExecuteTime": {
     "end_time": "2019-09-18T09:32:53.989758Z",
     "start_time": "2019-09-18T09:32:53.987546Z"
    }
   },
   "outputs": [],
   "source": [
    "# russia_data_3.iloc[:,16:]"
   ]
  },
  {
   "cell_type": "code",
   "execution_count": null,
   "metadata": {
    "ExecuteTime": {
     "end_time": "2019-09-18T09:32:55.019489Z",
     "start_time": "2019-09-18T09:32:54.999981Z"
    }
   },
   "outputs": [],
   "source": [
    "russia_data_3.iloc[:,16:] = russia_data_3.iloc[:,16:].div(russia_data_3.iloc[:,16:].mean(axis=0))"
   ]
  },
  {
   "cell_type": "code",
   "execution_count": null,
   "metadata": {
    "ExecuteTime": {
     "end_time": "2019-09-18T09:32:55.875895Z",
     "start_time": "2019-09-18T09:32:55.871853Z"
    }
   },
   "outputs": [],
   "source": [
    "viridis = cm.get_cmap('RdYlBu', 256)\n",
    "newcolors = viridis(np.linspace(1, -1, 256))\n",
    "grey = np.array([192/256, 192/256, 192/256, 1])\n",
    "newcolors[:1, :] = grey\n",
    "rbcmp = ListedColormap(newcolors)"
   ]
  },
  {
   "cell_type": "code",
   "execution_count": null,
   "metadata": {
    "ExecuteTime": {
     "end_time": "2019-09-18T09:32:56.769444Z",
     "start_time": "2019-09-18T09:32:56.765204Z"
    },
    "scrolled": true
   },
   "outputs": [],
   "source": [
    "russia_data_3['Цены на бензин 2013']"
   ]
  },
  {
   "cell_type": "code",
   "execution_count": null,
   "metadata": {
    "ExecuteTime": {
     "end_time": "2019-09-18T09:32:57.683287Z",
     "start_time": "2019-09-18T09:32:57.680004Z"
    }
   },
   "outputs": [],
   "source": [
    "colnameee = 'Цены на бензин 2013'"
   ]
  },
  {
   "cell_type": "code",
   "execution_count": null,
   "metadata": {
    "ExecuteTime": {
     "end_time": "2019-09-18T09:33:01.519338Z",
     "start_time": "2019-09-18T09:32:58.845893Z"
    }
   },
   "outputs": [],
   "source": [
    "gplt.choropleth(\n",
    "    russia_data_3, hue=colnameee,\n",
    "    cmap=newcmp, linewidth=0.5, edgecolor='white', k=None, legend=True,  #legend_kwargs={'size':3},\n",
    "    projection=proj\n",
    ");"
   ]
  },
  {
   "cell_type": "code",
   "execution_count": null,
   "metadata": {
    "ExecuteTime": {
     "end_time": "2019-09-18T09:33:02.424962Z",
     "start_time": "2019-09-18T09:33:02.423096Z"
    }
   },
   "outputs": [],
   "source": [
    "# russia_data_2['Выход светлых нефтепродуктов, %'][russia_data_2['Выход светлых нефтепродуктов, %']<60]"
   ]
  },
  {
   "cell_type": "code",
   "execution_count": null,
   "metadata": {
    "ExecuteTime": {
     "end_time": "2019-09-18T09:33:03.283269Z",
     "start_time": "2019-09-18T09:33:03.280570Z"
    }
   },
   "outputs": [],
   "source": [
    "m1 = russia_data_2[colnameee].max()\n",
    "m0 = russia_data_2[colnameee].min()\n",
    "m05 = (m1+m0)/2"
   ]
  },
  {
   "cell_type": "code",
   "execution_count": null,
   "metadata": {
    "ExecuteTime": {
     "end_time": "2019-09-18T09:33:04.170539Z",
     "start_time": "2019-09-18T09:33:04.166828Z"
    }
   },
   "outputs": [],
   "source": [
    "m0, m05,  m1"
   ]
  },
  {
   "cell_type": "code",
   "execution_count": null,
   "metadata": {
    "ExecuteTime": {
     "end_time": "2019-09-18T09:33:05.048039Z",
     "start_time": "2019-09-18T09:33:05.044889Z"
    },
    "scrolled": true
   },
   "outputs": [],
   "source": [
    "russia_data_2.columns"
   ]
  },
  {
   "cell_type": "code",
   "execution_count": null,
   "metadata": {
    "ExecuteTime": {
     "end_time": "2019-09-18T09:33:05.910868Z",
     "start_time": "2019-09-18T09:33:05.909156Z"
    }
   },
   "outputs": [],
   "source": [
    "colnameee = 'Цены на бензин 2013'"
   ]
  },
  {
   "cell_type": "code",
   "execution_count": null,
   "metadata": {
    "ExecuteTime": {
     "end_time": "2019-09-16T02:07:01.432857Z",
     "start_time": "2019-09-16T02:06:58.620936Z"
    }
   },
   "outputs": [],
   "source": [
    "gplt.choropleth(\n",
    "    russia_data_2, hue=colnameee,\n",
    "    cmap=rbcmp, linewidth=0.5, edgecolor='white', k=None, legend=True,  #legend_kwargs={'size':3},\n",
    "    projection=proj\n",
    ");"
   ]
  },
  {
   "cell_type": "code",
   "execution_count": null,
   "metadata": {
    "ExecuteTime": {
     "end_time": "2019-09-18T09:33:11.466129Z",
     "start_time": "2019-09-18T09:33:11.460788Z"
    }
   },
   "outputs": [],
   "source": [
    "russia_data_3[colnameee][russia_data_3[colnameee] > 1.3] = 1.3"
   ]
  },
  {
   "cell_type": "code",
   "execution_count": null,
   "metadata": {
    "ExecuteTime": {
     "end_time": "2019-09-18T09:33:13.686195Z",
     "start_time": "2019-09-18T09:33:13.684187Z"
    }
   },
   "outputs": [],
   "source": [
    "# russia_data_2['Выход светлых нефтепродуктов, %'][russia_data_2['Выход светлых нефтепродуктов, %']<60]"
   ]
  },
  {
   "cell_type": "code",
   "execution_count": null,
   "metadata": {
    "ExecuteTime": {
     "end_time": "2019-09-18T09:33:14.955535Z",
     "start_time": "2019-09-18T09:33:14.950753Z"
    }
   },
   "outputs": [],
   "source": [
    "m1 = russia_data_3[colnameee].max()\n",
    "m0 = russia_data_3[colnameee].min()\n",
    "m05 = (m1+m0)/2"
   ]
  },
  {
   "cell_type": "code",
   "execution_count": null,
   "metadata": {
    "ExecuteTime": {
     "end_time": "2019-09-18T09:33:15.941832Z",
     "start_time": "2019-09-18T09:33:15.937929Z"
    }
   },
   "outputs": [],
   "source": [
    "m0, m05,  m1"
   ]
  },
  {
   "cell_type": "code",
   "execution_count": null,
   "metadata": {
    "ExecuteTime": {
     "end_time": "2019-09-18T09:33:17.764341Z",
     "start_time": "2019-09-18T09:33:17.762175Z"
    }
   },
   "outputs": [],
   "source": [
    "colnameee = 'Цены на бензин 2018'"
   ]
  },
  {
   "cell_type": "code",
   "execution_count": null,
   "metadata": {
    "ExecuteTime": {
     "end_time": "2019-09-16T02:09:53.809700Z",
     "start_time": "2019-09-16T02:09:50.849787Z"
    }
   },
   "outputs": [],
   "source": [
    "gplt.choropleth(\n",
    "    russia_data_2, hue=colnameee,\n",
    "    cmap=rbcmp, linewidth=0.5, edgecolor='white', k=None, legend=True,  #legend_kwargs={'size':3},\n",
    "    projection=proj\n",
    ");"
   ]
  },
  {
   "cell_type": "code",
   "execution_count": null,
   "metadata": {
    "ExecuteTime": {
     "end_time": "2019-09-18T09:33:24.786766Z",
     "start_time": "2019-09-18T09:33:24.784589Z"
    }
   },
   "outputs": [],
   "source": [
    "# russia_data_2['Выход светлых нефтепродуктов, %'][russia_data_2['Выход светлых нефтепродуктов, %']<60]"
   ]
  },
  {
   "cell_type": "code",
   "execution_count": null,
   "metadata": {
    "ExecuteTime": {
     "end_time": "2019-09-18T09:33:25.813468Z",
     "start_time": "2019-09-18T09:33:25.810588Z"
    }
   },
   "outputs": [],
   "source": [
    "m1 = russia_data_3[colnameee].max()\n",
    "m0 = russia_data_3[colnameee].min()\n",
    "m05 = (m1+m0)/2"
   ]
  },
  {
   "cell_type": "code",
   "execution_count": null,
   "metadata": {
    "ExecuteTime": {
     "end_time": "2019-09-18T09:33:26.748810Z",
     "start_time": "2019-09-18T09:33:26.745649Z"
    }
   },
   "outputs": [],
   "source": [
    "m0, m05,  m1"
   ]
  },
  {
   "cell_type": "code",
   "execution_count": null,
   "metadata": {
    "ExecuteTime": {
     "end_time": "2019-09-18T09:33:27.681064Z",
     "start_time": "2019-09-18T09:33:27.678047Z"
    }
   },
   "outputs": [],
   "source": [
    "10/(10+25)"
   ]
  },
  {
   "cell_type": "code",
   "execution_count": null,
   "metadata": {},
   "outputs": [],
   "source": [
    "# replce10 = russia_data_2[colnameee].min() - (russia_data_2[colnameee].max() - russia_data_2[colnameee].min()) * 0.01\n",
    "# russia_data_2[colnameee] = russia_data_2[colnameee].fillna(replce10)\n",
    "# replce10"
   ]
  },
  {
   "cell_type": "code",
   "execution_count": null,
   "metadata": {},
   "outputs": [],
   "source": []
  },
  {
   "cell_type": "code",
   "execution_count": null,
   "metadata": {
    "ExecuteTime": {
     "end_time": "2019-09-16T02:13:01.781304Z",
     "start_time": "2019-09-16T02:12:55.488987Z"
    }
   },
   "outputs": [],
   "source": [
    "proj = gcrs.AlbersEqualArea(central_longitude=94, central_latitude=60)\n",
    "\n",
    "f, axarr = plt.subplots(1, 2, figsize=(100, 20), subplot_kw={\n",
    "    'projection': proj\n",
    "})\n",
    "\n",
    "f.subplots_adjust(wspace=-0.15)\n",
    "\n",
    "gplt.choropleth(\n",
    "    russia_data_3, hue='Цены на бензин 2013',\n",
    "    cmap=rbcmp, linewidth=0.5, edgecolor='white', k=None,  \n",
    "    projection=proj,  ax=axarr[0]\n",
    ")\n",
    "\n",
    "\n",
    "gplt.choropleth(\n",
    "    russia_data_3, hue='Цены на бензин 2018',\n",
    "    cmap=rbcmp, linewidth=0.5, edgecolor='white', k=None,  legend = False,  #legend_kwargs={'size':3},\n",
    "    projection=proj,  ax=axarr[1] \n",
    "    \n",
    ")\n",
    "\n",
    "sm = plt.cm.ScalarMappable(cmap=rbcmp)\n",
    "sm._A = []\n",
    "\n",
    "cbar = plt.colorbar(sm, ax=axarr[0], fraction=0.005, pad = -0.05, ticks=[0, 0.28, 1]) #orientation='horizontal',\n",
    "cbar.ax.set_yticklabels([' - 10 %', ' 0 %', ' > 25 %'])  \n",
    "# cbar.set_label(r'$\\zeta\\ [s^{-1}]$', fontsize=16)\n",
    "cbar.ax.tick_params(labelsize=40)\n"
   ]
  },
  {
   "cell_type": "code",
   "execution_count": null,
   "metadata": {
    "ExecuteTime": {
     "end_time": "2019-09-16T01:53:44.464942Z",
     "start_time": "2019-09-16T01:53:44.460067Z"
    }
   },
   "outputs": [],
   "source": [
    "russia_data.columns"
   ]
  },
  {
   "cell_type": "code",
   "execution_count": null,
   "metadata": {
    "ExecuteTime": {
     "end_time": "2019-09-16T02:18:59.762024Z",
     "start_time": "2019-09-16T02:18:59.758950Z"
    }
   },
   "outputs": [],
   "source": [
    "colnameee = 'Цены на мазут 2012'"
   ]
  },
  {
   "cell_type": "code",
   "execution_count": null,
   "metadata": {
    "ExecuteTime": {
     "end_time": "2019-09-16T02:19:16.223388Z",
     "start_time": "2019-09-16T02:19:16.220497Z"
    }
   },
   "outputs": [],
   "source": [
    "# russia_data_2[colnameee][colnameee]<60]"
   ]
  },
  {
   "cell_type": "code",
   "execution_count": null,
   "metadata": {
    "ExecuteTime": {
     "end_time": "2019-09-16T02:19:20.995276Z",
     "start_time": "2019-09-16T02:19:20.991822Z"
    }
   },
   "outputs": [],
   "source": [
    "m1 = russia_data_3[colnameee].max()\n",
    "m0 = russia_data_3[colnameee].min()\n",
    "m05 = (m1+m0)/2"
   ]
  },
  {
   "cell_type": "code",
   "execution_count": null,
   "metadata": {
    "ExecuteTime": {
     "end_time": "2019-09-16T02:19:25.501431Z",
     "start_time": "2019-09-16T02:19:25.498549Z"
    }
   },
   "outputs": [],
   "source": [
    "m0, m05,  m1"
   ]
  },
  {
   "cell_type": "code",
   "execution_count": null,
   "metadata": {
    "ExecuteTime": {
     "end_time": "2019-09-16T02:15:22.470092Z",
     "start_time": "2019-09-16T02:15:19.692108Z"
    }
   },
   "outputs": [],
   "source": [
    "gplt.choropleth(\n",
    "    russia_data_2, hue=colnameee,\n",
    "    cmap=rbcmp, linewidth=0.5, edgecolor='white', k=None, legend=True,  #legend_kwargs={'size':3},\n",
    "    projection=proj\n",
    ");"
   ]
  },
  {
   "cell_type": "code",
   "execution_count": null,
   "metadata": {
    "ExecuteTime": {
     "end_time": "2019-09-16T02:20:20.804797Z",
     "start_time": "2019-09-16T02:20:20.797974Z"
    },
    "scrolled": true
   },
   "outputs": [],
   "source": [
    "russia_data_3[colnameee][russia_data_3[colnameee] < 0.61] = 0.6"
   ]
  },
  {
   "cell_type": "code",
   "execution_count": null,
   "metadata": {
    "ExecuteTime": {
     "end_time": "2019-09-16T02:20:48.813783Z",
     "start_time": "2019-09-16T02:20:48.807110Z"
    }
   },
   "outputs": [],
   "source": [
    "russia_data_3[colnameee][russia_data_3[colnameee] > 1.4] = 1.4"
   ]
  },
  {
   "cell_type": "code",
   "execution_count": null,
   "metadata": {
    "ExecuteTime": {
     "end_time": "2019-09-16T02:03:07.494956Z",
     "start_time": "2019-09-16T02:03:07.492919Z"
    }
   },
   "outputs": [],
   "source": [
    "# russia_data_2['Выход светлых нефтепродуктов, %'][russia_data_2['Выход светлых нефтепродуктов, %']<60]"
   ]
  },
  {
   "cell_type": "code",
   "execution_count": null,
   "metadata": {
    "ExecuteTime": {
     "end_time": "2019-09-16T02:20:57.221749Z",
     "start_time": "2019-09-16T02:20:57.218618Z"
    }
   },
   "outputs": [],
   "source": [
    "m1 = russia_data_3[colnameee].max()\n",
    "m0 = russia_data_3[colnameee].min()\n",
    "m05 = (m1+m0)/2"
   ]
  },
  {
   "cell_type": "code",
   "execution_count": null,
   "metadata": {
    "ExecuteTime": {
     "end_time": "2019-09-16T02:21:01.767681Z",
     "start_time": "2019-09-16T02:21:01.764657Z"
    }
   },
   "outputs": [],
   "source": [
    "m0, m05,  m1"
   ]
  },
  {
   "cell_type": "code",
   "execution_count": null,
   "metadata": {
    "ExecuteTime": {
     "end_time": "2019-09-16T02:21:06.252610Z",
     "start_time": "2019-09-16T02:21:06.250475Z"
    }
   },
   "outputs": [],
   "source": [
    "colnameee = 'Цены на мазут 2018'"
   ]
  },
  {
   "cell_type": "code",
   "execution_count": null,
   "metadata": {
    "ExecuteTime": {
     "end_time": "2019-09-16T02:15:58.688660Z",
     "start_time": "2019-09-16T02:15:56.109345Z"
    }
   },
   "outputs": [],
   "source": [
    "gplt.choropleth(\n",
    "    russia_data_2, hue=colnameee,\n",
    "    cmap=rbcmp, linewidth=0.5, edgecolor='white', k=None, legend=True,  #legend_kwargs={'size':3},\n",
    "    projection=proj\n",
    ");"
   ]
  },
  {
   "cell_type": "code",
   "execution_count": null,
   "metadata": {
    "ExecuteTime": {
     "end_time": "2019-09-16T02:16:03.303367Z",
     "start_time": "2019-09-16T02:16:03.301468Z"
    }
   },
   "outputs": [],
   "source": [
    "# russia_data_2['Выход светлых нефтепродуктов, %'][russia_data_2['Выход светлых нефтепродуктов, %']<60]"
   ]
  },
  {
   "cell_type": "code",
   "execution_count": null,
   "metadata": {
    "ExecuteTime": {
     "end_time": "2019-09-16T02:21:20.701937Z",
     "start_time": "2019-09-16T02:21:20.697526Z"
    }
   },
   "outputs": [],
   "source": [
    "russia_data_3[colnameee][russia_data_3[colnameee] < 0.61] = 0.6"
   ]
  },
  {
   "cell_type": "code",
   "execution_count": null,
   "metadata": {
    "ExecuteTime": {
     "end_time": "2019-09-16T02:21:33.577068Z",
     "start_time": "2019-09-16T02:21:33.572565Z"
    }
   },
   "outputs": [],
   "source": [
    "russia_data_3[colnameee][russia_data_3[colnameee] > 1.4] = 1.4"
   ]
  },
  {
   "cell_type": "code",
   "execution_count": null,
   "metadata": {
    "ExecuteTime": {
     "end_time": "2019-09-16T02:21:38.127213Z",
     "start_time": "2019-09-16T02:21:38.124351Z"
    }
   },
   "outputs": [],
   "source": [
    "m1 = russia_data_3[colnameee].max()\n",
    "m0 = russia_data_3[colnameee].min()\n",
    "m05 = (m1+m0)/2"
   ]
  },
  {
   "cell_type": "code",
   "execution_count": null,
   "metadata": {
    "ExecuteTime": {
     "end_time": "2019-09-16T02:21:42.707301Z",
     "start_time": "2019-09-16T02:21:42.704610Z"
    }
   },
   "outputs": [],
   "source": [
    "m0, m05,  m1"
   ]
  },
  {
   "cell_type": "code",
   "execution_count": null,
   "metadata": {
    "ExecuteTime": {
     "end_time": "2019-09-16T02:21:47.349074Z",
     "start_time": "2019-09-16T02:21:47.346161Z"
    }
   },
   "outputs": [],
   "source": [
    "10/(10+25)"
   ]
  },
  {
   "cell_type": "code",
   "execution_count": null,
   "metadata": {
    "ExecuteTime": {
     "end_time": "2019-09-16T02:25:22.512436Z",
     "start_time": "2019-09-16T02:25:16.415310Z"
    },
    "scrolled": true
   },
   "outputs": [],
   "source": [
    "proj = gcrs.AlbersEqualArea(central_longitude=94, central_latitude=60)\n",
    "\n",
    "f, axarr = plt.subplots(1, 2, figsize=(100, 20), subplot_kw={\n",
    "    'projection': proj\n",
    "})\n",
    "\n",
    "f.subplots_adjust(wspace=-0.15)\n",
    "\n",
    "gplt.choropleth(\n",
    "    russia_data_3, hue='Цены на мазут 2012',\n",
    "    cmap=rbcmp, linewidth=0.5, edgecolor='white', k=None,  \n",
    "    projection=proj,  ax=axarr[0]\n",
    ")\n",
    "\n",
    "\n",
    "\n",
    "gplt.choropleth(\n",
    "    russia_data_3, hue='Цены на мазут 2018',\n",
    "    cmap=rbcmp, linewidth=0.5, edgecolor='white', k=None,  legend = False,  #legend_kwargs={'size':3},\n",
    "    projection=proj,  ax=axarr[1] \n",
    "    \n",
    ")\n",
    "\n",
    "\n",
    "\n",
    "sm = plt.cm.ScalarMappable(cmap=rbcmp)\n",
    "sm._A = []\n",
    "\n",
    "cbar = plt.colorbar(sm, ax=axarr[0], fraction=0.005, pad = -0.05, ticks=[0, 0.3, 1]) #orientation='horizontal',\n",
    "cbar.ax.set_yticklabels([' < - 40 %', ' 0 %', ' > 50 %'])  \n",
    "# cbar.set_label(r'$\\zeta\\ [s^{-1}]$', fontsize=16)\n",
    "cbar.ax.tick_params(labelsize=40);\n"
   ]
  },
  {
   "cell_type": "code",
   "execution_count": null,
   "metadata": {
    "ExecuteTime": {
     "end_time": "2019-09-16T01:53:44.464942Z",
     "start_time": "2019-09-16T01:53:44.460067Z"
    },
    "scrolled": true
   },
   "outputs": [],
   "source": [
    "russia_data.columns"
   ]
  },
  {
   "cell_type": "code",
   "execution_count": null,
   "metadata": {
    "ExecuteTime": {
     "end_time": "2019-09-16T02:30:42.489338Z",
     "start_time": "2019-09-16T02:30:42.487253Z"
    }
   },
   "outputs": [],
   "source": [
    "colnameee = 'Цены на дизель 2013'"
   ]
  },
  {
   "cell_type": "code",
   "execution_count": null,
   "metadata": {
    "ExecuteTime": {
     "end_time": "2019-09-16T02:30:47.472239Z",
     "start_time": "2019-09-16T02:30:47.470210Z"
    }
   },
   "outputs": [],
   "source": [
    "# russia_data_2[colnameee][colnameee]<60]"
   ]
  },
  {
   "cell_type": "code",
   "execution_count": null,
   "metadata": {
    "ExecuteTime": {
     "end_time": "2019-09-16T02:30:52.313048Z",
     "start_time": "2019-09-16T02:30:52.309682Z"
    }
   },
   "outputs": [],
   "source": [
    "m1 = russia_data_3[colnameee].max()\n",
    "m0 = russia_data_3[colnameee].min()\n",
    "m05 = (m1+m0)/2"
   ]
  },
  {
   "cell_type": "code",
   "execution_count": null,
   "metadata": {
    "ExecuteTime": {
     "end_time": "2019-09-16T02:30:57.128061Z",
     "start_time": "2019-09-16T02:30:57.125266Z"
    }
   },
   "outputs": [],
   "source": [
    "m0, m05,  m1"
   ]
  },
  {
   "cell_type": "code",
   "execution_count": null,
   "metadata": {
    "ExecuteTime": {
     "end_time": "2019-09-16T02:29:30.392101Z",
     "start_time": "2019-09-16T02:29:27.568848Z"
    }
   },
   "outputs": [],
   "source": [
    "gplt.choropleth(\n",
    "    russia_data, hue=colnameee,\n",
    "    cmap=rbcmp, linewidth=0.5, edgecolor='white', k=None, legend=True,  #legend_kwargs={'size':3},\n",
    "    projection=proj\n",
    ");"
   ]
  },
  {
   "cell_type": "code",
   "execution_count": null,
   "metadata": {
    "ExecuteTime": {
     "end_time": "2019-09-16T02:32:04.447358Z",
     "start_time": "2019-09-16T02:32:04.439963Z"
    },
    "scrolled": true
   },
   "outputs": [],
   "source": [
    "russia_data_3[colnameee][russia_data_3[colnameee] < 0.9] = 0.9"
   ]
  },
  {
   "cell_type": "code",
   "execution_count": null,
   "metadata": {
    "ExecuteTime": {
     "end_time": "2019-09-16T02:31:30.009425Z",
     "start_time": "2019-09-16T02:31:30.002798Z"
    }
   },
   "outputs": [],
   "source": [
    "russia_data_3[colnameee][russia_data_3[colnameee] > 1.4] = 1.4"
   ]
  },
  {
   "cell_type": "code",
   "execution_count": null,
   "metadata": {
    "ExecuteTime": {
     "end_time": "2019-09-16T02:03:07.494956Z",
     "start_time": "2019-09-16T02:03:07.492919Z"
    }
   },
   "outputs": [],
   "source": [
    "# russia_data_2['Выход светлых нефтепродуктов, %'][russia_data_2['Выход светлых нефтепродуктов, %']<60]"
   ]
  },
  {
   "cell_type": "code",
   "execution_count": null,
   "metadata": {
    "ExecuteTime": {
     "end_time": "2019-09-16T02:32:09.506006Z",
     "start_time": "2019-09-16T02:32:09.503186Z"
    }
   },
   "outputs": [],
   "source": [
    "m1 = russia_data_3[colnameee].max()\n",
    "m0 = russia_data_3[colnameee].min()\n",
    "m05 = (m1+m0)/2"
   ]
  },
  {
   "cell_type": "code",
   "execution_count": null,
   "metadata": {
    "ExecuteTime": {
     "end_time": "2019-09-16T02:32:14.557709Z",
     "start_time": "2019-09-16T02:32:14.554454Z"
    }
   },
   "outputs": [],
   "source": [
    "m0, m05,  m1"
   ]
  },
  {
   "cell_type": "code",
   "execution_count": null,
   "metadata": {
    "ExecuteTime": {
     "end_time": "2019-09-16T02:27:53.987113Z",
     "start_time": "2019-09-16T02:27:53.984826Z"
    }
   },
   "outputs": [],
   "source": [
    "colnameee = 'Цены на дизель 2018'"
   ]
  },
  {
   "cell_type": "code",
   "execution_count": null,
   "metadata": {
    "ExecuteTime": {
     "end_time": "2019-09-16T02:28:01.501818Z",
     "start_time": "2019-09-16T02:27:58.839475Z"
    }
   },
   "outputs": [],
   "source": [
    "gplt.choropleth(\n",
    "    russia_data_3, hue=colnameee,\n",
    "    cmap=rbcmp, linewidth=0.5, edgecolor='white', k=None, legend=True,  #legend_kwargs={'size':3},\n",
    "    projection=proj\n",
    ");"
   ]
  },
  {
   "cell_type": "code",
   "execution_count": null,
   "metadata": {
    "ExecuteTime": {
     "end_time": "2019-09-16T02:16:03.303367Z",
     "start_time": "2019-09-16T02:16:03.301468Z"
    }
   },
   "outputs": [],
   "source": [
    "# russia_data_2['Выход светлых нефтепродуктов, %'][russia_data_2['Выход светлых нефтепродуктов, %']<60]"
   ]
  },
  {
   "cell_type": "code",
   "execution_count": null,
   "metadata": {
    "ExecuteTime": {
     "end_time": "2019-09-16T02:21:20.701937Z",
     "start_time": "2019-09-16T02:21:20.697526Z"
    }
   },
   "outputs": [],
   "source": [
    "russia_data_3[colnameee][russia_data_3[colnameee] < 0.61] = 0.6"
   ]
  },
  {
   "cell_type": "code",
   "execution_count": null,
   "metadata": {
    "ExecuteTime": {
     "end_time": "2019-09-16T02:21:33.577068Z",
     "start_time": "2019-09-16T02:21:33.572565Z"
    }
   },
   "outputs": [],
   "source": [
    "russia_data_3[colnameee][russia_data_3[colnameee] > 1.4] = 1.4"
   ]
  },
  {
   "cell_type": "code",
   "execution_count": null,
   "metadata": {
    "ExecuteTime": {
     "end_time": "2019-09-16T02:28:13.086279Z",
     "start_time": "2019-09-16T02:28:13.082735Z"
    }
   },
   "outputs": [],
   "source": [
    "m1 = russia_data_3[colnameee].max()\n",
    "m0 = russia_data_3[colnameee].min()\n",
    "m05 = (m1+m0)/2"
   ]
  },
  {
   "cell_type": "code",
   "execution_count": null,
   "metadata": {
    "ExecuteTime": {
     "end_time": "2019-09-16T02:28:17.779784Z",
     "start_time": "2019-09-16T02:28:17.776725Z"
    }
   },
   "outputs": [],
   "source": [
    "m0, m05,  m1"
   ]
  },
  {
   "cell_type": "code",
   "execution_count": null,
   "metadata": {
    "ExecuteTime": {
     "end_time": "2019-09-16T02:21:47.349074Z",
     "start_time": "2019-09-16T02:21:47.346161Z"
    }
   },
   "outputs": [],
   "source": [
    "10/(10+25)"
   ]
  },
  {
   "cell_type": "code",
   "execution_count": null,
   "metadata": {
    "ExecuteTime": {
     "end_time": "2019-09-16T02:32:54.605756Z",
     "start_time": "2019-09-16T02:32:48.446783Z"
    },
    "scrolled": false
   },
   "outputs": [],
   "source": [
    "proj = gcrs.AlbersEqualArea(central_longitude=94, central_latitude=60)\n",
    "\n",
    "f, axarr = plt.subplots(1, 2, figsize=(100, 20), subplot_kw={\n",
    "    'projection': proj\n",
    "})\n",
    "\n",
    "f.subplots_adjust(wspace=-0.15)\n",
    "\n",
    "gplt.choropleth(\n",
    "    russia_data_3, hue='Цены на дизель 2013',\n",
    "    cmap=rbcmp, linewidth=0.5, edgecolor='white', k=None,  \n",
    "    projection=proj,  ax=axarr[0]\n",
    ")\n",
    "\n",
    "\n",
    "\n",
    "gplt.choropleth(\n",
    "    russia_data_3, hue='Цены на дизель 2018',\n",
    "    cmap=rbcmp, linewidth=0.5, edgecolor='white', k=None,  legend = False,  #legend_kwargs={'size':3},\n",
    "    projection=proj,  ax=axarr[1] \n",
    "    \n",
    ")\n",
    "\n",
    "\n",
    "\n",
    "sm = plt.cm.ScalarMappable(cmap=rbcmp)\n",
    "sm._A = []\n",
    "\n",
    "cbar = plt.colorbar(sm, ax=axarr[0], fraction=0.005, pad = -0.05, ticks=[0, 0.2, 1]) #orientation='horizontal',\n",
    "cbar.ax.set_yticklabels([' < - 10 %', ' 0 %', ' > 40 %'])  \n",
    "# cbar.set_label(r'$\\zeta\\ [s^{-1}]$', fontsize=16)\n",
    "cbar.ax.tick_params(labelsize=40);\n"
   ]
  },
  {
   "cell_type": "markdown",
   "metadata": {},
   "source": [
    "### Крэк-спред\n",
    "\n",
    "- [СПРЕДЫ ПЕРЕРАБОТКИ: Крек-спред](http://www.fondovik.com/bazovie-znaniya/stati-finansovie-instrumenti/fyuchersnie-spredi/krek-spred/)\n",
    "- [EIA: ПРИБЫЛИ НПЗ НЕДОСТАТОЧНО ДЛЯ КОМПЕНСАЦИИ НИЗКИХ ДОХОДОВ MAJORS](http://www.ngv.ru/analytics/eia_pribyli_npz_nedostatochno_dlya_kompensatsii_nizkikh_dokhodov_majors/)\n",
    "- [EIA: crack-spread definition](https://www.eia.gov/todayinenergy/includes/crackspread_explain.php )\n",
    "- [Crack Spread 101](https://marketrealist.com/2013/07/crack-spread-101-part-1-whats-a-crack-spread/)\n",
    "\n",
    "We use the example of the “Bloomberg WTI Cushing Crude Oil 321 Crack Spread/Gulf Coast” (Bloomberg ticker CRKS321 Index). Bloomberg notes that the inputs are the following:\n",
    "\n",
    "- Crude oil – WTI at Cushing (USCRWTIC Index ) – closing price at July 19, 2013, of \\$ 108.05 per barrel\n",
    "- Gasoline – U.S. Gulf prompt 87 Octane gasoline (MOIGC87P Index) – closing price at July 19, 2013, of \\$2.92 per gallon (multiply by 42 to get price per barrel of \\$122.64)\n",
    "- Heating oil or gasoil – U.S. Gulf No. 2 Oil (NO2IGCPR index) – closing price at July 19, 2013, of \\$2.87 per gallon (multiply by 42 to get price per barrel of \\$120.54)\n",
    "\n",
    "Цены на мазут:\n",
    "\n",
    "- [ТОПЛИВНЫЙ  РЫНОК  РОССИИ](http://web.archive.org/web/20110725123304/http://minenergo.gov.ru/upload/iblock/333/33363d868cf93701591957ccd67583b1.pdf)\n",
    "- [КОРТЕС](http://www.kortes.com/products/price/)\n",
    "    - [РЕГИОНАЛЬНЫЕ ОПТОВЫЕ ЦЕНЫ НА ОСНОВНЫЕ НЕФТЕПРОДУКТЫ ](http://www.kortes.com/products/pdf/reg.pdf)\n",
    "- [ЦБСД Индексы по нефтепереработке](http://www.gks.ru/free_doc/new_site/prices/bd/bd_9420059.htm)\n",
    "\n",
    "Цены на нефть:\n",
    "\n",
    "- [Индексы цен нефтепродуктов](http://spimex.com/documents/indexes/)\n",
    "    - [Методика расчета региональных биржевых индексов цен сырой нефти](http://spimex.com/upload/iblock/9b0/9b06acc0ae4d4f48eaedaa5473554cf0.pdf)\n",
    "- [Коэффициенты перевода литров в тонны:](http://bogatoe.samregion.ru/external/omsu_bogatoe/files/c_683/Perevod_benzina_v_tonny.pdf)"
   ]
  },
  {
   "cell_type": "code",
   "execution_count": null,
   "metadata": {
    "ExecuteTime": {
     "end_time": "2019-09-18T09:50:22.371694Z",
     "start_time": "2019-09-18T09:50:22.367326Z"
    }
   },
   "outputs": [],
   "source": [
    "viridis = cm.get_cmap('RdYlBu', 256)\n",
    "newcolors = viridis(np.linspace(-1, 1, 256))\n",
    "grey = np.array([192/256, 192/256, 192/256, 1])\n",
    "newcolors[:1, :] = grey\n",
    "bcrbcmp = ListedColormap(newcolors)"
   ]
  },
  {
   "cell_type": "code",
   "execution_count": null,
   "metadata": {
    "ExecuteTime": {
     "end_time": "2019-09-18T09:50:23.615750Z",
     "start_time": "2019-09-18T09:50:23.612612Z"
    },
    "scrolled": true
   },
   "outputs": [],
   "source": [
    "russia_data.columns"
   ]
  },
  {
   "cell_type": "code",
   "execution_count": null,
   "metadata": {
    "ExecuteTime": {
     "end_time": "2019-09-18T09:50:24.710113Z",
     "start_time": "2019-09-18T09:50:24.707900Z"
    }
   },
   "outputs": [],
   "source": [
    "colnameee = 'Крэк-спред 2013'"
   ]
  },
  {
   "cell_type": "code",
   "execution_count": null,
   "metadata": {
    "ExecuteTime": {
     "end_time": "2019-09-18T09:50:28.207946Z",
     "start_time": "2019-09-18T09:50:28.205956Z"
    }
   },
   "outputs": [],
   "source": [
    "# russia_data_2[colnameee][colnameee]<60]"
   ]
  },
  {
   "cell_type": "code",
   "execution_count": null,
   "metadata": {
    "ExecuteTime": {
     "end_time": "2019-09-18T09:50:29.256622Z",
     "start_time": "2019-09-18T09:50:29.254179Z"
    }
   },
   "outputs": [],
   "source": [
    "m1 = russia_data_2[colnameee].max()\n",
    "m0 = russia_data_2[colnameee].min()\n",
    "m05 = (m1+m0)/2"
   ]
  },
  {
   "cell_type": "code",
   "execution_count": null,
   "metadata": {
    "ExecuteTime": {
     "end_time": "2019-09-18T09:50:33.808357Z",
     "start_time": "2019-09-18T09:50:33.804763Z"
    }
   },
   "outputs": [],
   "source": [
    "m0, m05,  m1"
   ]
  },
  {
   "cell_type": "code",
   "execution_count": null,
   "metadata": {
    "ExecuteTime": {
     "end_time": "2019-09-18T09:50:37.690880Z",
     "start_time": "2019-09-18T09:50:34.902746Z"
    }
   },
   "outputs": [],
   "source": [
    "gplt.choropleth(\n",
    "    russia_data, hue=colnameee,\n",
    "    cmap=rbcmp, linewidth=0.5, edgecolor='white', k=None, legend=True,  #legend_kwargs={'size':3},\n",
    "    projection=proj\n",
    ");"
   ]
  },
  {
   "cell_type": "code",
   "execution_count": null,
   "metadata": {
    "ExecuteTime": {
     "end_time": "2019-09-18T09:50:38.682815Z",
     "start_time": "2019-09-18T09:50:38.677512Z"
    },
    "scrolled": true
   },
   "outputs": [],
   "source": [
    "russia_data_2[colnameee][russia_data_2[colnameee] > 19000] =  19000"
   ]
  },
  {
   "cell_type": "code",
   "execution_count": null,
   "metadata": {
    "ExecuteTime": {
     "end_time": "2019-09-18T09:50:39.674202Z",
     "start_time": "2019-09-18T09:50:39.669856Z"
    }
   },
   "outputs": [],
   "source": [
    "russia_data_2[colnameee][russia_data_2[colnameee] < 16000]\n",
    "# = 1.4"
   ]
  },
  {
   "cell_type": "code",
   "execution_count": null,
   "metadata": {
    "ExecuteTime": {
     "end_time": "2019-09-18T09:50:40.678306Z",
     "start_time": "2019-09-18T09:50:40.676135Z"
    }
   },
   "outputs": [],
   "source": [
    "# russia_data_2['Выход светлых нефтепродуктов, %'][russia_data_2['Выход светлых нефтепродуктов, %']<60]"
   ]
  },
  {
   "cell_type": "code",
   "execution_count": null,
   "metadata": {
    "ExecuteTime": {
     "end_time": "2019-09-18T09:50:41.717159Z",
     "start_time": "2019-09-18T09:50:41.714016Z"
    }
   },
   "outputs": [],
   "source": [
    "m1 = russia_data_3[colnameee].max()\n",
    "m0 = russia_data_3[colnameee].min()\n",
    "m05 = (m1+m0)/2"
   ]
  },
  {
   "cell_type": "code",
   "execution_count": null,
   "metadata": {
    "ExecuteTime": {
     "end_time": "2019-09-16T02:32:14.557709Z",
     "start_time": "2019-09-16T02:32:14.554454Z"
    }
   },
   "outputs": [],
   "source": [
    "m0, m05,  m1"
   ]
  },
  {
   "cell_type": "code",
   "execution_count": null,
   "metadata": {
    "ExecuteTime": {
     "end_time": "2019-09-18T09:50:50.789540Z",
     "start_time": "2019-09-18T09:50:50.783702Z"
    }
   },
   "outputs": [],
   "source": [
    "replce10 = russia_data_2[colnameee].min() - (russia_data_2[colnameee].max() - russia_data_2[colnameee].min()) * 0.01\n",
    "russia_data_2[colnameee] = russia_data_2[colnameee].fillna(replce10)\n",
    "replce10"
   ]
  },
  {
   "cell_type": "code",
   "execution_count": null,
   "metadata": {
    "ExecuteTime": {
     "end_time": "2019-09-18T09:50:51.852000Z",
     "start_time": "2019-09-18T09:50:51.849927Z"
    }
   },
   "outputs": [],
   "source": [
    "colnameee = 'Крэк-спред 2018'"
   ]
  },
  {
   "cell_type": "code",
   "execution_count": null,
   "metadata": {
    "ExecuteTime": {
     "end_time": "2019-09-16T02:36:01.223531Z",
     "start_time": "2019-09-16T02:35:58.398739Z"
    }
   },
   "outputs": [],
   "source": [
    "gplt.choropleth(\n",
    "    russia_data, hue=colnameee,\n",
    "    cmap=rbcmp, linewidth=0.5, edgecolor='white', k=None, legend=True,  #legend_kwargs={'size':3},\n",
    "    projection=proj\n",
    ");"
   ]
  },
  {
   "cell_type": "code",
   "execution_count": null,
   "metadata": {
    "ExecuteTime": {
     "end_time": "2019-09-16T02:16:03.303367Z",
     "start_time": "2019-09-16T02:16:03.301468Z"
    }
   },
   "outputs": [],
   "source": [
    "# russia_data_2['Выход светлых нефтепродуктов, %'][russia_data_2['Выход светлых нефтепродуктов, %']<60]"
   ]
  },
  {
   "cell_type": "code",
   "execution_count": null,
   "metadata": {
    "ExecuteTime": {
     "end_time": "2019-09-18T09:50:58.642255Z",
     "start_time": "2019-09-18T09:50:58.635348Z"
    }
   },
   "outputs": [],
   "source": [
    "russia_data_2[colnameee][russia_data_2[colnameee] > 19000] = 19000"
   ]
  },
  {
   "cell_type": "code",
   "execution_count": null,
   "metadata": {
    "ExecuteTime": {
     "end_time": "2019-09-18T09:50:59.695373Z",
     "start_time": "2019-09-18T09:50:59.691192Z"
    }
   },
   "outputs": [],
   "source": [
    "russia_data_2[colnameee][russia_data_2[colnameee] < 15000] = 15000"
   ]
  },
  {
   "cell_type": "code",
   "execution_count": null,
   "metadata": {
    "ExecuteTime": {
     "end_time": "2019-09-18T09:51:00.654579Z",
     "start_time": "2019-09-18T09:51:00.652059Z"
    }
   },
   "outputs": [],
   "source": [
    "m1 = russia_data_2[colnameee].max()\n",
    "m0 = russia_data_2[colnameee].min()\n",
    "m05 = (m1+m0)/2"
   ]
  },
  {
   "cell_type": "code",
   "execution_count": null,
   "metadata": {
    "ExecuteTime": {
     "end_time": "2019-09-18T09:51:01.587986Z",
     "start_time": "2019-09-18T09:51:01.585090Z"
    }
   },
   "outputs": [],
   "source": [
    "m0, m05,  m1"
   ]
  },
  {
   "cell_type": "code",
   "execution_count": null,
   "metadata": {
    "ExecuteTime": {
     "end_time": "2019-09-18T09:51:03.081005Z",
     "start_time": "2019-09-18T09:51:03.076426Z"
    }
   },
   "outputs": [],
   "source": [
    "replce10 = russia_data_2[colnameee].min() - (russia_data_2[colnameee].max() - russia_data_2[colnameee].min()) * 0.01\n",
    "russia_data_2[colnameee] = russia_data_2[colnameee].fillna(replce10)\n",
    "replce10"
   ]
  },
  {
   "cell_type": "code",
   "execution_count": null,
   "metadata": {
    "ExecuteTime": {
     "end_time": "2019-09-18T09:51:11.739594Z",
     "start_time": "2019-09-18T09:51:05.491842Z"
    },
    "scrolled": true
   },
   "outputs": [],
   "source": [
    "proj = gcrs.AlbersEqualArea(central_longitude=94, central_latitude=60)\n",
    "\n",
    "f, axarr = plt.subplots(1, 2, figsize=(100, 20), subplot_kw={\n",
    "    'projection': proj\n",
    "})\n",
    "\n",
    "f.subplots_adjust(wspace=-0.15)\n",
    "\n",
    "gplt.choropleth(\n",
    "    russia_data_3, hue='Крэк-спред 2013',\n",
    "    cmap=newcmp, linewidth=0.5, edgecolor='white', k=None,  \n",
    "    projection=proj,  ax=axarr[0]\n",
    ")\n",
    "\n",
    "\n",
    "\n",
    "gplt.choropleth(\n",
    "    russia_data_3, hue='Крэк-спред 2018',\n",
    "    cmap=newcmp, linewidth=0.5, edgecolor='white', k=None,  legend = False,  #legend_kwargs={'size':3},\n",
    "    projection=proj,  ax=axarr[1] \n",
    "    \n",
    ")\n",
    "\n",
    "\n",
    "\n",
    "sm = plt.cm.ScalarMappable(cmap=newcmp)\n",
    "sm._A = []\n",
    "\n",
    "cbar = plt.colorbar(sm, ax=axarr[0], fraction=0.005, pad = -0.05, ticks=[0, 0.5, 1]) #orientation='horizontal',\n",
    "cbar.ax.set_yticklabels([' < 15,000', '  17,000', ' > 19,000'])  \n",
    "# cbar.set_label(r'$\\zeta\\ [s^{-1}]$', fontsize=16)\n",
    "cbar.ax.tick_params(labelsize=40);\n"
   ]
  },
  {
   "cell_type": "markdown",
   "metadata": {},
   "source": [
    "### Объемы собираемых налоговых платежей (НДПИ, акциз) в региональном разрезе"
   ]
  },
  {
   "cell_type": "markdown",
   "metadata": {},
   "source": [
    "- [НДПИ](https://ru.wikipedia.org/wiki/%D0%9D%D0%B0%D0%BB%D0%BE%D0%B3_%D0%BD%D0%B0_%D0%B4%D0%BE%D0%B1%D1%8B%D1%87%D1%83_%D0%BF%D0%BE%D0%BB%D0%B5%D0%B7%D0%BD%D1%8B%D1%85_%D0%B8%D1%81%D0%BA%D0%BE%D0%BF%D0%B0%D0%B5%D0%BC%D1%8B%D1%85_%D0%A0%D0%BE%D1%81%D1%81%D0%B8%D1%8F)\n",
    "- [СТАВКИ АКЦИЗА НА НЕФТЬ И ГАЗОВЫЙ КОНДЕНСАТ ДЛЯ НЕФТЕГАЗОДОБЫВАЮЩИХ ПРЕДПРИЯТИЙ](https://zakonbase.ru/content/part/196311)\n",
    "\n",
    "-  [Об Оценке влияния налОгОвОгО маневра в нефтянОй сфере на пОтребительскую инфляцию](http://www.cbr.ru/Content/Document/File/59793/20181227.pdf)"
   ]
  },
  {
   "cell_type": "code",
   "execution_count": null,
   "metadata": {
    "ExecuteTime": {
     "end_time": "2019-09-18T10:28:11.944921Z",
     "start_time": "2019-09-18T10:28:11.941593Z"
    },
    "scrolled": true
   },
   "outputs": [],
   "source": [
    "russia_data.columns"
   ]
  },
  {
   "cell_type": "code",
   "execution_count": null,
   "metadata": {
    "ExecuteTime": {
     "end_time": "2019-09-18T10:28:13.034924Z",
     "start_time": "2019-09-18T10:28:13.032914Z"
    }
   },
   "outputs": [],
   "source": [
    "colnameee = 'НДПИ (нефть) 2014'"
   ]
  },
  {
   "cell_type": "code",
   "execution_count": null,
   "metadata": {
    "ExecuteTime": {
     "end_time": "2019-09-18T10:28:14.123058Z",
     "start_time": "2019-09-18T10:28:14.120979Z"
    }
   },
   "outputs": [],
   "source": [
    "# russia_data_2[colnameee][colnameee]<60]"
   ]
  },
  {
   "cell_type": "code",
   "execution_count": null,
   "metadata": {
    "ExecuteTime": {
     "end_time": "2019-09-18T10:28:15.218971Z",
     "start_time": "2019-09-18T10:28:15.216415Z"
    }
   },
   "outputs": [],
   "source": [
    "m1 = russia_data_2[colnameee].max()\n",
    "m0 = russia_data_2[colnameee].min()\n",
    "m05 = (m1+m0)/2"
   ]
  },
  {
   "cell_type": "code",
   "execution_count": null,
   "metadata": {
    "ExecuteTime": {
     "end_time": "2019-09-18T10:28:16.212507Z",
     "start_time": "2019-09-18T10:28:16.208500Z"
    }
   },
   "outputs": [],
   "source": [
    "m0, m05,  m1"
   ]
  },
  {
   "cell_type": "code",
   "execution_count": null,
   "metadata": {
    "ExecuteTime": {
     "end_time": "2019-09-18T10:03:01.840414Z",
     "start_time": "2019-09-18T10:02:58.982893Z"
    }
   },
   "outputs": [],
   "source": [
    "gplt.choropleth(\n",
    "    russia_data_2, hue=colnameee,\n",
    "    cmap=rbcmp, linewidth=0.5, edgecolor='white', k=None, legend=True,  #legend_kwargs={'size':3},\n",
    "    projection=proj\n",
    ");"
   ]
  },
  {
   "cell_type": "code",
   "execution_count": null,
   "metadata": {
    "ExecuteTime": {
     "end_time": "2019-09-18T10:28:18.527620Z",
     "start_time": "2019-09-18T10:28:18.522153Z"
    },
    "scrolled": true
   },
   "outputs": [],
   "source": [
    "russia_data_2[colnameee][russia_data_2[colnameee] == 150000] = 250000\n",
    "# =  19000"
   ]
  },
  {
   "cell_type": "code",
   "execution_count": null,
   "metadata": {
    "ExecuteTime": {
     "end_time": "2019-09-18T10:28:25.291291Z",
     "start_time": "2019-09-18T10:28:25.286200Z"
    }
   },
   "outputs": [],
   "source": [
    "russia_data_2[colnameee][russia_data_2[colnameee] < 16000]\n",
    "# = 1.4"
   ]
  },
  {
   "cell_type": "code",
   "execution_count": null,
   "metadata": {
    "ExecuteTime": {
     "end_time": "2019-09-18T10:03:05.969803Z",
     "start_time": "2019-09-18T10:03:05.967850Z"
    }
   },
   "outputs": [],
   "source": [
    "# russia_data_2['Выход светлых нефтепродуктов, %'][russia_data_2['Выход светлых нефтепродуктов, %']<60]"
   ]
  },
  {
   "cell_type": "code",
   "execution_count": null,
   "metadata": {
    "ExecuteTime": {
     "end_time": "2019-09-18T10:28:27.527028Z",
     "start_time": "2019-09-18T10:28:27.524066Z"
    }
   },
   "outputs": [],
   "source": [
    "m1 = russia_data_3[colnameee].max()\n",
    "m0 = russia_data_3[colnameee].min()\n",
    "m05 = (m1+m0)/2"
   ]
  },
  {
   "cell_type": "code",
   "execution_count": null,
   "metadata": {
    "ExecuteTime": {
     "end_time": "2019-09-18T10:28:28.621101Z",
     "start_time": "2019-09-18T10:28:28.618257Z"
    }
   },
   "outputs": [],
   "source": [
    "m0, m05,  m1"
   ]
  },
  {
   "cell_type": "code",
   "execution_count": null,
   "metadata": {
    "ExecuteTime": {
     "end_time": "2019-09-18T10:29:50.465427Z",
     "start_time": "2019-09-18T10:29:50.462915Z"
    }
   },
   "outputs": [],
   "source": [
    "russia_data_2 = russia_data.copy()"
   ]
  },
  {
   "cell_type": "code",
   "execution_count": null,
   "metadata": {
    "ExecuteTime": {
     "end_time": "2019-09-18T10:30:04.660510Z",
     "start_time": "2019-09-18T10:30:04.655773Z"
    }
   },
   "outputs": [],
   "source": [
    "replce10 = russia_data_2[colnameee].min() - (russia_data_2[colnameee].max() - russia_data_2[colnameee].min()) * 0.01\n",
    "russia_data_2[colnameee] = russia_data_2[colnameee].fillna(replce10)\n",
    "replce10"
   ]
  },
  {
   "cell_type": "code",
   "execution_count": null,
   "metadata": {
    "ExecuteTime": {
     "end_time": "2019-09-18T10:30:11.107763Z",
     "start_time": "2019-09-18T10:30:11.105466Z"
    }
   },
   "outputs": [],
   "source": [
    "colnameee = 'НДПИ (нефть) 2017'"
   ]
  },
  {
   "cell_type": "code",
   "execution_count": null,
   "metadata": {
    "ExecuteTime": {
     "end_time": "2019-09-18T10:30:15.555271Z",
     "start_time": "2019-09-18T10:30:12.753620Z"
    }
   },
   "outputs": [],
   "source": [
    "gplt.choropleth(\n",
    "    russia_data, hue=colnameee,\n",
    "    cmap=rbcmp, linewidth=0.5, edgecolor='white', k=None, legend=True,  #legend_kwargs={'size':3},\n",
    "    projection=proj\n",
    ");"
   ]
  },
  {
   "cell_type": "code",
   "execution_count": null,
   "metadata": {
    "ExecuteTime": {
     "end_time": "2019-09-16T02:16:03.303367Z",
     "start_time": "2019-09-16T02:16:03.301468Z"
    }
   },
   "outputs": [],
   "source": [
    "# russia_data_2['Выход светлых нефтепродуктов, %'][russia_data_2['Выход светлых нефтепродуктов, %']<60]"
   ]
  },
  {
   "cell_type": "code",
   "execution_count": null,
   "metadata": {
    "ExecuteTime": {
     "end_time": "2019-09-18T10:30:31.863323Z",
     "start_time": "2019-09-18T10:30:31.858126Z"
    }
   },
   "outputs": [],
   "source": [
    "russia_data_2[colnameee][russia_data_2[colnameee] > 250000] = 250000\n",
    "# = 19000"
   ]
  },
  {
   "cell_type": "code",
   "execution_count": null,
   "metadata": {
    "ExecuteTime": {
     "end_time": "2019-09-18T10:30:32.880376Z",
     "start_time": "2019-09-18T10:30:32.875159Z"
    }
   },
   "outputs": [],
   "source": [
    "russia_data_2[colnameee][russia_data_2[colnameee] < 15000] = 15000"
   ]
  },
  {
   "cell_type": "code",
   "execution_count": null,
   "metadata": {
    "ExecuteTime": {
     "end_time": "2019-09-18T10:30:34.697008Z",
     "start_time": "2019-09-18T10:30:34.693395Z"
    }
   },
   "outputs": [],
   "source": [
    "m1 = russia_data_2[colnameee].max()\n",
    "m0 = russia_data_2[colnameee].min()\n",
    "m05 = (m1+m0)/2"
   ]
  },
  {
   "cell_type": "code",
   "execution_count": null,
   "metadata": {
    "ExecuteTime": {
     "end_time": "2019-09-18T10:30:35.729261Z",
     "start_time": "2019-09-18T10:30:35.726123Z"
    }
   },
   "outputs": [],
   "source": [
    "m0, m05,  m1"
   ]
  },
  {
   "cell_type": "code",
   "execution_count": null,
   "metadata": {
    "ExecuteTime": {
     "end_time": "2019-09-18T10:30:42.900758Z",
     "start_time": "2019-09-18T10:30:42.896175Z"
    }
   },
   "outputs": [],
   "source": [
    "replce10 = russia_data_2[colnameee].min() - (russia_data_2[colnameee].max() - russia_data_2[colnameee].min()) * 0.01\n",
    "russia_data_2[colnameee] = russia_data_2[colnameee].fillna(replce10)\n",
    "replce10"
   ]
  },
  {
   "cell_type": "code",
   "execution_count": null,
   "metadata": {
    "ExecuteTime": {
     "end_time": "2019-09-18T10:30:51.347758Z",
     "start_time": "2019-09-18T10:30:45.696526Z"
    },
    "scrolled": true
   },
   "outputs": [],
   "source": [
    "proj = gcrs.AlbersEqualArea(central_longitude=94, central_latitude=60)\n",
    "\n",
    "f, axarr = plt.subplots(1, 2, figsize=(100, 20), subplot_kw={\n",
    "    'projection': proj\n",
    "})\n",
    "\n",
    "f.subplots_adjust(wspace=-0.15)\n",
    "\n",
    "gplt.choropleth(\n",
    "    russia_data_2, hue='НДПИ (нефть) 2014',\n",
    "    cmap=newcmp, linewidth=0.5, edgecolor='white', k=None,  \n",
    "    projection=proj,  ax=axarr[0]\n",
    ")\n",
    "\n",
    "sm = plt.cm.ScalarMappable(cmap=newcmp)\n",
    "sm._A = []\n",
    "\n",
    "cbar = plt.colorbar(sm, ax=axarr[0], fraction=0.005, pad = -0.05, ticks=[0, 0.5, 1]) #orientation='horizontal',\n",
    "cbar.ax.set_yticklabels([' 0', ' 125,000', '> 250,000'])  \n",
    "# cbar.set_label(r'$\\zeta\\ [s^{-1}]$', fontsize=16)\n",
    "cbar.ax.tick_params(labelsize=40)\n",
    "\n",
    "\n",
    "\n",
    "gplt.choropleth(\n",
    "    russia_data_2, hue='НДПИ (нефть) 2017',\n",
    "    cmap=newcmp, linewidth=0.5, edgecolor='white', k=None,  legend = False,  #legend_kwargs={'size':3},\n",
    "    projection=proj,  ax=axarr[1] \n",
    "    \n",
    ");\n",
    "\n",
    "\n",
    "\n",
    "\n"
   ]
  },
  {
   "cell_type": "code",
   "execution_count": null,
   "metadata": {
    "ExecuteTime": {
     "end_time": "2019-09-16T02:59:20.644749Z",
     "start_time": "2019-09-16T02:59:20.640556Z"
    },
    "scrolled": true
   },
   "outputs": [],
   "source": [
    "russia_data.columns"
   ]
  },
  {
   "cell_type": "code",
   "execution_count": null,
   "metadata": {
    "ExecuteTime": {
     "end_time": "2019-09-18T10:30:56.766495Z",
     "start_time": "2019-09-18T10:30:56.763499Z"
    }
   },
   "outputs": [],
   "source": [
    "colnameee = 'Акцизы на нефтепродукты (суб.бюджет) 2014'"
   ]
  },
  {
   "cell_type": "code",
   "execution_count": null,
   "metadata": {
    "ExecuteTime": {
     "end_time": "2019-09-18T10:30:57.830871Z",
     "start_time": "2019-09-18T10:30:57.828945Z"
    }
   },
   "outputs": [],
   "source": [
    "# russia_data_2[colnameee][colnameee]<60]"
   ]
  },
  {
   "cell_type": "code",
   "execution_count": null,
   "metadata": {
    "ExecuteTime": {
     "end_time": "2019-09-18T10:30:58.805687Z",
     "start_time": "2019-09-18T10:30:58.802648Z"
    }
   },
   "outputs": [],
   "source": [
    "m1 = russia_data_2[colnameee].max()\n",
    "m0 = russia_data_2[colnameee].min()\n",
    "m05 = (m1+m0)/2"
   ]
  },
  {
   "cell_type": "code",
   "execution_count": null,
   "metadata": {
    "ExecuteTime": {
     "end_time": "2019-09-18T10:30:59.687373Z",
     "start_time": "2019-09-18T10:30:59.684529Z"
    }
   },
   "outputs": [],
   "source": [
    "m0, m05,  m1"
   ]
  },
  {
   "cell_type": "code",
   "execution_count": null,
   "metadata": {
    "ExecuteTime": {
     "end_time": "2019-09-18T10:31:03.160431Z",
     "start_time": "2019-09-18T10:31:00.601442Z"
    }
   },
   "outputs": [],
   "source": [
    "gplt.choropleth(\n",
    "    russia_data_2, hue=colnameee,\n",
    "    cmap=rbcmp, linewidth=0.5, edgecolor='white', k=None, legend=True,  #legend_kwargs={'size':3},\n",
    "    projection=proj\n",
    ");"
   ]
  },
  {
   "cell_type": "code",
   "execution_count": null,
   "metadata": {
    "ExecuteTime": {
     "end_time": "2019-09-18T10:31:04.014165Z",
     "start_time": "2019-09-18T10:31:04.009102Z"
    },
    "scrolled": true
   },
   "outputs": [],
   "source": [
    "russia_data_2[colnameee][russia_data_2[colnameee] > 30000] = 30000\n",
    "# = 250000\n",
    "# =  19000"
   ]
  },
  {
   "cell_type": "code",
   "execution_count": null,
   "metadata": {
    "ExecuteTime": {
     "end_time": "2019-09-18T10:31:04.904407Z",
     "start_time": "2019-09-18T10:31:04.899718Z"
    }
   },
   "outputs": [],
   "source": [
    "russia_data_2[colnameee][russia_data_2[colnameee] < -300] = -300\n",
    "# = 1.4"
   ]
  },
  {
   "cell_type": "code",
   "execution_count": null,
   "metadata": {
    "ExecuteTime": {
     "end_time": "2019-09-18T10:31:06.603147Z",
     "start_time": "2019-09-18T10:31:06.600981Z"
    }
   },
   "outputs": [],
   "source": [
    "# russia_data_2['Выход светлых нефтепродуктов, %'][russia_data_2['Выход светлых нефтепродуктов, %']<60]"
   ]
  },
  {
   "cell_type": "code",
   "execution_count": null,
   "metadata": {
    "ExecuteTime": {
     "end_time": "2019-09-18T10:31:07.671884Z",
     "start_time": "2019-09-18T10:31:07.669180Z"
    }
   },
   "outputs": [],
   "source": [
    "m1 = russia_data_3[colnameee].max()\n",
    "m0 = russia_data_3[colnameee].min()\n",
    "m05 = (m1+m0)/2"
   ]
  },
  {
   "cell_type": "code",
   "execution_count": null,
   "metadata": {
    "ExecuteTime": {
     "end_time": "2019-09-18T10:31:10.813237Z",
     "start_time": "2019-09-18T10:31:10.809835Z"
    }
   },
   "outputs": [],
   "source": [
    "m0, m05,  m1"
   ]
  },
  {
   "cell_type": "code",
   "execution_count": null,
   "metadata": {
    "ExecuteTime": {
     "end_time": "2019-09-18T10:31:41.417107Z",
     "start_time": "2019-09-18T10:31:41.412014Z"
    }
   },
   "outputs": [],
   "source": [
    "replce10 = russia_data_2[colnameee].min() - (russia_data_2[colnameee].max() - russia_data_2[colnameee].min()) * 0.01\n",
    "russia_data_2[colnameee] = russia_data_2[colnameee].fillna(-350)\n",
    "replce10"
   ]
  },
  {
   "cell_type": "code",
   "execution_count": null,
   "metadata": {
    "ExecuteTime": {
     "end_time": "2019-09-18T10:31:44.209740Z",
     "start_time": "2019-09-18T10:31:44.207714Z"
    }
   },
   "outputs": [],
   "source": [
    "colnameee = 'Акцизы на нефтепродукты (суб.бюджет) 2017'"
   ]
  },
  {
   "cell_type": "code",
   "execution_count": null,
   "metadata": {
    "ExecuteTime": {
     "end_time": "2019-09-18T10:31:48.052803Z",
     "start_time": "2019-09-18T10:31:45.271734Z"
    }
   },
   "outputs": [],
   "source": [
    "gplt.choropleth(\n",
    "    russia_data, hue=colnameee,\n",
    "    cmap=rbcmp, linewidth=0.5, edgecolor='white', k=None, legend=True,  #legend_kwargs={'size':3},\n",
    "    projection=proj\n",
    ");"
   ]
  },
  {
   "cell_type": "code",
   "execution_count": null,
   "metadata": {
    "ExecuteTime": {
     "end_time": "2019-09-18T10:31:49.026823Z",
     "start_time": "2019-09-18T10:31:49.025059Z"
    }
   },
   "outputs": [],
   "source": [
    "# russia_data_2['Выход светлых нефтепродуктов, %'][russia_data_2['Выход светлых нефтепродуктов, %']<60]"
   ]
  },
  {
   "cell_type": "code",
   "execution_count": null,
   "metadata": {
    "ExecuteTime": {
     "end_time": "2019-09-18T10:31:49.968662Z",
     "start_time": "2019-09-18T10:31:49.963781Z"
    }
   },
   "outputs": [],
   "source": [
    "russia_data_2[colnameee][russia_data_2[colnameee] > 30000] = 30000\n",
    "# = 19000"
   ]
  },
  {
   "cell_type": "code",
   "execution_count": null,
   "metadata": {
    "ExecuteTime": {
     "end_time": "2019-09-18T10:31:50.943198Z",
     "start_time": "2019-09-18T10:31:50.938133Z"
    }
   },
   "outputs": [],
   "source": [
    "russia_data_2[colnameee][russia_data_2[colnameee] < -300] = -300\n",
    "# = 15000"
   ]
  },
  {
   "cell_type": "code",
   "execution_count": null,
   "metadata": {
    "ExecuteTime": {
     "end_time": "2019-09-18T10:31:51.941340Z",
     "start_time": "2019-09-18T10:31:51.938096Z"
    }
   },
   "outputs": [],
   "source": [
    "m1 = russia_data_2[colnameee].max()\n",
    "m0 = russia_data_2[colnameee].min()\n",
    "m05 = (m1+m0)/2"
   ]
  },
  {
   "cell_type": "code",
   "execution_count": null,
   "metadata": {
    "ExecuteTime": {
     "end_time": "2019-09-18T10:31:52.973485Z",
     "start_time": "2019-09-18T10:31:52.970265Z"
    }
   },
   "outputs": [],
   "source": [
    "m0, m05,  m1"
   ]
  },
  {
   "cell_type": "code",
   "execution_count": null,
   "metadata": {
    "ExecuteTime": {
     "end_time": "2019-09-18T10:31:59.638119Z",
     "start_time": "2019-09-18T10:31:59.632971Z"
    }
   },
   "outputs": [],
   "source": [
    "replce10 = russia_data_2[colnameee].min() - (russia_data_2[colnameee].max() - russia_data_2[colnameee].min()) * 0.01\n",
    "russia_data_2[colnameee] = russia_data_2[colnameee].fillna(-350)\n",
    "replce10"
   ]
  },
  {
   "cell_type": "code",
   "execution_count": null,
   "metadata": {
    "ExecuteTime": {
     "end_time": "2019-09-18T10:32:11.410667Z",
     "start_time": "2019-09-18T10:32:05.380644Z"
    },
    "scrolled": false
   },
   "outputs": [],
   "source": [
    "proj = gcrs.AlbersEqualArea(central_longitude=94, central_latitude=60)\n",
    "\n",
    "f, axarr = plt.subplots(1, 2, figsize=(100, 20), subplot_kw={\n",
    "    'projection': proj\n",
    "})\n",
    "\n",
    "f.subplots_adjust(wspace=-0.15)\n",
    "\n",
    "gplt.choropleth(\n",
    "    russia_data_2, hue='Акцизы на нефтепродукты (суб.бюджет) 2014',\n",
    "    cmap=newcmp, linewidth=0.5, edgecolor='white', k=None,  \n",
    "    projection=proj,  ax=axarr[0]\n",
    ")\n",
    "\n",
    "sm = plt.cm.ScalarMappable(cmap=newcmp)\n",
    "sm._A = []\n",
    "\n",
    "cbar = plt.colorbar(sm, ax=axarr[0], fraction=0.005, pad = -0.05, ticks=[0, 0.5, 1]) #orientation='horizontal',\n",
    "cbar.ax.set_yticklabels([' < - 300', '  15,000', ' > 30,000'])  \n",
    "# cbar.set_label(r'$\\zeta\\ [s^{-1}]$', fontsize=16)\n",
    "cbar.ax.tick_params(labelsize=40)\n",
    "\n",
    "\n",
    "\n",
    "gplt.choropleth(\n",
    "    russia_data_2, hue='Акцизы на нефтепродукты (суб.бюджет) 2017',\n",
    "    cmap=newcmp, linewidth=0.5, edgecolor='white', k=None,  legend = False,  #legend_kwargs={'size':3},\n",
    "    projection=proj,  ax=axarr[1] \n",
    "    \n",
    ");\n",
    "\n",
    "\n",
    "\n",
    "\n"
   ]
  },
  {
   "cell_type": "code",
   "execution_count": null,
   "metadata": {
    "ExecuteTime": {
     "end_time": "2019-09-16T02:59:20.644749Z",
     "start_time": "2019-09-16T02:59:20.640556Z"
    },
    "scrolled": true
   },
   "outputs": [],
   "source": [
    "russia_data.columns"
   ]
  },
  {
   "cell_type": "code",
   "execution_count": null,
   "metadata": {
    "ExecuteTime": {
     "end_time": "2019-09-16T03:24:12.655177Z",
     "start_time": "2019-09-16T03:24:12.652736Z"
    }
   },
   "outputs": [],
   "source": [
    "colnameee = 'Акцизы на нефтепродукты (факт. 2016 г. )'"
   ]
  },
  {
   "cell_type": "code",
   "execution_count": null,
   "metadata": {
    "ExecuteTime": {
     "end_time": "2019-09-16T03:20:51.895780Z",
     "start_time": "2019-09-16T03:20:51.893711Z"
    }
   },
   "outputs": [],
   "source": [
    "# russia_data_2[colnameee][colnameee]<60]"
   ]
  },
  {
   "cell_type": "code",
   "execution_count": null,
   "metadata": {
    "ExecuteTime": {
     "end_time": "2019-09-16T03:20:56.760121Z",
     "start_time": "2019-09-16T03:20:56.756928Z"
    }
   },
   "outputs": [],
   "source": [
    "m1 = russia_data_2[colnameee].max()\n",
    "m0 = russia_data_2[colnameee].min()\n",
    "m05 = (m1+m0)/2"
   ]
  },
  {
   "cell_type": "code",
   "execution_count": null,
   "metadata": {
    "ExecuteTime": {
     "end_time": "2019-09-16T03:21:01.688575Z",
     "start_time": "2019-09-16T03:21:01.685201Z"
    }
   },
   "outputs": [],
   "source": [
    "m0, m05,  m1"
   ]
  },
  {
   "cell_type": "code",
   "execution_count": null,
   "metadata": {
    "ExecuteTime": {
     "end_time": "2019-09-16T03:21:09.847597Z",
     "start_time": "2019-09-16T03:21:06.987139Z"
    }
   },
   "outputs": [],
   "source": [
    "gplt.choropleth(\n",
    "    russia_data_2, hue=colnameee,\n",
    "    cmap=rbcmp, linewidth=0.5, edgecolor='white', k=None, legend=True,  #legend_kwargs={'size':3},\n",
    "    projection=proj\n",
    ");"
   ]
  },
  {
   "cell_type": "code",
   "execution_count": null,
   "metadata": {
    "ExecuteTime": {
     "end_time": "2019-09-16T03:25:11.355291Z",
     "start_time": "2019-09-16T03:25:11.350945Z"
    },
    "scrolled": true
   },
   "outputs": [],
   "source": [
    "russia_data_2[colnameee][russia_data_2[colnameee] > 16000] = 16000\n",
    "# =  19000"
   ]
  },
  {
   "cell_type": "code",
   "execution_count": null,
   "metadata": {
    "ExecuteTime": {
     "end_time": "2019-09-16T02:38:55.195528Z",
     "start_time": "2019-09-16T02:38:55.190576Z"
    }
   },
   "outputs": [],
   "source": [
    "russia_data_2[colnameee][russia_data_2[colnameee] < 16000]\n",
    "# = 1.4"
   ]
  },
  {
   "cell_type": "code",
   "execution_count": null,
   "metadata": {
    "ExecuteTime": {
     "end_time": "2019-09-16T02:03:07.494956Z",
     "start_time": "2019-09-16T02:03:07.492919Z"
    }
   },
   "outputs": [],
   "source": [
    "# russia_data_2['Выход светлых нефтепродуктов, %'][russia_data_2['Выход светлых нефтепродуктов, %']<60]"
   ]
  },
  {
   "cell_type": "code",
   "execution_count": null,
   "metadata": {
    "ExecuteTime": {
     "end_time": "2019-09-16T02:32:09.506006Z",
     "start_time": "2019-09-16T02:32:09.503186Z"
    }
   },
   "outputs": [],
   "source": [
    "m1 = russia_data_3[colnameee].max()\n",
    "m0 = russia_data_3[colnameee].min()\n",
    "m05 = (m1+m0)/2"
   ]
  },
  {
   "cell_type": "code",
   "execution_count": null,
   "metadata": {
    "ExecuteTime": {
     "end_time": "2019-09-16T02:32:14.557709Z",
     "start_time": "2019-09-16T02:32:14.554454Z"
    }
   },
   "outputs": [],
   "source": [
    "m0, m05,  m1"
   ]
  },
  {
   "cell_type": "code",
   "execution_count": null,
   "metadata": {
    "ExecuteTime": {
     "end_time": "2019-09-16T03:25:16.551403Z",
     "start_time": "2019-09-16T03:25:16.546778Z"
    }
   },
   "outputs": [],
   "source": [
    "colnameee = 'Акцизы на нефтепродукты (Прогноз 2017 г.)'"
   ]
  },
  {
   "cell_type": "code",
   "execution_count": null,
   "metadata": {
    "ExecuteTime": {
     "end_time": "2019-09-16T03:21:23.443005Z",
     "start_time": "2019-09-16T03:21:20.450974Z"
    }
   },
   "outputs": [],
   "source": [
    "gplt.choropleth(\n",
    "    russia_data, hue=colnameee,\n",
    "    cmap=rbcmp, linewidth=0.5, edgecolor='white', k=None, legend=True,  #legend_kwargs={'size':3},\n",
    "    projection=proj\n",
    ");"
   ]
  },
  {
   "cell_type": "code",
   "execution_count": null,
   "metadata": {
    "ExecuteTime": {
     "end_time": "2019-09-16T02:16:03.303367Z",
     "start_time": "2019-09-16T02:16:03.301468Z"
    }
   },
   "outputs": [],
   "source": [
    "# russia_data_2['Выход светлых нефтепродуктов, %'][russia_data_2['Выход светлых нефтепродуктов, %']<60]"
   ]
  },
  {
   "cell_type": "code",
   "execution_count": null,
   "metadata": {
    "ExecuteTime": {
     "end_time": "2019-09-16T03:25:29.945274Z",
     "start_time": "2019-09-16T03:25:29.941030Z"
    }
   },
   "outputs": [],
   "source": [
    "russia_data_2[colnameee][russia_data_2[colnameee] > 16000] = 16000\n",
    "# = 19000"
   ]
  },
  {
   "cell_type": "code",
   "execution_count": null,
   "metadata": {
    "ExecuteTime": {
     "end_time": "2019-09-16T03:27:05.476135Z",
     "start_time": "2019-09-16T03:27:05.471815Z"
    }
   },
   "outputs": [],
   "source": [
    "russia_data_2[colnameee][russia_data_2[colnameee] < 100] = 0\n",
    "# = 0"
   ]
  },
  {
   "cell_type": "code",
   "execution_count": null,
   "metadata": {
    "ExecuteTime": {
     "end_time": "2019-09-16T03:23:43.779119Z",
     "start_time": "2019-09-16T03:23:43.775991Z"
    }
   },
   "outputs": [],
   "source": [
    "m1 = russia_data_2[colnameee].max()\n",
    "m0 = russia_data_2[colnameee].min()\n",
    "m05 = (m1+m0)/2"
   ]
  },
  {
   "cell_type": "code",
   "execution_count": null,
   "metadata": {
    "ExecuteTime": {
     "end_time": "2019-09-16T03:23:48.991395Z",
     "start_time": "2019-09-16T03:23:48.988408Z"
    }
   },
   "outputs": [],
   "source": [
    "m0, m05,  m1"
   ]
  },
  {
   "cell_type": "code",
   "execution_count": null,
   "metadata": {
    "ExecuteTime": {
     "end_time": "2019-09-16T02:55:07.988439Z",
     "start_time": "2019-09-16T02:55:07.985108Z"
    }
   },
   "outputs": [],
   "source": [
    "(30+46)/2"
   ]
  },
  {
   "cell_type": "code",
   "execution_count": null,
   "metadata": {
    "ExecuteTime": {
     "end_time": "2019-09-16T03:28:39.820189Z",
     "start_time": "2019-09-16T03:28:39.817376Z"
    }
   },
   "outputs": [],
   "source": [
    "viridis = cm.get_cmap('viridis', 256)\n",
    "newcolors = viridis(np.linspace(1, 0, 256))\n",
    "# grey = np.array([192/256, 192/256, 192/256, 1])\n",
    "# newcolors[:1, :] = grey\n",
    "newcmp = ListedColormap(newcolors)"
   ]
  },
  {
   "cell_type": "code",
   "execution_count": null,
   "metadata": {
    "ExecuteTime": {
     "end_time": "2019-09-16T03:28:51.150123Z",
     "start_time": "2019-09-16T03:28:44.936985Z"
    },
    "scrolled": true
   },
   "outputs": [],
   "source": [
    "proj = gcrs.AlbersEqualArea(central_longitude=94, central_latitude=60)\n",
    "\n",
    "f, axarr = plt.subplots(1, 2, figsize=(100, 20), subplot_kw={\n",
    "    'projection': proj\n",
    "})\n",
    "\n",
    "f.subplots_adjust(wspace=-0.15)\n",
    "\n",
    "gplt.choropleth(\n",
    "    russia_data_2, hue='Акцизы на нефтепродукты (факт. 2016 г. )',\n",
    "    cmap=newcmp, linewidth=0.5, edgecolor='white', k=None,  \n",
    "    projection=proj,  ax=axarr[0]\n",
    ")\n",
    "\n",
    "sm = plt.cm.ScalarMappable(cmap=newcmp)\n",
    "sm._A = []\n",
    "\n",
    "cbar = plt.colorbar(sm, ax=axarr[0], fraction=0.005, pad = -0.05, ticks=[0, 0.5, 1]) #orientation='horizontal',\n",
    "cbar.ax.set_yticklabels([' 0', ' 8,000', ' 16,000'])  \n",
    "# cbar.set_label(r'$\\zeta\\ [s^{-1}]$', fontsize=16)\n",
    "cbar.ax.tick_params(labelsize=40)\n",
    "\n",
    "\n",
    "\n",
    "gplt.choropleth(\n",
    "    russia_data_2, hue='Акцизы на нефтепродукты (Прогноз 2017 г.)',\n",
    "    cmap=newcmp, linewidth=0.5, edgecolor='white', k=None,  legend = False,  #legend_kwargs={'size':3},\n",
    "    projection=proj,  ax=axarr[1] \n",
    "    \n",
    ");\n",
    "\n",
    "\n",
    "\n",
    "\n"
   ]
  },
  {
   "cell_type": "code",
   "execution_count": null,
   "metadata": {
    "ExecuteTime": {
     "end_time": "2019-09-16T03:28:56.724227Z",
     "start_time": "2019-09-16T03:28:56.719294Z"
    }
   },
   "outputs": [],
   "source": [
    "viridis = cm.get_cmap('viridis', 256)\n",
    "newcolors = viridis(np.linspace(1, 0, 256))\n",
    "grey = np.array([192/256, 192/256, 192/256, 1])\n",
    "newcolors[:1, :] = grey\n",
    "newcmp = ListedColormap(newcolors)"
   ]
  },
  {
   "cell_type": "markdown",
   "metadata": {},
   "source": [
    "### Задолженность по налоговым платежам (НДПИ, акциз) в региональном разрезе"
   ]
  },
  {
   "cell_type": "markdown",
   "metadata": {},
   "source": [
    "- [ВИЗУАЛИЗАЦИЯ ДАННЫХ, ХАРАКТЕРИЗУЮЩИХ НАЛОГОВУЮ КУЛЬТУРУ В НЕФТЕГАЗОВОМ СЕКТОРЕ](https://wciom.ru/fileadmin/file/monitoring/2016/134/2016_134_10_Karibekova.pdf)"
   ]
  },
  {
   "cell_type": "code",
   "execution_count": null,
   "metadata": {
    "ExecuteTime": {
     "end_time": "2019-09-18T10:33:54.133176Z",
     "start_time": "2019-09-18T10:33:54.130034Z"
    },
    "scrolled": true
   },
   "outputs": [],
   "source": [
    "russia_data.columns"
   ]
  },
  {
   "cell_type": "code",
   "execution_count": null,
   "metadata": {
    "ExecuteTime": {
     "end_time": "2019-09-18T10:33:55.217805Z",
     "start_time": "2019-09-18T10:33:55.215866Z"
    }
   },
   "outputs": [],
   "source": [
    "colnameee = 'Задолженность по НДПИ 2014'"
   ]
  },
  {
   "cell_type": "code",
   "execution_count": null,
   "metadata": {
    "ExecuteTime": {
     "end_time": "2019-09-16T03:30:38.237500Z",
     "start_time": "2019-09-16T03:30:38.235826Z"
    }
   },
   "outputs": [],
   "source": [
    "# russia_data_2[colnameee][colnameee]<60]"
   ]
  },
  {
   "cell_type": "code",
   "execution_count": null,
   "metadata": {
    "ExecuteTime": {
     "end_time": "2019-09-18T10:33:58.777180Z",
     "start_time": "2019-09-18T10:33:58.774392Z"
    }
   },
   "outputs": [],
   "source": [
    "m1 = russia_data_2[colnameee].max()\n",
    "m0 = russia_data_2[colnameee].min()\n",
    "m05 = (m1+m0)/2"
   ]
  },
  {
   "cell_type": "code",
   "execution_count": null,
   "metadata": {
    "ExecuteTime": {
     "end_time": "2019-09-18T10:33:59.855838Z",
     "start_time": "2019-09-18T10:33:59.851393Z"
    }
   },
   "outputs": [],
   "source": [
    "m0, m05,  m1"
   ]
  },
  {
   "cell_type": "code",
   "execution_count": null,
   "metadata": {
    "ExecuteTime": {
     "end_time": "2019-09-16T03:30:56.617646Z",
     "start_time": "2019-09-16T03:30:53.922242Z"
    }
   },
   "outputs": [],
   "source": [
    "gplt.choropleth(\n",
    "    russia_data_2, hue=colnameee,\n",
    "    cmap=rbcmp, linewidth=0.5, edgecolor='white', k=None, legend=True,  #legend_kwargs={'size':3},\n",
    "    projection=proj\n",
    ");"
   ]
  },
  {
   "cell_type": "code",
   "execution_count": null,
   "metadata": {
    "ExecuteTime": {
     "end_time": "2019-09-18T10:34:15.363613Z",
     "start_time": "2019-09-18T10:34:15.358824Z"
    },
    "scrolled": true
   },
   "outputs": [],
   "source": [
    "russia_data_2[colnameee][russia_data_2[colnameee] > 500] = 500\n",
    "# = 30000\n",
    "# = 250000\n",
    "# =  19000"
   ]
  },
  {
   "cell_type": "code",
   "execution_count": null,
   "metadata": {
    "ExecuteTime": {
     "end_time": "2019-09-18T10:34:19.339066Z",
     "start_time": "2019-09-18T10:34:19.333761Z"
    }
   },
   "outputs": [],
   "source": [
    "russia_data_2[colnameee][russia_data_2[colnameee] < -300] = -300\n",
    "# = 1.4"
   ]
  },
  {
   "cell_type": "code",
   "execution_count": null,
   "metadata": {
    "ExecuteTime": {
     "end_time": "2019-09-18T10:34:21.950873Z",
     "start_time": "2019-09-18T10:34:21.948612Z"
    }
   },
   "outputs": [],
   "source": [
    "# russia_data_2['Выход светлых нефтепродуктов, %'][russia_data_2['Выход светлых нефтепродуктов, %']<60]"
   ]
  },
  {
   "cell_type": "code",
   "execution_count": null,
   "metadata": {
    "ExecuteTime": {
     "end_time": "2019-09-18T10:34:23.027639Z",
     "start_time": "2019-09-18T10:34:23.025253Z"
    }
   },
   "outputs": [],
   "source": [
    "m1 = russia_data_3[colnameee].max()\n",
    "m0 = russia_data_3[colnameee].min()\n",
    "m05 = (m1+m0)/2"
   ]
  },
  {
   "cell_type": "code",
   "execution_count": null,
   "metadata": {
    "ExecuteTime": {
     "end_time": "2019-09-18T10:34:23.958087Z",
     "start_time": "2019-09-18T10:34:23.955312Z"
    }
   },
   "outputs": [],
   "source": [
    "m0, m05,  m1"
   ]
  },
  {
   "cell_type": "code",
   "execution_count": null,
   "metadata": {
    "ExecuteTime": {
     "end_time": "2019-09-16T03:32:46.344556Z",
     "start_time": "2019-09-16T03:32:46.342557Z"
    }
   },
   "outputs": [],
   "source": [
    "colnameee = 'Задолженность по НДПИ 2017'"
   ]
  },
  {
   "cell_type": "code",
   "execution_count": null,
   "metadata": {
    "ExecuteTime": {
     "end_time": "2019-09-16T03:31:08.520310Z",
     "start_time": "2019-09-16T03:31:05.875608Z"
    }
   },
   "outputs": [],
   "source": [
    "gplt.choropleth(\n",
    "    russia_data, hue=colnameee,\n",
    "    cmap=rbcmp, linewidth=0.5, edgecolor='white', k=None, legend=True,  #legend_kwargs={'size':3},\n",
    "    projection=proj\n",
    ");"
   ]
  },
  {
   "cell_type": "code",
   "execution_count": null,
   "metadata": {
    "ExecuteTime": {
     "end_time": "2019-09-16T02:16:03.303367Z",
     "start_time": "2019-09-16T02:16:03.301468Z"
    }
   },
   "outputs": [],
   "source": [
    "# russia_data_2['Выход светлых нефтепродуктов, %'][russia_data_2['Выход светлых нефтепродуктов, %']<60]"
   ]
  },
  {
   "cell_type": "code",
   "execution_count": null,
   "metadata": {
    "ExecuteTime": {
     "end_time": "2019-09-16T03:32:51.141162Z",
     "start_time": "2019-09-16T03:32:51.136257Z"
    }
   },
   "outputs": [],
   "source": [
    "russia_data_2[colnameee][russia_data_2[colnameee] > 500] = 500\n",
    "# = 19000"
   ]
  },
  {
   "cell_type": "code",
   "execution_count": null,
   "metadata": {
    "ExecuteTime": {
     "end_time": "2019-09-16T03:18:20.486833Z",
     "start_time": "2019-09-16T03:18:20.480949Z"
    }
   },
   "outputs": [],
   "source": [
    "russia_data_2[colnameee][russia_data_2[colnameee] < -300] = -300\n",
    "# = 15000"
   ]
  },
  {
   "cell_type": "code",
   "execution_count": null,
   "metadata": {
    "ExecuteTime": {
     "end_time": "2019-09-16T03:31:13.017563Z",
     "start_time": "2019-09-16T03:31:13.014995Z"
    }
   },
   "outputs": [],
   "source": [
    "m1 = russia_data_2[colnameee].max()\n",
    "m0 = russia_data_2[colnameee].min()\n",
    "m05 = (m1+m0)/2"
   ]
  },
  {
   "cell_type": "code",
   "execution_count": null,
   "metadata": {
    "ExecuteTime": {
     "end_time": "2019-09-16T03:31:17.489072Z",
     "start_time": "2019-09-16T03:31:17.486421Z"
    }
   },
   "outputs": [],
   "source": [
    "m0, m05,  m1"
   ]
  },
  {
   "cell_type": "code",
   "execution_count": null,
   "metadata": {
    "ExecuteTime": {
     "end_time": "2019-09-16T03:31:21.916755Z",
     "start_time": "2019-09-16T03:31:21.913679Z"
    }
   },
   "outputs": [],
   "source": [
    "(30+46)/2"
   ]
  },
  {
   "cell_type": "code",
   "execution_count": null,
   "metadata": {
    "ExecuteTime": {
     "end_time": "2019-09-16T03:33:12.826692Z",
     "start_time": "2019-09-16T03:33:06.633127Z"
    },
    "scrolled": false
   },
   "outputs": [],
   "source": [
    "proj = gcrs.AlbersEqualArea(central_longitude=94, central_latitude=60)\n",
    "\n",
    "f, axarr = plt.subplots(1, 2, figsize=(100, 20), subplot_kw={\n",
    "    'projection': proj\n",
    "})\n",
    "\n",
    "f.subplots_adjust(wspace=-0.15)\n",
    "\n",
    "gplt.choropleth(\n",
    "    russia_data_2, hue='Задолженность по НДПИ 2014',\n",
    "    cmap=newcmp, linewidth=0.5, edgecolor='white', k=None,  \n",
    "    projection=proj,  ax=axarr[0]\n",
    ")\n",
    "\n",
    "sm = plt.cm.ScalarMappable(cmap=newcmp)\n",
    "sm._A = []\n",
    "\n",
    "cbar = plt.colorbar(sm, ax=axarr[0], fraction=0.005, pad = -0.05, ticks=[0, 0.5, 1]) #orientation='horizontal',\n",
    "cbar.ax.set_yticklabels([' 0', '  250', ' > 500'])  \n",
    "# cbar.set_label(r'$\\zeta\\ [s^{-1}]$', fontsize=16)\n",
    "cbar.ax.tick_params(labelsize=40)\n",
    "\n",
    "\n",
    "\n",
    "gplt.choropleth(\n",
    "    russia_data_2, hue='Задолженность по НДПИ 2017',\n",
    "    cmap=newcmp, linewidth=0.5, edgecolor='white', k=None,  legend = False,  #legend_kwargs={'size':3},\n",
    "    projection=proj,  ax=axarr[1] \n",
    "    \n",
    ");\n",
    "\n",
    "\n",
    "\n",
    "\n"
   ]
  },
  {
   "cell_type": "code",
   "execution_count": null,
   "metadata": {
    "ExecuteTime": {
     "end_time": "2019-09-16T02:59:20.644749Z",
     "start_time": "2019-09-16T02:59:20.640556Z"
    },
    "scrolled": true
   },
   "outputs": [],
   "source": [
    "russia_data.columns"
   ]
  },
  {
   "cell_type": "code",
   "execution_count": null,
   "metadata": {
    "ExecuteTime": {
     "end_time": "2019-09-16T03:37:23.312920Z",
     "start_time": "2019-09-16T03:37:23.310737Z"
    }
   },
   "outputs": [],
   "source": [
    "colnameee = 'Задолженность по акцизу на нефтепродукты 2014'"
   ]
  },
  {
   "cell_type": "code",
   "execution_count": null,
   "metadata": {
    "ExecuteTime": {
     "end_time": "2019-09-16T03:33:51.941368Z",
     "start_time": "2019-09-16T03:33:51.938770Z"
    }
   },
   "outputs": [],
   "source": [
    "# russia_data_2[colnameee][colnameee]<60]"
   ]
  },
  {
   "cell_type": "code",
   "execution_count": null,
   "metadata": {
    "ExecuteTime": {
     "end_time": "2019-09-16T03:33:57.288381Z",
     "start_time": "2019-09-16T03:33:57.284666Z"
    }
   },
   "outputs": [],
   "source": [
    "m1 = russia_data_2[colnameee].max()\n",
    "m0 = russia_data_2[colnameee].min()\n",
    "m05 = (m1+m0)/2"
   ]
  },
  {
   "cell_type": "code",
   "execution_count": null,
   "metadata": {
    "ExecuteTime": {
     "end_time": "2019-09-16T03:34:02.551293Z",
     "start_time": "2019-09-16T03:34:02.548440Z"
    }
   },
   "outputs": [],
   "source": [
    "m0, m05,  m1"
   ]
  },
  {
   "cell_type": "code",
   "execution_count": null,
   "metadata": {
    "ExecuteTime": {
     "end_time": "2019-09-16T03:34:10.649349Z",
     "start_time": "2019-09-16T03:34:07.754984Z"
    }
   },
   "outputs": [],
   "source": [
    "gplt.choropleth(\n",
    "    russia_data_2, hue=colnameee,\n",
    "    cmap=rbcmp, linewidth=0.5, edgecolor='white', k=None, legend=True,  #legend_kwargs={'size':3},\n",
    "    projection=proj\n",
    ");"
   ]
  },
  {
   "cell_type": "code",
   "execution_count": null,
   "metadata": {
    "ExecuteTime": {
     "end_time": "2019-09-16T03:35:15.772138Z",
     "start_time": "2019-09-16T03:35:15.766817Z"
    },
    "scrolled": true
   },
   "outputs": [],
   "source": [
    "russia_data_2[colnameee][russia_data_2[colnameee] > 500] = 500\n",
    "# = 30000\n",
    "# = 250000\n",
    "# =  19000"
   ]
  },
  {
   "cell_type": "code",
   "execution_count": null,
   "metadata": {
    "ExecuteTime": {
     "end_time": "2019-09-16T03:37:28.485244Z",
     "start_time": "2019-09-16T03:37:28.480411Z"
    }
   },
   "outputs": [],
   "source": [
    "russia_data_2[colnameee][russia_data_2[colnameee].isna()] = -5"
   ]
  },
  {
   "cell_type": "code",
   "execution_count": null,
   "metadata": {
    "ExecuteTime": {
     "end_time": "2019-09-16T03:18:05.074408Z",
     "start_time": "2019-09-16T03:18:05.069685Z"
    }
   },
   "outputs": [],
   "source": [
    "russia_data_2[colnameee][russia_data_2[colnameee] < -300] = -300\n",
    "# = 1.4"
   ]
  },
  {
   "cell_type": "code",
   "execution_count": null,
   "metadata": {
    "ExecuteTime": {
     "end_time": "2019-09-16T02:03:07.494956Z",
     "start_time": "2019-09-16T02:03:07.492919Z"
    }
   },
   "outputs": [],
   "source": [
    "# russia_data_2['Выход светлых нефтепродуктов, %'][russia_data_2['Выход светлых нефтепродуктов, %']<60]"
   ]
  },
  {
   "cell_type": "code",
   "execution_count": null,
   "metadata": {
    "ExecuteTime": {
     "end_time": "2019-09-16T02:32:09.506006Z",
     "start_time": "2019-09-16T02:32:09.503186Z"
    }
   },
   "outputs": [],
   "source": [
    "m1 = russia_data_3[colnameee].max()\n",
    "m0 = russia_data_3[colnameee].min()\n",
    "m05 = (m1+m0)/2"
   ]
  },
  {
   "cell_type": "code",
   "execution_count": null,
   "metadata": {
    "ExecuteTime": {
     "end_time": "2019-09-16T02:32:14.557709Z",
     "start_time": "2019-09-16T02:32:14.554454Z"
    }
   },
   "outputs": [],
   "source": [
    "m0, m05,  m1"
   ]
  },
  {
   "cell_type": "code",
   "execution_count": null,
   "metadata": {
    "ExecuteTime": {
     "end_time": "2019-09-16T03:35:20.974022Z",
     "start_time": "2019-09-16T03:35:20.971750Z"
    }
   },
   "outputs": [],
   "source": [
    "colnameee = 'Задолженность по акцизу на нефтепродукты 2017'"
   ]
  },
  {
   "cell_type": "code",
   "execution_count": null,
   "metadata": {
    "ExecuteTime": {
     "end_time": "2019-09-16T03:34:23.591884Z",
     "start_time": "2019-09-16T03:34:20.736937Z"
    }
   },
   "outputs": [],
   "source": [
    "gplt.choropleth(\n",
    "    russia_data, hue=colnameee,\n",
    "    cmap=rbcmp, linewidth=0.5, edgecolor='white', k=None, legend=True,  #legend_kwargs={'size':3},\n",
    "    projection=proj\n",
    ");"
   ]
  },
  {
   "cell_type": "code",
   "execution_count": null,
   "metadata": {
    "ExecuteTime": {
     "end_time": "2019-09-16T02:16:03.303367Z",
     "start_time": "2019-09-16T02:16:03.301468Z"
    }
   },
   "outputs": [],
   "source": [
    "# russia_data_2['Выход светлых нефтепродуктов, %'][russia_data_2['Выход светлых нефтепродуктов, %']<60]"
   ]
  },
  {
   "cell_type": "code",
   "execution_count": null,
   "metadata": {
    "ExecuteTime": {
     "end_time": "2019-09-16T03:35:26.534106Z",
     "start_time": "2019-09-16T03:35:26.528624Z"
    }
   },
   "outputs": [],
   "source": [
    "russia_data_2[colnameee][russia_data_2[colnameee] > 500] = 500\n",
    "# = 19000"
   ]
  },
  {
   "cell_type": "code",
   "execution_count": null,
   "metadata": {
    "ExecuteTime": {
     "end_time": "2019-09-16T03:18:20.486833Z",
     "start_time": "2019-09-16T03:18:20.480949Z"
    }
   },
   "outputs": [],
   "source": [
    "russia_data_2[colnameee][russia_data_2[colnameee] < -300] = -300\n",
    "# = 15000"
   ]
  },
  {
   "cell_type": "code",
   "execution_count": null,
   "metadata": {
    "ExecuteTime": {
     "end_time": "2019-09-16T03:34:29.236303Z",
     "start_time": "2019-09-16T03:34:29.233530Z"
    }
   },
   "outputs": [],
   "source": [
    "m1 = russia_data_2[colnameee].max()\n",
    "m0 = russia_data_2[colnameee].min()\n",
    "m05 = (m1+m0)/2"
   ]
  },
  {
   "cell_type": "code",
   "execution_count": null,
   "metadata": {
    "ExecuteTime": {
     "end_time": "2019-09-16T03:34:29.246150Z",
     "start_time": "2019-09-16T03:34:29.237551Z"
    }
   },
   "outputs": [],
   "source": [
    "m0, m05,  m1"
   ]
  },
  {
   "cell_type": "code",
   "execution_count": null,
   "metadata": {
    "ExecuteTime": {
     "end_time": "2019-09-16T02:55:07.988439Z",
     "start_time": "2019-09-16T02:55:07.985108Z"
    }
   },
   "outputs": [],
   "source": [
    "(30+46)/2"
   ]
  },
  {
   "cell_type": "code",
   "execution_count": null,
   "metadata": {
    "ExecuteTime": {
     "end_time": "2019-09-16T03:37:38.737613Z",
     "start_time": "2019-09-16T03:37:33.208049Z"
    },
    "scrolled": false
   },
   "outputs": [],
   "source": [
    "proj = gcrs.AlbersEqualArea(central_longitude=94, central_latitude=60)\n",
    "\n",
    "f, axarr = plt.subplots(1, 2, figsize=(100, 20), subplot_kw={\n",
    "    'projection': proj\n",
    "})\n",
    "\n",
    "f.subplots_adjust(wspace=-0.15)\n",
    "\n",
    "gplt.choropleth(\n",
    "    russia_data_2, hue='Задолженность по акцизу на нефтепродукты 2014',\n",
    "    cmap=newcmp, linewidth=0.5, edgecolor='white', k=None,  \n",
    "    projection=proj,  ax=axarr[0]\n",
    ")\n",
    "\n",
    "sm = plt.cm.ScalarMappable(cmap=newcmp)\n",
    "sm._A = []\n",
    "\n",
    "cbar = plt.colorbar(sm, ax=axarr[0], fraction=0.005, pad = -0.05, ticks=[0, 0.5, 1]) #orientation='horizontal',\n",
    "cbar.ax.set_yticklabels([' 0', '  250', ' > 500'])  \n",
    "# cbar.set_label(r'$\\zeta\\ [s^{-1}]$', fontsize=16)\n",
    "cbar.ax.tick_params(labelsize=40)\n",
    "\n",
    "\n",
    "\n",
    "gplt.choropleth(\n",
    "    russia_data_2, hue='Задолженность по акцизу на нефтепродукты 2017',\n",
    "    cmap=newcmp, linewidth=0.5, edgecolor='white', k=None,  legend = False,  #legend_kwargs={'size':3},\n",
    "    projection=proj,  ax=axarr[1] \n",
    "    \n",
    ");\n",
    "\n",
    "\n",
    "\n",
    "\n"
   ]
  },
  {
   "cell_type": "code",
   "execution_count": null,
   "metadata": {
    "ExecuteTime": {
     "end_time": "2019-09-16T02:59:20.644749Z",
     "start_time": "2019-09-16T02:59:20.640556Z"
    },
    "scrolled": true
   },
   "outputs": [],
   "source": [
    "russia_data.columns"
   ]
  },
  {
   "cell_type": "code",
   "execution_count": null,
   "metadata": {
    "ExecuteTime": {
     "end_time": "2019-09-16T03:40:54.196370Z",
     "start_time": "2019-09-16T03:40:54.194049Z"
    }
   },
   "outputs": [],
   "source": [
    "colnameee = 'Задолженность по налогам и сборам в добыче сырой нефти и природного газа 2014'"
   ]
  },
  {
   "cell_type": "code",
   "execution_count": null,
   "metadata": {
    "ExecuteTime": {
     "end_time": "2019-09-16T03:40:59.357073Z",
     "start_time": "2019-09-16T03:40:59.352737Z"
    }
   },
   "outputs": [],
   "source": [
    "# russia_data_2[colnameee][colnameee]<60]\n",
    "russia_data_2[colnameee][russia_data_2[colnameee].isna()] = -5"
   ]
  },
  {
   "cell_type": "code",
   "execution_count": null,
   "metadata": {
    "ExecuteTime": {
     "end_time": "2019-09-16T03:38:25.917958Z",
     "start_time": "2019-09-16T03:38:25.914269Z"
    }
   },
   "outputs": [],
   "source": [
    "m1 = russia_data_2[colnameee].max()\n",
    "m0 = russia_data_2[colnameee].min()\n",
    "m05 = (m1+m0)/2"
   ]
  },
  {
   "cell_type": "code",
   "execution_count": null,
   "metadata": {
    "ExecuteTime": {
     "end_time": "2019-09-16T03:38:30.639844Z",
     "start_time": "2019-09-16T03:38:30.636182Z"
    }
   },
   "outputs": [],
   "source": [
    "m0, m05,  m1"
   ]
  },
  {
   "cell_type": "code",
   "execution_count": null,
   "metadata": {
    "ExecuteTime": {
     "end_time": "2019-09-16T03:38:38.909960Z",
     "start_time": "2019-09-16T03:38:35.853025Z"
    }
   },
   "outputs": [],
   "source": [
    "gplt.choropleth(\n",
    "    russia_data_2, hue=colnameee,\n",
    "    cmap=rbcmp, linewidth=0.5, edgecolor='white', k=None, legend=True,  #legend_kwargs={'size':3},\n",
    "    projection=proj\n",
    ");"
   ]
  },
  {
   "cell_type": "code",
   "execution_count": null,
   "metadata": {
    "ExecuteTime": {
     "end_time": "2019-09-16T03:40:19.384737Z",
     "start_time": "2019-09-16T03:40:19.380549Z"
    },
    "scrolled": true
   },
   "outputs": [],
   "source": [
    "russia_data_2[colnameee][russia_data_2[colnameee] > 800] = 1000\n",
    "# = 30000\n",
    "# = 19000\n",
    "# =  19000"
   ]
  },
  {
   "cell_type": "code",
   "execution_count": null,
   "metadata": {
    "ExecuteTime": {
     "end_time": "2019-09-16T03:18:05.074408Z",
     "start_time": "2019-09-16T03:18:05.069685Z"
    }
   },
   "outputs": [],
   "source": [
    "russia_data_2[colnameee][russia_data_2[colnameee] < -300] = -300\n",
    "# = 1.4"
   ]
  },
  {
   "cell_type": "code",
   "execution_count": null,
   "metadata": {
    "ExecuteTime": {
     "end_time": "2019-09-16T02:03:07.494956Z",
     "start_time": "2019-09-16T02:03:07.492919Z"
    }
   },
   "outputs": [],
   "source": [
    "# russia_data_2['Выход светлых нефтепродуктов, %'][russia_data_2['Выход светлых нефтепродуктов, %']<60]"
   ]
  },
  {
   "cell_type": "code",
   "execution_count": null,
   "metadata": {
    "ExecuteTime": {
     "end_time": "2019-09-16T02:32:09.506006Z",
     "start_time": "2019-09-16T02:32:09.503186Z"
    }
   },
   "outputs": [],
   "source": [
    "m1 = russia_data_3[colnameee].max()\n",
    "m0 = russia_data_3[colnameee].min()\n",
    "m05 = (m1+m0)/2"
   ]
  },
  {
   "cell_type": "code",
   "execution_count": null,
   "metadata": {
    "ExecuteTime": {
     "end_time": "2019-09-16T02:32:14.557709Z",
     "start_time": "2019-09-16T02:32:14.554454Z"
    }
   },
   "outputs": [],
   "source": [
    "m0, m05,  m1"
   ]
  },
  {
   "cell_type": "code",
   "execution_count": null,
   "metadata": {
    "ExecuteTime": {
     "end_time": "2019-09-16T03:41:04.332147Z",
     "start_time": "2019-09-16T03:41:04.327807Z"
    }
   },
   "outputs": [],
   "source": [
    "colnameee = 'Задолженность по налогам и сборам в добыче сырой нефти и природного газа 2017'\n",
    "\n",
    "russia_data_2[colnameee][russia_data_2[colnameee].isna()] = -5"
   ]
  },
  {
   "cell_type": "code",
   "execution_count": null,
   "metadata": {
    "ExecuteTime": {
     "end_time": "2019-09-16T03:38:51.346324Z",
     "start_time": "2019-09-16T03:38:48.475022Z"
    }
   },
   "outputs": [],
   "source": [
    "gplt.choropleth(\n",
    "    russia_data, hue=colnameee,\n",
    "    cmap=rbcmp, linewidth=0.5, edgecolor='white', k=None, legend=True,  #legend_kwargs={'size':3},\n",
    "    projection=proj\n",
    ");"
   ]
  },
  {
   "cell_type": "code",
   "execution_count": null,
   "metadata": {
    "ExecuteTime": {
     "end_time": "2019-09-16T02:16:03.303367Z",
     "start_time": "2019-09-16T02:16:03.301468Z"
    }
   },
   "outputs": [],
   "source": [
    "# russia_data_2['Выход светлых нефтепродуктов, %'][russia_data_2['Выход светлых нефтепродуктов, %']<60]"
   ]
  },
  {
   "cell_type": "code",
   "execution_count": null,
   "metadata": {
    "ExecuteTime": {
     "end_time": "2019-09-16T03:40:06.347806Z",
     "start_time": "2019-09-16T03:40:06.340718Z"
    }
   },
   "outputs": [],
   "source": [
    "russia_data_2[colnameee][russia_data_2[colnameee] > 800] = 1000\n",
    "# = 30000\n",
    "# = 19000"
   ]
  },
  {
   "cell_type": "code",
   "execution_count": null,
   "metadata": {
    "ExecuteTime": {
     "end_time": "2019-09-16T03:18:20.486833Z",
     "start_time": "2019-09-16T03:18:20.480949Z"
    }
   },
   "outputs": [],
   "source": [
    "russia_data_2[colnameee][russia_data_2[colnameee] < -300] = -300\n",
    "# = 15000"
   ]
  },
  {
   "cell_type": "code",
   "execution_count": null,
   "metadata": {
    "ExecuteTime": {
     "end_time": "2019-09-16T03:38:56.532271Z",
     "start_time": "2019-09-16T03:38:56.529194Z"
    }
   },
   "outputs": [],
   "source": [
    "m1 = russia_data_2[colnameee].max()\n",
    "m0 = russia_data_2[colnameee].min()\n",
    "m05 = (m1+m0)/2"
   ]
  },
  {
   "cell_type": "code",
   "execution_count": null,
   "metadata": {
    "ExecuteTime": {
     "end_time": "2019-09-16T03:39:01.390001Z",
     "start_time": "2019-09-16T03:39:01.386815Z"
    }
   },
   "outputs": [],
   "source": [
    "m0, m05,  m1"
   ]
  },
  {
   "cell_type": "code",
   "execution_count": null,
   "metadata": {
    "ExecuteTime": {
     "end_time": "2019-09-16T02:55:07.988439Z",
     "start_time": "2019-09-16T02:55:07.985108Z"
    }
   },
   "outputs": [],
   "source": [
    "(30+46)/2"
   ]
  },
  {
   "cell_type": "code",
   "execution_count": null,
   "metadata": {
    "ExecuteTime": {
     "end_time": "2019-09-16T03:41:15.236935Z",
     "start_time": "2019-09-16T03:41:08.942715Z"
    },
    "scrolled": true
   },
   "outputs": [],
   "source": [
    "proj = gcrs.AlbersEqualArea(central_longitude=94, central_latitude=60)\n",
    "\n",
    "f, axarr = plt.subplots(1, 2, figsize=(100, 20), subplot_kw={\n",
    "    'projection': proj\n",
    "})\n",
    "\n",
    "f.subplots_adjust(wspace=-0.15)\n",
    "\n",
    "gplt.choropleth(\n",
    "    russia_data_2, hue='Задолженность по налогам и сборам в добыче сырой нефти и природного газа 2014',\n",
    "    cmap=newcmp, linewidth=0.5, edgecolor='white', k=None,  \n",
    "    projection=proj,  ax=axarr[0]\n",
    ")\n",
    "\n",
    "sm = plt.cm.ScalarMappable(cmap=newcmp)\n",
    "sm._A = []\n",
    "\n",
    "cbar = plt.colorbar(sm, ax=axarr[0], fraction=0.005, pad = -0.05, ticks=[0, 0.5, 1]) #orientation='horizontal',\n",
    "cbar.ax.set_yticklabels([' < - 300', '  15,000', ' > 30,000'])  \n",
    "# cbar.set_label(r'$\\zeta\\ [s^{-1}]$', fontsize=16)\n",
    "cbar.ax.tick_params(labelsize=40)\n",
    "\n",
    "\n",
    "\n",
    "gplt.choropleth(\n",
    "    russia_data_2, hue='Задолженность по налогам и сборам в добыче сырой нефти и природного газа 2017',\n",
    "    cmap=newcmp, linewidth=0.5, edgecolor='white', k=None,  legend = False,  #legend_kwargs={'size':3},\n",
    "    projection=proj,  ax=axarr[1] \n",
    "    \n",
    ");\n",
    "\n",
    "\n",
    "\n",
    "\n"
   ]
  },
  {
   "cell_type": "markdown",
   "metadata": {},
   "source": [
    "## Аналитические показатели для рынка газа"
   ]
  },
  {
   "cell_type": "markdown",
   "metadata": {},
   "source": [
    "### Отношение между объемом запасов и объемом добычи в региональном разрезе"
   ]
  },
  {
   "cell_type": "markdown",
   "metadata": {},
   "source": [
    "- [Use of Statistical Indicators to Measure Crude Oil and Natural Gas Reserves and Production ](http://www.upg-bulletin-se.ro/archive/2014-1/5.Lazar_Lazar.pdf)\n",
    "\n",
    "-  [Воспроизводство минерально-сырьевой базы нефтегазового комплекса России](https://cyberleninka.ru/article/v/vosproizvodstvo-mineralno-syrievoy-bazy-neftegazovogo-kompleksa-rossii)\n"
   ]
  },
  {
   "cell_type": "code",
   "execution_count": null,
   "metadata": {
    "ExecuteTime": {
     "end_time": "2019-09-18T09:57:16.845695Z",
     "start_time": "2019-09-18T09:57:16.842325Z"
    },
    "scrolled": true
   },
   "outputs": [],
   "source": [
    "russia_data_2.columns"
   ]
  },
  {
   "cell_type": "code",
   "execution_count": null,
   "metadata": {
    "ExecuteTime": {
     "end_time": "2019-09-18T09:57:17.896295Z",
     "start_time": "2019-09-18T09:57:17.894430Z"
    }
   },
   "outputs": [],
   "source": [
    "colnameee = 'Кратность запасов газа добыче'"
   ]
  },
  {
   "cell_type": "code",
   "execution_count": null,
   "metadata": {
    "ExecuteTime": {
     "end_time": "2019-09-18T09:57:53.359923Z",
     "start_time": "2019-09-18T09:57:53.354804Z"
    }
   },
   "outputs": [],
   "source": [
    "russia_data_2[colnameee][russia_data_2[colnameee]>1000] = 1000"
   ]
  },
  {
   "cell_type": "code",
   "execution_count": null,
   "metadata": {
    "ExecuteTime": {
     "end_time": "2019-09-16T01:19:33.486246Z",
     "start_time": "2019-09-16T01:19:33.482507Z"
    }
   },
   "outputs": [],
   "source": [
    "# russia_data_2[colnameee] = np.exp(russia_data_2[colnameee])"
   ]
  },
  {
   "cell_type": "code",
   "execution_count": null,
   "metadata": {
    "ExecuteTime": {
     "end_time": "2019-09-16T01:21:05.196918Z",
     "start_time": "2019-09-16T01:21:02.579905Z"
    }
   },
   "outputs": [],
   "source": [
    "gplt.choropleth(\n",
    "    russia_data_2, hue=colnameee,\n",
    "    cmap=newcmp, linewidth=0.5, edgecolor='white', k=None, legend=True,  #legend_kwargs={'size':3},\n",
    "    projection=proj\n",
    ");"
   ]
  },
  {
   "cell_type": "code",
   "execution_count": null,
   "metadata": {
    "ExecuteTime": {
     "end_time": "2019-09-16T01:03:11.281323Z",
     "start_time": "2019-09-16T01:03:11.279149Z"
    }
   },
   "outputs": [],
   "source": [
    "# russia_data_2['Выход светлых нефтепродуктов, %'][russia_data_2['Выход светлых нефтепродуктов, %']<60]"
   ]
  },
  {
   "cell_type": "code",
   "execution_count": null,
   "metadata": {
    "ExecuteTime": {
     "end_time": "2019-09-18T09:57:27.832243Z",
     "start_time": "2019-09-18T09:57:27.829250Z"
    }
   },
   "outputs": [],
   "source": [
    "m1 = russia_data_2[colnameee].max()\n",
    "m0 = russia_data_2[colnameee].min()\n",
    "m05 = (m1+m0)/2"
   ]
  },
  {
   "cell_type": "code",
   "execution_count": null,
   "metadata": {
    "ExecuteTime": {
     "end_time": "2019-09-18T09:57:28.843031Z",
     "start_time": "2019-09-18T09:57:28.840442Z"
    }
   },
   "outputs": [],
   "source": [
    "m0, m05,  m1"
   ]
  },
  {
   "cell_type": "code",
   "execution_count": null,
   "metadata": {
    "ExecuteTime": {
     "end_time": "2019-09-18T09:56:36.830987Z",
     "start_time": "2019-09-18T09:56:36.827718Z"
    }
   },
   "outputs": [],
   "source": [
    "# russia_data.co\n",
    "russia_data_2 = russia_data.copy()"
   ]
  },
  {
   "cell_type": "code",
   "execution_count": null,
   "metadata": {
    "ExecuteTime": {
     "end_time": "2019-09-18T09:57:31.649572Z",
     "start_time": "2019-09-18T09:57:31.644097Z"
    }
   },
   "outputs": [],
   "source": [
    "replce10 = russia_data_2[colnameee].min() - (russia_data_2[colnameee].max() - russia_data_2[colnameee].min()) * 0.01\n",
    "russia_data_2[colnameee] = russia_data_2[colnameee].fillna(0)\n",
    "replce10"
   ]
  },
  {
   "cell_type": "code",
   "execution_count": null,
   "metadata": {
    "ExecuteTime": {
     "end_time": "2019-09-18T09:58:04.734468Z",
     "start_time": "2019-09-18T09:58:01.316813Z"
    },
    "scrolled": true
   },
   "outputs": [],
   "source": [
    "proj = gcrs.AlbersEqualArea(central_longitude=94, central_latitude=60)\n",
    "\n",
    "f, axarr = plt.subplots(1, 1, figsize=(100, 20), subplot_kw={\n",
    "    'projection': proj\n",
    "})\n",
    "\n",
    "f.subplots_adjust(wspace=0)\n",
    "\n",
    "gplt.choropleth(\n",
    "    russia_data_2, hue=colnameee,\n",
    "    cmap=newcmp, linewidth=0.8, edgecolor='white', k=None,  \n",
    "    projection=proj,  ax=axarr\n",
    ")\n",
    "\n",
    "sm = plt.cm.ScalarMappable(cmap=newcmp)\n",
    "sm._A = []\n",
    "\n",
    "cbar = plt.colorbar(sm,  fraction=0.003, pad = -0.04, ticks=[0, 0.5, 1]) #orientation='horizontal',\n",
    "cbar.ax.set_yticklabels([' 25', ' 500', ' > 1000'])  \n",
    "# cbar.set_label(r'$\\zeta\\ [s^{-1}]$', fontsize=16)\n",
    "cbar.ax.tick_params(labelsize=40)\n",
    "\n",
    "# gplt.choropleth(\n",
    "#     russia_data_2, hue='Глубина переработки, %',\n",
    "#     cmap=newcmp, linewidth=0.5, edgecolor='white', k=None,  legend = False,  #legend_kwargs={'size':3},\n",
    "#     projection=proj,  ax=axarr[1] \n",
    "    \n",
    "# )\n",
    "# plt.savefig('foo1.png')"
   ]
  },
  {
   "cell_type": "markdown",
   "metadata": {},
   "source": [
    "### Объемы собираемых налоговых платежей (НДПИ) в региональном разрезе"
   ]
  },
  {
   "cell_type": "markdown",
   "metadata": {},
   "source": [
    "- [О ставках акциза на природный газ\n",
    "](http://pravo.gov.ru/proxy/ips/?docbody=&nd=102057751&rdk=1)"
   ]
  },
  {
   "cell_type": "markdown",
   "metadata": {},
   "source": [
    "Акциз не  уплачивается организациями, передающими   или\n",
    "реализующими на  территории  Российской  Федерации  природный  газ,\n",
    "приобретенный   и  реализованный  по  государственным  регулируемым\n",
    "оптовым ценам,  акциз на который уже  был  уплачен  поставщиками  в\n",
    "установленном    порядке    исходя    из   налогооблагаемой   базы,\n",
    "предусмотренной в абзаце втором настоящего пункта."
   ]
  },
  {
   "cell_type": "code",
   "execution_count": null,
   "metadata": {
    "ExecuteTime": {
     "end_time": "2019-09-16T02:59:20.644749Z",
     "start_time": "2019-09-16T02:59:20.640556Z"
    },
    "scrolled": true
   },
   "outputs": [],
   "source": [
    "russia_data.columns"
   ]
  },
  {
   "cell_type": "code",
   "execution_count": null,
   "metadata": {
    "ExecuteTime": {
     "end_time": "2019-09-16T03:07:27.291408Z",
     "start_time": "2019-09-16T03:07:27.288692Z"
    }
   },
   "outputs": [],
   "source": [
    "colnameee = 'НДПИ (газ горючий природный) 2014'"
   ]
  },
  {
   "cell_type": "code",
   "execution_count": null,
   "metadata": {
    "ExecuteTime": {
     "end_time": "2019-09-16T03:05:53.698062Z",
     "start_time": "2019-09-16T03:05:53.695948Z"
    }
   },
   "outputs": [],
   "source": [
    "# russia_data_2[colnameee][colnameee]<60]"
   ]
  },
  {
   "cell_type": "code",
   "execution_count": null,
   "metadata": {
    "ExecuteTime": {
     "end_time": "2019-09-16T03:05:58.654936Z",
     "start_time": "2019-09-16T03:05:58.651184Z"
    }
   },
   "outputs": [],
   "source": [
    "m1 = russia_data_2[colnameee].max()\n",
    "m0 = russia_data_2[colnameee].min()\n",
    "m05 = (m1+m0)/2"
   ]
  },
  {
   "cell_type": "code",
   "execution_count": null,
   "metadata": {
    "ExecuteTime": {
     "end_time": "2019-09-16T03:06:03.824617Z",
     "start_time": "2019-09-16T03:06:03.821199Z"
    }
   },
   "outputs": [],
   "source": [
    "m0, m05,  m1"
   ]
  },
  {
   "cell_type": "code",
   "execution_count": null,
   "metadata": {
    "ExecuteTime": {
     "end_time": "2019-09-16T03:06:12.642971Z",
     "start_time": "2019-09-16T03:06:09.253696Z"
    }
   },
   "outputs": [],
   "source": [
    "gplt.choropleth(\n",
    "    russia_data_2, hue=colnameee,\n",
    "    cmap=rbcmp, linewidth=0.5, edgecolor='white', k=None, legend=True,  #legend_kwargs={'size':3},\n",
    "    projection=proj\n",
    ");"
   ]
  },
  {
   "cell_type": "code",
   "execution_count": null,
   "metadata": {
    "ExecuteTime": {
     "end_time": "2019-09-16T03:07:51.303686Z",
     "start_time": "2019-09-16T03:07:51.297683Z"
    },
    "scrolled": true
   },
   "outputs": [],
   "source": [
    "russia_data_2[colnameee][russia_data_2[colnameee] > 20000] = 20000\n",
    "# = 250000\n",
    "# =  19000"
   ]
  },
  {
   "cell_type": "code",
   "execution_count": null,
   "metadata": {
    "ExecuteTime": {
     "end_time": "2019-09-16T02:38:55.195528Z",
     "start_time": "2019-09-16T02:38:55.190576Z"
    }
   },
   "outputs": [],
   "source": [
    "russia_data_2[colnameee][russia_data_2[colnameee] < 16000]\n",
    "# = 1.4"
   ]
  },
  {
   "cell_type": "code",
   "execution_count": null,
   "metadata": {
    "ExecuteTime": {
     "end_time": "2019-09-16T02:03:07.494956Z",
     "start_time": "2019-09-16T02:03:07.492919Z"
    }
   },
   "outputs": [],
   "source": [
    "# russia_data_2['Выход светлых нефтепродуктов, %'][russia_data_2['Выход светлых нефтепродуктов, %']<60]"
   ]
  },
  {
   "cell_type": "code",
   "execution_count": null,
   "metadata": {
    "ExecuteTime": {
     "end_time": "2019-09-16T02:32:09.506006Z",
     "start_time": "2019-09-16T02:32:09.503186Z"
    }
   },
   "outputs": [],
   "source": [
    "m1 = russia_data_3[colnameee].max()\n",
    "m0 = russia_data_3[colnameee].min()\n",
    "m05 = (m1+m0)/2"
   ]
  },
  {
   "cell_type": "code",
   "execution_count": null,
   "metadata": {
    "ExecuteTime": {
     "end_time": "2019-09-16T02:32:14.557709Z",
     "start_time": "2019-09-16T02:32:14.554454Z"
    }
   },
   "outputs": [],
   "source": [
    "m0, m05,  m1"
   ]
  },
  {
   "cell_type": "code",
   "execution_count": null,
   "metadata": {
    "ExecuteTime": {
     "end_time": "2019-09-16T03:07:57.244430Z",
     "start_time": "2019-09-16T03:07:57.241444Z"
    }
   },
   "outputs": [],
   "source": [
    "colnameee = 'НДПИ (газ горючий природный) 2017'"
   ]
  },
  {
   "cell_type": "code",
   "execution_count": null,
   "metadata": {
    "ExecuteTime": {
     "end_time": "2019-09-16T03:06:25.204187Z",
     "start_time": "2019-09-16T03:06:22.423864Z"
    }
   },
   "outputs": [],
   "source": [
    "gplt.choropleth(\n",
    "    russia_data, hue=colnameee,\n",
    "    cmap=rbcmp, linewidth=0.5, edgecolor='white', k=None, legend=True,  #legend_kwargs={'size':3},\n",
    "    projection=proj\n",
    ");"
   ]
  },
  {
   "cell_type": "code",
   "execution_count": null,
   "metadata": {
    "ExecuteTime": {
     "end_time": "2019-09-16T02:16:03.303367Z",
     "start_time": "2019-09-16T02:16:03.301468Z"
    }
   },
   "outputs": [],
   "source": [
    "# russia_data_2['Выход светлых нефтепродуктов, %'][russia_data_2['Выход светлых нефтепродуктов, %']<60]"
   ]
  },
  {
   "cell_type": "code",
   "execution_count": null,
   "metadata": {
    "ExecuteTime": {
     "end_time": "2019-09-16T03:08:14.421320Z",
     "start_time": "2019-09-16T03:08:14.416622Z"
    }
   },
   "outputs": [],
   "source": [
    "russia_data_2[colnameee][russia_data_2[colnameee] > 20000] = 20000\n",
    "# = 19000"
   ]
  },
  {
   "cell_type": "code",
   "execution_count": null,
   "metadata": {
    "ExecuteTime": {
     "end_time": "2019-09-16T02:40:17.477669Z",
     "start_time": "2019-09-16T02:40:17.473247Z"
    }
   },
   "outputs": [],
   "source": [
    "russia_data_2[colnameee][russia_data_2[colnameee] < 15000] = 15000"
   ]
  },
  {
   "cell_type": "code",
   "execution_count": null,
   "metadata": {
    "ExecuteTime": {
     "end_time": "2019-09-16T03:06:29.961040Z",
     "start_time": "2019-09-16T03:06:29.957786Z"
    }
   },
   "outputs": [],
   "source": [
    "m1 = russia_data_2[colnameee].max()\n",
    "m0 = russia_data_2[colnameee].min()\n",
    "m05 = (m1+m0)/2"
   ]
  },
  {
   "cell_type": "code",
   "execution_count": null,
   "metadata": {
    "ExecuteTime": {
     "end_time": "2019-09-16T03:06:34.766827Z",
     "start_time": "2019-09-16T03:06:34.762836Z"
    }
   },
   "outputs": [],
   "source": [
    "m0, m05,  m1"
   ]
  },
  {
   "cell_type": "code",
   "execution_count": null,
   "metadata": {
    "ExecuteTime": {
     "end_time": "2019-09-16T02:55:07.988439Z",
     "start_time": "2019-09-16T02:55:07.985108Z"
    }
   },
   "outputs": [],
   "source": [
    "(30+46)/2"
   ]
  },
  {
   "cell_type": "code",
   "execution_count": null,
   "metadata": {
    "ExecuteTime": {
     "end_time": "2019-09-16T03:09:28.190353Z",
     "start_time": "2019-09-16T03:09:22.288414Z"
    },
    "scrolled": false
   },
   "outputs": [],
   "source": [
    "proj = gcrs.AlbersEqualArea(central_longitude=94, central_latitude=60)\n",
    "\n",
    "f, axarr = plt.subplots(1, 2, figsize=(100, 20), subplot_kw={\n",
    "    'projection': proj\n",
    "})\n",
    "\n",
    "f.subplots_adjust(wspace=-0.15)\n",
    "\n",
    "gplt.choropleth(\n",
    "    russia_data_2, hue='НДПИ (газ горючий природный) 2014',\n",
    "    cmap=newcmp, linewidth=0.5, edgecolor='white', k=None,  \n",
    "    projection=proj,  ax=axarr[0]\n",
    ")\n",
    "\n",
    "sm = plt.cm.ScalarMappable(cmap=newcmp)\n",
    "sm._A = []\n",
    "\n",
    "cbar = plt.colorbar(sm, ax=axarr[0], fraction=0.005, pad = -0.05, ticks=[0, 0.5, 1]) #orientation='horizontal',\n",
    "cbar.ax.set_yticklabels([' 0', ' 10,000', '> 20,000'])  \n",
    "# cbar.set_label(r'$\\zeta\\ [s^{-1}]$', fontsize=16)\n",
    "cbar.ax.tick_params(labelsize=40)\n",
    "\n",
    "\n",
    "\n",
    "gplt.choropleth(\n",
    "    russia_data_2, hue='НДПИ (газ горючий природный) 2017',\n",
    "    cmap=newcmp, linewidth=0.5, edgecolor='white', k=None,  legend = False,  #legend_kwargs={'size':3},\n",
    "    projection=proj,  ax=axarr[1] \n",
    "    \n",
    ");\n",
    "\n",
    "\n",
    "\n",
    "\n"
   ]
  },
  {
   "cell_type": "code",
   "execution_count": null,
   "metadata": {
    "ExecuteTime": {
     "end_time": "2019-09-16T02:59:20.644749Z",
     "start_time": "2019-09-16T02:59:20.640556Z"
    },
    "scrolled": true
   },
   "outputs": [],
   "source": [
    "russia_data.columns"
   ]
  },
  {
   "cell_type": "code",
   "execution_count": null,
   "metadata": {
    "ExecuteTime": {
     "end_time": "2019-09-16T03:11:02.230363Z",
     "start_time": "2019-09-16T03:11:02.228320Z"
    }
   },
   "outputs": [],
   "source": [
    "colnameee = 'НДПИ (газовый конденсат ) 2014'"
   ]
  },
  {
   "cell_type": "code",
   "execution_count": null,
   "metadata": {
    "ExecuteTime": {
     "end_time": "2019-09-16T03:10:01.205873Z",
     "start_time": "2019-09-16T03:10:01.203696Z"
    }
   },
   "outputs": [],
   "source": [
    "# russia_data_2[colnameee][colnameee]<60]"
   ]
  },
  {
   "cell_type": "code",
   "execution_count": null,
   "metadata": {
    "ExecuteTime": {
     "end_time": "2019-09-16T03:10:06.413572Z",
     "start_time": "2019-09-16T03:10:06.409669Z"
    }
   },
   "outputs": [],
   "source": [
    "m1 = russia_data_2[colnameee].max()\n",
    "m0 = russia_data_2[colnameee].min()\n",
    "m05 = (m1+m0)/2"
   ]
  },
  {
   "cell_type": "code",
   "execution_count": null,
   "metadata": {
    "ExecuteTime": {
     "end_time": "2019-09-16T03:10:11.628093Z",
     "start_time": "2019-09-16T03:10:11.623420Z"
    }
   },
   "outputs": [],
   "source": [
    "m0, m05,  m1"
   ]
  },
  {
   "cell_type": "code",
   "execution_count": null,
   "metadata": {
    "ExecuteTime": {
     "end_time": "2019-09-16T03:10:19.997149Z",
     "start_time": "2019-09-16T03:10:17.025124Z"
    }
   },
   "outputs": [],
   "source": [
    "gplt.choropleth(\n",
    "    russia_data_2, hue=colnameee,\n",
    "    cmap=rbcmp, linewidth=0.5, edgecolor='white', k=None, legend=True,  #legend_kwargs={'size':3},\n",
    "    projection=proj\n",
    ");"
   ]
  },
  {
   "cell_type": "code",
   "execution_count": null,
   "metadata": {
    "ExecuteTime": {
     "end_time": "2019-09-16T03:11:20.711121Z",
     "start_time": "2019-09-16T03:11:20.705639Z"
    },
    "scrolled": true
   },
   "outputs": [],
   "source": [
    "russia_data_2[colnameee][russia_data_2[colnameee] > 3000] = 3000\n",
    "# = 250000\n",
    "# =  19000"
   ]
  },
  {
   "cell_type": "code",
   "execution_count": null,
   "metadata": {
    "ExecuteTime": {
     "end_time": "2019-09-16T02:38:55.195528Z",
     "start_time": "2019-09-16T02:38:55.190576Z"
    }
   },
   "outputs": [],
   "source": [
    "russia_data_2[colnameee][russia_data_2[colnameee] < 16000]\n",
    "# = 1.4"
   ]
  },
  {
   "cell_type": "code",
   "execution_count": null,
   "metadata": {
    "ExecuteTime": {
     "end_time": "2019-09-16T02:03:07.494956Z",
     "start_time": "2019-09-16T02:03:07.492919Z"
    }
   },
   "outputs": [],
   "source": [
    "# russia_data_2['Выход светлых нефтепродуктов, %'][russia_data_2['Выход светлых нефтепродуктов, %']<60]"
   ]
  },
  {
   "cell_type": "code",
   "execution_count": null,
   "metadata": {
    "ExecuteTime": {
     "end_time": "2019-09-16T02:32:09.506006Z",
     "start_time": "2019-09-16T02:32:09.503186Z"
    }
   },
   "outputs": [],
   "source": [
    "m1 = russia_data_3[colnameee].max()\n",
    "m0 = russia_data_3[colnameee].min()\n",
    "m05 = (m1+m0)/2"
   ]
  },
  {
   "cell_type": "code",
   "execution_count": null,
   "metadata": {
    "ExecuteTime": {
     "end_time": "2019-09-16T02:32:14.557709Z",
     "start_time": "2019-09-16T02:32:14.554454Z"
    }
   },
   "outputs": [],
   "source": [
    "m0, m05,  m1"
   ]
  },
  {
   "cell_type": "code",
   "execution_count": null,
   "metadata": {
    "ExecuteTime": {
     "end_time": "2019-09-16T03:11:25.489703Z",
     "start_time": "2019-09-16T03:11:25.487590Z"
    }
   },
   "outputs": [],
   "source": [
    "colnameee = 'НДПИ (газовый конденсат ) 2017'"
   ]
  },
  {
   "cell_type": "code",
   "execution_count": null,
   "metadata": {
    "ExecuteTime": {
     "end_time": "2019-09-16T03:10:32.648523Z",
     "start_time": "2019-09-16T03:10:29.944561Z"
    }
   },
   "outputs": [],
   "source": [
    "gplt.choropleth(\n",
    "    russia_data, hue=colnameee,\n",
    "    cmap=rbcmp, linewidth=0.5, edgecolor='white', k=None, legend=True,  #legend_kwargs={'size':3},\n",
    "    projection=proj\n",
    ");"
   ]
  },
  {
   "cell_type": "code",
   "execution_count": null,
   "metadata": {
    "ExecuteTime": {
     "end_time": "2019-09-16T02:16:03.303367Z",
     "start_time": "2019-09-16T02:16:03.301468Z"
    }
   },
   "outputs": [],
   "source": [
    "# russia_data_2['Выход светлых нефтепродуктов, %'][russia_data_2['Выход светлых нефтепродуктов, %']<60]"
   ]
  },
  {
   "cell_type": "code",
   "execution_count": null,
   "metadata": {
    "ExecuteTime": {
     "end_time": "2019-09-16T03:11:31.300344Z",
     "start_time": "2019-09-16T03:11:31.294300Z"
    }
   },
   "outputs": [],
   "source": [
    "russia_data_2[colnameee][russia_data_2[colnameee] > 3000] = 3000\n",
    "# = 19000"
   ]
  },
  {
   "cell_type": "code",
   "execution_count": null,
   "metadata": {
    "ExecuteTime": {
     "end_time": "2019-09-16T02:40:17.477669Z",
     "start_time": "2019-09-16T02:40:17.473247Z"
    }
   },
   "outputs": [],
   "source": [
    "russia_data_2[colnameee][russia_data_2[colnameee] < 15000] = 15000"
   ]
  },
  {
   "cell_type": "code",
   "execution_count": null,
   "metadata": {
    "ExecuteTime": {
     "end_time": "2019-09-16T03:10:37.399330Z",
     "start_time": "2019-09-16T03:10:37.396038Z"
    }
   },
   "outputs": [],
   "source": [
    "m1 = russia_data_2[colnameee].max()\n",
    "m0 = russia_data_2[colnameee].min()\n",
    "m05 = (m1+m0)/2"
   ]
  },
  {
   "cell_type": "code",
   "execution_count": null,
   "metadata": {
    "ExecuteTime": {
     "end_time": "2019-09-16T03:10:42.282106Z",
     "start_time": "2019-09-16T03:10:42.279043Z"
    }
   },
   "outputs": [],
   "source": [
    "m0, m05,  m1"
   ]
  },
  {
   "cell_type": "code",
   "execution_count": null,
   "metadata": {
    "ExecuteTime": {
     "end_time": "2019-09-16T02:55:07.988439Z",
     "start_time": "2019-09-16T02:55:07.985108Z"
    }
   },
   "outputs": [],
   "source": [
    "(30+46)/2"
   ]
  },
  {
   "cell_type": "code",
   "execution_count": null,
   "metadata": {
    "ExecuteTime": {
     "end_time": "2019-09-16T03:12:09.398623Z",
     "start_time": "2019-09-16T03:12:03.815920Z"
    },
    "scrolled": false
   },
   "outputs": [],
   "source": [
    "proj = gcrs.AlbersEqualArea(central_longitude=94, central_latitude=60)\n",
    "\n",
    "f, axarr = plt.subplots(1, 2, figsize=(100, 20), subplot_kw={\n",
    "    'projection': proj\n",
    "})\n",
    "\n",
    "f.subplots_adjust(wspace=-0.15)\n",
    "\n",
    "gplt.choropleth(\n",
    "    russia_data_2, hue='НДПИ (газовый конденсат ) 2014',\n",
    "    cmap=newcmp, linewidth=0.5, edgecolor='white', k=None,  \n",
    "    projection=proj,  ax=axarr[0]\n",
    ")\n",
    "\n",
    "sm = plt.cm.ScalarMappable(cmap=newcmp)\n",
    "sm._A = []\n",
    "\n",
    "cbar = plt.colorbar(sm, ax=axarr[0], fraction=0.005, pad = -0.05, ticks=[0, 0.5, 1]) #orientation='horizontal',\n",
    "cbar.ax.set_yticklabels([' 0', ' 1,500', '> 3,000'])  \n",
    "# cbar.set_label(r'$\\zeta\\ [s^{-1}]$', fontsize=16)\n",
    "cbar.ax.tick_params(labelsize=40)\n",
    "\n",
    "\n",
    "\n",
    "gplt.choropleth(\n",
    "    russia_data_2, hue='НДПИ (газовый конденсат ) 2017',\n",
    "    cmap=newcmp, linewidth=0.5, edgecolor='white', k=None,  legend = False,  #legend_kwargs={'size':3},\n",
    "    projection=proj,  ax=axarr[1] \n",
    "    \n",
    ");\n",
    "\n",
    "\n",
    "\n",
    "\n"
   ]
  },
  {
   "cell_type": "markdown",
   "metadata": {},
   "source": [
    "## Аналитические показатели для рынка электроэнергетики"
   ]
  },
  {
   "cell_type": "markdown",
   "metadata": {},
   "source": [
    "- [ГИС энергосбережение](https://gisee.ru/regionsupport/)"
   ]
  },
  {
   "cell_type": "markdown",
   "metadata": {},
   "source": [
    "### Спарк-спред"
   ]
  },
  {
   "cell_type": "markdown",
   "metadata": {},
   "source": [
    "Генераторы, работающие на других видах топлива, имеют аналогичные показатели -- дарк-спред (цена на электроэнергию за вычетом стоимости угля) для угольных генераторов, кварк-спред (цена на электроэнергию за вычетом стоимости обогащенного уранового топлива) для ядерных генераторов. Основная цель использования этих спредов – моделирование  экономики производства электроэнергии. \n"
   ]
  },
  {
   "cell_type": "markdown",
   "metadata": {},
   "source": [
    "1 мегаватт равно 0.859845 Гигакалорий в час\n",
    "\n",
    "https://www.eia.gov/todayinenergy/detail.php?id=9911\n",
    "\n",
    "- [Спарк-спред](http://www.fondovik.com/bazovie-znaniya/stati-finansovie-instrumenti/fyuchersnie-spredi/spark-spred/)\n",
    "\n",
    "- [РСВ на покупку ЭЭ](http://www.atsenergo.ru/results/rsv/statistics?period=3) -  Рынок на сутки вперед (РСВ) \n",
    "    - [Участникам оптового рынка](http://www.atsenergo.ru/uchastnikam-optovogo-rynka)\n",
    "- [Тарифы на электроэнергию для населения в России](https://energybase.ru/tariff/electricity)\n",
    "- [Тарифы на электроэнергию по субъектам Российской Федерации на 2018 год в рублях за кВт*ч (сводная таблица)](https://worknet-info.ru/read-blog/1142_%D1%82%D0%B0%D0%B1%D0%BB%D0%B8%D1%86%D0%B0-%D1%82%D0%B0%D1%80%D0%B8%D1%84%D0%BE%D0%B2-%D0%BD%D0%B0-%D1%8D%D0%BB%D0%B5%D0%BA%D1%82%D1%80%D0%BE%D1%8D%D0%BD%D0%B5%D1%80%D0%B3%D0%B8%D1%8E-%D0%BF%D0%BE-%D1%80%D0%B5%D0%B3%D0%B8%D0%BE%D0%BD%D0%B0%D0%BC-%D1%80%D0%BE%D1%81%D1%81%D0%B8%D0%B8-%D0%B2-2018-%D0%B3%D0%BE%D0%B4%D1%83.html)"
   ]
  },
  {
   "cell_type": "markdown",
   "metadata": {},
   "source": [
    "[Heat rate](https://en.wikipedia.org/wiki/Heat_rate_(efficiency):\n",
    "\n",
    "- [Heat Rate](https://data.austintexas.gov/stories/s/Heat-Rate/h4dw-35vc/)\n",
    "- [NPHR formula](https://www.powermag.com/understanding-coal-power-plant-heat-rate-and-efficiency/?pagenum=3)\n",
    "- [Heat Rate = Input/Otput](https://www.myodesie.com/wiki/index/returnEntry/id/2995)\n",
    "- [Определение энергетической эффективности аппаратов, установок и систем](http://www.energosovet.ru/stat616.html)\n",
    "\n",
    "- [Сравнительные характеристики ТЭС разного типа и АЭС](https://lesprominform.ru/jarticles.html?id=3418)\n",
    "\n",
    "- [Сравнение различных видов топлива](http://biopechi.ru/stati/sravnenie-razlichnykh-vidov-topliva/)\n",
    "\n",
    "- [нормативы](https://zakonbase.ru/content/part/613281)\n",
    "\n",
    "- [Средний удельный расход - топливо](https://www.ngpedia.ru/id380315p1.html)\n",
    "\n",
    "- [Экономия ушла в полезный отпуск ](https://rg.ru/2019/03/04/rashod-topliva-pri-vyrabotke-elektroenergii-v-rossii-snizilsia.html)"
   ]
  },
  {
   "cell_type": "markdown",
   "metadata": {},
   "source": [
    "руб за 1000 м3 = руб за  7 900 000  ккал\n",
    "\n",
    "руб за 1000 м3 = руб за  7 900 000  000 кал\n",
    "\n",
    "3000 за 7 900 000 000\n",
    "x за 1 000 000 000\n",
    "\n",
    "х = цена * 1 000 000 000 / 7 900 000 000\n",
    "\n",
    "х = цена * 1 000   / 7 900  \n",
    "\n",
    "7900  ккал/м3  *  руб за 1000 м3"
   ]
  },
  {
   "cell_type": "markdown",
   "metadata": {},
   "source": [
    "Собрать цены на уголь (среднее по углям??)\n",
    "\n",
    "- http://www.gks.ru/dbscripts/cbsd/"
   ]
  },
  {
   "cell_type": "code",
   "execution_count": null,
   "metadata": {
    "ExecuteTime": {
     "end_time": "2019-09-18T09:59:42.813006Z",
     "start_time": "2019-09-18T09:59:42.809504Z"
    },
    "scrolled": true
   },
   "outputs": [],
   "source": [
    "russia_data.columns"
   ]
  },
  {
   "cell_type": "code",
   "execution_count": null,
   "metadata": {
    "ExecuteTime": {
     "end_time": "2019-09-18T09:59:43.823982Z",
     "start_time": "2019-09-18T09:59:43.821995Z"
    }
   },
   "outputs": [],
   "source": [
    "colnameee = 'Спарк-спред 2012'"
   ]
  },
  {
   "cell_type": "code",
   "execution_count": null,
   "metadata": {
    "ExecuteTime": {
     "end_time": "2019-09-18T09:59:44.725815Z",
     "start_time": "2019-09-18T09:59:44.724111Z"
    }
   },
   "outputs": [],
   "source": [
    "# russia_data_2[colnameee][colnameee]<60]"
   ]
  },
  {
   "cell_type": "code",
   "execution_count": null,
   "metadata": {
    "ExecuteTime": {
     "end_time": "2019-09-18T09:59:45.672367Z",
     "start_time": "2019-09-18T09:59:45.669089Z"
    }
   },
   "outputs": [],
   "source": [
    "m1 = russia_data_2[colnameee].max()\n",
    "m0 = russia_data_2[colnameee].min()\n",
    "m05 = (m1+m0)/2"
   ]
  },
  {
   "cell_type": "code",
   "execution_count": null,
   "metadata": {
    "ExecuteTime": {
     "end_time": "2019-09-18T09:59:46.684483Z",
     "start_time": "2019-09-18T09:59:46.681730Z"
    }
   },
   "outputs": [],
   "source": [
    "m0, m05,  m1"
   ]
  },
  {
   "cell_type": "code",
   "execution_count": null,
   "metadata": {
    "ExecuteTime": {
     "end_time": "2019-09-16T02:48:00.075408Z",
     "start_time": "2019-09-16T02:47:57.052641Z"
    }
   },
   "outputs": [],
   "source": [
    "gplt.choropleth(\n",
    "    russia_data, hue=colnameee,\n",
    "    cmap=rbcmp, linewidth=0.5, edgecolor='white', k=None, legend=True,  #legend_kwargs={'size':3},\n",
    "    projection=proj\n",
    ");"
   ]
  },
  {
   "cell_type": "code",
   "execution_count": null,
   "metadata": {
    "ExecuteTime": {
     "end_time": "2019-09-18T10:01:45.162598Z",
     "start_time": "2019-09-18T10:01:45.157427Z"
    },
    "scrolled": true
   },
   "outputs": [],
   "source": [
    "russia_data_2[colnameee][russia_data_2[colnameee] > 19000] \n",
    "# =  19000"
   ]
  },
  {
   "cell_type": "code",
   "execution_count": null,
   "metadata": {
    "ExecuteTime": {
     "end_time": "2019-09-18T09:59:51.067132Z",
     "start_time": "2019-09-18T09:59:51.061860Z"
    }
   },
   "outputs": [],
   "source": [
    "russia_data_2[colnameee][russia_data_2[colnameee] < 16000]\n",
    "# = 1.4"
   ]
  },
  {
   "cell_type": "code",
   "execution_count": null,
   "metadata": {
    "ExecuteTime": {
     "end_time": "2019-09-16T02:03:07.494956Z",
     "start_time": "2019-09-16T02:03:07.492919Z"
    }
   },
   "outputs": [],
   "source": [
    "# russia_data_2['Выход светлых нефтепродуктов, %'][russia_data_2['Выход светлых нефтепродуктов, %']<60]"
   ]
  },
  {
   "cell_type": "code",
   "execution_count": null,
   "metadata": {
    "ExecuteTime": {
     "end_time": "2019-09-16T02:32:09.506006Z",
     "start_time": "2019-09-16T02:32:09.503186Z"
    }
   },
   "outputs": [],
   "source": [
    "m1 = russia_data_3[colnameee].max()\n",
    "m0 = russia_data_3[colnameee].min()\n",
    "m05 = (m1+m0)/2"
   ]
  },
  {
   "cell_type": "code",
   "execution_count": null,
   "metadata": {
    "ExecuteTime": {
     "end_time": "2019-09-16T02:32:14.557709Z",
     "start_time": "2019-09-16T02:32:14.554454Z"
    }
   },
   "outputs": [],
   "source": [
    "m0, m05,  m1"
   ]
  },
  {
   "cell_type": "code",
   "execution_count": null,
   "metadata": {
    "ExecuteTime": {
     "end_time": "2019-09-16T02:48:05.832056Z",
     "start_time": "2019-09-16T02:48:05.829972Z"
    }
   },
   "outputs": [],
   "source": [
    "colnameee = 'Спарк-спред 2018'"
   ]
  },
  {
   "cell_type": "code",
   "execution_count": null,
   "metadata": {
    "ExecuteTime": {
     "end_time": "2019-09-16T02:48:14.029468Z",
     "start_time": "2019-09-16T02:48:11.014124Z"
    }
   },
   "outputs": [],
   "source": [
    "gplt.choropleth(\n",
    "    russia_data, hue=colnameee,\n",
    "    cmap=rbcmp, linewidth=0.5, edgecolor='white', k=None, legend=True,  #legend_kwargs={'size':3},\n",
    "    projection=proj\n",
    ");"
   ]
  },
  {
   "cell_type": "code",
   "execution_count": null,
   "metadata": {
    "ExecuteTime": {
     "end_time": "2019-09-16T02:16:03.303367Z",
     "start_time": "2019-09-16T02:16:03.301468Z"
    }
   },
   "outputs": [],
   "source": [
    "# russia_data_2['Выход светлых нефтепродуктов, %'][russia_data_2['Выход светлых нефтепродуктов, %']<60]"
   ]
  },
  {
   "cell_type": "code",
   "execution_count": null,
   "metadata": {
    "ExecuteTime": {
     "end_time": "2019-09-18T10:01:23.400007Z",
     "start_time": "2019-09-18T10:01:23.394661Z"
    }
   },
   "outputs": [],
   "source": [
    "russia_data_2[colnameee][russia_data_2[colnameee] > 19000] \n",
    "# = 19000"
   ]
  },
  {
   "cell_type": "code",
   "execution_count": null,
   "metadata": {
    "ExecuteTime": {
     "end_time": "2019-09-16T02:40:17.477669Z",
     "start_time": "2019-09-16T02:40:17.473247Z"
    }
   },
   "outputs": [],
   "source": [
    "russia_data_2[colnameee][russia_data_2[colnameee] < 15000] = 15000"
   ]
  },
  {
   "cell_type": "code",
   "execution_count": null,
   "metadata": {
    "ExecuteTime": {
     "end_time": "2019-09-16T02:48:19.164035Z",
     "start_time": "2019-09-16T02:48:19.161074Z"
    }
   },
   "outputs": [],
   "source": [
    "m1 = russia_data_2[colnameee].max()\n",
    "m0 = russia_data_2[colnameee].min()\n",
    "m05 = (m1+m0)/2"
   ]
  },
  {
   "cell_type": "code",
   "execution_count": null,
   "metadata": {
    "ExecuteTime": {
     "end_time": "2019-09-16T02:48:24.225228Z",
     "start_time": "2019-09-16T02:48:24.222085Z"
    }
   },
   "outputs": [],
   "source": [
    "m0, m05,  m1"
   ]
  },
  {
   "cell_type": "code",
   "execution_count": null,
   "metadata": {
    "ExecuteTime": {
     "end_time": "2019-09-16T02:55:07.988439Z",
     "start_time": "2019-09-16T02:55:07.985108Z"
    }
   },
   "outputs": [],
   "source": [
    "(30+46)/2"
   ]
  },
  {
   "cell_type": "code",
   "execution_count": null,
   "metadata": {
    "ExecuteTime": {
     "end_time": "2019-09-16T02:55:29.676340Z",
     "start_time": "2019-09-16T02:55:23.989949Z"
    },
    "scrolled": false
   },
   "outputs": [],
   "source": [
    "proj = gcrs.AlbersEqualArea(central_longitude=94, central_latitude=60)\n",
    "\n",
    "f, axarr = plt.subplots(1, 2, figsize=(100, 20), subplot_kw={\n",
    "    'projection': proj\n",
    "})\n",
    "\n",
    "f.subplots_adjust(wspace=-0.15)\n",
    "\n",
    "gplt.choropleth(\n",
    "    russia_data_3, hue='Спарк-спред 2012',\n",
    "    cmap=newcmp, linewidth=0.5, edgecolor='white', k=None,  \n",
    "    projection=proj,  ax=axarr[0]\n",
    ")\n",
    "\n",
    "sm = plt.cm.ScalarMappable(cmap=newcmp)\n",
    "sm._A = []\n",
    "\n",
    "cbar = plt.colorbar(sm, ax=axarr[0], fraction=0.005, pad = -0.05, ticks=[0, 0.5, 1]) #orientation='horizontal',\n",
    "cbar.ax.set_yticklabels([' 1,600', '  2,250', ' 2,900'])  \n",
    "# cbar.set_label(r'$\\zeta\\ [s^{-1}]$', fontsize=16)\n",
    "cbar.ax.tick_params(labelsize=40)\n",
    "\n",
    "\n",
    "\n",
    "gplt.choropleth(\n",
    "    russia_data_3, hue='Спарк-спред 2018',\n",
    "    cmap=newcmp, linewidth=0.5, edgecolor='white', k=None,  legend = False,  #legend_kwargs={'size':3},\n",
    "    projection=proj,  ax=axarr[1] \n",
    "    \n",
    ")\n",
    "\n",
    "\n",
    "\n",
    "\n",
    "\n",
    "sm = plt.cm.ScalarMappable(cmap=newcmp)\n",
    "sm._A = []\n",
    "\n",
    "cbar = plt.colorbar(sm, ax=axarr[1], fraction=0.005, pad = -0.05, ticks=[0, 0.5, 1]) #orientation='horizontal',\n",
    "cbar.ax.set_yticklabels([' 3,000', ' 3,800', ' 4,600'])  \n",
    "# cbar.set_label(r'$\\zeta\\ [s^{-1}]$', fontsize=16)\n",
    "cbar.ax.tick_params(labelsize=40);\n"
   ]
  },
  {
   "cell_type": "code",
   "execution_count": null,
   "metadata": {},
   "outputs": [],
   "source": []
  }
 ],
 "metadata": {
  "hide_input": false,
  "kernelspec": {
   "display_name": "Python 3.6 (for geoplots)",
   "language": "python",
   "name": "geoplots3.6"
  },
  "language_info": {
   "codemirror_mode": {
    "name": "ipython",
    "version": 3
   },
   "file_extension": ".py",
   "mimetype": "text/x-python",
   "name": "python",
   "nbconvert_exporter": "python",
   "pygments_lexer": "ipython3",
   "version": "3.6.7"
  },
  "latex_envs": {
   "LaTeX_envs_menu_present": true,
   "autoclose": true,
   "autocomplete": true,
   "bibliofile": "biblio.bib",
   "cite_by": "apalike",
   "current_citInitial": 1,
   "eqLabelWithNumbers": true,
   "eqNumInitial": 1,
   "hotkeys": {
    "equation": "Ctrl-E",
    "itemize": "Ctrl-I"
   },
   "labels_anchors": false,
   "latex_user_defs": false,
   "report_style_numbering": false,
   "user_envs_cfg": false
  },
  "toc": {
   "base_numbering": 1,
   "nav_menu": {},
   "number_sections": true,
   "sideBar": true,
   "skip_h1_title": false,
   "title_cell": "Table of Contents",
   "title_sidebar": "Contents",
   "toc_cell": false,
   "toc_position": {},
   "toc_section_display": true,
   "toc_window_display": true
  },
  "varInspector": {
   "cols": {
    "lenName": 16,
    "lenType": 16,
    "lenVar": 40
   },
   "kernels_config": {
    "python": {
     "delete_cmd_postfix": "",
     "delete_cmd_prefix": "del ",
     "library": "var_list.py",
     "varRefreshCmd": "print(var_dic_list())"
    },
    "r": {
     "delete_cmd_postfix": ") ",
     "delete_cmd_prefix": "rm(",
     "library": "var_list.r",
     "varRefreshCmd": "cat(var_dic_list()) "
    }
   },
   "types_to_exclude": [
    "module",
    "function",
    "builtin_function_or_method",
    "instance",
    "_Feature"
   ],
   "window_display": false
  }
 },
 "nbformat": 4,
 "nbformat_minor": 2
}
