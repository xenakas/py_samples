{
 "cells": [
  {
   "cell_type": "markdown",
   "metadata": {},
   "source": [
    "- [Месторождения России](http://oilgasinform.ru/science/fields/dolginskoe/)\n",
    "- [рфгф](https://www.rfgf.ru/)"
   ]
  },
  {
   "cell_type": "code",
   "execution_count": null,
   "metadata": {
    "ExecuteTime": {
     "end_time": "2019-09-16T13:54:59.938938Z",
     "start_time": "2019-09-16T13:54:59.704953Z"
    }
   },
   "outputs": [],
   "source": [
    "import pandas as pd\n"
   ]
  },
  {
   "cell_type": "code",
   "execution_count": null,
   "metadata": {
    "ExecuteTime": {
     "end_time": "2019-09-16T13:58:35.212500Z",
     "start_time": "2019-09-16T13:58:35.206006Z"
    }
   },
   "outputs": [],
   "source": [
    "import re\n",
    "import urllib.request\n",
    "from bs4 import BeautifulSoup"
   ]
  },
  {
   "cell_type": "code",
   "execution_count": null,
   "metadata": {
    "ExecuteTime": {
     "end_time": "2019-09-16T14:40:02.628720Z",
     "start_time": "2019-09-16T14:40:02.623268Z"
    }
   },
   "outputs": [],
   "source": [
    "listofgpz = pd.read_csv('1223.csv', header=None)"
   ]
  },
  {
   "cell_type": "code",
   "execution_count": null,
   "metadata": {
    "ExecuteTime": {
     "end_time": "2019-09-16T14:55:15.799078Z",
     "start_time": "2019-09-16T14:54:43.835638Z"
    }
   },
   "outputs": [],
   "source": [
    "npz = []\n",
    "for i in listofgpz.iloc[:,0]:\n",
    "    quote_page = i\n",
    "    html = urllib.request.urlopen(quote_page)\n",
    "    soup = BeautifulSoup(html, 'html.parser')\n",
    "    name_box = soup.find_all(class_='model-details processing-plant')\n",
    "    try:\n",
    "        npz.append(name_box[0].get_text())\n",
    "    except:\n",
    "        npz.append(np.nan)\n",
    "        "
   ]
  },
  {
   "cell_type": "code",
   "execution_count": null,
   "metadata": {
    "ExecuteTime": {
     "end_time": "2019-09-16T14:49:18.616007Z",
     "start_time": "2019-09-16T14:49:18.606275Z"
    }
   },
   "outputs": [],
   "source": []
  },
  {
   "cell_type": "code",
   "execution_count": null,
   "metadata": {
    "ExecuteTime": {
     "end_time": "2019-09-16T15:05:28.052872Z",
     "start_time": "2019-09-16T15:05:28.047794Z"
    }
   },
   "outputs": [],
   "source": [
    "df1 = pd.DataFrame(np.array(npz).flatten())"
   ]
  },
  {
   "cell_type": "code",
   "execution_count": null,
   "metadata": {
    "ExecuteTime": {
     "end_time": "2019-09-16T14:56:15.509614Z",
     "start_time": "2019-09-16T14:56:15.504998Z"
    }
   },
   "outputs": [],
   "source": [
    "# df1.iloc[:,0] "
   ]
  },
  {
   "cell_type": "code",
   "execution_count": null,
   "metadata": {
    "ExecuteTime": {
     "end_time": "2019-09-16T15:05:47.531753Z",
     "start_time": "2019-09-16T15:05:47.525553Z"
    }
   },
   "outputs": [],
   "source": [
    "df1.iloc[:,0] = [i.replace('\\n','|') for i in df1.iloc[:,0]]\n",
    "\n",
    "# .str.split('\\n', 1, expand=True)\n",
    "# .to_csv('something.csv')"
   ]
  },
  {
   "cell_type": "code",
   "execution_count": null,
   "metadata": {
    "ExecuteTime": {
     "end_time": "2019-09-16T15:06:03.455884Z",
     "start_time": "2019-09-16T15:06:03.448377Z"
    }
   },
   "outputs": [],
   "source": [
    "df1.to_csv('something.csv')\n"
   ]
  },
  {
   "cell_type": "code",
   "execution_count": null,
   "metadata": {
    "ExecuteTime": {
     "end_time": "2019-09-16T15:02:14.368788Z",
     "start_time": "2019-09-16T15:02:14.345973Z"
    }
   },
   "outputs": [],
   "source": [
    "df1.iloc[:,0].str.split(';', 1, expand=True).iloc[:,1].str.split(';', 1, expand=True)"
   ]
  },
  {
   "cell_type": "code",
   "execution_count": null,
   "metadata": {
    "ExecuteTime": {
     "end_time": "2019-09-16T15:37:53.940272Z",
     "start_time": "2019-09-16T15:37:53.935990Z"
    }
   },
   "outputs": [],
   "source": [
    "something2 = pd.read_csv('something2.csv', delimiter='|')"
   ]
  },
  {
   "cell_type": "code",
   "execution_count": null,
   "metadata": {
    "ExecuteTime": {
     "end_time": "2019-09-16T15:37:29.369526Z",
     "start_time": "2019-09-16T15:37:29.366013Z"
    }
   },
   "outputs": [],
   "source": [
    "# something2.iloc[:,3] = something2.iloc[:,3].str.split('Год ввода в эксплуатацию:', 1, expand=True)"
   ]
  },
  {
   "cell_type": "code",
   "execution_count": null,
   "metadata": {
    "ExecuteTime": {
     "end_time": "2019-09-16T15:39:41.427518Z",
     "start_time": "2019-09-16T15:39:41.420684Z"
    }
   },
   "outputs": [],
   "source": [
    "something2 = something2.join(something2.iloc[:,3].str.split('Год ввода в эксплуатацию:', 1, expand=True))"
   ]
  },
  {
   "cell_type": "code",
   "execution_count": null,
   "metadata": {
    "ExecuteTime": {
     "end_time": "2019-09-16T15:40:32.745036Z",
     "start_time": "2019-09-16T15:40:32.735570Z"
    }
   },
   "outputs": [],
   "source": [
    "something2 = something2.drop('0',axis=1)"
   ]
  },
  {
   "cell_type": "code",
   "execution_count": null,
   "metadata": {
    "ExecuteTime": {
     "end_time": "2019-09-16T15:43:10.283875Z",
     "start_time": "2019-09-16T15:43:10.254624Z"
    }
   },
   "outputs": [],
   "source": [
    "something2"
   ]
  },
  {
   "cell_type": "code",
   "execution_count": null,
   "metadata": {
    "ExecuteTime": {
     "end_time": "2019-09-16T15:43:52.610574Z",
     "start_time": "2019-09-16T15:43:52.604653Z"
    }
   },
   "outputs": [],
   "source": [
    "# something2 = \n",
    "# something2.join( \n",
    "df2 = something2.loc[:,'Unnamed: 7'].str.split('Долгота:', 1, expand=True)\n",
    "    \n",
    "# something2"
   ]
  },
  {
   "cell_type": "code",
   "execution_count": null,
   "metadata": {
    "ExecuteTime": {
     "end_time": "2019-09-16T15:44:38.559118Z",
     "start_time": "2019-09-16T15:44:38.556441Z"
    }
   },
   "outputs": [],
   "source": [
    "something2.iloc[:,-4] = df2.iloc[:,0]"
   ]
  },
  {
   "cell_type": "code",
   "execution_count": null,
   "metadata": {
    "ExecuteTime": {
     "end_time": "2019-09-16T15:45:24.900764Z",
     "start_time": "2019-09-16T15:45:24.897711Z"
    }
   },
   "outputs": [],
   "source": [
    "something2['Долгота'] = df2.iloc[:,1]"
   ]
  },
  {
   "cell_type": "code",
   "execution_count": null,
   "metadata": {
    "ExecuteTime": {
     "end_time": "2019-09-16T15:50:04.559030Z",
     "start_time": "2019-09-16T15:50:04.548257Z"
    }
   },
   "outputs": [],
   "source": [
    "something2.to_csv('something2.csv', sep='\\t')"
   ]
  },
  {
   "cell_type": "code",
   "execution_count": null,
   "metadata": {
    "ExecuteTime": {
     "end_time": "2019-09-16T14:41:17.221893Z",
     "start_time": "2019-09-16T14:41:17.216823Z"
    }
   },
   "outputs": [],
   "source": [
    "# name_box.get_text()\n"
   ]
  },
  {
   "cell_type": "code",
   "execution_count": null,
   "metadata": {
    "ExecuteTime": {
     "end_time": "2019-09-16T14:41:21.107373Z",
     "start_time": "2019-09-16T14:41:21.102363Z"
    }
   },
   "outputs": [],
   "source": [
    "# soup.get_text(class_='model-details processing-plant')"
   ]
  },
  {
   "cell_type": "code",
   "execution_count": null,
   "metadata": {
    "ExecuteTime": {
     "end_time": "2019-09-17T14:12:53.988464Z",
     "start_time": "2019-09-17T14:12:53.967441Z"
    }
   },
   "outputs": [],
   "source": [
    "oil_gas_processing = pd.read_csv('oil_gas_processing.csv')"
   ]
  },
  {
   "cell_type": "code",
   "execution_count": null,
   "metadata": {
    "ExecuteTime": {
     "end_time": "2019-09-17T14:12:54.550687Z",
     "start_time": "2019-09-17T14:12:54.536501Z"
    }
   },
   "outputs": [],
   "source": [
    "something2 = pd.read_csv('something2.csv', sep='\\t')"
   ]
  },
  {
   "cell_type": "code",
   "execution_count": null,
   "metadata": {
    "ExecuteTime": {
     "end_time": "2019-09-17T14:12:55.047225Z",
     "start_time": "2019-09-17T14:12:55.043253Z"
    }
   },
   "outputs": [],
   "source": [
    "# something2"
   ]
  },
  {
   "cell_type": "code",
   "execution_count": null,
   "metadata": {
    "ExecuteTime": {
     "end_time": "2019-09-17T14:12:55.514170Z",
     "start_time": "2019-09-17T14:12:55.510889Z"
    }
   },
   "outputs": [],
   "source": [
    "# oil_gas_processing"
   ]
  },
  {
   "cell_type": "code",
   "execution_count": null,
   "metadata": {
    "ExecuteTime": {
     "end_time": "2019-09-17T14:12:55.948004Z",
     "start_time": "2019-09-17T14:12:55.929237Z"
    }
   },
   "outputs": [],
   "source": [
    "maplist =  something2.iloc[:,0]\n",
    "rlist = oil_gas_processing.iloc[:,0]\n",
    "\n",
    "from fuzzywuzzy import fuzz\n",
    "\n",
    "k = []\n",
    "for i in maplist:\n",
    "    lll = [fuzz.ratio(i,j) for j in rlist]\n",
    "    k.append(np.argmax(lll))\n",
    "\n",
    "rlist2 = rlist[k]"
   ]
  },
  {
   "cell_type": "code",
   "execution_count": null,
   "metadata": {
    "ExecuteTime": {
     "end_time": "2019-09-17T14:12:56.458442Z",
     "start_time": "2019-09-17T14:12:56.438269Z"
    }
   },
   "outputs": [],
   "source": [
    "pd.DataFrame([maplist.values, rlist2.values]).transpose()"
   ]
  },
  {
   "cell_type": "code",
   "execution_count": null,
   "metadata": {
    "ExecuteTime": {
     "end_time": "2019-09-17T14:13:27.815908Z",
     "start_time": "2019-09-17T14:13:27.806596Z"
    }
   },
   "outputs": [],
   "source": [
    "something2.iloc[:,0] = rlist[k].values\n",
    "\n",
    "\n",
    "# kratnosti_2"
   ]
  },
  {
   "cell_type": "code",
   "execution_count": null,
   "metadata": {
    "ExecuteTime": {
     "end_time": "2019-09-17T14:15:06.341615Z",
     "start_time": "2019-09-17T14:15:06.335958Z"
    }
   },
   "outputs": [],
   "source": [
    "# oil_gas_processing"
   ]
  },
  {
   "cell_type": "code",
   "execution_count": null,
   "metadata": {
    "ExecuteTime": {
     "end_time": "2019-09-17T14:15:51.307845Z",
     "start_time": "2019-09-17T14:15:51.270633Z"
    }
   },
   "outputs": [],
   "source": [
    "oil_gas_processing.merge(something2, how='outer', left_on='ГПЗ', right_on='ГПЗ').to_csv('oil_gas_processing_2.csv')"
   ]
  },
  {
   "cell_type": "code",
   "execution_count": null,
   "metadata": {
    "ExecuteTime": {
     "end_time": "2019-09-16T13:58:56.921347Z",
     "start_time": "2019-09-16T13:58:56.918198Z"
    }
   },
   "outputs": [],
   "source": [
    "# def visible(element):\n",
    "#     if element.parent.name in ['style', 'script', '[document]', 'head', 'title']:\n",
    "#         return False\n",
    "#     elif re.match('<!--.*-->', str(element.encode('utf-8'))):\n",
    "#         return False\n",
    "#     return True\n",
    " \n",
    "# result = filter(visible, data)"
   ]
  },
  {
   "cell_type": "code",
   "execution_count": null,
   "metadata": {
    "ExecuteTime": {
     "end_time": "2019-09-16T14:01:53.966295Z",
     "start_time": "2019-09-16T14:01:53.961001Z"
    }
   },
   "outputs": [],
   "source": [
    "# import urllib.request\n",
    "# from inscriptis import get_text\n",
    "# url = \"http://www.informationscience.ch\"\n",
    "# html = urllib.request.urlopen(url).read().decode('utf-8')\n",
    " \n",
    "# text = get_text(html)\n",
    " \n",
    "# print(text)"
   ]
  },
  {
   "cell_type": "code",
   "execution_count": null,
   "metadata": {
    "ExecuteTime": {
     "end_time": "2019-09-16T04:47:06.779290Z",
     "start_time": "2019-09-16T04:47:06.774120Z"
    }
   },
   "outputs": [],
   "source": [
    "dies_3 = pd.read_csv('mestorozhdenia.csv', index_col=0)"
   ]
  },
  {
   "cell_type": "code",
   "execution_count": null,
   "metadata": {
    "ExecuteTime": {
     "end_time": "2019-09-16T04:47:07.346997Z",
     "start_time": "2019-09-16T04:47:07.333147Z"
    }
   },
   "outputs": [],
   "source": [
    "dies_3 = dies_3.replace('-', np.nan)"
   ]
  },
  {
   "cell_type": "code",
   "execution_count": null,
   "metadata": {
    "ExecuteTime": {
     "end_time": "2019-09-16T04:34:55.321055Z",
     "start_time": "2019-09-16T04:34:55.297869Z"
    }
   },
   "outputs": [],
   "source": [
    "data = pd.ExcelFile('oil_gas_fields.xlsx')\n",
    "data.sheet_names\n"
   ]
  },
  {
   "cell_type": "code",
   "execution_count": null,
   "metadata": {
    "ExecuteTime": {
     "end_time": "2019-09-16T04:35:22.095956Z",
     "start_time": "2019-09-16T04:35:22.084475Z"
    }
   },
   "outputs": [],
   "source": [
    "data = data.parse('Sheet1') "
   ]
  },
  {
   "cell_type": "code",
   "execution_count": null,
   "metadata": {
    "ExecuteTime": {
     "end_time": "2019-09-16T04:35:51.195591Z",
     "start_time": "2019-09-16T04:35:51.192332Z"
    }
   },
   "outputs": [],
   "source": [
    "# dies_3"
   ]
  },
  {
   "cell_type": "code",
   "execution_count": null,
   "metadata": {
    "ExecuteTime": {
     "end_time": "2019-09-16T04:37:59.759477Z",
     "start_time": "2019-09-16T04:37:59.756417Z"
    }
   },
   "outputs": [],
   "source": [
    "data.iloc[:,0] = [i.replace(' месторождение', '') for i in data.iloc[:,0]]"
   ]
  },
  {
   "cell_type": "code",
   "execution_count": null,
   "metadata": {
    "ExecuteTime": {
     "end_time": "2019-09-16T04:38:09.422418Z",
     "start_time": "2019-09-16T04:38:09.411178Z"
    }
   },
   "outputs": [],
   "source": [
    "data.iloc[:,0] = [i.replace(' меторождение', '') for i in data.iloc[:,0]]"
   ]
  },
  {
   "cell_type": "code",
   "execution_count": null,
   "metadata": {
    "ExecuteTime": {
     "end_time": "2019-09-16T04:38:21.287784Z",
     "start_time": "2019-09-16T04:38:21.283361Z"
    }
   },
   "outputs": [],
   "source": [
    "data.iloc[:,0] = [i.replace('Месторождение ', '') for i in data.iloc[:,0]]"
   ]
  },
  {
   "cell_type": "code",
   "execution_count": null,
   "metadata": {
    "ExecuteTime": {
     "end_time": "2019-09-16T04:39:29.318186Z",
     "start_time": "2019-09-16T04:39:29.316218Z"
    }
   },
   "outputs": [],
   "source": [
    "# dies_3.index"
   ]
  },
  {
   "cell_type": "code",
   "execution_count": null,
   "metadata": {
    "ExecuteTime": {
     "end_time": "2019-09-16T04:47:19.426917Z",
     "start_time": "2019-09-16T04:47:19.353839Z"
    }
   },
   "outputs": [],
   "source": [
    "maplist =  dies_3.index.values\n",
    "rlist = data.iloc[:,0]\n",
    "\n",
    "from fuzzywuzzy import fuzz\n",
    "\n",
    "k = []\n",
    "for i in maplist:\n",
    "    lll = [fuzz.ratio(i,j) for j in rlist]\n",
    "    k.append(np.argmax(lll))\n",
    "\n",
    "rlist2 = rlist[k]\n",
    "\n",
    "# pd.DataFrame([maplist, rlist2.values, k]).transpose().iloc[28:,:]"
   ]
  },
  {
   "cell_type": "code",
   "execution_count": null,
   "metadata": {
    "ExecuteTime": {
     "end_time": "2019-09-16T04:32:25.359628Z",
     "start_time": "2019-09-16T04:32:25.352743Z"
    }
   },
   "outputs": [],
   "source": [
    "# rlist2.values\n",
    "\n",
    "dies_3.index = rlist[k].values"
   ]
  },
  {
   "cell_type": "code",
   "execution_count": null,
   "metadata": {
    "ExecuteTime": {
     "end_time": "2019-09-16T04:47:47.600648Z",
     "start_time": "2019-09-16T04:47:47.597744Z"
    }
   },
   "outputs": [],
   "source": [
    "dies_3.index.name = 'Субъект федерации'\n",
    "\n",
    "# all_data"
   ]
  },
  {
   "cell_type": "code",
   "execution_count": null,
   "metadata": {
    "ExecuteTime": {
     "end_time": "2019-09-16T04:50:22.611426Z",
     "start_time": "2019-09-16T04:50:22.606165Z"
    }
   },
   "outputs": [],
   "source": [
    "dies_3['mest'] =  dies_3.index"
   ]
  },
  {
   "cell_type": "code",
   "execution_count": null,
   "metadata": {
    "ExecuteTime": {
     "end_time": "2019-09-16T04:50:23.594633Z",
     "start_time": "2019-09-16T04:50:23.592655Z"
    }
   },
   "outputs": [],
   "source": [
    "# data"
   ]
  },
  {
   "cell_type": "code",
   "execution_count": null,
   "metadata": {
    "ExecuteTime": {
     "end_time": "2019-09-16T04:50:24.080450Z",
     "start_time": "2019-09-16T04:50:24.055871Z"
    }
   },
   "outputs": [],
   "source": [
    "data = data.merge(dies_3, how='outer', left_on='Название месторождения', right_on='Субъект федерации')\n",
    "# all_data = all_data.drop('Субъект федерации',axis=1)"
   ]
  },
  {
   "cell_type": "code",
   "execution_count": null,
   "metadata": {
    "ExecuteTime": {
     "end_time": "2019-09-16T04:50:24.420339Z",
     "start_time": "2019-09-16T04:50:24.392391Z"
    }
   },
   "outputs": [],
   "source": [
    "data.to_csv('oil_gas_mest.csv')"
   ]
  },
  {
   "cell_type": "code",
   "execution_count": null,
   "metadata": {
    "ExecuteTime": {
     "end_time": "2019-09-16T05:17:11.183207Z",
     "start_time": "2019-09-16T05:17:11.178319Z"
    }
   },
   "outputs": [],
   "source": [
    "dies_2 = pd.read_csv('mestorozhdenia2.csv', index_col=0)"
   ]
  },
  {
   "cell_type": "code",
   "execution_count": null,
   "metadata": {
    "ExecuteTime": {
     "end_time": "2019-09-16T05:16:53.326306Z",
     "start_time": "2019-09-16T05:16:53.317765Z"
    }
   },
   "outputs": [],
   "source": [
    "dies = pd.read_csv('mestorozhdenia3.csv')"
   ]
  },
  {
   "cell_type": "code",
   "execution_count": null,
   "metadata": {
    "ExecuteTime": {
     "end_time": "2019-09-16T05:16:53.555930Z",
     "start_time": "2019-09-16T05:16:53.551491Z"
    }
   },
   "outputs": [],
   "source": [
    "#  dies_2"
   ]
  },
  {
   "cell_type": "code",
   "execution_count": null,
   "metadata": {
    "ExecuteTime": {
     "end_time": "2019-09-16T05:19:41.561757Z",
     "start_time": "2019-09-16T05:19:41.558269Z"
    }
   },
   "outputs": [],
   "source": [
    "dies_2 = dies_2.replace('--', np.nan)"
   ]
  },
  {
   "cell_type": "code",
   "execution_count": null,
   "metadata": {
    "ExecuteTime": {
     "end_time": "2019-09-16T05:19:41.772569Z",
     "start_time": "2019-09-16T05:19:41.769763Z"
    }
   },
   "outputs": [],
   "source": [
    "dies_2.to_csv('mestorozhdenia2.csv')"
   ]
  },
  {
   "cell_type": "code",
   "execution_count": null,
   "metadata": {
    "ExecuteTime": {
     "end_time": "2019-09-16T05:19:42.019161Z",
     "start_time": "2019-09-16T05:19:42.005572Z"
    }
   },
   "outputs": [],
   "source": [
    "dies_2"
   ]
  },
  {
   "cell_type": "code",
   "execution_count": null,
   "metadata": {
    "ExecuteTime": {
     "end_time": "2019-09-16T04:34:55.321055Z",
     "start_time": "2019-09-16T04:34:55.297869Z"
    }
   },
   "outputs": [],
   "source": [
    "# data = pd.ExcelFile('oil_gas_fields.xlsx')\n",
    "# data.sheet_names\n"
   ]
  },
  {
   "cell_type": "code",
   "execution_count": null,
   "metadata": {
    "ExecuteTime": {
     "end_time": "2019-09-16T04:35:22.095956Z",
     "start_time": "2019-09-16T04:35:22.084475Z"
    }
   },
   "outputs": [],
   "source": [
    "# data = data.parse('Sheet1') "
   ]
  },
  {
   "cell_type": "code",
   "execution_count": null,
   "metadata": {
    "ExecuteTime": {
     "end_time": "2019-09-16T04:35:51.195591Z",
     "start_time": "2019-09-16T04:35:51.192332Z"
    }
   },
   "outputs": [],
   "source": [
    "# dies_3"
   ]
  },
  {
   "cell_type": "code",
   "execution_count": null,
   "metadata": {
    "ExecuteTime": {
     "end_time": "2019-09-16T04:37:59.759477Z",
     "start_time": "2019-09-16T04:37:59.756417Z"
    }
   },
   "outputs": [],
   "source": [
    "# data.iloc[:,0] = [i.replace(' месторождение', '') for i in data.iloc[:,0]]"
   ]
  },
  {
   "cell_type": "code",
   "execution_count": null,
   "metadata": {
    "ExecuteTime": {
     "end_time": "2019-09-16T04:38:09.422418Z",
     "start_time": "2019-09-16T04:38:09.411178Z"
    }
   },
   "outputs": [],
   "source": [
    "# data.iloc[:,0] = [i.replace(' меторождение', '') for i in data.iloc[:,0]]"
   ]
  },
  {
   "cell_type": "code",
   "execution_count": null,
   "metadata": {
    "ExecuteTime": {
     "end_time": "2019-09-16T04:38:21.287784Z",
     "start_time": "2019-09-16T04:38:21.283361Z"
    }
   },
   "outputs": [],
   "source": [
    "# data.iloc[:,0] = [i.replace('Месторождение ', '') for i in data.iloc[:,0]]"
   ]
  },
  {
   "cell_type": "code",
   "execution_count": null,
   "metadata": {
    "ExecuteTime": {
     "end_time": "2019-09-16T05:15:39.325011Z",
     "start_time": "2019-09-16T05:15:39.319705Z"
    }
   },
   "outputs": [],
   "source": [
    "# dies.iloc[:,-1]"
   ]
  },
  {
   "cell_type": "code",
   "execution_count": null,
   "metadata": {
    "ExecuteTime": {
     "end_time": "2019-09-16T05:17:15.274602Z",
     "start_time": "2019-09-16T05:17:15.251843Z"
    }
   },
   "outputs": [],
   "source": [
    "maplist =  dies_2.index.values\n",
    "rlist = dies.iloc[:,-1]\n",
    "\n",
    "from fuzzywuzzy import fuzz\n",
    "\n",
    "k = []\n",
    "for i in maplist:\n",
    "    lll = [fuzz.ratio(i,str(j)) for j in rlist]\n",
    "    k.append(np.argmax(lll))\n",
    "\n",
    "rlist2 = rlist[k]"
   ]
  },
  {
   "cell_type": "code",
   "execution_count": null,
   "metadata": {
    "ExecuteTime": {
     "end_time": "2019-09-16T05:17:16.590217Z",
     "start_time": "2019-09-16T05:17:16.578802Z"
    }
   },
   "outputs": [],
   "source": [
    "pd.DataFrame([maplist, rlist2.values, k]).transpose().iloc[:,:]"
   ]
  },
  {
   "cell_type": "code",
   "execution_count": null,
   "metadata": {
    "ExecuteTime": {
     "end_time": "2019-09-16T04:32:25.359628Z",
     "start_time": "2019-09-16T04:32:25.352743Z"
    }
   },
   "outputs": [],
   "source": [
    "# rlist2.values\n",
    "\n",
    "dies_3.index = rlist[k].values"
   ]
  },
  {
   "cell_type": "code",
   "execution_count": null,
   "metadata": {
    "ExecuteTime": {
     "end_time": "2019-09-16T04:47:47.600648Z",
     "start_time": "2019-09-16T04:47:47.597744Z"
    }
   },
   "outputs": [],
   "source": [
    "dies_3.index.name = 'Субъект федерации'\n",
    "\n",
    "# all_data"
   ]
  },
  {
   "cell_type": "code",
   "execution_count": null,
   "metadata": {
    "ExecuteTime": {
     "end_time": "2019-09-16T04:50:22.611426Z",
     "start_time": "2019-09-16T04:50:22.606165Z"
    }
   },
   "outputs": [],
   "source": [
    "dies_3['mest'] =  dies_3.index"
   ]
  },
  {
   "cell_type": "code",
   "execution_count": null,
   "metadata": {
    "ExecuteTime": {
     "end_time": "2019-09-16T04:50:23.594633Z",
     "start_time": "2019-09-16T04:50:23.592655Z"
    }
   },
   "outputs": [],
   "source": [
    "# data"
   ]
  },
  {
   "cell_type": "code",
   "execution_count": null,
   "metadata": {
    "ExecuteTime": {
     "end_time": "2019-09-16T04:50:24.080450Z",
     "start_time": "2019-09-16T04:50:24.055871Z"
    }
   },
   "outputs": [],
   "source": [
    "data = data.merge(dies_3, how='outer', left_on='Название месторождения', right_on='Субъект федерации')\n",
    "# all_data = all_data.drop('Субъект федерации',axis=1)"
   ]
  },
  {
   "cell_type": "code",
   "execution_count": null,
   "metadata": {
    "ExecuteTime": {
     "end_time": "2019-09-16T04:50:24.420339Z",
     "start_time": "2019-09-16T04:50:24.392391Z"
    }
   },
   "outputs": [],
   "source": [
    "data.to_csv('oil_gas_mest.csv')"
   ]
  },
  {
   "cell_type": "code",
   "execution_count": null,
   "metadata": {
    "ExecuteTime": {
     "end_time": "2019-09-16T13:55:04.011406Z",
     "start_time": "2019-09-16T13:55:02.492490Z"
    }
   },
   "outputs": [],
   "source": []
  },
  {
   "cell_type": "code",
   "execution_count": null,
   "metadata": {},
   "outputs": [],
   "source": []
  }
 ],
 "metadata": {
  "hide_input": false,
  "kernelspec": {
   "display_name": "Python 3.6 (for geoplots)",
   "language": "python",
   "name": "geoplots3.6"
  },
  "language_info": {
   "codemirror_mode": {
    "name": "ipython",
    "version": 3
   },
   "file_extension": ".py",
   "mimetype": "text/x-python",
   "name": "python",
   "nbconvert_exporter": "python",
   "pygments_lexer": "ipython3",
   "version": "3.6.7"
  },
  "latex_envs": {
   "LaTeX_envs_menu_present": true,
   "autoclose": true,
   "autocomplete": true,
   "bibliofile": "biblio.bib",
   "cite_by": "apalike",
   "current_citInitial": 1,
   "eqLabelWithNumbers": true,
   "eqNumInitial": 1,
   "hotkeys": {
    "equation": "Ctrl-E",
    "itemize": "Ctrl-I"
   },
   "labels_anchors": false,
   "latex_user_defs": false,
   "report_style_numbering": false,
   "user_envs_cfg": false
  },
  "toc": {
   "base_numbering": 1,
   "nav_menu": {},
   "number_sections": true,
   "sideBar": true,
   "skip_h1_title": false,
   "title_cell": "Table of Contents",
   "title_sidebar": "Contents",
   "toc_cell": false,
   "toc_position": {},
   "toc_section_display": true,
   "toc_window_display": false
  },
  "varInspector": {
   "cols": {
    "lenName": 16,
    "lenType": 16,
    "lenVar": 40
   },
   "kernels_config": {
    "python": {
     "delete_cmd_postfix": "",
     "delete_cmd_prefix": "del ",
     "library": "var_list.py",
     "varRefreshCmd": "print(var_dic_list())"
    },
    "r": {
     "delete_cmd_postfix": ") ",
     "delete_cmd_prefix": "rm(",
     "library": "var_list.r",
     "varRefreshCmd": "cat(var_dic_list()) "
    }
   },
   "types_to_exclude": [
    "module",
    "function",
    "builtin_function_or_method",
    "instance",
    "_Feature"
   ],
   "window_display": false
  }
 },
 "nbformat": 4,
 "nbformat_minor": 2
}
