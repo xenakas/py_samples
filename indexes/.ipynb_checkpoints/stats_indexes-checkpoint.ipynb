{
 "cells": [
  {
   "cell_type": "code",
   "execution_count": null,
   "metadata": {
    "ExecuteTime": {
     "end_time": "2019-09-02T08:50:27.762253Z",
     "start_time": "2019-09-02T08:50:27.606830Z"
    }
   },
   "outputs": [],
   "source": [
    "import pandas as pd\n",
    "import numpy as np"
   ]
  },
  {
   "cell_type": "markdown",
   "metadata": {},
   "source": [
    "## Аналитические показатели для рынка нефти и нефтепродуктов"
   ]
  },
  {
   "cell_type": "markdown",
   "metadata": {},
   "source": [
    "- [Нефтяная промышленность 2016](http://minresrus.ru/media/uploads/2018/01/EderLV_Mrr-6-2017.pdf)\n",
    "\n",
    "- [Нефтегазодобывающая и нефтеперерабатывающая промышленность: Тенденции и прогнозы](http://vid1.rian.ru/ig/ratings/oil_gas_demo.pdf)\n",
    "\n",
    "-  [ТЭК РОССИИ — 2016](http://ac.gov.ru/files/publication/a/13691.pdf)\n",
    "\n",
    "\n",
    "\n",
    "[ГИСЫ](https://minvr.ru/about/svedeniya-o-gosudarstvennykh-informatsionnykh-sistemakh/perechen-gosudarstvennykh-informatsionnykh-sistem/)\n",
    "\n",
    "- [ГИС ТЭК](https://gis-tek.ru/web/guest/opendata)\n",
    "\n",
    "- [Открытые данные Министерства природных ресурсов и экологии Российской Федерации](http://www.mnr.gov.ru/opendata?ods=%D1%80%D0%B5%D0%B3%D0%B8%D0%BE%D0%BD#od_search)\n",
    "\n",
    "- [Статистика минэнерго](https://minenergo.gov.ru/opendata)\n",
    "\n",
    "-  [Статистика Роспироднадзор](http://rpn.gov.ru/opendata?term_node_tid_depth=All)"
   ]
  },
  {
   "cell_type": "markdown",
   "metadata": {},
   "source": [
    "### [Глубина переработки](https://ru.wikipedia.org/wiki/%D0%93%D0%BB%D1%83%D0%B1%D0%B8%D0%BD%D0%B0_%D0%BF%D0%B5%D1%80%D0%B5%D1%80%D0%B0%D0%B1%D0%BE%D1%82%D0%BA%D0%B8_%D0%BD%D0%B5%D1%84%D1%82%D0%B8)"
   ]
  },
  {
   "cell_type": "markdown",
   "metadata": {},
   "source": [
    "- [ПРОГНОЗ РАЗВИТИЯ ЭНЕРГЕТИКИ МИРА И РОССИИ 2019](https://energy.skolkovo.ru/downloads/documents/SEneC/Research/SKOLKOVO_EneC_Forecast_2019_Rus.pdf)\n",
    "- [Нефтяная отрасль: итоги 2017 года и краткосрочные перспективы](http://ac.gov.ru/files/publication/a/15796.pdf)\n",
    "- [Российская нефтепереработка: пути развития](http://www.oilreview.ru/index.php?032)\n",
    "- [К оценке эффективности работы нефтеперерабатывающих заводов](https://cyberleninka.ru/article/v/k-otsenke-effektivnosti-raboty-neftepererabatyvayuschih-zavodov)\n",
    "- [Нефть-2017: итоги,тенденции, прогнозы](http://www.ngv.ru/upload/iblock/939/93972e1f25fa9b33508ca6c348e8614b.pdf)\n",
    "\n"
   ]
  },
  {
   "cell_type": "code",
   "execution_count": null,
   "metadata": {
    "ExecuteTime": {
     "end_time": "2019-08-21T21:15:49.481424Z",
     "start_time": "2019-08-21T21:15:49.388341Z"
    }
   },
   "outputs": [],
   "source": [
    "glub = df1[~df1.iloc[:,10].isna()].groupby('Регион').agg(['mean', 'count']).iloc[:, 8:10]"
   ]
  },
  {
   "cell_type": "code",
   "execution_count": null,
   "metadata": {
    "ExecuteTime": {
     "end_time": "2019-08-21T21:17:54.316387Z",
     "start_time": "2019-08-21T21:17:54.288567Z"
    }
   },
   "outputs": [],
   "source": [
    "glub[glub.iloc[:,0] >= glub.iloc[:,0].quantile(0.80)]"
   ]
  },
  {
   "cell_type": "code",
   "execution_count": null,
   "metadata": {
    "ExecuteTime": {
     "end_time": "2019-08-21T21:18:01.514663Z",
     "start_time": "2019-08-21T21:18:01.486314Z"
    }
   },
   "outputs": [],
   "source": [
    "glub[glub.iloc[:,0] <= glub.iloc[:,0].quantile(0.20)]"
   ]
  },
  {
   "cell_type": "code",
   "execution_count": null,
   "metadata": {
    "ExecuteTime": {
     "end_time": "2019-08-23T12:28:41.708044Z",
     "start_time": "2019-08-23T12:28:41.689942Z"
    }
   },
   "outputs": [],
   "source": [
    "glub_okr = glub_okr.sort_values('Глубина переработки, %')\n",
    "glub_okr"
   ]
  },
  {
   "cell_type": "code",
   "execution_count": null,
   "metadata": {
    "ExecuteTime": {
     "end_time": "2019-08-23T12:29:25.369188Z",
     "start_time": "2019-08-23T12:29:25.365685Z"
    }
   },
   "outputs": [],
   "source": [
    "glub.to_csv('glub_regions.csv')\n",
    "glub_okr.to_csv('glub_okr.csv')"
   ]
  },
  {
   "cell_type": "markdown",
   "metadata": {},
   "source": [
    "### Отношение между объемом запасов и объемом добычи."
   ]
  },
  {
   "cell_type": "markdown",
   "metadata": {},
   "source": [
    "- [ЗА 1970-2007: ДОБЫЧА НЕФТИ, ВКЛЮЧАЯ ГАЗОВЫЙ КОНДЕНСАТ, ПО СУБЪЕКТАМ РОССИЙСКОЙ ФЕДЕРАЦИИ](http://www.gks.ru/bgd/regl/b08_13/IssWWW.exe/Stg/d3/13-27.htm), [1970-2005](https://uisrussia.msu.ru/stat/Publications/Ejeg2006/Ejeg2006_13_/Ejeg2006_13_290.htm?lang=ru)\n",
    "- [О СОСТОЯНИИ И ИСПОЛЬЗОВАНИИ МИНЕРАЛЬНО-СЫРЬЕВЫХ РЕСУРСОВ РОССИЙСКОЙ ФЕДЕРАЦИИ В 2015 ГОДУ](http://www.mnr.gov.ru/upload/iblock/5ef/2015_msr.pdf)\n",
    "- [Use of Statistical Indicators to Measure Crude Oil and Natural Gas Reserves and Production ](http://www.upg-bulletin-se.ro/archive/2014-1/5.Lazar_Lazar.pdf)\n",
    "\n",
    "- [Нефть-2017: итоги,тенденции, прогнозы](http://www.ngv.ru/upload/iblock/939/93972e1f25fa9b33508ca6c348e8614b.pdf)\n",
    "\n",
    "- [Нефтегазовый комплекс России –2017. ](http://www.ipgg.sbras.ru/ru/files/orgunits/energyreport/petroleum-industry-russia-2017.pdf)\n",
    "\n",
    "- [Мировые  тенденции  геологоразведочных работ на нефть и газ](https://www.imemo.ru/files/File/ru/conf/2018/21122018/PREZ/01-17-Milovidov.pdf)\n",
    "\n",
    "Описание показателя:\n",
    "\n",
    "\n",
    "Запасы нефти:\n",
    "\n",
    "- [Дагестан](https://cyberleninka.ru/article/v/otsenka-eksportnogo-potentsiala-neftegazodobyvayuschey-otrasli-respubliki-dagestan)\n",
    "- [Калмыкия](https://cyberleninka.ru/article/v/razvitie-neftegazovogo-kompleksa-respubliki-kalmykiya-sostoyanie-i-perspektivy)\n",
    "- [Омская](http://mpr.omskportal.ru/ru/RegionalPublicAuthorities/executivelist/MPR/pravaya-kolonka/ecopasport/PageContent/0/body_files/file21/%D0%A0%D0%B0%D0%B7%D0%B4%D0%B5%D0%BB%207.%20%D0%9C%D0%98%D0%9D%D0%95%D0%A0%D0%90%D0%9B%D0%AC%D0%9D%D0%9E-%D0%A1%D0%AB%D0%A0%D0%AC%D0%95%D0%92%D0%AB%D0%95%20%D0%A0%D0%95%D0%A1%D0%A3%D0%A0%D0%A1%D0%AB.%20%D0%9C%D0%98%D0%9D%D0%95%D0%A0%D0%90%D0%9B%D0%AC%D0%9D%D0%9E-%D0%A1%D0%AB%D0%A0%D0%AC%D0%95%D0%92%D0%AB%D0%95%20%D0%A0%D0%95%D0%A1%D0%A3%D0%A0%D0%A1%D0%AB.%20%D0%9C%D0%98%D0%9D%D0%95%D0%A0%D0%90%D0%9B%D0%AC%D0%9D%D0%9E-%D0%A1%D0%AB%D0%A0%D0%AC%D0%95%D0%92%D0%AB%D0%95%20%D0%A0%D0%95%D0%A1%D0%A3%D0%A0%D0%A1%D0%AB.pdf)\n",
    "- Ингушетия  — экологический паспорт\n",
    "- [Крым](https://tass.ru/ekonomika/1094468)\n",
    "- [Грозненские месторождения Роснефть](https://ru.wikipedia.org/wiki/%D0%A1%D0%BF%D0%B8%D1%81%D0%BE%D0%BA_%D0%BD%D0%B5%D1%84%D1%82%D1%8F%D0%BD%D1%8B%D1%85_%D0%BC%D0%B5%D1%81%D1%82%D0%BE%D1%80%D0%BE%D0%B6%D0%B4%D0%B5%D0%BD%D0%B8%D0%B9_%D0%A0%D0%BE%D1%81%D1%81%D0%B8%D0%B8)\n",
    "- [Краснодар](http://geolike.ru/page/gl_3671.htm)\n",
    "    - Еще в 2014 г Министерство экономики Краснодарского края сообщало, что в регионе запасы сырья извлекли на 98,5%.\n",
    "- [Волгоградская область](http://www.vestnik.vsu.ru/pdf/geograph/2014/02/2014-02-06.pdf)\n",
    "- [Калининградская область](https://gov39.ru/region/natural.php)\n",
    "- [Кировская область](https://nature.kirovreg.ru/ecology/nedropolzovanie/mineralno-syrevaya-baza-kirovskoy-oblasti/)\n",
    "- [Новосибирская](https://ksonline.ru/238048/neftyanaya-promyshlennost-v-novosibirskoj-oblasti-prodolzhaet-razvivatsya/)\n",
    "- [Пензенская](https://catalogmineralov.ru/deposit/penzenskaya_oblast/)\n",
    "- [Cахалинская](https://cyberleninka.ru/article/v/neftegazovye-proekty-sahalinskoy-oblasti)\n",
    "\n",
    "\n"
   ]
  },
  {
   "cell_type": "code",
   "execution_count": null,
   "metadata": {
    "ExecuteTime": {
     "end_time": "2019-09-02T08:51:59.334794Z",
     "start_time": "2019-09-02T08:51:59.330281Z"
    }
   },
   "outputs": [],
   "source": [
    "kratnosti = pd.read_csv('data_oil_indexes/2_kratnosti_neft_gas.csv', index_col=0)"
   ]
  },
  {
   "cell_type": "code",
   "execution_count": null,
   "metadata": {
    "ExecuteTime": {
     "end_time": "2019-09-02T08:54:29.444798Z",
     "start_time": "2019-09-02T08:54:29.441670Z"
    }
   },
   "outputs": [],
   "source": [
    "kratnosti_nefti = kratnosti[(~kratnosti.iloc[:,-1].isna()) & (kratnosti.iloc[:,-1]!=np.inf)] "
   ]
  },
  {
   "cell_type": "code",
   "execution_count": null,
   "metadata": {
    "ExecuteTime": {
     "end_time": "2019-09-02T08:59:39.188137Z",
     "start_time": "2019-09-02T08:59:39.184695Z"
    }
   },
   "outputs": [],
   "source": [
    "kratnosti_nefti = kratnosti_nefti.iloc[:,[1,2,5,8]]"
   ]
  },
  {
   "cell_type": "code",
   "execution_count": null,
   "metadata": {
    "ExecuteTime": {
     "end_time": "2019-09-02T09:11:17.291020Z",
     "start_time": "2019-09-02T09:11:17.288334Z"
    }
   },
   "outputs": [],
   "source": [
    "kratnosti_nefti.shape"
   ]
  },
  {
   "cell_type": "code",
   "execution_count": null,
   "metadata": {
    "ExecuteTime": {
     "end_time": "2019-09-02T09:12:35.509212Z",
     "start_time": "2019-09-02T09:12:35.504985Z"
    }
   },
   "outputs": [],
   "source": [
    "kratnosti_nefti[kratnosti_nefti.iloc[:,-1] < 100].shape"
   ]
  },
  {
   "cell_type": "code",
   "execution_count": null,
   "metadata": {
    "ExecuteTime": {
     "end_time": "2019-09-02T09:13:08.891766Z",
     "start_time": "2019-09-02T09:13:08.885583Z"
    }
   },
   "outputs": [],
   "source": [
    "kratnosti_nefti[kratnosti_nefti.iloc[:,-1] < 30]"
   ]
  },
  {
   "cell_type": "code",
   "execution_count": null,
   "metadata": {
    "ExecuteTime": {
     "end_time": "2019-09-02T09:03:10.801024Z",
     "start_time": "2019-09-02T09:03:10.793727Z"
    },
    "scrolled": true
   },
   "outputs": [],
   "source": [
    "kratnosti_nefti[kratnosti_nefti.iloc[:,-1] > 500] "
   ]
  },
  {
   "cell_type": "markdown",
   "metadata": {},
   "source": [
    "### Цены на нефть и нефтепродукты"
   ]
  },
  {
   "cell_type": "markdown",
   "metadata": {},
   "source": [
    "- [Паспорт набора данных \"Интерактивная карта цен на нефтепродукты в России\"](http://fas.gov.ru/opendata/7703516539-petrolpricesmap)\n",
    "    - [табло](https://public.tableau.com/profile/fasanalytics#!/vizhome/_1206/sheet0)\n",
    "\n",
    "- [ЦБСД](http://www.gks.ru/dbscripts/cbsd/DBInet.cgi)\n",
    "\n",
    "\n",
    "Here are some important factors that affect crude oil prices.\n",
    "\n",
    "- Oil demand: Broadly affected by the state of the global economy, as more economic activity generally requires more energy. Recently, non-OECD (Organisation for Economic Co-operation and Development) nations have been consuming more and more oil as their economies grow and develop. Meanwhile, oil demand from OECD nations has been flat or falling because their economies are more mature and they’re further using other fuel sources such as renewables, nuclear, and natural gas.\n",
    "-   Oil supply: Affected by worldwide oil production. In recent years, oil production in the United States and Canada has increased greatly, which has added stability to global oil supply because production from other sources such as the North Sea has begun to decline. Additionally, OPEC (Organization of Petroleum Exporting Countries) plays a major role in setting global oil supply, as the member countries produce a significant portion of the world’s global oil. OPEC members also periodically convene to discuss optimal pricing and supply.\n",
    "-   Speculation: Speculation by market participants through instruments such as crude oil futures also plays a role in setting oil prices. For instance, regarding the extreme oil price volatility seen in 2008, when prices hit almost \\$150 per barrel at points, economist Thomas Palley stated, “The actual behavior of oil prices is consistent with speculation. In June, oil prices leapt by \\$11 in one day, and in July they fell back by \\$15 in three days. Such volatility does not fit a fundamentals-driven market.”\n",
    "\n"
   ]
  },
  {
   "cell_type": "code",
   "execution_count": null,
   "metadata": {
    "ExecuteTime": {
     "end_time": "2019-09-02T09:44:15.649102Z",
     "start_time": "2019-09-02T09:44:15.503675Z"
    }
   },
   "outputs": [],
   "source": [
    "prices_petrolmap = pd.read_csv('data_oil_indexes/3_prices_petrolmap.csv', header=[0,1,2], index_col=0, parse_dates=True)"
   ]
  },
  {
   "cell_type": "code",
   "execution_count": null,
   "metadata": {
    "ExecuteTime": {
     "end_time": "2019-09-02T09:47:47.678093Z",
     "start_time": "2019-09-02T09:47:47.676358Z"
    }
   },
   "outputs": [],
   "source": [
    "# prices_petrolmap"
   ]
  },
  {
   "cell_type": "code",
   "execution_count": null,
   "metadata": {
    "ExecuteTime": {
     "end_time": "2019-09-02T09:46:35.936324Z",
     "start_time": "2019-09-02T09:46:35.927155Z"
    }
   },
   "outputs": [],
   "source": [
    "prices_diesel = prices_petrolmap[['Дизельное топливо зимнее', 'Дизельное топливо летнее']].transpose().groupby('region').mean().transpose().resample('m').mean()"
   ]
  },
  {
   "cell_type": "code",
   "execution_count": null,
   "metadata": {
    "ExecuteTime": {
     "end_time": "2019-09-02T09:48:33.040345Z",
     "start_time": "2019-09-02T09:48:32.664350Z"
    }
   },
   "outputs": [],
   "source": [
    "prices_diesel.plot(legend=False);"
   ]
  },
  {
   "cell_type": "code",
   "execution_count": null,
   "metadata": {
    "ExecuteTime": {
     "end_time": "2019-09-02T10:21:47.265811Z",
     "start_time": "2019-09-02T10:21:47.051038Z"
    }
   },
   "outputs": [],
   "source": [
    "prices_diesel[prices_diesel.std(axis=1) > 5.6].transpose().plot();"
   ]
  },
  {
   "cell_type": "code",
   "execution_count": null,
   "metadata": {
    "ExecuteTime": {
     "end_time": "2019-09-02T10:26:08.079244Z",
     "start_time": "2019-09-02T10:26:08.066799Z"
    }
   },
   "outputs": [],
   "source": [
    "prices_diesel.mean(axis=0).resample('y').mean() #.plot()"
   ]
  },
  {
   "cell_type": "code",
   "execution_count": null,
   "metadata": {
    "ExecuteTime": {
     "end_time": "2019-09-02T09:50:16.201274Z",
     "start_time": "2019-09-02T09:50:16.197606Z"
    }
   },
   "outputs": [],
   "source": [
    "prices_diesel = prices_diesel.transpose()"
   ]
  },
  {
   "cell_type": "code",
   "execution_count": null,
   "metadata": {
    "ExecuteTime": {
     "end_time": "2019-09-02T10:14:09.831981Z",
     "start_time": "2019-09-02T10:14:09.827673Z"
    }
   },
   "outputs": [],
   "source": [
    "prices_diesel.mean(axis=1)[prices_diesel.mean(axis=1) < 30]"
   ]
  },
  {
   "cell_type": "code",
   "execution_count": null,
   "metadata": {
    "ExecuteTime": {
     "end_time": "2019-09-02T10:15:57.368037Z",
     "start_time": "2019-09-02T10:15:57.357579Z"
    }
   },
   "outputs": [],
   "source": [
    "prices_diesel[prices_diesel.mean(axis=1) < 30].transpose().resample('y').mean()"
   ]
  },
  {
   "cell_type": "code",
   "execution_count": null,
   "metadata": {
    "ExecuteTime": {
     "end_time": "2019-09-02T09:51:11.902152Z",
     "start_time": "2019-09-02T09:51:11.871463Z"
    }
   },
   "outputs": [],
   "source": [
    "prices_diesel[prices_diesel.mean(axis=1) > 50]"
   ]
  },
  {
   "cell_type": "code",
   "execution_count": null,
   "metadata": {
    "ExecuteTime": {
     "end_time": "2019-09-02T10:10:41.369452Z",
     "start_time": "2019-09-02T10:10:41.347440Z"
    }
   },
   "outputs": [],
   "source": [
    "prices_diesel[prices_diesel.iloc[:,-12] > 50].transpose().resample('Y').mean()"
   ]
  },
  {
   "cell_type": "code",
   "execution_count": null,
   "metadata": {
    "ExecuteTime": {
     "end_time": "2019-09-02T10:35:27.992520Z",
     "start_time": "2019-09-02T10:35:27.990481Z"
    }
   },
   "outputs": [],
   "source": [
    "# prices_diesel"
   ]
  },
  {
   "cell_type": "code",
   "execution_count": null,
   "metadata": {
    "ExecuteTime": {
     "end_time": "2019-09-02T09:47:30.872858Z",
     "start_time": "2019-09-02T09:47:30.809747Z"
    }
   },
   "outputs": [],
   "source": [
    "prices_bensin = pd.read_csv('data_oil_indexes/3_prices_fuel.csv', index_col=0, parse_dates=True )\n",
    "prices_bensin"
   ]
  },
  {
   "cell_type": "code",
   "execution_count": null,
   "metadata": {
    "ExecuteTime": {
     "end_time": "2019-09-02T10:29:47.436183Z",
     "start_time": "2019-09-02T10:29:47.398673Z"
    }
   },
   "outputs": [],
   "source": [
    "prices_bensin"
   ]
  },
  {
   "cell_type": "code",
   "execution_count": null,
   "metadata": {
    "ExecuteTime": {
     "end_time": "2019-09-02T10:36:10.578884Z",
     "start_time": "2019-09-02T10:36:10.148420Z"
    }
   },
   "outputs": [],
   "source": [
    "prices_bensin.plot(legend=False);"
   ]
  },
  {
   "cell_type": "code",
   "execution_count": null,
   "metadata": {
    "ExecuteTime": {
     "end_time": "2019-09-02T10:37:02.665867Z",
     "start_time": "2019-09-02T10:37:02.663586Z"
    }
   },
   "outputs": [],
   "source": [
    "prices_bensin = prices_bensin.transpose()\n"
   ]
  },
  {
   "cell_type": "code",
   "execution_count": null,
   "metadata": {
    "ExecuteTime": {
     "end_time": "2019-09-02T10:37:24.761947Z",
     "start_time": "2019-09-02T10:37:24.759485Z"
    }
   },
   "outputs": [],
   "source": [
    "# prices_bensin"
   ]
  },
  {
   "cell_type": "code",
   "execution_count": null,
   "metadata": {
    "ExecuteTime": {
     "end_time": "2019-09-02T10:37:40.543343Z",
     "start_time": "2019-09-02T10:37:40.541488Z"
    }
   },
   "outputs": [],
   "source": [
    "# prices_bensin.std(axis=1) > 5"
   ]
  },
  {
   "cell_type": "code",
   "execution_count": null,
   "metadata": {
    "ExecuteTime": {
     "end_time": "2019-09-02T10:38:02.312802Z",
     "start_time": "2019-09-02T10:38:02.089410Z"
    }
   },
   "outputs": [],
   "source": [
    "prices_bensin[prices_bensin.std(axis=1) > 5.1].transpose().plot();"
   ]
  },
  {
   "cell_type": "code",
   "execution_count": null,
   "metadata": {
    "ExecuteTime": {
     "end_time": "2019-09-02T10:45:04.898649Z",
     "start_time": "2019-09-02T10:45:04.890024Z"
    }
   },
   "outputs": [],
   "source": [
    "prices_bensin.mean(axis=0).resample('y').mean() #.plot()"
   ]
  },
  {
   "cell_type": "code",
   "execution_count": null,
   "metadata": {
    "ExecuteTime": {
     "end_time": "2019-09-02T10:47:38.415102Z",
     "start_time": "2019-09-02T10:47:38.038599Z"
    }
   },
   "outputs": [],
   "source": [
    "prices_bensin.transpose().plot(legend=False);"
   ]
  },
  {
   "cell_type": "code",
   "execution_count": null,
   "metadata": {
    "ExecuteTime": {
     "end_time": "2019-09-02T10:48:53.091306Z",
     "start_time": "2019-09-02T10:48:53.089658Z"
    }
   },
   "outputs": [],
   "source": [
    "# prices_bensin.mean(axis=1)[prices_bensin.mean(axis=1) < 30]"
   ]
  },
  {
   "cell_type": "code",
   "execution_count": null,
   "metadata": {},
   "outputs": [],
   "source": [
    "prices_diesel[prices_diesel.mean(axis=1) < 30].transpose().resample('y').mean()"
   ]
  },
  {
   "cell_type": "code",
   "execution_count": null,
   "metadata": {
    "ExecuteTime": {
     "end_time": "2019-09-02T10:49:42.852045Z",
     "start_time": "2019-09-02T10:49:42.603472Z"
    }
   },
   "outputs": [],
   "source": [
    "prices_bensin[prices_bensin.mean(axis=1) > 40].transpose().plot()"
   ]
  },
  {
   "cell_type": "code",
   "execution_count": null,
   "metadata": {
    "ExecuteTime": {
     "end_time": "2019-09-02T10:52:47.392146Z",
     "start_time": "2019-09-02T10:52:47.378861Z"
    }
   },
   "outputs": [],
   "source": [
    "prices_bensin[prices_bensin.iloc[:,24] > 36].transpose().resample('Y').mean()"
   ]
  },
  {
   "cell_type": "code",
   "execution_count": null,
   "metadata": {
    "ExecuteTime": {
     "end_time": "2019-09-02T10:56:06.108237Z",
     "start_time": "2019-09-02T10:56:06.106313Z"
    }
   },
   "outputs": [],
   "source": [
    "# prices_fuel.plot()"
   ]
  },
  {
   "cell_type": "code",
   "execution_count": null,
   "metadata": {
    "ExecuteTime": {
     "end_time": "2019-09-02T10:57:50.102549Z",
     "start_time": "2019-09-02T10:57:50.097457Z"
    }
   },
   "outputs": [],
   "source": [
    "prices_mazut = pd.read_csv('data_oil_indexes/3_prices_mazut.csv', index_col=0, parse_dates=True)"
   ]
  },
  {
   "cell_type": "code",
   "execution_count": null,
   "metadata": {
    "ExecuteTime": {
     "end_time": "2019-09-02T10:57:50.647949Z",
     "start_time": "2019-09-02T10:57:50.374471Z"
    }
   },
   "outputs": [],
   "source": [
    "prices_mazut.plot(legend=False)"
   ]
  },
  {
   "cell_type": "code",
   "execution_count": null,
   "metadata": {
    "ExecuteTime": {
     "end_time": "2019-09-02T11:03:11.932543Z",
     "start_time": "2019-09-02T11:03:11.736603Z"
    }
   },
   "outputs": [],
   "source": [
    "prices_mazut.transpose().resample('y').mean().plot(legend=False);"
   ]
  },
  {
   "cell_type": "code",
   "execution_count": null,
   "metadata": {
    "ExecuteTime": {
     "end_time": "2019-09-02T11:03:41.636442Z",
     "start_time": "2019-09-02T11:03:41.628393Z"
    }
   },
   "outputs": [],
   "source": [
    "prices_mazut.transpose().resample('y').mean()['Приморский край']"
   ]
  },
  {
   "cell_type": "code",
   "execution_count": null,
   "metadata": {
    "ExecuteTime": {
     "end_time": "2019-09-02T10:59:48.399650Z",
     "start_time": "2019-09-02T10:59:48.396803Z"
    }
   },
   "outputs": [],
   "source": [
    "prices_mazut = prices_mazut.transpose()"
   ]
  },
  {
   "cell_type": "code",
   "execution_count": null,
   "metadata": {
    "ExecuteTime": {
     "end_time": "2019-09-02T11:00:48.469669Z",
     "start_time": "2019-09-02T11:00:48.451185Z"
    }
   },
   "outputs": [],
   "source": [
    "prices_mazut[prices_mazut.mean(axis=1) > 14000]"
   ]
  },
  {
   "cell_type": "code",
   "execution_count": null,
   "metadata": {
    "ExecuteTime": {
     "end_time": "2019-09-02T11:01:37.680483Z",
     "start_time": "2019-09-02T11:01:37.651816Z"
    }
   },
   "outputs": [],
   "source": [
    "prices_mazut"
   ]
  },
  {
   "cell_type": "code",
   "execution_count": null,
   "metadata": {
    "ExecuteTime": {
     "end_time": "2019-09-03T08:12:27.228334Z",
     "start_time": "2019-09-03T08:12:27.214178Z"
    }
   },
   "outputs": [],
   "source": [
    "prices_neft_1 = pd.read_csv('data_oil_indexes/3_prices_raw_neft_1998_2010.csv', index_col=0, parse_dates=True)\n",
    "# prices_neft_1"
   ]
  },
  {
   "cell_type": "code",
   "execution_count": null,
   "metadata": {
    "ExecuteTime": {
     "end_time": "2019-09-03T08:14:19.798582Z",
     "start_time": "2019-09-03T08:14:19.777764Z"
    }
   },
   "outputs": [],
   "source": [
    "prices_neft_2 = pd.read_csv('data_oil_indexes/3_prices_raw_neft_2012_2019.csv', index_col=0, parse_dates=True, decimal=',')\n",
    "prices_neft_3 = pd.read_csv('data_oil_indexes/3_prices_raw_neft_in_2010_2019.csv', index_col=0, parse_dates=True, decimal=',')"
   ]
  },
  {
   "cell_type": "code",
   "execution_count": null,
   "metadata": {
    "ExecuteTime": {
     "end_time": "2019-09-03T08:14:22.287440Z",
     "start_time": "2019-09-03T08:14:22.281415Z"
    }
   },
   "outputs": [],
   "source": [
    "# prices_neft_3"
   ]
  },
  {
   "cell_type": "code",
   "execution_count": null,
   "metadata": {
    "ExecuteTime": {
     "end_time": "2019-09-03T08:13:00.149569Z",
     "start_time": "2019-09-03T08:12:59.617240Z"
    }
   },
   "outputs": [],
   "source": [
    "prices_neft_1.plot();"
   ]
  },
  {
   "cell_type": "code",
   "execution_count": null,
   "metadata": {
    "ExecuteTime": {
     "end_time": "2019-09-03T08:13:57.838812Z",
     "start_time": "2019-09-03T08:13:57.251111Z"
    },
    "scrolled": false
   },
   "outputs": [],
   "source": [
    "prices_neft_2.plot();"
   ]
  },
  {
   "cell_type": "code",
   "execution_count": null,
   "metadata": {
    "ExecuteTime": {
     "end_time": "2019-09-03T08:16:06.044526Z",
     "start_time": "2019-09-03T08:16:06.037345Z"
    }
   },
   "outputs": [],
   "source": [
    "# prices_neft_2"
   ]
  },
  {
   "cell_type": "code",
   "execution_count": null,
   "metadata": {
    "ExecuteTime": {
     "end_time": "2019-09-03T08:14:41.204166Z",
     "start_time": "2019-09-03T08:14:40.599849Z"
    }
   },
   "outputs": [],
   "source": [
    "prices_neft_3.plot();"
   ]
  },
  {
   "cell_type": "markdown",
   "metadata": {},
   "source": [
    "### Крэк-спред\n",
    "\n",
    "- [СПРЕДЫ ПЕРЕРАБОТКИ: Крек-спред](http://www.fondovik.com/bazovie-znaniya/stati-finansovie-instrumenti/fyuchersnie-spredi/krek-spred/)\n",
    "- [EIA: ПРИБЫЛИ НПЗ НЕДОСТАТОЧНО ДЛЯ КОМПЕНСАЦИИ НИЗКИХ ДОХОДОВ MAJORS](http://www.ngv.ru/analytics/eia_pribyli_npz_nedostatochno_dlya_kompensatsii_nizkikh_dokhodov_majors/)\n",
    "- [EIA: crack-spread definition](https://www.eia.gov/todayinenergy/includes/crackspread_explain.php )\n",
    "- [Crack Spread 101](https://marketrealist.com/2013/07/crack-spread-101-part-1-whats-a-crack-spread/)\n",
    "\n",
    "We use the example of the “Bloomberg WTI Cushing Crude Oil 321 Crack Spread/Gulf Coast” (Bloomberg ticker CRKS321 Index). Bloomberg notes that the inputs are the following:\n",
    "\n",
    "- Crude oil – WTI at Cushing (USCRWTIC Index ) – closing price at July 19, 2013, of \\$ 108.05 per barrel\n",
    "- Gasoline – U.S. Gulf prompt 87 Octane gasoline (MOIGC87P Index) – closing price at July 19, 2013, of \\$2.92 per gallon (multiply by 42 to get price per barrel of \\$122.64)\n",
    "- Heating oil or gasoil – U.S. Gulf No. 2 Oil (NO2IGCPR index) – closing price at July 19, 2013, of \\$2.87 per gallon (multiply by 42 to get price per barrel of \\$120.54)\n",
    "\n",
    "Цены на мазут:\n",
    "\n",
    "- [ТОПЛИВНЫЙ  РЫНОК  РОССИИ](http://web.archive.org/web/20110725123304/http://minenergo.gov.ru/upload/iblock/333/33363d868cf93701591957ccd67583b1.pdf)\n",
    "- [КОРТЕС](http://www.kortes.com/products/price/)\n",
    "    - [РЕГИОНАЛЬНЫЕ ОПТОВЫЕ ЦЕНЫ НА ОСНОВНЫЕ НЕФТЕПРОДУКТЫ ](http://www.kortes.com/products/pdf/reg.pdf)\n",
    "- [ЦБСД Индексы по нефтепереработке](http://www.gks.ru/free_doc/new_site/prices/bd/bd_9420059.htm)\n",
    "\n",
    "Цены на нефть:\n",
    "\n",
    "- [Индексы цен нефтепродуктов](http://spimex.com/documents/indexes/)\n",
    "    - [Методика расчета региональных биржевых индексов цен сырой нефти](http://spimex.com/upload/iblock/9b0/9b06acc0ae4d4f48eaedaa5473554cf0.pdf)\n",
    "- [Коэффициенты перевода литров в тонны:](http://bogatoe.samregion.ru/external/omsu_bogatoe/files/c_683/Perevod_benzina_v_tonny.pdf)"
   ]
  },
  {
   "cell_type": "code",
   "execution_count": null,
   "metadata": {
    "ExecuteTime": {
     "end_time": "2019-09-03T13:31:07.554111Z",
     "start_time": "2019-09-03T13:31:07.357153Z"
    }
   },
   "outputs": [],
   "source": [
    "spread = pd.read_csv('data_oil_indexes/4_crack_spread_df.csv', index_col=0, header = [0,1], parse_dates=True)\n",
    "spread"
   ]
  },
  {
   "cell_type": "code",
   "execution_count": null,
   "metadata": {
    "ExecuteTime": {
     "end_time": "2019-09-03T13:44:02.431289Z",
     "start_time": "2019-09-03T13:44:02.418355Z"
    }
   },
   "outputs": [],
   "source": [
    "spread_spread = spread.swaplevel(axis=1)['Крэк-спред'].dropna(axis = 1, how = 'all')"
   ]
  },
  {
   "cell_type": "code",
   "execution_count": null,
   "metadata": {
    "ExecuteTime": {
     "end_time": "2019-09-03T13:46:33.612400Z",
     "start_time": "2019-09-03T13:46:33.070677Z"
    }
   },
   "outputs": [],
   "source": [
    "spread_spread.plot(legend = False);"
   ]
  },
  {
   "cell_type": "code",
   "execution_count": null,
   "metadata": {
    "ExecuteTime": {
     "end_time": "2019-09-03T13:59:38.989170Z",
     "start_time": "2019-09-03T13:59:38.981574Z"
    }
   },
   "outputs": [],
   "source": [
    "spread_spread.mean(axis=1)"
   ]
  },
  {
   "cell_type": "code",
   "execution_count": null,
   "metadata": {
    "ExecuteTime": {
     "end_time": "2019-09-03T14:18:19.303957Z",
     "start_time": "2019-09-03T14:18:19.301437Z"
    }
   },
   "outputs": [],
   "source": [
    "# spread_spread\n"
   ]
  },
  {
   "cell_type": "code",
   "execution_count": null,
   "metadata": {
    "ExecuteTime": {
     "end_time": "2019-09-03T14:01:14.507768Z",
     "start_time": "2019-09-03T14:01:14.504479Z"
    }
   },
   "outputs": [],
   "source": [
    "spread_spread_tf = spread_spread.sub(spread_spread.mean(axis=1), axis=0) > 0"
   ]
  },
  {
   "cell_type": "code",
   "execution_count": null,
   "metadata": {
    "ExecuteTime": {
     "end_time": "2019-09-03T14:16:27.454692Z",
     "start_time": "2019-09-03T14:16:27.422918Z"
    }
   },
   "outputs": [],
   "source": [
    "spread_spread_tf.apply(pd.value_counts).isna().any()"
   ]
  },
  {
   "cell_type": "code",
   "execution_count": null,
   "metadata": {
    "ExecuteTime": {
     "end_time": "2019-09-03T14:22:14.137092Z",
     "start_time": "2019-09-03T14:22:13.895103Z"
    }
   },
   "outputs": [],
   "source": [
    "spread['Иркутская область'].plot()\n",
    "spread_spread.mean(axis=1).plot();"
   ]
  },
  {
   "cell_type": "code",
   "execution_count": null,
   "metadata": {
    "ExecuteTime": {
     "end_time": "2019-09-03T14:22:22.148398Z",
     "start_time": "2019-09-03T14:22:22.146691Z"
    }
   },
   "outputs": [],
   "source": [
    "# pl1 = spread['Иркутская область'].plot()\n",
    "# spread_spread.mean(axis=1).plot(ax=pl1)"
   ]
  },
  {
   "cell_type": "code",
   "execution_count": null,
   "metadata": {
    "ExecuteTime": {
     "end_time": "2019-09-04T06:24:18.511201Z",
     "start_time": "2019-09-04T06:24:18.472899Z"
    }
   },
   "outputs": [],
   "source": [
    "spread_spread"
   ]
  },
  {
   "cell_type": "code",
   "execution_count": null,
   "metadata": {
    "ExecuteTime": {
     "end_time": "2019-09-04T06:24:19.067215Z",
     "start_time": "2019-09-04T06:24:18.776942Z"
    }
   },
   "outputs": [],
   "source": [
    "spread['Ростовская область'].plot()\n",
    "spread_spread.mean(axis=1).plot();\n"
   ]
  },
  {
   "cell_type": "code",
   "execution_count": null,
   "metadata": {
    "ExecuteTime": {
     "end_time": "2019-09-04T06:26:16.356694Z",
     "start_time": "2019-09-04T06:26:16.339424Z"
    }
   },
   "outputs": [],
   "source": [
    "spread['Ростовская область']"
   ]
  },
  {
   "cell_type": "code",
   "execution_count": null,
   "metadata": {},
   "outputs": [],
   "source": [
    "unlist(lapply(df, function(x) any(is.na(x))))"
   ]
  },
  {
   "cell_type": "code",
   "execution_count": null,
   "metadata": {
    "ExecuteTime": {
     "end_time": "2019-09-03T13:45:06.621819Z",
     "start_time": "2019-09-03T13:45:06.609049Z"
    }
   },
   "outputs": [],
   "source": [
    "spread_gas = spread.swaplevel(axis=1)['Цена тонны бензина'][spread_spread.columns]"
   ]
  },
  {
   "cell_type": "code",
   "execution_count": null,
   "metadata": {
    "ExecuteTime": {
     "end_time": "2019-09-03T13:46:44.295611Z",
     "start_time": "2019-09-03T13:46:43.801381Z"
    }
   },
   "outputs": [],
   "source": [
    "spread_gas.plot(legend = False);"
   ]
  },
  {
   "cell_type": "code",
   "execution_count": null,
   "metadata": {
    "ExecuteTime": {
     "end_time": "2019-09-03T13:45:51.162634Z",
     "start_time": "2019-09-03T13:45:51.149744Z"
    }
   },
   "outputs": [],
   "source": [
    "spread_maz = spread.swaplevel(axis=1)['Цена тонны мазута'][spread_spread.columns]"
   ]
  },
  {
   "cell_type": "code",
   "execution_count": null,
   "metadata": {
    "ExecuteTime": {
     "end_time": "2019-09-03T13:46:55.169335Z",
     "start_time": "2019-09-03T13:46:54.601436Z"
    }
   },
   "outputs": [],
   "source": [
    "spread_maz.plot(legend = False);"
   ]
  },
  {
   "cell_type": "code",
   "execution_count": null,
   "metadata": {
    "ExecuteTime": {
     "end_time": "2019-09-03T13:46:12.753498Z",
     "start_time": "2019-09-03T13:46:12.746854Z"
    }
   },
   "outputs": [],
   "source": [
    "spread_oil = spread.swaplevel(axis=1)['Цена тонны сырой нефти'][spread_spread.columns]"
   ]
  },
  {
   "cell_type": "code",
   "execution_count": null,
   "metadata": {
    "ExecuteTime": {
     "end_time": "2019-09-03T13:47:06.231004Z",
     "start_time": "2019-09-03T13:47:05.716297Z"
    }
   },
   "outputs": [],
   "source": [
    "spread_oil.plot(legend = False);"
   ]
  },
  {
   "cell_type": "code",
   "execution_count": null,
   "metadata": {
    "ExecuteTime": {
     "end_time": "2019-09-04T06:29:24.413373Z",
     "start_time": "2019-09-04T06:29:24.384735Z"
    }
   },
   "outputs": [],
   "source": [
    "spread_spread.transpose()[spread_spread.std(axis=0) > 3500]"
   ]
  },
  {
   "cell_type": "code",
   "execution_count": null,
   "metadata": {
    "ExecuteTime": {
     "end_time": "2019-09-04T06:30:34.056386Z",
     "start_time": "2019-09-04T06:30:33.840940Z"
    }
   },
   "outputs": [],
   "source": [
    "spread['Приморский край'].plot()\n",
    "spread_spread.mean(axis=1).plot();"
   ]
  },
  {
   "cell_type": "code",
   "execution_count": null,
   "metadata": {
    "ExecuteTime": {
     "end_time": "2019-09-04T06:30:55.512298Z",
     "start_time": "2019-09-04T06:30:55.294966Z"
    }
   },
   "outputs": [],
   "source": [
    "spread['Сахалинская область'].plot()\n",
    "spread_spread.mean(axis=1).plot();"
   ]
  },
  {
   "cell_type": "code",
   "execution_count": null,
   "metadata": {
    "ExecuteTime": {
     "end_time": "2019-09-03T13:45:22.617411Z",
     "start_time": "2019-09-03T13:45:22.608455Z"
    }
   },
   "outputs": [],
   "source": [
    "# spread_spread.shape, spread_gas.shape"
   ]
  },
  {
   "cell_type": "markdown",
   "metadata": {},
   "source": [
    "### Объемы собираемых налоговых платежей (НДПИ, акциз) в региональном разрезе"
   ]
  },
  {
   "cell_type": "markdown",
   "metadata": {},
   "source": [
    "- [НДПИ](https://ru.wikipedia.org/wiki/%D0%9D%D0%B0%D0%BB%D0%BE%D0%B3_%D0%BD%D0%B0_%D0%B4%D0%BE%D0%B1%D1%8B%D1%87%D1%83_%D0%BF%D0%BE%D0%BB%D0%B5%D0%B7%D0%BD%D1%8B%D1%85_%D0%B8%D1%81%D0%BA%D0%BE%D0%BF%D0%B0%D0%B5%D0%BC%D1%8B%D1%85_(%D0%A0%D0%BE%D1%81%D1%81%D0%B8%D1%8F)\n",
    "- [СТАВКИ АКЦИЗА НА НЕФТЬ И ГАЗОВЫЙ КОНДЕНСАТ ДЛЯ НЕФТЕГАЗОДОБЫВАЮЩИХ ПРЕДПРИЯТИЙ](https://zakonbase.ru/content/part/196311)\n",
    "\n",
    "-  [Об Оценке влияния налОгОвОгО маневра в нефтянОй сфере на пОтребительскую инфляцию](http://www.cbr.ru/Content/Document/File/59793/20181227.pdf)"
   ]
  },
  {
   "cell_type": "code",
   "execution_count": null,
   "metadata": {
    "ExecuteTime": {
     "end_time": "2019-09-04T10:02:13.090152Z",
     "start_time": "2019-09-04T10:02:13.081199Z"
    }
   },
   "outputs": [],
   "source": [
    "nal_df = pd.read_csv('data_oil_indexes/5_taxes_ndpi_2013_2017.csv', index_col=[0,1], header=0, parse_dates=True)"
   ]
  },
  {
   "cell_type": "code",
   "execution_count": null,
   "metadata": {
    "ExecuteTime": {
     "end_time": "2019-09-04T10:10:16.139392Z",
     "start_time": "2019-09-04T10:10:16.129617Z"
    }
   },
   "outputs": [],
   "source": [
    "ndpi_oil = nal_df['НДПИ (нефть)'].unstack().transpose() #.plot();"
   ]
  },
  {
   "cell_type": "code",
   "execution_count": null,
   "metadata": {
    "ExecuteTime": {
     "end_time": "2019-09-04T10:24:15.693966Z",
     "start_time": "2019-09-04T10:24:15.690664Z"
    }
   },
   "outputs": [],
   "source": [
    "ndpi_oil = ndpi_oil.replace(0,np.nan).dropna(axis=1, how='all')"
   ]
  },
  {
   "cell_type": "code",
   "execution_count": null,
   "metadata": {
    "ExecuteTime": {
     "end_time": "2019-09-04T10:24:27.627941Z",
     "start_time": "2019-09-04T10:24:27.625831Z"
    }
   },
   "outputs": [],
   "source": [
    "# ndpi_oil"
   ]
  },
  {
   "cell_type": "code",
   "execution_count": null,
   "metadata": {
    "ExecuteTime": {
     "end_time": "2019-09-04T10:27:36.542257Z",
     "start_time": "2019-09-04T10:27:36.385768Z"
    }
   },
   "outputs": [],
   "source": [
    "ndpi_oil[ndpi_oil.sub(ndpi_oil.mean(axis=1), axis=0) > 100000].dropna(axis=1, how='all').plot();"
   ]
  },
  {
   "cell_type": "code",
   "execution_count": null,
   "metadata": {
    "ExecuteTime": {
     "end_time": "2019-09-04T10:27:37.387876Z",
     "start_time": "2019-09-04T10:27:37.386075Z"
    }
   },
   "outputs": [],
   "source": [
    "# ndpi_oil"
   ]
  },
  {
   "cell_type": "code",
   "execution_count": null,
   "metadata": {
    "ExecuteTime": {
     "end_time": "2019-09-04T10:29:09.378461Z",
     "start_time": "2019-09-04T10:29:09.370677Z"
    }
   },
   "outputs": [],
   "source": [
    "ndpi_oil.div(ndpi_oil.mean(axis=1), axis=0)[ndpi_oil.div(ndpi_oil.mean(axis=1), axis=0) > 3].dropna(axis=1, how='all')"
   ]
  },
  {
   "cell_type": "code",
   "execution_count": null,
   "metadata": {
    "ExecuteTime": {
     "end_time": "2019-09-04T10:34:53.480673Z",
     "start_time": "2019-09-04T10:34:53.476484Z"
    }
   },
   "outputs": [],
   "source": [
    "ndpi_oil_share = nal_df['НДПИ (нефть)'].div(nal_df['НДПИ']).unstack().transpose() #.plot();"
   ]
  },
  {
   "cell_type": "code",
   "execution_count": null,
   "metadata": {
    "ExecuteTime": {
     "end_time": "2019-09-04T10:35:42.461078Z",
     "start_time": "2019-09-04T10:35:42.455220Z"
    }
   },
   "outputs": [],
   "source": [
    "ndpi_oil_share['Ханты-Мансийский АО-Югра']"
   ]
  },
  {
   "cell_type": "code",
   "execution_count": null,
   "metadata": {
    "ExecuteTime": {
     "end_time": "2019-09-04T10:35:40.559101Z",
     "start_time": "2019-09-04T10:35:40.555489Z"
    }
   },
   "outputs": [],
   "source": [
    "ndpi_oil_share = ndpi_oil_share.replace(0,np.nan).dropna(axis=1, how='all')\n",
    "# ndpi_oil_share = ndpi_oil_share.replace(0,np.nan).dropna(axis=1, how='all')"
   ]
  },
  {
   "cell_type": "code",
   "execution_count": null,
   "metadata": {
    "ExecuteTime": {
     "end_time": "2019-09-04T10:34:43.969018Z",
     "start_time": "2019-09-04T10:34:43.967189Z"
    }
   },
   "outputs": [],
   "source": [
    "# nal_df.transpose()['Ханты-Мансийский АО-Югра']"
   ]
  },
  {
   "cell_type": "code",
   "execution_count": null,
   "metadata": {
    "ExecuteTime": {
     "end_time": "2019-09-04T10:36:02.187351Z",
     "start_time": "2019-09-04T10:36:01.951659Z"
    }
   },
   "outputs": [],
   "source": [
    "# ndpi_oil_share.plot();\n",
    "ndpi_oil_share[ndpi_oil_share > 0.998].dropna(axis=1, how='all').plot();\n"
   ]
  },
  {
   "cell_type": "code",
   "execution_count": null,
   "metadata": {
    "ExecuteTime": {
     "end_time": "2019-09-04T10:39:05.730482Z",
     "start_time": "2019-09-04T10:39:05.724746Z"
    }
   },
   "outputs": [],
   "source": [
    "ndpi_oil_share[ndpi_oil_share > 0.998].dropna(axis=1, how='all').columns"
   ]
  },
  {
   "cell_type": "code",
   "execution_count": null,
   "metadata": {
    "ExecuteTime": {
     "end_time": "2019-09-04T10:13:41.711825Z",
     "start_time": "2019-09-04T10:13:41.703478Z"
    }
   },
   "outputs": [],
   "source": [
    "ndpi_akc = nal_df['Акцизы на нефтепродукты'].unstack().transpose() #.plot();"
   ]
  },
  {
   "cell_type": "code",
   "execution_count": null,
   "metadata": {
    "ExecuteTime": {
     "end_time": "2019-09-04T10:40:44.525456Z",
     "start_time": "2019-09-04T10:40:44.520767Z"
    }
   },
   "outputs": [],
   "source": [
    "ndpi_akc =ndpi_akc.replace(0,np.nan).dropna(axis=1, how='all')"
   ]
  },
  {
   "cell_type": "code",
   "execution_count": null,
   "metadata": {
    "ExecuteTime": {
     "end_time": "2019-09-04T10:41:15.535522Z",
     "start_time": "2019-09-04T10:41:15.533686Z"
    }
   },
   "outputs": [],
   "source": [
    "# ndpi_akc.plot();"
   ]
  },
  {
   "cell_type": "code",
   "execution_count": null,
   "metadata": {
    "ExecuteTime": {
     "end_time": "2019-09-04T10:13:41.711825Z",
     "start_time": "2019-09-04T10:13:41.703478Z"
    }
   },
   "outputs": [],
   "source": [
    "ndpi_akc_sub = nal_df['Акцизы на нефтепродукты  (суб.бюджет)'].div(nal_df['Акцизы на нефтепродукты']).unstack().transpose() #.plot();"
   ]
  },
  {
   "cell_type": "code",
   "execution_count": null,
   "metadata": {
    "ExecuteTime": {
     "end_time": "2019-09-04T10:41:34.506670Z",
     "start_time": "2019-09-04T10:41:34.503141Z"
    }
   },
   "outputs": [],
   "source": [
    "ndpi_akc_sub =ndpi_akc_sub.replace(0,np.nan).dropna(axis=1, how='all')"
   ]
  },
  {
   "cell_type": "code",
   "execution_count": null,
   "metadata": {
    "ExecuteTime": {
     "end_time": "2019-09-04T10:42:24.286076Z",
     "start_time": "2019-09-04T10:42:24.274872Z"
    }
   },
   "outputs": [],
   "source": [
    "ndpi_akc_sub.mean(axis=1)"
   ]
  },
  {
   "cell_type": "code",
   "execution_count": null,
   "metadata": {
    "ExecuteTime": {
     "end_time": "2019-09-04T10:05:21.040729Z",
     "start_time": "2019-09-04T10:05:21.032379Z"
    }
   },
   "outputs": [],
   "source": [
    "nanam = 'НДПИ (газ горючий природный, суб.бюджет)'\n",
    "nal_df[(nal_df[nanam] != 0) & (~nal_df[nanam].isna())]"
   ]
  },
  {
   "cell_type": "code",
   "execution_count": null,
   "metadata": {
    "ExecuteTime": {
     "end_time": "2019-09-04T10:05:21.328275Z",
     "start_time": "2019-09-04T10:05:21.320069Z"
    }
   },
   "outputs": [],
   "source": [
    "nanam = 'НДПИ (нефть, суб.бюджет)'\n",
    "nal_df[(nal_df[nanam] != 0) & (~nal_df[nanam].isna())]"
   ]
  },
  {
   "cell_type": "code",
   "execution_count": null,
   "metadata": {
    "ExecuteTime": {
     "end_time": "2019-09-04T10:06:15.533976Z",
     "start_time": "2019-09-04T10:06:15.488382Z"
    }
   },
   "outputs": [],
   "source": [
    "nanam = 'Акцизы на нефтепродукты  (суб.бюджет)'\n",
    "nal_df[(nal_df[nanam] != 0) & (~nal_df[nanam].isna())]"
   ]
  },
  {
   "cell_type": "code",
   "execution_count": null,
   "metadata": {
    "ExecuteTime": {
     "end_time": "2019-09-04T10:03:00.565227Z",
     "start_time": "2019-09-04T10:03:00.554074Z"
    }
   },
   "outputs": [],
   "source": [
    "nal_df[(nal_df['НДПИ (газовый конденсат, суб.бюджет)'] != 0) & (~nal_df['НДПИ (газовый конденсат, суб.бюджет)'].isna())]"
   ]
  },
  {
   "cell_type": "markdown",
   "metadata": {},
   "source": [
    "### Задолженность по налоговым платежам (НДПИ, акциз) в региональном разрезе"
   ]
  },
  {
   "cell_type": "markdown",
   "metadata": {},
   "source": [
    "- [ВИЗУАЛИЗАЦИЯ ДАННЫХ, ХАРАКТЕРИЗУЮЩИХ НАЛОГОВУЮ КУЛЬТУРУ В НЕФТЕГАЗОВОМ СЕКТОРЕ](https://wciom.ru/fileadmin/file/monitoring/2016/134/2016_134_10_Karibekova.pdf)"
   ]
  },
  {
   "cell_type": "code",
   "execution_count": null,
   "metadata": {
    "ExecuteTime": {
     "end_time": "2019-09-04T10:52:02.372625Z",
     "start_time": "2019-09-04T10:52:02.356119Z"
    }
   },
   "outputs": [],
   "source": [
    "zad_ndpi = nal_df['Задолженность по НДПИ'].unstack().transpose() #.plot();\n",
    "zad_ndpi = zad_ndpi.replace(0,np.nan).dropna(axis=1, how='all')"
   ]
  },
  {
   "cell_type": "code",
   "execution_count": null,
   "metadata": {
    "ExecuteTime": {
     "end_time": "2019-09-04T10:56:19.868571Z",
     "start_time": "2019-09-04T10:56:19.852455Z"
    }
   },
   "outputs": [],
   "source": [
    "zad_ndpi.quantile(q=0.95, axis=1)"
   ]
  },
  {
   "cell_type": "code",
   "execution_count": null,
   "metadata": {
    "ExecuteTime": {
     "end_time": "2019-09-04T10:58:07.493710Z",
     "start_time": "2019-09-04T10:58:07.227956Z"
    },
    "scrolled": true
   },
   "outputs": [],
   "source": [
    "# zad_ndpi.plot();\n",
    "zad_ndpi[zad_ndpi.sub(zad_ndpi.quantile(q=0.99, axis=1), axis=0) > 0].dropna(axis=1, how='all').plot();"
   ]
  },
  {
   "cell_type": "code",
   "execution_count": null,
   "metadata": {
    "ExecuteTime": {
     "end_time": "2019-09-04T10:59:38.787783Z",
     "start_time": "2019-09-04T10:59:38.568571Z"
    }
   },
   "outputs": [],
   "source": [
    "zad_ndpi[zad_ndpi[zad_ndpi.sub(zad_ndpi.quantile(q=0.98, axis=1), axis=0) > 0].dropna(axis=1, how='all').columns].plot();"
   ]
  },
  {
   "cell_type": "code",
   "execution_count": null,
   "metadata": {
    "ExecuteTime": {
     "end_time": "2019-09-04T11:01:53.833304Z",
     "start_time": "2019-09-04T11:01:53.815840Z"
    }
   },
   "outputs": [],
   "source": [
    "zad_akc = nal_df['Задолженность по акцизу на нефтепродукты'].unstack().transpose() #.plot();\n",
    "zad_akc = zad_akc.replace(0,np.nan).dropna(axis=1, how='all')"
   ]
  },
  {
   "cell_type": "code",
   "execution_count": null,
   "metadata": {
    "ExecuteTime": {
     "end_time": "2019-09-04T11:02:45.319118Z",
     "start_time": "2019-09-04T11:02:45.153570Z"
    }
   },
   "outputs": [],
   "source": [
    "# zad_akc.plot();\n",
    "zad_akc[zad_akc[zad_akc.sub(zad_akc.quantile(q=0.98, axis=1), axis=0) > 0].dropna(axis=1, how='all').columns].plot();"
   ]
  },
  {
   "cell_type": "code",
   "execution_count": null,
   "metadata": {
    "ExecuteTime": {
     "end_time": "2019-09-04T11:05:32.623949Z",
     "start_time": "2019-09-04T11:05:32.619003Z"
    }
   },
   "outputs": [],
   "source": [
    "zad_dob = nal_df['Задолженность по налогам и сборам в добыче сырой нефти и природного газа'].unstack().transpose() #.plot();\n",
    "zad_dob = zad_dob.replace(0,np.nan).dropna(axis=1, how='all')"
   ]
  },
  {
   "cell_type": "code",
   "execution_count": null,
   "metadata": {
    "ExecuteTime": {
     "end_time": "2019-09-04T11:05:59.463726Z",
     "start_time": "2019-09-04T11:05:59.292798Z"
    }
   },
   "outputs": [],
   "source": [
    "zad_dob[zad_dob[zad_dob.sub(zad_dob.quantile(q=0.98, axis=1), axis=0) > 0].dropna(axis=1, how='all').columns].plot();"
   ]
  },
  {
   "cell_type": "code",
   "execution_count": null,
   "metadata": {
    "ExecuteTime": {
     "end_time": "2019-09-04T11:11:37.234128Z",
     "start_time": "2019-09-04T11:11:37.229663Z"
    }
   },
   "outputs": [],
   "source": [
    "zad_dob_share = nal_df['Задолженность по налогам и сборам в добыче сырой нефти и природного газа (удельный вес в общей сумме задолженности)'].unstack().transpose() #.plot();\n",
    "zad_dob_share = zad_dob.replace(0,np.nan).dropna(axis=1, how='all')"
   ]
  },
  {
   "cell_type": "code",
   "execution_count": null,
   "metadata": {
    "ExecuteTime": {
     "end_time": "2019-09-04T11:12:22.721910Z",
     "start_time": "2019-09-04T11:12:22.528164Z"
    }
   },
   "outputs": [],
   "source": [
    "# zad_dob_share.plot()\n",
    "zad_dob_share[zad_dob_share[zad_dob_share.sub(zad_dob_share.quantile(q=0.98, axis=1), axis=0) > 0].dropna(axis=1, how='all').columns].plot();"
   ]
  },
  {
   "cell_type": "markdown",
   "metadata": {},
   "source": [
    "## Аналитические показатели для рынка газа"
   ]
  },
  {
   "cell_type": "markdown",
   "metadata": {},
   "source": [
    "### Отношение между объемом запасов и объемом добычи в региональном разрезе"
   ]
  },
  {
   "cell_type": "markdown",
   "metadata": {},
   "source": [
    "- [Use of Statistical Indicators to Measure Crude Oil and Natural Gas Reserves and Production ](http://www.upg-bulletin-se.ro/archive/2014-1/5.Lazar_Lazar.pdf)\n",
    "\n",
    "-  [Воспроизводство минерально-сырьевой базы нефтегазового комплекса России](https://cyberleninka.ru/article/v/vosproizvodstvo-mineralno-syrievoy-bazy-neftegazovogo-kompleksa-rossii)\n"
   ]
  },
  {
   "cell_type": "code",
   "execution_count": null,
   "metadata": {
    "ExecuteTime": {
     "end_time": "2019-09-02T08:54:37.605282Z",
     "start_time": "2019-09-02T08:54:37.599635Z"
    }
   },
   "outputs": [],
   "source": [
    "kratnosti_gasa = kratnosti[(~kratnosti.iloc[:,-2].isna()) & (kratnosti.iloc[:,-2]!=np.inf)]"
   ]
  },
  {
   "cell_type": "code",
   "execution_count": null,
   "metadata": {
    "ExecuteTime": {
     "end_time": "2019-09-02T09:15:20.151612Z",
     "start_time": "2019-09-02T09:15:20.148994Z"
    }
   },
   "outputs": [],
   "source": [
    "kratnosti_gasa = kratnosti_gasa.iloc[:,[1,3,6,7]]"
   ]
  },
  {
   "cell_type": "code",
   "execution_count": null,
   "metadata": {
    "ExecuteTime": {
     "end_time": "2019-09-02T09:16:06.585065Z",
     "start_time": "2019-09-02T09:16:06.579003Z"
    }
   },
   "outputs": [],
   "source": [
    "kratnosti_gasa.shape"
   ]
  },
  {
   "cell_type": "code",
   "execution_count": null,
   "metadata": {
    "ExecuteTime": {
     "end_time": "2019-09-02T09:16:40.887285Z",
     "start_time": "2019-09-02T09:16:40.880327Z"
    }
   },
   "outputs": [],
   "source": [
    "kratnosti_gasa[kratnosti_gasa.iloc[:,-1] > 1000]"
   ]
  },
  {
   "cell_type": "code",
   "execution_count": null,
   "metadata": {
    "ExecuteTime": {
     "end_time": "2019-09-02T09:29:34.601156Z",
     "start_time": "2019-09-02T09:29:34.597450Z"
    }
   },
   "outputs": [],
   "source": [
    "kratnosti_gasa[kratnosti_gasa.iloc[:,-1] < 100].shape"
   ]
  },
  {
   "cell_type": "code",
   "execution_count": null,
   "metadata": {
    "ExecuteTime": {
     "end_time": "2019-09-02T09:30:00.906778Z",
     "start_time": "2019-09-02T09:30:00.891501Z"
    }
   },
   "outputs": [],
   "source": [
    "kratnosti_gasa[kratnosti_gasa.iloc[:,-1] < 50]"
   ]
  },
  {
   "cell_type": "code",
   "execution_count": null,
   "metadata": {
    "ExecuteTime": {
     "end_time": "2019-09-02T08:57:08.989355Z",
     "start_time": "2019-09-02T08:57:08.871233Z"
    }
   },
   "outputs": [],
   "source": [
    "np.log(kratnosti.iloc[:,[-1,-2]]).plot.scatter(y='Кратность запасов газа добыче', x = 'Кратность запасов нефти добыче');"
   ]
  },
  {
   "cell_type": "markdown",
   "metadata": {},
   "source": [
    "### Объемы собираемых налоговых платежей (НДПИ) в региональном разрезе"
   ]
  },
  {
   "cell_type": "markdown",
   "metadata": {},
   "source": [
    "- [О ставках акциза на природный газ\n",
    "](http://pravo.gov.ru/proxy/ips/?docbody=&nd=102057751&rdk=1)"
   ]
  },
  {
   "cell_type": "markdown",
   "metadata": {},
   "source": [
    "Акциз не  уплачивается организациями, передающими   или\n",
    "реализующими на  территории  Российской  Федерации  природный  газ,\n",
    "приобретенный   и  реализованный  по  государственным  регулируемым\n",
    "оптовым ценам,  акциз на который уже  был  уплачен  поставщиками  в\n",
    "установленном    порядке    исходя    из   налогооблагаемой   базы,\n",
    "предусмотренной в абзаце втором настоящего пункта."
   ]
  },
  {
   "cell_type": "code",
   "execution_count": null,
   "metadata": {
    "ExecuteTime": {
     "end_time": "2019-09-04T11:14:29.704187Z",
     "start_time": "2019-09-04T11:14:29.690236Z"
    }
   },
   "outputs": [],
   "source": [
    "ndpi_gas = nal_df['НДПИ (газ горючий природный)'].unstack().transpose() #.plot();\n",
    "ndpi_gas = ndpi_gas.replace(0,np.nan).dropna(axis=1, how='all')"
   ]
  },
  {
   "cell_type": "code",
   "execution_count": null,
   "metadata": {
    "ExecuteTime": {
     "end_time": "2019-09-04T11:16:34.950553Z",
     "start_time": "2019-09-04T11:16:34.930547Z"
    }
   },
   "outputs": [],
   "source": [
    "# ndpi_gas.plot();\n",
    "ndpi_gas.div(ndpi_gas.mean(axis=1), axis=0)[ndpi_gas.div(ndpi_gas.mean(axis=1), axis=0) > 3].dropna(axis=1, how='all')\n",
    "# .mean()"
   ]
  },
  {
   "cell_type": "code",
   "execution_count": null,
   "metadata": {
    "ExecuteTime": {
     "end_time": "2019-09-04T11:25:48.595023Z",
     "start_time": "2019-09-04T11:25:48.585388Z"
    }
   },
   "outputs": [],
   "source": [
    "ndpi_gas_share = nal_df['НДПИ (газ горючий природный)'].div(nal_df['НДПИ']).unstack().transpose() #.plot();\n",
    "ndpi_gas_share = ndpi_gas_share.replace(0,np.nan).dropna(axis=1, how='all')"
   ]
  },
  {
   "cell_type": "code",
   "execution_count": null,
   "metadata": {
    "ExecuteTime": {
     "end_time": "2019-09-04T11:29:14.492813Z",
     "start_time": "2019-09-04T11:29:14.468558Z"
    }
   },
   "outputs": [],
   "source": [
    "# ndpi_gas_share.plot()\n",
    "ndpi_gas_share[ndpi_gas_share[ndpi_gas_share > 0.5].dropna(axis=1, how='all').columns\n",
    "]"
   ]
  },
  {
   "cell_type": "code",
   "execution_count": null,
   "metadata": {
    "ExecuteTime": {
     "end_time": "2019-09-04T11:30:59.320420Z",
     "start_time": "2019-09-04T11:30:59.314057Z"
    }
   },
   "outputs": [],
   "source": [
    "ndpi_cond = nal_df['НДПИ (газовый конденсат )'].unstack().transpose() #.plot();\n",
    "ndpi_cond = ndpi_cond.replace(0,np.nan).dropna(axis=1, how='all')"
   ]
  },
  {
   "cell_type": "code",
   "execution_count": null,
   "metadata": {
    "ExecuteTime": {
     "end_time": "2019-09-04T11:31:33.764095Z",
     "start_time": "2019-09-04T11:31:33.447001Z"
    }
   },
   "outputs": [],
   "source": [
    "ndpi_cond.plot();"
   ]
  },
  {
   "cell_type": "code",
   "execution_count": null,
   "metadata": {
    "ExecuteTime": {
     "end_time": "2019-09-04T11:32:36.765681Z",
     "start_time": "2019-09-04T11:32:36.746410Z"
    }
   },
   "outputs": [],
   "source": [
    "ndpi_cond.div(ndpi_cond.mean(axis=1), axis=0)[ndpi_cond.div(ndpi_cond.mean(axis=1), axis=0) > 3].dropna(axis=1, how='all').mean(axis=0)\n"
   ]
  },
  {
   "cell_type": "code",
   "execution_count": null,
   "metadata": {
    "ExecuteTime": {
     "end_time": "2019-09-04T11:33:46.086008Z",
     "start_time": "2019-09-04T11:33:46.080847Z"
    }
   },
   "outputs": [],
   "source": [
    "ndpi_cond_share = nal_df['НДПИ (газовый конденсат )'].div(nal_df['НДПИ']).unstack().transpose() #.plot();\n",
    "ndpi_cond_share = ndpi_cond_share.replace(0,np.nan).dropna(axis=1, how='all')"
   ]
  },
  {
   "cell_type": "code",
   "execution_count": null,
   "metadata": {
    "ExecuteTime": {
     "end_time": "2019-09-04T11:34:46.153943Z",
     "start_time": "2019-09-04T11:34:46.142595Z"
    }
   },
   "outputs": [],
   "source": [
    "ndpi_cond_share[ndpi_cond_share[ndpi_cond_share > 0.1].dropna(axis=1, how='all').columns\n",
    "]"
   ]
  },
  {
   "cell_type": "markdown",
   "metadata": {},
   "source": [
    "## Аналитические показатели для рынка электроэнергетики"
   ]
  },
  {
   "cell_type": "markdown",
   "metadata": {},
   "source": [
    "- [ГИС энергосбережение](https://gisee.ru/regionsupport/)"
   ]
  },
  {
   "cell_type": "markdown",
   "metadata": {},
   "source": [
    "### Спарк-спред"
   ]
  },
  {
   "cell_type": "markdown",
   "metadata": {},
   "source": [
    "Генераторы, работающие на других видах топлива, имеют аналогичные показатели -- дарк-спред (цена на электроэнергию за вычетом стоимости угля) для угольных генераторов, кварк-спред (цена на электроэнергию за вычетом стоимости обогащенного уранового топлива) для ядерных генераторов. Основная цель использования этих спредов – моделирование  экономики производства электроэнергии. \n"
   ]
  },
  {
   "cell_type": "markdown",
   "metadata": {},
   "source": [
    "1 мегаватт равно 0.859845 Гигакалорий в час\n",
    "\n",
    "https://www.eia.gov/todayinenergy/detail.php?id=9911\n",
    "\n",
    "- [Спарк-спред](http://www.fondovik.com/bazovie-znaniya/stati-finansovie-instrumenti/fyuchersnie-spredi/spark-spred/)\n",
    "\n",
    "- [РСВ на покупку ЭЭ](http://www.atsenergo.ru/results/rsv/statistics?period=3) -  Рынок на сутки вперед (РСВ) \n",
    "    - [Участникам оптового рынка](http://www.atsenergo.ru/uchastnikam-optovogo-rynka)\n",
    "- [Тарифы на электроэнергию для населения в России](https://energybase.ru/tariff/electricity)\n",
    "- [Тарифы на электроэнергию по субъектам Российской Федерации на 2018 год в рублях за кВт*ч (сводная таблица)](https://worknet-info.ru/read-blog/1142_%D1%82%D0%B0%D0%B1%D0%BB%D0%B8%D1%86%D0%B0-%D1%82%D0%B0%D1%80%D0%B8%D1%84%D0%BE%D0%B2-%D0%BD%D0%B0-%D1%8D%D0%BB%D0%B5%D0%BA%D1%82%D1%80%D0%BE%D1%8D%D0%BD%D0%B5%D1%80%D0%B3%D0%B8%D1%8E-%D0%BF%D0%BE-%D1%80%D0%B5%D0%B3%D0%B8%D0%BE%D0%BD%D0%B0%D0%BC-%D1%80%D0%BE%D1%81%D1%81%D0%B8%D0%B8-%D0%B2-2018-%D0%B3%D0%BE%D0%B4%D1%83.html)"
   ]
  },
  {
   "cell_type": "markdown",
   "metadata": {},
   "source": [
    "[Heat rate](https://en.wikipedia.org/wiki/Heat_rate_(efficiency):\n",
    "\n",
    "- [Heat Rate](https://data.austintexas.gov/stories/s/Heat-Rate/h4dw-35vc/)\n",
    "- [NPHR formula](https://www.powermag.com/understanding-coal-power-plant-heat-rate-and-efficiency/?pagenum=3)\n",
    "- [Heat Rate = Input/Otput](https://www.myodesie.com/wiki/index/returnEntry/id/2995)\n",
    "- [Определение энергетической эффективности аппаратов, установок и систем](http://www.energosovet.ru/stat616.html)\n",
    "\n",
    "- [Сравнительные характеристики ТЭС разного типа и АЭС](https://lesprominform.ru/jarticles.html?id=3418)\n",
    "\n",
    "- [Сравнение различных видов топлива](http://biopechi.ru/stati/sravnenie-razlichnykh-vidov-topliva/)\n",
    "\n",
    "- [нормативы](https://zakonbase.ru/content/part/613281)\n",
    "\n",
    "- [Средний удельный расход - топливо](https://www.ngpedia.ru/id380315p1.html)\n",
    "\n",
    "- [Экономия ушла в полезный отпуск ](https://rg.ru/2019/03/04/rashod-topliva-pri-vyrabotke-elektroenergii-v-rossii-snizilsia.html)"
   ]
  },
  {
   "cell_type": "markdown",
   "metadata": {},
   "source": [
    "руб за 1000 м3 = руб за  7 900 000  ккал\n",
    "\n",
    "руб за 1000 м3 = руб за  7 900 000  000 кал\n",
    "\n",
    "3000 за 7 900 000 000\n",
    "x за 1 000 000 000\n",
    "\n",
    "х = цена * 1 000 000 000 / 7 900 000 000\n",
    "\n",
    "х = цена * 1 000   / 7 900  \n",
    "\n",
    "7900  ккал/м3  *  руб за 1000 м3"
   ]
  },
  {
   "cell_type": "code",
   "execution_count": null,
   "metadata": {
    "ExecuteTime": {
     "end_time": "2019-09-02T05:02:20.188319Z",
     "start_time": "2019-09-02T05:02:20.143648Z"
    }
   },
   "outputs": [],
   "source": [
    "spark_gas / 7.9 * spark_heat*1000"
   ]
  },
  {
   "cell_type": "code",
   "execution_count": null,
   "metadata": {
    "ExecuteTime": {
     "end_time": "2019-09-02T05:02:56.986705Z",
     "start_time": "2019-09-02T05:02:56.979997Z"
    }
   },
   "outputs": [],
   "source": [
    "spark_spread = spark_electricity.sub((spark_gas / 7.9 ).mul(spark_heat * 1000))"
   ]
  },
  {
   "cell_type": "code",
   "execution_count": null,
   "metadata": {
    "ExecuteTime": {
     "end_time": "2019-08-29T23:19:36.356503Z",
     "start_time": "2019-08-29T23:19:36.351565Z"
    }
   },
   "outputs": [],
   "source": [
    "# spark_spread = spark_electricity - spark_gas * 1000 / 7900 * spark_heat"
   ]
  },
  {
   "cell_type": "code",
   "execution_count": null,
   "metadata": {
    "ExecuteTime": {
     "end_time": "2019-09-02T05:03:33.336729Z",
     "start_time": "2019-09-02T05:03:33.139761Z"
    }
   },
   "outputs": [],
   "source": [
    "spark_spread.groupby('Федеральный округ').mean().transpose().plot();"
   ]
  },
  {
   "cell_type": "code",
   "execution_count": null,
   "metadata": {
    "ExecuteTime": {
     "end_time": "2019-09-02T07:09:37.732131Z",
     "start_time": "2019-09-02T07:09:37.727269Z"
    }
   },
   "outputs": [],
   "source": [
    "spark_spread.groupby('Федеральный округ').mean().iloc[2,:]"
   ]
  },
  {
   "cell_type": "code",
   "execution_count": null,
   "metadata": {
    "ExecuteTime": {
     "end_time": "2019-09-02T07:10:50.471038Z",
     "start_time": "2019-09-02T07:10:50.468381Z"
    }
   },
   "outputs": [],
   "source": [
    "3566/1028"
   ]
  },
  {
   "cell_type": "code",
   "execution_count": null,
   "metadata": {
    "ExecuteTime": {
     "end_time": "2019-09-02T05:03:06.135157Z",
     "start_time": "2019-09-02T05:03:05.857769Z"
    }
   },
   "outputs": [],
   "source": [
    "spark_spread.transpose().plot(legend=False);"
   ]
  },
  {
   "cell_type": "code",
   "execution_count": null,
   "metadata": {
    "ExecuteTime": {
     "end_time": "2019-09-02T07:08:03.245402Z",
     "start_time": "2019-09-02T07:08:03.241560Z"
    }
   },
   "outputs": [],
   "source": [
    "spark_spread[~spark_spread.iloc[:,-1].isna()].shape"
   ]
  },
  {
   "cell_type": "code",
   "execution_count": null,
   "metadata": {
    "ExecuteTime": {
     "end_time": "2019-09-02T05:03:42.822296Z",
     "start_time": "2019-09-02T05:03:42.818219Z"
    }
   },
   "outputs": [],
   "source": [
    "spark_spread.mean(axis=0)"
   ]
  },
  {
   "cell_type": "code",
   "execution_count": null,
   "metadata": {
    "ExecuteTime": {
     "end_time": "2019-09-02T07:02:36.682587Z",
     "start_time": "2019-09-02T07:02:36.677432Z"
    }
   },
   "outputs": [],
   "source": [
    "2888/1210"
   ]
  },
  {
   "cell_type": "code",
   "execution_count": null,
   "metadata": {
    "ExecuteTime": {
     "end_time": "2019-09-02T05:03:43.780608Z",
     "start_time": "2019-09-02T05:03:43.638056Z"
    }
   },
   "outputs": [],
   "source": [
    "spark_spread.mean(axis=0).plot()"
   ]
  },
  {
   "cell_type": "code",
   "execution_count": null,
   "metadata": {
    "ExecuteTime": {
     "end_time": "2019-09-02T05:03:57.514176Z",
     "start_time": "2019-09-02T05:03:57.509902Z"
    }
   },
   "outputs": [],
   "source": [
    "spark_spread.to_csv('spark_spread.csv')"
   ]
  },
  {
   "cell_type": "markdown",
   "metadata": {},
   "source": [
    "Собрать цены на уголь (среднее по углям??)\n",
    "\n",
    "- http://www.gks.ru/dbscripts/cbsd/"
   ]
  }
 ],
 "metadata": {
  "hide_input": false,
  "kernelspec": {
   "display_name": "Python 3",
   "language": "python",
   "name": "python3"
  },
  "language_info": {
   "codemirror_mode": {
    "name": "ipython",
    "version": 3
   },
   "file_extension": ".py",
   "mimetype": "text/x-python",
   "name": "python",
   "nbconvert_exporter": "python",
   "pygments_lexer": "ipython3",
   "version": "3.6.5"
  },
  "latex_envs": {
   "LaTeX_envs_menu_present": true,
   "autoclose": true,
   "autocomplete": true,
   "bibliofile": "biblio.bib",
   "cite_by": "apalike",
   "current_citInitial": 1,
   "eqLabelWithNumbers": true,
   "eqNumInitial": 1,
   "hotkeys": {
    "equation": "Ctrl-E",
    "itemize": "Ctrl-I"
   },
   "labels_anchors": false,
   "latex_user_defs": false,
   "report_style_numbering": false,
   "user_envs_cfg": false
  },
  "toc": {
   "base_numbering": 1,
   "nav_menu": {},
   "number_sections": true,
   "sideBar": true,
   "skip_h1_title": false,
   "title_cell": "Table of Contents",
   "title_sidebar": "Contents",
   "toc_cell": false,
   "toc_position": {
    "height": "782px",
    "left": "301px",
    "top": "304.7px",
    "width": "185px"
   },
   "toc_section_display": true,
   "toc_window_display": true
  },
  "varInspector": {
   "cols": {
    "lenName": 16,
    "lenType": 16,
    "lenVar": 40
   },
   "kernels_config": {
    "python": {
     "delete_cmd_postfix": "",
     "delete_cmd_prefix": "del ",
     "library": "var_list.py",
     "varRefreshCmd": "print(var_dic_list())"
    },
    "r": {
     "delete_cmd_postfix": ") ",
     "delete_cmd_prefix": "rm(",
     "library": "var_list.r",
     "varRefreshCmd": "cat(var_dic_list()) "
    }
   },
   "types_to_exclude": [
    "module",
    "function",
    "builtin_function_or_method",
    "instance",
    "_Feature"
   ],
   "window_display": false
  }
 },
 "nbformat": 4,
 "nbformat_minor": 2
}
