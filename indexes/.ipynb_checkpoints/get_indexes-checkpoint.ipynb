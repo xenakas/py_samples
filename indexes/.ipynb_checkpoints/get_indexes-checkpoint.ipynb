{
 "cells": [
  {
   "cell_type": "code",
   "execution_count": null,
   "metadata": {
    "ExecuteTime": {
     "end_time": "2019-09-02T04:02:06.878770Z",
     "start_time": "2019-09-02T04:02:06.587801Z"
    }
   },
   "outputs": [],
   "source": [
    "import pandas as pd\n",
    "import numpy as np"
   ]
  },
  {
   "cell_type": "markdown",
   "metadata": {},
   "source": [
    "## Аналитические показатели для рынка нефти и нефтепродуктов"
   ]
  },
  {
   "cell_type": "markdown",
   "metadata": {},
   "source": [
    "- [Нефтяная промышленность 2016](http://minresrus.ru/media/uploads/2018/01/EderLV_Mrr-6-2017.pdf)\n",
    "\n",
    "- [Нефтегазодобывающая и нефтеперерабатывающая промышленность: Тенденции и прогнозы](http://vid1.rian.ru/ig/ratings/oil_gas_demo.pdf)\n",
    "\n",
    "-  [ТЭК РОССИИ — 2016](http://ac.gov.ru/files/publication/a/13691.pdf)\n",
    "\n",
    "\n",
    "- [ГИС ТЭК](https://gis-tek.ru/web/guest/opendata)\n",
    "\n",
    "- [Открытые данные Министерства природных ресурсов и экологии Российской Федерации](http://www.mnr.gov.ru/opendata?ods=%D1%80%D0%B5%D0%B3%D0%B8%D0%BE%D0%BD#od_search)\n",
    "\n",
    "- [Статистика минэнерго](https://minenergo.gov.ru/opendata)\n",
    "\n",
    "-  [Статистика Роспироднадзор](http://rpn.gov.ru/opendata?term_node_tid_depth=All)"
   ]
  },
  {
   "cell_type": "markdown",
   "metadata": {},
   "source": [
    "### [Глубина переработки](https://ru.wikipedia.org/wiki/%D0%93%D0%BB%D1%83%D0%B1%D0%B8%D0%BD%D0%B0_%D0%BF%D0%B5%D1%80%D0%B5%D1%80%D0%B0%D0%B1%D0%BE%D1%82%D0%BA%D0%B8_%D0%BD%D0%B5%D1%84%D1%82%D0%B8)"
   ]
  },
  {
   "cell_type": "markdown",
   "metadata": {},
   "source": [
    "- [ПРОГНОЗ РАЗВИТИЯ ЭНЕРГЕТИКИ МИРА И РОССИИ 2019](https://energy.skolkovo.ru/downloads/documents/SEneC/Research/SKOLKOVO_EneC_Forecast_2019_Rus.pdf)\n",
    "- [Нефтяная отрасль: итоги 2017 года и краткосрочные перспективы](http://ac.gov.ru/files/publication/a/15796.pdf)\n",
    "- [Российская нефтепереработка: пути развития](http://www.oilreview.ru/index.php?032)\n",
    "- [К оценке эффективности работы нефтеперерабатывающих заводов](https://cyberleninka.ru/article/v/k-otsenke-effektivnosti-raboty-neftepererabatyvayuschih-zavodov)\n",
    "- [Нефть-2017: итоги,тенденции, прогнозы](http://www.ngv.ru/upload/iblock/939/93972e1f25fa9b33508ca6c348e8614b.pdf)\n",
    "\n"
   ]
  },
  {
   "cell_type": "code",
   "execution_count": null,
   "metadata": {
    "ExecuteTime": {
     "end_time": "2019-08-22T12:40:17.446952Z",
     "start_time": "2019-08-22T12:40:17.385401Z"
    }
   },
   "outputs": [],
   "source": [
    "data = pd.ExcelFile('/home/xenakas/Desktop/job_job/indexes/all_data/es_data/peocessing_plants.xlsx')\n",
    "data.sheet_names"
   ]
  },
  {
   "cell_type": "code",
   "execution_count": null,
   "metadata": {
    "ExecuteTime": {
     "end_time": "2019-08-22T12:40:18.483740Z",
     "start_time": "2019-08-22T12:40:18.471010Z"
    }
   },
   "outputs": [],
   "source": [
    "df1 = data.parse('Лист1') "
   ]
  },
  {
   "cell_type": "code",
   "execution_count": null,
   "metadata": {
    "ExecuteTime": {
     "end_time": "2019-09-11T07:59:59.605170Z",
     "start_time": "2019-09-11T07:59:59.602073Z"
    }
   },
   "outputs": [],
   "source": [
    "# df1[~df1.iloc[:,10].isna() & df1.iloc[:,26].isna()]"
   ]
  },
  {
   "cell_type": "code",
   "execution_count": null,
   "metadata": {
    "ExecuteTime": {
     "end_time": "2019-09-11T08:00:04.598057Z",
     "start_time": "2019-09-11T08:00:04.592369Z"
    }
   },
   "outputs": [],
   "source": [
    "# df1[~df1.iloc[:,10].isna()]"
   ]
  },
  {
   "cell_type": "code",
   "execution_count": null,
   "metadata": {
    "ExecuteTime": {
     "end_time": "2019-08-21T14:55:23.290726Z",
     "start_time": "2019-08-21T14:55:23.274355Z"
    }
   },
   "outputs": [],
   "source": [
    "iii = df1[~df1.iloc[:,10].isna() & df1.iloc[:,26].isna()].index\n",
    "iii"
   ]
  },
  {
   "cell_type": "code",
   "execution_count": null,
   "metadata": {
    "ExecuteTime": {
     "end_time": "2019-08-21T14:57:21.839665Z",
     "start_time": "2019-08-21T14:57:21.831880Z"
    }
   },
   "outputs": [],
   "source": [
    "df1.iloc[iii, 26] = ['Иркутская область', 'ЯНАО', 'Ленинградская область']"
   ]
  },
  {
   "cell_type": "code",
   "execution_count": null,
   "metadata": {
    "ExecuteTime": {
     "end_time": "2019-08-21T21:15:49.481424Z",
     "start_time": "2019-08-21T21:15:49.388341Z"
    }
   },
   "outputs": [],
   "source": [
    "glub = df1[~df1.iloc[:,10].isna()].groupby('Регион').agg(['mean', 'count']).iloc[:, 8:10]"
   ]
  },
  {
   "cell_type": "code",
   "execution_count": null,
   "metadata": {
    "ExecuteTime": {
     "end_time": "2019-08-21T21:17:54.316387Z",
     "start_time": "2019-08-21T21:17:54.288567Z"
    }
   },
   "outputs": [],
   "source": [
    "glub[glub.iloc[:,0] >= glub.iloc[:,0].quantile(0.80)]"
   ]
  },
  {
   "cell_type": "code",
   "execution_count": null,
   "metadata": {
    "ExecuteTime": {
     "end_time": "2019-08-21T21:18:01.514663Z",
     "start_time": "2019-08-21T21:18:01.486314Z"
    }
   },
   "outputs": [],
   "source": [
    "glub[glub.iloc[:,0] <= glub.iloc[:,0].quantile(0.20)]"
   ]
  },
  {
   "cell_type": "markdown",
   "metadata": {},
   "source": [
    "Список регионов с кодами:"
   ]
  },
  {
   "cell_type": "code",
   "execution_count": null,
   "metadata": {
    "ExecuteTime": {
     "end_time": "2019-08-22T13:28:53.380591Z",
     "start_time": "2019-08-22T13:28:52.788579Z"
    }
   },
   "outputs": [],
   "source": [
    "df_reg = pd.read_html('https://ruxpert.ru/%D0%A1%D1%83%D0%B1%D1%8A%D0%B5%D0%BA%D1%82%D1%8B_%D0%A0%D0%BE%D1%81%D1%81%D0%B8%D0%B9%D1%81%D0%BA%D0%BE%D0%B9_%D0%A4%D0%B5%D0%B4%D0%B5%D1%80%D0%B0%D1%86%D0%B8%D0%B8', header=0, encoding = 'utf-8')\n",
    "\n",
    "df_reg[1].to_csv('reg_list.csv')\n",
    "\n",
    "df_reg = pd.read_csv('reg_list.csv')\n",
    "\n",
    "df_codes = pd.read_html('https://www.buxprofi.ru/spravochnik/kody-regionov-ili-subektov-rf-dlja-nalogovoj', header=0) \n",
    "df_codes = df_codes[2]\n",
    "\n",
    "df_codes=df_codes.rename(columns = {'Наименование субъекта Российской Федерации':'Субъект федерации'})\n",
    "\n",
    "df_codes.columns.values[1] = \"Субъект федерации\" \n",
    "\n",
    "df_reg.columns, df_codes.columns\n",
    "\n",
    "df_codes.to_csv('codes_list.csv')\n",
    "\n",
    "df_codes = pd.read_csv('codes_list.csv', )\n",
    "\n",
    "df_codes = df_codes.iloc[:,1:]\n",
    "df_codes.iloc[:, 0] = df_codes.iloc[:, 0].astype(str)\n",
    "\n",
    "df_reg = pd.merge(df_reg, df_codes, on='Субъект федерации', how='outer' )\n",
    "\n",
    "df_reg.to_csv('reg_list.csv')"
   ]
  },
  {
   "cell_type": "code",
   "execution_count": null,
   "metadata": {
    "ExecuteTime": {
     "end_time": "2019-08-23T12:05:15.727635Z",
     "start_time": "2019-08-23T12:05:15.716805Z"
    }
   },
   "outputs": [],
   "source": [
    "df_reg = pd.read_csv('reg_list.csv', index_col=0)\n"
   ]
  },
  {
   "cell_type": "code",
   "execution_count": null,
   "metadata": {
    "ExecuteTime": {
     "end_time": "2019-08-23T12:08:00.670742Z",
     "start_time": "2019-08-23T12:08:00.664694Z"
    }
   },
   "outputs": [],
   "source": [
    "df_reg = df_reg.iloc[:,[0,-2,-1]]"
   ]
  },
  {
   "cell_type": "code",
   "execution_count": null,
   "metadata": {
    "ExecuteTime": {
     "end_time": "2019-08-23T12:08:20.351147Z",
     "start_time": "2019-08-23T12:08:20.347732Z"
    }
   },
   "outputs": [],
   "source": [
    "glub.to_csv('glub_tmp.csv')"
   ]
  },
  {
   "cell_type": "code",
   "execution_count": null,
   "metadata": {
    "ExecuteTime": {
     "end_time": "2019-08-23T12:18:17.770688Z",
     "start_time": "2019-08-23T12:18:17.758567Z"
    }
   },
   "outputs": [],
   "source": [
    "glub = pd.read_csv('glub_tmp.csv')"
   ]
  },
  {
   "cell_type": "code",
   "execution_count": null,
   "metadata": {
    "ExecuteTime": {
     "end_time": "2019-08-23T12:20:48.782474Z",
     "start_time": "2019-08-23T12:20:48.772998Z"
    }
   },
   "outputs": [],
   "source": [
    "glub_okr = pd.merge(glub, df_reg, on='Субъект федерации', how='left').groupby('Федеральный округ').agg({'Глубина переработки, %' : 'mean', 'Число НПЗ' : 'sum'}) "
   ]
  },
  {
   "cell_type": "code",
   "execution_count": null,
   "metadata": {
    "ExecuteTime": {
     "end_time": "2019-08-23T12:28:41.708044Z",
     "start_time": "2019-08-23T12:28:41.689942Z"
    }
   },
   "outputs": [],
   "source": [
    "glub_okr = glub_okr.sort_values('Глубина переработки, %')\n",
    "glub_okr"
   ]
  },
  {
   "cell_type": "code",
   "execution_count": null,
   "metadata": {
    "ExecuteTime": {
     "end_time": "2019-08-23T12:29:25.369188Z",
     "start_time": "2019-08-23T12:29:25.365685Z"
    }
   },
   "outputs": [],
   "source": [
    "glub.to_csv('glub_regions.csv')\n",
    "glub_okr.to_csv('glub_okr.csv')"
   ]
  },
  {
   "cell_type": "markdown",
   "metadata": {},
   "source": [
    "### Отношение между объемом запасов и объемом добычи."
   ]
  },
  {
   "cell_type": "markdown",
   "metadata": {},
   "source": [
    "- [ЗА 1970-2007: ДОБЫЧА НЕФТИ, ВКЛЮЧАЯ ГАЗОВЫЙ КОНДЕНСАТ, ПО СУБЪЕКТАМ РОССИЙСКОЙ ФЕДЕРАЦИИ](http://www.gks.ru/bgd/regl/b08_13/IssWWW.exe/Stg/d3/13-27.htm), [1970-2005](https://uisrussia.msu.ru/stat/Publications/Ejeg2006/Ejeg2006_13_/Ejeg2006_13_290.htm?lang=ru)\n",
    "- [О СОСТОЯНИИ И ИСПОЛЬЗОВАНИИ МИНЕРАЛЬНО-СЫРЬЕВЫХ РЕСУРСОВ РОССИЙСКОЙ ФЕДЕРАЦИИ В 2015 ГОДУ](http://www.mnr.gov.ru/upload/iblock/5ef/2015_msr.pdf)\n",
    "- [Use of Statistical Indicators to Measure Crude Oil and Natural Gas Reserves and Production ](http://www.upg-bulletin-se.ro/archive/2014-1/5.Lazar_Lazar.pdf)\n",
    "\n",
    "- [Нефть-2017: итоги,тенденции, прогнозы](http://www.ngv.ru/upload/iblock/939/93972e1f25fa9b33508ca6c348e8614b.pdf)\n",
    "\n",
    "- [Нефтегазовый комплекс России –2017. ](http://www.ipgg.sbras.ru/ru/files/orgunits/energyreport/petroleum-industry-russia-2017.pdf)\n",
    "\n",
    "- [Мировые  тенденции  геологоразведочных работ на нефть и газ](https://www.imemo.ru/files/File/ru/conf/2018/21122018/PREZ/01-17-Milovidov.pdf)\n",
    "\n",
    "Описание показателя:\n",
    "\n",
    "\n",
    "Запасы нефти:\n",
    "\n",
    "- [Дагестан](https://cyberleninka.ru/article/v/otsenka-eksportnogo-potentsiala-neftegazodobyvayuschey-otrasli-respubliki-dagestan)\n",
    "- [Калмыкия](https://cyberleninka.ru/article/v/razvitie-neftegazovogo-kompleksa-respubliki-kalmykiya-sostoyanie-i-perspektivy)\n",
    "- [Омская](http://mpr.omskportal.ru/ru/RegionalPublicAuthorities/executivelist/MPR/pravaya-kolonka/ecopasport/PageContent/0/body_files/file21/%D0%A0%D0%B0%D0%B7%D0%B4%D0%B5%D0%BB%207.%20%D0%9C%D0%98%D0%9D%D0%95%D0%A0%D0%90%D0%9B%D0%AC%D0%9D%D0%9E-%D0%A1%D0%AB%D0%A0%D0%AC%D0%95%D0%92%D0%AB%D0%95%20%D0%A0%D0%95%D0%A1%D0%A3%D0%A0%D0%A1%D0%AB.%20%D0%9C%D0%98%D0%9D%D0%95%D0%A0%D0%90%D0%9B%D0%AC%D0%9D%D0%9E-%D0%A1%D0%AB%D0%A0%D0%AC%D0%95%D0%92%D0%AB%D0%95%20%D0%A0%D0%95%D0%A1%D0%A3%D0%A0%D0%A1%D0%AB.%20%D0%9C%D0%98%D0%9D%D0%95%D0%A0%D0%90%D0%9B%D0%AC%D0%9D%D0%9E-%D0%A1%D0%AB%D0%A0%D0%AC%D0%95%D0%92%D0%AB%D0%95%20%D0%A0%D0%95%D0%A1%D0%A3%D0%A0%D0%A1%D0%AB.pdf)\n",
    "- Ингушетия  — экологический паспорт\n",
    "- [Крым](https://tass.ru/ekonomika/1094468)\n",
    "- [Грозненские месторождения Роснефть](https://ru.wikipedia.org/wiki/%D0%A1%D0%BF%D0%B8%D1%81%D0%BE%D0%BA_%D0%BD%D0%B5%D1%84%D1%82%D1%8F%D0%BD%D1%8B%D1%85_%D0%BC%D0%B5%D1%81%D1%82%D0%BE%D1%80%D0%BE%D0%B6%D0%B4%D0%B5%D0%BD%D0%B8%D0%B9_%D0%A0%D0%BE%D1%81%D1%81%D0%B8%D0%B8)\n",
    "- [Краснодар](http://geolike.ru/page/gl_3671.htm)\n",
    "    - Еще в 2014 г Министерство экономики Краснодарского края сообщало, что в регионе запасы сырья извлекли на 98,5%.\n",
    "- [Волгоградская область](http://www.vestnik.vsu.ru/pdf/geograph/2014/02/2014-02-06.pdf)\n",
    "- [Калининградская область](https://gov39.ru/region/natural.php)\n",
    "- [Кировская область](https://nature.kirovreg.ru/ecology/nedropolzovanie/mineralno-syrevaya-baza-kirovskoy-oblasti/)\n",
    "- [Новосибирская](https://ksonline.ru/238048/neftyanaya-promyshlennost-v-novosibirskoj-oblasti-prodolzhaet-razvivatsya/)\n",
    "- [Пензенская](https://catalogmineralov.ru/deposit/penzenskaya_oblast/)\n",
    "- [Cахалинская](https://cyberleninka.ru/article/v/neftegazovye-proekty-sahalinskoy-oblasti)\n",
    "\n",
    "\n"
   ]
  },
  {
   "cell_type": "code",
   "execution_count": null,
   "metadata": {
    "ExecuteTime": {
     "end_time": "2019-09-02T08:37:21.872686Z",
     "start_time": "2019-09-02T08:37:21.795328Z"
    }
   },
   "outputs": [],
   "source": [
    "data_check = pd.ExcelFile('/home/xenakas/Desktop/job_job/indexes/fns_data/FILE1_01.01.2014_465_465.xls')"
   ]
  },
  {
   "cell_type": "code",
   "execution_count": null,
   "metadata": {
    "ExecuteTime": {
     "end_time": "2019-08-23T13:01:32.389424Z",
     "start_time": "2019-08-23T13:01:32.384244Z"
    }
   },
   "outputs": [],
   "source": [
    "fns_list = pd.read_csv('fns_list.csv', header=None)"
   ]
  },
  {
   "cell_type": "code",
   "execution_count": null,
   "metadata": {
    "ExecuteTime": {
     "end_time": "2019-08-23T13:21:35.168817Z",
     "start_time": "2019-08-23T13:21:30.249720Z"
    }
   },
   "outputs": [],
   "source": [
    "fns_reg = fns_date = np.array([])\n",
    "\n",
    "for i in fns_list.iloc[:,0]:\n",
    "    data = pd.ExcelFile('/home/xenakas/Desktop/job_job/indexes/fns_data/'+ i)\n",
    "    df1 = data.parse('ТИТУЛ') \n",
    "    fns_reg = np.append(fns_reg, df1.iloc[18,4])\n",
    "    fns_date = np.append(fns_date, df1.iloc[14,1]) "
   ]
  },
  {
   "cell_type": "code",
   "execution_count": null,
   "metadata": {
    "ExecuteTime": {
     "end_time": "2019-08-23T13:22:54.000032Z",
     "start_time": "2019-08-23T13:22:53.991890Z"
    }
   },
   "outputs": [],
   "source": [
    "fns_dataframe = pd.DataFrame(data=np.column_stack((fns_date, fns_reg)),columns=['Дата','Субъект федерации'])"
   ]
  },
  {
   "cell_type": "code",
   "execution_count": null,
   "metadata": {
    "ExecuteTime": {
     "end_time": "2019-08-26T10:42:00.435241Z",
     "start_time": "2019-08-26T10:42:00.406563Z"
    }
   },
   "outputs": [],
   "source": [
    "fns_dataframe.iloc[:,0] = pd.to_datetime([i.replace('ПО СОСТОЯНИЮ НА ', '') for i in fns_dataframe.iloc[:,0] ] )"
   ]
  },
  {
   "cell_type": "code",
   "execution_count": null,
   "metadata": {
    "ExecuteTime": {
     "end_time": "2019-09-11T08:00:20.943682Z",
     "start_time": "2019-09-11T08:00:20.938007Z"
    }
   },
   "outputs": [],
   "source": [
    "# fns_dataframe"
   ]
  },
  {
   "cell_type": "code",
   "execution_count": null,
   "metadata": {
    "ExecuteTime": {
     "end_time": "2019-08-23T13:50:22.994079Z",
     "start_time": "2019-08-23T13:50:17.452160Z"
    }
   },
   "outputs": [],
   "source": [
    "df_obj = pd.DataFrame(columns=['Показатель', 'del' , 'Значение', 'К пред. году'])\n",
    "for i in fns_list.iloc[:,0]:\n",
    "    data = pd.ExcelFile('/home/xenakas/Desktop/job_job/indexes/fns_data/'+ i)\n",
    "    df2 = data.parse('Раздел2') \n",
    "    df2.iloc[:,0] = df2.iloc[:,0].astype(str)\n",
    "    df_objj = df2[df2.iloc[:,0].str.contains('Объем добычи нефти')]\n",
    "    df_objj.columns = ['Показатель', 'del' , 'Значение', 'К пред. году']\n",
    "    df_obj = df_obj.append(df_objj, sort = False)"
   ]
  },
  {
   "cell_type": "code",
   "execution_count": null,
   "metadata": {
    "ExecuteTime": {
     "end_time": "2019-08-23T14:13:12.946060Z",
     "start_time": "2019-08-23T14:13:12.928984Z"
    }
   },
   "outputs": [],
   "source": [
    "df_obj = df_obj.loc[:, ~df_obj.columns.str.startswith('del')]"
   ]
  },
  {
   "cell_type": "code",
   "execution_count": null,
   "metadata": {
    "ExecuteTime": {
     "end_time": "2019-08-26T10:46:55.285475Z",
     "start_time": "2019-08-26T10:46:55.275959Z"
    }
   },
   "outputs": [],
   "source": [
    "df_obj.to_csv('df_obj.csv')\n",
    "df_obj = pd.read_csv('df_obj.csv')\n",
    "\n",
    "all_data = pd.concat([fns_dataframe, df_obj], axis=1)\n",
    "all_data.to_csv('all_data.csv')"
   ]
  },
  {
   "cell_type": "code",
   "execution_count": null,
   "metadata": {
    "ExecuteTime": {
     "end_time": "2019-08-26T12:15:09.137934Z",
     "start_time": "2019-08-26T12:15:09.133708Z"
    }
   },
   "outputs": [],
   "source": [
    "all_data[all_data.iloc[:,0] == '2018-01-01'].to_csv('all_data_2017.csv')"
   ]
  },
  {
   "cell_type": "code",
   "execution_count": null,
   "metadata": {
    "ExecuteTime": {
     "end_time": "2019-08-28T15:00:32.143147Z",
     "start_time": "2019-08-28T15:00:32.139138Z"
    }
   },
   "outputs": [],
   "source": [
    "all_data_2017 = pd.read_csv('all_data_2017.csv')\n"
   ]
  },
  {
   "cell_type": "code",
   "execution_count": null,
   "metadata": {
    "ExecuteTime": {
     "end_time": "2019-09-11T08:00:28.596334Z",
     "start_time": "2019-09-11T08:00:28.592272Z"
    }
   },
   "outputs": [],
   "source": [
    "# all_data_2017[(all_data_2017.iloc[:, 2]!=0) & (all_data_2017.iloc[:,5]==0) ]"
   ]
  },
  {
   "cell_type": "code",
   "execution_count": null,
   "metadata": {
    "ExecuteTime": {
     "end_time": "2019-08-28T15:00:34.536996Z",
     "start_time": "2019-08-28T15:00:34.533834Z"
    }
   },
   "outputs": [],
   "source": [
    "df_zapasi_neft = all_data_2017[(all_data_2017.iloc[:,5]!=0) | (all_data_2017.iloc[:,6]!=0) ]"
   ]
  },
  {
   "cell_type": "code",
   "execution_count": null,
   "metadata": {
    "ExecuteTime": {
     "end_time": "2019-08-28T15:00:59.028865Z",
     "start_time": "2019-08-28T15:00:58.944983Z"
    }
   },
   "outputs": [],
   "source": [
    "df_zapasi_neft['Кратность запасов газа добыче'] = df_zapasi_neft.iloc[:,6] * 1000000/df_zapasi_neft.iloc[:,3]\n",
    "df_zapasi_neft['Кратность запасов нефти добыче'] = df_zapasi_neft.iloc[:,5] * 1000000/df_zapasi_neft.iloc[:,2]\n"
   ]
  },
  {
   "cell_type": "code",
   "execution_count": null,
   "metadata": {
    "ExecuteTime": {
     "end_time": "2019-08-28T15:01:31.062818Z",
     "start_time": "2019-08-28T15:01:30.966929Z"
    }
   },
   "outputs": [],
   "source": [
    "df_zapasi_neft.iloc[:,-1] = [round(i,2) for i in df_zapasi_neft.iloc[:,-1] ]\n",
    "df_zapasi_neft.iloc[:,-2] = [round(i,2) for i in df_zapasi_neft.iloc[:,-2] ]"
   ]
  },
  {
   "cell_type": "code",
   "execution_count": null,
   "metadata": {
    "ExecuteTime": {
     "end_time": "2019-08-28T15:01:36.393760Z",
     "start_time": "2019-08-28T15:01:36.389648Z"
    }
   },
   "outputs": [],
   "source": [
    "df_zapasi_neft.to_csv('df_zapasi_neft.csv')"
   ]
  },
  {
   "cell_type": "code",
   "execution_count": null,
   "metadata": {
    "ExecuteTime": {
     "end_time": "2019-08-26T14:37:40.264593Z",
     "start_time": "2019-08-26T14:37:40.258067Z"
    }
   },
   "outputs": [],
   "source": [
    "\n",
    "# df_zapasi_gaza.to_csv('df_zapasi_gaza.csv')\n",
    "\n",
    "# df_zapasi_gaza[df_zapasi_gaza.iloc[:,-1] <= 100]"
   ]
  },
  {
   "cell_type": "code",
   "execution_count": null,
   "metadata": {
    "ExecuteTime": {
     "end_time": "2019-09-11T08:00:48.807487Z",
     "start_time": "2019-09-11T08:00:48.804202Z"
    }
   },
   "outputs": [],
   "source": [
    "# all_data_2017.iloc[:,[0,1,-2,-1]] "
   ]
  },
  {
   "cell_type": "code",
   "execution_count": null,
   "metadata": {
    "ExecuteTime": {
     "end_time": "2019-08-27T13:30:38.410344Z",
     "start_time": "2019-08-27T13:30:38.394152Z"
    }
   },
   "outputs": [],
   "source": [
    "all_data = pd.merge(all_data, all_data_2017.iloc[:,[0,1,-2,-1]] , on=['Дата', 'Субъект федерации'], how='outer')    "
   ]
  },
  {
   "cell_type": "code",
   "execution_count": null,
   "metadata": {
    "ExecuteTime": {
     "end_time": "2019-08-27T13:32:05.321228Z",
     "start_time": "2019-08-27T13:32:05.313502Z"
    }
   },
   "outputs": [],
   "source": [
    "all_data = all_data.replace('X', np.nan)"
   ]
  },
  {
   "cell_type": "code",
   "execution_count": null,
   "metadata": {
    "ExecuteTime": {
     "end_time": "2019-08-27T13:36:09.828266Z",
     "start_time": "2019-08-27T13:36:09.819038Z"
    }
   },
   "outputs": [],
   "source": [
    "all_data.to_csv('all_data_tmp.csv')"
   ]
  },
  {
   "cell_type": "code",
   "execution_count": null,
   "metadata": {
    "ExecuteTime": {
     "end_time": "2019-08-27T13:34:59.985119Z",
     "start_time": "2019-08-27T13:34:59.973948Z"
    }
   },
   "outputs": [],
   "source": [
    "all_data[all_data['Дата']=='2014-01-01'].shape"
   ]
  },
  {
   "cell_type": "code",
   "execution_count": null,
   "metadata": {
    "ExecuteTime": {
     "end_time": "2019-08-27T13:34:52.678514Z",
     "start_time": "2019-08-27T13:34:52.674607Z"
    }
   },
   "outputs": [],
   "source": [
    "all_data[all_data['Дата']=='2015-01-01'].shape"
   ]
  },
  {
   "cell_type": "code",
   "execution_count": null,
   "metadata": {
    "ExecuteTime": {
     "end_time": "2019-08-27T13:34:44.055955Z",
     "start_time": "2019-08-27T13:34:44.044843Z"
    },
    "scrolled": true
   },
   "outputs": [],
   "source": [
    "all_data[all_data['Дата']=='2016-01-01'].shape"
   ]
  },
  {
   "cell_type": "code",
   "execution_count": null,
   "metadata": {
    "ExecuteTime": {
     "end_time": "2019-08-27T13:34:32.026399Z",
     "start_time": "2019-08-27T13:34:32.014883Z"
    }
   },
   "outputs": [],
   "source": [
    "all_data[all_data['Дата']=='2017-01-01'].shape"
   ]
  },
  {
   "cell_type": "code",
   "execution_count": null,
   "metadata": {
    "ExecuteTime": {
     "end_time": "2019-08-27T13:34:20.074381Z",
     "start_time": "2019-08-27T13:34:20.069979Z"
    }
   },
   "outputs": [],
   "source": [
    "all_data[all_data['Дата']=='2018-01-01'].shape"
   ]
  },
  {
   "cell_type": "code",
   "execution_count": null,
   "metadata": {
    "ExecuteTime": {
     "end_time": "2019-08-27T13:39:16.118337Z",
     "start_time": "2019-08-27T13:39:16.114373Z"
    }
   },
   "outputs": [],
   "source": [
    "all_data = pd.read_csv('all_data_tmp.csv')"
   ]
  },
  {
   "cell_type": "code",
   "execution_count": null,
   "metadata": {
    "ExecuteTime": {
     "end_time": "2019-08-27T13:43:29.783103Z",
     "start_time": "2019-08-27T13:43:29.775583Z"
    }
   },
   "outputs": [],
   "source": [
    "all_data_2014 = all_data[all_data['Дата']=='2015-01-01']"
   ]
  },
  {
   "cell_type": "code",
   "execution_count": null,
   "metadata": {
    "ExecuteTime": {
     "end_time": "2019-08-27T13:43:30.146822Z",
     "start_time": "2019-08-27T13:43:30.117211Z"
    }
   },
   "outputs": [],
   "source": [
    "all_data_2014.iloc[:,0] = '2014-01-01'"
   ]
  },
  {
   "cell_type": "code",
   "execution_count": null,
   "metadata": {
    "ExecuteTime": {
     "end_time": "2019-08-27T13:43:30.931926Z",
     "start_time": "2019-08-27T13:43:30.895768Z"
    }
   },
   "outputs": [],
   "source": [
    "all_data_2014.iloc[:,2] = all_data_2014.iloc[:,2]/all_data_2014.iloc[:,3]*100 "
   ]
  },
  {
   "cell_type": "code",
   "execution_count": null,
   "metadata": {
    "ExecuteTime": {
     "end_time": "2019-08-27T13:44:42.705978Z",
     "start_time": "2019-08-27T13:44:42.647191Z"
    }
   },
   "outputs": [],
   "source": [
    "all_data_2014.iloc[:,4] = all_data_2014.iloc[:,4]/all_data_2014.iloc[:,5]*100\n",
    "all_data_2014.iloc[:,6] = all_data_2014.iloc[:,6]/all_data_2014.iloc[:,7]*100"
   ]
  },
  {
   "cell_type": "code",
   "execution_count": null,
   "metadata": {
    "ExecuteTime": {
     "end_time": "2019-08-27T13:45:34.887770Z",
     "start_time": "2019-08-27T13:45:34.801435Z"
    }
   },
   "outputs": [],
   "source": [
    "all_data_2014.iloc[:,3] = all_data_2014.iloc[:,5] = all_data_2014.iloc[:,7] = np.nan"
   ]
  },
  {
   "cell_type": "markdown",
   "metadata": {},
   "source": [
    "### Цены на нефть и нефтепродукты"
   ]
  },
  {
   "cell_type": "markdown",
   "metadata": {},
   "source": [
    "- [Паспорт набора данных \"Интерактивная карта цен на нефтепродукты в России\"](http://fas.gov.ru/opendata/7703516539-petrolpricesmap)\n",
    "    - [табло](https://public.tableau.com/profile/fasanalytics#!/vizhome/_1206/sheet0)\n",
    "\n",
    "- [ЦБСД](http://www.gks.ru/dbscripts/cbsd/DBInet.cgi)\n"
   ]
  },
  {
   "cell_type": "code",
   "execution_count": null,
   "metadata": {
    "ExecuteTime": {
     "end_time": "2019-08-28T11:18:22.399884Z",
     "start_time": "2019-08-28T11:18:22.213762Z"
    }
   },
   "outputs": [],
   "source": [
    "prices_df = pd.read_csv('prices_oil_data/petrolmap_2013.csv', header=0)"
   ]
  },
  {
   "cell_type": "code",
   "execution_count": null,
   "metadata": {
    "ExecuteTime": {
     "end_time": "2019-08-28T11:21:50.229294Z",
     "start_time": "2019-08-28T11:21:50.202771Z"
    }
   },
   "outputs": [],
   "source": [
    "prices_df['date'] = pd.to_datetime(prices_df['date'], format='%Y-%m-%d')"
   ]
  },
  {
   "cell_type": "code",
   "execution_count": null,
   "metadata": {
    "ExecuteTime": {
     "end_time": "2019-08-28T11:19:07.973554Z",
     "start_time": "2019-08-28T11:19:07.971303Z"
    }
   },
   "outputs": [],
   "source": [
    "pr_col = prices_df.columns"
   ]
  },
  {
   "cell_type": "code",
   "execution_count": null,
   "metadata": {
    "ExecuteTime": {
     "end_time": "2019-08-28T11:19:21.716553Z",
     "start_time": "2019-08-28T11:19:21.711186Z"
    }
   },
   "outputs": [],
   "source": [
    "pr_col"
   ]
  },
  {
   "cell_type": "code",
   "execution_count": null,
   "metadata": {
    "ExecuteTime": {
     "end_time": "2019-08-28T11:24:03.927854Z",
     "start_time": "2019-08-28T11:24:03.857769Z"
    }
   },
   "outputs": [],
   "source": [
    "prices = pd.read_csv('prices_oil_data/petrolmap_2016.csv', header=None)"
   ]
  },
  {
   "cell_type": "code",
   "execution_count": null,
   "metadata": {
    "ExecuteTime": {
     "end_time": "2019-08-28T11:25:23.188579Z",
     "start_time": "2019-08-28T11:25:23.171609Z"
    }
   },
   "outputs": [],
   "source": [
    "prices.columns = pr_col\n",
    "prices['date'] = pd.to_datetime(prices['date'], format='%Y-%m-%d')"
   ]
  },
  {
   "cell_type": "code",
   "execution_count": null,
   "metadata": {
    "ExecuteTime": {
     "end_time": "2019-08-28T11:26:36.863010Z",
     "start_time": "2019-08-28T11:26:36.854000Z"
    }
   },
   "outputs": [],
   "source": [
    "prices_df = prices_df.append(prices)"
   ]
  },
  {
   "cell_type": "code",
   "execution_count": null,
   "metadata": {
    "ExecuteTime": {
     "end_time": "2019-08-28T11:30:10.348391Z",
     "start_time": "2019-08-28T11:30:10.345812Z"
    }
   },
   "outputs": [],
   "source": [
    "prices_df.shape"
   ]
  },
  {
   "cell_type": "code",
   "execution_count": null,
   "metadata": {
    "ExecuteTime": {
     "end_time": "2019-08-28T11:30:45.346799Z",
     "start_time": "2019-08-28T11:30:45.266102Z"
    }
   },
   "outputs": [],
   "source": [
    "prices = pd.read_csv('prices_oil_data/petrolmap_2018.csv', header=0)\n",
    "prices.columns = pr_col\n",
    "# prices\n",
    "prices['date'] = pd.to_datetime(prices['date'], format='%Y-%m-%d')\n",
    "prices_df = prices_df.append(prices)\n",
    "prices_df.shape"
   ]
  },
  {
   "cell_type": "code",
   "execution_count": null,
   "metadata": {
    "ExecuteTime": {
     "end_time": "2019-08-28T11:31:55.146212Z",
     "start_time": "2019-08-28T11:31:55.121847Z"
    }
   },
   "outputs": [],
   "source": [
    "prices = pd.read_csv('prices_oil_data/petrolmap_2019.csv', header=0)\n",
    "prices.columns = pr_col\n",
    "prices['date'] = pd.to_datetime(prices['date'], format='%d.%m.%Y')"
   ]
  },
  {
   "cell_type": "code",
   "execution_count": null,
   "metadata": {
    "ExecuteTime": {
     "end_time": "2019-08-28T11:32:13.310804Z",
     "start_time": "2019-08-28T11:32:13.274203Z"
    }
   },
   "outputs": [],
   "source": [
    "prices_df = prices_df.append(prices)\n",
    "prices_df.shape"
   ]
  },
  {
   "cell_type": "code",
   "execution_count": null,
   "metadata": {
    "ExecuteTime": {
     "end_time": "2019-08-28T11:34:21.125641Z",
     "start_time": "2019-08-28T11:34:21.099148Z"
    }
   },
   "outputs": [],
   "source": [
    "prices_df = prices_df.sort_values('date')"
   ]
  },
  {
   "cell_type": "code",
   "execution_count": null,
   "metadata": {
    "ExecuteTime": {
     "end_time": "2019-08-28T11:46:17.753111Z",
     "start_time": "2019-08-28T11:46:17.691323Z"
    }
   },
   "outputs": [],
   "source": [
    "prices_df['avretprice'] = [str(i).replace(',','.') for i in prices_df['avretprice']]"
   ]
  },
  {
   "cell_type": "code",
   "execution_count": null,
   "metadata": {
    "ExecuteTime": {
     "end_time": "2019-08-28T11:46:27.868173Z",
     "start_time": "2019-08-28T11:46:27.814140Z"
    }
   },
   "outputs": [],
   "source": [
    "prices_df['avretprice'] = pd.to_numeric(prices_df['avretprice'])"
   ]
  },
  {
   "cell_type": "code",
   "execution_count": null,
   "metadata": {
    "ExecuteTime": {
     "end_time": "2019-08-28T11:49:05.131908Z",
     "start_time": "2019-08-28T11:49:04.927176Z"
    }
   },
   "outputs": [],
   "source": [
    "prices_df_pivot.to_csv('prices_df_pivot.csv')"
   ]
  },
  {
   "cell_type": "code",
   "execution_count": null,
   "metadata": {
    "ExecuteTime": {
     "end_time": "2019-08-28T11:51:39.787398Z",
     "start_time": "2019-08-28T11:51:39.640688Z"
    }
   },
   "outputs": [],
   "source": [
    "prices_df_pivot = pd.pivot_table(prices_df, values='avretprice', index = 'date', \n",
    "               columns=['fuel', 'vink',  'region' ]\n",
    "            )"
   ]
  },
  {
   "cell_type": "code",
   "execution_count": null,
   "metadata": {
    "ExecuteTime": {
     "end_time": "2019-08-28T11:52:04.371386Z",
     "start_time": "2019-08-28T11:52:04.170022Z"
    }
   },
   "outputs": [],
   "source": [
    "prices_df_pivot.to_csv('prices_df_pivot_by_fuel.csv')"
   ]
  },
  {
   "cell_type": "code",
   "execution_count": null,
   "metadata": {
    "ExecuteTime": {
     "end_time": "2019-08-28T12:05:46.185507Z",
     "start_time": "2019-08-28T12:05:46.179402Z"
    }
   },
   "outputs": [],
   "source": [
    "prices_df_pivot.columns.get_level_values(0).unique()"
   ]
  },
  {
   "cell_type": "code",
   "execution_count": null,
   "metadata": {
    "ExecuteTime": {
     "end_time": "2019-08-28T12:05:46.610525Z",
     "start_time": "2019-08-28T12:05:46.606974Z"
    }
   },
   "outputs": [],
   "source": [
    "prices_df_pivot.columns.get_level_values(1).unique()"
   ]
  },
  {
   "cell_type": "code",
   "execution_count": null,
   "metadata": {
    "ExecuteTime": {
     "end_time": "2019-09-11T08:01:15.035701Z",
     "start_time": "2019-09-11T08:01:15.032025Z"
    }
   },
   "outputs": [],
   "source": [
    "# prices_df_pivot.unstack().groupby(['fuel', 'vink']).count()"
   ]
  },
  {
   "cell_type": "code",
   "execution_count": null,
   "metadata": {
    "ExecuteTime": {
     "end_time": "2019-08-28T12:13:29.033593Z",
     "start_time": "2019-08-28T12:13:28.730240Z"
    }
   },
   "outputs": [],
   "source": [
    "prices_df_pivot['Бензин А-76, АИ-80']['Независимый'].plot(legend=False);"
   ]
  },
  {
   "cell_type": "code",
   "execution_count": null,
   "metadata": {
    "ExecuteTime": {
     "end_time": "2019-08-28T12:14:36.875892Z",
     "start_time": "2019-08-28T12:14:36.709942Z"
    }
   },
   "outputs": [],
   "source": [
    "prices_df_pivot['Бензин А-76, АИ-80'][\"ОАО 'НК 'Роснефть'\"].plot(legend=False);"
   ]
  },
  {
   "cell_type": "code",
   "execution_count": null,
   "metadata": {
    "ExecuteTime": {
     "end_time": "2019-08-28T12:48:49.928819Z",
     "start_time": "2019-08-28T12:48:49.922486Z"
    }
   },
   "outputs": [],
   "source": [
    "prices_neft_df = pd.read_csv('prices_oil_data/raw_neft_po_2010.csv', header=1)"
   ]
  },
  {
   "cell_type": "code",
   "execution_count": null,
   "metadata": {
    "ExecuteTime": {
     "end_time": "2019-09-11T08:01:22.096342Z",
     "start_time": "2019-09-11T08:01:22.092354Z"
    }
   },
   "outputs": [],
   "source": [
    "# prices_neft_df"
   ]
  },
  {
   "cell_type": "code",
   "execution_count": null,
   "metadata": {
    "ExecuteTime": {
     "end_time": "2019-08-28T12:49:08.376080Z",
     "start_time": "2019-08-28T12:49:08.371159Z"
    }
   },
   "outputs": [],
   "source": [
    "months = []\n",
    "for i in range(1,13):\n",
    "    for j in range(9):\n",
    "        months.append(str(i))"
   ]
  },
  {
   "cell_type": "code",
   "execution_count": null,
   "metadata": {
    "ExecuteTime": {
     "end_time": "2019-08-28T12:49:09.564112Z",
     "start_time": "2019-08-28T12:49:09.559638Z"
    }
   },
   "outputs": [],
   "source": [
    "prices_neft_df.shape"
   ]
  },
  {
   "cell_type": "code",
   "execution_count": null,
   "metadata": {
    "ExecuteTime": {
     "end_time": "2019-08-28T12:49:10.011801Z",
     "start_time": "2019-08-28T12:49:10.009493Z"
    }
   },
   "outputs": [],
   "source": [
    "len(months)"
   ]
  },
  {
   "cell_type": "code",
   "execution_count": null,
   "metadata": {
    "ExecuteTime": {
     "end_time": "2019-08-28T12:49:12.242316Z",
     "start_time": "2019-08-28T12:49:12.231201Z"
    }
   },
   "outputs": [],
   "source": [
    "prices_neft_df['month']=months"
   ]
  },
  {
   "cell_type": "code",
   "execution_count": null,
   "metadata": {
    "ExecuteTime": {
     "end_time": "2019-08-28T12:49:12.971081Z",
     "start_time": "2019-08-28T12:49:12.960642Z"
    }
   },
   "outputs": [],
   "source": [
    "prices_neft_df.iloc[::9,:].index"
   ]
  },
  {
   "cell_type": "code",
   "execution_count": null,
   "metadata": {
    "ExecuteTime": {
     "end_time": "2019-08-28T12:49:14.462576Z",
     "start_time": "2019-08-28T12:49:14.459230Z"
    }
   },
   "outputs": [],
   "source": [
    "prices_neft_df = prices_neft_df.drop(prices_neft_df.iloc[::9,:].index, axis =0)"
   ]
  },
  {
   "cell_type": "code",
   "execution_count": null,
   "metadata": {
    "ExecuteTime": {
     "end_time": "2019-09-11T08:01:27.765103Z",
     "start_time": "2019-09-11T08:01:27.760322Z"
    }
   },
   "outputs": [],
   "source": [
    "# prices_neft_df"
   ]
  },
  {
   "cell_type": "code",
   "execution_count": null,
   "metadata": {
    "ExecuteTime": {
     "end_time": "2019-08-28T12:49:21.952112Z",
     "start_time": "2019-08-28T12:49:21.947214Z"
    }
   },
   "outputs": [],
   "source": [
    "prices_neft_pivot =  prices_neft_df.set_index(['Unnamed: 0', 'month' ]).unstack().transpose()"
   ]
  },
  {
   "cell_type": "code",
   "execution_count": null,
   "metadata": {
    "ExecuteTime": {
     "end_time": "2019-09-11T08:01:31.147390Z",
     "start_time": "2019-09-11T08:01:31.144140Z"
    }
   },
   "outputs": [],
   "source": [
    "# prices_neft_pivot"
   ]
  },
  {
   "cell_type": "code",
   "execution_count": null,
   "metadata": {
    "ExecuteTime": {
     "end_time": "2019-08-28T12:49:37.425309Z",
     "start_time": "2019-08-28T12:49:37.422100Z"
    }
   },
   "outputs": [],
   "source": [
    "prices_neft_pivot.index.get_level_values(1)"
   ]
  },
  {
   "cell_type": "code",
   "execution_count": null,
   "metadata": {
    "ExecuteTime": {
     "end_time": "2019-08-28T12:49:38.780499Z",
     "start_time": "2019-08-28T12:49:38.777729Z"
    }
   },
   "outputs": [],
   "source": [
    "dates = prices_neft_pivot.index.get_level_values(0) + '-' + prices_neft_pivot.index.get_level_values(1)"
   ]
  },
  {
   "cell_type": "code",
   "execution_count": null,
   "metadata": {
    "ExecuteTime": {
     "end_time": "2019-08-28T12:49:39.254297Z",
     "start_time": "2019-08-28T12:49:39.252215Z"
    }
   },
   "outputs": [],
   "source": [
    "dates = pd.to_datetime(dates, format='%Y-%m')"
   ]
  },
  {
   "cell_type": "code",
   "execution_count": null,
   "metadata": {
    "ExecuteTime": {
     "end_time": "2019-08-28T12:49:40.871303Z",
     "start_time": "2019-08-28T12:49:40.864428Z"
    }
   },
   "outputs": [],
   "source": [
    "prices_neft_pivot = prices_neft_pivot.set_index(dates).sort_index()"
   ]
  },
  {
   "cell_type": "code",
   "execution_count": null,
   "metadata": {
    "ExecuteTime": {
     "end_time": "2019-08-28T12:50:31.788527Z",
     "start_time": "2019-08-28T12:50:31.784045Z"
    }
   },
   "outputs": [],
   "source": [
    "prices_neft_pivot.to_csv('raw_neft_2010.csv')"
   ]
  },
  {
   "cell_type": "code",
   "execution_count": null,
   "metadata": {
    "ExecuteTime": {
     "end_time": "2019-09-11T08:01:35.218003Z",
     "start_time": "2019-09-11T08:01:35.214890Z"
    }
   },
   "outputs": [],
   "source": [
    "# prices_neft_pivot"
   ]
  },
  {
   "cell_type": "markdown",
   "metadata": {},
   "source": [
    "### Крэк-спред\n",
    "\n",
    "- [СПРЕДЫ ПЕРЕРАБОТКИ: Крек-спред](http://www.fondovik.com/bazovie-znaniya/stati-finansovie-instrumenti/fyuchersnie-spredi/krek-spred/)\n",
    "- [EIA: ПРИБЫЛИ НПЗ НЕДОСТАТОЧНО ДЛЯ КОМПЕНСАЦИИ НИЗКИХ ДОХОДОВ MAJORS](http://www.ngv.ru/analytics/eia_pribyli_npz_nedostatochno_dlya_kompensatsii_nizkikh_dokhodov_majors/)\n",
    "- [EIA: crack-spread definition](https://www.eia.gov/todayinenergy/includes/crackspread_explain.php )\n",
    "- [Crack Spread 101](https://marketrealist.com/2013/07/crack-spread-101-part-1-whats-a-crack-spread/)\n",
    "\n",
    "Цены на мазут:\n",
    "\n",
    "- [ТОПЛИВНЫЙ  РЫНОК  РОССИИ](http://web.archive.org/web/20110725123304/http://minenergo.gov.ru/upload/iblock/333/33363d868cf93701591957ccd67583b1.pdf)\n",
    "- [КОРТЕС](http://www.kortes.com/products/price/)\n",
    "    - [РЕГИОНАЛЬНЫЕ ОПТОВЫЕ ЦЕНЫ НА ОСНОВНЫЕ НЕФТЕПРОДУКТЫ ](http://www.kortes.com/products/pdf/reg.pdf)\n",
    "- [ЦБСД Индексы по нефтепереработке](http://www.gks.ru/free_doc/new_site/prices/bd/bd_9420059.htm)\n",
    "\n",
    "Цены на нефть:\n",
    "\n",
    "- [Индексы цен нефтепродуктов](http://spimex.com/documents/indexes/)\n",
    "    - [Методика расчета региональных биржевых индексов цен сырой нефти](http://spimex.com/upload/iblock/9b0/9b06acc0ae4d4f48eaedaa5473554cf0.pdf)\n",
    "- [Коэффициенты перевода литров в тонны:](http://bogatoe.samregion.ru/external/omsu_bogatoe/files/c_683/Perevod_benzina_v_tonny.pdf)"
   ]
  },
  {
   "cell_type": "code",
   "execution_count": null,
   "metadata": {
    "ExecuteTime": {
     "end_time": "2019-08-28T15:09:35.737114Z",
     "start_time": "2019-08-28T15:09:35.724062Z"
    }
   },
   "outputs": [],
   "source": [
    "mazut_tmp_1 = pd.read_csv('mazut_tmp_1.csv')\n",
    "mazut_tmp_1.to_csv('mazz_1.csv')"
   ]
  },
  {
   "cell_type": "code",
   "execution_count": null,
   "metadata": {
    "ExecuteTime": {
     "end_time": "2019-08-28T15:16:01.267427Z",
     "start_time": "2019-08-28T15:16:01.250898Z"
    }
   },
   "outputs": [],
   "source": [
    "mazut_tmp_2 = pd.read_csv('mazut_tmp_2.csv')\n",
    "mazut_tmp_2.to_csv('mazz_2.csv')"
   ]
  },
  {
   "cell_type": "code",
   "execution_count": null,
   "metadata": {
    "ExecuteTime": {
     "end_time": "2019-08-28T22:21:47.916411Z",
     "start_time": "2019-08-28T22:21:47.907590Z"
    }
   },
   "outputs": [],
   "source": [
    "mazut_2_2013 = pd.read_csv('prices_mazut/prices_mazut_02_2013.csv')"
   ]
  },
  {
   "cell_type": "code",
   "execution_count": null,
   "metadata": {
    "ExecuteTime": {
     "end_time": "2019-08-28T22:22:29.387144Z",
     "start_time": "2019-08-28T22:22:29.381968Z"
    }
   },
   "outputs": [],
   "source": [
    "mazut_2_2013 = mazut_2_2013.iloc[:,[0,-1]]"
   ]
  },
  {
   "cell_type": "code",
   "execution_count": null,
   "metadata": {
    "ExecuteTime": {
     "end_time": "2019-08-28T22:24:49.975583Z",
     "start_time": "2019-08-28T22:24:49.964710Z"
    }
   },
   "outputs": [],
   "source": [
    "mazut_ind = pd.read_csv('prices_mazut/mazut_index.csv', header=None, index_col=0)"
   ]
  },
  {
   "cell_type": "code",
   "execution_count": null,
   "metadata": {
    "ExecuteTime": {
     "end_time": "2019-08-28T22:33:49.490864Z",
     "start_time": "2019-08-28T22:33:49.487818Z"
    }
   },
   "outputs": [],
   "source": [
    "mazut_ind.iloc[0,:] = yyy[:91]"
   ]
  },
  {
   "cell_type": "code",
   "execution_count": null,
   "metadata": {
    "ExecuteTime": {
     "end_time": "2019-08-28T22:37:35.834126Z",
     "start_time": "2019-08-28T22:37:35.830372Z"
    }
   },
   "outputs": [],
   "source": [
    "mazut_ind.iloc[1,:] = mons[:91]"
   ]
  },
  {
   "cell_type": "code",
   "execution_count": null,
   "metadata": {
    "ExecuteTime": {
     "end_time": "2019-08-28T22:39:22.922215Z",
     "start_time": "2019-08-28T22:39:22.914688Z"
    }
   },
   "outputs": [],
   "source": [
    "mazut_ind.columns = pd.to_datetime(mazut_ind.iloc[0,:] + '-' + mazut_ind.iloc[1,:], format=\"%Y-%m\")"
   ]
  },
  {
   "cell_type": "code",
   "execution_count": null,
   "metadata": {
    "ExecuteTime": {
     "end_time": "2019-08-28T22:42:03.895068Z",
     "start_time": "2019-08-28T22:42:03.892645Z"
    }
   },
   "outputs": [],
   "source": [
    "mazut_ind = mazut_ind.iloc[2:,:].transpose()"
   ]
  },
  {
   "cell_type": "code",
   "execution_count": null,
   "metadata": {
    "ExecuteTime": {
     "end_time": "2019-08-28T22:42:05.230761Z",
     "start_time": "2019-08-28T22:42:05.216634Z"
    }
   },
   "outputs": [],
   "source": [
    "mazut_ind.to_csv('mazut_index.csv')"
   ]
  },
  {
   "cell_type": "code",
   "execution_count": null,
   "metadata": {
    "ExecuteTime": {
     "end_time": "2019-08-28T22:33:01.725336Z",
     "start_time": "2019-08-28T22:33:01.722226Z"
    }
   },
   "outputs": [],
   "source": [
    "yyy = np.array([])\n",
    "j = 2012\n",
    "for i in range(8):\n",
    "    \n",
    "    for k in range(12):\n",
    "        yyy = np.append(yyy,str(j))\n",
    "    j +=1\n",
    "            "
   ]
  },
  {
   "cell_type": "code",
   "execution_count": null,
   "metadata": {
    "ExecuteTime": {
     "end_time": "2019-08-28T22:35:20.975317Z",
     "start_time": "2019-08-28T22:35:20.966151Z"
    }
   },
   "outputs": [],
   "source": [
    "momo = []\n",
    "for i in range(1,13):\n",
    "    momo = np.append(momo, str(i))\n",
    "    "
   ]
  },
  {
   "cell_type": "code",
   "execution_count": null,
   "metadata": {
    "ExecuteTime": {
     "end_time": "2019-08-28T22:36:53.053623Z",
     "start_time": "2019-08-28T22:36:53.046597Z"
    }
   },
   "outputs": [],
   "source": [
    "mons = [ ]\n",
    "for j in  range(8):\n",
    "     mons = np.append(mons, momo) "
   ]
  },
  {
   "cell_type": "code",
   "execution_count": null,
   "metadata": {
    "ExecuteTime": {
     "end_time": "2019-08-28T22:37:17.570391Z",
     "start_time": "2019-08-28T22:37:17.565449Z"
    }
   },
   "outputs": [],
   "source": [
    "len(mons)"
   ]
  },
  {
   "cell_type": "code",
   "execution_count": null,
   "metadata": {
    "ExecuteTime": {
     "end_time": "2019-08-28T22:25:03.612346Z",
     "start_time": "2019-08-28T22:25:03.606204Z"
    }
   },
   "outputs": [],
   "source": [
    "mazut_ind.shape"
   ]
  },
  {
   "cell_type": "code",
   "execution_count": null,
   "metadata": {
    "ExecuteTime": {
     "end_time": "2019-08-28T22:27:01.947018Z",
     "start_time": "2019-08-28T22:27:01.938148Z"
    }
   },
   "outputs": [],
   "source": [
    "(91-7)/12"
   ]
  },
  {
   "cell_type": "code",
   "execution_count": null,
   "metadata": {
    "ExecuteTime": {
     "end_time": "2019-08-28T23:06:18.449453Z",
     "start_time": "2019-08-28T23:06:18.444902Z"
    }
   },
   "outputs": [],
   "source": [
    "npz_ind_1 = pd.read_csv('prices_mazut/monthly_npz_ind_2.csv', header=0, index_col=0)"
   ]
  },
  {
   "cell_type": "code",
   "execution_count": null,
   "metadata": {
    "ExecuteTime": {
     "end_time": "2019-09-11T08:01:40.776717Z",
     "start_time": "2019-09-11T08:01:40.771688Z"
    }
   },
   "outputs": [],
   "source": [
    "# npz_ind_1"
   ]
  },
  {
   "cell_type": "code",
   "execution_count": null,
   "metadata": {
    "ExecuteTime": {
     "end_time": "2019-08-28T23:06:30.760185Z",
     "start_time": "2019-08-28T23:06:30.754178Z"
    }
   },
   "outputs": [],
   "source": [
    "subs_1 =  npz_ind_1.iloc[::13,:].index"
   ]
  },
  {
   "cell_type": "code",
   "execution_count": null,
   "metadata": {
    "ExecuteTime": {
     "end_time": "2019-08-28T23:07:15.955836Z",
     "start_time": "2019-08-28T23:07:15.946041Z"
    }
   },
   "outputs": [],
   "source": [
    "(npz_ind_1.shape[0] - len(subs_1))/12"
   ]
  },
  {
   "cell_type": "code",
   "execution_count": null,
   "metadata": {
    "ExecuteTime": {
     "end_time": "2019-08-28T23:07:39.069998Z",
     "start_time": "2019-08-28T23:07:39.049784Z"
    }
   },
   "outputs": [],
   "source": [
    "subs_11 = []\n",
    "for i in subs_1:\n",
    "    for j in range(12):\n",
    "        subs_11 = np.append(subs_11, i)"
   ]
  },
  {
   "cell_type": "code",
   "execution_count": null,
   "metadata": {
    "ExecuteTime": {
     "end_time": "2019-08-28T23:08:57.161226Z",
     "start_time": "2019-08-28T23:08:57.153540Z"
    }
   },
   "outputs": [],
   "source": [
    "\n",
    "mons = [ ]\n",
    "for j in  range(42):\n",
    "     mons = np.append(mons, momo) "
   ]
  },
  {
   "cell_type": "code",
   "execution_count": null,
   "metadata": {
    "ExecuteTime": {
     "end_time": "2019-08-28T23:09:13.271186Z",
     "start_time": "2019-08-28T23:09:13.264944Z"
    }
   },
   "outputs": [],
   "source": [
    "npz_ind_1 = npz_ind_1.drop(npz_ind_1.iloc[::13,:].index, axis=0)"
   ]
  },
  {
   "cell_type": "code",
   "execution_count": null,
   "metadata": {
    "ExecuteTime": {
     "end_time": "2019-08-28T23:09:41.484929Z",
     "start_time": "2019-08-28T23:09:41.438510Z"
    }
   },
   "outputs": [],
   "source": [
    "npz_ind_1['date'] = mons"
   ]
  },
  {
   "cell_type": "code",
   "execution_count": null,
   "metadata": {
    "ExecuteTime": {
     "end_time": "2019-08-28T23:09:43.908848Z",
     "start_time": "2019-08-28T23:09:43.860641Z"
    }
   },
   "outputs": [],
   "source": [
    "npz_ind_1['reg'] = subs_11"
   ]
  },
  {
   "cell_type": "code",
   "execution_count": null,
   "metadata": {
    "ExecuteTime": {
     "end_time": "2019-08-28T23:10:01.904040Z",
     "start_time": "2019-08-28T23:10:01.899150Z"
    }
   },
   "outputs": [],
   "source": [
    "npz_ind_1 = npz_ind_1.set_index(['reg', 'date']).unstack()"
   ]
  },
  {
   "cell_type": "code",
   "execution_count": null,
   "metadata": {
    "ExecuteTime": {
     "end_time": "2019-08-28T23:10:12.613333Z",
     "start_time": "2019-08-28T23:10:12.608060Z"
    }
   },
   "outputs": [],
   "source": [
    "npz_ind_1.transpose().to_csv('npz_tmp.csv')"
   ]
  },
  {
   "cell_type": "code",
   "execution_count": null,
   "metadata": {
    "ExecuteTime": {
     "end_time": "2019-08-28T23:12:32.628517Z",
     "start_time": "2019-08-28T23:12:32.621660Z"
    }
   },
   "outputs": [],
   "source": [
    "# npz_ind_1 = \n",
    "npz_ind_1 = pd.read_csv('npz_tmp.csv', header=0, index_col=0)"
   ]
  },
  {
   "cell_type": "code",
   "execution_count": null,
   "metadata": {
    "ExecuteTime": {
     "end_time": "2019-08-28T23:12:41.382089Z",
     "start_time": "2019-08-28T23:12:41.379535Z"
    }
   },
   "outputs": [],
   "source": [
    "npz_ind_1.index = pd.to_datetime(npz_ind_1.index, format=\"%Y-%m\")"
   ]
  },
  {
   "cell_type": "code",
   "execution_count": null,
   "metadata": {
    "ExecuteTime": {
     "end_time": "2019-08-28T23:12:42.066723Z",
     "start_time": "2019-08-28T23:12:42.058027Z"
    }
   },
   "outputs": [],
   "source": [
    "npz_ind_1 = npz_ind_1.sort_index()"
   ]
  },
  {
   "cell_type": "code",
   "execution_count": null,
   "metadata": {
    "ExecuteTime": {
     "end_time": "2019-08-28T23:12:45.385144Z",
     "start_time": "2019-08-28T23:12:45.381143Z"
    }
   },
   "outputs": [],
   "source": [
    "npz_ind_1.to_csv('npz_tmp_2.csv')"
   ]
  },
  {
   "cell_type": "code",
   "execution_count": null,
   "metadata": {
    "ExecuteTime": {
     "end_time": "2019-08-28T22:47:39.867453Z",
     "start_time": "2019-08-28T22:47:39.864843Z"
    }
   },
   "outputs": [],
   "source": [
    "564/12"
   ]
  },
  {
   "cell_type": "code",
   "execution_count": null,
   "metadata": {
    "ExecuteTime": {
     "end_time": "2019-08-28T23:16:06.714595Z",
     "start_time": "2019-08-28T23:16:06.709542Z"
    }
   },
   "outputs": [],
   "source": [
    "mazut_2_2013.columns = ['reg', 'val']"
   ]
  },
  {
   "cell_type": "code",
   "execution_count": null,
   "metadata": {
    "ExecuteTime": {
     "end_time": "2019-08-28T23:54:12.737421Z",
     "start_time": "2019-08-28T23:54:12.732736Z"
    }
   },
   "outputs": [],
   "source": [
    "mazut_2_2013.index = mazut_2_2013['reg'\n",
    "]"
   ]
  },
  {
   "cell_type": "code",
   "execution_count": null,
   "metadata": {
    "ExecuteTime": {
     "end_time": "2019-08-28T23:55:16.119691Z",
     "start_time": "2019-08-28T23:55:16.117137Z"
    }
   },
   "outputs": [],
   "source": [
    "mazut_2_2013 = mazut_2_2013.transpose()\n"
   ]
  },
  {
   "cell_type": "code",
   "execution_count": null,
   "metadata": {
    "ExecuteTime": {
     "end_time": "2019-08-28T23:56:15.502461Z",
     "start_time": "2019-08-28T23:56:15.500386Z"
    }
   },
   "outputs": [],
   "source": [
    "mazut_2_2013.index = ['del', 'val_2013']"
   ]
  },
  {
   "cell_type": "code",
   "execution_count": null,
   "metadata": {
    "ExecuteTime": {
     "end_time": "2019-09-11T08:01:53.939588Z",
     "start_time": "2019-09-11T08:01:53.934939Z"
    }
   },
   "outputs": [],
   "source": [
    "# mazut_2_2013"
   ]
  },
  {
   "cell_type": "code",
   "execution_count": null,
   "metadata": {
    "ExecuteTime": {
     "end_time": "2019-08-28T23:20:16.591126Z",
     "start_time": "2019-08-28T23:20:16.583790Z"
    }
   },
   "outputs": [],
   "source": [
    "npz1 = pd.read_csv('prices_mazut/npz_tmp_1.csv', index_col=0)"
   ]
  },
  {
   "cell_type": "code",
   "execution_count": null,
   "metadata": {
    "ExecuteTime": {
     "end_time": "2019-08-28T23:20:27.640635Z",
     "start_time": "2019-08-28T23:20:27.635864Z"
    }
   },
   "outputs": [],
   "source": [
    "npz2 = pd.read_csv('prices_mazut/npz_tmp_2.csv', index_col=0)"
   ]
  },
  {
   "cell_type": "code",
   "execution_count": null,
   "metadata": {
    "ExecuteTime": {
     "end_time": "2019-08-28T23:21:13.302677Z",
     "start_time": "2019-08-28T23:21:13.288618Z"
    }
   },
   "outputs": [],
   "source": [
    "npz1.append(npz2).to_csv('npz_tmp.csv')"
   ]
  },
  {
   "cell_type": "code",
   "execution_count": null,
   "metadata": {
    "ExecuteTime": {
     "end_time": "2019-08-29T00:14:48.151230Z",
     "start_time": "2019-08-29T00:14:48.146775Z"
    }
   },
   "outputs": [],
   "source": [
    "maz_ind = pd.read_csv('prices_mazut/full_mazut_indexes.csv', index_col=0)"
   ]
  },
  {
   "cell_type": "code",
   "execution_count": null,
   "metadata": {
    "ExecuteTime": {
     "end_time": "2019-08-29T00:22:50.913272Z",
     "start_time": "2019-08-29T00:22:50.910760Z"
    }
   },
   "outputs": [],
   "source": [
    "mazut_2_2013.shape"
   ]
  },
  {
   "cell_type": "code",
   "execution_count": null,
   "metadata": {
    "ExecuteTime": {
     "end_time": "2019-08-29T00:22:54.985854Z",
     "start_time": "2019-08-29T00:22:54.980962Z"
    }
   },
   "outputs": [],
   "source": [
    "maz_ind.shape"
   ]
  },
  {
   "cell_type": "code",
   "execution_count": null,
   "metadata": {
    "ExecuteTime": {
     "end_time": "2019-08-29T00:28:23.081699Z",
     "start_time": "2019-08-29T00:28:23.065326Z"
    }
   },
   "outputs": [],
   "source": [
    "mazut_2_2013 = mazut_2_2013.loc[:,maz_ind.columns]"
   ]
  },
  {
   "cell_type": "code",
   "execution_count": null,
   "metadata": {
    "ExecuteTime": {
     "end_time": "2019-08-29T00:28:54.169175Z",
     "start_time": "2019-08-29T00:28:54.166552Z"
    }
   },
   "outputs": [],
   "source": [
    "mazut_2_2013 = mazut_2_2013.transpose().sort_index().transpose()"
   ]
  },
  {
   "cell_type": "code",
   "execution_count": null,
   "metadata": {
    "ExecuteTime": {
     "end_time": "2019-08-29T00:29:48.781409Z",
     "start_time": "2019-08-29T00:29:48.778079Z"
    }
   },
   "outputs": [],
   "source": [
    "mazut_2_2013.to_csv('mazz_1.csv')"
   ]
  },
  {
   "cell_type": "code",
   "execution_count": null,
   "metadata": {
    "ExecuteTime": {
     "end_time": "2019-08-29T00:28:58.635562Z",
     "start_time": "2019-08-29T00:28:58.632322Z"
    }
   },
   "outputs": [],
   "source": [
    "maz_ind = maz_ind.transpose().sort_index().transpose()"
   ]
  },
  {
   "cell_type": "code",
   "execution_count": null,
   "metadata": {
    "ExecuteTime": {
     "end_time": "2019-08-29T00:30:05.958478Z",
     "start_time": "2019-08-29T00:30:05.953479Z"
    }
   },
   "outputs": [],
   "source": [
    "maz_ind.to_csv('mazz_2.csv')"
   ]
  },
  {
   "cell_type": "code",
   "execution_count": null,
   "metadata": {
    "ExecuteTime": {
     "end_time": "2019-08-29T01:10:07.177547Z",
     "start_time": "2019-08-29T01:10:07.175673Z"
    }
   },
   "outputs": [],
   "source": [
    "maz_ind_base = maz_ind.copy()"
   ]
  },
  {
   "cell_type": "code",
   "execution_count": null,
   "metadata": {
    "ExecuteTime": {
     "end_time": "2019-08-29T01:10:07.856568Z",
     "start_time": "2019-08-29T01:10:07.853773Z"
    }
   },
   "outputs": [],
   "source": [
    "maz_ind_base.loc['2013-02-01', :] = maz_ind_base.loc['2013-02-01', :]/maz_ind_base.loc['2013-02-01', :]  * 100 \n"
   ]
  },
  {
   "cell_type": "code",
   "execution_count": null,
   "metadata": {
    "ExecuteTime": {
     "end_time": "2019-08-29T01:10:08.472425Z",
     "start_time": "2019-08-29T01:10:08.470054Z"
    }
   },
   "outputs": [],
   "source": [
    "maz_ind_base.shape"
   ]
  },
  {
   "cell_type": "code",
   "execution_count": null,
   "metadata": {
    "ExecuteTime": {
     "end_time": "2019-09-11T08:02:05.276217Z",
     "start_time": "2019-09-11T08:02:05.270733Z"
    }
   },
   "outputs": [],
   "source": [
    "# maz_ind.iloc[90:,:]"
   ]
  },
  {
   "cell_type": "code",
   "execution_count": null,
   "metadata": {
    "ExecuteTime": {
     "end_time": "2019-08-29T01:10:09.797683Z",
     "start_time": "2019-08-29T01:10:09.756517Z"
    }
   },
   "outputs": [],
   "source": [
    "for i in range(15, 91):\n",
    "    maz_ind_base.iloc[i,:] = maz_ind_base.iloc[(i-1),:] * maz_ind.iloc[(i),:] /100"
   ]
  },
  {
   "cell_type": "code",
   "execution_count": null,
   "metadata": {
    "ExecuteTime": {
     "end_time": "2019-08-29T01:10:10.431232Z",
     "start_time": "2019-08-29T01:10:10.422484Z"
    }
   },
   "outputs": [],
   "source": [
    "for i in range(13):\n",
    "    maz_ind_base.iloc[(12-i),:] = maz_ind_base.iloc[(12-i+1),:] / maz_ind.iloc[(12-i+1),:] *100"
   ]
  },
  {
   "cell_type": "code",
   "execution_count": null,
   "metadata": {
    "ExecuteTime": {
     "end_time": "2019-08-29T01:10:11.055740Z",
     "start_time": "2019-08-29T01:10:11.053306Z"
    }
   },
   "outputs": [],
   "source": [
    "maz_ind_base = maz_ind_base/100"
   ]
  },
  {
   "cell_type": "code",
   "execution_count": null,
   "metadata": {
    "ExecuteTime": {
     "end_time": "2019-09-11T08:02:08.659953Z",
     "start_time": "2019-09-11T08:02:08.654840Z"
    }
   },
   "outputs": [],
   "source": [
    "# maz_ind_base"
   ]
  },
  {
   "cell_type": "code",
   "execution_count": null,
   "metadata": {
    "ExecuteTime": {
     "end_time": "2019-08-29T01:13:11.430549Z",
     "start_time": "2019-08-29T01:13:11.426329Z"
    }
   },
   "outputs": [],
   "source": [
    "maz_ind_base = maz_ind_base.mul(mazut_2_2013.iloc[1,:], axis=1)"
   ]
  },
  {
   "cell_type": "code",
   "execution_count": null,
   "metadata": {
    "ExecuteTime": {
     "end_time": "2019-08-29T01:13:23.158872Z",
     "start_time": "2019-08-29T01:13:23.153940Z"
    }
   },
   "outputs": [],
   "source": [
    "maz_ind_base.to_csv('maz_ind_base.csv')"
   ]
  },
  {
   "cell_type": "code",
   "execution_count": null,
   "metadata": {
    "ExecuteTime": {
     "end_time": "2019-08-29T00:17:07.640615Z",
     "start_time": "2019-08-29T00:17:07.602625Z"
    }
   },
   "outputs": [],
   "source": [
    "mazut_2_2013 = pd.read_csv('prices_mazut/prices_mazut_02_2013.csv')\n",
    "\n",
    "mazut_2_2013 = mazut_2_2013.iloc[:,[0,-1]]\n",
    "\n",
    "mazut_2_2013.columns = ['reg', 'val']\n",
    "\n",
    "mazut_2_2013.index = mazut_2_2013['reg'\n",
    "]\n",
    "\n",
    "mazut_2_2013 = mazut_2_2013.transpose()\n",
    "\n",
    "\n",
    "# mazut_2_2013.index = ['del', 'val_2013']"
   ]
  },
  {
   "cell_type": "code",
   "execution_count": null,
   "metadata": {
    "ExecuteTime": {
     "end_time": "2019-09-11T08:02:17.305826Z",
     "start_time": "2019-09-11T08:02:17.300563Z"
    }
   },
   "outputs": [],
   "source": [
    "# mazut_2_2013"
   ]
  },
  {
   "cell_type": "code",
   "execution_count": null,
   "metadata": {
    "ExecuteTime": {
     "end_time": "2019-08-29T01:18:28.005980Z",
     "start_time": "2019-08-29T01:18:27.994326Z"
    }
   },
   "outputs": [],
   "source": [
    "prices_df_pivot.columns.get_level_values(0).unique()"
   ]
  },
  {
   "cell_type": "code",
   "execution_count": null,
   "metadata": {
    "ExecuteTime": {
     "end_time": "2019-08-29T01:19:30.019170Z",
     "start_time": "2019-08-29T01:19:30.013995Z"
    }
   },
   "outputs": [],
   "source": [
    "prices_fuel = prices_df_pivot[['Бензин А-76, АИ-80', 'Бензин АИ-92, АИ-93',\n",
    "       'Бензин АИ-95 (включая все модификации)']]"
   ]
  },
  {
   "cell_type": "code",
   "execution_count": null,
   "metadata": {
    "ExecuteTime": {
     "end_time": "2019-08-29T01:21:41.886958Z",
     "start_time": "2019-08-29T01:21:41.879213Z"
    }
   },
   "outputs": [],
   "source": [
    "prices_fuel = prices_fuel.transpose().swaplevel(0,2).groupby('region').mean().transpose()"
   ]
  },
  {
   "cell_type": "code",
   "execution_count": null,
   "metadata": {
    "ExecuteTime": {
     "end_time": "2019-08-29T01:22:53.153300Z",
     "start_time": "2019-08-29T01:22:53.146541Z"
    }
   },
   "outputs": [],
   "source": [
    "prices_fuel = prices_fuel.resample('m').mean()"
   ]
  },
  {
   "cell_type": "code",
   "execution_count": null,
   "metadata": {
    "ExecuteTime": {
     "end_time": "2019-08-29T01:23:10.625193Z",
     "start_time": "2019-08-29T01:23:10.601371Z"
    }
   },
   "outputs": [],
   "source": [
    "prices_fuel.to_csv('prices_fuel.csv')"
   ]
  },
  {
   "cell_type": "code",
   "execution_count": null,
   "metadata": {
    "ExecuteTime": {
     "end_time": "2019-09-11T08:02:21.176714Z",
     "start_time": "2019-09-11T08:02:21.171585Z"
    }
   },
   "outputs": [],
   "source": [
    "# maz_ind.columns"
   ]
  },
  {
   "cell_type": "code",
   "execution_count": null,
   "metadata": {
    "ExecuteTime": {
     "end_time": "2019-08-29T11:50:12.254704Z",
     "start_time": "2019-08-29T11:50:12.242999Z"
    }
   },
   "outputs": [],
   "source": [
    "prices_raw_neft = pd.read_csv('4_crack_spread/prices_raw_neft.csv',index_col=0, header=None).transpose()\n"
   ]
  },
  {
   "cell_type": "code",
   "execution_count": null,
   "metadata": {
    "ExecuteTime": {
     "end_time": "2019-08-29T11:51:25.847760Z",
     "start_time": "2019-08-29T11:51:25.844762Z"
    }
   },
   "outputs": [],
   "source": [
    "prices_raw_neft.iloc[:,0] = [i.replace(' федеральный округ', '') for i in prices_raw_neft.iloc[:,0]]"
   ]
  },
  {
   "cell_type": "code",
   "execution_count": null,
   "metadata": {
    "ExecuteTime": {
     "end_time": "2019-09-11T08:02:24.344815Z",
     "start_time": "2019-09-11T08:02:24.339935Z"
    }
   },
   "outputs": [],
   "source": [
    "# prices_raw_neft"
   ]
  },
  {
   "cell_type": "code",
   "execution_count": null,
   "metadata": {
    "ExecuteTime": {
     "end_time": "2019-08-29T11:43:07.434438Z",
     "start_time": "2019-08-29T11:43:07.430604Z"
    }
   },
   "outputs": [],
   "source": [
    "np.unique(reg_list.iloc[:,-2].values)"
   ]
  },
  {
   "cell_type": "code",
   "execution_count": null,
   "metadata": {
    "ExecuteTime": {
     "end_time": "2019-08-29T12:02:45.301970Z",
     "start_time": "2019-08-29T12:02:45.293596Z"
    }
   },
   "outputs": [],
   "source": [
    "reg_list = pd.read_csv('reg_list.csv', index_col=1)\n"
   ]
  },
  {
   "cell_type": "code",
   "execution_count": null,
   "metadata": {
    "ExecuteTime": {
     "end_time": "2019-08-29T12:02:48.331614Z",
     "start_time": "2019-08-29T12:02:48.329180Z"
    }
   },
   "outputs": [],
   "source": [
    "reg_list_tmp = reg_list.transpose().iloc[-2:,:]\n"
   ]
  },
  {
   "cell_type": "code",
   "execution_count": null,
   "metadata": {
    "ExecuteTime": {
     "end_time": "2019-08-29T12:05:10.153554Z",
     "start_time": "2019-08-29T12:05:10.150953Z"
    }
   },
   "outputs": [],
   "source": [
    "reg_list_tmp2 = reg_list_tmp.transpose()"
   ]
  },
  {
   "cell_type": "code",
   "execution_count": null,
   "metadata": {
    "ExecuteTime": {
     "end_time": "2019-08-29T12:05:34.526027Z",
     "start_time": "2019-08-29T12:05:34.521764Z"
    }
   },
   "outputs": [],
   "source": [
    "reg_list_tmp2['Cубъект РФ'] = reg_list_tmp2.index"
   ]
  },
  {
   "cell_type": "code",
   "execution_count": null,
   "metadata": {
    "ExecuteTime": {
     "end_time": "2019-08-29T12:06:04.697105Z",
     "start_time": "2019-08-29T12:06:04.694333Z"
    }
   },
   "outputs": [],
   "source": [
    "reg_list_tmp2.shape"
   ]
  },
  {
   "cell_type": "code",
   "execution_count": null,
   "metadata": {
    "ExecuteTime": {
     "end_time": "2019-08-29T12:06:32.346061Z",
     "start_time": "2019-08-29T12:06:32.340653Z"
    }
   },
   "outputs": [],
   "source": [
    "prices_raw_neft = reg_list_tmp2.merge(prices_raw_neft, left_on='Федеральный округ', right_on= 'Федеральный округ')"
   ]
  },
  {
   "cell_type": "code",
   "execution_count": null,
   "metadata": {
    "ExecuteTime": {
     "end_time": "2019-08-29T12:07:45.273829Z",
     "start_time": "2019-08-29T12:07:45.270172Z"
    }
   },
   "outputs": [],
   "source": [
    "prices_raw_neft = prices_raw_neft.drop('Код субъекта РФ', axis=1)"
   ]
  },
  {
   "cell_type": "code",
   "execution_count": null,
   "metadata": {
    "ExecuteTime": {
     "end_time": "2019-08-29T12:08:41.533688Z",
     "start_time": "2019-08-29T12:08:41.528729Z"
    }
   },
   "outputs": [],
   "source": [
    "prices_raw_neft.to_csv('prices_raw_neft_tmp.csv')"
   ]
  },
  {
   "cell_type": "code",
   "execution_count": null,
   "metadata": {
    "ExecuteTime": {
     "end_time": "2019-09-11T08:02:29.999605Z",
     "start_time": "2019-09-11T08:02:29.993934Z"
    }
   },
   "outputs": [],
   "source": [
    "# prices_raw_neft"
   ]
  },
  {
   "cell_type": "code",
   "execution_count": null,
   "metadata": {
    "ExecuteTime": {
     "end_time": "2019-08-29T12:02:57.061116Z",
     "start_time": "2019-08-29T12:02:57.059197Z"
    }
   },
   "outputs": [],
   "source": [
    "# coll = prices_raw_neft.columns.values\n",
    "# coll[0] = 'Федеральный округ'\n",
    "# prices_raw_neft.columns = coll"
   ]
  },
  {
   "cell_type": "code",
   "execution_count": null,
   "metadata": {
    "ExecuteTime": {
     "end_time": "2019-08-29T12:11:16.851846Z",
     "start_time": "2019-08-29T12:11:16.844427Z"
    }
   },
   "outputs": [],
   "source": [
    "prices_fuel = pd.read_csv('4_crack_spread/prices_fuel.csv', index_col=0)"
   ]
  },
  {
   "cell_type": "code",
   "execution_count": null,
   "metadata": {
    "ExecuteTime": {
     "end_time": "2019-08-29T12:12:21.255882Z",
     "start_time": "2019-08-29T12:12:21.253744Z"
    }
   },
   "outputs": [],
   "source": [
    "prices_fuel = prices_fuel.transpose()"
   ]
  },
  {
   "cell_type": "code",
   "execution_count": null,
   "metadata": {
    "ExecuteTime": {
     "end_time": "2019-08-29T12:12:27.899323Z",
     "start_time": "2019-08-29T12:12:27.896566Z"
    }
   },
   "outputs": [],
   "source": [
    "prices_fuel['Субъект РФ'] = prices_fuel.index"
   ]
  },
  {
   "cell_type": "code",
   "execution_count": null,
   "metadata": {
    "ExecuteTime": {
     "end_time": "2019-09-11T08:02:33.743656Z",
     "start_time": "2019-09-11T08:02:33.738457Z"
    }
   },
   "outputs": [],
   "source": [
    "# prices_fuel"
   ]
  },
  {
   "cell_type": "code",
   "execution_count": null,
   "metadata": {
    "ExecuteTime": {
     "end_time": "2019-08-29T12:13:50.485170Z",
     "start_time": "2019-08-29T12:13:50.480687Z"
    }
   },
   "outputs": [],
   "source": [
    "reg_list_tmp2.columns\n"
   ]
  },
  {
   "cell_type": "code",
   "execution_count": null,
   "metadata": {
    "ExecuteTime": {
     "end_time": "2019-09-11T08:02:37.571936Z",
     "start_time": "2019-09-11T08:02:37.565247Z"
    }
   },
   "outputs": [],
   "source": [
    "# prices_fuel['Субъект РФ']"
   ]
  },
  {
   "cell_type": "code",
   "execution_count": null,
   "metadata": {
    "ExecuteTime": {
     "end_time": "2019-09-11T08:02:42.062469Z",
     "start_time": "2019-09-11T08:02:42.057828Z"
    }
   },
   "outputs": [],
   "source": [
    "# prices_fuel"
   ]
  },
  {
   "cell_type": "code",
   "execution_count": null,
   "metadata": {
    "ExecuteTime": {
     "end_time": "2019-08-29T12:17:49.296986Z",
     "start_time": "2019-08-29T12:17:49.280753Z"
    }
   },
   "outputs": [],
   "source": []
  },
  {
   "cell_type": "code",
   "execution_count": null,
   "metadata": {
    "ExecuteTime": {
     "end_time": "2019-08-29T12:25:20.495586Z",
     "start_time": "2019-08-29T12:25:20.487877Z"
    }
   },
   "outputs": [],
   "source": [
    "reg_dict = {'Республика Северная Осетия-Алания ':'Республика Северная Осетия',  'Ненецкий автономный округ' : 'Ненецкий АО', 'Удмуртская республика':'Удмуртская Республика', \n",
    " 'Ханты-Мансийский автономный округ-Югра': 'ХМАО-Югра', 'Чукотский автономный округ':'Чукотский АО',\n",
    " 'Ямало-Ненецкий автономный округ':'Ямало-Ненецкий АО', }"
   ]
  },
  {
   "cell_type": "code",
   "execution_count": null,
   "metadata": {
    "ExecuteTime": {
     "end_time": "2019-08-29T12:27:48.911487Z",
     "start_time": "2019-08-29T12:27:48.908854Z"
    }
   },
   "outputs": [],
   "source": [
    "reg_dict"
   ]
  },
  {
   "cell_type": "code",
   "execution_count": null,
   "metadata": {
    "ExecuteTime": {
     "end_time": "2019-08-29T12:28:49.252497Z",
     "start_time": "2019-08-29T12:28:49.246528Z"
    }
   },
   "outputs": [],
   "source": [
    "reg_dict_2 =  { y:x for x,y in reg_dict.items()}\n",
    "reg_dict_2\n"
   ]
  },
  {
   "cell_type": "code",
   "execution_count": null,
   "metadata": {
    "ExecuteTime": {
     "end_time": "2019-08-29T12:29:50.499646Z",
     "start_time": "2019-08-29T12:29:50.497904Z"
    }
   },
   "outputs": [],
   "source": [
    "# reg_list_tmp2"
   ]
  },
  {
   "cell_type": "code",
   "execution_count": null,
   "metadata": {
    "ExecuteTime": {
     "end_time": "2019-08-29T12:29:33.853544Z",
     "start_time": "2019-08-29T12:29:33.851288Z"
    }
   },
   "outputs": [],
   "source": [
    "# prices_fuel"
   ]
  },
  {
   "cell_type": "code",
   "execution_count": null,
   "metadata": {
    "ExecuteTime": {
     "end_time": "2019-08-29T12:30:19.041530Z",
     "start_time": "2019-08-29T12:30:19.036375Z"
    }
   },
   "outputs": [],
   "source": [
    "prices_fuel.index = prices_fuel.iloc[:,-1].replace(reg_dict_2)"
   ]
  },
  {
   "cell_type": "code",
   "execution_count": null,
   "metadata": {
    "ExecuteTime": {
     "end_time": "2019-08-29T12:30:27.161796Z",
     "start_time": "2019-08-29T12:30:27.160056Z"
    }
   },
   "outputs": [],
   "source": [
    "# reg_list_tmp2.merge(prices_fuel, left_on='Cубъект РФ', right_on= 'Cубъект РФ')"
   ]
  },
  {
   "cell_type": "code",
   "execution_count": null,
   "metadata": {
    "ExecuteTime": {
     "end_time": "2019-08-29T12:34:28.185287Z",
     "start_time": "2019-08-29T12:34:28.180014Z"
    },
    "scrolled": false
   },
   "outputs": [],
   "source": [
    "reg_list_tmp2.transpose().shape, prices_fuel.transpose().shape, prices_fuel_tmp.shape"
   ]
  },
  {
   "cell_type": "code",
   "execution_count": null,
   "metadata": {
    "ExecuteTime": {
     "end_time": "2019-08-29T12:33:17.860638Z",
     "start_time": "2019-08-29T12:33:17.855068Z"
    }
   },
   "outputs": [],
   "source": [
    "prices_fuel_tmp = reg_list_tmp2.transpose().append(prices_fuel.transpose())\n",
    "\n"
   ]
  },
  {
   "cell_type": "code",
   "execution_count": null,
   "metadata": {
    "ExecuteTime": {
     "end_time": "2019-08-29T12:37:20.572211Z",
     "start_time": "2019-08-29T12:37:20.569385Z"
    }
   },
   "outputs": [],
   "source": [
    "prices_fuel = prices_fuel_tmp.iloc[3:-1,:]"
   ]
  },
  {
   "cell_type": "code",
   "execution_count": null,
   "metadata": {
    "ExecuteTime": {
     "end_time": "2019-08-29T12:42:16.795004Z",
     "start_time": "2019-08-29T12:42:16.789577Z"
    }
   },
   "outputs": [],
   "source": [
    "(prices_fuel.shape[0]-8)/12"
   ]
  },
  {
   "cell_type": "code",
   "execution_count": null,
   "metadata": {
    "ExecuteTime": {
     "end_time": "2019-08-29T12:52:01.269528Z",
     "start_time": "2019-08-29T12:52:01.265858Z"
    }
   },
   "outputs": [],
   "source": [
    "prices_fuel.index = pd.date_range(start='2013-01-01', end='2019-08-01', freq='MS') #.shape"
   ]
  },
  {
   "cell_type": "code",
   "execution_count": null,
   "metadata": {
    "ExecuteTime": {
     "end_time": "2019-08-29T12:54:32.504867Z",
     "start_time": "2019-08-29T12:54:32.496471Z"
    }
   },
   "outputs": [],
   "source": [
    "prices_fuel.to_csv('prices_fuel_tmp.csv')\n"
   ]
  },
  {
   "cell_type": "code",
   "execution_count": null,
   "metadata": {
    "ExecuteTime": {
     "end_time": "2019-08-29T12:52:06.373234Z",
     "start_time": "2019-08-29T12:52:06.363936Z"
    }
   },
   "outputs": [],
   "source": [
    "prices_mazut = pd.read_csv('4_crack_spread/prices_mazut.csv',index_col=0)"
   ]
  },
  {
   "cell_type": "code",
   "execution_count": null,
   "metadata": {
    "ExecuteTime": {
     "end_time": "2019-08-29T12:56:26.833753Z",
     "start_time": "2019-08-29T12:56:26.801925Z"
    }
   },
   "outputs": [],
   "source": [
    "prices_mazut = prices_mazut.transpose()\n",
    "\n",
    "prices_mazut['Субъект РФ'] = prices_mazut.index"
   ]
  },
  {
   "cell_type": "code",
   "execution_count": null,
   "metadata": {},
   "outputs": [],
   "source": [
    "reg_list_tmp2.transpose().shape, prices_fuel.transpose().shape, prices_fuel_tmp.shape"
   ]
  },
  {
   "cell_type": "code",
   "execution_count": null,
   "metadata": {
    "ExecuteTime": {
     "end_time": "2019-08-29T13:01:23.600732Z",
     "start_time": "2019-08-29T13:01:23.598328Z"
    }
   },
   "outputs": [],
   "source": [
    "# prices_mazut"
   ]
  },
  {
   "cell_type": "code",
   "execution_count": null,
   "metadata": {
    "ExecuteTime": {
     "end_time": "2019-08-29T12:59:03.344306Z",
     "start_time": "2019-08-29T12:59:03.327476Z"
    }
   },
   "outputs": [],
   "source": [
    "# prices_fuel_tmp = \n",
    "# reg_list_tmp2.transpose().append(prices_mazut.transpose()).to_csv('prices_mazut_tmp2.csv')"
   ]
  },
  {
   "cell_type": "code",
   "execution_count": null,
   "metadata": {
    "ExecuteTime": {
     "end_time": "2019-08-29T13:02:36.261486Z",
     "start_time": "2019-08-29T13:02:36.258470Z"
    }
   },
   "outputs": [],
   "source": [
    "prices_mazut = prices_mazut.sort_index().transpose()"
   ]
  },
  {
   "cell_type": "code",
   "execution_count": null,
   "metadata": {
    "ExecuteTime": {
     "end_time": "2019-08-29T13:04:27.411111Z",
     "start_time": "2019-08-29T13:04:27.408614Z"
    }
   },
   "outputs": [],
   "source": [
    "# prices_mazut.to_csv('prices_mazut_tmp.csv')\n",
    "prices_mazut.shape"
   ]
  },
  {
   "cell_type": "code",
   "execution_count": null,
   "metadata": {
    "ExecuteTime": {
     "end_time": "2019-08-29T13:04:47.417142Z",
     "start_time": "2019-08-29T13:04:47.414266Z"
    }
   },
   "outputs": [],
   "source": [
    "# prices_fuel = prices_fuel.loc[:,prices_mazut.columns]\n",
    "prices_fuel.shape"
   ]
  },
  {
   "cell_type": "code",
   "execution_count": null,
   "metadata": {
    "ExecuteTime": {
     "end_time": "2019-08-29T13:05:16.631186Z",
     "start_time": "2019-08-29T13:05:16.624879Z"
    }
   },
   "outputs": [],
   "source": [
    "prices_fuel = prices_fuel.transpose().sort_index().transpose()"
   ]
  },
  {
   "cell_type": "code",
   "execution_count": null,
   "metadata": {
    "ExecuteTime": {
     "end_time": "2019-08-29T13:10:09.591089Z",
     "start_time": "2019-08-29T13:10:09.587890Z"
    }
   },
   "outputs": [],
   "source": [
    "prices_raw_neft = prices_raw_neft.set_index('Cубъект РФ').transpose()"
   ]
  },
  {
   "cell_type": "code",
   "execution_count": null,
   "metadata": {
    "ExecuteTime": {
     "end_time": "2019-08-29T13:10:45.261021Z",
     "start_time": "2019-08-29T13:10:45.254152Z"
    }
   },
   "outputs": [],
   "source": [
    "prices_raw_neft = prices_raw_neft.loc[:,prices_mazut.columns]"
   ]
  },
  {
   "cell_type": "code",
   "execution_count": null,
   "metadata": {},
   "outputs": [],
   "source": [
    "prices_mazut\n",
    "prices_fuel\n",
    "prices_raw_neft"
   ]
  },
  {
   "cell_type": "code",
   "execution_count": null,
   "metadata": {
    "ExecuteTime": {
     "end_time": "2019-08-30T06:33:12.908796Z",
     "start_time": "2019-08-30T06:33:12.903292Z"
    }
   },
   "outputs": [],
   "source": [
    "(0.715+0.735+0.75+0.765)/4"
   ]
  },
  {
   "cell_type": "code",
   "execution_count": null,
   "metadata": {
    "ExecuteTime": {
     "end_time": "2019-08-29T13:17:48.552463Z",
     "start_time": "2019-08-29T13:17:48.549975Z"
    }
   },
   "outputs": [],
   "source": [
    "# prices_fuel = prices_fuel/coef_liter_to_tonns\n",
    "coef_liter_to_tonns = (1*((0.715+0.735+0.75+0.765)/4)/1000)"
   ]
  },
  {
   "cell_type": "code",
   "execution_count": null,
   "metadata": {
    "ExecuteTime": {
     "end_time": "2019-08-29T13:24:20.567276Z",
     "start_time": "2019-08-29T13:24:20.563931Z"
    }
   },
   "outputs": [],
   "source": [
    "prices_fuel = prices_fuel.iloc[:-1,:]\n",
    "prices_fuel.shape"
   ]
  },
  {
   "cell_type": "code",
   "execution_count": null,
   "metadata": {
    "ExecuteTime": {
     "end_time": "2019-08-29T13:24:48.718889Z",
     "start_time": "2019-08-29T13:24:48.715867Z"
    }
   },
   "outputs": [],
   "source": [
    "# prices_mazut = prices_mazut.iloc[12:,:]\n",
    "prices_mazut = prices_mazut.iloc[:-1,:]\n",
    "prices_mazut.shape"
   ]
  },
  {
   "cell_type": "code",
   "execution_count": null,
   "metadata": {
    "ExecuteTime": {
     "end_time": "2019-08-29T13:25:44.797427Z",
     "start_time": "2019-08-29T13:25:44.794219Z"
    }
   },
   "outputs": [],
   "source": [
    "# prices_raw_neft = prices_raw_neft.iloc[13:,:]\n",
    "prices_raw_neft = prices_raw_neft.iloc[:-5,:]\n",
    "prices_raw_neft.shape"
   ]
  },
  {
   "cell_type": "code",
   "execution_count": null,
   "metadata": {
    "ExecuteTime": {
     "end_time": "2019-08-29T13:33:40.285375Z",
     "start_time": "2019-08-29T13:33:40.278897Z"
    }
   },
   "outputs": [],
   "source": [
    "prices_raw_neft = prices_raw_neft.apply(pd.to_numeric)"
   ]
  },
  {
   "cell_type": "code",
   "execution_count": null,
   "metadata": {
    "ExecuteTime": {
     "end_time": "2019-08-29T13:36:23.255527Z",
     "start_time": "2019-08-29T13:36:23.251139Z"
    }
   },
   "outputs": [],
   "source": [
    "crack_spread = ((2 * prices_fuel).add(prices_mazut)).sub(3 * prices_raw_neft)/3 \n",
    "# "
   ]
  },
  {
   "cell_type": "code",
   "execution_count": null,
   "metadata": {
    "ExecuteTime": {
     "end_time": "2019-08-29T13:37:14.098488Z",
     "start_time": "2019-08-29T13:37:14.092277Z"
    }
   },
   "outputs": [],
   "source": [
    "crack_spread.to_csv('crack_spread_only.csv')\n"
   ]
  },
  {
   "cell_type": "code",
   "execution_count": null,
   "metadata": {
    "ExecuteTime": {
     "end_time": "2019-08-29T13:36:27.963212Z",
     "start_time": "2019-08-29T13:36:27.702983Z"
    }
   },
   "outputs": [],
   "source": [
    "crack_spread.plot(legend=False);"
   ]
  },
  {
   "cell_type": "code",
   "execution_count": null,
   "metadata": {
    "ExecuteTime": {
     "end_time": "2019-08-29T13:48:58.097267Z",
     "start_time": "2019-08-29T13:48:58.088178Z"
    },
    "scrolled": false
   },
   "outputs": [],
   "source": [
    "# prices_fuel\n",
    "\n",
    "# crack_prices_df = pd.concat([prices_fuel, prices_mazut], axis=1)\n",
    "# crack_prices_df.shape\n",
    "\n",
    "# crack_prices_df = pd.concat([crack_prices_df, prices_raw_neft], axis=1)\n",
    "# crack_prices_df.shape\n",
    "\n",
    "crack_prices_df = pd.concat([crack_prices_df, crack_spread], axis=1)\n",
    "crack_prices_df.shape\n",
    "\n",
    "# , prices_raw_neft, crack_spread"
   ]
  },
  {
   "cell_type": "code",
   "execution_count": null,
   "metadata": {
    "ExecuteTime": {
     "end_time": "2019-08-29T13:44:57.033886Z",
     "start_time": "2019-08-29T13:44:57.028704Z"
    }
   },
   "outputs": [],
   "source": [
    "len(inds)"
   ]
  },
  {
   "cell_type": "code",
   "execution_count": null,
   "metadata": {
    "ExecuteTime": {
     "end_time": "2019-08-29T13:44:42.162028Z",
     "start_time": "2019-08-29T13:44:42.159040Z"
    }
   },
   "outputs": [],
   "source": [
    "# ['Цена тонны бензина' * 29] \n",
    "inds = np.append(['Цена тонны бензина'] * 29,  ['Цена тонны мазута'] * 29)\n",
    "inds = np.append(inds,  ['Цена тонны сырой нефти'] * 29)\n",
    "inds = np.append(inds,  ['Крэк-спред'] * 29 )"
   ]
  },
  {
   "cell_type": "code",
   "execution_count": null,
   "metadata": {
    "ExecuteTime": {
     "end_time": "2019-08-29T13:52:21.165962Z",
     "start_time": "2019-08-29T13:52:21.160175Z"
    }
   },
   "outputs": [],
   "source": [
    "crack_prices_df = crack_prices_df.transpose().set_index( [inds, crack_prices_df.columns.values]).swaplevel().sort_index().transpose()"
   ]
  },
  {
   "cell_type": "code",
   "execution_count": null,
   "metadata": {
    "ExecuteTime": {
     "end_time": "2019-08-29T13:52:42.532695Z",
     "start_time": "2019-08-29T13:52:42.523193Z"
    }
   },
   "outputs": [],
   "source": [
    "crack_prices_df.to_csv('crack_spread_df.csv')"
   ]
  },
  {
   "cell_type": "markdown",
   "metadata": {},
   "source": [
    "### Объемы собираемых налоговых платежей (НДПИ, акциз) в региональном разрезе"
   ]
  },
  {
   "cell_type": "markdown",
   "metadata": {},
   "source": [
    "- [НДПИ](https://ru.wikipedia.org/wiki/%D0%9D%D0%B0%D0%BB%D0%BE%D0%B3_%D0%BD%D0%B0_%D0%B4%D0%BE%D0%B1%D1%8B%D1%87%D1%83_%D0%BF%D0%BE%D0%BB%D0%B5%D0%B7%D0%BD%D1%8B%D1%85_%D0%B8%D1%81%D0%BA%D0%BE%D0%BF%D0%B0%D0%B5%D0%BC%D1%8B%D1%85_(%D0%A0%D0%BE%D1%81%D1%81%D0%B8%D1%8F)\n",
    "- [СТАВКИ АКЦИЗА НА НЕФТЬ И ГАЗОВЫЙ КОНДЕНСАТ ДЛЯ НЕФТЕГАЗОДОБЫВАЮЩИХ ПРЕДПРИЯТИЙ](https://zakonbase.ru/content/part/196311)\n",
    "\n",
    "-  [Об Оценке влияния налОгОвОгО маневра в нефтянОй сфере на пОтребительскую инфляцию](http://www.cbr.ru/Content/Document/File/59793/20181227.pdf)"
   ]
  },
  {
   "cell_type": "code",
   "execution_count": null,
   "metadata": {
    "ExecuteTime": {
     "end_time": "2019-08-23T14:01:19.532649Z",
     "start_time": "2019-08-23T14:01:13.924818Z"
    }
   },
   "outputs": [],
   "source": [
    "df_nakc = pd.DataFrame(columns=['Показатель', 'del' , 'Значение', 'К пред. году', 'del1', \n",
    "                               'Значение (фед.бюджет)', 'К пред. году (фед.бюджет)' , 'del2', 'Значение (суб.бюджет)', 'К пред. году (суб.бюджет)', 'del3', 'del4', 'del5'  ])\n",
    "for i in fns_list.iloc[:,0]:\n",
    "    data = pd.ExcelFile('/home/xenakas/Desktop/job_job/indexes/fns_data/'+ i)\n",
    "    df2 = data.parse('Раздел5') \n",
    "    df2.iloc[:,0] = df2.iloc[:,0].astype(str)\n",
    "    df_objj = df2[df2.iloc[:,0].str.contains('на нефтепродукты')]\n",
    "    df_objj.columns = ['Показатель', 'del' , 'Значение', 'К пред. году', 'del1', \n",
    "                               'Значение (фед.бюджет)', 'К пред. году (фед.бюджет)' , 'del2', 'Значение (суб.бюджет)', 'К пред. году (суб.бюджет)', 'del3', 'del4', 'del5'  ]\n",
    "    df_nakc = df_nakc.append(df_objj, sort = False)"
   ]
  },
  {
   "cell_type": "code",
   "execution_count": null,
   "metadata": {
    "ExecuteTime": {
     "end_time": "2019-08-23T14:13:38.374373Z",
     "start_time": "2019-08-23T14:13:38.353661Z"
    }
   },
   "outputs": [],
   "source": [
    "df_nakc = df_nakc.loc[:, ~df_nakc.columns.str.startswith('del')]"
   ]
  },
  {
   "cell_type": "code",
   "execution_count": null,
   "metadata": {
    "ExecuteTime": {
     "end_time": "2019-08-29T01:35:04.857940Z",
     "start_time": "2019-08-29T01:35:04.851335Z"
    }
   },
   "outputs": [],
   "source": [
    "df_nakc.to_csv('df_obj.csv')\n",
    "df_nakc = pd.read_csv('df_obj.csv')"
   ]
  },
  {
   "cell_type": "code",
   "execution_count": null,
   "metadata": {
    "ExecuteTime": {
     "end_time": "2019-08-29T01:35:54.757529Z",
     "start_time": "2019-08-29T01:35:54.749120Z"
    }
   },
   "outputs": [],
   "source": [
    "df_nakc = pd.concat([fns_dataframe, df_nakc], axis=1)"
   ]
  },
  {
   "cell_type": "code",
   "execution_count": null,
   "metadata": {
    "ExecuteTime": {
     "end_time": "2019-08-23T14:04:28.406476Z",
     "start_time": "2019-08-23T14:04:22.362771Z"
    }
   },
   "outputs": [],
   "source": [
    "df_nndpi = pd.DataFrame(columns=['Показатель', 'del' , 'Значение', 'К пред. году', 'del1', \n",
    "                               'Значение (фед.бюджет)', 'К пред. году (фед.бюджет)' , 'del2', 'Значение (суб.бюджет)', 'К пред. году (суб.бюджет)', 'del3', 'del4', 'del5'  ])\n",
    "for i in fns_list.iloc[:,0]:\n",
    "    data = pd.ExcelFile('/home/xenakas/Desktop/job_job/indexes/fns_data/'+ i)\n",
    "    df2 = data.parse('Раздел5') \n",
    "    df2.iloc[:,0] = df2.iloc[:,0].astype(str)\n",
    "    df_objj = df2[df2.iloc[:,0].str.contains('нефть')]\n",
    "    df_objj.columns = ['Показатель', 'del' , 'Значение', 'К пред. году', 'del1', \n",
    "                               'Значение (фед.бюджет)', 'К пред. году (фед.бюджет)' , 'del2', 'Значение (суб.бюджет)', 'К пред. году (суб.бюджет)', 'del3', 'del4', 'del5'  ]\n",
    "    df_nndpi = df_nndpi.append(df_objj, sort = False)"
   ]
  },
  {
   "cell_type": "code",
   "execution_count": null,
   "metadata": {
    "ExecuteTime": {
     "end_time": "2019-08-23T14:12:41.257470Z",
     "start_time": "2019-08-23T14:12:41.252984Z"
    }
   },
   "outputs": [],
   "source": [
    "df_nndpi = df_nndpi.loc[:, ~df_nndpi.columns.str.startswith('del')]"
   ]
  },
  {
   "cell_type": "code",
   "execution_count": null,
   "metadata": {
    "ExecuteTime": {
     "end_time": "2019-08-29T01:37:15.575667Z",
     "start_time": "2019-08-29T01:37:15.563308Z"
    }
   },
   "outputs": [],
   "source": [
    "df_nndpi.to_csv('df_obj.csv')\n",
    "df_nndpi = pd.read_csv('df_obj.csv')"
   ]
  },
  {
   "cell_type": "code",
   "execution_count": null,
   "metadata": {
    "ExecuteTime": {
     "end_time": "2019-08-29T01:39:11.003450Z",
     "start_time": "2019-08-29T01:39:10.996877Z"
    }
   },
   "outputs": [],
   "source": [
    "# df_nakc = \n",
    "df_nakc = pd.concat([df_nakc, df_nndpi], axis=1)"
   ]
  },
  {
   "cell_type": "code",
   "execution_count": null,
   "metadata": {
    "ExecuteTime": {
     "end_time": "2019-08-29T02:21:36.279544Z",
     "start_time": "2019-08-29T02:21:29.902226Z"
    }
   },
   "outputs": [],
   "source": [
    "df_ndpi = pd.DataFrame(columns=['Показатель', 'del' , 'Значение', 'К пред. году', 'del1', \n",
    "                               'Значение (фед.бюджет)', 'К пред. году (фед.бюджет)' , 'del2', 'Значение (суб.бюджет)', 'К пред. году (суб.бюджет)', 'del3', 'del4', 'del5'  ])\n",
    "for i in fns_list.iloc[:,0]:\n",
    "    data = pd.ExcelFile('/home/xenakas/Desktop/job_job/indexes/fns_data/'+ i)\n",
    "    df2 = data.parse('Раздел5') \n",
    "    df2.iloc[:,0] = df2.iloc[:,0].astype(str)\n",
    "    df_objj = df2[df2.iloc[:,0].str.contains('Налог на добычу полезных ископаемых')]\n",
    "    df_objj.columns = ['Показатель', 'del' , 'Значение', 'К пред. году', 'del1', \n",
    "                               'Значение (фед.бюджет)', 'К пред. году (фед.бюджет)' , 'del2', 'Значение (суб.бюджет)', 'К пред. году (суб.бюджет)', 'del3', 'del4', 'del5'  ]\n",
    "    df_ndpi = df_ndpi.append(df_objj, sort = False)"
   ]
  },
  {
   "cell_type": "code",
   "execution_count": null,
   "metadata": {
    "ExecuteTime": {
     "end_time": "2019-08-29T02:21:37.210347Z",
     "start_time": "2019-08-29T02:21:37.189507Z"
    }
   },
   "outputs": [],
   "source": [
    "df_ndpi = df_ndpi.loc[:, ~df_ndpi.columns.str.startswith('del')]"
   ]
  },
  {
   "cell_type": "code",
   "execution_count": null,
   "metadata": {
    "ExecuteTime": {
     "end_time": "2019-08-29T02:21:47.983656Z",
     "start_time": "2019-08-29T02:21:47.975480Z"
    }
   },
   "outputs": [],
   "source": [
    "df_ndpi.to_csv('df_obj.csv')\n",
    "df_ndpi = pd.read_csv('df_obj.csv')"
   ]
  },
  {
   "cell_type": "code",
   "execution_count": null,
   "metadata": {
    "ExecuteTime": {
     "end_time": "2019-08-29T01:39:50.703026Z",
     "start_time": "2019-08-29T01:39:50.678759Z"
    }
   },
   "outputs": [],
   "source": [
    "# df_nakc = \n",
    "df_nakc = pd.concat([df_nakc, df_ndpi], axis=1)\n",
    "\n",
    "# df_nakc"
   ]
  },
  {
   "cell_type": "markdown",
   "metadata": {},
   "source": [
    "### Задолженность по налоговым платежам (НДПИ, акциз) в региональном разрезе"
   ]
  },
  {
   "cell_type": "code",
   "execution_count": null,
   "metadata": {
    "ExecuteTime": {
     "end_time": "2019-08-23T14:56:20.838776Z",
     "start_time": "2019-08-23T14:56:14.364737Z"
    }
   },
   "outputs": [],
   "source": [
    "df_zadndpi = pd.DataFrame(columns=['Показатель', 'del' , 'Значение', ' del1', 'del2', 'del3', 'del4', \n",
    "                               'Изменение за год', 'del5' , 'del6', 'del7', 'del8' ])\n",
    "for i in fns_list.iloc[:,0]:\n",
    "    data = pd.ExcelFile('/home/xenakas/Desktop/job_job/indexes/fns_data/'+ i)\n",
    "    \n",
    "    df2 = data.parse('Раздел8') \n",
    "    \n",
    "    if df2.shape[1] == 12:\n",
    "        df2.iloc[:,0] = df2.iloc[:,0].astype(str)\n",
    "        df_objj = df2[df2.iloc[:,0].str.contains('Налог на добычу полезных ископаемых')]\n",
    "        df_objj.columns = ['Показатель', 'del' , 'Значение', ' del1', 'del2', 'del3', 'del4', \n",
    "                               'Изменение за год', 'del5' , 'del6', 'del7', 'del8' ]\n",
    "    else: \n",
    "        df2 = data.parse('Раздел7')\n",
    "        df2.iloc[:,0] = df2.iloc[:,0].astype(str)\n",
    "        df_objj = df2[df2.iloc[:,0].str.contains('Налог на добычу полезных ископаемых')]\n",
    "        df_objj.columns = ['Показатель', 'del' , 'Значение', ' del1', 'del2', 'del3',  \n",
    "                               'Изменение за год', 'del5' , 'del6', 'del7' ]\n",
    "        \n",
    "    \n",
    "    df_zadndpi = df_zadndpi.append(df_objj, sort = False)\n",
    "        \n",
    "        \n",
    "        \n"
   ]
  },
  {
   "cell_type": "code",
   "execution_count": null,
   "metadata": {
    "ExecuteTime": {
     "end_time": "2019-08-29T01:40:53.037798Z",
     "start_time": "2019-08-29T01:40:53.025569Z"
    }
   },
   "outputs": [],
   "source": [
    "df_zadndpi = df_zadndpi.loc[:, ~df_zadndpi.columns.str.startswith(' del')]"
   ]
  },
  {
   "cell_type": "code",
   "execution_count": null,
   "metadata": {
    "ExecuteTime": {
     "end_time": "2019-08-29T01:41:24.468526Z",
     "start_time": "2019-08-29T01:41:24.447791Z"
    }
   },
   "outputs": [],
   "source": [
    "df_zadndpi.to_csv('df_obj.csv')\n",
    "df_zadndpi = pd.read_csv('df_obj.csv')\n",
    "\n",
    "# df_nakc = \n",
    "df_nakc = pd.concat([df_nakc, df_zadndpi], axis=1)\n",
    "\n",
    "# df_nakc"
   ]
  },
  {
   "cell_type": "code",
   "execution_count": null,
   "metadata": {
    "ExecuteTime": {
     "end_time": "2019-08-23T14:59:04.840289Z",
     "start_time": "2019-08-23T14:58:58.047942Z"
    }
   },
   "outputs": [],
   "source": [
    "df_zadakc = pd.DataFrame(columns=['Показатель', 'del' , 'Значение', ' del1', 'del2', 'del3', 'del4', \n",
    "                               'Изменение за год', 'del5' , 'del6', 'del7', 'del8' ])\n",
    "for i in fns_list.iloc[:,0]:\n",
    "    data = pd.ExcelFile('/home/xenakas/Desktop/job_job/indexes/fns_data/'+ i)\n",
    "    \n",
    "    df2 = data.parse('Раздел8') \n",
    "    \n",
    "    if df2.shape[1] == 12:\n",
    "        df2.iloc[:,0] = df2.iloc[:,0].astype(str)\n",
    "        df_objj = df2[df2.iloc[:,0].str.contains('на нефтепродукты')]\n",
    "        df_objj.columns = ['Показатель', 'del' , 'Значение', ' del1', 'del2', 'del3', 'del4', \n",
    "                               'Изменение за год', 'del5' , 'del6', 'del7', 'del8' ]\n",
    "    else: \n",
    "        df2 = data.parse('Раздел7')\n",
    "        df2.iloc[:,0] = df2.iloc[:,0].astype(str)\n",
    "        df_objj = df2[df2.iloc[:,0].str.contains('на нефтепродукты')]\n",
    "        df_objj.columns = ['Показатель', 'del' , 'Значение', ' del1', 'del2', 'del3',  \n",
    "                               'Изменение за год', 'del5' , 'del6', 'del7' ]\n",
    "        \n",
    "    \n",
    "    df_zadakc = df_zadakc.append(df_objj, sort = False)\n",
    "        \n",
    "        \n",
    "        \n"
   ]
  },
  {
   "cell_type": "code",
   "execution_count": null,
   "metadata": {
    "ExecuteTime": {
     "end_time": "2019-08-23T14:59:06.451078Z",
     "start_time": "2019-08-23T14:59:06.423675Z"
    }
   },
   "outputs": [],
   "source": [
    "df_zadakc = df_zadakc.loc[:, ~df_zadakc.columns.str.startswith('del')]"
   ]
  },
  {
   "cell_type": "code",
   "execution_count": null,
   "metadata": {
    "ExecuteTime": {
     "end_time": "2019-08-29T01:42:04.311220Z",
     "start_time": "2019-08-29T01:42:04.301511Z"
    }
   },
   "outputs": [],
   "source": [
    "df_zadakc.to_csv('df_obj.csv')\n",
    "df_zadakc = pd.read_csv('df_obj.csv')\n",
    "\n",
    "# df_nakc = \n",
    "df_nakc = pd.concat([df_nakc, df_zadakc], axis=1)\n",
    "\n",
    "# df_nakc"
   ]
  },
  {
   "cell_type": "code",
   "execution_count": null,
   "metadata": {
    "ExecuteTime": {
     "end_time": "2019-08-23T15:06:27.826546Z",
     "start_time": "2019-08-23T15:06:21.738354Z"
    }
   },
   "outputs": [],
   "source": [
    "df_zadnapndpi = pd.DataFrame(columns=['Показатель', 'del' , 'Значение', 'Удельный вес в общей сумме задолженности', 'del1', 'del2', 'del3', 'del4', \n",
    "                                'del5' , 'del6', 'del7', 'del8' ])\n",
    "for i in fns_list.iloc[:,0]:\n",
    "    data = pd.ExcelFile('/home/xenakas/Desktop/job_job/indexes/fns_data/'+ i)\n",
    "    \n",
    "    df2 = data.parse('Раздел9') \n",
    "    \n",
    "    if df2.shape[1] == 12:\n",
    "        df2.iloc[:,0] = df2.iloc[:,0].astype(str)\n",
    "        df_objj = df2[df2.iloc[:,0].str.contains('сырой')]\n",
    "        df_objj.columns = ['Показатель', 'del' , 'Значение', 'Удельный вес в общей сумме задолженности', 'del1', 'del2', 'del3', 'del4', \n",
    "                                'del5' , 'del6', 'del7', 'del8' ]\n",
    "    else: \n",
    "        df2 = data.parse('Раздел8')\n",
    "        df2.iloc[:,0] = df2.iloc[:,0].astype(str)\n",
    "        df_objj = df2[df2.iloc[:,0].str.contains('сырой')]\n",
    "        df_objj.columns = ['Показатель', 'del' , 'Значение', 'Удельный вес в общей сумме задолженности', 'del1', 'del2', 'del3', 'del4', \n",
    "                                'del5' , 'del6']\n",
    "        \n",
    "    \n",
    "    df_zadnapndpi = df_zadnapndpi.append(df_objj, sort = False)\n",
    "        \n",
    "        \n",
    "        \n"
   ]
  },
  {
   "cell_type": "code",
   "execution_count": null,
   "metadata": {
    "ExecuteTime": {
     "end_time": "2019-08-23T15:06:28.219586Z",
     "start_time": "2019-08-23T15:06:28.206026Z"
    }
   },
   "outputs": [],
   "source": [
    "df_zadnapndpi = df_zadnapndpi.loc[:, ~df_zadnapndpi.columns.str.startswith('del')]"
   ]
  },
  {
   "cell_type": "code",
   "execution_count": null,
   "metadata": {
    "ExecuteTime": {
     "end_time": "2019-08-29T01:43:20.829562Z",
     "start_time": "2019-08-29T01:43:20.819736Z"
    }
   },
   "outputs": [],
   "source": [
    "df_zadnapndpi.to_csv('df_obj.csv')\n",
    "df_zadnapndpi = pd.read_csv('df_obj.csv')\n",
    "\n",
    "# df_nakc = \n",
    "df_nakc = pd.concat([df_nakc, df_zadnapndpi], axis=1)\n",
    "\n",
    "# df_nakc"
   ]
  },
  {
   "cell_type": "markdown",
   "metadata": {},
   "source": [
    "## Аналитические показатели для рынка газа"
   ]
  },
  {
   "cell_type": "markdown",
   "metadata": {},
   "source": [
    "### Отношение между объемом запасов и объемом добычи в региональном разрезе"
   ]
  },
  {
   "cell_type": "markdown",
   "metadata": {},
   "source": [
    "- [Use of Statistical Indicators to Measure Crude Oil and Natural Gas Reserves and Production ](http://www.upg-bulletin-se.ro/archive/2014-1/5.Lazar_Lazar.pdf)\n",
    "\n",
    "-  [Воспроизводство минерально-сырьевой базы нефтегазового комплекса России](https://cyberleninka.ru/article/v/vosproizvodstvo-mineralno-syrievoy-bazy-neftegazovogo-kompleksa-rossii)\n"
   ]
  },
  {
   "cell_type": "code",
   "execution_count": null,
   "metadata": {
    "ExecuteTime": {
     "end_time": "2019-08-23T15:41:11.695737Z",
     "start_time": "2019-08-23T15:41:06.162149Z"
    }
   },
   "outputs": [],
   "source": [
    "df_gorgas = pd.DataFrame(columns=['Показатель', 'del' , 'Значение', 'К пред. году'])\n",
    "for i in fns_list.iloc[:,0]:\n",
    "    data = pd.ExcelFile('/home/xenakas/Desktop/job_job/indexes/fns_data/'+ i)\n",
    "    df2 = data.parse('Раздел2') \n",
    "    df2.iloc[:,0] = df2.iloc[:,0].astype(str)\n",
    "    df_objj = df2[df2.iloc[:,0].str.contains('Объем добычи природного горючего газа')]\n",
    "    df_objj.columns = ['Показатель', 'del' , 'Значение', 'К пред. году']\n",
    "    df_gorgas = df_gorgas.append(df_objj, sort = False)"
   ]
  },
  {
   "cell_type": "code",
   "execution_count": null,
   "metadata": {
    "ExecuteTime": {
     "end_time": "2019-08-23T15:41:23.202656Z",
     "start_time": "2019-08-23T15:41:23.187582Z"
    }
   },
   "outputs": [],
   "source": [
    "df_gorgas = df_gorgas.loc[:, ~df_gorgas.columns.str.startswith('del')]"
   ]
  },
  {
   "cell_type": "code",
   "execution_count": null,
   "metadata": {
    "ExecuteTime": {
     "end_time": "2019-08-26T10:55:09.454115Z",
     "start_time": "2019-08-26T10:55:09.448460Z"
    }
   },
   "outputs": [],
   "source": [
    "df_gorgas.to_csv('df_gorgas.csv')\n",
    "df_gorgas = pd.read_csv('df_gorgas.csv')"
   ]
  },
  {
   "cell_type": "code",
   "execution_count": null,
   "metadata": {
    "ExecuteTime": {
     "end_time": "2019-08-26T10:55:40.839762Z",
     "start_time": "2019-08-26T10:55:40.836167Z"
    }
   },
   "outputs": [],
   "source": [
    "all_data= pd.read_csv('all_data.csv')"
   ]
  },
  {
   "cell_type": "code",
   "execution_count": null,
   "metadata": {
    "ExecuteTime": {
     "end_time": "2019-08-26T10:56:25.068817Z",
     "start_time": "2019-08-26T10:56:25.058400Z"
    }
   },
   "outputs": [],
   "source": [
    "all_data = pd.concat([all_data, df_gorgas], axis=1)"
   ]
  },
  {
   "cell_type": "code",
   "execution_count": null,
   "metadata": {
    "ExecuteTime": {
     "end_time": "2019-08-23T15:42:29.002325Z",
     "start_time": "2019-08-23T15:42:23.140841Z"
    }
   },
   "outputs": [],
   "source": [
    "df_condgas = pd.DataFrame(columns=['Показатель', 'del' , 'Значение', 'К пред. году'])\n",
    "for i in fns_list.iloc[:,0]:\n",
    "    data = pd.ExcelFile('/home/xenakas/Desktop/job_job/indexes/fns_data/'+ i)\n",
    "    df2 = data.parse('Раздел2') \n",
    "    df2.iloc[:,0] = df2.iloc[:,0].astype(str)\n",
    "    df_objj = df2[df2.iloc[:,0].str.contains('Объем добычи газового конденсата')]\n",
    "    df_objj.columns = ['Показатель', 'del' , 'Значение', 'К пред. году']\n",
    "    df_condgas = df_condgas.append(df_objj, sort = False)"
   ]
  },
  {
   "cell_type": "code",
   "execution_count": null,
   "metadata": {
    "ExecuteTime": {
     "end_time": "2019-08-23T15:42:47.578916Z",
     "start_time": "2019-08-23T15:42:47.550816Z"
    }
   },
   "outputs": [],
   "source": [
    "df_condgas = df_condgas.loc[:, ~df_condgas.columns.str.startswith('del')]"
   ]
  },
  {
   "cell_type": "code",
   "execution_count": null,
   "metadata": {
    "ExecuteTime": {
     "end_time": "2019-08-26T10:57:07.316515Z",
     "start_time": "2019-08-26T10:57:07.298707Z"
    }
   },
   "outputs": [],
   "source": [
    "df_condgas.to_csv('df_condgas.csv')\n",
    "df_condgas = pd.read_csv('df_condgas.csv')"
   ]
  },
  {
   "cell_type": "code",
   "execution_count": null,
   "metadata": {
    "ExecuteTime": {
     "end_time": "2019-08-26T10:57:35.623367Z",
     "start_time": "2019-08-26T10:57:35.618500Z"
    }
   },
   "outputs": [],
   "source": [
    "all_data = pd.concat([all_data, df_condgas], axis=1)"
   ]
  },
  {
   "cell_type": "code",
   "execution_count": null,
   "metadata": {
    "ExecuteTime": {
     "end_time": "2019-08-26T10:59:19.583916Z",
     "start_time": "2019-08-26T10:59:19.577990Z"
    }
   },
   "outputs": [],
   "source": [
    "all_data.to_csv('all_data.csv')"
   ]
  },
  {
   "cell_type": "code",
   "execution_count": null,
   "metadata": {
    "ExecuteTime": {
     "end_time": "2019-08-26T11:02:27.986119Z",
     "start_time": "2019-08-26T11:02:27.981534Z"
    }
   },
   "outputs": [],
   "source": [
    "all_data = pd.read_csv('all_data.csv', index_col=0)"
   ]
  },
  {
   "cell_type": "code",
   "execution_count": null,
   "metadata": {
    "ExecuteTime": {
     "end_time": "2019-08-26T14:07:29.420086Z",
     "start_time": "2019-08-26T14:07:29.417377Z"
    }
   },
   "outputs": [],
   "source": [
    "df_zapasi_gaza = all_data_2017[all_data_2017.iloc[:,6]!=0 ]"
   ]
  },
  {
   "cell_type": "code",
   "execution_count": null,
   "metadata": {
    "ExecuteTime": {
     "end_time": "2019-08-26T14:10:57.126757Z",
     "start_time": "2019-08-26T14:10:57.093383Z"
    }
   },
   "outputs": [],
   "source": [
    "df_zapasi_gaza['Кратность запасов газа добыче'] = df_zapasi_gaza.iloc[:,6] * 1000000/df_zapasi_gaza.iloc[:,3]"
   ]
  },
  {
   "cell_type": "code",
   "execution_count": null,
   "metadata": {
    "ExecuteTime": {
     "end_time": "2019-08-26T14:15:54.879883Z",
     "start_time": "2019-08-26T14:15:54.850146Z"
    }
   },
   "outputs": [],
   "source": [
    "df_zapasi_gaza['Кратность запасов газа добыче'] = [Decimal(round(i,2)) for i in df_zapasi_gaza.iloc[:,-1] ]"
   ]
  },
  {
   "cell_type": "code",
   "execution_count": null,
   "metadata": {
    "ExecuteTime": {
     "end_time": "2019-08-26T14:27:01.458884Z",
     "start_time": "2019-08-26T14:27:01.455638Z"
    }
   },
   "outputs": [],
   "source": [
    "df_zapasi_gaza.to_csv('df_zapasi_gaza.csv')"
   ]
  },
  {
   "cell_type": "code",
   "execution_count": null,
   "metadata": {
    "ExecuteTime": {
     "end_time": "2019-09-11T08:05:04.471369Z",
     "start_time": "2019-09-11T08:05:04.466454Z"
    }
   },
   "outputs": [],
   "source": [
    "# df_zapasi_gaza[df_zapasi_gaza.iloc[:,-1] <= 100]"
   ]
  },
  {
   "cell_type": "markdown",
   "metadata": {},
   "source": [
    "### Объемы собираемых налоговых платежей (НДПИ) в региональном разрезе"
   ]
  },
  {
   "cell_type": "markdown",
   "metadata": {},
   "source": [
    "- [О ставках акциза на природный газ\n",
    "](http://pravo.gov.ru/proxy/ips/?docbody=&nd=102057751&rdk=1)"
   ]
  },
  {
   "cell_type": "markdown",
   "metadata": {},
   "source": [
    "Акциз не  уплачивается организациями, передающими   или\n",
    "реализующими на  территории  Российской  Федерации  природный  газ,\n",
    "приобретенный   и  реализованный  по  государственным  регулируемым\n",
    "оптовым ценам,  акциз на который уже  был  уплачен  поставщиками  в\n",
    "установленном    порядке    исходя    из   налогооблагаемой   базы,\n",
    "предусмотренной в абзаце втором настоящего пункта."
   ]
  },
  {
   "cell_type": "code",
   "execution_count": null,
   "metadata": {
    "ExecuteTime": {
     "end_time": "2019-08-23T23:26:10.515218Z",
     "start_time": "2019-08-23T23:26:00.923919Z"
    }
   },
   "outputs": [],
   "source": [
    "df_nalgasgor = pd.DataFrame(columns=['Показатель', 'del' , 'Значение', 'К пред. году', 'del1', \n",
    "                               'Значение (фед.бюджет)', 'К пред. году (фед.бюджет)' , 'del2', 'Значение (суб.бюджет)', 'К пред. году (суб.бюджет)', 'del3', 'del4', 'del5'  ])\n",
    "for i in fns_list.iloc[:,0]:\n",
    "    data = pd.ExcelFile('/home/xenakas/Desktop/job_job/indexes/fns_data/'+ i)\n",
    "    df2 = data.parse('Раздел5') \n",
    "    df2.iloc[:,0] = df2.iloc[:,0].astype(str)\n",
    "    df_objj = df2[df2.iloc[:,0].str.contains('газ горючий')]\n",
    "    df_objj.columns = ['Показатель', 'del' , 'Значение', 'К пред. году', 'del1', \n",
    "                               'Значение (фед.бюджет)', 'К пред. году (фед.бюджет)' , 'del2', 'Значение (суб.бюджет)', 'К пред. году (суб.бюджет)', 'del3', 'del4', 'del5'  ]\n",
    "    df_nalgasgor = df_nalgasgor.append(df_objj, sort = False)"
   ]
  },
  {
   "cell_type": "code",
   "execution_count": null,
   "metadata": {
    "ExecuteTime": {
     "end_time": "2019-08-23T23:27:21.845430Z",
     "start_time": "2019-08-23T23:27:21.757223Z"
    }
   },
   "outputs": [],
   "source": [
    "df_nalgasgor = df_nalgasgor.loc[:, ~df_nalgasgor.columns.str.startswith('del')]"
   ]
  },
  {
   "cell_type": "code",
   "execution_count": null,
   "metadata": {
    "ExecuteTime": {
     "end_time": "2019-08-29T01:43:56.401865Z",
     "start_time": "2019-08-29T01:43:56.387851Z"
    }
   },
   "outputs": [],
   "source": [
    "df_nalgasgor.to_csv('df_obj.csv')\n",
    "df_nalgasgor = pd.read_csv('df_obj.csv')\n",
    "\n",
    "# df_nakc = \n",
    "df_nakc = pd.concat([df_nakc, df_nalgasgor], axis=1)\n",
    "\n",
    "# df_nakc"
   ]
  },
  {
   "cell_type": "code",
   "execution_count": null,
   "metadata": {
    "ExecuteTime": {
     "end_time": "2019-08-23T23:29:36.562839Z",
     "start_time": "2019-08-23T23:29:28.609040Z"
    }
   },
   "outputs": [],
   "source": [
    "df_nalgascond = pd.DataFrame(columns=['Показатель', 'del' , 'Значение', 'К пред. году', 'del1', \n",
    "                               'Значение (фед.бюджет)', 'К пред. году (фед.бюджет)' , 'del2', 'Значение (суб.бюджет)', 'К пред. году (суб.бюджет)', 'del3', 'del4', 'del5'  ])\n",
    "for i in fns_list.iloc[:,0]:\n",
    "    data = pd.ExcelFile('/home/xenakas/Desktop/job_job/indexes/fns_data/'+ i)\n",
    "    df2 = data.parse('Раздел5') \n",
    "    df2.iloc[:,0] = df2.iloc[:,0].astype(str)\n",
    "    df_objj = df2[df2.iloc[:,0].str.contains('газовый конденсат')]\n",
    "    df_objj.columns = ['Показатель', 'del' , 'Значение', 'К пред. году', 'del1', \n",
    "                               'Значение (фед.бюджет)', 'К пред. году (фед.бюджет)' , 'del2', 'Значение (суб.бюджет)', 'К пред. году (суб.бюджет)', 'del3', 'del4', 'del5'  ]\n",
    "    df_nalgascond = df_nalgascond.append(df_objj, sort = False)"
   ]
  },
  {
   "cell_type": "code",
   "execution_count": null,
   "metadata": {
    "ExecuteTime": {
     "end_time": "2019-08-23T23:29:37.097824Z",
     "start_time": "2019-08-23T23:29:37.058044Z"
    }
   },
   "outputs": [],
   "source": [
    "df_nalgascond = df_nalgascond.loc[:, ~df_nalgascond.columns.str.startswith('del')]"
   ]
  },
  {
   "cell_type": "code",
   "execution_count": null,
   "metadata": {
    "ExecuteTime": {
     "end_time": "2019-08-29T01:44:17.726207Z",
     "start_time": "2019-08-29T01:44:17.715422Z"
    }
   },
   "outputs": [],
   "source": [
    "df_nalgascond.to_csv('df_obj.csv')\n",
    "df_nalgascond = pd.read_csv('df_obj.csv')\n",
    "\n",
    "# df_nakc = \n",
    "df_nakc = pd.concat([df_nakc, df_nalgascond], axis=1)\n",
    "\n",
    "# df_nakc"
   ]
  },
  {
   "cell_type": "code",
   "execution_count": null,
   "metadata": {
    "ExecuteTime": {
     "end_time": "2019-08-29T02:18:24.029599Z",
     "start_time": "2019-08-29T02:18:23.970913Z"
    }
   },
   "outputs": [],
   "source": [
    "df_nakc"
   ]
  },
  {
   "cell_type": "code",
   "execution_count": null,
   "metadata": {
    "ExecuteTime": {
     "end_time": "2019-08-29T01:45:55.785640Z",
     "start_time": "2019-08-29T01:45:55.780744Z"
    }
   },
   "outputs": [],
   "source": [
    "df_nakc = df_nakc.set_index(['Субъект федерации', 'Дата'])"
   ]
  },
  {
   "cell_type": "code",
   "execution_count": null,
   "metadata": {},
   "outputs": [],
   "source": [
    "df_nakc"
   ]
  },
  {
   "cell_type": "code",
   "execution_count": null,
   "metadata": {
    "ExecuteTime": {
     "end_time": "2019-08-29T02:03:44.217687Z",
     "start_time": "2019-08-29T02:03:44.213007Z"
    }
   },
   "outputs": [],
   "source": [
    "am = ['Акцизы на нефтепродукты', 'НДПИ (нефть)', 'НДПИ', 'Задолженность по НДПИ', 'Задолженность по акцизу на нефтепродукты', 'Задолженность по налогам и сборам в добыче сырой нефти и природного газа', 'НДПИ (газ горючий природный)', 'НДПИ (газовый конденсат )'   ]\n",
    "b = [8, 8,  8, 4, 5, 4, 8, 8]"
   ]
  },
  {
   "cell_type": "code",
   "execution_count": null,
   "metadata": {
    "ExecuteTime": {
     "end_time": "2019-08-29T02:03:35.908515Z",
     "start_time": "2019-08-29T02:03:35.905834Z"
    }
   },
   "outputs": [],
   "source": [
    "a"
   ]
  },
  {
   "cell_type": "code",
   "execution_count": null,
   "metadata": {
    "ExecuteTime": {
     "end_time": "2019-08-29T02:03:51.223131Z",
     "start_time": "2019-08-29T02:03:51.220304Z"
    }
   },
   "outputs": [],
   "source": [
    "abc = [ ]\n",
    "j=0\n",
    "for i in range(len(b)):\n",
    "    for a in range(b[i]):\n",
    "        abc =  np.append(abc, am[j])\n",
    "    j+=1\n"
   ]
  },
  {
   "cell_type": "code",
   "execution_count": null,
   "metadata": {
    "ExecuteTime": {
     "end_time": "2019-08-29T02:05:17.926534Z",
     "start_time": "2019-08-29T02:05:17.923763Z"
    }
   },
   "outputs": [],
   "source": [
    "am"
   ]
  },
  {
   "cell_type": "code",
   "execution_count": null,
   "metadata": {
    "ExecuteTime": {
     "end_time": "2019-08-29T02:23:31.432069Z",
     "start_time": "2019-08-29T02:23:31.427736Z"
    }
   },
   "outputs": [],
   "source": [
    "len(abc)"
   ]
  },
  {
   "cell_type": "code",
   "execution_count": null,
   "metadata": {
    "ExecuteTime": {
     "end_time": "2019-08-29T02:10:03.292814Z",
     "start_time": "2019-08-29T02:10:03.289476Z"
    }
   },
   "outputs": [],
   "source": [
    "len(abc)"
   ]
  },
  {
   "cell_type": "code",
   "execution_count": null,
   "metadata": {
    "ExecuteTime": {
     "end_time": "2019-08-29T02:14:15.393800Z",
     "start_time": "2019-08-29T02:14:15.382028Z"
    }
   },
   "outputs": [],
   "source": [
    "df_nakc.to_csv('ddc.csv')"
   ]
  },
  {
   "cell_type": "code",
   "execution_count": null,
   "metadata": {
    "ExecuteTime": {
     "end_time": "2019-08-29T02:10:22.322126Z",
     "start_time": "2019-08-29T02:10:22.271095Z"
    }
   },
   "outputs": [],
   "source": [
    "ddd = df_nakc.copy()\n",
    "ddd.iloc[0,:53] = abc\n"
   ]
  },
  {
   "cell_type": "code",
   "execution_count": null,
   "metadata": {
    "ExecuteTime": {
     "end_time": "2019-08-29T02:10:39.818855Z",
     "start_time": "2019-08-29T02:10:39.799516Z"
    }
   },
   "outputs": [],
   "source": [
    "ddd.to_csv('ddd.csv')"
   ]
  },
  {
   "cell_type": "code",
   "execution_count": null,
   "metadata": {
    "ExecuteTime": {
     "end_time": "2019-08-29T02:04:22.130365Z",
     "start_time": "2019-08-29T02:04:22.122556Z"
    }
   },
   "outputs": [],
   "source": [
    "df_nakc.shape"
   ]
  },
  {
   "cell_type": "code",
   "execution_count": null,
   "metadata": {
    "ExecuteTime": {
     "end_time": "2019-08-29T02:04:10.935566Z",
     "start_time": "2019-08-29T02:04:10.932428Z"
    }
   },
   "outputs": [],
   "source": [
    "len(abc)"
   ]
  },
  {
   "cell_type": "code",
   "execution_count": null,
   "metadata": {
    "ExecuteTime": {
     "end_time": "2019-08-29T02:24:57.391691Z",
     "start_time": "2019-08-29T02:24:57.382343Z"
    }
   },
   "outputs": [],
   "source": [
    "ddc2 = pd.read_csv('ddc2.csv')"
   ]
  },
  {
   "cell_type": "code",
   "execution_count": null,
   "metadata": {
    "ExecuteTime": {
     "end_time": "2019-08-29T02:26:08.335458Z",
     "start_time": "2019-08-29T02:26:08.322753Z"
    }
   },
   "outputs": [],
   "source": [
    "ddc2 = ddc2.set_index(['Субъект федерации', 'Дата'])"
   ]
  },
  {
   "cell_type": "code",
   "execution_count": null,
   "metadata": {
    "ExecuteTime": {
     "end_time": "2019-08-29T02:27:39.024659Z",
     "start_time": "2019-08-29T02:27:39.017346Z"
    }
   },
   "outputs": [],
   "source": [
    "asas = ddc2.transpose().index"
   ]
  },
  {
   "cell_type": "code",
   "execution_count": null,
   "metadata": {
    "ExecuteTime": {
     "end_time": "2019-08-29T02:28:46.787392Z",
     "start_time": "2019-08-29T02:28:46.783831Z"
    }
   },
   "outputs": [],
   "source": [
    "all_taxes_df = ddc2.transpose().set_index([abc, asas])"
   ]
  },
  {
   "cell_type": "code",
   "execution_count": null,
   "metadata": {
    "ExecuteTime": {
     "end_time": "2019-08-29T02:30:09.167271Z",
     "start_time": "2019-08-29T02:30:09.162674Z"
    }
   },
   "outputs": [],
   "source": [
    "all_taxes_df = all_taxes_df.transpose()"
   ]
  },
  {
   "cell_type": "code",
   "execution_count": null,
   "metadata": {
    "ExecuteTime": {
     "end_time": "2019-08-29T02:30:57.744371Z",
     "start_time": "2019-08-29T02:30:57.737883Z"
    }
   },
   "outputs": [],
   "source": [
    "all_taxes_df.columns."
   ]
  },
  {
   "cell_type": "code",
   "execution_count": null,
   "metadata": {
    "ExecuteTime": {
     "end_time": "2019-08-29T02:33:50.729846Z",
     "start_time": "2019-08-29T02:33:50.723963Z"
    }
   },
   "outputs": [],
   "source": [
    "all_taxes_df.columns.get_level_values(1)"
   ]
  },
  {
   "cell_type": "code",
   "execution_count": null,
   "metadata": {
    "ExecuteTime": {
     "end_time": "2019-08-29T02:34:22.006926Z",
     "start_time": "2019-08-29T02:34:21.946175Z"
    }
   },
   "outputs": [],
   "source": [
    "all_taxes_df"
   ]
  },
  {
   "cell_type": "code",
   "execution_count": null,
   "metadata": {
    "ExecuteTime": {
     "end_time": "2019-08-29T02:34:55.924676Z",
     "start_time": "2019-08-29T02:34:55.920916Z"
    }
   },
   "outputs": [],
   "source": [
    "all_taxes_df = all_taxes_df.loc[:, ~all_taxes_df.columns.get_level_values(1).str.startswith(' del')]"
   ]
  },
  {
   "cell_type": "code",
   "execution_count": null,
   "metadata": {
    "ExecuteTime": {
     "end_time": "2019-08-29T02:36:28.964151Z",
     "start_time": "2019-08-29T02:36:28.960297Z"
    }
   },
   "outputs": [],
   "source": [
    "all_taxes_df = all_taxes_df.loc[:, ~all_taxes_df.columns.get_level_values(1).str.startswith('Unnamed')]"
   ]
  },
  {
   "cell_type": "code",
   "execution_count": null,
   "metadata": {
    "ExecuteTime": {
     "end_time": "2019-08-29T02:38:06.839973Z",
     "start_time": "2019-08-29T02:38:06.836991Z"
    }
   },
   "outputs": [],
   "source": [
    "all_taxes_df = all_taxes_df.loc[:, ~all_taxes_df.columns.get_level_values(1).str.startswith('Показатель')]"
   ]
  },
  {
   "cell_type": "code",
   "execution_count": null,
   "metadata": {
    "ExecuteTime": {
     "end_time": "2019-08-29T02:38:58.006165Z",
     "start_time": "2019-08-29T02:38:58.000573Z"
    }
   },
   "outputs": [],
   "source": [
    "all_taxes_df = all_taxes_df.replace('X', np.nan)"
   ]
  },
  {
   "cell_type": "code",
   "execution_count": null,
   "metadata": {
    "ExecuteTime": {
     "end_time": "2019-08-29T02:39:29.197708Z",
     "start_time": "2019-08-29T02:39:29.185588Z"
    }
   },
   "outputs": [],
   "source": [
    "all_taxes_df.to_csv('all_taxes_df.csv')"
   ]
  },
  {
   "cell_type": "code",
   "execution_count": null,
   "metadata": {
    "ExecuteTime": {
     "end_time": "2019-08-29T10:54:46.623278Z",
     "start_time": "2019-08-29T10:54:46.619353Z"
    }
   },
   "outputs": [],
   "source": [
    "all_taxes_df_2 = all_taxes_df.swaplevel().sort_index()"
   ]
  },
  {
   "cell_type": "code",
   "execution_count": null,
   "metadata": {
    "ExecuteTime": {
     "end_time": "2019-08-29T10:54:54.315445Z",
     "start_time": "2019-08-29T10:54:54.312607Z"
    }
   },
   "outputs": [],
   "source": [
    "dates_1 = pd.to_datetime(all_taxes_df_2.index.get_level_values(0).values) - pd.DateOffset(years=1)"
   ]
  },
  {
   "cell_type": "code",
   "execution_count": null,
   "metadata": {
    "ExecuteTime": {
     "end_time": "2019-08-29T10:54:55.553981Z",
     "start_time": "2019-08-29T10:54:55.550438Z"
    }
   },
   "outputs": [],
   "source": [
    "all_taxes_df_2 = all_taxes_df_2.set_index( [dates_1, all_taxes_df_2.index.get_level_values(1)])"
   ]
  },
  {
   "cell_type": "code",
   "execution_count": null,
   "metadata": {
    "ExecuteTime": {
     "end_time": "2019-08-29T10:09:59.184807Z",
     "start_time": "2019-08-29T10:09:59.174126Z"
    }
   },
   "outputs": [],
   "source": [
    "all_taxes_get_2013 = all_taxes_df_2.loc['2014-01-01',:]"
   ]
  },
  {
   "cell_type": "code",
   "execution_count": null,
   "metadata": {
    "ExecuteTime": {
     "end_time": "2019-08-29T10:12:38.269706Z",
     "start_time": "2019-08-29T10:12:38.261989Z"
    }
   },
   "outputs": [],
   "source": [
    "first_part = all_taxes_get_2013.iloc[:,:18]"
   ]
  },
  {
   "cell_type": "code",
   "execution_count": null,
   "metadata": {
    "ExecuteTime": {
     "end_time": "2019-08-29T10:12:40.330173Z",
     "start_time": "2019-08-29T10:12:40.323685Z"
    }
   },
   "outputs": [],
   "source": [
    "first_part.shape[1]"
   ]
  },
  {
   "cell_type": "code",
   "execution_count": null,
   "metadata": {
    "ExecuteTime": {
     "end_time": "2019-08-29T10:52:09.904514Z",
     "start_time": "2019-08-29T10:52:09.899886Z"
    }
   },
   "outputs": [],
   "source": [
    "# pd.to_numeric(first_part.iloc[:,0]) / pd.to_numeric(first_part.iloc[:,1]) * 100"
   ]
  },
  {
   "cell_type": "code",
   "execution_count": null,
   "metadata": {
    "ExecuteTime": {
     "end_time": "2019-08-29T10:32:51.043153Z",
     "start_time": "2019-08-29T10:32:50.998275Z"
    }
   },
   "outputs": [],
   "source": [
    "for i in range(first_part.shape[1]-1):\n",
    "    first_part.iloc[:,i] = pd.to_numeric(first_part.iloc[:,i]) / pd.to_numeric(first_part.iloc[:,(i+1)]) * 100\n",
    "    "
   ]
  },
  {
   "cell_type": "code",
   "execution_count": null,
   "metadata": {
    "ExecuteTime": {
     "end_time": "2019-08-29T10:37:25.659667Z",
     "start_time": "2019-08-29T10:37:24.870717Z"
    }
   },
   "outputs": [],
   "source": [
    "all_taxes_get_2013.iloc[:,:18] = first_part"
   ]
  },
  {
   "cell_type": "code",
   "execution_count": null,
   "metadata": {
    "ExecuteTime": {
     "end_time": "2019-08-29T10:52:03.924801Z",
     "start_time": "2019-08-29T10:52:03.921527Z"
    }
   },
   "outputs": [],
   "source": [
    "# all_taxes_get_2013.iloc[:,18:22] #.count(axis=1).values"
   ]
  },
  {
   "cell_type": "code",
   "execution_count": null,
   "metadata": {
    "ExecuteTime": {
     "end_time": "2019-08-29T10:44:24.243320Z",
     "start_time": "2019-08-29T10:44:24.140314Z"
    }
   },
   "outputs": [],
   "source": [
    "all_taxes_get_2013.iloc[:,18] = pd.to_numeric(all_taxes_get_2013.iloc[:,18]).sub(pd.to_numeric(all_taxes_get_2013.iloc[:,19]), )\n",
    "all_taxes_get_2013.iloc[:,20] = pd.to_numeric(all_taxes_get_2013.iloc[:,20]).sub(pd.to_numeric(all_taxes_get_2013.iloc[:,21]), )"
   ]
  },
  {
   "cell_type": "code",
   "execution_count": null,
   "metadata": {
    "ExecuteTime": {
     "end_time": "2019-08-29T10:45:51.272969Z",
     "start_time": "2019-08-29T10:45:51.163177Z"
    }
   },
   "outputs": [],
   "source": [
    "all_taxes_get_2013.iloc[:,22:24] = np.nan"
   ]
  },
  {
   "cell_type": "code",
   "execution_count": null,
   "metadata": {
    "ExecuteTime": {
     "end_time": "2019-08-29T10:47:17.563487Z",
     "start_time": "2019-08-29T10:47:17.558141Z"
    }
   },
   "outputs": [],
   "source": [
    "all_taxes_get_2013.shape"
   ]
  },
  {
   "cell_type": "code",
   "execution_count": null,
   "metadata": {
    "ExecuteTime": {
     "end_time": "2019-08-29T10:47:48.189989Z",
     "start_time": "2019-08-29T10:47:48.185382Z"
    }
   },
   "outputs": [],
   "source": [
    "first_part = all_taxes_get_2013.iloc[:,24:]"
   ]
  },
  {
   "cell_type": "code",
   "execution_count": null,
   "metadata": {
    "ExecuteTime": {
     "end_time": "2019-08-29T10:48:07.135331Z",
     "start_time": "2019-08-29T10:48:07.126478Z"
    }
   },
   "outputs": [],
   "source": [
    "first_part.shape[1]"
   ]
  },
  {
   "cell_type": "code",
   "execution_count": null,
   "metadata": {
    "ExecuteTime": {
     "end_time": "2019-08-29T10:48:39.673420Z",
     "start_time": "2019-08-29T10:48:39.636426Z"
    }
   },
   "outputs": [],
   "source": [
    "# pd.to_numeric(first_part.iloc[:,0]) / pd.to_numeric(first_part.iloc[:,1]) * 100\n",
    "\n",
    "for i in range(first_part.shape[1]-1):\n",
    "    first_part.iloc[:,i] = pd.to_numeric(first_part.iloc[:,i]) / pd.to_numeric(first_part.iloc[:,(i+1)]) * 100\n",
    "    "
   ]
  },
  {
   "cell_type": "code",
   "execution_count": null,
   "metadata": {
    "ExecuteTime": {
     "end_time": "2019-08-29T10:49:29.843159Z",
     "start_time": "2019-08-29T10:49:29.312241Z"
    }
   },
   "outputs": [],
   "source": [
    "all_taxes_get_2013.iloc[:,24:] = first_part"
   ]
  },
  {
   "cell_type": "code",
   "execution_count": null,
   "metadata": {
    "ExecuteTime": {
     "end_time": "2019-08-29T10:49:34.408507Z",
     "start_time": "2019-08-29T10:49:34.341260Z"
    }
   },
   "outputs": [],
   "source": [
    "all_taxes_get_2013"
   ]
  },
  {
   "cell_type": "code",
   "execution_count": null,
   "metadata": {
    "ExecuteTime": {
     "end_time": "2019-08-29T10:50:58.203244Z",
     "start_time": "2019-08-29T10:50:58.197521Z"
    }
   },
   "outputs": [],
   "source": [
    "dates_1 = pd.to_datetime(all_taxes_get_2013.index.get_level_values(0).values) - pd.DateOffset(years=1)"
   ]
  },
  {
   "cell_type": "code",
   "execution_count": null,
   "metadata": {
    "ExecuteTime": {
     "end_time": "2019-08-29T10:51:25.294388Z",
     "start_time": "2019-08-29T10:51:25.282627Z"
    }
   },
   "outputs": [],
   "source": [
    "all_taxes_get_2013 = all_taxes_get_2013.set_index( [dates_1, all_taxes_get_2013.index.get_level_values(1)])"
   ]
  },
  {
   "cell_type": "code",
   "execution_count": null,
   "metadata": {
    "ExecuteTime": {
     "end_time": "2019-08-29T10:53:37.722554Z",
     "start_time": "2019-08-29T10:53:37.719252Z"
    }
   },
   "outputs": [],
   "source": [
    "all_taxes_df_2.shape, all_taxes_get_2013.shape"
   ]
  },
  {
   "cell_type": "code",
   "execution_count": null,
   "metadata": {
    "ExecuteTime": {
     "end_time": "2019-08-29T10:55:22.663430Z",
     "start_time": "2019-08-29T10:55:22.646557Z"
    }
   },
   "outputs": [],
   "source": [
    "all_taxes_df_2 = all_taxes_df_2.append(all_taxes_get_2013)"
   ]
  },
  {
   "cell_type": "code",
   "execution_count": null,
   "metadata": {
    "ExecuteTime": {
     "end_time": "2019-08-29T10:55:52.572006Z",
     "start_time": "2019-08-29T10:55:52.567637Z"
    }
   },
   "outputs": [],
   "source": [
    "all_taxes_df_2 = all_taxes_df_2.swaplevel().sort_index()"
   ]
  },
  {
   "cell_type": "code",
   "execution_count": null,
   "metadata": {
    "ExecuteTime": {
     "end_time": "2019-08-29T11:02:41.735149Z",
     "start_time": "2019-08-29T11:02:41.732433Z"
    }
   },
   "outputs": [],
   "source": [
    "all_taxes_df_2.shape"
   ]
  },
  {
   "cell_type": "code",
   "execution_count": null,
   "metadata": {
    "ExecuteTime": {
     "end_time": "2019-08-29T11:04:01.940468Z",
     "start_time": "2019-08-29T11:04:01.936903Z"
    }
   },
   "outputs": [],
   "source": [
    "all_taxes_df_2 = all_taxes_df_2.loc[:, ~all_taxes_df_2.columns.get_level_values(1).str.startswith('К пред.')]"
   ]
  },
  {
   "cell_type": "code",
   "execution_count": null,
   "metadata": {
    "ExecuteTime": {
     "end_time": "2019-08-29T11:04:13.893098Z",
     "start_time": "2019-08-29T11:04:13.890010Z"
    }
   },
   "outputs": [],
   "source": [
    "# all_taxes_df_2\n",
    "\n",
    "all_taxes_df_2 = all_taxes_df_2.loc[:, ~all_taxes_df_2.columns.get_level_values(1).str.startswith('Изменение')]"
   ]
  },
  {
   "cell_type": "code",
   "execution_count": null,
   "metadata": {
    "ExecuteTime": {
     "end_time": "2019-08-29T11:06:20.696672Z",
     "start_time": "2019-08-29T11:06:20.679275Z"
    }
   },
   "outputs": [],
   "source": [
    "all_taxes_df_2.to_csv('taxes_ndpi_2013_2017.csv')"
   ]
  },
  {
   "cell_type": "markdown",
   "metadata": {},
   "source": [
    "## Аналитические показатели для рынка электроэнергетики"
   ]
  },
  {
   "cell_type": "markdown",
   "metadata": {},
   "source": [
    "- [ГИС энергосбережение](https://gisee.ru/regionsupport/)"
   ]
  },
  {
   "cell_type": "markdown",
   "metadata": {},
   "source": [
    "### Спарк-спред"
   ]
  },
  {
   "cell_type": "markdown",
   "metadata": {},
   "source": [
    "1 мегаватт равно 0.859845 Гигакалорий в час\n",
    "\n",
    "- [Спарк-спред](http://www.fondovik.com/bazovie-znaniya/stati-finansovie-instrumenti/fyuchersnie-spredi/spark-spred/)\n",
    "\n",
    "- [РСВ на покупку ЭЭ](http://www.atsenergo.ru/results/rsv/statistics?period=3) -  Рынок на сутки вперед (РСВ) \n",
    "    - [Участникам оптового рынка](http://www.atsenergo.ru/uchastnikam-optovogo-rynka)\n",
    "- [Тарифы на электроэнергию для населения в России](https://energybase.ru/tariff/electricity)\n",
    "- [Тарифы на электроэнергию по субъектам Российской Федерации на 2018 год в рублях за кВт*ч (сводная таблица)](https://worknet-info.ru/read-blog/1142_%D1%82%D0%B0%D0%B1%D0%BB%D0%B8%D1%86%D0%B0-%D1%82%D0%B0%D1%80%D0%B8%D1%84%D0%BE%D0%B2-%D0%BD%D0%B0-%D1%8D%D0%BB%D0%B5%D0%BA%D1%82%D1%80%D0%BE%D1%8D%D0%BD%D0%B5%D1%80%D0%B3%D0%B8%D1%8E-%D0%BF%D0%BE-%D1%80%D0%B5%D0%B3%D0%B8%D0%BE%D0%BD%D0%B0%D0%BC-%D1%80%D0%BE%D1%81%D1%81%D0%B8%D0%B8-%D0%B2-2018-%D0%B3%D0%BE%D0%B4%D1%83.html)"
   ]
  },
  {
   "cell_type": "markdown",
   "metadata": {},
   "source": [
    "Heat rate:\n",
    "\n",
    "- [Heat Rate](https://data.austintexas.gov/stories/s/Heat-Rate/h4dw-35vc/)\n",
    "- [NPHR formula](https://www.powermag.com/understanding-coal-power-plant-heat-rate-and-efficiency/?pagenum=3)\n",
    "- [Heat Rate = Input/Otput](https://www.myodesie.com/wiki/index/returnEntry/id/2995)"
   ]
  },
  {
   "cell_type": "markdown",
   "metadata": {},
   "source": [
    "руб за 1000 м3 = руб за  7 900 000  ккал\n",
    "\n",
    "руб за 1000 м3 = руб за  7 900 000  000 кал\n",
    "\n",
    "3000 за 7 900 000 000\n",
    "x за 1 000 000 000\n",
    "\n",
    "х = цена * 1 000 000 000 / 7 900 000 000\n",
    "\n",
    "х = цена * 1 000   / 7 900  \n",
    "\n",
    "7900  ккал/м3  *  руб за 1000 м3"
   ]
  },
  {
   "cell_type": "code",
   "execution_count": null,
   "metadata": {
    "ExecuteTime": {
     "end_time": "2019-08-28T20:53:23.024111Z",
     "start_time": "2019-08-28T20:53:23.019279Z"
    }
   },
   "outputs": [],
   "source": [
    "prices_opt = pd.read_csv('prices_gas_data/prices_opt_gaz.csv', index_col=0)"
   ]
  },
  {
   "cell_type": "code",
   "execution_count": null,
   "metadata": {
    "ExecuteTime": {
     "end_time": "2019-08-28T20:55:44.387058Z",
     "start_time": "2019-08-28T20:55:44.382946Z"
    }
   },
   "outputs": [],
   "source": [
    "prices_opt = prices_opt.dropna(axis=0,how='all')"
   ]
  },
  {
   "cell_type": "code",
   "execution_count": null,
   "metadata": {
    "ExecuteTime": {
     "end_time": "2019-08-28T20:57:22.732310Z",
     "start_time": "2019-08-28T20:57:22.728527Z"
    }
   },
   "outputs": [],
   "source": [
    "prices_opt.transpose().to_csv('prices_opt_gaz.csv')"
   ]
  },
  {
   "cell_type": "code",
   "execution_count": null,
   "metadata": {
    "ExecuteTime": {
     "end_time": "2019-08-29T14:55:38.917318Z",
     "start_time": "2019-08-29T14:55:38.913438Z"
    }
   },
   "outputs": [],
   "source": [
    "prices_electricity_tmp = pd.read_csv('6_spark_spread/prices_electricity_tmp.csv')"
   ]
  },
  {
   "cell_type": "code",
   "execution_count": null,
   "metadata": {
    "ExecuteTime": {
     "end_time": "2019-08-29T15:01:48.926388Z",
     "start_time": "2019-08-29T15:01:48.923026Z"
    }
   },
   "outputs": [],
   "source": [
    "yyy = np.array([])\n",
    "# j = 2012\n",
    "for k in range(1,13):\n",
    "    for i in range(8):\n",
    "        yyy = np.append(yyy,str(k))\n",
    "#     j +=1\n",
    "            "
   ]
  },
  {
   "cell_type": "code",
   "execution_count": null,
   "metadata": {
    "ExecuteTime": {
     "end_time": "2019-08-29T15:01:50.326522Z",
     "start_time": "2019-08-29T15:01:50.324182Z"
    }
   },
   "outputs": [],
   "source": [
    "yyy"
   ]
  },
  {
   "cell_type": "code",
   "execution_count": null,
   "metadata": {
    "ExecuteTime": {
     "end_time": "2019-08-29T15:00:16.553117Z",
     "start_time": "2019-08-29T15:00:16.546630Z"
    }
   },
   "outputs": [],
   "source": [
    "prices_electricity_tmp = prices_electricity_tmp.drop(prices_electricity_tmp.iloc[::9,:].index, axis=0)"
   ]
  },
  {
   "cell_type": "code",
   "execution_count": null,
   "metadata": {
    "ExecuteTime": {
     "end_time": "2019-08-29T15:02:09.172970Z",
     "start_time": "2019-08-29T15:02:09.170394Z"
    }
   },
   "outputs": [],
   "source": [
    "prices_electricity_tmp['mons'] = yyy"
   ]
  },
  {
   "cell_type": "code",
   "execution_count": null,
   "metadata": {
    "ExecuteTime": {
     "end_time": "2019-08-29T15:03:17.127116Z",
     "start_time": "2019-08-29T15:03:17.120710Z"
    }
   },
   "outputs": [],
   "source": [
    "prices_electricity_tmp = prices_electricity_tmp.set_index(['Unnamed: 0', 'mons']).unstack().transpose()"
   ]
  },
  {
   "cell_type": "code",
   "execution_count": null,
   "metadata": {
    "ExecuteTime": {
     "end_time": "2019-08-29T15:03:35.734744Z",
     "start_time": "2019-08-29T15:03:35.729912Z"
    }
   },
   "outputs": [],
   "source": [
    "prices_electricity_tmp.to_csv('prices_electricity_tmp.csv')\n",
    "\n"
   ]
  },
  {
   "cell_type": "code",
   "execution_count": null,
   "metadata": {
    "ExecuteTime": {
     "end_time": "2019-08-29T15:06:20.940278Z",
     "start_time": "2019-08-29T15:06:20.935070Z"
    }
   },
   "outputs": [],
   "source": [
    "prices_electricity_tmp = pd.read_csv('prices_electricity_tmp.csv')"
   ]
  },
  {
   "cell_type": "code",
   "execution_count": null,
   "metadata": {
    "ExecuteTime": {
     "end_time": "2019-08-29T15:07:36.365705Z",
     "start_time": "2019-08-29T15:07:36.358847Z"
    }
   },
   "outputs": [],
   "source": [
    "prices_electricity_tmp.index =   pd.to_datetime(prices_electricity_tmp.iloc[:,0], format='%Y-%m')"
   ]
  },
  {
   "cell_type": "code",
   "execution_count": null,
   "metadata": {
    "ExecuteTime": {
     "end_time": "2019-08-29T15:08:09.108098Z",
     "start_time": "2019-08-29T15:08:09.104204Z"
    }
   },
   "outputs": [],
   "source": [
    "prices_electricity_tmp = prices_electricity_tmp.sort_index()"
   ]
  },
  {
   "cell_type": "code",
   "execution_count": null,
   "metadata": {
    "ExecuteTime": {
     "end_time": "2019-08-29T15:09:09.725914Z",
     "start_time": "2019-08-29T15:09:09.721275Z"
    }
   },
   "outputs": [],
   "source": [
    "prices_electricity_tmp = prices_electricity_tmp.iloc[ :,1:]\n",
    "prices_electricity_tmp.to_csv('prices_electricity_tmp.csv')"
   ]
  },
  {
   "cell_type": "code",
   "execution_count": null,
   "metadata": {
    "ExecuteTime": {
     "end_time": "2019-08-29T15:13:03.740027Z",
     "start_time": "2019-08-29T15:13:03.726912Z"
    }
   },
   "outputs": [],
   "source": [
    "prices_electricity_tmp.resample('Y').mean().to_csv('prices_electricity_yearly.csv')"
   ]
  },
  {
   "cell_type": "code",
   "execution_count": null,
   "metadata": {
    "ExecuteTime": {
     "end_time": "2019-08-29T15:14:26.272951Z",
     "start_time": "2019-08-29T15:14:26.266765Z"
    }
   },
   "outputs": [],
   "source": [
    "prices_electricity = prices_electricity_tmp.resample('Y').mean()"
   ]
  },
  {
   "cell_type": "code",
   "execution_count": null,
   "metadata": {
    "ExecuteTime": {
     "end_time": "2019-08-29T15:15:09.883307Z",
     "start_time": "2019-08-29T15:15:09.872736Z"
    }
   },
   "outputs": [],
   "source": [
    "prices_gas = pd.read_csv('6_spark_spread/prices_opt_gaz_filled.csv', index_col=0)"
   ]
  },
  {
   "cell_type": "code",
   "execution_count": null,
   "metadata": {
    "ExecuteTime": {
     "end_time": "2019-08-29T18:34:10.630078Z",
     "start_time": "2019-08-29T18:34:10.606253Z"
    }
   },
   "outputs": [],
   "source": [
    "electricity_power = pd.read_csv('6_spark_spread/electricity_power.csv')"
   ]
  },
  {
   "cell_type": "code",
   "execution_count": null,
   "metadata": {
    "ExecuteTime": {
     "end_time": "2019-08-29T19:16:40.651566Z",
     "start_time": "2019-08-29T19:16:40.643358Z"
    }
   },
   "outputs": [],
   "source": [
    "electricity_power['Электрическая мощность, Гкал/ч'] = electricity_power.iloc[:,2] * 0.859845"
   ]
  },
  {
   "cell_type": "code",
   "execution_count": null,
   "metadata": {
    "ExecuteTime": {
     "end_time": "2019-08-29T19:18:10.795044Z",
     "start_time": "2019-08-29T19:18:10.763154Z"
    }
   },
   "outputs": [],
   "source": [
    "electricity_power.to_csv('electricity_power_tmpr.csv')"
   ]
  },
  {
   "cell_type": "code",
   "execution_count": null,
   "metadata": {
    "ExecuteTime": {
     "end_time": "2019-08-29T19:25:33.848611Z",
     "start_time": "2019-08-29T19:25:33.749071Z"
    }
   },
   "outputs": [],
   "source": [
    "electricity_power.iloc[:,6:]"
   ]
  },
  {
   "cell_type": "code",
   "execution_count": null,
   "metadata": {
    "ExecuteTime": {
     "end_time": "2019-08-29T19:29:34.692911Z",
     "start_time": "2019-08-29T19:29:34.684758Z"
    }
   },
   "outputs": [],
   "source": [
    "electricity_power['Тепловой коэффициент, Гкал/МВт*ч'] = electricity_power.iloc[:,6] / electricity_power.iloc[:,2]"
   ]
  },
  {
   "cell_type": "code",
   "execution_count": null,
   "metadata": {
    "ExecuteTime": {
     "end_time": "2019-08-29T19:30:48.465962Z",
     "start_time": "2019-08-29T19:30:48.457775Z"
    }
   },
   "outputs": [],
   "source": [
    "electricity_power = electricity_power.drop('Unnamed: 12', axis=1)"
   ]
  },
  {
   "cell_type": "code",
   "execution_count": null,
   "metadata": {},
   "outputs": [],
   "source": []
  },
  {
   "cell_type": "code",
   "execution_count": null,
   "metadata": {
    "ExecuteTime": {
     "end_time": "2019-08-29T19:31:18.972262Z",
     "start_time": "2019-08-29T19:31:18.940274Z"
    }
   },
   "outputs": [],
   "source": [
    "electricity_power.to_csv('electricity_power.csv')"
   ]
  },
  {
   "cell_type": "code",
   "execution_count": null,
   "metadata": {
    "ExecuteTime": {
     "end_time": "2019-08-29T19:38:21.187259Z",
     "start_time": "2019-08-29T19:38:21.175827Z"
    }
   },
   "outputs": [],
   "source": [
    "electricity_power.shape"
   ]
  },
  {
   "cell_type": "code",
   "execution_count": null,
   "metadata": {
    "ExecuteTime": {
     "end_time": "2019-09-02T04:05:46.540702Z",
     "start_time": "2019-09-02T04:05:46.529578Z"
    }
   },
   "outputs": [],
   "source": [
    "electricity_power = pd.read_csv('spark_spread/electricity_power.csv', index_col=0)"
   ]
  },
  {
   "cell_type": "code",
   "execution_count": null,
   "metadata": {
    "ExecuteTime": {
     "end_time": "2019-09-02T04:06:18.368289Z",
     "start_time": "2019-09-02T04:06:18.363846Z"
    }
   },
   "outputs": [],
   "source": [
    "# electricity_power['Расход условного топлива на производство э/э, Гкал/Mвт•ч']"
   ]
  },
  {
   "cell_type": "code",
   "execution_count": null,
   "metadata": {
    "ExecuteTime": {
     "end_time": "2019-09-02T04:06:38.900245Z",
     "start_time": "2019-09-02T04:06:38.893934Z"
    }
   },
   "outputs": [],
   "source": [
    "heat_rates = electricity_power[ (~electricity_power.iloc[:,-1].isna() ) & (electricity_power.iloc[:,-1]!=0) & (electricity_power.iloc[:,-1]!=np.inf) ]"
   ]
  },
  {
   "cell_type": "code",
   "execution_count": null,
   "metadata": {
    "ExecuteTime": {
     "end_time": "2019-09-02T04:07:04.384275Z",
     "start_time": "2019-09-02T04:07:04.382427Z"
    }
   },
   "outputs": [],
   "source": [
    "# heat_rates"
   ]
  },
  {
   "cell_type": "code",
   "execution_count": null,
   "metadata": {
    "ExecuteTime": {
     "end_time": "2019-09-02T04:07:07.460043Z",
     "start_time": "2019-09-02T04:07:07.451759Z"
    }
   },
   "outputs": [],
   "source": [
    "heat_rates.to_csv('heat_rates.csv')"
   ]
  },
  {
   "cell_type": "code",
   "execution_count": null,
   "metadata": {
    "ExecuteTime": {
     "end_time": "2019-09-02T04:08:37.973136Z",
     "start_time": "2019-09-02T04:08:37.909310Z"
    }
   },
   "outputs": [],
   "source": [
    "# heat_rates =  \n",
    "heat_rates[ (heat_rates.iloc[:,-1]!=0) & (heat_rates.iloc[:,-1]!=np.inf)  ]"
   ]
  },
  {
   "cell_type": "code",
   "execution_count": null,
   "metadata": {
    "ExecuteTime": {
     "end_time": "2019-09-02T04:08:52.167740Z",
     "start_time": "2019-09-02T04:08:52.165820Z"
    }
   },
   "outputs": [],
   "source": [
    "# heat_rates = pd.read_csv('heat_rates.csv', index_col=0)"
   ]
  },
  {
   "cell_type": "code",
   "execution_count": null,
   "metadata": {
    "ExecuteTime": {
     "end_time": "2019-08-29T18:35:16.311086Z",
     "start_time": "2019-08-29T18:35:08.647859Z"
    }
   },
   "outputs": [],
   "source": [
    "citi_names = pd.read_html('https://hramy.ru/regions/city_reg.htm')"
   ]
  },
  {
   "cell_type": "code",
   "execution_count": null,
   "metadata": {
    "ExecuteTime": {
     "end_time": "2019-08-29T18:36:14.633881Z",
     "start_time": "2019-08-29T18:36:12.242485Z"
    }
   },
   "outputs": [],
   "source": [
    "citi_names[0].to_csv('citi_names.csv')"
   ]
  },
  {
   "cell_type": "code",
   "execution_count": null,
   "metadata": {
    "ExecuteTime": {
     "end_time": "2019-09-02T04:10:01.008645Z",
     "start_time": "2019-09-02T04:10:01.003050Z"
    }
   },
   "outputs": [],
   "source": [
    "citi_names = pd.read_csv('city_names.csv', index_col=0)"
   ]
  },
  {
   "cell_type": "code",
   "execution_count": null,
   "metadata": {
    "ExecuteTime": {
     "end_time": "2019-09-02T04:10:01.297645Z",
     "start_time": "2019-09-02T04:10:01.289521Z"
    }
   },
   "outputs": [],
   "source": [
    "codes_list = pd.read_csv('reg_list.csv', index_col=0)"
   ]
  },
  {
   "cell_type": "code",
   "execution_count": null,
   "metadata": {
    "ExecuteTime": {
     "end_time": "2019-09-02T04:10:11.923199Z",
     "start_time": "2019-09-02T04:10:11.908501Z"
    }
   },
   "outputs": [],
   "source": [
    "citi_names"
   ]
  },
  {
   "cell_type": "code",
   "execution_count": null,
   "metadata": {
    "ExecuteTime": {
     "end_time": "2019-09-02T04:10:33.771129Z",
     "start_time": "2019-09-02T04:10:33.769088Z"
    }
   },
   "outputs": [],
   "source": [
    "# citi_names.iloc[:,1] = pd.to_numeric(citi_names.iloc[:,1], downcast='integer')"
   ]
  },
  {
   "cell_type": "code",
   "execution_count": null,
   "metadata": {
    "ExecuteTime": {
     "end_time": "2019-08-29T21:21:43.447019Z",
     "start_time": "2019-08-29T21:21:43.438312Z"
    }
   },
   "outputs": [],
   "source": [
    "codes_list = codes_list.iloc[:,[1,-2,-1]]"
   ]
  },
  {
   "cell_type": "code",
   "execution_count": null,
   "metadata": {
    "ExecuteTime": {
     "end_time": "2019-08-29T21:35:32.027218Z",
     "start_time": "2019-08-29T21:35:32.021313Z"
    }
   },
   "outputs": [],
   "source": [
    "citi_names.shape, codes_list.shape"
   ]
  },
  {
   "cell_type": "code",
   "execution_count": null,
   "metadata": {
    "ExecuteTime": {
     "end_time": "2019-08-29T21:27:38.307106Z",
     "start_time": "2019-08-29T21:27:38.297704Z"
    }
   },
   "outputs": [],
   "source": [
    "# df_reg = \n",
    "# pd.merge(, , on='', how='outer' )\n",
    "\n",
    "# prices_raw_neft = \n",
    "\n",
    "citi_names.merge(codes_list, left_on='Код', right_on= 'Код субъекта РФ').to_csv('citi_names.csv')"
   ]
  },
  {
   "cell_type": "code",
   "execution_count": null,
   "metadata": {
    "ExecuteTime": {
     "end_time": "2019-08-29T21:30:39.329178Z",
     "start_time": "2019-08-29T21:30:39.320300Z"
    }
   },
   "outputs": [],
   "source": [
    "citi_names = pd.read_csv('city_names.csv', index_col=0)"
   ]
  },
  {
   "cell_type": "code",
   "execution_count": null,
   "metadata": {
    "ExecuteTime": {
     "end_time": "2019-09-02T04:13:24.545030Z",
     "start_time": "2019-09-02T04:13:24.540987Z"
    }
   },
   "outputs": [],
   "source": [
    "citi_names.columns"
   ]
  },
  {
   "cell_type": "code",
   "execution_count": null,
   "metadata": {
    "ExecuteTime": {
     "end_time": "2019-09-02T04:15:22.198584Z",
     "start_time": "2019-09-02T04:15:22.195635Z"
    }
   },
   "outputs": [],
   "source": [
    "heat_rates = heat_rates.iloc[:,[0,4,-1]]"
   ]
  },
  {
   "cell_type": "code",
   "execution_count": null,
   "metadata": {
    "ExecuteTime": {
     "end_time": "2019-09-02T04:15:30.338380Z",
     "start_time": "2019-09-02T04:15:30.315210Z"
    }
   },
   "outputs": [],
   "source": [
    "heat_rates"
   ]
  },
  {
   "cell_type": "code",
   "execution_count": null,
   "metadata": {
    "ExecuteTime": {
     "end_time": "2019-09-02T04:15:38.143083Z",
     "start_time": "2019-09-02T04:15:38.116991Z"
    }
   },
   "outputs": [],
   "source": [
    "heat_rates.iloc[:,1] = heat_rates.iloc[:,1].apply(lambda x: str(x)[1:])"
   ]
  },
  {
   "cell_type": "code",
   "execution_count": null,
   "metadata": {
    "ExecuteTime": {
     "end_time": "2019-09-02T04:15:51.772587Z",
     "start_time": "2019-09-02T04:15:51.770243Z"
    }
   },
   "outputs": [],
   "source": [
    "# heat_rates.iloc[:,[0,]]"
   ]
  },
  {
   "cell_type": "code",
   "execution_count": null,
   "metadata": {
    "ExecuteTime": {
     "end_time": "2019-09-02T04:15:54.718228Z",
     "start_time": "2019-09-02T04:15:54.715380Z"
    }
   },
   "outputs": [],
   "source": [
    "# citi_names"
   ]
  },
  {
   "cell_type": "code",
   "execution_count": null,
   "metadata": {
    "ExecuteTime": {
     "end_time": "2019-09-02T04:16:20.360291Z",
     "start_time": "2019-09-02T04:16:20.352507Z"
    }
   },
   "outputs": [],
   "source": [
    "heat_rates.merge(citi_names, left_on= 'Город:', right_on= 'Город', how = 'left').to_csv('heat_rates_tmp.csv')"
   ]
  },
  {
   "cell_type": "code",
   "execution_count": null,
   "metadata": {
    "ExecuteTime": {
     "end_time": "2019-08-29T22:17:08.752041Z",
     "start_time": "2019-08-29T22:17:08.744873Z"
    }
   },
   "outputs": [],
   "source": [
    "hhh = pd.read_csv('6_spark_spread/electricity_power.csv', index_col=0)"
   ]
  },
  {
   "cell_type": "code",
   "execution_count": null,
   "metadata": {
    "ExecuteTime": {
     "end_time": "2019-08-29T22:19:50.991500Z",
     "start_time": "2019-08-29T22:19:50.989657Z"
    }
   },
   "outputs": [],
   "source": [
    "# hhh[hhh.iloc[:,-1] > 10]"
   ]
  },
  {
   "cell_type": "code",
   "execution_count": null,
   "metadata": {
    "ExecuteTime": {
     "end_time": "2019-09-02T04:26:28.040828Z",
     "start_time": "2019-09-02T04:26:28.036384Z"
    }
   },
   "outputs": [],
   "source": [
    "heat_rates = pd.read_csv('heat_rates_tmp.csv', index_col=0)"
   ]
  },
  {
   "cell_type": "code",
   "execution_count": null,
   "metadata": {
    "ExecuteTime": {
     "end_time": "2019-09-02T04:26:53.693765Z",
     "start_time": "2019-09-02T04:26:53.689529Z"
    }
   },
   "outputs": [],
   "source": [
    "heat_rates = heat_rates.iloc[:,[0,2,3,4 ]]"
   ]
  },
  {
   "cell_type": "code",
   "execution_count": null,
   "metadata": {
    "ExecuteTime": {
     "end_time": "2019-08-29T22:22:15.895713Z",
     "start_time": "2019-08-29T22:22:15.887081Z"
    }
   },
   "outputs": [],
   "source": [
    "# heat_rates = heat_rates.set_index(['Федеральный округ', 'Субъект федерации', 'Название']).sort_index()"
   ]
  },
  {
   "cell_type": "code",
   "execution_count": null,
   "metadata": {
    "ExecuteTime": {
     "end_time": "2019-09-02T04:27:07.453527Z",
     "start_time": "2019-09-02T04:27:07.448008Z"
    }
   },
   "outputs": [],
   "source": [
    "price_electricity = pd.read_csv('spark_spread/prices_electricity_yearly.csv', index_col=0)"
   ]
  },
  {
   "cell_type": "code",
   "execution_count": null,
   "metadata": {
    "ExecuteTime": {
     "end_time": "2019-09-02T04:27:08.624167Z",
     "start_time": "2019-09-02T04:27:08.618174Z"
    }
   },
   "outputs": [],
   "source": [
    "price_electricity = price_electricity.transpose()"
   ]
  },
  {
   "cell_type": "code",
   "execution_count": null,
   "metadata": {
    "ExecuteTime": {
     "end_time": "2019-09-02T04:27:10.534572Z",
     "start_time": "2019-09-02T04:27:10.526809Z"
    }
   },
   "outputs": [],
   "source": [
    "price_electricity['Округ'] = price_electricity.index"
   ]
  },
  {
   "cell_type": "code",
   "execution_count": null,
   "metadata": {
    "ExecuteTime": {
     "end_time": "2019-09-02T04:27:11.959918Z",
     "start_time": "2019-09-02T04:27:11.955533Z"
    }
   },
   "outputs": [],
   "source": [
    "heat_rates = heat_rates.merge(price_electricity, left_on= 'Федеральный округ', right_on= 'Округ', how = 'left')"
   ]
  },
  {
   "cell_type": "code",
   "execution_count": null,
   "metadata": {
    "ExecuteTime": {
     "end_time": "2019-09-02T04:27:17.759993Z",
     "start_time": "2019-09-02T04:27:17.753185Z"
    }
   },
   "outputs": [],
   "source": [
    "price_gas = pd.read_csv('spark_spread/prices_opt_gaz_filled.csv', index_col=0\n",
    "                       )"
   ]
  },
  {
   "cell_type": "code",
   "execution_count": null,
   "metadata": {
    "ExecuteTime": {
     "end_time": "2019-09-02T04:27:18.735386Z",
     "start_time": "2019-09-02T04:27:18.733205Z"
    }
   },
   "outputs": [],
   "source": [
    "price_gas = price_gas.transpose()"
   ]
  },
  {
   "cell_type": "code",
   "execution_count": null,
   "metadata": {
    "ExecuteTime": {
     "end_time": "2019-09-02T04:27:22.036805Z",
     "start_time": "2019-09-02T04:27:22.034416Z"
    }
   },
   "outputs": [],
   "source": [
    "price_gas['Субъект'] = price_gas.index"
   ]
  },
  {
   "cell_type": "code",
   "execution_count": null,
   "metadata": {
    "ExecuteTime": {
     "end_time": "2019-09-02T04:28:40.775718Z",
     "start_time": "2019-09-02T04:28:40.762594Z"
    }
   },
   "outputs": [],
   "source": [
    "heat_rates_2 = heat_rates.merge(price_gas, left_on= 'Субъект федерации', right_on= 'Субъект', how = 'left').to_csv('heat.csv')"
   ]
  },
  {
   "cell_type": "code",
   "execution_count": null,
   "metadata": {
    "ExecuteTime": {
     "end_time": "2019-09-02T04:28:33.350948Z",
     "start_time": "2019-09-02T04:28:33.349233Z"
    }
   },
   "outputs": [],
   "source": [
    "# heat_rates_2"
   ]
  },
  {
   "cell_type": "code",
   "execution_count": null,
   "metadata": {
    "ExecuteTime": {
     "end_time": "2019-09-02T04:41:20.264951Z",
     "start_time": "2019-09-02T04:41:20.246991Z"
    }
   },
   "outputs": [],
   "source": [
    "spark_electricity = pd.read_csv('spark_electricity.csv')\n",
    "spark_gas = pd.read_csv('spark_gas.csv')\n",
    "spark_heat = pd.read_csv('spark_heat.csv')\n",
    "# file:///home/xenakas/Desktop/job_job/indexes/spark_electricity.csv\n",
    "# file:///home/xenakas/Desktop/job_job/indexes/spark_gas.csv\n",
    "# file:///home/xenakas/Desktop/job_job/indexes/spark_heat.csv\n"
   ]
  },
  {
   "cell_type": "code",
   "execution_count": null,
   "metadata": {
    "ExecuteTime": {
     "end_time": "2019-09-02T04:42:11.710962Z",
     "start_time": "2019-09-02T04:42:11.707561Z"
    }
   },
   "outputs": [],
   "source": [
    "# spark_gas.describe()"
   ]
  },
  {
   "cell_type": "code",
   "execution_count": null,
   "metadata": {
    "ExecuteTime": {
     "end_time": "2019-09-02T04:42:29.620174Z",
     "start_time": "2019-09-02T04:42:29.615998Z"
    }
   },
   "outputs": [],
   "source": [
    "spark_electricity = spark_electricity.set_index(['Федеральный округ', 'Субъект федерации',  'Название' ])"
   ]
  },
  {
   "cell_type": "code",
   "execution_count": null,
   "metadata": {
    "ExecuteTime": {
     "end_time": "2019-09-02T04:42:30.021420Z",
     "start_time": "2019-09-02T04:42:30.012690Z"
    }
   },
   "outputs": [],
   "source": [
    "spark_gas = spark_gas.set_index(['Федеральный округ', 'Субъект федерации',  'Название' ])\n",
    "spark_heat = spark_heat.set_index(['Федеральный округ', 'Субъект федерации',  'Название' ])"
   ]
  },
  {
   "cell_type": "code",
   "execution_count": null,
   "metadata": {
    "ExecuteTime": {
     "end_time": "2019-09-02T05:02:15.816895Z",
     "start_time": "2019-09-02T05:02:15.789250Z"
    }
   },
   "outputs": [],
   "source": [
    "spark_electricity "
   ]
  },
  {
   "cell_type": "code",
   "execution_count": null,
   "metadata": {
    "ExecuteTime": {
     "end_time": "2019-09-02T05:02:20.188319Z",
     "start_time": "2019-09-02T05:02:20.143648Z"
    }
   },
   "outputs": [],
   "source": [
    "spark_gas / 7.9 * spark_heat*1000"
   ]
  },
  {
   "cell_type": "code",
   "execution_count": null,
   "metadata": {
    "ExecuteTime": {
     "end_time": "2019-09-02T05:02:56.986705Z",
     "start_time": "2019-09-02T05:02:56.979997Z"
    }
   },
   "outputs": [],
   "source": [
    "spark_spread = spark_electricity.sub((spark_gas / 7.9 ).mul(spark_heat * 1000))"
   ]
  },
  {
   "cell_type": "code",
   "execution_count": null,
   "metadata": {
    "ExecuteTime": {
     "end_time": "2019-08-29T23:19:36.356503Z",
     "start_time": "2019-08-29T23:19:36.351565Z"
    }
   },
   "outputs": [],
   "source": [
    "# spark_spread = spark_electricity - spark_gas * 1000 / 7900 * spark_heat"
   ]
  },
  {
   "cell_type": "code",
   "execution_count": null,
   "metadata": {
    "ExecuteTime": {
     "end_time": "2019-09-02T05:03:33.336729Z",
     "start_time": "2019-09-02T05:03:33.139761Z"
    }
   },
   "outputs": [],
   "source": [
    "spark_spread.groupby('Федеральный округ').mean().transpose().plot();"
   ]
  },
  {
   "cell_type": "code",
   "execution_count": null,
   "metadata": {
    "ExecuteTime": {
     "end_time": "2019-09-02T07:09:37.732131Z",
     "start_time": "2019-09-02T07:09:37.727269Z"
    }
   },
   "outputs": [],
   "source": [
    "spark_spread.groupby('Федеральный округ').mean().iloc[2,:]"
   ]
  },
  {
   "cell_type": "code",
   "execution_count": null,
   "metadata": {
    "ExecuteTime": {
     "end_time": "2019-09-02T07:10:50.471038Z",
     "start_time": "2019-09-02T07:10:50.468381Z"
    }
   },
   "outputs": [],
   "source": [
    "3566/1028"
   ]
  },
  {
   "cell_type": "code",
   "execution_count": null,
   "metadata": {
    "ExecuteTime": {
     "end_time": "2019-09-02T05:03:06.135157Z",
     "start_time": "2019-09-02T05:03:05.857769Z"
    }
   },
   "outputs": [],
   "source": [
    "spark_spread.transpose().plot(legend=False);"
   ]
  },
  {
   "cell_type": "code",
   "execution_count": null,
   "metadata": {
    "ExecuteTime": {
     "end_time": "2019-09-02T07:08:03.245402Z",
     "start_time": "2019-09-02T07:08:03.241560Z"
    }
   },
   "outputs": [],
   "source": [
    "spark_spread[~spark_spread.iloc[:,-1].isna()].shape"
   ]
  },
  {
   "cell_type": "code",
   "execution_count": null,
   "metadata": {
    "ExecuteTime": {
     "end_time": "2019-09-02T05:03:42.822296Z",
     "start_time": "2019-09-02T05:03:42.818219Z"
    }
   },
   "outputs": [],
   "source": [
    "spark_spread.mean(axis=0)"
   ]
  },
  {
   "cell_type": "code",
   "execution_count": null,
   "metadata": {
    "ExecuteTime": {
     "end_time": "2019-09-02T07:02:36.682587Z",
     "start_time": "2019-09-02T07:02:36.677432Z"
    }
   },
   "outputs": [],
   "source": [
    "2888/1210"
   ]
  },
  {
   "cell_type": "code",
   "execution_count": null,
   "metadata": {
    "ExecuteTime": {
     "end_time": "2019-09-02T05:03:43.780608Z",
     "start_time": "2019-09-02T05:03:43.638056Z"
    }
   },
   "outputs": [],
   "source": [
    "spark_spread.mean(axis=0).plot()"
   ]
  },
  {
   "cell_type": "code",
   "execution_count": null,
   "metadata": {
    "ExecuteTime": {
     "end_time": "2019-09-02T05:03:57.514176Z",
     "start_time": "2019-09-02T05:03:57.509902Z"
    }
   },
   "outputs": [],
   "source": [
    "spark_spread.to_csv('spark_spread.csv')"
   ]
  },
  {
   "cell_type": "code",
   "execution_count": null,
   "metadata": {},
   "outputs": [],
   "source": []
  }
 ],
 "metadata": {
  "hide_input": false,
  "kernelspec": {
   "display_name": "Python 3",
   "language": "python",
   "name": "python3"
  },
  "language_info": {
   "codemirror_mode": {
    "name": "ipython",
    "version": 3
   },
   "file_extension": ".py",
   "mimetype": "text/x-python",
   "name": "python",
   "nbconvert_exporter": "python",
   "pygments_lexer": "ipython3",
   "version": "3.6.5"
  },
  "latex_envs": {
   "LaTeX_envs_menu_present": true,
   "autoclose": true,
   "autocomplete": true,
   "bibliofile": "biblio.bib",
   "cite_by": "apalike",
   "current_citInitial": 1,
   "eqLabelWithNumbers": true,
   "eqNumInitial": 1,
   "hotkeys": {
    "equation": "Ctrl-E",
    "itemize": "Ctrl-I"
   },
   "labels_anchors": false,
   "latex_user_defs": false,
   "report_style_numbering": false,
   "user_envs_cfg": false
  },
  "toc": {
   "base_numbering": 1,
   "nav_menu": {},
   "number_sections": true,
   "sideBar": true,
   "skip_h1_title": false,
   "title_cell": "Table of Contents",
   "title_sidebar": "Contents",
   "toc_cell": false,
   "toc_position": {},
   "toc_section_display": true,
   "toc_window_display": true
  },
  "varInspector": {
   "cols": {
    "lenName": 16,
    "lenType": 16,
    "lenVar": 40
   },
   "kernels_config": {
    "python": {
     "delete_cmd_postfix": "",
     "delete_cmd_prefix": "del ",
     "library": "var_list.py",
     "varRefreshCmd": "print(var_dic_list())"
    },
    "r": {
     "delete_cmd_postfix": ") ",
     "delete_cmd_prefix": "rm(",
     "library": "var_list.r",
     "varRefreshCmd": "cat(var_dic_list()) "
    }
   },
   "types_to_exclude": [
    "module",
    "function",
    "builtin_function_or_method",
    "instance",
    "_Feature"
   ],
   "window_display": false
  }
 },
 "nbformat": 4,
 "nbformat_minor": 2
}
