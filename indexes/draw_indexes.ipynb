{
 "cells": [
  {
   "cell_type": "code",
   "execution_count": 1,
   "metadata": {
    "ExecuteTime": {
     "end_time": "2019-09-10T13:46:25.911453Z",
     "start_time": "2019-09-10T13:46:25.899Z"
    }
   },
   "outputs": [],
   "source": [
    "# -*- coding: utf-8 -*-\n",
    "# Cleaning working space\n",
    "rm(list = ls())"
   ]
  },
  {
   "cell_type": "code",
   "execution_count": 4,
   "metadata": {
    "ExecuteTime": {
     "end_time": "2019-09-10T13:58:29.302228Z",
     "start_time": "2019-09-10T13:58:29.265Z"
    }
   },
   "outputs": [],
   "source": [
    "# Loading required packages\n",
    "library(ggplot2)\n",
    "library(grid)\n",
    "library(sp)\n",
    "library(maptools)\n",
    "library(mapproj)\n",
    "library(gpclib)\n",
    "library(RColorBrewer)"
   ]
  },
  {
   "cell_type": "code",
   "execution_count": 9,
   "metadata": {
    "ExecuteTime": {
     "end_time": "2019-09-10T14:03:46.892806Z",
     "start_time": "2019-09-10T14:03:46.829Z"
    }
   },
   "outputs": [],
   "source": [
    "# Texts on choroplet map\n",
    "text.title <- 'Internet penetration - households (2011)'\n",
    "text.footer <- 'Russian Federal State Statistics Service data (http://fedstat.ru/indicator/data.do?id=34078)'\n",
    "text.note <- c('45,7%', 'of Russians\\nhave internet access')\n",
    "\n",
    "\n",
    "# Required files (should be placed in working dir):\n",
    "# - RUS_adm1.RData - Russia administrative areas borders polygons\n",
    "# - stat.csv - Data to be visualised, based on template-table\n",
    "\n",
    "# Loadin data\n",
    "# Data-file is taken from here: http://www.gadm.org/country\n",
    "# These data are freely available for academic and other non-commercial use.\n",
    "rusdf <- load('RUS_adm1.RData')"
   ]
  },
  {
   "cell_type": "code",
   "execution_count": 27,
   "metadata": {
    "ExecuteTime": {
     "end_time": "2019-09-10T14:33:12.468454Z",
     "start_time": "2019-09-10T14:33:12.457Z"
    }
   },
   "outputs": [
    {
     "data": {
      "text/html": [
       "'character'"
      ],
      "text/latex": [
       "'character'"
      ],
      "text/markdown": [
       "'character'"
      ],
      "text/plain": [
       "[1] \"character\""
      ]
     },
     "metadata": {},
     "output_type": "display_data"
    }
   ],
   "source": [
    "typeof(rusdf)"
   ]
  },
  {
   "cell_type": "code",
   "execution_count": 11,
   "metadata": {
    "ExecuteTime": {
     "end_time": "2019-09-10T14:04:27.891437Z",
     "start_time": "2019-09-10T14:04:27.494Z"
    }
   },
   "outputs": [
    {
     "name": "stderr",
     "output_type": "stream",
     "text": [
      "Warning message in gpclibPermit():\n",
      "“support for gpclib will be withdrawn from maptools at the next major release”"
     ]
    },
    {
     "data": {
      "text/html": [
       "TRUE"
      ],
      "text/latex": [
       "TRUE"
      ],
      "text/markdown": [
       "TRUE"
      ],
      "text/plain": [
       "[1] TRUE"
      ]
     },
     "metadata": {},
     "output_type": "display_data"
    }
   ],
   "source": [
    "# Recalculating negative longitudes (\"connecting\" two parts of Chukotka)\n",
    "for(i in 1:length(gadm@polygons)){\n",
    "  for(j in 1:length(gadm@polygons[[i]]@Polygons)){\n",
    "    gadm@polygons[[i]]@Polygons[[j]]@coords[,1]<- sapply(gadm@polygons[[i]]@Polygons[[j]]@coords[,1], function(x){\n",
    "        if(x < 0){\n",
    "          x<-359.999+x\n",
    "        }\n",
    "        else{x}\n",
    "      })\n",
    "  }\n",
    "}\n",
    "\n",
    "gpclibPermit()"
   ]
  },
  {
   "cell_type": "code",
   "execution_count": 12,
   "metadata": {
    "ExecuteTime": {
     "end_time": "2019-09-10T14:04:36.513259Z",
     "start_time": "2019-09-10T14:04:36.394Z"
    }
   },
   "outputs": [],
   "source": [
    "# Removing \"Int Date Line\" on Chuckotka\n",
    "chuk1 <- Polygons(gadm@polygons[[28]]@Polygons[1:4], ID = 'a')\n",
    "chuk2 <- Polygons(gadm@polygons[[28]]@Polygons[5:38], ID = 'b')\n",
    "chuk <- SpatialPolygons(list(chuk1, chuk2))\n",
    "chuk <- unionSpatialPolygons(chuk, c('a', 'a'))\n",
    "gadm@polygons[[28]]@Polygons <- chuk@polygons[[1]]@Polygons"
   ]
  },
  {
   "cell_type": "code",
   "execution_count": 13,
   "metadata": {
    "ExecuteTime": {
     "end_time": "2019-09-10T14:05:00.771356Z",
     "start_time": "2019-09-10T14:04:54.365Z"
    }
   },
   "outputs": [],
   "source": [
    "# \"Creating\" new regions (established in 2003-2008 by unioning)\n",
    "# New regions created with new ID's, so it's possible to use old regions\n",
    "# for historical data visualisations\n",
    "united.reg <- gadm$ID_1\n",
    "\n",
    "# Zabaikalsky krai (Chitinskaya obl. + Aginskiy Buryatskiy AOk)\n",
    "united.reg[united.reg == 2 | united.reg == 13] <- 91\n",
    "\n",
    "# Kamchatsky krai (Koryak. AO + Kamchatsk. odl.)\n",
    "united.reg[united.reg == 37 | united.reg == 27] <- 92\n",
    "\n",
    "# Permsky krai (Komi-Perm. AO + Permskaya odl.)\n",
    "united.reg[united.reg == 35 | united.reg == 60] <- 93\n",
    "\n",
    "# Krasnoyarsky krai (Krasnoyarsky krai + Taimyrsky AO + Evenkisky AO)\n",
    "united.reg[united.reg == 40 | united.reg == 74 | united.reg == 18] <- 94\n",
    "\n",
    "# Irkutskaya oblast (Irkutskaya oblast + Ust-ordunsky AO)\n",
    "united.reg[united.reg == 21 | united.reg == 82] <- 95\n",
    "\n",
    "united.reg <- as.character(united.reg)\n",
    "rus.map <- unionSpatialPolygons(gadm, united.reg)"
   ]
  },
  {
   "cell_type": "code",
   "execution_count": null,
   "metadata": {
    "ExecuteTime": {
     "end_time": "2019-09-10T14:05:00.785438Z",
     "start_time": "2019-09-10T14:05:00.278Z"
    }
   },
   "outputs": [],
   "source": [
    "# Returning old regions (before unioning)\n",
    "old.regions <- list()\n",
    "old.regions <- c(old.regions, Polygons(gadm[gadm$ID_1==2,]@polygons[[1]]@Polygons, ID = '2'))\n",
    "old.regions <- c(old.regions, Polygons(gadm[gadm$ID_1==13,]@polygons[[1]]@Polygons, ID = '13'))\n",
    "old.regions <- c(old.regions, Polygons(gadm[gadm$ID_1==37,]@polygons[[1]]@Polygons, ID = '37'))\n",
    "old.regions <- c(old.regions, Polygons(gadm[gadm$ID_1==27,]@polygons[[1]]@Polygons, ID = '27'))\n",
    "old.regions <- c(old.regions, Polygons(gadm[gadm$ID_1==21,]@polygons[[1]]@Polygons, ID = '21'))\n",
    "old.regions <- c(old.regions, Polygons(gadm[gadm$ID_1==35,]@polygons[[1]]@Polygons, ID = '35'))\n",
    "old.regions <- c(old.regions, Polygons(gadm[gadm$ID_1==40,]@polygons[[1]]@Polygons, ID = '40'))\n",
    "old.regions <- c(old.regions, Polygons(gadm[gadm$ID_1==60,]@polygons[[1]]@Polygons, ID = '60'))\n",
    "old.regions <- c(old.regions, Polygons(gadm[gadm$ID_1==74,]@polygons[[1]]@Polygons, ID = '74'))\n",
    "old.regions <- c(old.regions, Polygons(gadm[gadm$ID_1==82,]@polygons[[1]]@Polygons, ID = '82'))\n",
    "old.regions <- c(old.regions, Polygons(gadm[gadm$ID_1==18,]@polygons[[1]]@Polygons, ID = '18'))\n",
    "\n",
    "rus.map <- SpatialPolygons(c(slot(rus.map,'polygons'), old.regions))"
   ]
  },
  {
   "cell_type": "code",
   "execution_count": 14,
   "metadata": {
    "ExecuteTime": {
     "end_time": "2019-09-10T14:05:05.447067Z",
     "start_time": "2019-09-10T14:05:05.431Z"
    }
   },
   "outputs": [],
   "source": [
    "# Function for cleaning region-borders after uniting\n",
    "clean.borders <- function(map, id){\n",
    "  cleaned.polys <-list()\n",
    "  for(i in 1:length(map[id,]@polygons[[1]]@Polygons)){\n",
    "    if(map[id,]@polygons[[1]]@Polygons[[i]]@area > .1e-11 | map[id,]@polygons[[1]]@Polygons[[i]]@hole == F){\n",
    "      cleaned.polys <- c(cleaned.polys, map[id,]@polygons[[1]]@Polygons[[i]])\n",
    "    }\n",
    "  }\n",
    "  map@polygons[[which(names(map)==id)]] <- Polygons(cleaned.polys, ID = id)\n",
    "  map\n",
    "}"
   ]
  },
  {
   "cell_type": "code",
   "execution_count": 15,
   "metadata": {
    "ExecuteTime": {
     "end_time": "2019-09-10T14:05:24.646976Z",
     "start_time": "2019-09-10T14:05:14.999Z"
    }
   },
   "outputs": [],
   "source": [
    "# Cleaning Kamchatsky krai borders\n",
    "rus.map <- clean.borders(rus.map, '92')\n",
    "\n",
    "# Cleaning Krasnoyarsly krai borders\n",
    "rus.map <- clean.borders(rus.map, '94')"
   ]
  },
  {
   "cell_type": "code",
   "execution_count": 16,
   "metadata": {
    "ExecuteTime": {
     "end_time": "2019-09-10T14:05:39.191514Z",
     "start_time": "2019-09-10T14:05:26.623Z"
    }
   },
   "outputs": [],
   "source": [
    "rus.map"
   ]
  },
  {
   "cell_type": "code",
   "execution_count": 18,
   "metadata": {
    "ExecuteTime": {
     "end_time": "2019-09-10T14:07:22.021273Z",
     "start_time": "2019-09-10T14:07:22.011Z"
    }
   },
   "outputs": [],
   "source": [
    "# Loading datatable with data to visualise\n",
    "map.data <- read.csv('stat.csv', header=T, encoding = 'UTF-8')\n",
    "row.names(map.data) <- as.character(map.data$ID)"
   ]
  },
  {
   "cell_type": "code",
   "execution_count": 19,
   "metadata": {
    "ExecuteTime": {
     "end_time": "2019-09-10T14:07:40.339672Z",
     "start_time": "2019-09-10T14:07:40.277Z"
    }
   },
   "outputs": [],
   "source": [
    "# Filtering NA rows \n",
    "# (NA must be used for regions, not to be drawn, i.e. old, deprecated regions)\n",
    "# For regions that sould be drawn, but have no data \n",
    "# (they will be filled with grey) use 0 (zero value)\n",
    "map.data <- subset(map.data, !is.na(TEST_DATA))\n",
    "map.data[map.data$TEST_DATA == 0,'TEST_DATA'] <- NA\n",
    "rus.map <- rus.map[row.names(rus.map) %in% row.names(map.data),]"
   ]
  },
  {
   "cell_type": "code",
   "execution_count": 20,
   "metadata": {
    "ExecuteTime": {
     "end_time": "2019-09-10T14:07:43.935451Z",
     "start_time": "2019-09-10T14:07:42.491Z"
    }
   },
   "outputs": [],
   "source": [
    "# Creating dataframe with both polygons & data to be visualised\n",
    "map.df <- merge(fortify(rus.map), map.data, by.x='id', by.y='ID')"
   ]
  },
  {
   "cell_type": "code",
   "execution_count": 21,
   "metadata": {
    "ExecuteTime": {
     "end_time": "2019-09-10T14:08:04.619348Z",
     "start_time": "2019-09-10T14:08:04.460Z"
    }
   },
   "outputs": [
    {
     "name": "stderr",
     "output_type": "stream",
     "text": [
      "Warning message:\n",
      "“`axis.ticks.margin` is deprecated. Please set `margin` property  of `axis.text` instead”Warning message:\n",
      "“`panel.margin` is deprecated. Please use `panel.spacing` property instead”"
     ]
    }
   ],
   "source": [
    "# PLOTTING\n",
    "# Creating gradient from RColorBrewer without light colours\n",
    "# 1. Sequential palette\n",
    "# palette <- colorRampPalette(brewer.pal(9, 'Blues')[3:9])\n",
    "\n",
    "# 2. Diverging palette\n",
    "palette <- colorRampPalette(brewer.pal(11, 'RdYlGn')[2:10])\n",
    "\n",
    "# Creating main plot object - choropleth map without background, margins, title, etc.\n",
    "p <- ggplot(map.df)\n",
    "p <- p + aes(x = long, y = lat, group=group, fill=TEST_DATA)\n",
    "p <- p + geom_polygon(data = subset(map.df, id != '1' & id != '48'), colour='grey90')\n",
    "p <- p + geom_polygon(data = subset(map.df, id == '1' | id == '48'), colour='grey90')\n",
    "p <- p + scale_fill_gradientn(colours = palette(100), na.value='grey80', name = '%')\n",
    "p <- p + theme(axis.line=element_blank(),axis.text.x=element_blank(),\n",
    "               axis.text.y=element_blank(),axis.ticks=element_blank(),\n",
    "               axis.title.x=element_blank(),\n",
    "               axis.title.y=element_blank(),\n",
    "               legend.position = 'none',\n",
    "               panel.margin = unit(c(0,0,0,0), 'cm'),\n",
    "               axis.ticks.margin = unit(0, 'cm'),\n",
    "               axis.ticks.length = unit(0.001, 'cm'),\n",
    "               plot.margin = unit(c(0,0,0,0), 'cm'),\n",
    "               panel.grid = element_blank(),\n",
    "               panel.background = element_blank()\n",
    "              )\n",
    "p <- p + labs(x=NULL, y = NULL)"
   ]
  },
  {
   "cell_type": "code",
   "execution_count": 22,
   "metadata": {
    "ExecuteTime": {
     "end_time": "2019-09-10T14:08:13.224875Z",
     "start_time": "2019-09-10T14:08:13.212Z"
    }
   },
   "outputs": [],
   "source": [
    "# Creating two views of base choroplet: zoomed and regular\n",
    "p1 <- p + coord_map(projection = 'azequidist', \n",
    "                    orientation = c(90, -10, 105), \n",
    "                    xlim = c(26, 57), \n",
    "                    ylim=c(47.5, 67))\n",
    "p2 <- p + coord_map(projection = 'azequidist', \n",
    "                    orientation = c(90, 5, 95), \n",
    "                    xlim = c(79, 155), \n",
    "                    ylim=c(47, 90))\n",
    "p2 <- p2 + theme(legend.position = 'bottom',\n",
    "                 legend.text = element_text(colour = 'grey50'),\n",
    "                 legend.title = element_text(colour = 'grey50', \n",
    "                                             size = 15)\n",
    "                )"
   ]
  },
  {
   "cell_type": "code",
   "execution_count": 23,
   "metadata": {
    "ExecuteTime": {
     "end_time": "2019-09-10T14:08:18.470862Z",
     "start_time": "2019-09-10T14:08:18.461Z"
    }
   },
   "outputs": [],
   "source": [
    "# Combining two views on one plot, adding title, legend, etc. \n",
    "\n",
    "# Drawing magnif. glass\n",
    "magnif.glass <- function(vport){\n",
    "  grid.circle(x=.6,y=.6,r=.3, gp=gpar(lwd=1.5, col='grey70'), vp = vport)\n",
    "  grid.lines(x=c(.6,.6), y=c(.5,.7), gp=gpar(lwd=1.5, col='grey70'), vp = vport)\n",
    "  grid.lines(x=c(.5,.7), y=c(.6,.6), gp=gpar(lwd=1.5, col='grey70'), vp = vport)\n",
    "  grid.lines(x=c(.1,.4), y=c(.1,.4), gp=gpar(lwd=1.5, col='grey70'), vp = vport)\n",
    "  grid.lines(x=c(.1,.3), y=c(.1,.3), gp=gpar(lwd=3, col='grey70'), vp = vport)\n",
    "}"
   ]
  },
  {
   "cell_type": "code",
   "execution_count": 24,
   "metadata": {
    "ExecuteTime": {
     "end_time": "2019-09-10T14:08:22.916441Z",
     "start_time": "2019-09-10T14:08:22.861Z"
    }
   },
   "outputs": [],
   "source": [
    "# Setting up final graph. regions\n",
    "title = viewport(x = .5, y = .96, width = .5, height = .03)\n",
    "zoomed = viewport(x = .25, y = .47, width = .5, height = .9)\n",
    "regular = viewport(x = .75, y = .47, width = .5, height = .9)\n",
    "zoomsign1 = viewport(x = .48, y = .8, width = .02, height = .02)\n",
    "zoomsign2 = viewport(x = .48, y = .1, width = .02, height = .02)\n",
    "footer = viewport(x = .02, y = .03, width = .5, height = .05)\n",
    "note.number = viewport(x = .7, y = .823, width = .2, height = .1)\n",
    "note.text = viewport(x = .7, y = .817, width = .2, height = .1)"
   ]
  },
  {
   "cell_type": "code",
   "execution_count": 25,
   "metadata": {
    "ExecuteTime": {
     "end_time": "2019-09-10T14:08:50.397688Z",
     "start_time": "2019-09-10T14:08:39.040Z"
    }
   },
   "outputs": [
    {
     "data": {
      "text/html": [
       "<strong>png:</strong> 2"
      ],
      "text/latex": [
       "\\textbf{png:} 2"
      ],
      "text/markdown": [
       "**png:** 2"
      ],
      "text/plain": [
       "png \n",
       "  2 "
      ]
     },
     "metadata": {},
     "output_type": "display_data"
    }
   ],
   "source": [
    "# Plotting and saving map to .png\n",
    "png('map.png', width=1200, height=700)\n",
    "grid.newpage()\n",
    "print(p1, vp=zoomed)\n",
    "print(p2, vp=regular)\n",
    "grid.text(text.title, gp=gpar(fontsize=20, col='grey50', fontface='bold'), vp = title)\n",
    "grid.text(text.footer, \n",
    "          just = 'left', gp=gpar(fontsize=10, col='grey50'), vp = footer)\n",
    "grid.lines(x = c(.5, .5), y = c(.05, .8), gp=gpar(col='grey70'))\n",
    "magnif.glass(zoomsign1)\n",
    "magnif.glass(zoomsign2)\n",
    "grid.text(text.note[1], \n",
    "          gp=gpar(fontsize=30, col=palette(3)[3], fontface='bold'), \n",
    "          just = c('left', 'bottom'),\n",
    "          vp = note.number)\n",
    "\n",
    "grid.text(text.note[2], \n",
    "          gp=gpar(fontsize=10, col='grey50', fontface='bold', lineheight=.8), \n",
    "          just = c('left', 'top'),\n",
    "          vp = note.text)\n",
    "dev.off()\n",
    "\n",
    "# FIN"
   ]
  },
  {
   "cell_type": "code",
   "execution_count": null,
   "metadata": {},
   "outputs": [],
   "source": []
  }
 ],
 "metadata": {
  "hide_input": false,
  "kernelspec": {
   "display_name": "R 3.5.1",
   "language": "R",
   "name": "ir"
  },
  "language_info": {
   "codemirror_mode": "r",
   "file_extension": ".r",
   "mimetype": "text/x-r-source",
   "name": "R",
   "pygments_lexer": "r",
   "version": "3.5.2"
  },
  "latex_envs": {
   "LaTeX_envs_menu_present": true,
   "autoclose": true,
   "autocomplete": true,
   "bibliofile": "biblio.bib",
   "cite_by": "apalike",
   "current_citInitial": 1,
   "eqLabelWithNumbers": true,
   "eqNumInitial": 1,
   "hotkeys": {
    "equation": "Ctrl-E",
    "itemize": "Ctrl-I"
   },
   "labels_anchors": false,
   "latex_user_defs": false,
   "report_style_numbering": false,
   "user_envs_cfg": false
  },
  "toc": {
   "base_numbering": 1,
   "nav_menu": {},
   "number_sections": true,
   "sideBar": true,
   "skip_h1_title": false,
   "title_cell": "Table of Contents",
   "title_sidebar": "Contents",
   "toc_cell": false,
   "toc_position": {},
   "toc_section_display": true,
   "toc_window_display": false
  },
  "varInspector": {
   "cols": {
    "lenName": 16,
    "lenType": 16,
    "lenVar": 40
   },
   "kernels_config": {
    "python": {
     "delete_cmd_postfix": "",
     "delete_cmd_prefix": "del ",
     "library": "var_list.py",
     "varRefreshCmd": "print(var_dic_list())"
    },
    "r": {
     "delete_cmd_postfix": ") ",
     "delete_cmd_prefix": "rm(",
     "library": "var_list.r",
     "varRefreshCmd": "cat(var_dic_list()) "
    }
   },
   "types_to_exclude": [
    "module",
    "function",
    "builtin_function_or_method",
    "instance",
    "_Feature"
   ],
   "window_display": false
  }
 },
 "nbformat": 4,
 "nbformat_minor": 2
}
