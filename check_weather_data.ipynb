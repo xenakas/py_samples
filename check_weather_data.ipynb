{
 "cells": [
  {
   "cell_type": "code",
   "execution_count": 2,
   "id": "7ce5efe9",
   "metadata": {
    "ExecuteTime": {
     "end_time": "2022-06-17T15:37:27.229632Z",
     "start_time": "2022-06-17T15:37:27.221746Z"
    }
   },
   "outputs": [],
   "source": [
    "import pandas as pd"
   ]
  },
  {
   "cell_type": "code",
   "execution_count": 18,
   "id": "73fa8ef9",
   "metadata": {
    "ExecuteTime": {
     "end_time": "2022-06-17T15:44:03.497724Z",
     "start_time": "2022-06-17T15:44:03.356043Z"
    }
   },
   "outputs": [
    {
     "name": "stderr",
     "output_type": "stream",
     "text": [
      "/tmp/ipykernel_1382676/1119594853.py:1: DtypeWarning: Columns (5) have mixed types. Specify dtype option on import or set low_memory=False.\n",
      "  data = pd.read_csv('RSM00022550.csv.gz', compression='gzip', header=None)\n"
     ]
    }
   ],
   "source": [
    "data = pd.read_csv('RSM00022550.csv.gz', compression='gzip', header=None)"
   ]
  },
  {
   "cell_type": "code",
   "execution_count": 42,
   "id": "7423705d",
   "metadata": {
    "ExecuteTime": {
     "end_time": "2022-06-17T15:53:12.998292Z",
     "start_time": "2022-06-17T15:53:12.981409Z"
    }
   },
   "outputs": [
    {
     "data": {
      "text/html": [
       "<div>\n",
       "<style scoped>\n",
       "    .dataframe tbody tr th:only-of-type {\n",
       "        vertical-align: middle;\n",
       "    }\n",
       "\n",
       "    .dataframe tbody tr th {\n",
       "        vertical-align: top;\n",
       "    }\n",
       "\n",
       "    .dataframe thead th {\n",
       "        text-align: right;\n",
       "    }\n",
       "</style>\n",
       "<table border=\"1\" class=\"dataframe\">\n",
       "  <thead>\n",
       "    <tr style=\"text-align: right;\">\n",
       "      <th></th>\n",
       "      <th>0</th>\n",
       "      <th>1</th>\n",
       "      <th>2</th>\n",
       "      <th>3</th>\n",
       "      <th>4</th>\n",
       "      <th>5</th>\n",
       "      <th>6</th>\n",
       "      <th>7</th>\n",
       "    </tr>\n",
       "  </thead>\n",
       "  <tbody>\n",
       "    <tr>\n",
       "      <th>0</th>\n",
       "      <td>RSM00022550</td>\n",
       "      <td>18810101</td>\n",
       "      <td>TMAX</td>\n",
       "      <td>-110</td>\n",
       "      <td>NaN</td>\n",
       "      <td>I</td>\n",
       "      <td>r</td>\n",
       "      <td>NaN</td>\n",
       "    </tr>\n",
       "    <tr>\n",
       "      <th>1</th>\n",
       "      <td>RSM00022550</td>\n",
       "      <td>18810102</td>\n",
       "      <td>TMAX</td>\n",
       "      <td>-38</td>\n",
       "      <td>NaN</td>\n",
       "      <td>NaN</td>\n",
       "      <td>r</td>\n",
       "      <td>NaN</td>\n",
       "    </tr>\n",
       "    <tr>\n",
       "      <th>2</th>\n",
       "      <td>RSM00022550</td>\n",
       "      <td>18810103</td>\n",
       "      <td>TMAX</td>\n",
       "      <td>0</td>\n",
       "      <td>NaN</td>\n",
       "      <td>NaN</td>\n",
       "      <td>r</td>\n",
       "      <td>NaN</td>\n",
       "    </tr>\n",
       "    <tr>\n",
       "      <th>3</th>\n",
       "      <td>RSM00022550</td>\n",
       "      <td>18810104</td>\n",
       "      <td>TMAX</td>\n",
       "      <td>-50</td>\n",
       "      <td>NaN</td>\n",
       "      <td>NaN</td>\n",
       "      <td>r</td>\n",
       "      <td>NaN</td>\n",
       "    </tr>\n",
       "    <tr>\n",
       "      <th>4</th>\n",
       "      <td>RSM00022550</td>\n",
       "      <td>18810105</td>\n",
       "      <td>TMAX</td>\n",
       "      <td>-70</td>\n",
       "      <td>NaN</td>\n",
       "      <td>NaN</td>\n",
       "      <td>r</td>\n",
       "      <td>NaN</td>\n",
       "    </tr>\n",
       "    <tr>\n",
       "      <th>...</th>\n",
       "      <td>...</td>\n",
       "      <td>...</td>\n",
       "      <td>...</td>\n",
       "      <td>...</td>\n",
       "      <td>...</td>\n",
       "      <td>...</td>\n",
       "      <td>...</td>\n",
       "      <td>...</td>\n",
       "    </tr>\n",
       "    <tr>\n",
       "      <th>201910</th>\n",
       "      <td>RSM00022550</td>\n",
       "      <td>20220609</td>\n",
       "      <td>TAVG</td>\n",
       "      <td>158</td>\n",
       "      <td>H</td>\n",
       "      <td>NaN</td>\n",
       "      <td>S</td>\n",
       "      <td>NaN</td>\n",
       "    </tr>\n",
       "    <tr>\n",
       "      <th>201911</th>\n",
       "      <td>RSM00022550</td>\n",
       "      <td>20220610</td>\n",
       "      <td>TAVG</td>\n",
       "      <td>112</td>\n",
       "      <td>H</td>\n",
       "      <td>NaN</td>\n",
       "      <td>S</td>\n",
       "      <td>NaN</td>\n",
       "    </tr>\n",
       "    <tr>\n",
       "      <th>201912</th>\n",
       "      <td>RSM00022550</td>\n",
       "      <td>20220611</td>\n",
       "      <td>TAVG</td>\n",
       "      <td>121</td>\n",
       "      <td>H</td>\n",
       "      <td>NaN</td>\n",
       "      <td>S</td>\n",
       "      <td>NaN</td>\n",
       "    </tr>\n",
       "    <tr>\n",
       "      <th>201913</th>\n",
       "      <td>RSM00022550</td>\n",
       "      <td>20220612</td>\n",
       "      <td>TAVG</td>\n",
       "      <td>183</td>\n",
       "      <td>H</td>\n",
       "      <td>NaN</td>\n",
       "      <td>S</td>\n",
       "      <td>NaN</td>\n",
       "    </tr>\n",
       "    <tr>\n",
       "      <th>201914</th>\n",
       "      <td>RSM00022550</td>\n",
       "      <td>20220613</td>\n",
       "      <td>TAVG</td>\n",
       "      <td>157</td>\n",
       "      <td>H</td>\n",
       "      <td>NaN</td>\n",
       "      <td>S</td>\n",
       "      <td>NaN</td>\n",
       "    </tr>\n",
       "  </tbody>\n",
       "</table>\n",
       "<p>201915 rows × 8 columns</p>\n",
       "</div>"
      ],
      "text/plain": [
       "                  0         1     2    3    4    5  6   7\n",
       "0       RSM00022550  18810101  TMAX -110  NaN    I  r NaN\n",
       "1       RSM00022550  18810102  TMAX  -38  NaN  NaN  r NaN\n",
       "2       RSM00022550  18810103  TMAX    0  NaN  NaN  r NaN\n",
       "3       RSM00022550  18810104  TMAX  -50  NaN  NaN  r NaN\n",
       "4       RSM00022550  18810105  TMAX  -70  NaN  NaN  r NaN\n",
       "...             ...       ...   ...  ...  ...  ... ..  ..\n",
       "201910  RSM00022550  20220609  TAVG  158    H  NaN  S NaN\n",
       "201911  RSM00022550  20220610  TAVG  112    H  NaN  S NaN\n",
       "201912  RSM00022550  20220611  TAVG  121    H  NaN  S NaN\n",
       "201913  RSM00022550  20220612  TAVG  183    H  NaN  S NaN\n",
       "201914  RSM00022550  20220613  TAVG  157    H  NaN  S NaN\n",
       "\n",
       "[201915 rows x 8 columns]"
      ]
     },
     "execution_count": 42,
     "metadata": {},
     "output_type": "execute_result"
    }
   ],
   "source": [
    "data"
   ]
  },
  {
   "cell_type": "code",
   "execution_count": 44,
   "id": "ce10ccd8",
   "metadata": {
    "ExecuteTime": {
     "end_time": "2022-06-17T15:53:54.919336Z",
     "start_time": "2022-06-17T15:53:54.907803Z"
    }
   },
   "outputs": [],
   "source": [
    "data.columns=['ID', \n",
    "'YEAR/MONTH/DAY',\n",
    "'ELEMENT',  \n",
    "'DATA VALUE', \n",
    "'M-FLAG', \n",
    "'Q-FLAG',\n",
    "'S-FLAG', \n",
    "'OBS-TIME'\n",
    "]\n",
    "\n",
    "# ID = 11 character station identification code\n",
    "# YEAR/MONTH/DAY = 8 character date in YYYYMMDD format (e.g. 19860529 = May 29, 1986)\n",
    "# ELEMENT = 4 character indicator of element type \n",
    "# DATA VALUE = 5 character data value for ELEMENT \n",
    "# M-FLAG = 1 character Measurement Flag \n",
    "# Q-FLAG = 1 character Quality Flag \n",
    "# S-FLAG = 1 character Source Flag \n",
    "# OBS-TIME = 4-character time of observation in hour-minute format (i.e. 0700 =7:00 am)"
   ]
  },
  {
   "cell_type": "code",
   "execution_count": 48,
   "id": "3f939ffd",
   "metadata": {
    "ExecuteTime": {
     "end_time": "2022-06-17T15:54:33.564465Z",
     "start_time": "2022-06-17T15:54:33.532872Z"
    }
   },
   "outputs": [
    {
     "data": {
      "text/plain": [
       "array([nan, 'T', 'B', 'H'], dtype=object)"
      ]
     },
     "execution_count": 48,
     "metadata": {},
     "output_type": "execute_result"
    }
   ],
   "source": [
    "data['M-FLAG'].unique()\n",
    "\n",
    "# T     = trace of precipitation, snowfall, or snow depth\n",
    "#  B     = precipitation total formed from two 12-hour totals\n",
    "#  H     = represents highest or lowest hourly temperature (TMAX or TMIN) \n",
    "# \t           or the average of hourly values (TAVG)"
   ]
  },
  {
   "cell_type": "code",
   "execution_count": 49,
   "id": "47c81ec0",
   "metadata": {
    "ExecuteTime": {
     "end_time": "2022-06-17T15:55:39.547210Z",
     "start_time": "2022-06-17T15:55:39.525095Z"
    }
   },
   "outputs": [
    {
     "data": {
      "text/plain": [
       "array(['I', nan, 'G', 'O'], dtype=object)"
      ]
     },
     "execution_count": 49,
     "metadata": {},
     "output_type": "execute_result"
    }
   ],
   "source": [
    "data['Q-FLAG'].unique()\n",
    "\n",
    "#  I     = failed internal consistency check\n",
    "#  G     = failed gap check\n",
    "#  O     = failed climatological outlier check"
   ]
  },
  {
   "cell_type": "code",
   "execution_count": 51,
   "id": "9b9b89ac",
   "metadata": {
    "ExecuteTime": {
     "end_time": "2022-06-17T15:57:34.219547Z",
     "start_time": "2022-06-17T15:57:34.198999Z"
    }
   },
   "outputs": [
    {
     "data": {
      "text/plain": [
       "array(['r', 'E', 'S'], dtype=object)"
      ]
     },
     "execution_count": 51,
     "metadata": {},
     "output_type": "execute_result"
    }
   ],
   "source": [
    "data['S-FLAG'].unique()\n",
    "\n",
    "#  r     = All-Russian Research Institute of Hydrometeorological \n",
    "# \t           Information-World Data Center\n",
    "\n",
    "#  E     = European Climate Assessment and Dataset (Klein Tank \n",
    "# \t           et al., 2002)\t\n",
    "\n",
    "#   S     = Global Summary of the Day (NCDC DSI-9618)\n",
    "#                    NOTE: \"S\" values are derived from hourly synoptic reports\n",
    "#                    exchanged on the Global Telecommunications System (GTS).\n",
    "#                    Daily values derived in this fashion may differ significantly\n",
    "#                    from \"true\" daily data, particularly for precipitation\n",
    "#                    (i.e., use with caution)."
   ]
  },
  {
   "cell_type": "code",
   "execution_count": 102,
   "id": "3a520ff9",
   "metadata": {
    "ExecuteTime": {
     "end_time": "2022-06-17T16:13:37.248320Z",
     "start_time": "2022-06-17T16:13:37.086022Z"
    }
   },
   "outputs": [
    {
     "name": "stderr",
     "output_type": "stream",
     "text": [
      "/tmp/ipykernel_1382676/3785640527.py:1: DtypeWarning: Columns (5) have mixed types. Specify dtype option on import or set low_memory=False.\n",
      "  data = pd.read_csv('RSM00022550.csv.gz', compression='gzip', header=None)\n"
     ]
    }
   ],
   "source": [
    "data = pd.read_csv('RSM00022550.csv.gz', compression='gzip', header=None)\n",
    "\n",
    "data.columns=['ID', \n",
    "'YEAR/MONTH/DAY',\n",
    "'ELEMENT',  \n",
    "'DATA VALUE', \n",
    "'M-FLAG', \n",
    "'Q-FLAG',\n",
    "'S-FLAG', \n",
    "'OBS-TIME'\n",
    "]\n",
    "\n",
    "data_1 = data.loc[data.iloc[:,2]=='TAVG',:]\n",
    "data_1.index = pd.to_datetime(data_1.loc[:,'YEAR/MONTH/DAY'],format='%Y%m%d')"
   ]
  },
  {
   "cell_type": "code",
   "execution_count": 104,
   "id": "8bc5a1e3",
   "metadata": {
    "ExecuteTime": {
     "end_time": "2022-06-17T16:13:49.837394Z",
     "start_time": "2022-06-17T16:13:49.830600Z"
    }
   },
   "outputs": [],
   "source": [
    "# data_1"
   ]
  },
  {
   "cell_type": "code",
   "execution_count": 91,
   "id": "e93a76b7",
   "metadata": {
    "ExecuteTime": {
     "end_time": "2022-06-17T16:10:34.282931Z",
     "start_time": "2022-06-17T16:10:34.142499Z"
    }
   },
   "outputs": [
    {
     "data": {
      "text/plain": [
       "<AxesSubplot:xlabel='YEAR/MONTH/DAY'>"
      ]
     },
     "execution_count": 91,
     "metadata": {},
     "output_type": "execute_result"
    },
    {
     "data": {
      "image/png": "[encoded data removed]",
      "text/plain": [
       "<Figure size 432x288 with 1 Axes>"
      ]
     },
     "metadata": {
      "needs_background": "light"
     },
     "output_type": "display_data"
    }
   ],
   "source": [
    "(data_1.iloc[-(365*3):,3]/10).plot()"
   ]
  },
  {
   "cell_type": "code",
   "execution_count": 88,
   "id": "e24f2449",
   "metadata": {
    "ExecuteTime": {
     "end_time": "2022-06-17T16:10:06.733127Z",
     "start_time": "2022-06-17T16:10:06.614758Z"
    }
   },
   "outputs": [
    {
     "data": {
      "text/plain": [
       "<AxesSubplot:xlabel='YEAR/MONTH/DAY'>"
      ]
     },
     "execution_count": 88,
     "metadata": {},
     "output_type": "execute_result"
    },
    {
     "data": {
      "image/png": "[encoded data removed]",
      "text/plain": [
       "<Figure size 432x288 with 1 Axes>"
      ]
     },
     "metadata": {
      "needs_background": "light"
     },
     "output_type": "display_data"
    }
   ],
   "source": [
    "(data_1.iloc[-(365*3):,3]/10).plot()"
   ]
  },
  {
   "cell_type": "code",
   "execution_count": 107,
   "id": "12b820f7",
   "metadata": {
    "ExecuteTime": {
     "end_time": "2022-06-17T16:14:09.298726Z",
     "start_time": "2022-06-17T16:14:09.229713Z"
    }
   },
   "outputs": [],
   "source": [
    "data = pd.read_csv('RSM00027612.csv.gz', compression='gzip', header=None)\n",
    "\n",
    "data.columns=['ID', \n",
    "'YEAR/MONTH/DAY',\n",
    "'ELEMENT',  \n",
    "'DATA VALUE', \n",
    "'M-FLAG', \n",
    "'Q-FLAG',\n",
    "'S-FLAG', \n",
    "'OBS-TIME'\n",
    "]"
   ]
  },
  {
   "cell_type": "code",
   "execution_count": 108,
   "id": "859dfe77",
   "metadata": {
    "ExecuteTime": {
     "end_time": "2022-06-17T16:14:10.147646Z",
     "start_time": "2022-06-17T16:14:10.129586Z"
    }
   },
   "outputs": [],
   "source": [
    "data_1 = data.loc[data.iloc[:,2]=='TAVG',:]"
   ]
  },
  {
   "cell_type": "code",
   "execution_count": 109,
   "id": "e4eb06c0",
   "metadata": {
    "ExecuteTime": {
     "end_time": "2022-06-17T16:14:11.485531Z",
     "start_time": "2022-06-17T16:14:11.449439Z"
    }
   },
   "outputs": [],
   "source": [
    "data_1.index = pd.to_datetime(data_1.loc[:,'YEAR/MONTH/DAY'],format='%Y%m%d')"
   ]
  },
  {
   "cell_type": "code",
   "execution_count": 112,
   "id": "30431dc6",
   "metadata": {
    "ExecuteTime": {
     "end_time": "2022-06-17T16:14:27.414171Z",
     "start_time": "2022-06-17T16:14:27.405087Z"
    }
   },
   "outputs": [
    {
     "data": {
      "text/plain": [
       "DatetimeIndex(['2019-11-07', '2019-11-08', '2019-11-09', '2019-11-10',\n",
       "               '2019-11-11', '2019-11-12', '2019-11-13', '2019-11-14',\n",
       "               '2019-11-15', '2019-11-16',\n",
       "               ...\n",
       "               '2021-09-20', '2021-09-23', '2021-12-25', '2021-12-26',\n",
       "               '2021-12-30', '2022-01-06', '2022-01-07', '2022-01-08',\n",
       "               '2022-01-11', '2022-01-15'],\n",
       "              dtype='datetime64[ns]', name='YEAR/MONTH/DAY', length=365, freq=None)"
      ]
     },
     "execution_count": 112,
     "metadata": {},
     "output_type": "execute_result"
    }
   ],
   "source": [
    "data_1.sort_index().index[-365:]"
   ]
  },
  {
   "cell_type": "code",
   "execution_count": 113,
   "id": "57354a87",
   "metadata": {
    "ExecuteTime": {
     "end_time": "2022-06-17T16:14:32.981516Z",
     "start_time": "2022-06-17T16:14:32.850235Z"
    }
   },
   "outputs": [
    {
     "data": {
      "text/plain": [
       "<AxesSubplot:xlabel='YEAR/MONTH/DAY'>"
      ]
     },
     "execution_count": 113,
     "metadata": {},
     "output_type": "execute_result"
    },
    {
     "data": {
      "image/png": "[encoded data removed]",
      "text/plain": [
       "<Figure size 432x288 with 1 Axes>"
      ]
     },
     "metadata": {
      "needs_background": "light"
     },
     "output_type": "display_data"
    }
   ],
   "source": [
    "(data_1.iloc[-(365):,3]/10).plot()\n",
    "# data_1"
   ]
  },
  {
   "cell_type": "code",
   "execution_count": 132,
   "id": "76cdfb2e",
   "metadata": {
    "ExecuteTime": {
     "end_time": "2022-06-17T16:30:04.459160Z",
     "start_time": "2022-06-17T16:30:04.436811Z"
    }
   },
   "outputs": [],
   "source": [
    "data = pd.read_csv('RSM00028359.csv.gz', compression='gzip', header=None)\n",
    "\n",
    "data.columns=['ID', \n",
    "'YEAR/MONTH/DAY',\n",
    "'ELEMENT',  \n",
    "'DATA VALUE', \n",
    "'M-FLAG', \n",
    "'Q-FLAG',\n",
    "'S-FLAG', \n",
    "'OBS-TIME'\n",
    "]"
   ]
  },
  {
   "cell_type": "code",
   "execution_count": 133,
   "id": "3d8a2b80",
   "metadata": {
    "ExecuteTime": {
     "end_time": "2022-06-17T16:30:05.152065Z",
     "start_time": "2022-06-17T16:30:05.135394Z"
    }
   },
   "outputs": [
    {
     "data": {
      "text/html": [
       "<div>\n",
       "<style scoped>\n",
       "    .dataframe tbody tr th:only-of-type {\n",
       "        vertical-align: middle;\n",
       "    }\n",
       "\n",
       "    .dataframe tbody tr th {\n",
       "        vertical-align: top;\n",
       "    }\n",
       "\n",
       "    .dataframe thead th {\n",
       "        text-align: right;\n",
       "    }\n",
       "</style>\n",
       "<table border=\"1\" class=\"dataframe\">\n",
       "  <thead>\n",
       "    <tr style=\"text-align: right;\">\n",
       "      <th></th>\n",
       "      <th>ID</th>\n",
       "      <th>YEAR/MONTH/DAY</th>\n",
       "      <th>ELEMENT</th>\n",
       "      <th>DATA VALUE</th>\n",
       "      <th>M-FLAG</th>\n",
       "      <th>Q-FLAG</th>\n",
       "      <th>S-FLAG</th>\n",
       "      <th>OBS-TIME</th>\n",
       "    </tr>\n",
       "    <tr>\n",
       "      <th>YEAR/MONTH/DAY</th>\n",
       "      <th></th>\n",
       "      <th></th>\n",
       "      <th></th>\n",
       "      <th></th>\n",
       "      <th></th>\n",
       "      <th></th>\n",
       "      <th></th>\n",
       "      <th></th>\n",
       "    </tr>\n",
       "  </thead>\n",
       "  <tbody>\n",
       "    <tr>\n",
       "      <th>1974-08-30</th>\n",
       "      <td>RSM00028359</td>\n",
       "      <td>19740830</td>\n",
       "      <td>TAVG</td>\n",
       "      <td>93</td>\n",
       "      <td>H</td>\n",
       "      <td>NaN</td>\n",
       "      <td>S</td>\n",
       "      <td>NaN</td>\n",
       "    </tr>\n",
       "    <tr>\n",
       "      <th>1974-09-04</th>\n",
       "      <td>RSM00028359</td>\n",
       "      <td>19740904</td>\n",
       "      <td>TAVG</td>\n",
       "      <td>85</td>\n",
       "      <td>H</td>\n",
       "      <td>NaN</td>\n",
       "      <td>S</td>\n",
       "      <td>NaN</td>\n",
       "    </tr>\n",
       "    <tr>\n",
       "      <th>1974-09-14</th>\n",
       "      <td>RSM00028359</td>\n",
       "      <td>19740914</td>\n",
       "      <td>TAVG</td>\n",
       "      <td>190</td>\n",
       "      <td>H</td>\n",
       "      <td>NaN</td>\n",
       "      <td>S</td>\n",
       "      <td>NaN</td>\n",
       "    </tr>\n",
       "    <tr>\n",
       "      <th>1975-03-24</th>\n",
       "      <td>RSM00028359</td>\n",
       "      <td>19750324</td>\n",
       "      <td>TAVG</td>\n",
       "      <td>-45</td>\n",
       "      <td>H</td>\n",
       "      <td>NaN</td>\n",
       "      <td>S</td>\n",
       "      <td>NaN</td>\n",
       "    </tr>\n",
       "    <tr>\n",
       "      <th>1975-04-27</th>\n",
       "      <td>RSM00028359</td>\n",
       "      <td>19750427</td>\n",
       "      <td>TAVG</td>\n",
       "      <td>120</td>\n",
       "      <td>H</td>\n",
       "      <td>NaN</td>\n",
       "      <td>S</td>\n",
       "      <td>NaN</td>\n",
       "    </tr>\n",
       "    <tr>\n",
       "      <th>...</th>\n",
       "      <td>...</td>\n",
       "      <td>...</td>\n",
       "      <td>...</td>\n",
       "      <td>...</td>\n",
       "      <td>...</td>\n",
       "      <td>...</td>\n",
       "      <td>...</td>\n",
       "      <td>...</td>\n",
       "    </tr>\n",
       "    <tr>\n",
       "      <th>1991-10-06</th>\n",
       "      <td>RSM00028359</td>\n",
       "      <td>19911006</td>\n",
       "      <td>TAVG</td>\n",
       "      <td>67</td>\n",
       "      <td>H</td>\n",
       "      <td>NaN</td>\n",
       "      <td>S</td>\n",
       "      <td>NaN</td>\n",
       "    </tr>\n",
       "    <tr>\n",
       "      <th>1991-10-07</th>\n",
       "      <td>RSM00028359</td>\n",
       "      <td>19911007</td>\n",
       "      <td>TAVG</td>\n",
       "      <td>32</td>\n",
       "      <td>H</td>\n",
       "      <td>NaN</td>\n",
       "      <td>S</td>\n",
       "      <td>NaN</td>\n",
       "    </tr>\n",
       "    <tr>\n",
       "      <th>1991-10-19</th>\n",
       "      <td>RSM00028359</td>\n",
       "      <td>19911019</td>\n",
       "      <td>TAVG</td>\n",
       "      <td>121</td>\n",
       "      <td>H</td>\n",
       "      <td>NaN</td>\n",
       "      <td>S</td>\n",
       "      <td>NaN</td>\n",
       "    </tr>\n",
       "    <tr>\n",
       "      <th>1991-11-12</th>\n",
       "      <td>RSM00028359</td>\n",
       "      <td>19911112</td>\n",
       "      <td>TAVG</td>\n",
       "      <td>-38</td>\n",
       "      <td>H</td>\n",
       "      <td>NaN</td>\n",
       "      <td>S</td>\n",
       "      <td>NaN</td>\n",
       "    </tr>\n",
       "    <tr>\n",
       "      <th>1991-11-15</th>\n",
       "      <td>RSM00028359</td>\n",
       "      <td>19911115</td>\n",
       "      <td>TAVG</td>\n",
       "      <td>-17</td>\n",
       "      <td>H</td>\n",
       "      <td>NaN</td>\n",
       "      <td>S</td>\n",
       "      <td>NaN</td>\n",
       "    </tr>\n",
       "  </tbody>\n",
       "</table>\n",
       "<p>396 rows × 8 columns</p>\n",
       "</div>"
      ],
      "text/plain": [
       "                         ID  YEAR/MONTH/DAY ELEMENT  DATA VALUE M-FLAG Q-FLAG  \\\n",
       "YEAR/MONTH/DAY                                                                  \n",
       "1974-08-30      RSM00028359        19740830    TAVG          93      H    NaN   \n",
       "1974-09-04      RSM00028359        19740904    TAVG          85      H    NaN   \n",
       "1974-09-14      RSM00028359        19740914    TAVG         190      H    NaN   \n",
       "1975-03-24      RSM00028359        19750324    TAVG         -45      H    NaN   \n",
       "1975-04-27      RSM00028359        19750427    TAVG         120      H    NaN   \n",
       "...                     ...             ...     ...         ...    ...    ...   \n",
       "1991-10-06      RSM00028359        19911006    TAVG          67      H    NaN   \n",
       "1991-10-07      RSM00028359        19911007    TAVG          32      H    NaN   \n",
       "1991-10-19      RSM00028359        19911019    TAVG         121      H    NaN   \n",
       "1991-11-12      RSM00028359        19911112    TAVG         -38      H    NaN   \n",
       "1991-11-15      RSM00028359        19911115    TAVG         -17      H    NaN   \n",
       "\n",
       "               S-FLAG  OBS-TIME  \n",
       "YEAR/MONTH/DAY                   \n",
       "1974-08-30          S       NaN  \n",
       "1974-09-04          S       NaN  \n",
       "1974-09-14          S       NaN  \n",
       "1975-03-24          S       NaN  \n",
       "1975-04-27          S       NaN  \n",
       "...               ...       ...  \n",
       "1991-10-06          S       NaN  \n",
       "1991-10-07          S       NaN  \n",
       "1991-10-19          S       NaN  \n",
       "1991-11-12          S       NaN  \n",
       "1991-11-15          S       NaN  \n",
       "\n",
       "[396 rows x 8 columns]"
      ]
     },
     "execution_count": 133,
     "metadata": {},
     "output_type": "execute_result"
    }
   ],
   "source": [
    "data_1"
   ]
  },
  {
   "cell_type": "code",
   "execution_count": 131,
   "id": "bc97062e",
   "metadata": {
    "ExecuteTime": {
     "end_time": "2022-06-17T16:29:54.785701Z",
     "start_time": "2022-06-17T16:29:54.652241Z"
    }
   },
   "outputs": [
    {
     "data": {
      "text/plain": [
       "<AxesSubplot:xlabel='YEAR/MONTH/DAY'>"
      ]
     },
     "execution_count": 131,
     "metadata": {},
     "output_type": "execute_result"
    },
    {
     "data": {
      "image/png": "[encoded data removed]",
      "text/plain": [
       "<Figure size 432x288 with 1 Axes>"
      ]
     },
     "metadata": {
      "needs_background": "light"
     },
     "output_type": "display_data"
    }
   ],
   "source": [
    "data_1 = data.loc[data.iloc[:,2]=='TAVG',:]\n",
    "\n",
    "data_1.index = pd.to_datetime(data_1.loc[:,'YEAR/MONTH/DAY'],format='%Y%m%d')\n",
    "\n",
    "# data_1.sort_index().index[-365:]\n",
    "\n",
    "(data_1.iloc[-(365)*3:,3]/10).plot()\n",
    "# data_1"
   ]
  },
  {
   "cell_type": "code",
   "execution_count": 106,
   "id": "38178414",
   "metadata": {
    "ExecuteTime": {
     "end_time": "2022-06-17T16:14:02.773186Z",
     "start_time": "2022-06-17T16:14:02.736661Z"
    }
   },
   "outputs": [],
   "source": [
    "data_1 = data.loc[data.iloc[:,2]=='TAVG',:]\n",
    "data_1.index = pd.to_datetime(data_1.loc[:,'YEAR/MONTH/DAY'],format='%Y%m%d')"
   ]
  },
  {
   "cell_type": "code",
   "execution_count": 15,
   "id": "6fb8ae39",
   "metadata": {
    "ExecuteTime": {
     "end_time": "2022-06-17T15:43:22.862637Z",
     "start_time": "2022-06-17T15:43:22.783823Z"
    }
   },
   "outputs": [
    {
     "data": {
      "text/plain": [
       "array(['TMIN', 'TAVG', 'TMAX', 'PRCP', 'SNWD'], dtype=object)"
      ]
     },
     "execution_count": 15,
     "metadata": {},
     "output_type": "execute_result"
    }
   ],
   "source": [
    "data = pd.read_csv('.csv.gz', compression='gzip', header=None)\n",
    "\n",
    "data[2].unique()"
   ]
  },
  {
   "cell_type": "code",
   "execution_count": null,
   "id": "e5fb1cd2",
   "metadata": {},
   "outputs": [],
   "source": [
    "# RSM00027612"
   ]
  }
 ],
 "metadata": {
  "hide_input": false,
  "kernelspec": {
   "display_name": "Python 3 (ipykernel)",
   "language": "python",
   "name": "python3"
  },
  "language_info": {
   "codemirror_mode": {
    "name": "ipython",
    "version": 3
   },
   "file_extension": ".py",
   "mimetype": "text/x-python",
   "name": "python",
   "nbconvert_exporter": "python",
   "pygments_lexer": "ipython3",
   "version": "3.10.6"
  },
  "latex_envs": {
   "LaTeX_envs_menu_present": true,
   "autoclose": true,
   "autocomplete": true,
   "bibliofile": "biblio.bib",
   "cite_by": "apalike",
   "current_citInitial": 1,
   "eqLabelWithNumbers": true,
   "eqNumInitial": 1,
   "hotkeys": {
    "equation": "Ctrl-E",
    "itemize": "Ctrl-I"
   },
   "labels_anchors": false,
   "latex_user_defs": false,
   "report_style_numbering": false,
   "user_envs_cfg": false
  },
  "toc": {
   "base_numbering": 1,
   "nav_menu": {},
   "number_sections": true,
   "sideBar": true,
   "skip_h1_title": false,
   "title_cell": "Table of Contents",
   "title_sidebar": "Contents",
   "toc_cell": false,
   "toc_position": {},
   "toc_section_display": true,
   "toc_window_display": false
  },
  "varInspector": {
   "cols": {
    "lenName": 16,
    "lenType": 16,
    "lenVar": 40
   },
   "kernels_config": {
    "python": {
     "delete_cmd_postfix": "",
     "delete_cmd_prefix": "del ",
     "library": "var_list.py",
     "varRefreshCmd": "print(var_dic_list())"
    },
    "r": {
     "delete_cmd_postfix": ") ",
     "delete_cmd_prefix": "rm(",
     "library": "var_list.r",
     "varRefreshCmd": "cat(var_dic_list()) "
    }
   },
   "types_to_exclude": [
    "module",
    "function",
    "builtin_function_or_method",
    "instance",
    "_Feature"
   ],
   "window_display": false
  }
 },
 "nbformat": 4,
 "nbformat_minor": 5
}
