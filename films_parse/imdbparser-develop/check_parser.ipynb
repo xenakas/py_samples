{
 "cells": [
  {
   "cell_type": "code",
   "execution_count": 2,
   "id": "b04defba",
   "metadata": {
    "ExecuteTime": {
     "end_time": "2022-07-02T18:30:54.116138Z",
     "start_time": "2022-07-02T18:30:54.017820Z"
    }
   },
   "outputs": [],
   "source": [
    "from imdbparser import IMDb"
   ]
  },
  {
   "cell_type": "code",
   "execution_count": 17,
   "id": "7bc1ec6a",
   "metadata": {
    "ExecuteTime": {
     "end_time": "2022-07-02T18:36:25.246347Z",
     "start_time": "2022-07-02T18:36:25.230658Z"
    }
   },
   "outputs": [
    {
     "data": {
      "text/plain": [
       "False"
      ]
     },
     "execution_count": 17,
     "metadata": {},
     "output_type": "execute_result"
    }
   ],
   "source": [
    "# from imdbparser import IMDb\n",
    "imdb = IMDb()\n",
    "movie = imdb.get_movie(13946146)\n",
    "# movie.fetched\n",
    "# False\n",
    "movie.__dict__"
   ]
  },
  {
   "cell_type": "code",
   "execution_count": 29,
   "id": "e7b77eac",
   "metadata": {
    "ExecuteTime": {
     "end_time": "2022-07-02T19:02:33.833195Z",
     "start_time": "2022-07-02T19:02:32.790299Z"
    }
   },
   "outputs": [
    {
     "data": {
      "text/plain": [
       "[<Movie fetched=False imdb_id='2920540' title='20,000 Days on Earth' year=2014>,\n",
       " <Movie fetched=False imdb_id='5777802' title=\"Sadie's Last Days on Earth\" year=2016>,\n",
       " <Movie fetched=False imdb_id='4565982' title='Toxin: 700 Days Left on Earth' year=2015>,\n",
       " <Movie fetched=False imdb_id='11725176' title='Last days on Earth' year=2020>,\n",
       " <Movie fetched=False imdb_id='0174353' title='The Days on Earth Are Flowing' year=1979>]"
      ]
     },
     "execution_count": 29,
     "metadata": {},
     "output_type": "execute_result"
    }
   ],
   "source": [
    "# from imdbparser import IMDb\n",
    "imdb = IMDb()\n",
    "search_result = imdb.search_movie('20,000 Days on Earth')\n",
    "search_result.fetch()\n",
    "search_result.results\n",
    "# search_result.fetched"
   ]
  },
  {
   "cell_type": "code",
   "execution_count": 30,
   "id": "cbc7023a",
   "metadata": {
    "ExecuteTime": {
     "end_time": "2022-07-02T19:02:47.140113Z",
     "start_time": "2022-07-02T19:02:43.991231Z"
    }
   },
   "outputs": [
    {
     "data": {
      "text/plain": [
       "{'imdb_id': '2920540',\n",
       " 'imdb': <imdbparser.imdb.IMDb at 0x7fedd18f98d0>,\n",
       " 'trees': [<Element html at 0x7fede0279490>, <Element html at 0x7fedd18ce4d0>],\n",
       " 'alternative_titles': ['20.000 días en la Tierra',\n",
       "  '20,000 days on earth',\n",
       "  '20,000 дней на Земле',\n",
       "  '20 000 jours sur Terre',\n",
       "  '20.000 nap a Földön',\n",
       "  'Yer Küresinde 20000 Gün'],\n",
       " 'actors': [<Person fetched=False imdb_id='0147022' name='Nick Cave'>,\n",
       "  <Person fetched=False imdb_id='0080989' name='Susie Bick'>,\n",
       "  <Person fetched=False imdb_id='2517616' name='Darian Leader'>,\n",
       "  <Person fetched=False imdb_id='0255145' name='Warren Ellis'>,\n",
       "  <Person fetched=False imdb_id='0935653' name='Ray Winstone'>,\n",
       "  <Person fetched=False imdb_id='0054540' name='Blixa Bargeld'>,\n",
       "  <Person fetched=False imdb_id='0001541' name='Kylie Minogue'>,\n",
       "  <Person fetched=False imdb_id='5994882' name='Arthur Cave'>,\n",
       "  <Person fetched=False imdb_id='5994881' name='Earl Cave'>,\n",
       "  <Person fetched=False imdb_id='0943654' name='Thomas Wydler'>,\n",
       "  <Person fetched=False imdb_id='1123730' name='Martyn Casey'>,\n",
       "  <Person fetched=False imdb_id='1123272' name='Conway Savage'>,\n",
       "  <Person fetched=False imdb_id='1123299' name='Jim Sclavunos'>,\n",
       "  <Person fetched=False imdb_id='0011473' name='Barry Adamson'>,\n",
       "  <Person fetched=False imdb_id='3357565' name='George Vjestica'>,\n",
       "  <Person fetched=False imdb_id='8792119' name='Rachel Willis'>,\n",
       "  <Person fetched=False imdb_id='4547572' name='Lizzie Phillips'>,\n",
       "  <Person fetched=False imdb_id='8792121' name='Peter Stonehm'>,\n",
       "  <Person fetched=False imdb_id='8792120' name='Janine Barnard'>,\n",
       "  <Person fetched=False imdb_id='3558625' name='Kirk Lake'>,\n",
       "  <Person fetched=False imdb_id='8792122' name='Andrew Trute'>],\n",
       " 'directors': [<Person fetched=False imdb_id='3558632' name='Iain Forsyth'>,\n",
       "  <Person fetched=False imdb_id='3558886' name='Jane Pollard'>],\n",
       " 'writers': [<Person fetched=False imdb_id='0147022' name='Nick Cave'>,\n",
       "  <Person fetched=False imdb_id='3558632' name='Iain Forsyth'>,\n",
       "  <Person fetched=False imdb_id='3558886' name='Jane Pollard'>],\n",
       " 'more_like_this': [],\n",
       " 'languages': ['English'],\n",
       " 'genres': ['Documentary', 'Drama', 'Music'],\n",
       " 'countries': ['United Kingdom'],\n",
       " 'plot_keywords': ['f-rated',\n",
       "  'reference-to-religion',\n",
       "  'reference-to-transvestism',\n",
       "  'reference-to-skinheads',\n",
       "  'reference-to-nina-simone'],\n",
       " 'cover': 'https://m.media-amazon.com/images/M/MV5BMTQzOTI2NjkxM15BMl5BanBnXkFtZTgwNjg4MDgyMjE@.jpg',\n",
       " 'duration': 97,\n",
       " 'title': '20,000 Days on Earth',\n",
       " 'year': 2014,\n",
       " 'release_date': None,\n",
       " 'description': None,\n",
       " 'plot': 'Drama and reality combine in a fictitious 24 hours in the life of musician and international cultural icon Nick Cave. With startlingly frank insights and an intimate portrayal of the artistic process, the film examines what makes us who we are, and celebrates the transformative power of the creative spirit.',\n",
       " 'storyline': None,\n",
       " 'tagline': None,\n",
       " 'rating': Decimal('7.4'),\n",
       " 'votes': 11469,\n",
       " 'fetched': True}"
      ]
     },
     "execution_count": 30,
     "metadata": {},
     "output_type": "execute_result"
    }
   ],
   "source": [
    "# from imdbparser import IMDb\n",
    "imdb = IMDb()\n",
    "movie = imdb.get_movie('2920540')\n",
    "movie.fetch()\n",
    "# movie.fetched\n",
    "# False\n",
    "movie.__dict__"
   ]
  },
  {
   "cell_type": "code",
   "execution_count": 13,
   "id": "88584d24",
   "metadata": {
    "ExecuteTime": {
     "end_time": "2022-07-02T18:34:40.819987Z",
     "start_time": "2022-07-02T18:34:40.813771Z"
    }
   },
   "outputs": [],
   "source": [
    "# search_result"
   ]
  },
  {
   "cell_type": "code",
   "execution_count": 5,
   "id": "b2162100",
   "metadata": {
    "ExecuteTime": {
     "end_time": "2022-07-02T18:31:40.894916Z",
     "start_time": "2022-07-02T18:31:40.889528Z"
    }
   },
   "outputs": [
    {
     "data": {
      "text/plain": [
       "{'imdb_id': '1954470',\n",
       " 'imdb': <imdbparser.imdb.IMDb at 0x7fede11a34f0>,\n",
       " 'trees': [<Element html at 0x7fedfc07a610>, <Element html at 0x7fede026ad40>],\n",
       " 'alternative_titles': ['瓦塞浦黑帮(上)',\n",
       "  'Gangs of Wasseypur: Part 1',\n",
       "  'Asian Godfather - Die Gangs von Wasseypur I + II',\n",
       "  'Банды Вассейпура',\n",
       "  'G.O.W.',\n",
       "  'Asian Godfather - Die Gangs von Wasseypur'],\n",
       " 'actors': [<Person fetched=False imdb_id='0048075' name='Manoj Bajpayee'>,\n",
       "  <Person fetched=False imdb_id='3190246' name='Richa Chadha'>,\n",
       "  <Person fetched=False imdb_id='1596350' name='Nawazuddin Siddiqui'>,\n",
       "  <Person fetched=False imdb_id='0223606' name='Tigmanshu Dhulia'>,\n",
       "  <Person fetched=False imdb_id='0451239' name='Jameel Khan'>,\n",
       "  <Person fetched=False imdb_id='0592795' name='Piyush Mishra'>,\n",
       "  <Person fetched=False imdb_id='4188433' name='Jaideep Ahlawat'>,\n",
       "  <Person fetched=False imdb_id='4806622' name='Huma Qureshi'>,\n",
       "  <Person fetched=False imdb_id='5113220' name='Zeishan Quadri'>,\n",
       "  <Person fetched=False imdb_id='1479650' name='Vipin Sharma'>,\n",
       "  <Person fetched=False imdb_id='3864624' name='Satyakam Anand'>,\n",
       "  <Person fetched=False imdb_id='4748818' name='Aditya Kumar'>,\n",
       "  <Person fetched=False imdb_id='3822770' name='Rajkummar Rao'>,\n",
       "  <Person fetched=False imdb_id='1277547' name='Vineet Kumar Singh'>,\n",
       "  <Person fetched=False imdb_id='4435813' name='Sankalp Acharekar'>,\n",
       "  <Person fetched=False imdb_id='10826097' name='Aditya'>,\n",
       "  <Person fetched=False imdb_id='10826076' name='Akshat'>,\n",
       "  <Person fetched=False imdb_id='10826095' name='Hasrat Ali'>,\n",
       "  <Person fetched=False imdb_id='10826060' name='Mohammed Azam Ansari'>,\n",
       "  <Person fetched=False imdb_id='3035236' name='Vasan Bala'>,\n",
       "  <Person fetched=False imdb_id='5129212' name='Mahesh Balraj'>,\n",
       "  <Person fetched=False imdb_id='4488932' name='Rajat Bhagat'>,\n",
       "  <Person fetched=False imdb_id='10826040' name='Vidya Bhushan'>,\n",
       "  <Person fetched=False imdb_id='10826049' name='Bobby'>,\n",
       "  <Person fetched=False imdb_id='10826072' name='Niranjan Chaubey'>,\n",
       "  <Person fetched=False imdb_id='2535507' name='Mukesh Chhabra'>,\n",
       "  <Person fetched=False imdb_id='10826088' name='Tarzan Dada'>,\n",
       "  <Person fetched=False imdb_id='10826059' name='Sujata Das'>,\n",
       "  <Person fetched=False imdb_id='10826047' name='Dulaari Devi'>,\n",
       "  <Person fetched=False imdb_id='7436747' name='Shreedhar Dubey'>,\n",
       "  <Person fetched=False imdb_id='4435585' name='Karuna Dutt'>,\n",
       "  <Person fetched=False imdb_id='10826093' name='Upal Dutta'>,\n",
       "  <Person fetched=False imdb_id='5200693' name='Vivek Ghamande'>,\n",
       "  <Person fetched=False imdb_id='10826042' name='Amitabh Kishen Ghanekar'>,\n",
       "  <Person fetched=False imdb_id='10826043' name='Hemangini Ghanekar'>,\n",
       "  <Person fetched=False imdb_id='10826106' name='Neeraj Ghaywan'>,\n",
       "  <Person fetched=False imdb_id='10826113' name='Radhe Shyam Giri'>,\n",
       "  <Person fetched=False imdb_id='10826077' name='Guddu'>,\n",
       "  <Person fetched=False imdb_id='10826084' name='Siddharth Gupt'>,\n",
       "  <Person fetched=False imdb_id='4495315' name='Naman Jain'>,\n",
       "  <Person fetched=False imdb_id='4839358' name='Anurita Jha'>,\n",
       "  <Person fetched=False imdb_id='10826100' name='Lali Ji'>,\n",
       "  <Person fetched=False imdb_id='10826044' name='Chandan Kaif'>,\n",
       "  <Person fetched=False imdb_id='10826089' name='Sameer Kamble'>,\n",
       "  <Person fetched=False imdb_id='10826066' name='Omprakash Kashyap'>,\n",
       "  <Person fetched=False imdb_id='5817249' name='Vicky Kaushal'>,\n",
       "  <Person fetched=False imdb_id='10826045' name='Zafar Khan'>,\n",
       "  <Person fetched=False imdb_id='1390115' name='Harish Khanna'>,\n",
       "  <Person fetched=False imdb_id='1227999' name='Aditya Kumar'>,\n",
       "  <Person fetched=False imdb_id='10826102' name='Amit Kumar'>,\n",
       "  <Person fetched=False imdb_id='2715305' name='Murari Kumar'>,\n",
       "  <Person fetched=False imdb_id='10826046' name='Sumit Kumar'>,\n",
       "  <Person fetched=False imdb_id='10826041' name='Vishnu Kumar'>,\n",
       "  <Person fetched=False imdb_id='10826048' name='Vishnu Kunwar'>,\n",
       "  <Person fetched=False imdb_id='10826092' name='Ram Lakhan'>,\n",
       "  <Person fetched=False imdb_id='10826112' name='Mahesh'>,\n",
       "  <Person fetched=False imdb_id='6763126' name='Faisal Malik'>,\n",
       "  <Person fetched=False imdb_id='10826075' name='Ashtabhuja Mishra'>,\n",
       "  <Person fetched=False imdb_id='10826058' name='Sudhanshu Mishra'>,\n",
       "  <Person fetched=False imdb_id='10826062' name='Vinay Mishra'>,\n",
       "  <Person fetched=False imdb_id='1665339' name='Pranay Narayan'>,\n",
       "  <Person fetched=False imdb_id='10826067' name='Bhola Nath'>,\n",
       "  <Person fetched=False imdb_id='10826103' name='Kaushal Nigel'>,\n",
       "  <Person fetched=False imdb_id='10826109' name='Balram Pandey'>,\n",
       "  <Person fetched=False imdb_id='10826110' name='Ila Pandey'>,\n",
       "  <Person fetched=False imdb_id='1221483' name='Pramod Pathak'>,\n",
       "  <Person fetched=False imdb_id='10826057' name='Suman Pathak'>,\n",
       "  <Person fetched=False imdb_id='10826063' name='Sankata Prasad'>,\n",
       "  <Person fetched=False imdb_id='4556476' name='Syed Zeeshan Qadri'>,\n",
       "  <Person fetched=False imdb_id='10826080' name='Tilak Raj'>,\n",
       "  <Person fetched=False imdb_id='3771295' name='Vijesh Rajan'>,\n",
       "  <Person fetched=False imdb_id='10826082' name='Amritraj Rana'>,\n",
       "  <Person fetched=False imdb_id='10826064' name='Ravi'>,\n",
       "  <Person fetched=False imdb_id='10826068' name='Khan Saab'>,\n",
       "  <Person fetched=False imdb_id='10826107' name='Veena Sahay'>,\n",
       "  <Person fetched=False imdb_id='1032614' name='Reema Sen'>,\n",
       "  <Person fetched=False imdb_id='10826039' name='Ashfaque Shaikh'>,\n",
       "  <Person fetched=False imdb_id='9818830' name='Salim M. Shaikh'>,\n",
       "  <Person fetched=False imdb_id='10036672' name='Amit Sharma'>,\n",
       "  <Person fetched=False imdb_id='10826083' name='Gaurav Sharma'>,\n",
       "  <Person fetched=False imdb_id='9856002' name='Gaurav Sharma'>,\n",
       "  <Person fetched=False imdb_id='6422090' name='Rajesh Kumar Sharma'>,\n",
       "  <Person fetched=False imdb_id='10826104' name='Shlok Sharma'>,\n",
       "  <Person fetched=False imdb_id='10826094' name='Tez Bahadur Sharma'>,\n",
       "  <Person fetched=False imdb_id='1004985' name='Yashpal Sharma'>,\n",
       "  <Person fetched=False imdb_id='10826078' name='Zahir Sheikh'>,\n",
       "  <Person fetched=False imdb_id='10826073' name='Suhas Shirsat'>,\n",
       "  <Person fetched=False imdb_id='10826054' name='Shivam'>,\n",
       "  <Person fetched=False imdb_id='10826070' name='Shubham'>,\n",
       "  <Person fetched=False imdb_id='10826055' name='Vijay Shukla'>,\n",
       "  <Person fetched=False imdb_id='11534064' name='Deependra Singh'>,\n",
       "  <Person fetched=False imdb_id='10826069' name='Janmajaya Singh'>,\n",
       "  <Person fetched=False imdb_id='10826085' name='Nitin Raj Singh'>,\n",
       "  <Person fetched=False imdb_id='10826090' name='Nityanand Singh'>,\n",
       "  <Person fetched=False imdb_id='7372243' name='Pawan Singh'>,\n",
       "  <Person fetched=False imdb_id='10826050' name='Ram Raksha Singh'>,\n",
       "  <Person fetched=False imdb_id='7916099' name='Sanjay Singh'>,\n",
       "  <Person fetched=False imdb_id='10826101' name='Santosh Singh'>,\n",
       "  <Person fetched=False imdb_id='10826081' name='Vivek Singh'>,\n",
       "  <Person fetched=False imdb_id='4518724' name='Akash Sinha'>,\n",
       "  <Person fetched=False imdb_id='10826051' name='Varun Sinha'>,\n",
       "  <Person fetched=False imdb_id='3720865' name='Suhas Sirsat'>,\n",
       "  <Person fetched=False imdb_id='10826056' name='Praveen Sisodia'>,\n",
       "  <Person fetched=False imdb_id='4606894' name='Pravin Singh Sisodia'>,\n",
       "  <Person fetched=False imdb_id='10826065' name='Amreesh Srivastava'>,\n",
       "  <Person fetched=False imdb_id='10826053' name='Anup Srivastava'>,\n",
       "  <Person fetched=False imdb_id='4867316' name='Shilpa Srivastava'>,\n",
       "  <Person fetched=False imdb_id='10826096' name='Mamta Tiwari'>,\n",
       "  <Person fetched=False imdb_id='10826099' name='Prerna Tiwari'>,\n",
       "  <Person fetched=False imdb_id='10826061' name='Rajnikant Trigul'>,\n",
       "  <Person fetched=False imdb_id='12288378' name='Heramba Shankar Tripathi'>,\n",
       "  <Person fetched=False imdb_id='2690647' name='Pankaj Tripathi'>,\n",
       "  <Person fetched=False imdb_id='2768833' name='Rati Shankar Tripathi'>,\n",
       "  <Person fetched=False imdb_id='10826091' name='Vijay Tripathi'>,\n",
       "  <Person fetched=False imdb_id='10826071' name='Utkarsh'>,\n",
       "  <Person fetched=False imdb_id='10826074' name='Sanjeeva Vats'>,\n",
       "  <Person fetched=False imdb_id='10826086' name='Sagar Verma'>,\n",
       "  <Person fetched=False imdb_id='6451984' name='Jack Wayne'>,\n",
       "  <Person fetched=False imdb_id='10826098' name='Luv Yadav'>,\n",
       "  <Person fetched=False imdb_id='10826052' name='Rambhu Yadav'>,\n",
       "  <Person fetched=False imdb_id='10826079' name='Rashmi Yadav'>,\n",
       "  <Person fetched=False imdb_id='10826111' name='Tripurari Yadav'>,\n",
       "  <Person fetched=False imdb_id='10826108' name='Kiran Yaday'>,\n",
       "  <Person fetched=False imdb_id='4731845' name='Rohit Pandey'>,\n",
       "  <Person fetched=False imdb_id='1019127' name='Sanjeeva Vatsa'>],\n",
       " 'directors': [<Person fetched=False imdb_id='0440604' name='Anurag Kashyap'>],\n",
       " 'writers': [<Person fetched=False imdb_id='4556524' name='Akhilesh Jaiswal'>,\n",
       "  <Person fetched=False imdb_id='0440604' name='Anurag Kashyap'>,\n",
       "  <Person fetched=False imdb_id='4556473' name='Sachin K. Ladia'>],\n",
       " 'more_like_this': [],\n",
       " 'languages': ['Hindi'],\n",
       " 'genres': ['Action', 'Comedy', 'Crime', 'Drama', 'Thriller'],\n",
       " 'countries': ['India'],\n",
       " 'plot_keywords': ['india', 'satire', 'cigarette', 'revenge', 'blood'],\n",
       " 'cover': 'https://m.media-amazon.com/images/M/MV5BMTc5NjY4MjUwNF5BMl5BanBnXkFtZTgwODM3NzM5MzE@.jpg',\n",
       " 'duration': 321,\n",
       " 'title': 'Gangs of Wasseypur',\n",
       " 'year': 2012,\n",
       " 'release_date': None,\n",
       " 'description': None,\n",
       " 'plot': \"Shahid Khan is exiled after impersonating the legendary Sultana Daku in order to rob British trains. Now outcast, Shahid becomes a worker at Ramadhir Singh's colliery, only to spur a revenge battle that passes on to generations. At the turn of the decade, Shahid's son, the philandering Sardar Khan vows to get his father's honor back, becoming the most feared man of Wasseypur.\",\n",
       " 'storyline': None,\n",
       " 'tagline': None,\n",
       " 'rating': Decimal('8.2'),\n",
       " 'votes': 94256,\n",
       " 'fetched': True}"
      ]
     },
     "execution_count": 5,
     "metadata": {},
     "output_type": "execute_result"
    }
   ],
   "source": [
    ">>> from imdbparser import IMDb\n",
    ">>> imdb = IMDb()\n",
    ">>> search_result = imdb.search_tv_show('it crowd')\n",
    ">>> search_result.fetched\n",
    "False\n",
    ">>> search_result.fetch()\n",
    ">>> search_result.fetched\n",
    "True\n",
    ">>> search_result.results\n",
    "[<Movie fetched=False imdb_id='0487831' title='The IT Crowd' year=None>,\n",
    " <Movie fetched=False imdb_id='0944954' title='The IT Crowd' year=None>, ...]"
   ]
  }
 ],
 "metadata": {
  "hide_input": false,
  "kernelspec": {
   "display_name": "Python 3 (ipykernel)",
   "language": "python",
   "name": "python3"
  },
  "language_info": {
   "codemirror_mode": {
    "name": "ipython",
    "version": 3
   },
   "file_extension": ".py",
   "mimetype": "text/x-python",
   "name": "python",
   "nbconvert_exporter": "python",
   "pygments_lexer": "ipython3",
   "version": "3.10.4"
  },
  "latex_envs": {
   "LaTeX_envs_menu_present": true,
   "autoclose": true,
   "autocomplete": true,
   "bibliofile": "biblio.bib",
   "cite_by": "apalike",
   "current_citInitial": 1,
   "eqLabelWithNumbers": true,
   "eqNumInitial": 1,
   "hotkeys": {
    "equation": "Ctrl-E",
    "itemize": "Ctrl-I"
   },
   "labels_anchors": false,
   "latex_user_defs": false,
   "report_style_numbering": false,
   "user_envs_cfg": false
  },
  "toc": {
   "base_numbering": 1,
   "nav_menu": {},
   "number_sections": true,
   "sideBar": true,
   "skip_h1_title": false,
   "title_cell": "Table of Contents",
   "title_sidebar": "Contents",
   "toc_cell": false,
   "toc_position": {},
   "toc_section_display": true,
   "toc_window_display": false
  },
  "varInspector": {
   "cols": {
    "lenName": 16,
    "lenType": 16,
    "lenVar": 40
   },
   "kernels_config": {
    "python": {
     "delete_cmd_postfix": "",
     "delete_cmd_prefix": "del ",
     "library": "var_list.py",
     "varRefreshCmd": "print(var_dic_list())"
    },
    "r": {
     "delete_cmd_postfix": ") ",
     "delete_cmd_prefix": "rm(",
     "library": "var_list.r",
     "varRefreshCmd": "cat(var_dic_list()) "
    }
   },
   "types_to_exclude": [
    "module",
    "function",
    "builtin_function_or_method",
    "instance",
    "_Feature"
   ],
   "window_display": false
  }
 },
 "nbformat": 4,
 "nbformat_minor": 5
}
