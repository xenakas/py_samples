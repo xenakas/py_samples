{
 "cells": [
  {
   "cell_type": "code",
   "execution_count": 3,
   "metadata": {
    "ExecuteTime": {
     "end_time": "2022-07-02T17:51:46.614654Z",
     "start_time": "2022-07-02T17:51:46.593Z"
    }
   },
   "outputs": [],
   "source": [
    "library(RSelenium)\n",
    "library(XML)\n",
    "# library(janitor) \n",
    "library(lubridate)\n",
    "library(magrittr)\n",
    "library(dplyr)\n",
    "# library(xlsx)"
   ]
  },
  {
   "cell_type": "code",
   "execution_count": 1,
   "metadata": {
    "ExecuteTime": {
     "end_time": "2021-11-22T15:20:05.403764Z",
     "start_time": "2021-11-22T15:20:05.372Z"
    }
   },
   "outputs": [],
   "source": [
    "# БЛЯХА СНАЧАЛА ЭТО!\n",
    "# sudo mkdir /sys/fs/cgroup/systemd    \n",
    "# sudo mount -t cgroup -o none,name=systemd cgroup /sys/fs/cgroup/systemd\n",
    "\n",
    "\n",
    "# sudo docker run -d -p 4445:4444 -p 5901:5900 selenium/standalone-firefox-debug:2.53.0\n",
    "\n",
    "\n",
    "# https://docs.ropensci.org/RSelenium/articles/docker.html \n",
    "# vinagre \n",
    "# 127.0.0.1:5901 \n",
    "# pass: secret"
   ]
  },
  {
   "cell_type": "code",
   "execution_count": 4,
   "metadata": {
    "ExecuteTime": {
     "end_time": "2022-07-02T17:51:52.019108Z",
     "start_time": "2022-07-02T17:51:49.746Z"
    }
   },
   "outputs": [
    {
     "name": "stdout",
     "output_type": "stream",
     "text": [
      "[1] \"Connecting to remote server\"\n",
      "$applicationCacheEnabled\n",
      "[1] TRUE\n",
      "\n",
      "$rotatable\n",
      "[1] FALSE\n",
      "\n",
      "$handlesAlerts\n",
      "[1] TRUE\n",
      "\n",
      "$databaseEnabled\n",
      "[1] TRUE\n",
      "\n",
      "$version\n",
      "[1] \"45.0.2\"\n",
      "\n",
      "$platform\n",
      "[1] \"LINUX\"\n",
      "\n",
      "$nativeEvents\n",
      "[1] FALSE\n",
      "\n",
      "$acceptSslCerts\n",
      "[1] TRUE\n",
      "\n",
      "$webdriver.remote.sessionid\n",
      "[1] \"0fd86dcb-5b6e-4ebf-a70b-8d3fd0a460d0\"\n",
      "\n",
      "$webStorageEnabled\n",
      "[1] TRUE\n",
      "\n",
      "$locationContextEnabled\n",
      "[1] TRUE\n",
      "\n",
      "$browserName\n",
      "[1] \"firefox\"\n",
      "\n",
      "$takesScreenshot\n",
      "[1] TRUE\n",
      "\n",
      "$javascriptEnabled\n",
      "[1] TRUE\n",
      "\n",
      "$cssSelectorsEnabled\n",
      "[1] TRUE\n",
      "\n",
      "$id\n",
      "[1] \"0fd86dcb-5b6e-4ebf-a70b-8d3fd0a460d0\"\n",
      "\n"
     ]
    }
   ],
   "source": [
    "remDr <- remoteDriver(\n",
    "#     remoteServerAddr = \"192.168.99.101\",\n",
    "    port = 4445L\n",
    ")\n",
    "remDr$open()"
   ]
  },
  {
   "cell_type": "code",
   "execution_count": null,
   "metadata": {},
   "outputs": [],
   "source": []
  },
  {
   "cell_type": "code",
   "execution_count": null,
   "metadata": {
    "ExecuteTime": {
     "start_time": "2022-07-02T17:52:00.003Z"
    }
   },
   "outputs": [],
   "source": [
    "remDr$navigate(\"https://www.kinopoisk.ru/film/1289029/box/\")\n",
    "# remDr$screenshot(display = TRUE)"
   ]
  },
  {
   "cell_type": "code",
   "execution_count": 70,
   "metadata": {
    "ExecuteTime": {
     "end_time": "2022-07-01T21:47:36.454571Z",
     "start_time": "2022-07-01T21:47:36.425Z"
    }
   },
   "outputs": [
    {
     "data": {
      "text/html": [
       "<ol>\n",
       "\t<li>'https://www.kinopoisk.ru/showcaptcha?retpath=aHR0cHM6Ly93d3cua2lub3BvaXNrLnJ1L2ZpbG0vNDE1MTkvYm94Pw%2C%2C_d8eb7ffa74adfb64b457648d3e23a0af&amp;t=3/1656711900/66f4f5462119498a1a9f4004770aec24&amp;u=e310ea8b-e0fde92-4bea3cbe-c497679a&amp;s=e5a1bad28d28a91bc65413737681f3e8'</li>\n",
       "</ol>\n"
      ],
      "text/latex": [
       "\\begin{enumerate}\n",
       "\\item 'https://www.kinopoisk.ru/showcaptcha?retpath=aHR0cHM6Ly93d3cua2lub3BvaXNrLnJ1L2ZpbG0vNDE1MTkvYm94Pw\\%2C\\%2C\\_d8eb7ffa74adfb64b457648d3e23a0af\\&t=3/1656711900/66f4f5462119498a1a9f4004770aec24\\&u=e310ea8b-e0fde92-4bea3cbe-c497679a\\&s=e5a1bad28d28a91bc65413737681f3e8'\n",
       "\\end{enumerate}\n"
      ],
      "text/markdown": [
       "1. 'https://www.kinopoisk.ru/showcaptcha?retpath=aHR0cHM6Ly93d3cua2lub3BvaXNrLnJ1L2ZpbG0vNDE1MTkvYm94Pw%2C%2C_d8eb7ffa74adfb64b457648d3e23a0af&amp;t=3/1656711900/66f4f5462119498a1a9f4004770aec24&amp;u=e310ea8b-e0fde92-4bea3cbe-c497679a&amp;s=e5a1bad28d28a91bc65413737681f3e8'\n",
       "\n",
       "\n"
      ],
      "text/plain": [
       "[[1]]\n",
       "[1] \"https://www.kinopoisk.ru/showcaptcha?retpath=aHR0cHM6Ly93d3cua2lub3BvaXNrLnJ1L2ZpbG0vNDE1MTkvYm94Pw%2C%2C_d8eb7ffa74adfb64b457648d3e23a0af&t=3/1656711900/66f4f5462119498a1a9f4004770aec24&u=e310ea8b-e0fde92-4bea3cbe-c497679a&s=e5a1bad28d28a91bc65413737681f3e8\"\n"
      ]
     },
     "metadata": {},
     "output_type": "display_data"
    }
   ],
   "source": [
    "remDr$getCurrentUrl()"
   ]
  },
  {
   "cell_type": "code",
   "execution_count": 123,
   "metadata": {
    "ExecuteTime": {
     "end_time": "2022-07-01T22:17:28.651012Z",
     "start_time": "2022-07-01T22:17:28.027Z"
    }
   },
   "outputs": [],
   "source": [
    "webElem <- remDr$findElement(using = \"css\", '.CheckboxCaptcha-Button')\n",
    "# webElem$highlightElement()\n",
    "webElem$clickElement()\n",
    "webElem <- remDr$findElement(using = \"css\", '#xuniq-0-1')"
   ]
  },
  {
   "cell_type": "code",
   "execution_count": null,
   "metadata": {
    "ExecuteTime": {
     "end_time": "2022-07-01T22:16:02.867911Z",
     "start_time": "2022-07-01T22:16:02.764Z"
    }
   },
   "outputs": [],
   "source": [
    "# webElem$highlightElement()\n",
    "webElem$sendKeysToElement(list('шевеление обработке', key = \"enter\"))\n",
    "       "
   ]
  },
  {
   "cell_type": "code",
   "execution_count": 121,
   "metadata": {
    "ExecuteTime": {
     "end_time": "2022-07-01T22:16:02.867911Z",
     "start_time": "2022-07-01T22:16:02.764Z"
    }
   },
   "outputs": [],
   "source": []
  },
  {
   "cell_type": "code",
   "execution_count": 73,
   "metadata": {
    "ExecuteTime": {
     "end_time": "2022-07-01T21:50:16.761622Z",
     "start_time": "2022-07-01T21:50:16.690Z"
    }
   },
   "outputs": [],
   "source": []
  },
  {
   "cell_type": "code",
   "execution_count": null,
   "metadata": {
    "ExecuteTime": {
     "end_time": "2022-07-01T21:39:54.028893Z",
     "start_time": "2022-07-01T21:39:53.498Z"
    }
   },
   "outputs": [],
   "source": [
    "webElem <- remDr$findElement(using = \"css\", '.block_left')\n",
    "webElem$highlightElement()\n",
    "# webElem$clickElement()"
   ]
  },
  {
   "cell_type": "code",
   "execution_count": 59,
   "metadata": {
    "ExecuteTime": {
     "end_time": "2022-07-01T21:40:15.180437Z",
     "start_time": "2022-07-01T21:40:14.479Z"
    }
   },
   "outputs": [
    {
     "data": {
      "text/html": [
       "<ol>\n",
       "\t<li><span style=white-space:pre-wrap>'Россия\\nСборы / Брат\\n1997\\nИнформация о фильме »\\n\\n\\nКассовые сборы\\nВ США:\\n-- \\n  В других странах:\\n-- \\n  В России:\\n$1 390 507\\nОбщие сборы:\\n$1 390 507 \\n      Затраты\\nБюджет:\\n-- \\n  Маркетинг:\\n-- \\n  Итого:\\n-- \\n           \\nПервый уик-энд (Россия)\\nШирокий прокат:\\n32 542 648 руб.\\n\\n41.5%\\n  Макс. кол-во кинотеатров:\\n924\\n(копий: 924, ~35 219 руб.)\\n \\nПрокат (Россия)\\nШирокий прокат:\\n12.12.1997\\n(копий: 924, ~84 774 руб.)\\nПродолжительность (нед.):\\n13\\n\\n \\n\\nКассовые сборы уик-эндов (Россия)\\n  Первый уик-энд →\\n\\n\\n\\n\\nНазад на страницу фильма...'</span></li>\n",
       "</ol>\n"
      ],
      "text/latex": [
       "\\begin{enumerate}\n",
       "\\item 'Россия\\textbackslash{}nСборы / Брат\\textbackslash{}n1997\\textbackslash{}nИнформация о фильме »\\textbackslash{}n\\textbackslash{}n\\textbackslash{}nКассовые сборы\\textbackslash{}nВ США:\\textbackslash{}n-- \\textbackslash{}n  В других странах:\\textbackslash{}n-- \\textbackslash{}n  В России:\\textbackslash{}n\\$1 390 507\\textbackslash{}nОбщие сборы:\\textbackslash{}n\\$1 390 507 \\textbackslash{}n      Затраты\\textbackslash{}nБюджет:\\textbackslash{}n-- \\textbackslash{}n  Маркетинг:\\textbackslash{}n-- \\textbackslash{}n  Итого:\\textbackslash{}n-- \\textbackslash{}n           \\textbackslash{}nПервый уик-энд (Россия)\\textbackslash{}nШирокий прокат:\\textbackslash{}n32 542 648 руб.\\textbackslash{}n\\textbackslash{}n41.5\\%\\textbackslash{}n  Макс. кол-во кинотеатров:\\textbackslash{}n924\\textbackslash{}n(копий: 924, \\textasciitilde{}35 219 руб.)\\textbackslash{}n \\textbackslash{}nПрокат (Россия)\\textbackslash{}nШирокий прокат:\\textbackslash{}n12.12.1997\\textbackslash{}n(копий: 924, \\textasciitilde{}84 774 руб.)\\textbackslash{}nПродолжительность (нед.):\\textbackslash{}n13\\textbackslash{}n\\textbackslash{}n \\textbackslash{}n\\textbackslash{}nКассовые сборы уик-эндов (Россия)\\textbackslash{}n  Первый уик-энд →\\textbackslash{}n\\textbackslash{}n\\textbackslash{}n\\textbackslash{}n\\textbackslash{}nНазад на страницу фильма...'\n",
       "\\end{enumerate}\n"
      ],
      "text/markdown": [
       "1. <span style=white-space:pre-wrap>'Россия\\nСборы / Брат\\n1997\\nИнформация о фильме »\\n\\n\\nКассовые сборы\\nВ США:\\n-- \\n  В других странах:\\n-- \\n  В России:\\n$1 390 507\\nОбщие сборы:\\n$1 390 507 \\n      Затраты\\nБюджет:\\n-- \\n  Маркетинг:\\n-- \\n  Итого:\\n-- \\n           \\nПервый уик-энд (Россия)\\nШирокий прокат:\\n32 542 648 руб.\\n\\n41.5%\\n  Макс. кол-во кинотеатров:\\n924\\n(копий: 924, ~35 219 руб.)\\n \\nПрокат (Россия)\\nШирокий прокат:\\n12.12.1997\\n(копий: 924, ~84 774 руб.)\\nПродолжительность (нед.):\\n13\\n\\n \\n\\nКассовые сборы уик-эндов (Россия)\\n  Первый уик-энд →\\n\\n\\n\\n\\nНазад на страницу фильма...'</span>\n",
       "\n",
       "\n"
      ],
      "text/plain": [
       "[[1]]\n",
       "[1] \"Россия\\nСборы / Брат\\n1997\\nИнформация о фильме »\\n\\n\\nКассовые сборы\\nВ США:\\n-- \\n  В других странах:\\n-- \\n  В России:\\n$1 390 507\\nОбщие сборы:\\n$1 390 507 \\n      Затраты\\nБюджет:\\n-- \\n  Маркетинг:\\n-- \\n  Итого:\\n-- \\n           \\nПервый уик-энд (Россия)\\nШирокий прокат:\\n32 542 648 руб.\\n\\n41.5%\\n  Макс. кол-во кинотеатров:\\n924\\n(копий: 924, ~35 219 руб.)\\n \\nПрокат (Россия)\\nШирокий прокат:\\n12.12.1997\\n(копий: 924, ~84 774 руб.)\\nПродолжительность (нед.):\\n13\\n\\n \\n\\nКассовые сборы уик-эндов (Россия)\\n  Первый уик-энд →\\n\\n\\n\\n\\nНазад на страницу фильма...\"\n"
      ]
     },
     "metadata": {},
     "output_type": "display_data"
    }
   ],
   "source": [
    "webElem$getElementText()\n",
    "# [[1]]"
   ]
  },
  {
   "cell_type": "code",
   "execution_count": 41,
   "metadata": {
    "ExecuteTime": {
     "end_time": "2022-07-01T21:27:06.191087Z",
     "start_time": "2022-07-01T21:27:06.157Z"
    }
   },
   "outputs": [],
   "source": [
    "df_ind = read.csv('/media/xenakas/ext4_drive/ids.csv')"
   ]
  },
  {
   "cell_type": "code",
   "execution_count": 67,
   "metadata": {
    "ExecuteTime": {
     "end_time": "2022-07-01T21:45:00.673337Z",
     "start_time": "2022-07-01T21:45:00.284Z"
    }
   },
   "outputs": [],
   "source": [
    "remDr$navigate(txt_id)"
   ]
  },
  {
   "cell_type": "code",
   "execution_count": 163,
   "metadata": {
    "ExecuteTime": {
     "end_time": "2022-07-01T23:11:37.941827Z",
     "start_time": "2022-07-01T23:11:37.896Z"
    }
   },
   "outputs": [
    {
     "data": {
      "text/html": [
       "<style>\n",
       ".list-inline {list-style: none; margin:0; padding: 0}\n",
       ".list-inline>li {display: inline-block}\n",
       ".list-inline>li:not(:last-child)::after {content: \"\\00b7\"; padding: 0 .5ex}\n",
       "</style>\n",
       "<ol class=list-inline><li>17458</li><li>2</li></ol>\n"
      ],
      "text/latex": [
       "\\begin{enumerate*}\n",
       "\\item 17458\n",
       "\\item 2\n",
       "\\end{enumerate*}\n"
      ],
      "text/markdown": [
       "1. 17458\n",
       "2. 2\n",
       "\n",
       "\n"
      ],
      "text/plain": [
       "[1] 17458     2"
      ]
     },
     "metadata": {},
     "output_type": "display_data"
    }
   ],
   "source": [
    "dim(df_ind)\n",
    "# txt_id"
   ]
  },
  {
   "cell_type": "code",
   "execution_count": 140,
   "metadata": {
    "ExecuteTime": {
     "end_time": "2022-07-01T22:22:08.006110Z",
     "start_time": "2022-07-01T22:22:07.994Z"
    }
   },
   "outputs": [],
   "source": [
    "collecting_ind  <- function(i){\n",
    "    txt_id = paste(\"https://www.kinopoisk.ru/film/\",df_ind[i,2],\"/box/\",sep = '')\n",
    "    remDr$navigate(txt_id)\n",
    "    webElem <- remDr$findElement(using = \"css\", '.block_left')\n",
    "#     Sys.sleep(runif(1,0.2,2.2))\n",
    "    return(webElem$getElementText()[[1]])}\n"
   ]
  },
  {
   "cell_type": "code",
   "execution_count": 102,
   "metadata": {
    "ExecuteTime": {
     "end_time": "2022-07-01T22:07:34.481768Z",
     "start_time": "2022-07-01T22:07:34.450Z"
    }
   },
   "outputs": [
    {
     "name": "stdout",
     "output_type": "stream",
     "text": [
      "[1] \"error\"\n"
     ]
    },
    {
     "data": {
      "text/html": [
       "<ol>\n",
       "\t<li>NULL</li>\n",
       "\t<li>NULL</li>\n",
       "\t<li>'https://www.kinopoisk.ru/film/1445143/box/'</li>\n",
       "</ol>\n"
      ],
      "text/latex": [
       "\\begin{enumerate}\n",
       "\\item NULL\n",
       "\\item NULL\n",
       "\\item 'https://www.kinopoisk.ru/film/1445143/box/'\n",
       "\\end{enumerate}\n"
      ],
      "text/markdown": [
       "1. NULL\n",
       "2. NULL\n",
       "3. 'https://www.kinopoisk.ru/film/1445143/box/'\n",
       "\n",
       "\n"
      ],
      "text/plain": [
       "[[1]]\n",
       "NULL\n",
       "\n",
       "[[2]]\n",
       "NULL\n",
       "\n",
       "[[3]]\n",
       "[1] \"https://www.kinopoisk.ru/film/1445143/box/\"\n"
      ]
     },
     "metadata": {},
     "output_type": "display_data"
    }
   ],
   "source": [
    "# check[[i]] <- \n",
    "check=c()\n",
    "check[[3]]<- tryCatch({\n",
    "        1+a\n",
    "    }, error = function(cond) {\n",
    "#         print(txt_id)\n",
    "#         Sys.sleep(10)\n",
    "    \n",
    "        print('error')\n",
    "        txt_id\n",
    "\n",
    "    })\n",
    "check"
   ]
  },
  {
   "cell_type": "code",
   "execution_count": 148,
   "metadata": {
    "ExecuteTime": {
     "end_time": "2022-07-01T22:37:59.475567Z",
     "start_time": "2022-07-01T22:37:58.784Z"
    }
   },
   "outputs": [],
   "source": [
    "webElem <- remDr$findElement(using = \"css\", '.CheckboxCaptcha-Button')\n",
    "# webElem$highlightElement()\n",
    "webElem$clickElement()\n",
    "webElem <- remDr$findElement(using = \"css\", '#xuniq-0-1')"
   ]
  },
  {
   "cell_type": "code",
   "execution_count": 149,
   "metadata": {
    "ExecuteTime": {
     "end_time": "2022-07-01T22:38:42.629762Z",
     "start_time": "2022-07-01T22:38:42.535Z"
    }
   },
   "outputs": [],
   "source": [
    "# webElem$highlightElement()\n",
    "       "
   ]
  },
  {
   "cell_type": "code",
   "execution_count": 146,
   "metadata": {
    "ExecuteTime": {
     "end_time": "2022-07-01T22:36:12.155849Z",
     "start_time": "2022-07-01T22:36:12.148Z"
    }
   },
   "outputs": [],
   "source": [
    "# list_films"
   ]
  },
  {
   "cell_type": "code",
   "execution_count": null,
   "metadata": {},
   "outputs": [],
   "source": [
    "WebDriver\n",
    "Wait wait = new WebDriverWait );\n",
    "{ return d.FindElement ; // here we can use any locator that identifies a successful / unsuccessful login });"
   ]
  },
  {
   "cell_type": "code",
   "execution_count": 155,
   "metadata": {
    "ExecuteTime": {
     "end_time": "2022-07-01T22:48:44.331863Z",
     "start_time": "2022-07-01T22:48:44.314Z"
    }
   },
   "outputs": [
    {
     "data": {
      "text/html": [
       "TRUE"
      ],
      "text/latex": [
       "TRUE"
      ],
      "text/markdown": [
       "TRUE"
      ],
      "text/plain": [
       "[1] TRUE"
      ]
     },
     "metadata": {},
     "output_type": "display_data"
    }
   ],
   "source": [
    "# start:100\n",
    "!(1>2)\n"
   ]
  },
  {
   "cell_type": "code",
   "execution_count": null,
   "metadata": {
    "ExecuteTime": {
     "start_time": "2022-07-02T17:49:52.204Z"
    }
   },
   "outputs": [],
   "source": [
    "start = length(list_films)\n",
    "a = 0\n",
    "for (i in start:100) {\n",
    "    cap_dum <- 0\n",
    "    list_films[[i]] <- tryCatch({\n",
    "        collecting_ind(i)\n",
    "    }, error = function(cond) {\n",
    "\n",
    "        tryCatch({\n",
    "            webElem <- remDr$findElement(using = \"css\", \".CheckboxCaptcha-Button\")\n",
    "            webElem$clickElement()\n",
    "            webElem <- remDr$findElement(using = \"css\", \"#xuniq-0-1\")\n",
    "            capcap <- readline(prompt = \"Enter cap: \")\n",
    "            webElem$sendKeysToElement(list(capcap, key = \"enter\"))\n",
    "            i <- i - 1\n",
    "\n",
    "        }, error = function(cond) {\n",
    "            cap_dum <- 1\n",
    "            print(txt_id)\n",
    "            Sys.sleep(runif(1, 0.2, 2.2))\n",
    "            txt_id\n",
    "\n",
    "        })\n",
    "    })\n",
    "\n",
    "    if ((cap_dum == 1)) {\n",
    "        # if ((capcap == 'ж')) {\n",
    "        break()\n",
    "        # }\n",
    "    }\n",
    "    a = a + 1\n",
    "    Sys.sleep(runif(1, 1.2, 3.2))\n",
    "\n",
    "\n",
    "\n",
    "}\n",
    "print(a)"
   ]
  },
  {
   "cell_type": "code",
   "execution_count": null,
   "metadata": {},
   "outputs": [],
   "source": []
  },
  {
   "cell_type": "code",
   "execution_count": null,
   "metadata": {
    "ExecuteTime": {
     "start_time": "2022-07-02T17:50:45.844Z"
    }
   },
   "outputs": [],
   "source": [
    "list_films"
   ]
  },
  {
   "cell_type": "code",
   "execution_count": 77,
   "metadata": {
    "ExecuteTime": {
     "end_time": "2022-07-01T21:52:35.464257Z",
     "start_time": "2022-07-01T21:52:35.443Z"
    }
   },
   "outputs": [],
   "source": [
    "# cat(list_films[[2]])"
   ]
  },
  {
   "cell_type": "code",
   "execution_count": 21,
   "metadata": {
    "ExecuteTime": {
     "end_time": "2022-07-01T20:51:10.862689Z",
     "start_time": "2022-07-01T20:51:10.659Z"
    }
   },
   "outputs": [],
   "source": [
    "doc <- htmlParse(remDr$getPageSource()[[1]])"
   ]
  },
  {
   "cell_type": "code",
   "execution_count": 28,
   "metadata": {
    "ExecuteTime": {
     "end_time": "2022-07-01T20:59:51.182386Z",
     "start_time": "2022-07-01T20:59:51.117Z"
    }
   },
   "outputs": [],
   "source": [
    "table_tmp <- readHTMLTable(doc,stringsAsFactors = TRUE)"
   ]
  }
 ],
 "metadata": {
  "hide_input": false,
  "kernelspec": {
   "display_name": "R 4.2",
   "language": "R",
   "name": "ir42"
  },
  "language_info": {
   "codemirror_mode": "r",
   "file_extension": ".r",
   "mimetype": "text/x-r-source",
   "name": "R",
   "pygments_lexer": "r",
   "version": "4.2.1"
  },
  "latex_envs": {
   "LaTeX_envs_menu_present": true,
   "autoclose": true,
   "autocomplete": true,
   "bibliofile": "biblio.bib",
   "cite_by": "apalike",
   "current_citInitial": 1,
   "eqLabelWithNumbers": true,
   "eqNumInitial": 1,
   "hotkeys": {
    "equation": "Ctrl-E",
    "itemize": "Ctrl-I"
   },
   "labels_anchors": false,
   "latex_user_defs": false,
   "report_style_numbering": false,
   "user_envs_cfg": false
  },
  "toc": {
   "base_numbering": 1,
   "nav_menu": {},
   "number_sections": true,
   "sideBar": true,
   "skip_h1_title": false,
   "title_cell": "Table of Contents",
   "title_sidebar": "Contents",
   "toc_cell": false,
   "toc_position": {},
   "toc_section_display": true,
   "toc_window_display": false
  },
  "varInspector": {
   "cols": {
    "lenName": 16,
    "lenType": 16,
    "lenVar": 40
   },
   "kernels_config": {
    "python": {
     "delete_cmd_postfix": "",
     "delete_cmd_prefix": "del ",
     "library": "var_list.py",
     "varRefreshCmd": "print(var_dic_list())"
    },
    "r": {
     "delete_cmd_postfix": ") ",
     "delete_cmd_prefix": "rm(",
     "library": "var_list.r",
     "varRefreshCmd": "cat(var_dic_list()) "
    }
   },
   "types_to_exclude": [
    "module",
    "function",
    "builtin_function_or_method",
    "instance",
    "_Feature"
   ],
   "window_display": false
  }
 },
 "nbformat": 4,
 "nbformat_minor": 2
}
