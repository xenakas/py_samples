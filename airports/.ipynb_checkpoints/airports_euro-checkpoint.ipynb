{
 "cells": [
  {
   "cell_type": "markdown",
   "metadata": {},
   "source": [
    "# Самолеты-самолеты"
   ]
  },
  {
   "cell_type": "code",
   "execution_count": 16,
   "metadata": {},
   "outputs": [],
   "source": [
    "import numpy as np\n",
    "import pandas as pd"
   ]
  },
  {
   "cell_type": "code",
   "execution_count": 17,
   "metadata": {},
   "outputs": [],
   "source": [
    "airports = pd.read_csv('airports.csv',names = ['Airport ID','Name','City','Country','IATA','ICAO','Latitude','Longitude','Altitude','Timezone','DST','Tz_database_time_zone','Type','Source'])\n",
    "routes = pd.read_csv('routes.csv',names = ['Airline','Airport ID','Source airport','Source airport ID','Destination airport','Destination airport ID','Codeshare','Stops','Equipment'])"
   ]
  },
  {
   "cell_type": "markdown",
   "metadata": {},
   "source": [
    "Перечень стран Европы:"
   ]
  },
  {
   "cell_type": "code",
   "execution_count": 18,
   "metadata": {},
   "outputs": [],
   "source": [
    "europe=np.array(['Belgium', 'Germany', 'Estonia', 'Finland', 'United Kingdom',\n",
    "'Guernsey', 'Jersey', 'Isle of Man', 'Netherlands', 'Ireland',\n",
    "'Denmark', 'Luxembourg', 'Norway', 'Poland', 'Sweden', 'Spain',\n",
    "'Albania', 'Bulgaria', 'Cyprus', 'Croatia', 'France', 'Greece',\n",
    "'Hungary', 'Italy', 'Slovenia', 'Czech Republic', 'Malta',\n",
    "'Austria', 'Portugal', 'Bosnia and Herzegovina', 'Romania',\n",
    "'Switzerland', 'Turkey', 'Moldova', 'Macedonia', 'Gibraltar',\n",
    "'Serbia', 'Montenegro', 'Slovakia', 'Ukraine', 'Russia', 'Belarus',\n",
    "'Latvia', 'Lithuania','Faroe Islands', 'Greenland', 'Iceland'])"
   ]
  },
  {
   "cell_type": "markdown",
   "metadata": {},
   "source": [
    "Отберем аэропорты для стран Европы имеющих трех буквенный код IATA:"
   ]
  },
  {
   "cell_type": "code",
   "execution_count": 19,
   "metadata": {},
   "outputs": [],
   "source": [
    "airports = airports[(airports['IATA'].str.len() == 3) & (airports['Country'].isin(europe))]"
   ]
  },
  {
   "cell_type": "markdown",
   "metadata": {},
   "source": [
    "Пометим пропущенные данные, как ``np.nan`` "
   ]
  },
  {
   "cell_type": "code",
   "execution_count": 20,
   "metadata": {},
   "outputs": [],
   "source": [
    "airports = airports.replace('\\\\N', np.nan)\n",
    "routes = routes.replace('\\\\N', np.nan)"
   ]
  },
  {
   "cell_type": "markdown",
   "metadata": {},
   "source": [
    "Посчитать взлет/посадки для каждого аэропорта стран Европы"
   ]
  },
  {
   "cell_type": "code",
   "execution_count": 21,
   "metadata": {},
   "outputs": [],
   "source": [
    "sour = routes.groupby(routes['Source airport']).count()[['Source airport ID']]\n",
    "dest = routes.groupby(routes['Destination airport']).count()[['Destination airport ID']]\n",
    "\n",
    "sour['IATA'] = sour.index\n",
    "dest['IATA'] = dest.index"
   ]
  },
  {
   "cell_type": "code",
   "execution_count": 22,
   "metadata": {},
   "outputs": [],
   "source": [
    "result = sour.merge(dest,left_on='IATA', right_on='IATA' , how='inner' )  # Если нет зачения взлет или посадка, аэропорт выкидываем из списка - inner join. \n",
    "result['Fly'] =  result['Source airport ID'] + result['Destination airport ID'] "
   ]
  },
  {
   "cell_type": "code",
   "execution_count": 23,
   "metadata": {},
   "outputs": [],
   "source": [
    "airports = airports.merge(result,left_on='IATA', right_on='IATA' , how='inner' ).set_index('Name')"
   ]
  },
  {
   "cell_type": "markdown",
   "metadata": {},
   "source": [
    "Отсортируем по названию страны, по значению Fly, возьмем 3 значения:"
   ]
  },
  {
   "cell_type": "code",
   "execution_count": 27,
   "metadata": {},
   "outputs": [],
   "source": [
    "answer = airports.groupby('Country')['Fly'].nlargest(3)"
   ]
  },
  {
   "cell_type": "markdown",
   "metadata": {},
   "source": [
    "Ответ:"
   ]
  },
  {
   "cell_type": "code",
   "execution_count": 28,
   "metadata": {},
   "outputs": [
    {
     "data": {
      "text/html": [
       "<div>\n",
       "<style scoped>\n",
       "    .dataframe tbody tr th:only-of-type {\n",
       "        vertical-align: middle;\n",
       "    }\n",
       "\n",
       "    .dataframe tbody tr th {\n",
       "        vertical-align: top;\n",
       "    }\n",
       "\n",
       "    .dataframe thead th {\n",
       "        text-align: right;\n",
       "    }\n",
       "</style>\n",
       "<table border=\"1\" class=\"dataframe\">\n",
       "  <thead>\n",
       "    <tr style=\"text-align: right;\">\n",
       "      <th></th>\n",
       "      <th></th>\n",
       "      <th>Fly</th>\n",
       "    </tr>\n",
       "    <tr>\n",
       "      <th>Country</th>\n",
       "      <th>Name</th>\n",
       "      <th></th>\n",
       "    </tr>\n",
       "  </thead>\n",
       "  <tbody>\n",
       "    <tr>\n",
       "      <th>Albania</th>\n",
       "      <th>Tirana International Airport Mother Teresa</th>\n",
       "      <td>72</td>\n",
       "    </tr>\n",
       "    <tr>\n",
       "      <th rowspan=\"3\" valign=\"top\">Austria</th>\n",
       "      <th>Vienna International Airport</th>\n",
       "      <td>616</td>\n",
       "    </tr>\n",
       "    <tr>\n",
       "      <th>Salzburg Airport</th>\n",
       "      <td>69</td>\n",
       "    </tr>\n",
       "    <tr>\n",
       "      <th>Graz Airport</th>\n",
       "      <td>38</td>\n",
       "    </tr>\n",
       "    <tr>\n",
       "      <th>Belarus</th>\n",
       "      <th>Minsk National Airport</th>\n",
       "      <td>108</td>\n",
       "    </tr>\n",
       "  </tbody>\n",
       "</table>\n",
       "</div>"
      ],
      "text/plain": [
       "                                                    Fly\n",
       "Country Name                                           \n",
       "Albania Tirana International Airport Mother Teresa   72\n",
       "Austria Vienna International Airport                616\n",
       "        Salzburg Airport                             69\n",
       "        Graz Airport                                 38\n",
       "Belarus Minsk National Airport                      108"
      ]
     },
     "execution_count": 28,
     "metadata": {},
     "output_type": "execute_result"
    }
   ],
   "source": [
    "answer.to_frame(name='Fly').head()"
   ]
  }
 ],
 "metadata": {
  "kernelspec": {
   "display_name": "Python 3",
   "language": "python",
   "name": "python3"
  },
  "language_info": {
   "codemirror_mode": {
    "name": "ipython",
    "version": 3
   },
   "file_extension": ".py",
   "mimetype": "text/x-python",
   "name": "python",
   "nbconvert_exporter": "python",
   "pygments_lexer": "ipython3",
   "version": "3.6.5"
  }
 },
 "nbformat": 4,
 "nbformat_minor": 2
}
