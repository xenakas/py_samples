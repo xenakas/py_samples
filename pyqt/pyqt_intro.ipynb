{
 "cells": [
  {
   "cell_type": "markdown",
   "metadata": {},
   "source": [
    "### [PyQt4 — Управление расположением виджетов](https://habr.com/ru/post/31687/)"
   ]
  },
  {
   "cell_type": "code",
   "execution_count": 1,
   "metadata": {},
   "outputs": [
    {
     "name": "stdout",
     "output_type": "stream",
     "text": [
      "4\n",
      "8\n",
      "16\n",
      "32\n",
      "64\n",
      "128\n",
      "256\n"
     ]
    },
    {
     "ename": "SystemExit",
     "evalue": "0",
     "output_type": "error",
     "traceback": [
      "An exception has occurred, use %tb to see the full traceback.\n",
      "\u001b[0;31mSystemExit\u001b[0m\u001b[0;31m:\u001b[0m 0\n"
     ]
    },
    {
     "name": "stderr",
     "output_type": "stream",
     "text": [
      "/home/xenakas/anaconda3/lib/python3.6/site-packages/IPython/core/interactiveshell.py:2971: UserWarning: To exit: use 'exit', 'quit', or Ctrl-D.\n",
      "  warn(\"To exit: use 'exit', 'quit', or Ctrl-D.\", stacklevel=1)\n"
     ]
    }
   ],
   "source": [
    "import sys\n",
    "from PyQt5.QtWidgets import QApplication, QWidget, QPushButton, QLabel, QLCDNumber, QLineEdit\n",
    " \n",
    "class Example(QWidget):\n",
    "    def __init__(self):\n",
    "        super().__init__()  # вызывает конструктор родительского класса\n",
    "        self.initUI()       # вызывается метод класса с названием initUI\n",
    " \n",
    "    def initUI(self):\n",
    "        self.setGeometry(300, 300, 600, 600) # (position left to right, position up to down, width, height)\n",
    "        self.setWindowTitle('App')  \n",
    "        \n",
    "        # 1st part\n",
    "        \n",
    "        self.btn = QPushButton('Magic Button', self)\n",
    "        self.btn.resize(self.btn.sizeHint())\n",
    "        self.btn.move(230, 100)\n",
    "        self.btn.clicked.connect(self.hello)\n",
    "        \n",
    "        self.name_label = QLabel(self)\n",
    "        self.name_label.setText(\"Enter name: \")\n",
    "        self.name_label.move(200, 150)\n",
    "        \n",
    "        self.name_input = QLineEdit(self)\n",
    "        self.name_input.move(200, 170)\n",
    " \n",
    "        # 2nd part\n",
    "        \n",
    "        self.label = QLabel(self)\n",
    "        self.label.setText(\"Powers of 2\")\n",
    "        self.label.move(250, 250)\n",
    "        \n",
    "        self.btn1 = QPushButton('2', self)\n",
    "        self.btn1.resize(200, 100)\n",
    "        self.btn1.move(200, 300)\n",
    "        self.btn1.clicked.connect(self.count)\n",
    "        self.btn1.clicked.connect(self.run)\n",
    "\n",
    "        # 3rd part\n",
    "        \n",
    "        self.label = QLabel(self)\n",
    "        self.label.setText(\"Count Dracula\")\n",
    "        self.label.move(250, 450)\n",
    "        \n",
    "        self.LCD_count = QLCDNumber(self)\n",
    "        self.LCD_count.move(200, 500)\n",
    "        self.count = 1\n",
    "    \n",
    "        \n",
    "    def hello(self):\n",
    "        name = self.name_input.text()\n",
    "        if name != \"\": \n",
    "            self.btn.setText(\"Hello, {}\".format(name))\n",
    "        else: \n",
    "            self.btn.setText(\"Hello, world\")\n",
    "            \n",
    "            \n",
    "    def count(self):\n",
    "        self.count += 1\n",
    "        self.btn1.setText(\"{}\".format(int(self.btn1.text()) * 2))\n",
    "        self.LCD_count.display(self.count)\n",
    "        \n",
    "        \n",
    "    def run(self):\n",
    "        print(self.sender().text())  # The sender is an object that sends a signal. The receiver is the object that receives the signal. The slot is the method that reacts to the signal.\n",
    "  \n",
    " \n",
    "if __name__ == '__main__':\n",
    "    app = QApplication(sys.argv) # app используется только один раз, но необходимо\n",
    "    ex = Example()\n",
    "    ex.show() \n",
    "    sys.exit(app.exec())  # app.exec() enters the main event loop and waits until exit() is called. Но отобразить недостаточно, надо запустить. "
   ]
  },
  {
   "cell_type": "markdown",
   "metadata": {},
   "source": [
    "Создание групп кнопок:\n",
    "\n",
    "`self.buttonGroup.buttonClicked.connect(self.run)`"
   ]
  },
  {
   "cell_type": "code",
   "execution_count": null,
   "metadata": {},
   "outputs": [],
   "source": []
  }
 ],
 "metadata": {
  "kernelspec": {
   "display_name": "Python 3",
   "language": "python",
   "name": "python3"
  },
  "language_info": {
   "codemirror_mode": {
    "name": "ipython",
    "version": 3
   },
   "file_extension": ".py",
   "mimetype": "text/x-python",
   "name": "python",
   "nbconvert_exporter": "python",
   "pygments_lexer": "ipython3",
   "version": "3.6.5"
  }
 },
 "nbformat": 4,
 "nbformat_minor": 2
}
