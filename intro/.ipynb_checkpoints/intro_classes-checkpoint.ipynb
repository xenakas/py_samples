{
 "cells": [
  {
   "cell_type": "markdown",
   "metadata": {},
   "source": [
    "###  Классы"
   ]
  },
  {
   "cell_type": "markdown",
   "metadata": {},
   "source": [
    "В ООП появляется ещё один пример модульности — объект. Объекты хранят внутри себя и данные, и обрабатывающие их функции. \n"
   ]
  },
  {
   "cell_type": "code",
   "execution_count": null,
   "metadata": {},
   "outputs": [],
   "source": []
  },
  {
   "cell_type": "markdown",
   "metadata": {},
   "source": [
    "### Определение операторов"
   ]
  },
  {
   "cell_type": "code",
   "execution_count": 5,
   "metadata": {},
   "outputs": [],
   "source": [
    "class  FoodInfo:\n",
    "    def __init__ (self, proteins, fats, carbohydrates):\n",
    "        self.proteins = proteins\n",
    "        self.fats = fats\n",
    "        self.carbohydrates = carbohydrates\n",
    "    def __add__ (self, other):\n",
    "        proteins1 = self.proteins + other.proteins\n",
    "        fats1 = self.fats + other.fats\n",
    "        carbohydrates1 = self.carbohydrates + other.carbohydrates\n",
    "        return (FoodInfo (proteins1, fats1, carbohydrates1))\n",
    "    def get_kcalories(self):\n",
    "        return  (4 * self.proteins + 9 * self.fats + 4 * self.carbohydrates)"
   ]
  },
  {
   "cell_type": "code",
   "execution_count": 10,
   "metadata": {},
   "outputs": [
    {
     "data": {
      "text/plain": [
       "510"
      ]
     },
     "execution_count": 10,
     "metadata": {},
     "output_type": "execute_result"
    }
   ],
   "source": [
    "food = FoodInfo(20,30,40)\n",
    "food.get_kcalories()"
   ]
  },
  {
   "cell_type": "code",
   "execution_count": 13,
   "metadata": {},
   "outputs": [
    {
     "data": {
      "text/plain": [
       "1020"
      ]
     },
     "execution_count": 13,
     "metadata": {},
     "output_type": "execute_result"
    }
   ],
   "source": [
    "food2 = FoodInfo(20,30,40)\n",
    "food_sum = food + food2\n",
    "food_sum.get_kcalories()"
   ]
  },
  {
   "cell_type": "code",
   "execution_count": 20,
   "metadata": {},
   "outputs": [],
   "source": [
    "class ReversedList:\n",
    "    def __init__ (self, spisok):\n",
    "        spisok.reverse()\n",
    "        self.spisok = spisok\n",
    "    def __len__ (self):\n",
    "        return len(self.spisok)\n",
    "    def __getitem__ (self, i):\n",
    "        return self.spisok[i]"
   ]
  },
  {
   "cell_type": "code",
   "execution_count": 21,
   "metadata": {},
   "outputs": [
    {
     "data": {
      "text/plain": [
       "5"
      ]
     },
     "execution_count": 21,
     "metadata": {},
     "output_type": "execute_result"
    }
   ],
   "source": [
    "a = ReversedList([1,2,3,4,5])\n",
    "len(a)"
   ]
  },
  {
   "cell_type": "code",
   "execution_count": 23,
   "metadata": {},
   "outputs": [
    {
     "data": {
      "text/plain": [
       "1"
      ]
     },
     "execution_count": 23,
     "metadata": {},
     "output_type": "execute_result"
    }
   ],
   "source": [
    "a[4]"
   ]
  },
  {
   "cell_type": "code",
   "execution_count": 24,
   "metadata": {},
   "outputs": [],
   "source": [
    "class SquareFunction:\n",
    "    def __init__ (self, a, b, c):\n",
    "        self.a = a\n",
    "        self.b = b\n",
    "        self.c = c\n",
    "    def __call__(self, x):\n",
    "        return (self.a*x*x + self.b*x + self.c)"
   ]
  },
  {
   "cell_type": "code",
   "execution_count": 27,
   "metadata": {},
   "outputs": [
    {
     "data": {
      "text/plain": [
       "49"
      ]
     },
     "execution_count": 27,
     "metadata": {},
     "output_type": "execute_result"
    }
   ],
   "source": [
    "sqr = SquareFunction(1,2,1)\n",
    "sqr(6)"
   ]
  },
  {
   "cell_type": "code",
   "execution_count": 29,
   "metadata": {},
   "outputs": [],
   "source": [
    "class Point:\n",
    "    def __init__ (self, x, y):\n",
    "        self.x = x \n",
    "        self.y = y\n",
    "    def __eq__ (self, other):\n",
    "        if (self.x == other.x) and (self.y == other.y) :\n",
    "            return (True)\n",
    "        else:\n",
    "            return (False)\n",
    "    def __ne__ (self, other):\n",
    "        if (self.x == other.x) and (self.y == other.y ):\n",
    "            return (False) \n",
    "        else:\n",
    "            return (True)        "
   ]
  },
  {
   "cell_type": "code",
   "execution_count": 31,
   "metadata": {},
   "outputs": [
    {
     "data": {
      "text/plain": [
       "False"
      ]
     },
     "execution_count": 31,
     "metadata": {},
     "output_type": "execute_result"
    }
   ],
   "source": [
    "poi = Point(3,8)\n",
    "poi2 = Point(8,1)\n",
    "poi == poi2"
   ]
  },
  {
   "cell_type": "code",
   "execution_count": 32,
   "metadata": {},
   "outputs": [
    {
     "data": {
      "text/plain": [
       "True"
      ]
     },
     "execution_count": 32,
     "metadata": {},
     "output_type": "execute_result"
    }
   ],
   "source": [
    "poi != poi2"
   ]
  },
  {
   "cell_type": "code",
   "execution_count": null,
   "metadata": {},
   "outputs": [],
   "source": []
  },
  {
   "cell_type": "markdown",
   "metadata": {},
   "source": [
    "### ООП. Наследование"
   ]
  },
  {
   "cell_type": "markdown",
   "metadata": {},
   "source": [
    "В этом уроке объясняется понятие наследования, показывается его связь с уже известными понятиями объектно-ориентированного программирования (инкапсуляция и полиморфизм), описывается синтаксис и семантика наследования в Python. Мы рассмотрим приемы применения наследования: расширение и переопределение методов. Также обсуждается множественное наследование.\n",
    "\n",
    "- Объяснение понятия наследования\n",
    "- Синтаксис наследования в Python\n",
    "- Наследование методов\n",
    "- Расширение методов\n",
    "- Использование методов наследников в базовом классе\n",
    "- Переопределение методов\n",
    "- Множественное наследование"
   ]
  },
  {
   "cell_type": "code",
   "execution_count": null,
   "metadata": {},
   "outputs": [],
   "source": [
    "class BaseObject():\n",
    "    def __init__ (self,x, y, z):\n",
    "        self.x = x\n",
    "        self.y = y\n",
    "        self.z = z\n",
    "    def get_coordinates(self):\n",
    "        return (self.x, self.y, self.z)\n",
    "class Block(BaseObject):\n",
    "    def shatter(self):\n",
    "        self.x = None\n",
    "        self.y = None\n",
    "        self.z = None\n",
    "class Entity(BaseObject):\n",
    "    def move(self, x, y, z):\n",
    "        self.x = x\n",
    "        self.y = y\n",
    "        self.z = z        \n"
   ]
  },
  {
   "cell_type": "code",
   "execution_count": 33,
   "metadata": {},
   "outputs": [],
   "source": [
    "class Summator: \n",
    "    def __init__(self): \n",
    "        pass \n",
    "    def transform(self, n): \n",
    "        return n \n",
    "    def sum(self, N): \n",
    "        answer = 0 \n",
    "        for n in range(1, N+1): \n",
    "            answer += self.transform(n) \n",
    "        return(answer) \n",
    "class PowerSummator(Summator):\n",
    "    def __init__(self,b):\n",
    "        self.b=b\n",
    "    def transform(self,n):\n",
    "        return n**self.b\n",
    "class SquareSummator(PowerSummator): \n",
    "    def __init__(self):\n",
    "        self.b=2\n",
    "class CubeSummator(PowerSummator): \n",
    "    def __init__(self):\n",
    "        self.b=3\n",
    "\n"
   ]
  },
  {
   "cell_type": "markdown",
   "metadata": {},
   "source": []
  },
  {
   "cell_type": "markdown",
   "metadata": {},
   "source": [
    "https://sahandsaba.com/python-classes-metaclasses.html\n",
    "\n",
    "https://jeffknupp.com/blog/2014/06/18/improve-your-python-python-classes-and-object-oriented-programming/\n",
    "\n",
    "\n",
    "- Классы, а именно создание своих классов, атрибуты (в том числе методы) класса, «магические методы».\n",
    "- Наследование, в том числе перегрузка методов и их дополнение с помощью обращения к методам базового класса через super()."
   ]
  },
  {
   "cell_type": "markdown",
   "metadata": {},
   "source": [
    "### Decorators"
   ]
  },
  {
   "cell_type": "markdown",
   "metadata": {},
   "source": [
    "https://hackernoon.com/decorators-in-python-8fd0dce93c08\n",
    "\n",
    "http://book.pythontips.com/en/latest/decorators.html\n",
    "\n",
    "https://realpython.com/primer-on-python-decorators/"
   ]
  },
  {
   "cell_type": "markdown",
   "metadata": {},
   "source": [
    "So, @my_decorator is just an easier way of saying say_whee = my_decorator(say_whee). It’s how you apply a decorator to a function."
   ]
  },
  {
   "cell_type": "code",
   "execution_count": 2,
   "metadata": {},
   "outputs": [
    {
     "name": "stdout",
     "output_type": "stream",
     "text": [
      "Something is happening before the function is called.\n",
      "Whee!\n",
      "Something is happening after the function is called.\n"
     ]
    }
   ],
   "source": [
    "def my_decorator(func):\n",
    "    def wrapper():\n",
    "        print(\"Something is happening before the function is called.\")\n",
    "        func()\n",
    "        print(\"Something is happening after the function is called.\")\n",
    "    return wrapper\n",
    "\n",
    "@my_decorator\n",
    "def say_whee():\n",
    "    print(\"Whee!\")\n",
    "    \n",
    "    \n",
    "say_whee()"
   ]
  },
  {
   "cell_type": "code",
   "execution_count": null,
   "metadata": {},
   "outputs": [],
   "source": []
  }
 ],
 "metadata": {
  "kernelspec": {
   "display_name": "Python 3",
   "language": "python",
   "name": "python3"
  },
  "language_info": {
   "codemirror_mode": {
    "name": "ipython",
    "version": 3
   },
   "file_extension": ".py",
   "mimetype": "text/x-python",
   "name": "python",
   "nbconvert_exporter": "python",
   "pygments_lexer": "ipython3",
   "version": "3.6.5"
  }
 },
 "nbformat": 4,
 "nbformat_minor": 2
}
