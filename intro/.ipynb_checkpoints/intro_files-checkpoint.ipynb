{
 "cells": [
  {
   "cell_type": "markdown",
   "metadata": {},
   "source": [
    "## Файлы в Python. Типы файлов и работа с ними. Внутреннее устройство файлов\n",
    " \n"
   ]
  },
  {
   "cell_type": "markdown",
   "metadata": {},
   "source": [
    "— /dev/sd{буква} — жёсткий диск (в системах на ядре Linux);\n",
    "\n",
    "— /dev/sd{буква}{номер} — раздел диска (в системах на ядре Linux);\n",
    "\n",
    "— /dev/sr{номер} или /dev/scd{номер} — CD-ROM;\n",
    "\n",
    "— /dev/eth{номер} — сетевые интерфейсы Ethernet;\n",
    "\n",
    "— /dev/wlan{номер} — сетевые интерфейсы Wireless;\n",
    "\n",
    "— /dev/lp{номер} — принтеры;\n",
    "\n",
    "— /dev/video{номер} — устройства изображений, камеры, фотоаппараты и т. д;\n",
    "\n",
    "— /dev/bus/usb/000/{номер} — устройство номер на шине USB первого контроллера (000) (в системах на ядре Linux);\n",
    "\n",
    "— /dev/tty{номер} — текстовый терминал;\n",
    "\n",
    "— /dev/dsp — звуковой вывод;\n",
    "\n",
    "— /dev/random — случайные данные (псевдоустройство);\n",
    "\n",
    "— /dev/null — пусто (псевдоустройство);\n",
    "\n",
    "— /dev/zero — нулевые байты (псевдоустройство).\n",
    "\n",
    "{номер} — это порядковый номер устройства\n",
    "\n",
    "\n",
    " "
   ]
  },
  {
   "cell_type": "markdown",
   "metadata": {},
   "source": [
    "Перевод строки. Посмотрим, какие у них коды:\n",
    "\n"
   ]
  },
  {
   "cell_type": "code",
   "execution_count": 1,
   "metadata": {},
   "outputs": [
    {
     "name": "stdout",
     "output_type": "stream",
     "text": [
      "10\n",
      "13\n"
     ]
    }
   ],
   "source": [
    "# LINE FEED. \n",
    "# Перемещает позицию печати на одну строку вниз \n",
    "# (изначально – без возврата каретки машинки).\n",
    "print(ord(\"\\n\"))\n",
    "# CARRIAGE RETURN. \n",
    "# Перемещает позицию печати в крайнее левое положение \n",
    "# (изначально — без перехода на следующую строку).\n",
    "print(ord(\"\\r\"))"
   ]
  },
  {
   "cell_type": "markdown",
   "metadata": {},
   "source": [
    "Теперь откроем файл в бинарном режиме и прочитаем первые 20 байт:"
   ]
  },
  {
   "cell_type": "code",
   "execution_count": 3,
   "metadata": {},
   "outputs": [
    {
     "data": {
      "text/plain": [
       "b'Data underlying the '"
      ]
     },
     "execution_count": 3,
     "metadata": {},
     "output_type": "execute_result"
    }
   ],
   "source": [
    "f = open(\"text_check.txt\", mode=\"rb\") # open for reading (default),  binary mode\n",
    "f.read(20)"
   ]
  },
  {
   "cell_type": "markdown",
   "metadata": {},
   "source": [
    "Объект, который возвращает нам функция open, ассоциирован (связан) с открытым файлом и содержит следующие поля и методы. Функция pprint (pretty-print, изящный вывод) старается сделать печать больших объектов (списков, словарей) более удобной и читаемой для человека.\n",
    "\n"
   ]
  },
  {
   "cell_type": "code",
   "execution_count": 4,
   "metadata": {},
   "outputs": [
    {
     "name": "stdout",
     "output_type": "stream",
     "text": [
      "['__class__',\n",
      " '__del__',\n",
      " '__delattr__',\n",
      " '__dict__',\n",
      " '__dir__',\n",
      " '__doc__',\n",
      " '__enter__',\n",
      " '__eq__',\n",
      " '__exit__',\n",
      " '__format__',\n",
      " '__ge__',\n",
      " '__getattribute__',\n",
      " '__getstate__',\n",
      " '__gt__',\n",
      " '__hash__',\n",
      " '__init__',\n",
      " '__init_subclass__',\n",
      " '__iter__',\n",
      " '__le__',\n",
      " '__lt__',\n",
      " '__ne__',\n",
      " '__new__',\n",
      " '__next__',\n",
      " '__reduce__',\n",
      " '__reduce_ex__',\n",
      " '__repr__',\n",
      " '__setattr__',\n",
      " '__sizeof__',\n",
      " '__str__',\n",
      " '__subclasshook__',\n",
      " '_checkClosed',\n",
      " '_checkReadable',\n",
      " '_checkSeekable',\n",
      " '_checkWritable',\n",
      " '_dealloc_warn',\n",
      " '_finalizing',\n",
      " 'close',\n",
      " 'closed',\n",
      " 'detach',\n",
      " 'fileno',\n",
      " 'flush',\n",
      " 'isatty',\n",
      " 'mode',\n",
      " 'name',\n",
      " 'peek',\n",
      " 'raw',\n",
      " 'read',\n",
      " 'read1',\n",
      " 'readable',\n",
      " 'readinto',\n",
      " 'readinto1',\n",
      " 'readline',\n",
      " 'readlines',\n",
      " 'seek',\n",
      " 'seekable',\n",
      " 'tell',\n",
      " 'truncate',\n",
      " 'writable',\n",
      " 'write',\n",
      " 'writelines']\n"
     ]
    }
   ],
   "source": [
    "from pprint import pprint\n",
    "pprint(dir(f))"
   ]
  },
  {
   "cell_type": "code",
   "execution_count": 5,
   "metadata": {},
   "outputs": [
    {
     "name": "stdout",
     "output_type": "stream",
     "text": [
      "b'forecasts are not observed:\\nTreat individual forecasts like any other conditioning information (data'\n",
      "120\n",
      "1245\n",
      "b'mation sets used\\nto construct the forecasts\\nIf the model f (.) is a linear index, the combination is'\n",
      "1345\n"
     ]
    }
   ],
   "source": [
    "print(f.read(100))\n",
    "print(f.tell())\n",
    "print(f.seek(1245))\n",
    "print(f.read(100))\n",
    "print(f.tell())"
   ]
  },
  {
   "cell_type": "markdown",
   "metadata": {},
   "source": [
    "В текстовом режиме можно читать файл построчно с использованием метода readline, при этом маркером конца строки является символ \\n:\n",
    "\n"
   ]
  },
  {
   "cell_type": "code",
   "execution_count": 22,
   "metadata": {},
   "outputs": [
    {
     "name": "stdout",
     "output_type": "stream",
     "text": [
      "Data underlying the forecasts are not observed:\n",
      "Treat individual forecasts like any other conditioning information (data) and\n",
      "estimate the best possible mapping from the forecasts to the outcome\n",
      "2 Data underlying the model forecasts is observed: ëmodel combinationí\n",
      "Using a middle step of Örst constructing forecasts limits the áexibility of the\n",
      "Önal forecasting model. Why not directly map the underlying data to the\n",
      "forecasts?\n"
     ]
    }
   ],
   "source": [
    "f = open(\"text_check.txt\", encoding=\"utf8\")\n",
    "for i in range(7):\n",
    "    print(f.readline(), end=\"\")"
   ]
  },
  {
   "cell_type": "code",
   "execution_count": 23,
   "metadata": {},
   "outputs": [
    {
     "name": "stdout",
     "output_type": "stream",
     "text": [
      "Type: <class 'list'>, length: 47\n",
      "ˆfmt+hjt g\n",
      "\n"
     ]
    }
   ],
   "source": [
    "lines = f.readlines()\n",
    "print('Type: %s, length: %d' % (type(lines), len(lines)))\n",
    "print(lines[10])"
   ]
  },
  {
   "cell_type": "code",
   "execution_count": 26,
   "metadata": {},
   "outputs": [
    {
     "ename": "UnsupportedOperation",
     "evalue": "not writable",
     "output_type": "error",
     "traceback": [
      "\u001b[0;31m---------------------------------------------------------------------------\u001b[0m",
      "\u001b[0;31mUnsupportedOperation\u001b[0m                      Traceback (most recent call last)",
      "\u001b[0;32m<ipython-input-26-d25c4f38ef90>\u001b[0m in \u001b[0;36m<module>\u001b[0;34m()\u001b[0m\n\u001b[1;32m      1\u001b[0m \u001b[0mdata\u001b[0m \u001b[0;34m=\u001b[0m \u001b[0;34m'qwertyqwerty'\u001b[0m\u001b[0;34m\u001b[0m\u001b[0m\n\u001b[0;32m----> 2\u001b[0;31m \u001b[0mf\u001b[0m\u001b[0;34m.\u001b[0m\u001b[0mwrite\u001b[0m\u001b[0;34m(\u001b[0m\u001b[0mdata\u001b[0m\u001b[0;34m)\u001b[0m\u001b[0;34m\u001b[0m\u001b[0m\n\u001b[0m\u001b[1;32m      3\u001b[0m \u001b[0mf\u001b[0m\u001b[0;34m.\u001b[0m\u001b[0mclose\u001b[0m\u001b[0;34m(\u001b[0m\u001b[0;34m)\u001b[0m\u001b[0;34m\u001b[0m\u001b[0m\n",
      "\u001b[0;31mUnsupportedOperation\u001b[0m: not writable"
     ]
    }
   ],
   "source": [
    "data = 'qwertyqwerty'\n",
    "f.write(data)\n",
    "f.close()"
   ]
  },
  {
   "cell_type": "code",
   "execution_count": null,
   "metadata": {},
   "outputs": [],
   "source": []
  }
 ],
 "metadata": {
  "kernelspec": {
   "display_name": "Python 3",
   "language": "python",
   "name": "python3"
  },
  "language_info": {
   "codemirror_mode": {
    "name": "ipython",
    "version": 3
   },
   "file_extension": ".py",
   "mimetype": "text/x-python",
   "name": "python",
   "nbconvert_exporter": "python",
   "pygments_lexer": "ipython3",
   "version": "3.6.5"
  }
 },
 "nbformat": 4,
 "nbformat_minor": 2
}
