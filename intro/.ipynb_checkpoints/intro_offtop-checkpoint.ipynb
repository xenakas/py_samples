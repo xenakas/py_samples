{
 "cells": [
  {
   "cell_type": "markdown",
   "metadata": {},
   "source": [
    "###  break, continue, pass"
   ]
  },
  {
   "cell_type": "code",
   "execution_count": 36,
   "metadata": {},
   "outputs": [
    {
     "name": "stdout",
     "output_type": "stream",
     "text": [
      "1\n",
      "2\n",
      "3\n",
      "4\n",
      "6\n",
      "7\n",
      "8\n",
      "9\n",
      "10\n",
      "11\n",
      "12\n",
      "13\n",
      "14\n",
      "Out of loop\n"
     ]
    }
   ],
   "source": [
    "number = 0\n",
    "\n",
    "for number in range(20):\n",
    "    number = number + 1\n",
    "    \n",
    "    if number == 5:\n",
    "        continue    # continue here\n",
    "        \n",
    "    if number == 10:\n",
    "        pass # pass statement allows you to handle the condition without the loop being impacted in any way\n",
    "    \n",
    "    if number == 15:\n",
    "        break    # break here\n",
    "        \n",
    "    print(number)\n",
    "\n",
    "print('Out of loop')"
   ]
  },
  {
   "cell_type": "markdown",
   "metadata": {},
   "source": [
    "### Области видимости переменных\n"
   ]
  },
  {
   "cell_type": "markdown",
   "metadata": {},
   "source": [
    "- Объекты и переменные: переменная как временный способ доступа к объекту\n",
    "- Внешние переменные (и первые отсылки к тому, что разные переменные могут ссылаться на один и тот же объект)\n",
    "- Константы\n",
    "- Видимость переменных внутри функции\n",
    "- Одноименные внешние переменные. Затенение внешних переменных при присваивании\n",
    "- Одноименные переменные в разных функциях\n",
    "- Функция main как способ не загрязнять пространство имён\n",
    "- Модификатор видимости global\n",
    "- Использование глобальных переменных для продления времени жизни переменной (жизнь между вызовами функции)\n",
    "- Аргументы функций как локальные переменные\n"
   ]
  },
  {
   "cell_type": "code",
   "execution_count": null,
   "metadata": {},
   "outputs": [],
   "source": []
  },
  {
   "cell_type": "markdown",
   "metadata": {},
   "source": [
    "### Функции с переменным числом аргументов\n",
    "\n",
    "- Запаковка и распаковка значений при множественном присваивании. \n",
    "- Использование звёздочкиЗвёздочка в сигнатуре функции для приёма произвольного числа аргументов\n",
    "- Аргументы по умолчанию\n",
    "- Именованные аргументы\n",
    "- Согласование списков аргументов. Инструкция pass\n",
    "- Словарь именованных аргументов"
   ]
  },
  {
   "cell_type": "code",
   "execution_count": 1,
   "metadata": {},
   "outputs": [],
   "source": [
    "def partialSums(*q):\n",
    "    q = list(q)\n",
    "    b = []\n",
    "    for i in range(len(q) + 1):\n",
    "        k = 0\n",
    "        for j in range (i):\n",
    "            k += q[j]\n",
    "        b.append(k)       \n",
    "    return b"
   ]
  },
  {
   "cell_type": "code",
   "execution_count": 3,
   "metadata": {},
   "outputs": [
    {
     "data": {
      "text/plain": [
       "[0, 1, 6, 12, 22, 33]"
      ]
     },
     "execution_count": 3,
     "metadata": {},
     "output_type": "execute_result"
    }
   ],
   "source": [
    "partialSums(1,5,6,10,11)"
   ]
  },
  {
   "cell_type": "code",
   "execution_count": null,
   "metadata": {},
   "outputs": [],
   "source": []
  },
  {
   "cell_type": "markdown",
   "metadata": {},
   "source": [
    "### Функция map"
   ]
  },
  {
   "cell_type": "code",
   "execution_count": null,
   "metadata": {},
   "outputs": [],
   "source": []
  },
  {
   "cell_type": "markdown",
   "metadata": {},
   "source": [
    "### Библиотеки Python"
   ]
  },
  {
   "cell_type": "markdown",
   "metadata": {},
   "source": [
    "Репозиторий PyPI"
   ]
  },
  {
   "cell_type": "markdown",
   "metadata": {},
   "source": [
    "Модуль random"
   ]
  },
  {
   "cell_type": "markdown",
   "metadata": {},
   "source": [
    "Модуль wave"
   ]
  },
  {
   "cell_type": "markdown",
   "metadata": {},
   "source": []
  },
  {
   "cell_type": "markdown",
   "metadata": {},
   "source": [
    "### try, except:"
   ]
  },
  {
   "cell_type": "code",
   "execution_count": 43,
   "metadata": {},
   "outputs": [
    {
     "name": "stdout",
     "output_type": "stream",
     "text": [
      "Введите целое число: 10\n",
      "20\n"
     ]
    }
   ],
   "source": [
    "try:\n",
    "    a = int(input(\"Введите целое число: \"))\n",
    "    print(a + 10)\n",
    "except ValueError:\n",
    "    print(\"Неверное число\")"
   ]
  },
  {
   "cell_type": "markdown",
   "metadata": {},
   "source": [
    "Если нужен доступ к исключению как к объекту, пригодится такая конструкция. В данном примере в переменную ve попадает объект класса ValueError, а функция dir позволяет увидеть содержимое этого объекта."
   ]
  },
  {
   "cell_type": "code",
   "execution_count": 45,
   "metadata": {},
   "outputs": [
    {
     "name": "stdout",
     "output_type": "stream",
     "text": [
      "Введите целое число: 2,5\n",
      "Неверное число\n",
      "invalid literal for int() with base 10: '2,5'\n",
      "['__cause__', '__class__', '__context__', '__delattr__', '__dict__', '__dir__', '__doc__', '__eq__', '__format__', '__ge__', '__getattribute__', '__gt__', '__hash__', '__init__', '__init_subclass__', '__le__', '__lt__', '__ne__', '__new__', '__reduce__', '__reduce_ex__', '__repr__', '__setattr__', '__setstate__', '__sizeof__', '__str__', '__subclasshook__', '__suppress_context__', '__traceback__', 'args', 'with_traceback']\n"
     ]
    }
   ],
   "source": [
    "try:\n",
    "    a = int(input(\"Введите целое число: \"))\n",
    "    print(a + 10)\n",
    "except ValueError as ve:\n",
    "    print(\"Неверное число\")\n",
    "    print(ve)\n",
    "    print(dir(ve))"
   ]
  },
  {
   "cell_type": "code",
   "execution_count": 47,
   "metadata": {},
   "outputs": [
    {
     "name": "stdout",
     "output_type": "stream",
     "text": [
      "Введите номер карты (16 цифр): 42\n"
     ]
    },
    {
     "ename": "ValueError",
     "evalue": "Неверный формат номера",
     "output_type": "error",
     "traceback": [
      "\u001b[0;31m---------------------------------------------------------------------------\u001b[0m",
      "\u001b[0;31mValueError\u001b[0m                                Traceback (most recent call last)",
      "\u001b[0;32m<ipython-input-47-bfa0ee7c897a>\u001b[0m in \u001b[0;36m<module>\u001b[0;34m()\u001b[0m\n\u001b[1;32m      6\u001b[0m     \u001b[0;32mreturn\u001b[0m \u001b[0mcard_number\u001b[0m\u001b[0;34m\u001b[0m\u001b[0m\n\u001b[1;32m      7\u001b[0m \u001b[0;34m\u001b[0m\u001b[0m\n\u001b[0;32m----> 8\u001b[0;31m \u001b[0mget_card_number\u001b[0m\u001b[0;34m(\u001b[0m\u001b[0;34m)\u001b[0m\u001b[0;34m\u001b[0m\u001b[0m\n\u001b[0m",
      "\u001b[0;32m<ipython-input-47-bfa0ee7c897a>\u001b[0m in \u001b[0;36mget_card_number\u001b[0;34m()\u001b[0m\n\u001b[1;32m      3\u001b[0m     \u001b[0mcard_number\u001b[0m \u001b[0;34m=\u001b[0m \u001b[0;34m\"\"\u001b[0m\u001b[0;34m.\u001b[0m\u001b[0mjoin\u001b[0m\u001b[0;34m(\u001b[0m\u001b[0mcard_number\u001b[0m\u001b[0;34m.\u001b[0m\u001b[0mstrip\u001b[0m\u001b[0;34m(\u001b[0m\u001b[0;34m)\u001b[0m\u001b[0;34m.\u001b[0m\u001b[0msplit\u001b[0m\u001b[0;34m(\u001b[0m\u001b[0;34m)\u001b[0m\u001b[0;34m)\u001b[0m\u001b[0;34m\u001b[0m\u001b[0m\n\u001b[1;32m      4\u001b[0m     \u001b[0;32mif\u001b[0m \u001b[0;32mnot\u001b[0m \u001b[0;34m(\u001b[0m\u001b[0mcard_number\u001b[0m\u001b[0;34m.\u001b[0m\u001b[0misdigit\u001b[0m\u001b[0;34m(\u001b[0m\u001b[0;34m)\u001b[0m \u001b[0;32mand\u001b[0m \u001b[0mlen\u001b[0m\u001b[0;34m(\u001b[0m\u001b[0mcard_number\u001b[0m\u001b[0;34m)\u001b[0m \u001b[0;34m==\u001b[0m \u001b[0;36m16\u001b[0m\u001b[0;34m)\u001b[0m\u001b[0;34m:\u001b[0m\u001b[0;34m\u001b[0m\u001b[0m\n\u001b[0;32m----> 5\u001b[0;31m         \u001b[0;32mraise\u001b[0m \u001b[0mValueError\u001b[0m\u001b[0;34m(\u001b[0m\u001b[0;34m\"Неверный формат номера\"\u001b[0m\u001b[0;34m)\u001b[0m\u001b[0;34m\u001b[0m\u001b[0m\n\u001b[0m\u001b[1;32m      6\u001b[0m     \u001b[0;32mreturn\u001b[0m \u001b[0mcard_number\u001b[0m\u001b[0;34m\u001b[0m\u001b[0m\n\u001b[1;32m      7\u001b[0m \u001b[0;34m\u001b[0m\u001b[0m\n",
      "\u001b[0;31mValueError\u001b[0m: Неверный формат номера"
     ]
    }
   ],
   "source": [
    "def get_card_number():\n",
    "    card_number = input(\"Введите номер карты (16 цифр): \")\n",
    "    card_number = \"\".join(card_number.strip().split())\n",
    "    if not (card_number.isdigit() and len(card_number) == 16):\n",
    "        raise ValueError(\"Неверный формат номера\")\n",
    "    return card_number\n",
    "\n",
    "get_card_number()"
   ]
  },
  {
   "cell_type": "markdown",
   "metadata": {},
   "source": [
    "К одному try может быть прикреплено несколько except. Блок finally выполняется независимо от того, создано ли исключение и какого оно типа. Порядок перечисления исключений важен. Перебор закончится на первом же подходящем по условию блоке"
   ]
  },
  {
   "cell_type": "code",
   "execution_count": 49,
   "metadata": {},
   "outputs": [
    {
     "name": "stdout",
     "output_type": "stream",
     "text": [
      "0.5\n",
      "Идём дальше\n",
      "0.5714285714285714\n",
      "Идём дальше\n",
      "Поделили на 0\n",
      "Идём дальше\n",
      "Непредвиденная ошибка unsupported operand type(s) for /: 'int' and 'NoneType'\n",
      "Идём дальше\n",
      "Мы за границей списка\n",
      "Идём дальше\n",
      "Мы за границей списка\n",
      "Идём дальше\n",
      "Мы за границей списка\n",
      "Идём дальше\n",
      "Мы за границей списка\n",
      "Идём дальше\n",
      "Мы за границей списка\n",
      "Идём дальше\n",
      "Мы за границей списка\n",
      "Идём дальше\n"
     ]
    }
   ],
   "source": [
    "s = [(1, 2), (4, 7), (1, 0), (13, None)]\n",
    " \n",
    "for i in range(10):\n",
    "    try:\n",
    "        x, y = s[i]\n",
    "        print(x / y)\n",
    "    except IndexError:\n",
    "        print('Мы за границей списка')\n",
    "    except ZeroDivisionError as e:\n",
    "        print('Поделили на 0')\n",
    "    except Exception as e:\n",
    "        print('Непредвиденная ошибка %s' % e)\n",
    "    finally:\n",
    "        print('Идём дальше')\n",
    " "
   ]
  },
  {
   "cell_type": "markdown",
   "metadata": {},
   "source": [
    "#### Создание пользовательских типов ошибок"
   ]
  },
  {
   "cell_type": "markdown",
   "metadata": {},
   "source": [
    "Exception — класс-родитель для большинства встроенных исключений. Все они могут быть приведены к типу Exception и провалились в первый же блок except."
   ]
  },
  {
   "cell_type": "code",
   "execution_count": 50,
   "metadata": {},
   "outputs": [
    {
     "name": "stdout",
     "output_type": "stream",
     "text": [
      "Введите номер карты (16 цифр): 15\n"
     ]
    },
    {
     "ename": "CardFormatError",
     "evalue": "Неверный формат номера",
     "output_type": "error",
     "traceback": [
      "\u001b[0;31m---------------------------------------------------------------------------\u001b[0m",
      "\u001b[0;31mCardFormatError\u001b[0m                           Traceback (most recent call last)",
      "\u001b[0;32m<ipython-input-50-d1c8fa47fa22>\u001b[0m in \u001b[0;36m<module>\u001b[0;34m()\u001b[0m\n\u001b[1;32m     12\u001b[0m     \u001b[0;32mreturn\u001b[0m \u001b[0mcard_number\u001b[0m\u001b[0;34m\u001b[0m\u001b[0m\n\u001b[1;32m     13\u001b[0m \u001b[0;34m\u001b[0m\u001b[0m\n\u001b[0;32m---> 14\u001b[0;31m \u001b[0mget_card_number\u001b[0m\u001b[0;34m(\u001b[0m\u001b[0;34m)\u001b[0m\u001b[0;34m\u001b[0m\u001b[0m\n\u001b[0m",
      "\u001b[0;32m<ipython-input-50-d1c8fa47fa22>\u001b[0m in \u001b[0;36mget_card_number\u001b[0;34m()\u001b[0m\n\u001b[1;32m      9\u001b[0m     \u001b[0mcard_number\u001b[0m \u001b[0;34m=\u001b[0m \u001b[0;34m\"\"\u001b[0m\u001b[0;34m.\u001b[0m\u001b[0mjoin\u001b[0m\u001b[0;34m(\u001b[0m\u001b[0mcard_number\u001b[0m\u001b[0;34m.\u001b[0m\u001b[0mstrip\u001b[0m\u001b[0;34m(\u001b[0m\u001b[0;34m)\u001b[0m\u001b[0;34m.\u001b[0m\u001b[0msplit\u001b[0m\u001b[0;34m(\u001b[0m\u001b[0;34m)\u001b[0m\u001b[0;34m)\u001b[0m\u001b[0;34m\u001b[0m\u001b[0m\n\u001b[1;32m     10\u001b[0m     \u001b[0;32mif\u001b[0m \u001b[0;32mnot\u001b[0m \u001b[0;34m(\u001b[0m\u001b[0mcard_number\u001b[0m\u001b[0;34m.\u001b[0m\u001b[0misdigit\u001b[0m\u001b[0;34m(\u001b[0m\u001b[0;34m)\u001b[0m \u001b[0;32mand\u001b[0m \u001b[0mlen\u001b[0m\u001b[0;34m(\u001b[0m\u001b[0mcard_number\u001b[0m\u001b[0;34m)\u001b[0m \u001b[0;34m==\u001b[0m \u001b[0;36m16\u001b[0m\u001b[0;34m)\u001b[0m\u001b[0;34m:\u001b[0m\u001b[0;34m\u001b[0m\u001b[0m\n\u001b[0;32m---> 11\u001b[0;31m         \u001b[0;32mraise\u001b[0m \u001b[0mCardFormatError\u001b[0m\u001b[0;34m(\u001b[0m\u001b[0;34m\"Неверный формат номера\"\u001b[0m\u001b[0;34m)\u001b[0m\u001b[0;34m\u001b[0m\u001b[0m\n\u001b[0m\u001b[1;32m     12\u001b[0m     \u001b[0;32mreturn\u001b[0m \u001b[0mcard_number\u001b[0m\u001b[0;34m\u001b[0m\u001b[0m\n\u001b[1;32m     13\u001b[0m \u001b[0;34m\u001b[0m\u001b[0m\n",
      "\u001b[0;31mCardFormatError\u001b[0m: Неверный формат номера"
     ]
    }
   ],
   "source": [
    "class CardError(Exception):\n",
    "    pass\n",
    "\n",
    "class CardFormatError(CardError):\n",
    "    pass\n",
    "\n",
    "def get_card_number():\n",
    "    card_number = input(\"Введите номер карты (16 цифр): \")\n",
    "    card_number = \"\".join(card_number.strip().split())\n",
    "    if not (card_number.isdigit() and len(card_number) == 16):\n",
    "        raise CardFormatError(\"Неверный формат номера\")\n",
    "    return card_number \n",
    "\n",
    "get_card_number()"
   ]
  },
  {
   "cell_type": "markdown",
   "metadata": {},
   "source": [
    "#### Перехват системных исключений"
   ]
  },
  {
   "cell_type": "markdown",
   "metadata": {},
   "source": [
    "В иерархии классов-исключений есть исключения SystemExit и KeyboardInterrupt.\n",
    "\n",
    "Их можно использовать. Например, нажатие комбинации Ctrl+C обычно прекращает работу программы и генерирует исключение прерывание от клавиатуры."
   ]
  },
  {
   "cell_type": "code",
   "execution_count": 52,
   "metadata": {},
   "outputs": [
    {
     "name": "stdout",
     "output_type": "stream",
     "text": [
      "1\n",
      "2\n",
      "Действительно остановить? yes\n"
     ]
    }
   ],
   "source": [
    "from time import sleep\n",
    "a = 0\n",
    "\n",
    "while True:\n",
    "    try:\n",
    "        a += 1\n",
    "        print(a)\n",
    "        sleep(15)\n",
    "    except KeyboardInterrupt:\n",
    "        res = input('Действительно остановить? ')\n",
    "        if res == 'yes':\n",
    "            break"
   ]
  },
  {
   "cell_type": "markdown",
   "metadata": {},
   "source": [
    "### assert"
   ]
  },
  {
   "cell_type": "markdown",
   "metadata": {},
   "source": [
    "Конструкция assert — это часть Python, связанная с тестированием. Тестирование мы ещё не проходили, но это не помешает понять, как же assert работает.\n",
    "\n",
    "Можно снабдить программу разными вспомогательными проверками. Они помогут контролировать правильность исполнения. Если какое-то условие не будет выполнено, то программа аварийно остановится. Это помогает тестировать и отлаживать ПО."
   ]
  },
  {
   "cell_type": "code",
   "execution_count": 53,
   "metadata": {},
   "outputs": [
    {
     "ename": "AssertionError",
     "evalue": "",
     "output_type": "error",
     "traceback": [
      "\u001b[0;31m---------------------------------------------------------------------------\u001b[0m",
      "\u001b[0;31mAssertionError\u001b[0m                            Traceback (most recent call last)",
      "\u001b[0;32m<ipython-input-53-7a8c905dd9d7>\u001b[0m in \u001b[0;36m<module>\u001b[0;34m()\u001b[0m\n\u001b[1;32m      1\u001b[0m \u001b[0ms\u001b[0m \u001b[0;34m=\u001b[0m \u001b[0;34m[\u001b[0m\u001b[0;36m1\u001b[0m\u001b[0;34m,\u001b[0m \u001b[0;36m2\u001b[0m\u001b[0;34m,\u001b[0m \u001b[0;36m34\u001b[0m\u001b[0;34m,\u001b[0m \u001b[0;36m54\u001b[0m\u001b[0;34m,\u001b[0m \u001b[0;36m3\u001b[0m\u001b[0;34m]\u001b[0m\u001b[0;34m\u001b[0m\u001b[0m\n\u001b[0;32m----> 2\u001b[0;31m \u001b[0;32massert\u001b[0m \u001b[0mlen\u001b[0m\u001b[0;34m(\u001b[0m\u001b[0ms\u001b[0m\u001b[0;34m)\u001b[0m \u001b[0;34m==\u001b[0m \u001b[0;36m4\u001b[0m\u001b[0;34m\u001b[0m\u001b[0m\n\u001b[0m",
      "\u001b[0;31mAssertionError\u001b[0m: "
     ]
    }
   ],
   "source": [
    "s = [1, 2, 34, 54, 3]\n",
    "assert len(s) == 4"
   ]
  },
  {
   "cell_type": "markdown",
   "metadata": {},
   "source": [
    "### [Guide to Python's Magic Methods](https://rszalski.github.io/magicmethods/)"
   ]
  },
  {
   "cell_type": "code",
   "execution_count": null,
   "metadata": {},
   "outputs": [],
   "source": []
  }
 ],
 "metadata": {
  "kernelspec": {
   "display_name": "Python 3",
   "language": "python",
   "name": "python3"
  },
  "language_info": {
   "codemirror_mode": {
    "name": "ipython",
    "version": 3
   },
   "file_extension": ".py",
   "mimetype": "text/x-python",
   "name": "python",
   "nbconvert_exporter": "python",
   "pygments_lexer": "ipython3",
   "version": "3.6.5"
  }
 },
 "nbformat": 4,
 "nbformat_minor": 2
}
