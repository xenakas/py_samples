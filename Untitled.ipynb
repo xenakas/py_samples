{
 "cells": [
  {
   "cell_type": "markdown",
   "id": "ccb92c22-9f9c-43f4-837b-df08e750adc3",
   "metadata": {
    "execution": {
     "iopub.execute_input": "2024-03-12T09:56:49.070192Z",
     "iopub.status.busy": "2024-03-12T09:56:49.069622Z",
     "iopub.status.idle": "2024-03-12T09:56:49.075149Z",
     "shell.execute_reply": "2024-03-12T09:56:49.074475Z",
     "shell.execute_reply.started": "2024-03-12T09:56:49.070170Z"
    }
   },
   "source": [
    "# 1"
   ]
  },
  {
   "cell_type": "code",
   "execution_count": null,
   "id": "29451fb9-c960-4911-8ea2-235c4ec5f88a",
   "metadata": {
    "execution": {
     "iopub.execute_input": "2024-03-12T09:56:49.070192Z",
     "iopub.status.busy": "2024-03-12T09:56:49.069622Z",
     "iopub.status.idle": "2024-03-12T09:56:49.075149Z",
     "shell.execute_reply": "2024-03-12T09:56:49.074475Z",
     "shell.execute_reply.started": "2024-03-12T09:56:49.070170Z"
    }
   },
   "outputs": [],
   "source": [
    "try:\n",
    "    x=3/0\n",
    "except:\n",
    "    x=1"
   ]
  },
  {
   "cell_type": "markdown",
   "id": "6eab7df4-bc3a-4b19-8765-3f75643e3647",
   "metadata": {},
   "source": [
    "# 2\n",
    "```\n",
    "tips.dtypes\n",
    "cat_columns = tips.select_dtypes(['category']).columns\n",
    "tips[cat_columns] = tips[cat_columns].apply(lambda x: x.cat.codes)\n",
    "\n",
    "```"
   ]
  },
  {
   "cell_type": "markdown",
   "id": "41d543f4-6a4d-43e3-a7bd-2ecd5d4c22dc",
   "metadata": {},
   "source": [
    "# 3\n",
    "\n",
    "weekly=df.resample('W').sum()"
   ]
  },
  {
   "cell_type": "markdown",
   "id": "e2a8bca5-585b-4130-9cf3-4a84f48de6be",
   "metadata": {},
   "source": [
    "# 4"
   ]
  },
  {
   "cell_type": "code",
   "execution_count": 5,
   "id": "c35bf12c-28af-46fa-9688-65ee3363251e",
   "metadata": {},
   "outputs": [],
   "source": [
    "from scipy.optimize import fmin_bfgs\n",
    "\n",
    "def mean_absolute_percentage_error(y_true, y_pred): \n",
    "    return np.mean(np.abs((y_true - y_pred) / y_true)) * 100\n",
    "\n",
    "f = lambda x: mean_absolute_percentage_error(true, np.repeat(x, 10000))\n",
    "\n",
    "fmin_bfgs(f, 100, epsilon=1e-6)"
   ]
  },
  {
   "cell_type": "markdown",
   "id": "208f31c2-a8df-4c51-b439-81569243ac31",
   "metadata": {},
   "source": [
    "#  5"
   ]
  },
  {
   "cell_type": "code",
   "execution_count": 3,
   "id": "cabdf7f4-cc41-4fe1-9f75-9bf5db65c9c1",
   "metadata": {
    "execution": {
     "iopub.execute_input": "2024-03-12T10:19:59.754061Z",
     "iopub.status.busy": "2024-03-12T10:19:59.753444Z",
     "iopub.status.idle": "2024-03-12T10:20:00.255809Z",
     "shell.execute_reply": "2024-03-12T10:20:00.255325Z",
     "shell.execute_reply.started": "2024-03-12T10:19:59.754001Z"
    }
   },
   "outputs": [],
   "source": [
    "from scipy.stats import chi2"
   ]
  },
  {
   "cell_type": "code",
   "execution_count": 4,
   "id": "796ce5ed-7dfd-4dd6-9538-6b4c52213e98",
   "metadata": {
    "execution": {
     "iopub.execute_input": "2024-03-12T10:20:01.411238Z",
     "iopub.status.busy": "2024-03-12T10:20:01.410277Z",
     "iopub.status.idle": "2024-03-12T10:20:01.445335Z",
     "shell.execute_reply": "2024-03-12T10:20:01.444572Z",
     "shell.execute_reply.started": "2024-03-12T10:20:01.411200Z"
    }
   },
   "outputs": [
    {
     "data": {
      "text/plain": [
       "3.218875824868201"
      ]
     },
     "execution_count": 4,
     "metadata": {},
     "output_type": "execute_result"
    }
   ],
   "source": [
    "chi2.ppf(.8, df=2) #"
   ]
  },
  {
   "cell_type": "code",
   "execution_count": 7,
   "id": "7da831d1-221d-4449-a191-bb28f8339afe",
   "metadata": {
    "execution": {
     "iopub.execute_input": "2024-03-12T10:20:53.008831Z",
     "iopub.status.busy": "2024-03-12T10:20:53.008659Z",
     "iopub.status.idle": "2024-03-12T10:20:53.013331Z",
     "shell.execute_reply": "2024-03-12T10:20:53.012609Z",
     "shell.execute_reply.started": "2024-03-12T10:20:53.008816Z"
    }
   },
   "outputs": [
    {
     "data": {
      "text/plain": [
       "0.0"
      ]
     },
     "execution_count": 7,
     "metadata": {},
     "output_type": "execute_result"
    }
   ],
   "source": [
    "chi2.pdf(0, df=4)"
   ]
  },
  {
   "cell_type": "code",
   "execution_count": 10,
   "id": "bfd73f08-7a23-486e-b20c-a9627cd2fe7d",
   "metadata": {
    "execution": {
     "iopub.execute_input": "2024-03-12T10:22:55.999882Z",
     "iopub.status.busy": "2024-03-12T10:22:55.999618Z",
     "iopub.status.idle": "2024-03-12T10:22:56.003803Z",
     "shell.execute_reply": "2024-03-12T10:22:56.003271Z",
     "shell.execute_reply.started": "2024-03-12T10:22:55.999845Z"
    }
   },
   "outputs": [
    {
     "data": {
      "text/plain": [
       "array([ 9.83206793,  4.12880702, 11.15842783,  4.79741694])"
      ]
     },
     "execution_count": 10,
     "metadata": {},
     "output_type": "execute_result"
    }
   ],
   "source": [
    "chi2.rvs(5, size=4)"
   ]
  },
  {
   "cell_type": "markdown",
   "id": "05624eec-791e-4861-b87a-0702fbf9bf03",
   "metadata": {},
   "source": [
    "# 6"
   ]
  },
  {
   "cell_type": "code",
   "execution_count": null,
   "id": "19be7b3c-d07e-48d5-8870-b916916f1468",
   "metadata": {},
   "outputs": [],
   "source": [
    "airports = airports.replace('\\\\N', np.nan)\n",
    "result = aus_routes_stacked.merge(airports[['IATA','Country', 'City', 'Name']],left_on='IATA', right_on='IATA' , how='inner' )\n",
    "answer = airports.groupby('Country')['Fly'].nlargest(3)\n",
    "airports[airports['Tz_database_time_zone'].str.contains(\"Europe\")]['Country'].unique()"
   ]
  },
  {
   "cell_type": "markdown",
   "id": "2d37e10b-93dc-4e5b-845d-c983ab856e96",
   "metadata": {},
   "source": [
    "# 7 "
   ]
  },
  {
   "cell_type": "code",
   "execution_count": 11,
   "id": "3acb83fb-b9d5-4960-a496-5549efd2dc8c",
   "metadata": {
    "ExecuteTime": {
     "end_time": "2022-04-24T10:38:56.375216Z",
     "start_time": "2022-04-24T10:38:56.372054Z"
    },
    "execution": {
     "iopub.execute_input": "2024-03-12T10:37:22.859595Z",
     "iopub.status.busy": "2024-03-12T10:37:22.859331Z",
     "iopub.status.idle": "2024-03-12T10:37:22.862849Z",
     "shell.execute_reply": "2024-03-12T10:37:22.862289Z",
     "shell.execute_reply.started": "2024-03-12T10:37:22.859572Z"
    }
   },
   "outputs": [],
   "source": [
    "mas = [1,2,2,3]"
   ]
  },
  {
   "cell_type": "code",
   "execution_count": 68,
   "id": "5124a246-7c8e-4d74-80c2-8f8a1680cf5d",
   "metadata": {
    "ExecuteTime": {
     "end_time": "2022-04-24T10:48:19.401303Z",
     "start_time": "2022-04-24T10:48:19.397297Z"
    }
   },
   "outputs": [
    {
     "data": {
      "text/plain": [
       "4"
      ]
     },
     "execution_count": 68,
     "metadata": {},
     "output_type": "execute_result"
    }
   ],
   "source": [
    "bool_mas = []\n",
    "a = 0\n",
    "if i >=2:\n",
    "    for i in range(len(mas)):\n",
    "        bool_mas.append(mas[i] == 2)\n",
    "        a += 1\n",
    "sum(bool_mas)\n",
    "a"
   ]
  },
  {
   "cell_type": "code",
   "execution_count": 14,
   "id": "61742c22-5555-41c4-8477-032f42ec57d5",
   "metadata": {
    "ExecuteTime": {
     "end_time": "2022-04-24T10:43:59.661408Z",
     "start_time": "2022-04-24T10:43:59.658628Z"
    },
    "execution": {
     "iopub.execute_input": "2024-03-12T10:38:14.415816Z",
     "iopub.status.busy": "2024-03-12T10:38:14.415319Z",
     "iopub.status.idle": "2024-03-12T10:38:14.420093Z",
     "shell.execute_reply": "2024-03-12T10:38:14.419435Z",
     "shell.execute_reply.started": "2024-03-12T10:38:14.415789Z"
    }
   },
   "outputs": [
    {
     "data": {
      "text/plain": [
       "[True, True, False]"
      ]
     },
     "execution_count": 14,
     "metadata": {},
     "output_type": "execute_result"
    }
   ],
   "source": [
    "bool_mas = [i==2 for i in mas if i>=2]\n",
    "bool_mas"
   ]
  },
  {
   "cell_type": "code",
   "execution_count": 128,
   "id": "3b0f76a6-825d-445d-8b5e-a1c4edd564ae",
   "metadata": {
    "ExecuteTime": {
     "end_time": "2022-04-24T11:07:06.138209Z",
     "start_time": "2022-04-24T11:07:06.134388Z"
    }
   },
   "outputs": [
    {
     "data": {
      "text/plain": [
       "'Yes'"
      ]
     },
     "execution_count": 128,
     "metadata": {},
     "output_type": "execute_result"
    }
   ],
   "source": [
    "('Yes' if b//2==2 else 'No')"
   ]
  },
  {
   "cell_type": "markdown",
   "id": "d7ba7eda-0bf1-4100-adab-a401eb895ab1",
   "metadata": {},
   "source": [
    "# 8"
   ]
  },
  {
   "cell_type": "code",
   "execution_count": 15,
   "id": "f2bf75ee",
   "metadata": {
    "ExecuteTime": {
     "end_time": "2022-04-24T11:19:29.876770Z",
     "start_time": "2022-04-24T11:19:29.874879Z"
    },
    "execution": {
     "iopub.execute_input": "2024-03-12T10:41:12.012618Z",
     "iopub.status.busy": "2024-03-12T10:41:12.012339Z",
     "iopub.status.idle": "2024-03-12T10:41:12.017217Z",
     "shell.execute_reply": "2024-03-12T10:41:12.016451Z",
     "shell.execute_reply.started": "2024-03-12T10:41:12.012592Z"
    }
   },
   "outputs": [
    {
     "data": {
      "text/plain": [
       "'all'"
      ]
     },
     "execution_count": 15,
     "metadata": {},
     "output_type": "execute_result"
    }
   ],
   "source": [
    "names_dict = {1:'Mary', 2:'Petr', 'names':'all' }\n",
    "names_dict['names']"
   ]
  },
  {
   "cell_type": "code",
   "execution_count": 37,
   "id": "d841020a",
   "metadata": {
    "ExecuteTime": {
     "end_time": "2022-04-24T11:22:42.190629Z",
     "start_time": "2022-04-24T11:22:42.187220Z"
    },
    "execution": {
     "iopub.execute_input": "2024-03-12T10:44:23.555230Z",
     "iopub.status.busy": "2024-03-12T10:44:23.554114Z",
     "iopub.status.idle": "2024-03-12T10:44:23.583191Z",
     "shell.execute_reply": "2024-03-12T10:44:23.582073Z",
     "shell.execute_reply.started": "2024-03-12T10:44:23.555213Z"
    }
   },
   "outputs": [],
   "source": [
    "# zip "
   ]
  },
  {
   "cell_type": "code",
   "execution_count": null,
   "id": "0e78b4f1-b296-4680-b29e-619d311fbf82",
   "metadata": {
    "ExecuteTime": {
     "end_time": "2022-04-24T11:26:03.865163Z",
     "start_time": "2022-04-24T11:26:03.860014Z"
    },
    "execution": {
     "iopub.execute_input": "2024-03-12T10:41:20.465826Z",
     "iopub.status.busy": "2024-03-12T10:41:20.465140Z",
     "iopub.status.idle": "2024-03-12T10:41:20.470856Z",
     "shell.execute_reply": "2024-03-12T10:41:20.470129Z",
     "shell.execute_reply.started": "2024-03-12T10:41:20.465797Z"
    }
   },
   "outputs": [],
   "source": [
    "a = [1,2,3,4]\n",
    "b = ['a','b','c']\n",
    "zip(a,b)\n",
    "\n",
    "for i in [a,b]: \n",
    "    print(i[0])\n",
    "\n",
    "list(zip(a,b))"
   ]
  },
  {
   "cell_type": "code",
   "execution_count": null,
   "id": "452592d2-0ffd-4082-8dbc-f0a845d8690f",
   "metadata": {
    "ExecuteTime": {
     "end_time": "2022-04-24T11:30:40.401892Z",
     "start_time": "2022-04-24T11:30:40.398964Z"
    }
   },
   "outputs": [],
   "source": [
    "def summing(*values):\n",
    "    res = 0 \n",
    "    for i in values:\n",
    "        res += i\n",
    "    return res\n",
    "\n",
    "summing(1,10,3,4)"
   ]
  },
  {
   "cell_type": "code",
   "execution_count": null,
   "id": "f538939d-e374-4cf3-94ff-dd76e1f71bf5",
   "metadata": {
    "ExecuteTime": {
     "end_time": "2022-04-24T11:32:17.210522Z",
     "start_time": "2022-04-24T11:32:17.208254Z"
    },
    "execution": {
     "iopub.execute_input": "2024-03-12T10:42:26.779623Z",
     "iopub.status.busy": "2024-03-12T10:42:26.778852Z",
     "iopub.status.idle": "2024-03-12T10:42:26.787227Z",
     "shell.execute_reply": "2024-03-12T10:42:26.785618Z",
     "shell.execute_reply.started": "2024-03-12T10:42:26.779556Z"
    }
   },
   "outputs": [],
   "source": [
    "def summing(a,list_1=[]):\n",
    "    list_1.append(a)\n",
    "    print(list_1)\n",
    "    return sum(list_1)\n",
    "\n",
    "summing(1)\n",
    "\n",
    "summing(5)\n",
    "\n",
    "summing(1, [0,0,0])\n",
    "\n",
    "summing(1, [])\n",
    "\n",
    "summing(2, [])"
   ]
  },
  {
   "cell_type": "code",
   "execution_count": null,
   "id": "640a2c6a-4a55-4144-9344-a4248a7e3981",
   "metadata": {
    "ExecuteTime": {
     "end_time": "2022-04-24T11:35:10.742316Z",
     "start_time": "2022-04-24T11:35:10.739193Z"
    },
    "execution": {
     "iopub.execute_input": "2024-03-12T10:42:44.538944Z",
     "iopub.status.busy": "2024-03-12T10:42:44.538236Z",
     "iopub.status.idle": "2024-03-12T10:42:44.544899Z",
     "shell.execute_reply": "2024-03-12T10:42:44.544153Z",
     "shell.execute_reply.started": "2024-03-12T10:42:44.538880Z"
    }
   },
   "outputs": [],
   "source": [
    "def summing(a,list_1=None):\n",
    "    if list_1 is None:\n",
    "        list_1 = []\n",
    "    list_1.append(a)\n",
    "    print(list_1)\n",
    "    return sum(list_1)\n",
    "\n",
    "summing(10)"
   ]
  },
  {
   "cell_type": "code",
   "execution_count": null,
   "id": "e89f488f-9914-4a66-a80c-cf060e146340",
   "metadata": {
    "ExecuteTime": {
     "end_time": "2022-04-24T11:37:33.433054Z",
     "start_time": "2022-04-24T11:37:33.429748Z"
    },
    "execution": {
     "iopub.execute_input": "2024-03-12T10:42:51.907009Z",
     "iopub.status.busy": "2024-03-12T10:42:51.906688Z",
     "iopub.status.idle": "2024-03-12T10:42:51.911530Z",
     "shell.execute_reply": "2024-03-12T10:42:51.910589Z",
     "shell.execute_reply.started": "2024-03-12T10:42:51.906981Z"
    }
   },
   "outputs": [],
   "source": [
    "# lambda functions:\n",
    "sq = lambda x: x**2\n",
    "\n",
    "sq(4)"
   ]
  },
  {
   "cell_type": "code",
   "execution_count": null,
   "id": "fe195174-8422-4b56-9965-d610ac29bcbd",
   "metadata": {
    "ExecuteTime": {
     "end_time": "2022-04-24T11:37:34.115814Z",
     "start_time": "2022-04-24T11:37:34.113874Z"
    },
    "execution": {
     "iopub.execute_input": "2024-03-12T10:42:52.728205Z",
     "iopub.status.busy": "2024-03-12T10:42:52.727336Z",
     "iopub.status.idle": "2024-03-12T10:42:52.738641Z",
     "shell.execute_reply": "2024-03-12T10:42:52.736283Z",
     "shell.execute_reply.started": "2024-03-12T10:42:52.728136Z"
    }
   },
   "outputs": [],
   "source": [
    "sq2 = lambda x,y: x**2+y\n",
    "\n",
    "sq2(2,10)"
   ]
  },
  {
   "cell_type": "code",
   "execution_count": 36,
   "id": "6f748ecd-3702-4c50-b5ca-657bfb586382",
   "metadata": {
    "ExecuteTime": {
     "end_time": "2022-04-24T11:39:38.681144Z",
     "start_time": "2022-04-24T11:39:38.677584Z"
    },
    "execution": {
     "iopub.execute_input": "2024-03-12T10:43:41.967704Z",
     "iopub.status.busy": "2024-03-12T10:43:41.967010Z",
     "iopub.status.idle": "2024-03-12T10:43:41.981253Z",
     "shell.execute_reply": "2024-03-12T10:43:41.979518Z",
     "shell.execute_reply.started": "2024-03-12T10:43:41.967637Z"
    }
   },
   "outputs": [
    {
     "data": {
      "text/plain": [
       "[2, 4, 7]"
      ]
     },
     "execution_count": 36,
     "metadata": {},
     "output_type": "execute_result"
    }
   ],
   "source": [
    "a = [1,3,6]\n",
    "map(lambda i: i+1, a)\n",
    "list(map(lambda i: i+1, a))"
   ]
  },
  {
   "cell_type": "markdown",
   "id": "d25f930c-e83d-4e00-808e-1c8ce19341da",
   "metadata": {},
   "source": [
    "#  9"
   ]
  },
  {
   "cell_type": "code",
   "execution_count": null,
   "id": "32639aee-cb84-48bc-9c5b-77c6b7b62a3c",
   "metadata": {
    "execution": {
     "iopub.execute_input": "2024-03-12T10:47:11.812441Z",
     "iopub.status.busy": "2024-03-12T10:47:11.811678Z",
     "iopub.status.idle": "2024-03-12T10:47:11.826150Z",
     "shell.execute_reply": "2024-03-12T10:47:11.823631Z",
     "shell.execute_reply.started": "2024-03-12T10:47:11.812376Z"
    }
   },
   "outputs": [],
   "source": [
    "a = tuple('hello, world!')\n",
    "a =list(a)\n",
    "\n",
    "a[1], a[2] =a [2], a[1] \n",
    "\n",
    "a"
   ]
  },
  {
   "cell_type": "markdown",
   "id": "eb033c24-3275-416f-8301-b44311bb05cc",
   "metadata": {},
   "source": [
    "#  10"
   ]
  },
  {
   "cell_type": "code",
   "execution_count": 44,
   "id": "d5a7d467-279a-4250-9263-5b3a5d00368e",
   "metadata": {
    "execution": {
     "iopub.execute_input": "2024-03-12T10:49:21.791215Z",
     "iopub.status.busy": "2024-03-12T10:49:21.790314Z",
     "iopub.status.idle": "2024-03-12T10:49:21.797643Z",
     "shell.execute_reply": "2024-03-12T10:49:21.796870Z",
     "shell.execute_reply.started": "2024-03-12T10:49:21.791152Z"
    }
   },
   "outputs": [
    {
     "name": "stdout",
     "output_type": "stream",
     "text": [
      "<enumerate object at 0x7f1d62b86ac0>\n"
     ]
    },
    {
     "data": {
      "text/plain": [
       "[(0, 'a'), (1, 'b'), (2, 'c')]"
      ]
     },
     "execution_count": 44,
     "metadata": {},
     "output_type": "execute_result"
    }
   ],
   "source": [
    "my_list = ['a', 'b', 'c']\n",
    "print(enumerate(my_list))\n",
    "list(enumerate(my_list))"
   ]
  },
  {
   "cell_type": "code",
   "execution_count": 45,
   "id": "a2134057-fa1a-4717-812e-4eb8b01c531f",
   "metadata": {
    "execution": {
     "iopub.execute_input": "2024-03-12T10:49:42.179535Z",
     "iopub.status.busy": "2024-03-12T10:49:42.178836Z",
     "iopub.status.idle": "2024-03-12T10:49:42.189850Z",
     "shell.execute_reply": "2024-03-12T10:49:42.187507Z",
     "shell.execute_reply.started": "2024-03-12T10:49:42.179470Z"
    }
   },
   "outputs": [
    {
     "name": "stdout",
     "output_type": "stream",
     "text": [
      "0 a\n",
      "1 b\n",
      "2 c\n"
     ]
    }
   ],
   "source": [
    "for index, value in enumerate(my_list):\n",
    "    print(index, value)"
   ]
  },
  {
   "cell_type": "markdown",
   "id": "c3cfac48-35f8-4cb7-9fc5-66343af483d8",
   "metadata": {},
   "source": [
    "# 11"
   ]
  },
  {
   "cell_type": "code",
   "execution_count": null,
   "id": "c5c5a297-18f1-4db2-be5b-870e831dd4f7",
   "metadata": {},
   "outputs": [],
   "source": []
  },
  {
   "cell_type": "markdown",
   "id": "73c5be18-b0f5-412b-b205-835df5ff97c9",
   "metadata": {},
   "source": [
    "Аргументом функции может быть другая функция"
   ]
  },
  {
   "cell_type": "code",
   "execution_count": 88,
   "id": "c68a9d63-b771-4f6b-b479-de759663716a",
   "metadata": {},
   "outputs": [
    {
     "name": "stdout",
     "output_type": "stream",
     "text": [
      "30\n"
     ]
    }
   ],
   "source": [
    "def applicator(function, argument):\n",
    "    return function(argument)\n",
    "\n",
    "def f(x):\n",
    "    return x + 5\n",
    "\n",
    "def g(x):\n",
    "    return x * 5\n",
    "\n",
    "print(applicator(g, applicator(f, 1)))"
   ]
  },
  {
   "cell_type": "markdown",
   "id": "db68505c-bcb0-45dc-b26e-a288c8be87ed",
   "metadata": {},
   "source": [
    "Результатом работы функции может быть другая функция"
   ]
  },
  {
   "cell_type": "code",
   "execution_count": 86,
   "id": "7523819a-b419-4101-becf-ed676f37b0f7",
   "metadata": {},
   "outputs": [
    {
     "name": "stdout",
     "output_type": "stream",
     "text": [
      "30\n"
     ]
    }
   ],
   "source": [
    "def combinator(function1, function2):\n",
    "    def function3(x):\n",
    "        return function1(function2(x))\n",
    "    return function3\n",
    "\n",
    "fun = combinator(g, f)\n",
    "print(fun(1))"
   ]
  },
  {
   "cell_type": "markdown",
   "id": "f05bffd0-323b-4e25-a0ae-e29402cc4e43",
   "metadata": {
    "ExecuteTime": {
     "end_time": "2022-04-24T11:18:22.581234Z",
     "start_time": "2022-04-24T11:18:22.579285Z"
    }
   },
   "source": [
    "# 12"
   ]
  },
  {
   "cell_type": "code",
   "execution_count": null,
   "id": "9252b00b-6100-40d0-862b-0ae41cf0adbf",
   "metadata": {},
   "outputs": [],
   "source": []
  },
  {
   "cell_type": "markdown",
   "id": "b4af25c2-7c5c-4817-8861-211166db451d",
   "metadata": {},
   "source": [
    "#### аргументы по умолчанию"
   ]
  },
  {
   "cell_type": "code",
   "execution_count": 91,
   "id": "af236dff-adb7-4c47-8bd5-d6f11c354a84",
   "metadata": {},
   "outputs": [],
   "source": [
    "f = lambda x=1, y=5: x+y"
   ]
  },
  {
   "cell_type": "code",
   "execution_count": 95,
   "id": "a245061b-b5dd-4c31-ad24-913a656c6cc8",
   "metadata": {},
   "outputs": [
    {
     "data": {
      "text/plain": [
       "6"
      ]
     },
     "execution_count": 95,
     "metadata": {},
     "output_type": "execute_result"
    }
   ],
   "source": [
    "f()"
   ]
  },
  {
   "cell_type": "code",
   "execution_count": 96,
   "id": "cf7842e9-9acd-46df-b558-a9a2379da325",
   "metadata": {},
   "outputs": [
    {
     "data": {
      "text/plain": [
       "8"
      ]
     },
     "execution_count": 96,
     "metadata": {},
     "output_type": "execute_result"
    }
   ],
   "source": [
    "f(3)"
   ]
  },
  {
   "cell_type": "code",
   "execution_count": 97,
   "id": "83c7f894-7fe9-4bef-8235-c935b60fd685",
   "metadata": {},
   "outputs": [
    {
     "data": {
      "text/plain": [
       "4"
      ]
     },
     "execution_count": 97,
     "metadata": {},
     "output_type": "execute_result"
    }
   ],
   "source": [
    "f(y=3)"
   ]
  },
  {
   "cell_type": "code",
   "execution_count": null,
   "id": "1febfcd1-34da-4515-8d75-30272fb5fc18",
   "metadata": {},
   "outputs": [],
   "source": []
  },
  {
   "cell_type": "code",
   "execution_count": null,
   "id": "599b016c-f65f-4432-b851-22d17499bef0",
   "metadata": {},
   "outputs": [],
   "source": []
  },
  {
   "cell_type": "code",
   "execution_count": 112,
   "id": "ee99da19-fa18-4fab-ba4d-325aeecefd56",
   "metadata": {},
   "outputs": [],
   "source": [
    "my_list = [0, 0, -1, -2, -3, 4, 3, 2, 5]"
   ]
  },
  {
   "cell_type": "code",
   "execution_count": 114,
   "id": "8680ebc7-c8e9-4098-b0fd-8f90fd3a42dd",
   "metadata": {},
   "outputs": [
    {
     "data": {
      "text/plain": [
       "[0, 0, 1, 2, 3, 4, 3, 2, 5]"
      ]
     },
     "execution_count": 114,
     "metadata": {},
     "output_type": "execute_result"
    }
   ],
   "source": [
    "list(map(lambda x: abs(x), my_list))"
   ]
  },
  {
   "cell_type": "code",
   "execution_count": 116,
   "id": "97a11823-c452-43bd-8c32-bdb7eb51bb87",
   "metadata": {},
   "outputs": [
    {
     "data": {
      "text/plain": [
       "[4, 3, 2, 5]"
      ]
     },
     "execution_count": 116,
     "metadata": {},
     "output_type": "execute_result"
    }
   ],
   "source": [
    "list(filter(lambda x: x > 0, my_list))"
   ]
  },
  {
   "cell_type": "code",
   "execution_count": null,
   "id": "c9907c99-587a-47dc-b1ea-52c264196f78",
   "metadata": {},
   "outputs": [],
   "source": []
  },
  {
   "cell_type": "code",
   "execution_count": null,
   "id": "8f3c258b-5efa-4b35-b16c-d304763b3e8a",
   "metadata": {},
   "outputs": [],
   "source": []
  },
  {
   "cell_type": "code",
   "execution_count": null,
   "id": "08d495b2-5e56-4323-ab56-a25f6c517745",
   "metadata": {},
   "outputs": [],
   "source": []
  },
  {
   "cell_type": "markdown",
   "id": "d74dadaf-7f58-4653-8571-38450cf84b89",
   "metadata": {},
   "source": [
    "###  break, continue, pass"
   ]
  },
  {
   "cell_type": "code",
   "execution_count": 36,
   "id": "a66c0db3-bb7f-49a8-87d5-0e162d5e4da6",
   "metadata": {},
   "outputs": [
    {
     "name": "stdout",
     "output_type": "stream",
     "text": [
      "1\n",
      "2\n",
      "3\n",
      "4\n",
      "6\n",
      "7\n",
      "8\n",
      "9\n",
      "10\n",
      "11\n",
      "12\n",
      "13\n",
      "14\n",
      "Out of loop\n"
     ]
    }
   ],
   "source": [
    "number = 0\n",
    "\n",
    "for number in range(20):\n",
    "    number = number + 1\n",
    "    \n",
    "    if number == 5:\n",
    "        continue    # continue here\n",
    "        \n",
    "    if number == 10:\n",
    "        pass # pass statement allows you to handle the condition without the loop being impacted in any way\n",
    "    \n",
    "    if number == 15:\n",
    "        break    # break here\n",
    "        \n",
    "    print(number)\n",
    "\n",
    "print('Out of loop')"
   ]
  },
  {
   "cell_type": "code",
   "execution_count": null,
   "id": "2263d1eb-badf-4824-b277-4b32f57f3e39",
   "metadata": {},
   "outputs": [],
   "source": []
  },
  {
   "cell_type": "code",
   "execution_count": null,
   "id": "e1d9b607-978e-449b-b225-63a6e2c6eb51",
   "metadata": {},
   "outputs": [],
   "source": []
  },
  {
   "cell_type": "code",
   "execution_count": 45,
   "id": "f0e238e5-04f8-4561-9613-1d8e5436f654",
   "metadata": {},
   "outputs": [
    {
     "name": "stdout",
     "output_type": "stream",
     "text": [
      "Введите целое число: 2,5\n",
      "Неверное число\n",
      "invalid literal for int() with base 10: '2,5'\n",
      "['__cause__', '__class__', '__context__', '__delattr__', '__dict__', '__dir__', '__doc__', '__eq__', '__format__', '__ge__', '__getattribute__', '__gt__', '__hash__', '__init__', '__init_subclass__', '__le__', '__lt__', '__ne__', '__new__', '__reduce__', '__reduce_ex__', '__repr__', '__setattr__', '__setstate__', '__sizeof__', '__str__', '__subclasshook__', '__suppress_context__', '__traceback__', 'args', 'with_traceback']\n"
     ]
    }
   ],
   "source": [
    "try:\n",
    "    a = int(input(\"Введите целое число: \"))\n",
    "    print(a + 10)\n",
    "except ValueError as ve:\n",
    "    print(\"Неверное число\")\n",
    "    print(ve)\n",
    "    print(dir(ve))"
   ]
  },
  {
   "cell_type": "code",
   "execution_count": 47,
   "id": "08b16b2d-3bf0-4e0b-8452-8da36bb6d4ac",
   "metadata": {},
   "outputs": [
    {
     "name": "stdout",
     "output_type": "stream",
     "text": [
      "Введите номер карты (16 цифр): 42\n"
     ]
    },
    {
     "ename": "ValueError",
     "evalue": "Неверный формат номера",
     "output_type": "error",
     "traceback": [
      "\u001b[0;31m---------------------------------------------------------------------------\u001b[0m",
      "\u001b[0;31mValueError\u001b[0m                                Traceback (most recent call last)",
      "\u001b[0;32m<ipython-input-47-bfa0ee7c897a>\u001b[0m in \u001b[0;36m<module>\u001b[0;34m()\u001b[0m\n\u001b[1;32m      6\u001b[0m     \u001b[0;32mreturn\u001b[0m \u001b[0mcard_number\u001b[0m\u001b[0;34m\u001b[0m\u001b[0m\n\u001b[1;32m      7\u001b[0m \u001b[0;34m\u001b[0m\u001b[0m\n\u001b[0;32m----> 8\u001b[0;31m \u001b[0mget_card_number\u001b[0m\u001b[0;34m(\u001b[0m\u001b[0;34m)\u001b[0m\u001b[0;34m\u001b[0m\u001b[0m\n\u001b[0m",
      "\u001b[0;32m<ipython-input-47-bfa0ee7c897a>\u001b[0m in \u001b[0;36mget_card_number\u001b[0;34m()\u001b[0m\n\u001b[1;32m      3\u001b[0m     \u001b[0mcard_number\u001b[0m \u001b[0;34m=\u001b[0m \u001b[0;34m\"\"\u001b[0m\u001b[0;34m.\u001b[0m\u001b[0mjoin\u001b[0m\u001b[0;34m(\u001b[0m\u001b[0mcard_number\u001b[0m\u001b[0;34m.\u001b[0m\u001b[0mstrip\u001b[0m\u001b[0;34m(\u001b[0m\u001b[0;34m)\u001b[0m\u001b[0;34m.\u001b[0m\u001b[0msplit\u001b[0m\u001b[0;34m(\u001b[0m\u001b[0;34m)\u001b[0m\u001b[0;34m)\u001b[0m\u001b[0;34m\u001b[0m\u001b[0m\n\u001b[1;32m      4\u001b[0m     \u001b[0;32mif\u001b[0m \u001b[0;32mnot\u001b[0m \u001b[0;34m(\u001b[0m\u001b[0mcard_number\u001b[0m\u001b[0;34m.\u001b[0m\u001b[0misdigit\u001b[0m\u001b[0;34m(\u001b[0m\u001b[0;34m)\u001b[0m \u001b[0;32mand\u001b[0m \u001b[0mlen\u001b[0m\u001b[0;34m(\u001b[0m\u001b[0mcard_number\u001b[0m\u001b[0;34m)\u001b[0m \u001b[0;34m==\u001b[0m \u001b[0;36m16\u001b[0m\u001b[0;34m)\u001b[0m\u001b[0;34m:\u001b[0m\u001b[0;34m\u001b[0m\u001b[0m\n\u001b[0;32m----> 5\u001b[0;31m         \u001b[0;32mraise\u001b[0m \u001b[0mValueError\u001b[0m\u001b[0;34m(\u001b[0m\u001b[0;34m\"Неверный формат номера\"\u001b[0m\u001b[0;34m)\u001b[0m\u001b[0;34m\u001b[0m\u001b[0m\n\u001b[0m\u001b[1;32m      6\u001b[0m     \u001b[0;32mreturn\u001b[0m \u001b[0mcard_number\u001b[0m\u001b[0;34m\u001b[0m\u001b[0m\n\u001b[1;32m      7\u001b[0m \u001b[0;34m\u001b[0m\u001b[0m\n",
      "\u001b[0;31mValueError\u001b[0m: Неверный формат номера"
     ]
    }
   ],
   "source": [
    "def get_card_number():\n",
    "    card_number = input(\"Введите номер карты (16 цифр): \")\n",
    "    card_number = \"\".join(card_number.strip().split())\n",
    "    if not (card_number.isdigit() and len(card_number) == 16):\n",
    "        raise ValueError(\"Неверный формат номера\")\n",
    "    return card_number\n",
    "\n",
    "get_card_number()"
   ]
  },
  {
   "cell_type": "markdown",
   "id": "5b986c93-c2c9-4ee7-a158-1ad01cfd9d77",
   "metadata": {},
   "source": [
    "К одному try может быть прикреплено несколько except. Блок finally выполняется независимо от того, создано ли исключение и какого оно типа. Порядок перечисления исключений важен. Перебор закончится на первом же подходящем по условию блоке"
   ]
  },
  {
   "cell_type": "code",
   "execution_count": 49,
   "id": "1d2430c1-9800-45a9-8195-8fac5155a06c",
   "metadata": {},
   "outputs": [
    {
     "name": "stdout",
     "output_type": "stream",
     "text": [
      "0.5\n",
      "Идём дальше\n",
      "0.5714285714285714\n",
      "Идём дальше\n",
      "Поделили на 0\n",
      "Идём дальше\n",
      "Непредвиденная ошибка unsupported operand type(s) for /: 'int' and 'NoneType'\n",
      "Идём дальше\n",
      "Мы за границей списка\n",
      "Идём дальше\n",
      "Мы за границей списка\n",
      "Идём дальше\n",
      "Мы за границей списка\n",
      "Идём дальше\n",
      "Мы за границей списка\n",
      "Идём дальше\n",
      "Мы за границей списка\n",
      "Идём дальше\n",
      "Мы за границей списка\n",
      "Идём дальше\n"
     ]
    }
   ],
   "source": [
    "s = [(1, 2), (4, 7), (1, 0), (13, None)]\n",
    " \n",
    "for i in range(10):\n",
    "    try:\n",
    "        x, y = s[i]\n",
    "        print(x / y)\n",
    "    except IndexError:\n",
    "        print('Мы за границей списка')\n",
    "    except ZeroDivisionError as e:\n",
    "        print('Поделили на 0')\n",
    "    except Exception as e:\n",
    "        print('Непредвиденная ошибка %s' % e)\n",
    "    finally:\n",
    "        print('Идём дальше')\n",
    " "
   ]
  },
  {
   "cell_type": "markdown",
   "id": "80ec9b81-36ea-45cd-aa05-206ea8e186f6",
   "metadata": {},
   "source": [
    "#### Создание пользовательских типов ошибок"
   ]
  },
  {
   "cell_type": "markdown",
   "id": "3e365154-aee8-4958-ad08-bf9f683abd89",
   "metadata": {},
   "source": [
    "Exception — класс-родитель для большинства встроенных исключений. Все они могут быть приведены к типу Exception и провалились в первый же блок except."
   ]
  },
  {
   "cell_type": "code",
   "execution_count": 50,
   "id": "37d945f5-bc12-4347-8bcf-6305f7df351d",
   "metadata": {},
   "outputs": [
    {
     "name": "stdout",
     "output_type": "stream",
     "text": [
      "Введите номер карты (16 цифр): 15\n"
     ]
    },
    {
     "ename": "CardFormatError",
     "evalue": "Неверный формат номера",
     "output_type": "error",
     "traceback": [
      "\u001b[0;31m---------------------------------------------------------------------------\u001b[0m",
      "\u001b[0;31mCardFormatError\u001b[0m                           Traceback (most recent call last)",
      "\u001b[0;32m<ipython-input-50-d1c8fa47fa22>\u001b[0m in \u001b[0;36m<module>\u001b[0;34m()\u001b[0m\n\u001b[1;32m     12\u001b[0m     \u001b[0;32mreturn\u001b[0m \u001b[0mcard_number\u001b[0m\u001b[0;34m\u001b[0m\u001b[0m\n\u001b[1;32m     13\u001b[0m \u001b[0;34m\u001b[0m\u001b[0m\n\u001b[0;32m---> 14\u001b[0;31m \u001b[0mget_card_number\u001b[0m\u001b[0;34m(\u001b[0m\u001b[0;34m)\u001b[0m\u001b[0;34m\u001b[0m\u001b[0m\n\u001b[0m",
      "\u001b[0;32m<ipython-input-50-d1c8fa47fa22>\u001b[0m in \u001b[0;36mget_card_number\u001b[0;34m()\u001b[0m\n\u001b[1;32m      9\u001b[0m     \u001b[0mcard_number\u001b[0m \u001b[0;34m=\u001b[0m \u001b[0;34m\"\"\u001b[0m\u001b[0;34m.\u001b[0m\u001b[0mjoin\u001b[0m\u001b[0;34m(\u001b[0m\u001b[0mcard_number\u001b[0m\u001b[0;34m.\u001b[0m\u001b[0mstrip\u001b[0m\u001b[0;34m(\u001b[0m\u001b[0;34m)\u001b[0m\u001b[0;34m.\u001b[0m\u001b[0msplit\u001b[0m\u001b[0;34m(\u001b[0m\u001b[0;34m)\u001b[0m\u001b[0;34m)\u001b[0m\u001b[0;34m\u001b[0m\u001b[0m\n\u001b[1;32m     10\u001b[0m     \u001b[0;32mif\u001b[0m \u001b[0;32mnot\u001b[0m \u001b[0;34m(\u001b[0m\u001b[0mcard_number\u001b[0m\u001b[0;34m.\u001b[0m\u001b[0misdigit\u001b[0m\u001b[0;34m(\u001b[0m\u001b[0;34m)\u001b[0m \u001b[0;32mand\u001b[0m \u001b[0mlen\u001b[0m\u001b[0;34m(\u001b[0m\u001b[0mcard_number\u001b[0m\u001b[0;34m)\u001b[0m \u001b[0;34m==\u001b[0m \u001b[0;36m16\u001b[0m\u001b[0;34m)\u001b[0m\u001b[0;34m:\u001b[0m\u001b[0;34m\u001b[0m\u001b[0m\n\u001b[0;32m---> 11\u001b[0;31m         \u001b[0;32mraise\u001b[0m \u001b[0mCardFormatError\u001b[0m\u001b[0;34m(\u001b[0m\u001b[0;34m\"Неверный формат номера\"\u001b[0m\u001b[0;34m)\u001b[0m\u001b[0;34m\u001b[0m\u001b[0m\n\u001b[0m\u001b[1;32m     12\u001b[0m     \u001b[0;32mreturn\u001b[0m \u001b[0mcard_number\u001b[0m\u001b[0;34m\u001b[0m\u001b[0m\n\u001b[1;32m     13\u001b[0m \u001b[0;34m\u001b[0m\u001b[0m\n",
      "\u001b[0;31mCardFormatError\u001b[0m: Неверный формат номера"
     ]
    }
   ],
   "source": [
    "class CardError(Exception):\n",
    "    pass\n",
    "\n",
    "class CardFormatError(CardError):\n",
    "    pass\n",
    "\n",
    "def get_card_number():\n",
    "    card_number = input(\"Введите номер карты (16 цифр): \")\n",
    "    card_number = \"\".join(card_number.strip().split())\n",
    "    if not (card_number.isdigit() and len(card_number) == 16):\n",
    "        raise CardFormatError(\"Неверный формат номера\")\n",
    "    return card_number \n",
    "\n",
    "get_card_number()"
   ]
  },
  {
   "cell_type": "markdown",
   "id": "749b8e99-9891-42aa-aba4-e3fcab35b405",
   "metadata": {},
   "source": [
    "#### Перехват системных исключений"
   ]
  },
  {
   "cell_type": "markdown",
   "id": "3cce42d7-e7f2-4954-954a-24d441503ae7",
   "metadata": {},
   "source": [
    "В иерархии классов-исключений есть исключения SystemExit и KeyboardInterrupt.\n",
    "\n",
    "Их можно использовать. Например, нажатие комбинации Ctrl+C обычно прекращает работу программы и генерирует исключение прерывание от клавиатуры."
   ]
  },
  {
   "cell_type": "code",
   "execution_count": 52,
   "id": "4bd0faec-5451-434f-b193-87d12d940967",
   "metadata": {},
   "outputs": [
    {
     "name": "stdout",
     "output_type": "stream",
     "text": [
      "1\n",
      "2\n",
      "Действительно остановить? yes\n"
     ]
    }
   ],
   "source": [
    "from time import sleep\n",
    "a = 0\n",
    "\n",
    "while True:\n",
    "    try:\n",
    "        a += 1\n",
    "        print(a)\n",
    "        sleep(15)\n",
    "    except KeyboardInterrupt:\n",
    "        res = input('Действительно остановить? ')\n",
    "        if res == 'yes':\n",
    "            break"
   ]
  },
  {
   "cell_type": "markdown",
   "id": "26b5ceab-d776-4402-9d8c-8a4c50dec937",
   "metadata": {},
   "source": [
    "### assert"
   ]
  },
  {
   "cell_type": "markdown",
   "id": "2b1f35b8-fd45-4d60-aea9-a241dc08e25f",
   "metadata": {},
   "source": [
    "Конструкция assert — это часть Python, связанная с тестированием. Тестирование мы ещё не проходили, но это не помешает понять, как же assert работает.\n",
    "\n",
    "Можно снабдить программу разными вспомогательными проверками. Они помогут контролировать правильность исполнения. Если какое-то условие не будет выполнено, то программа аварийно остановится. Это помогает тестировать и отлаживать ПО."
   ]
  },
  {
   "cell_type": "code",
   "execution_count": 53,
   "id": "813b658d-4717-49d6-bf2f-9ff15974c38e",
   "metadata": {},
   "outputs": [
    {
     "ename": "AssertionError",
     "evalue": "",
     "output_type": "error",
     "traceback": [
      "\u001b[0;31m---------------------------------------------------------------------------\u001b[0m",
      "\u001b[0;31mAssertionError\u001b[0m                            Traceback (most recent call last)",
      "\u001b[0;32m<ipython-input-53-7a8c905dd9d7>\u001b[0m in \u001b[0;36m<module>\u001b[0;34m()\u001b[0m\n\u001b[1;32m      1\u001b[0m \u001b[0ms\u001b[0m \u001b[0;34m=\u001b[0m \u001b[0;34m[\u001b[0m\u001b[0;36m1\u001b[0m\u001b[0;34m,\u001b[0m \u001b[0;36m2\u001b[0m\u001b[0;34m,\u001b[0m \u001b[0;36m34\u001b[0m\u001b[0;34m,\u001b[0m \u001b[0;36m54\u001b[0m\u001b[0;34m,\u001b[0m \u001b[0;36m3\u001b[0m\u001b[0;34m]\u001b[0m\u001b[0;34m\u001b[0m\u001b[0m\n\u001b[0;32m----> 2\u001b[0;31m \u001b[0;32massert\u001b[0m \u001b[0mlen\u001b[0m\u001b[0;34m(\u001b[0m\u001b[0ms\u001b[0m\u001b[0;34m)\u001b[0m \u001b[0;34m==\u001b[0m \u001b[0;36m4\u001b[0m\u001b[0;34m\u001b[0m\u001b[0m\n\u001b[0m",
      "\u001b[0;31mAssertionError\u001b[0m: "
     ]
    }
   ],
   "source": [
    "s = [1, 2, 34, 54, 3]\n",
    "assert len(s) == 4"
   ]
  },
  {
   "cell_type": "code",
   "execution_count": null,
   "id": "7c3405dc-4e72-48f9-92fd-a6231bf95afb",
   "metadata": {},
   "outputs": [],
   "source": []
  },
  {
   "cell_type": "code",
   "execution_count": null,
   "id": "7c950d54-6d02-4929-9877-f0f9bceb5512",
   "metadata": {},
   "outputs": [],
   "source": []
  },
  {
   "cell_type": "markdown",
   "id": "b4f46a13-7760-49c7-b13d-a05358187802",
   "metadata": {},
   "source": [
    "# 10"
   ]
  },
  {
   "cell_type": "code",
   "execution_count": null,
   "id": "b67fffc8-884f-46bc-89c2-bb4b02620616",
   "metadata": {},
   "outputs": [],
   "source": []
  },
  {
   "cell_type": "code",
   "execution_count": null,
   "id": "d932aad0-0cb5-49ba-8ad4-50b8e9fac433",
   "metadata": {},
   "outputs": [],
   "source": []
  },
  {
   "cell_type": "markdown",
   "id": "724267a6-3d29-41cd-a192-bd64ae2b7a5e",
   "metadata": {},
   "source": [
    "### Определение операторов"
   ]
  },
  {
   "cell_type": "code",
   "execution_count": 5,
   "id": "1f292e7e-c86f-425a-9bbc-3bf5ee218e4c",
   "metadata": {},
   "outputs": [],
   "source": [
    "class  FoodInfo:\n",
    "    def __init__ (self, proteins, fats, carbohydrates):\n",
    "        self.proteins = proteins\n",
    "        self.fats = fats\n",
    "        self.carbohydrates = carbohydrates\n",
    "    def __add__ (self, other):\n",
    "        proteins1 = self.proteins + other.proteins\n",
    "        fats1 = self.fats + other.fats\n",
    "        carbohydrates1 = self.carbohydrates + other.carbohydrates\n",
    "        return (FoodInfo (proteins1, fats1, carbohydrates1))\n",
    "    def get_kcalories(self):\n",
    "        return  (4 * self.proteins + 9 * self.fats + 4 * self.carbohydrates)"
   ]
  },
  {
   "cell_type": "code",
   "execution_count": 10,
   "id": "aee46dec-b88a-45be-8592-76050cec36c1",
   "metadata": {},
   "outputs": [
    {
     "data": {
      "text/plain": [
       "510"
      ]
     },
     "execution_count": 10,
     "metadata": {},
     "output_type": "execute_result"
    }
   ],
   "source": [
    "food = FoodInfo(20,30,40)\n",
    "food.get_kcalories()"
   ]
  },
  {
   "cell_type": "code",
   "execution_count": 13,
   "id": "636c0ab2-3828-460b-bd0f-7868ba4ee956",
   "metadata": {},
   "outputs": [
    {
     "data": {
      "text/plain": [
       "1020"
      ]
     },
     "execution_count": 13,
     "metadata": {},
     "output_type": "execute_result"
    }
   ],
   "source": [
    "food2 = FoodInfo(20,30,40)\n",
    "food_sum = food + food2\n",
    "food_sum.get_kcalories()"
   ]
  },
  {
   "cell_type": "code",
   "execution_count": 20,
   "id": "49941636-925f-4c16-a5d4-95e965867193",
   "metadata": {},
   "outputs": [],
   "source": [
    "class ReversedList:\n",
    "    def __init__ (self, spisok):\n",
    "        spisok.reverse()\n",
    "        self.spisok = spisok\n",
    "    def __len__ (self):\n",
    "        return len(self.spisok)\n",
    "    def __getitem__ (self, i):\n",
    "        return self.spisok[i]"
   ]
  },
  {
   "cell_type": "code",
   "execution_count": 21,
   "id": "09bba622-7f75-474a-8564-2b0b1522555c",
   "metadata": {},
   "outputs": [
    {
     "data": {
      "text/plain": [
       "5"
      ]
     },
     "execution_count": 21,
     "metadata": {},
     "output_type": "execute_result"
    }
   ],
   "source": [
    "a = ReversedList([1,2,3,4,5])\n",
    "len(a)"
   ]
  },
  {
   "cell_type": "code",
   "execution_count": 23,
   "id": "dc664d0c-723c-4bfa-8414-fe7275b76723",
   "metadata": {},
   "outputs": [
    {
     "data": {
      "text/plain": [
       "1"
      ]
     },
     "execution_count": 23,
     "metadata": {},
     "output_type": "execute_result"
    }
   ],
   "source": [
    "a[4]"
   ]
  },
  {
   "cell_type": "code",
   "execution_count": 24,
   "id": "a940f1a0-560c-4f0b-8d99-fa6e5e7f4d89",
   "metadata": {},
   "outputs": [],
   "source": [
    "class SquareFunction:\n",
    "    def __init__ (self, a, b, c):\n",
    "        self.a = a\n",
    "        self.b = b\n",
    "        self.c = c\n",
    "    def __call__(self, x):\n",
    "        return (self.a*x*x + self.b*x + self.c)"
   ]
  },
  {
   "cell_type": "code",
   "execution_count": 27,
   "id": "ae442da0-13ce-4e79-bcb7-d356c98548c2",
   "metadata": {},
   "outputs": [
    {
     "data": {
      "text/plain": [
       "49"
      ]
     },
     "execution_count": 27,
     "metadata": {},
     "output_type": "execute_result"
    }
   ],
   "source": [
    "sqr = SquareFunction(1,2,1)\n",
    "sqr(6)"
   ]
  },
  {
   "cell_type": "code",
   "execution_count": 29,
   "id": "bda94a9f-5e25-44fe-acf8-1aefa515d1f9",
   "metadata": {},
   "outputs": [],
   "source": [
    "class Point:\n",
    "    def __init__ (self, x, y):\n",
    "        self.x = x \n",
    "        self.y = y\n",
    "    def __eq__ (self, other):\n",
    "        if (self.x == other.x) and (self.y == other.y) :\n",
    "            return (True)\n",
    "        else:\n",
    "            return (False)\n",
    "    def __ne__ (self, other):\n",
    "        if (self.x == other.x) and (self.y == other.y ):\n",
    "            return (False) \n",
    "        else:\n",
    "            return (True)        "
   ]
  },
  {
   "cell_type": "code",
   "execution_count": 31,
   "id": "1168e364-c805-46a7-a642-9168f6f009cb",
   "metadata": {},
   "outputs": [
    {
     "data": {
      "text/plain": [
       "False"
      ]
     },
     "execution_count": 31,
     "metadata": {},
     "output_type": "execute_result"
    }
   ],
   "source": [
    "poi = Point(3,8)\n",
    "poi2 = Point(8,1)\n",
    "poi == poi2"
   ]
  },
  {
   "cell_type": "code",
   "execution_count": 32,
   "id": "625b96a6-04ab-41cf-932f-be5dd1f3ee71",
   "metadata": {},
   "outputs": [
    {
     "data": {
      "text/plain": [
       "True"
      ]
     },
     "execution_count": 32,
     "metadata": {},
     "output_type": "execute_result"
    }
   ],
   "source": [
    "poi != poi2"
   ]
  },
  {
   "cell_type": "code",
   "execution_count": null,
   "id": "7d4d0d1a-230c-4a9e-acbf-6093d7d79a1f",
   "metadata": {},
   "outputs": [],
   "source": []
  },
  {
   "cell_type": "markdown",
   "id": "c1bb88eb-246f-4faa-89e9-b34450cea943",
   "metadata": {},
   "source": [
    "### ООП. Наследование"
   ]
  },
  {
   "cell_type": "markdown",
   "id": "91e513b3-d53d-469b-aa3f-75545511f77c",
   "metadata": {},
   "source": [
    "В этом уроке объясняется понятие наследования, показывается его связь с уже известными понятиями объектно-ориентированного программирования (инкапсуляция и полиморфизм), описывается синтаксис и семантика наследования в Python. Мы рассмотрим приемы применения наследования: расширение и переопределение методов. Также обсуждается множественное наследование.\n",
    "\n",
    "- Объяснение понятия наследования\n",
    "- Синтаксис наследования в Python\n",
    "- Наследование методов\n",
    "- Расширение методов\n",
    "- Использование методов наследников в базовом классе\n",
    "- Переопределение методов\n",
    "- Множественное наследование"
   ]
  },
  {
   "cell_type": "code",
   "execution_count": null,
   "id": "d0667ea8-bb62-4e6e-83d8-9275b07ae5b4",
   "metadata": {},
   "outputs": [],
   "source": [
    "class BaseObject():\n",
    "    def __init__ (self,x, y, z):\n",
    "        self.x = x\n",
    "        self.y = y\n",
    "        self.z = z\n",
    "    def get_coordinates(self):\n",
    "        return (self.x, self.y, self.z)\n",
    "class Block(BaseObject):\n",
    "    def shatter(self):\n",
    "        self.x = None\n",
    "        self.y = None\n",
    "        self.z = None\n",
    "class Entity(BaseObject):\n",
    "    def move(self, x, y, z):\n",
    "        self.x = x\n",
    "        self.y = y\n",
    "        self.z = z        \n"
   ]
  },
  {
   "cell_type": "code",
   "execution_count": 33,
   "id": "0eb5d5ba-624d-4945-b9d0-461cba485d50",
   "metadata": {},
   "outputs": [],
   "source": [
    "class Summator: \n",
    "    def __init__(self): \n",
    "        pass \n",
    "    def transform(self, n): \n",
    "        return n \n",
    "    def sum(self, N): \n",
    "        answer = 0 \n",
    "        for n in range(1, N+1): \n",
    "            answer += self.transform(n) \n",
    "        return(answer) \n",
    "class PowerSummator(Summator):\n",
    "    def __init__(self,b):\n",
    "        self.b=b\n",
    "    def transform(self,n):\n",
    "        return n**self.b\n",
    "class SquareSummator(PowerSummator): \n",
    "    def __init__(self):\n",
    "        self.b=2\n",
    "class CubeSummator(PowerSummator): \n",
    "    def __init__(self):\n",
    "        self.b=3\n",
    "\n"
   ]
  },
  {
   "cell_type": "markdown",
   "id": "88960d09-985e-4516-907e-1b270c3c67e5",
   "metadata": {},
   "source": []
  },
  {
   "cell_type": "markdown",
   "id": "a52a29dc-ebc1-4f9c-af63-18855ab61d8b",
   "metadata": {},
   "source": [
    "https://sahandsaba.com/python-classes-metaclasses.html\n",
    "\n",
    "https://jeffknupp.com/blog/2014/06/18/improve-your-python-python-classes-and-object-oriented-programming/\n",
    "\n",
    "\n",
    "- Классы, а именно создание своих классов, атрибуты (в том числе методы) класса, «магические методы».\n",
    "- Наследование, в том числе перегрузка методов и их дополнение с помощью обращения к методам базового класса через super()."
   ]
  },
  {
   "cell_type": "markdown",
   "id": "11123392-5baa-4fe3-975b-86252e7d1f0a",
   "metadata": {},
   "source": [
    "### Decorators"
   ]
  },
  {
   "cell_type": "markdown",
   "id": "537723de-f03f-49ce-b808-0b26a1d7e409",
   "metadata": {},
   "source": [
    "https://hackernoon.com/decorators-in-python-8fd0dce93c08\n",
    "\n",
    "http://book.pythontips.com/en/latest/decorators.html\n",
    "\n",
    "https://realpython.com/primer-on-python-decorators/"
   ]
  },
  {
   "cell_type": "markdown",
   "id": "dc366b0e-ef46-42a9-9f35-62c9f4d63ffd",
   "metadata": {},
   "source": [
    "So, @my_decorator is just an easier way of saying say_whee = my_decorator(say_whee). It’s how you apply a decorator to a function."
   ]
  },
  {
   "cell_type": "code",
   "execution_count": 46,
   "id": "13035de7-5d2d-4a15-8cdb-dc23a4606fd8",
   "metadata": {
    "execution": {
     "iopub.execute_input": "2024-03-12T11:08:55.181379Z",
     "iopub.status.busy": "2024-03-12T11:08:55.181203Z",
     "iopub.status.idle": "2024-03-12T11:08:55.184822Z",
     "shell.execute_reply": "2024-03-12T11:08:55.184359Z",
     "shell.execute_reply.started": "2024-03-12T11:08:55.181365Z"
    }
   },
   "outputs": [],
   "source": [
    "def my_decorator(func):\n",
    "    def wrapper():\n",
    "        print(\"Something is happening before the function is called.\")\n",
    "        func()\n",
    "        print(\"Something is happening after the function is called.\")\n",
    "    return wrapper\n",
    "\n",
    "@my_decorator\n",
    "def say_whee():\n",
    "    print(\"Whee!\")\n",
    "    \n",
    "@my_decorator\n",
    "def say():\n",
    "    print(2+2)\n",
    "\n"
   ]
  },
  {
   "cell_type": "code",
   "execution_count": 47,
   "id": "f2085716-c86c-414d-9053-d164b84bcade",
   "metadata": {
    "execution": {
     "iopub.execute_input": "2024-03-12T11:08:59.910529Z",
     "iopub.status.busy": "2024-03-12T11:08:59.909769Z",
     "iopub.status.idle": "2024-03-12T11:08:59.919002Z",
     "shell.execute_reply": "2024-03-12T11:08:59.917180Z",
     "shell.execute_reply.started": "2024-03-12T11:08:59.910450Z"
    }
   },
   "outputs": [
    {
     "name": "stdout",
     "output_type": "stream",
     "text": [
      "Something is happening before the function is called.\n",
      "Whee!\n",
      "Something is happening after the function is called.\n"
     ]
    }
   ],
   "source": [
    "say_whee()"
   ]
  },
  {
   "cell_type": "code",
   "execution_count": 48,
   "id": "ddd56a8d-d943-4d81-9740-05cdb89c1b9f",
   "metadata": {
    "execution": {
     "iopub.execute_input": "2024-03-12T11:09:05.738018Z",
     "iopub.status.busy": "2024-03-12T11:09:05.737771Z",
     "iopub.status.idle": "2024-03-12T11:09:05.740772Z",
     "shell.execute_reply": "2024-03-12T11:09:05.740383Z",
     "shell.execute_reply.started": "2024-03-12T11:09:05.738003Z"
    }
   },
   "outputs": [
    {
     "name": "stdout",
     "output_type": "stream",
     "text": [
      "Something is happening before the function is called.\n",
      "4\n",
      "Something is happening after the function is called.\n"
     ]
    }
   ],
   "source": [
    "say()"
   ]
  },
  {
   "cell_type": "code",
   "execution_count": null,
   "id": "3d530a1e-2d12-4c13-9ba2-22988fe987b5",
   "metadata": {},
   "outputs": [],
   "source": []
  }
 ],
 "metadata": {
  "kernelspec": {
   "display_name": "venv",
   "language": "python",
   "name": "venv"
  },
  "language_info": {
   "codemirror_mode": {
    "name": "ipython",
    "version": 3
   },
   "file_extension": ".py",
   "mimetype": "text/x-python",
   "name": "python",
   "nbconvert_exporter": "python",
   "pygments_lexer": "ipython3",
   "version": "3.11.6"
  }
 },
 "nbformat": 4,
 "nbformat_minor": 5
}
