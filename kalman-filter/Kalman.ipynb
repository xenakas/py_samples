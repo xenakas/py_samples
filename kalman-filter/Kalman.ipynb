{
 "cells": [
  {
   "cell_type": "code",
   "execution_count": 14,
   "metadata": {},
   "outputs": [],
   "source": [
    "import cv2\n",
    "import numpy as np\n",
    "import matplotlib.pyplot as plt\n",
    "from pykalman import KalmanFilter\n",
    "import pandas as pd\n",
    "\n",
    "%matplotlib qt"
   ]
  },
  {
   "cell_type": "markdown",
   "metadata": {},
   "source": [
    "# Simple example"
   ]
  },
  {
   "cell_type": "code",
   "execution_count": 15,
   "metadata": {},
   "outputs": [],
   "source": [
    "v = 1.2\n",
    "sigma_1 = 0.1\n",
    "sigma_2 = 10\n",
    "x = 0\n",
    "E_e = sigma_2\n",
    "errors = []\n",
    "ks = []\n",
    "def make_iteration(t):\n",
    "    global x, E_e, errors, ks\n",
    "    x = x + v * t + np.random.normal(0, sigma_1)\n",
    "    k = (E_e) / sigma_2\n",
    "    ks.append(k)\n",
    "    E_e = sigma_2 * (E_e + sigma_1) / (E_e + sigma_1 + sigma_2)\n",
    "    errors.append(E_e)\n",
    "    z = x + np.random.normal(0, sigma_2)\n",
    "    return x, z"
   ]
  },
  {
   "cell_type": "code",
   "execution_count": 19,
   "metadata": {},
   "outputs": [],
   "source": [
    "xs = []\n",
    "zs = []\n",
    "for t in xrange(25):\n",
    "    x, z = make_iteration(t)\n",
    "    xs.append(x)\n",
    "    zs.append(z)"
   ]
  },
  {
   "cell_type": "code",
   "execution_count": 20,
   "metadata": {},
   "outputs": [],
   "source": [
    "f = plt.figure()\n",
    "\n",
    "ax = f.add_subplot(311)\n",
    "ax.set_xlabel(\"Epochs\")\n",
    "ax.set_ylabel(\"X\")\n",
    "ax.plot(xs)\n",
    "ax.plot(zs)\n",
    "\n",
    "e_plot = f.add_subplot(312)\n",
    "e_plot.set_xlabel(\"Epochs\")\n",
    "e_plot.set_ylabel(\"Errors\")\n",
    "e_plot.plot(errors)\n",
    "\n",
    "k_plot = f.add_subplot(313)\n",
    "k_plot.set_xlabel(\"Epochs\")\n",
    "k_plot.set_ylabel(\"K\")\n",
    "k_plot.plot(ks)\n",
    "\n",
    "f.set_size_inches(10.5, 10.5)\n",
    "#plt.show()"
   ]
  },
  {
   "cell_type": "markdown",
   "metadata": {},
   "source": [
    "## SNP example"
   ]
  },
  {
   "cell_type": "code",
   "execution_count": 22,
   "metadata": {},
   "outputs": [],
   "source": [
    "snp_data = pd.read_csv(\"snp5y.csv\")"
   ]
  },
  {
   "cell_type": "code",
   "execution_count": 23,
   "metadata": {},
   "outputs": [],
   "source": [
    "from pykalman import KalmanFilter\n",
    "kf = KalmanFilter(initial_state_mean=0, n_dim_obs=1)"
   ]
  },
  {
   "cell_type": "code",
   "execution_count": 7,
   "metadata": {},
   "outputs": [
    {
     "name": "stderr",
     "output_type": "stream",
     "text": [
      "/Users/xand/anaconda2/envs/kalman/lib/python2.7/site-packages/scipy/linalg/basic.py:1226: RuntimeWarning: internal gelsd driver lwork query error, required iwork dimension not returned. This is likely the result of LAPACK bug 0038, fixed in LAPACK 3.2.2 (released July 21, 2010). Falling back to 'gelss' driver.\n",
      "  warnings.warn(mesg, RuntimeWarning)\n"
     ]
    }
   ],
   "source": [
    "(result, covariances) = kf.smooth(snp_data[\"Open\"])"
   ]
  },
  {
   "cell_type": "code",
   "execution_count": 24,
   "metadata": {},
   "outputs": [
    {
     "name": "stdout",
     "output_type": "stream",
     "text": [
      "(1260,)\n"
     ]
    }
   ],
   "source": [
    "print covariances.ravel().shape"
   ]
  },
  {
   "cell_type": "code",
   "execution_count": 25,
   "metadata": {},
   "outputs": [],
   "source": [
    "f = plt.figure()\n",
    "\n",
    "result_subplot = f.add_subplot(211)\n",
    "open_pr = result_subplot.plot(snp_data[\"Open\"][:100], 'g-', label='Open price')\n",
    "result_pr = result_subplot.plot(result[:100], 'b-', label='Kalman smoothing')\n",
    "handles, labels = result_subplot.get_legend_handles_labels()\n",
    "result_subplot.legend(handles, labels)\n",
    "\n",
    "\n",
    "covariance_subplot = f.add_subplot(212)\n",
    "covariance_subplot.plot(covariances.ravel())\n",
    "f.show()"
   ]
  },
  {
   "cell_type": "markdown",
   "metadata": {},
   "source": [
    "# Proves"
   ]
  },
  {
   "cell_type": "markdown",
   "metadata": {},
   "source": [
    "Theorem: $E(e_{k + 1}^2) = (1 - K)^2(Ee_{k}^2 + \\sigma_{\\epsilon}^2) + K^2 * \\sigma_n^2$\n",
    "\n",
    "Знаем, что $e_{k + 1} = (1 - K) * (e_k + \\xi_k) - K * \\eta_{k + 1}$. Возведем в квадрат посчитаем матожидание\n",
    "(помним, что $E(\\xi_k) = E(\\eta_k) = 0$, $E(xi_k^2) = \\sigma_\\xi^2$, $E(\\eta_k^2) = \\sigma_\\eta^2$).\n"
   ]
  },
  {
   "cell_type": "markdown",
   "metadata": {},
   "source": [
    "Theorem: $argmin_{K} (E(e_{k + 1} ^ 2)) = \\frac{E e_k ^ 2 + \\sigma_{\\xi}^2}{Ee_k^2 + \\sigma_{\\xi}^2 + \\sigma^2_{\\eta}}$<br>\n",
    "Возьмем производную предыдущего выражения по K приравняем к 0 и выразим оттуда К.<br>\n",
    "$-2 * (1 - K) * (E(e_k^2) + \\sigma_\\xi ^ 2) + 2 * K * \\sigma_\\eta ^ 2 = 0$ -- отсюда получаем утверждение теоремы.\n"
   ]
  }
 ],
 "metadata": {
  "kernelspec": {
   "display_name": "Python 2",
   "language": "python",
   "name": "python2"
  },
  "language_info": {
   "codemirror_mode": {
    "name": "ipython",
    "version": 2
   },
   "file_extension": ".py",
   "mimetype": "text/x-python",
   "name": "python",
   "nbconvert_exporter": "python",
   "pygments_lexer": "ipython2",
   "version": "2.7.14"
  }
 },
 "nbformat": 4,
 "nbformat_minor": 2
}
